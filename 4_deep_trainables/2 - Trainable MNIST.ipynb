{
 "cells": [
  {
   "cell_type": "markdown",
   "metadata": {},
   "source": [
    "# Trainable MNIST\n",
    "\n",
    "Raytune has a great collection of [examples](https://github.com/ray-project/ray/tree/master/python/ray/tune/examples) and I have picked a simple one to impement in a notebook. This is godo to play with if you are within a GPU or want to try a *big* parameter search as it's relatively quick and easy to train.\n",
    "\n",
    "\n",
    "## What is MNIST?\n",
    "\n",
    "In case you are unfamilar MNIST is a standard handwritten character dataset used widely in Machine Learning examples. The dataset consists of 70,000 28x28 images (60,000 training and 10,000 test)\n",
    "\n",
    "\n",
    "Here are some examples from the dataset [source: wikipedia](https://en.wikipedia.org/wiki/MNIST_database#/media/File:MnistExamples.png)\n",
    "\n",
    "![MNIST Examples](MnistExamples.png)\n",
    "\n"
   ]
  },
  {
   "cell_type": "markdown",
   "metadata": {},
   "source": [
    "### Load Dependencies\n",
    "\n",
    "We load the usual deps and also load [PyTorch](https://pytorch.org/docs/stable/index.html) so that we can define a small Neural Network to train as a classifer"
   ]
  },
  {
   "cell_type": "code",
   "execution_count": 1,
   "metadata": {},
   "outputs": [
    {
     "name": "stdout",
     "output_type": "stream",
     "text": [
      "Loading dependencies we have already seen...\n",
      "Importing ray...\n",
      "Done...\n"
     ]
    }
   ],
   "source": [
    "%load_ext autoreload\n",
    "%autoreload 2\n",
    "\n",
    "from dependencies import *"
   ]
  },
  {
   "cell_type": "code",
   "execution_count": 2,
   "metadata": {},
   "outputs": [],
   "source": [
    "import torch\n",
    "import torch.nn as nn\n",
    "import torch.optim as optim\n",
    "import torch.nn.functional as F"
   ]
  },
  {
   "cell_type": "markdown",
   "metadata": {},
   "source": [
    "## Dataloaders\n",
    "\n",
    "We'll re-use some standard dataloaders from the ray examples. This function returns 2 pytorch dataloaders, one for train and one for test"
   ]
  },
  {
   "cell_type": "code",
   "execution_count": 3,
   "metadata": {},
   "outputs": [],
   "source": [
    "from mnist_pytorch import get_data_loaders"
   ]
  },
  {
   "cell_type": "markdown",
   "metadata": {},
   "source": [
    "## Network\n",
    "\n",
    "We define a very small ConvNET with a single Conv2D layer and single Linear Layer\n",
    "\n",
    "Things to Try:\n",
    " - Try building up larger networks to see if performance improves\n",
    " - Try adding options to the `__init__()` function to vary layer properties or the number of layers and tune these new parameters"
   ]
  },
  {
   "cell_type": "code",
   "execution_count": 22,
   "metadata": {},
   "outputs": [],
   "source": [
    "class ConvNet(nn.Module):\n",
    "    def __init__(self, width=3):\n",
    "        super(ConvNet, self).__init__()       \n",
    "        self.width=width\n",
    "        \n",
    "        self.conv1 = nn.Conv2d(1, width, kernel_size=3)\n",
    "        self.fc = nn.Linear(width*8*8, 10)\n",
    "\n",
    "    def forward(self, x):\n",
    "        x = F.relu(F.max_pool2d(self.conv1(x), 3))\n",
    "        x = x.view(-1, self.width*8*8)\n",
    "        x = self.fc(x)\n",
    "        return F.log_softmax(x, dim=1)"
   ]
  },
  {
   "cell_type": "markdown",
   "metadata": {},
   "source": [
    "## Train & Test Functions\n",
    "\n",
    "We define some functions for out training and testing loops\n",
    "\n",
    "During training, we iterate over examples while calculating losses, backpropagating and optimising the network"
   ]
  },
  {
   "cell_type": "code",
   "execution_count": 23,
   "metadata": {},
   "outputs": [],
   "source": [
    "EPOCH_SIZE = 512\n",
    "\n",
    "def train(model, optimizer, train_loader, device=None):\n",
    "    device = device or torch.device(\"cpu\")\n",
    "    model.train()\n",
    "    for batch_idx, (data, target) in enumerate(train_loader):\n",
    "        if batch_idx * len(data) > EPOCH_SIZE:\n",
    "            return\n",
    "        data, target = data.to(device), target.to(device)\n",
    "        optimizer.zero_grad()\n",
    "        output = model(data)\n",
    "        loss = F.nll_loss(output, target)\n",
    "        loss.backward()\n",
    "        optimizer.step()"
   ]
  },
  {
   "cell_type": "markdown",
   "metadata": {},
   "source": [
    "During test time we iterate over the test set and calculate performance metrics"
   ]
  },
  {
   "cell_type": "code",
   "execution_count": 24,
   "metadata": {},
   "outputs": [],
   "source": [
    "TEST_SIZE=256\n",
    "\n",
    "def test(model, data_loader, device=None):\n",
    "    device = device or torch.device(\"cpu\")\n",
    "    model.eval()\n",
    "    correct = 0\n",
    "    total = 0\n",
    "    with torch.no_grad():\n",
    "        for batch_idx, (data, target) in enumerate(data_loader):\n",
    "            if batch_idx * len(data) > TEST_SIZE:\n",
    "                break\n",
    "            data, target = data.to(device), target.to(device)\n",
    "            outputs = model(data)\n",
    "            _, predicted = torch.max(outputs, 1)\n",
    "            total += target.size(0)\n",
    "            correct += (predicted == target).sum().item()\n",
    "\n",
    "    return correct / total"
   ]
  },
  {
   "cell_type": "markdown",
   "metadata": {},
   "source": [
    "## Check for CUDA"
   ]
  },
  {
   "cell_type": "code",
   "execution_count": 25,
   "metadata": {},
   "outputs": [
    {
     "name": "stdout",
     "output_type": "stream",
     "text": [
      "CUDA Available :D\n"
     ]
    }
   ],
   "source": [
    "print('CUDA Available :D') if torch.cuda.is_available() else print('CPU Only :O')"
   ]
  },
  {
   "cell_type": "markdown",
   "metadata": {},
   "source": [
    "## Start Ray"
   ]
  },
  {
   "cell_type": "code",
   "execution_count": 26,
   "metadata": {
    "scrolled": true
   },
   "outputs": [
    {
     "name": "stderr",
     "output_type": "stream",
     "text": [
      "2020-06-10 17:10:00,543\tINFO resource_spec.py:204 -- Starting Ray with 35.6 GiB memory available for workers and up to 17.8 GiB for objects. You can adjust these settings with ray.init(memory=<bytes>, object_store_memory=<bytes>).\n",
      "2020-06-10 17:10:00,799\tINFO services.py:1168 -- View the Ray dashboard at \u001b[1m\u001b[32mlocalhost:8266\u001b[39m\u001b[22m\n"
     ]
    },
    {
     "data": {
      "text/plain": [
       "{'node_ip_address': '192.168.1.39',\n",
       " 'raylet_ip_address': '192.168.1.39',\n",
       " 'redis_address': '192.168.1.39:23315',\n",
       " 'object_store_address': '/tmp/ray/session_2020-06-10_17-10-00_541713_15557/sockets/plasma_store',\n",
       " 'raylet_socket_name': '/tmp/ray/session_2020-06-10_17-10-00_541713_15557/sockets/raylet',\n",
       " 'webui_url': 'localhost:8266',\n",
       " 'session_dir': '/tmp/ray/session_2020-06-10_17-10-00_541713_15557'}"
      ]
     },
     "execution_count": 26,
     "metadata": {},
     "output_type": "execute_result"
    }
   ],
   "source": [
    "ray.shutdown()\n",
    "ray.init(num_cpus=2, num_gpus=1, include_webui=True)"
   ]
  },
  {
   "cell_type": "code",
   "execution_count": 27,
   "metadata": {},
   "outputs": [],
   "source": [
    "from os import path\n",
    "\n",
    "class TrainMNIST(tune.Trainable):\n",
    "    \n",
    "    def _setup(self, config):\n",
    "        # detect if cuda is availalbe as ray will assign GPUs if available and configured\n",
    "        self.device = torch.device(\"cuda\" if torch.cuda.is_available() else \"cpu\")\n",
    "        \n",
    "        #\n",
    "        # In this case this will also fetch the MNIST data on first run\n",
    "        #\n",
    "        self.train_loader, self.test_loader = get_data_loaders()\n",
    "        \n",
    "        # create the network\n",
    "        self.model = ConvNet(\n",
    "            # pass in parameters here if we want to tune network internals\n",
    "        ).to(self.device)\n",
    "        \n",
    "        #setup the optimiser (try Adam instead and change parameters we are tuning)\n",
    "        self.optimizer = optim.SGD(\n",
    "            self.model.parameters(),\n",
    "            lr=config.get(\"lr\", 0.01),\n",
    "            momentum=config.get(\"momentum\", 0.9))\n",
    "                \n",
    "\n",
    "    def _train(self):\n",
    "        \n",
    "        train(self.model, self.optimizer, self.train_loader, device=self.device)\n",
    "        \n",
    "        acc = test(self.model, self.test_loader, self.device)\n",
    "        \n",
    "        return {\"mean_accuracy\": acc}\n",
    "    \n",
    "    \n",
    "    def _save(self, checkpoint_dir):\n",
    "        checkpoint_path = path.join(checkpoint_dir, \"model.pth\")\n",
    "        torch.save(self.model.state_dict(), checkpoint_path)\n",
    "        return checkpoint_path\n",
    "    \n",
    "    \n",
    "    def _restore(self, checkpoint_path):\n",
    "        self.model.load_state_dict(torch.load(checkpoint_path))"
   ]
  },
  {
   "cell_type": "code",
   "execution_count": 28,
   "metadata": {
    "scrolled": true
   },
   "outputs": [
    {
     "data": {
      "text/html": [
       "== Status ==<br>Memory usage on this node: 4.6/62.8 GiB<br>Using FIFO scheduling algorithm.<br>Resources requested: 2/2 CPUs, 1/1 GPUs, 0.0/35.6 GiB heap, 0.0/12.26 GiB objects<br>Result logdir: /home/steve/ray_results/torch_mnist/TrainMNIST<br>Number of trials: 3 (2 PENDING, 1 RUNNING)<br><table>\n",
       "<thead>\n",
       "<tr><th>Trial name      </th><th>status  </th><th>loc  </th><th style=\"text-align: right;\">        lr</th><th style=\"text-align: right;\">  momentum</th></tr>\n",
       "</thead>\n",
       "<tbody>\n",
       "<tr><td>TrainMNIST_00000</td><td>RUNNING </td><td>     </td><td style=\"text-align: right;\">0.0215441 </td><td style=\"text-align: right;\">  0.489389</td></tr>\n",
       "<tr><td>TrainMNIST_00001</td><td>PENDING </td><td>     </td><td style=\"text-align: right;\">0.0743001 </td><td style=\"text-align: right;\">  0.886683</td></tr>\n",
       "<tr><td>TrainMNIST_00002</td><td>PENDING </td><td>     </td><td style=\"text-align: right;\">0.00864967</td><td style=\"text-align: right;\">  0.189377</td></tr>\n",
       "</tbody>\n",
       "</table><br><br>"
      ],
      "text/plain": [
       "<IPython.core.display.HTML object>"
      ]
     },
     "metadata": {},
     "output_type": "display_data"
    },
    {
     "name": "stdout",
     "output_type": "stream",
     "text": [
      "\u001b[2m\u001b[36m(pid=16244)\u001b[0m 2020-06-10 17:10:03,559\tINFO trainable.py:217 -- Getting current IP.\n",
      "Result for TrainMNIST_00000:\n",
      "  date: 2020-06-10_17-10-03\n",
      "  done: false\n",
      "  experiment_id: 520f24618fa544a786a301bec67c2588\n",
      "  experiment_tag: 0_lr=0.021544,momentum=0.48939\n",
      "  hostname: cosmos-ml\n",
      "  iterations_since_restore: 1\n",
      "  mean_accuracy: 0.309375\n",
      "  node_ip: 192.168.1.39\n",
      "  pid: 16244\n",
      "  time_since_restore: 0.2740151882171631\n",
      "  time_this_iter_s: 0.2740151882171631\n",
      "  time_total_s: 0.2740151882171631\n",
      "  timestamp: 1591805403\n",
      "  timesteps_since_restore: 0\n",
      "  training_iteration: 1\n",
      "  trial_id: '00000'\n",
      "  \n"
     ]
    },
    {
     "data": {
      "text/html": [
       "== Status ==<br>Memory usage on this node: 5.8/62.8 GiB<br>Using FIFO scheduling algorithm.<br>Resources requested: 2/2 CPUs, 1/1 GPUs, 0.0/35.6 GiB heap, 0.0/12.26 GiB objects<br>Result logdir: /home/steve/ray_results/torch_mnist/TrainMNIST<br>Number of trials: 3 (2 PENDING, 1 RUNNING)<br><table>\n",
       "<thead>\n",
       "<tr><th>Trial name      </th><th>status  </th><th>loc               </th><th style=\"text-align: right;\">        lr</th><th style=\"text-align: right;\">  momentum</th><th style=\"text-align: right;\">     acc</th><th style=\"text-align: right;\">  iter</th><th style=\"text-align: right;\">  total time (s)</th></tr>\n",
       "</thead>\n",
       "<tbody>\n",
       "<tr><td>TrainMNIST_00000</td><td>RUNNING </td><td>192.168.1.39:16244</td><td style=\"text-align: right;\">0.0215441 </td><td style=\"text-align: right;\">  0.489389</td><td style=\"text-align: right;\">0.890625</td><td style=\"text-align: right;\">    19</td><td style=\"text-align: right;\">         2.90467</td></tr>\n",
       "<tr><td>TrainMNIST_00001</td><td>PENDING </td><td>                  </td><td style=\"text-align: right;\">0.0743001 </td><td style=\"text-align: right;\">  0.886683</td><td style=\"text-align: right;\">        </td><td style=\"text-align: right;\">      </td><td style=\"text-align: right;\">                </td></tr>\n",
       "<tr><td>TrainMNIST_00002</td><td>PENDING </td><td>                  </td><td style=\"text-align: right;\">0.00864967</td><td style=\"text-align: right;\">  0.189377</td><td style=\"text-align: right;\">        </td><td style=\"text-align: right;\">      </td><td style=\"text-align: right;\">                </td></tr>\n",
       "</tbody>\n",
       "</table><br><br>"
      ],
      "text/plain": [
       "<IPython.core.display.HTML object>"
      ]
     },
     "metadata": {},
     "output_type": "display_data"
    },
    {
     "name": "stdout",
     "output_type": "stream",
     "text": [
      "Result for TrainMNIST_00000:\n",
      "  date: 2020-06-10_17-10-08\n",
      "  done: false\n",
      "  experiment_id: 520f24618fa544a786a301bec67c2588\n",
      "  experiment_tag: 0_lr=0.021544,momentum=0.48939\n",
      "  hostname: cosmos-ml\n",
      "  iterations_since_restore: 35\n",
      "  mean_accuracy: 0.925\n",
      "  node_ip: 192.168.1.39\n",
      "  pid: 16244\n",
      "  time_since_restore: 5.282199144363403\n",
      "  time_this_iter_s: 0.15729594230651855\n",
      "  time_total_s: 5.282199144363403\n",
      "  timestamp: 1591805408\n",
      "  timesteps_since_restore: 0\n",
      "  training_iteration: 35\n",
      "  trial_id: '00000'\n",
      "  \n"
     ]
    },
    {
     "data": {
      "text/html": [
       "== Status ==<br>Memory usage on this node: 5.8/62.8 GiB<br>Using FIFO scheduling algorithm.<br>Resources requested: 2/2 CPUs, 1/1 GPUs, 0.0/35.6 GiB heap, 0.0/12.26 GiB objects<br>Result logdir: /home/steve/ray_results/torch_mnist/TrainMNIST<br>Number of trials: 3 (2 PENDING, 1 RUNNING)<br><table>\n",
       "<thead>\n",
       "<tr><th>Trial name      </th><th>status  </th><th>loc               </th><th style=\"text-align: right;\">        lr</th><th style=\"text-align: right;\">  momentum</th><th style=\"text-align: right;\">     acc</th><th style=\"text-align: right;\">  iter</th><th style=\"text-align: right;\">  total time (s)</th></tr>\n",
       "</thead>\n",
       "<tbody>\n",
       "<tr><td>TrainMNIST_00000</td><td>RUNNING </td><td>192.168.1.39:16244</td><td style=\"text-align: right;\">0.0215441 </td><td style=\"text-align: right;\">  0.489389</td><td style=\"text-align: right;\">0.909375</td><td style=\"text-align: right;\">    53</td><td style=\"text-align: right;\">         7.94496</td></tr>\n",
       "<tr><td>TrainMNIST_00001</td><td>PENDING </td><td>                  </td><td style=\"text-align: right;\">0.0743001 </td><td style=\"text-align: right;\">  0.886683</td><td style=\"text-align: right;\">        </td><td style=\"text-align: right;\">      </td><td style=\"text-align: right;\">                </td></tr>\n",
       "<tr><td>TrainMNIST_00002</td><td>PENDING </td><td>                  </td><td style=\"text-align: right;\">0.00864967</td><td style=\"text-align: right;\">  0.189377</td><td style=\"text-align: right;\">        </td><td style=\"text-align: right;\">      </td><td style=\"text-align: right;\">                </td></tr>\n",
       "</tbody>\n",
       "</table><br><br>"
      ],
      "text/plain": [
       "<IPython.core.display.HTML object>"
      ]
     },
     "metadata": {},
     "output_type": "display_data"
    },
    {
     "name": "stdout",
     "output_type": "stream",
     "text": [
      "Result for TrainMNIST_00000:\n",
      "  date: 2020-06-10_17-10-14\n",
      "  done: false\n",
      "  experiment_id: 520f24618fa544a786a301bec67c2588\n",
      "  experiment_tag: 0_lr=0.021544,momentum=0.48939\n",
      "  hostname: cosmos-ml\n",
      "  iterations_since_restore: 69\n",
      "  mean_accuracy: 0.921875\n",
      "  node_ip: 192.168.1.39\n",
      "  pid: 16244\n",
      "  time_since_restore: 10.310583353042603\n",
      "  time_this_iter_s: 0.15134024620056152\n",
      "  time_total_s: 10.310583353042603\n",
      "  timestamp: 1591805414\n",
      "  timesteps_since_restore: 0\n",
      "  training_iteration: 69\n",
      "  trial_id: '00000'\n",
      "  \n"
     ]
    },
    {
     "data": {
      "text/html": [
       "== Status ==<br>Memory usage on this node: 5.8/62.8 GiB<br>Using FIFO scheduling algorithm.<br>Resources requested: 2/2 CPUs, 1/1 GPUs, 0.0/35.6 GiB heap, 0.0/12.26 GiB objects<br>Result logdir: /home/steve/ray_results/torch_mnist/TrainMNIST<br>Number of trials: 3 (2 PENDING, 1 RUNNING)<br><table>\n",
       "<thead>\n",
       "<tr><th>Trial name      </th><th>status  </th><th>loc               </th><th style=\"text-align: right;\">        lr</th><th style=\"text-align: right;\">  momentum</th><th style=\"text-align: right;\">   acc</th><th style=\"text-align: right;\">  iter</th><th style=\"text-align: right;\">  total time (s)</th></tr>\n",
       "</thead>\n",
       "<tbody>\n",
       "<tr><td>TrainMNIST_00000</td><td>RUNNING </td><td>192.168.1.39:16244</td><td style=\"text-align: right;\">0.0215441 </td><td style=\"text-align: right;\">  0.489389</td><td style=\"text-align: right;\">0.9375</td><td style=\"text-align: right;\">    85</td><td style=\"text-align: right;\">         12.8417</td></tr>\n",
       "<tr><td>TrainMNIST_00001</td><td>PENDING </td><td>                  </td><td style=\"text-align: right;\">0.0743001 </td><td style=\"text-align: right;\">  0.886683</td><td style=\"text-align: right;\">      </td><td style=\"text-align: right;\">      </td><td style=\"text-align: right;\">                </td></tr>\n",
       "<tr><td>TrainMNIST_00002</td><td>PENDING </td><td>                  </td><td style=\"text-align: right;\">0.00864967</td><td style=\"text-align: right;\">  0.189377</td><td style=\"text-align: right;\">      </td><td style=\"text-align: right;\">      </td><td style=\"text-align: right;\">                </td></tr>\n",
       "</tbody>\n",
       "</table><br><br>"
      ],
      "text/plain": [
       "<IPython.core.display.HTML object>"
      ]
     },
     "metadata": {},
     "output_type": "display_data"
    },
    {
     "name": "stdout",
     "output_type": "stream",
     "text": [
      "Result for TrainMNIST_00000:\n",
      "  date: 2020-06-10_17-10-19\n",
      "  done: true\n",
      "  experiment_id: 520f24618fa544a786a301bec67c2588\n",
      "  experiment_tag: 0_lr=0.021544,momentum=0.48939\n",
      "  hostname: cosmos-ml\n",
      "  iterations_since_restore: 100\n",
      "  mean_accuracy: 0.93125\n",
      "  node_ip: 192.168.1.39\n",
      "  pid: 16244\n",
      "  time_since_restore: 15.250997304916382\n",
      "  time_this_iter_s: 0.15807795524597168\n",
      "  time_total_s: 15.250997304916382\n",
      "  timestamp: 1591805419\n",
      "  timesteps_since_restore: 0\n",
      "  training_iteration: 100\n",
      "  trial_id: '00000'\n",
      "  \n",
      "\u001b[2m\u001b[36m(pid=16243)\u001b[0m 2020-06-10 17:10:21,282\tINFO trainable.py:217 -- Getting current IP.\n",
      "Result for TrainMNIST_00001:\n",
      "  date: 2020-06-10_17-10-21\n",
      "  done: false\n",
      "  experiment_id: f7d3a0acb6c74fbeb19209fe267caf4f\n",
      "  experiment_tag: 1_lr=0.0743,momentum=0.88668\n",
      "  hostname: cosmos-ml\n",
      "  iterations_since_restore: 1\n",
      "  mean_accuracy: 0.48125\n",
      "  node_ip: 192.168.1.39\n",
      "  pid: 16243\n",
      "  time_since_restore: 0.27214694023132324\n",
      "  time_this_iter_s: 0.27214694023132324\n",
      "  time_total_s: 0.27214694023132324\n",
      "  timestamp: 1591805421\n",
      "  timesteps_since_restore: 0\n",
      "  training_iteration: 1\n",
      "  trial_id: '00001'\n",
      "  \n"
     ]
    },
    {
     "data": {
      "text/html": [
       "== Status ==<br>Memory usage on this node: 5.8/62.8 GiB<br>Using FIFO scheduling algorithm.<br>Resources requested: 2/2 CPUs, 1/1 GPUs, 0.0/35.6 GiB heap, 0.0/12.26 GiB objects<br>Result logdir: /home/steve/ray_results/torch_mnist/TrainMNIST<br>Number of trials: 3 (1 PENDING, 1 RUNNING, 1 TERMINATED)<br><table>\n",
       "<thead>\n",
       "<tr><th>Trial name      </th><th>status    </th><th>loc               </th><th style=\"text-align: right;\">        lr</th><th style=\"text-align: right;\">  momentum</th><th style=\"text-align: right;\">     acc</th><th style=\"text-align: right;\">  iter</th><th style=\"text-align: right;\">  total time (s)</th></tr>\n",
       "</thead>\n",
       "<tbody>\n",
       "<tr><td>TrainMNIST_00000</td><td>TERMINATED</td><td>                  </td><td style=\"text-align: right;\">0.0215441 </td><td style=\"text-align: right;\">  0.489389</td><td style=\"text-align: right;\">0.93125 </td><td style=\"text-align: right;\">   100</td><td style=\"text-align: right;\">       15.251   </td></tr>\n",
       "<tr><td>TrainMNIST_00001</td><td>RUNNING   </td><td>192.168.1.39:16243</td><td style=\"text-align: right;\">0.0743001 </td><td style=\"text-align: right;\">  0.886683</td><td style=\"text-align: right;\">0.840625</td><td style=\"text-align: right;\">     2</td><td style=\"text-align: right;\">        0.418721</td></tr>\n",
       "<tr><td>TrainMNIST_00002</td><td>PENDING   </td><td>                  </td><td style=\"text-align: right;\">0.00864967</td><td style=\"text-align: right;\">  0.189377</td><td style=\"text-align: right;\">        </td><td style=\"text-align: right;\">      </td><td style=\"text-align: right;\">                </td></tr>\n",
       "</tbody>\n",
       "</table><br><br>"
      ],
      "text/plain": [
       "<IPython.core.display.HTML object>"
      ]
     },
     "metadata": {},
     "output_type": "display_data"
    },
    {
     "name": "stdout",
     "output_type": "stream",
     "text": [
      "Result for TrainMNIST_00001:\n",
      "  date: 2020-06-10_17-10-26\n",
      "  done: false\n",
      "  experiment_id: f7d3a0acb6c74fbeb19209fe267caf4f\n",
      "  experiment_tag: 1_lr=0.0743,momentum=0.88668\n",
      "  hostname: cosmos-ml\n",
      "  iterations_since_restore: 35\n",
      "  mean_accuracy: 0.96875\n",
      "  node_ip: 192.168.1.39\n",
      "  pid: 16243\n",
      "  time_since_restore: 5.222405910491943\n",
      "  time_this_iter_s: 0.1487886905670166\n",
      "  time_total_s: 5.222405910491943\n",
      "  timestamp: 1591805426\n",
      "  timesteps_since_restore: 0\n",
      "  training_iteration: 35\n",
      "  trial_id: '00001'\n",
      "  \n"
     ]
    },
    {
     "data": {
      "text/html": [
       "== Status ==<br>Memory usage on this node: 5.8/62.8 GiB<br>Using FIFO scheduling algorithm.<br>Resources requested: 2/2 CPUs, 1/1 GPUs, 0.0/35.6 GiB heap, 0.0/12.26 GiB objects<br>Result logdir: /home/steve/ray_results/torch_mnist/TrainMNIST<br>Number of trials: 3 (1 PENDING, 1 RUNNING, 1 TERMINATED)<br><table>\n",
       "<thead>\n",
       "<tr><th>Trial name      </th><th>status    </th><th>loc               </th><th style=\"text-align: right;\">        lr</th><th style=\"text-align: right;\">  momentum</th><th style=\"text-align: right;\">    acc</th><th style=\"text-align: right;\">  iter</th><th style=\"text-align: right;\">  total time (s)</th></tr>\n",
       "</thead>\n",
       "<tbody>\n",
       "<tr><td>TrainMNIST_00000</td><td>TERMINATED</td><td>                  </td><td style=\"text-align: right;\">0.0215441 </td><td style=\"text-align: right;\">  0.489389</td><td style=\"text-align: right;\">0.93125</td><td style=\"text-align: right;\">   100</td><td style=\"text-align: right;\">        15.251  </td></tr>\n",
       "<tr><td>TrainMNIST_00001</td><td>RUNNING   </td><td>192.168.1.39:16243</td><td style=\"text-align: right;\">0.0743001 </td><td style=\"text-align: right;\">  0.886683</td><td style=\"text-align: right;\">0.94375</td><td style=\"text-align: right;\">    36</td><td style=\"text-align: right;\">         5.36914</td></tr>\n",
       "<tr><td>TrainMNIST_00002</td><td>PENDING   </td><td>                  </td><td style=\"text-align: right;\">0.00864967</td><td style=\"text-align: right;\">  0.189377</td><td style=\"text-align: right;\">       </td><td style=\"text-align: right;\">      </td><td style=\"text-align: right;\">                </td></tr>\n",
       "</tbody>\n",
       "</table><br><br>"
      ],
      "text/plain": [
       "<IPython.core.display.HTML object>"
      ]
     },
     "metadata": {},
     "output_type": "display_data"
    },
    {
     "name": "stdout",
     "output_type": "stream",
     "text": [
      "Result for TrainMNIST_00001:\n",
      "  date: 2020-06-10_17-10-31\n",
      "  done: false\n",
      "  experiment_id: f7d3a0acb6c74fbeb19209fe267caf4f\n",
      "  experiment_tag: 1_lr=0.0743,momentum=0.88668\n",
      "  hostname: cosmos-ml\n",
      "  iterations_since_restore: 68\n",
      "  mean_accuracy: 0.940625\n",
      "  node_ip: 192.168.1.39\n",
      "  pid: 16243\n",
      "  time_since_restore: 10.160768747329712\n",
      "  time_this_iter_s: 0.14750361442565918\n",
      "  time_total_s: 10.160768747329712\n",
      "  timestamp: 1591805431\n",
      "  timesteps_since_restore: 0\n",
      "  training_iteration: 68\n",
      "  trial_id: '00001'\n",
      "  \n"
     ]
    },
    {
     "data": {
      "text/html": [
       "== Status ==<br>Memory usage on this node: 5.9/62.8 GiB<br>Using FIFO scheduling algorithm.<br>Resources requested: 2/2 CPUs, 1/1 GPUs, 0.0/35.6 GiB heap, 0.0/12.26 GiB objects<br>Result logdir: /home/steve/ray_results/torch_mnist/TrainMNIST<br>Number of trials: 3 (1 PENDING, 1 RUNNING, 1 TERMINATED)<br><table>\n",
       "<thead>\n",
       "<tr><th>Trial name      </th><th>status    </th><th>loc               </th><th style=\"text-align: right;\">        lr</th><th style=\"text-align: right;\">  momentum</th><th style=\"text-align: right;\">    acc</th><th style=\"text-align: right;\">  iter</th><th style=\"text-align: right;\">  total time (s)</th></tr>\n",
       "</thead>\n",
       "<tbody>\n",
       "<tr><td>TrainMNIST_00000</td><td>TERMINATED</td><td>                  </td><td style=\"text-align: right;\">0.0215441 </td><td style=\"text-align: right;\">  0.489389</td><td style=\"text-align: right;\">0.93125</td><td style=\"text-align: right;\">   100</td><td style=\"text-align: right;\">         15.251 </td></tr>\n",
       "<tr><td>TrainMNIST_00001</td><td>RUNNING   </td><td>192.168.1.39:16243</td><td style=\"text-align: right;\">0.0743001 </td><td style=\"text-align: right;\">  0.886683</td><td style=\"text-align: right;\">0.93125</td><td style=\"text-align: right;\">    69</td><td style=\"text-align: right;\">         10.3089</td></tr>\n",
       "<tr><td>TrainMNIST_00002</td><td>PENDING   </td><td>                  </td><td style=\"text-align: right;\">0.00864967</td><td style=\"text-align: right;\">  0.189377</td><td style=\"text-align: right;\">       </td><td style=\"text-align: right;\">      </td><td style=\"text-align: right;\">                </td></tr>\n",
       "</tbody>\n",
       "</table><br><br>"
      ],
      "text/plain": [
       "<IPython.core.display.HTML object>"
      ]
     },
     "metadata": {},
     "output_type": "display_data"
    },
    {
     "name": "stdout",
     "output_type": "stream",
     "text": [
      "Result for TrainMNIST_00001:\n",
      "  date: 2020-06-10_17-10-36\n",
      "  done: false\n",
      "  experiment_id: f7d3a0acb6c74fbeb19209fe267caf4f\n",
      "  experiment_tag: 1_lr=0.0743,momentum=0.88668\n",
      "  hostname: cosmos-ml\n",
      "  iterations_since_restore: 98\n",
      "  mean_accuracy: 0.96875\n",
      "  node_ip: 192.168.1.39\n",
      "  pid: 16243\n",
      "  time_since_restore: 15.115023851394653\n",
      "  time_this_iter_s: 0.17007684707641602\n",
      "  time_total_s: 15.115023851394653\n",
      "  timestamp: 1591805436\n",
      "  timesteps_since_restore: 0\n",
      "  training_iteration: 98\n",
      "  trial_id: '00001'\n",
      "  \n"
     ]
    },
    {
     "data": {
      "text/html": [
       "== Status ==<br>Memory usage on this node: 5.9/62.8 GiB<br>Using FIFO scheduling algorithm.<br>Resources requested: 2/2 CPUs, 1/1 GPUs, 0.0/35.6 GiB heap, 0.0/12.26 GiB objects<br>Result logdir: /home/steve/ray_results/torch_mnist/TrainMNIST<br>Number of trials: 3 (1 PENDING, 1 RUNNING, 1 TERMINATED)<br><table>\n",
       "<thead>\n",
       "<tr><th>Trial name      </th><th>status    </th><th>loc               </th><th style=\"text-align: right;\">        lr</th><th style=\"text-align: right;\">  momentum</th><th style=\"text-align: right;\">     acc</th><th style=\"text-align: right;\">  iter</th><th style=\"text-align: right;\">  total time (s)</th></tr>\n",
       "</thead>\n",
       "<tbody>\n",
       "<tr><td>TrainMNIST_00000</td><td>TERMINATED</td><td>                  </td><td style=\"text-align: right;\">0.0215441 </td><td style=\"text-align: right;\">  0.489389</td><td style=\"text-align: right;\">0.93125 </td><td style=\"text-align: right;\">   100</td><td style=\"text-align: right;\">         15.251 </td></tr>\n",
       "<tr><td>TrainMNIST_00001</td><td>RUNNING   </td><td>192.168.1.39:16243</td><td style=\"text-align: right;\">0.0743001 </td><td style=\"text-align: right;\">  0.886683</td><td style=\"text-align: right;\">0.965625</td><td style=\"text-align: right;\">    99</td><td style=\"text-align: right;\">         15.2804</td></tr>\n",
       "<tr><td>TrainMNIST_00002</td><td>PENDING   </td><td>                  </td><td style=\"text-align: right;\">0.00864967</td><td style=\"text-align: right;\">  0.189377</td><td style=\"text-align: right;\">        </td><td style=\"text-align: right;\">      </td><td style=\"text-align: right;\">                </td></tr>\n",
       "</tbody>\n",
       "</table><br><br>"
      ],
      "text/plain": [
       "<IPython.core.display.HTML object>"
      ]
     },
     "metadata": {},
     "output_type": "display_data"
    },
    {
     "name": "stdout",
     "output_type": "stream",
     "text": [
      "Result for TrainMNIST_00001:\n",
      "  date: 2020-06-10_17-10-37\n",
      "  done: true\n",
      "  experiment_id: f7d3a0acb6c74fbeb19209fe267caf4f\n",
      "  experiment_tag: 1_lr=0.0743,momentum=0.88668\n",
      "  hostname: cosmos-ml\n",
      "  iterations_since_restore: 100\n",
      "  mean_accuracy: 0.953125\n",
      "  node_ip: 192.168.1.39\n",
      "  pid: 16243\n",
      "  time_since_restore: 15.450169324874878\n",
      "  time_this_iter_s: 0.16977930068969727\n",
      "  time_total_s: 15.450169324874878\n",
      "  timestamp: 1591805437\n",
      "  timesteps_since_restore: 0\n",
      "  training_iteration: 100\n",
      "  trial_id: '00001'\n",
      "  \n",
      "\u001b[2m\u001b[36m(pid=16368)\u001b[0m 2020-06-10 17:10:39,520\tINFO trainable.py:217 -- Getting current IP.\n",
      "Result for TrainMNIST_00002:\n",
      "  date: 2020-06-10_17-10-39\n",
      "  done: false\n",
      "  experiment_id: 91fa21b6e236449a9c99d4632c4175c3\n",
      "  experiment_tag: 2_lr=0.0086497,momentum=0.18938\n",
      "  hostname: cosmos-ml\n",
      "  iterations_since_restore: 1\n",
      "  mean_accuracy: 0.1875\n",
      "  node_ip: 192.168.1.39\n",
      "  pid: 16368\n",
      "  time_since_restore: 0.28435850143432617\n",
      "  time_this_iter_s: 0.28435850143432617\n",
      "  time_total_s: 0.28435850143432617\n",
      "  timestamp: 1591805439\n",
      "  timesteps_since_restore: 0\n",
      "  training_iteration: 1\n",
      "  trial_id: '00002'\n",
      "  \n"
     ]
    },
    {
     "data": {
      "text/html": [
       "== Status ==<br>Memory usage on this node: 5.8/62.8 GiB<br>Using FIFO scheduling algorithm.<br>Resources requested: 2/2 CPUs, 1/1 GPUs, 0.0/35.6 GiB heap, 0.0/12.26 GiB objects<br>Result logdir: /home/steve/ray_results/torch_mnist/TrainMNIST<br>Number of trials: 3 (1 RUNNING, 2 TERMINATED)<br><table>\n",
       "<thead>\n",
       "<tr><th>Trial name      </th><th>status    </th><th>loc               </th><th style=\"text-align: right;\">        lr</th><th style=\"text-align: right;\">  momentum</th><th style=\"text-align: right;\">     acc</th><th style=\"text-align: right;\">  iter</th><th style=\"text-align: right;\">  total time (s)</th></tr>\n",
       "</thead>\n",
       "<tbody>\n",
       "<tr><td>TrainMNIST_00000</td><td>TERMINATED</td><td>                  </td><td style=\"text-align: right;\">0.0215441 </td><td style=\"text-align: right;\">  0.489389</td><td style=\"text-align: right;\">0.93125 </td><td style=\"text-align: right;\">   100</td><td style=\"text-align: right;\">        15.251  </td></tr>\n",
       "<tr><td>TrainMNIST_00001</td><td>TERMINATED</td><td>                  </td><td style=\"text-align: right;\">0.0743001 </td><td style=\"text-align: right;\">  0.886683</td><td style=\"text-align: right;\">0.953125</td><td style=\"text-align: right;\">   100</td><td style=\"text-align: right;\">        15.4502 </td></tr>\n",
       "<tr><td>TrainMNIST_00002</td><td>RUNNING   </td><td>192.168.1.39:16368</td><td style=\"text-align: right;\">0.00864967</td><td style=\"text-align: right;\">  0.189377</td><td style=\"text-align: right;\">0.85    </td><td style=\"text-align: right;\">    15</td><td style=\"text-align: right;\">         2.39136</td></tr>\n",
       "</tbody>\n",
       "</table><br><br>"
      ],
      "text/plain": [
       "<IPython.core.display.HTML object>"
      ]
     },
     "metadata": {},
     "output_type": "display_data"
    },
    {
     "name": "stdout",
     "output_type": "stream",
     "text": [
      "Result for TrainMNIST_00002:\n",
      "  date: 2020-06-10_17-10-44\n",
      "  done: false\n",
      "  experiment_id: 91fa21b6e236449a9c99d4632c4175c3\n",
      "  experiment_tag: 2_lr=0.0086497,momentum=0.18938\n",
      "  hostname: cosmos-ml\n",
      "  iterations_since_restore: 34\n",
      "  mean_accuracy: 0.8625\n",
      "  node_ip: 192.168.1.39\n",
      "  pid: 16368\n",
      "  time_since_restore: 5.224001169204712\n",
      "  time_this_iter_s: 0.1489722728729248\n",
      "  time_total_s: 5.224001169204712\n",
      "  timestamp: 1591805444\n",
      "  timesteps_since_restore: 0\n",
      "  training_iteration: 34\n",
      "  trial_id: '00002'\n",
      "  \n"
     ]
    },
    {
     "data": {
      "text/html": [
       "== Status ==<br>Memory usage on this node: 5.9/62.8 GiB<br>Using FIFO scheduling algorithm.<br>Resources requested: 2/2 CPUs, 1/1 GPUs, 0.0/35.6 GiB heap, 0.0/12.26 GiB objects<br>Result logdir: /home/steve/ray_results/torch_mnist/TrainMNIST<br>Number of trials: 3 (1 RUNNING, 2 TERMINATED)<br><table>\n",
       "<thead>\n",
       "<tr><th>Trial name      </th><th>status    </th><th>loc               </th><th style=\"text-align: right;\">        lr</th><th style=\"text-align: right;\">  momentum</th><th style=\"text-align: right;\">     acc</th><th style=\"text-align: right;\">  iter</th><th style=\"text-align: right;\">  total time (s)</th></tr>\n",
       "</thead>\n",
       "<tbody>\n",
       "<tr><td>TrainMNIST_00000</td><td>TERMINATED</td><td>                  </td><td style=\"text-align: right;\">0.0215441 </td><td style=\"text-align: right;\">  0.489389</td><td style=\"text-align: right;\">0.93125 </td><td style=\"text-align: right;\">   100</td><td style=\"text-align: right;\">        15.251  </td></tr>\n",
       "<tr><td>TrainMNIST_00001</td><td>TERMINATED</td><td>                  </td><td style=\"text-align: right;\">0.0743001 </td><td style=\"text-align: right;\">  0.886683</td><td style=\"text-align: right;\">0.953125</td><td style=\"text-align: right;\">   100</td><td style=\"text-align: right;\">        15.4502 </td></tr>\n",
       "<tr><td>TrainMNIST_00002</td><td>RUNNING   </td><td>192.168.1.39:16368</td><td style=\"text-align: right;\">0.00864967</td><td style=\"text-align: right;\">  0.189377</td><td style=\"text-align: right;\">0.878125</td><td style=\"text-align: right;\">    49</td><td style=\"text-align: right;\">         7.42556</td></tr>\n",
       "</tbody>\n",
       "</table><br><br>"
      ],
      "text/plain": [
       "<IPython.core.display.HTML object>"
      ]
     },
     "metadata": {},
     "output_type": "display_data"
    },
    {
     "name": "stdout",
     "output_type": "stream",
     "text": [
      "Result for TrainMNIST_00002:\n",
      "  date: 2020-06-10_17-10-49\n",
      "  done: false\n",
      "  experiment_id: 91fa21b6e236449a9c99d4632c4175c3\n",
      "  experiment_tag: 2_lr=0.0086497,momentum=0.18938\n",
      "  hostname: cosmos-ml\n",
      "  iterations_since_restore: 68\n",
      "  mean_accuracy: 0.871875\n",
      "  node_ip: 192.168.1.39\n",
      "  pid: 16368\n",
      "  time_since_restore: 10.246721267700195\n",
      "  time_this_iter_s: 0.1440119743347168\n",
      "  time_total_s: 10.246721267700195\n",
      "  timestamp: 1591805449\n",
      "  timesteps_since_restore: 0\n",
      "  training_iteration: 68\n",
      "  trial_id: '00002'\n",
      "  \n"
     ]
    },
    {
     "data": {
      "text/html": [
       "== Status ==<br>Memory usage on this node: 5.9/62.8 GiB<br>Using FIFO scheduling algorithm.<br>Resources requested: 2/2 CPUs, 1/1 GPUs, 0.0/35.6 GiB heap, 0.0/12.26 GiB objects<br>Result logdir: /home/steve/ray_results/torch_mnist/TrainMNIST<br>Number of trials: 3 (1 RUNNING, 2 TERMINATED)<br><table>\n",
       "<thead>\n",
       "<tr><th>Trial name      </th><th>status    </th><th>loc               </th><th style=\"text-align: right;\">        lr</th><th style=\"text-align: right;\">  momentum</th><th style=\"text-align: right;\">     acc</th><th style=\"text-align: right;\">  iter</th><th style=\"text-align: right;\">  total time (s)</th></tr>\n",
       "</thead>\n",
       "<tbody>\n",
       "<tr><td>TrainMNIST_00000</td><td>TERMINATED</td><td>                  </td><td style=\"text-align: right;\">0.0215441 </td><td style=\"text-align: right;\">  0.489389</td><td style=\"text-align: right;\">0.93125 </td><td style=\"text-align: right;\">   100</td><td style=\"text-align: right;\">         15.251 </td></tr>\n",
       "<tr><td>TrainMNIST_00001</td><td>TERMINATED</td><td>                  </td><td style=\"text-align: right;\">0.0743001 </td><td style=\"text-align: right;\">  0.886683</td><td style=\"text-align: right;\">0.953125</td><td style=\"text-align: right;\">   100</td><td style=\"text-align: right;\">         15.4502</td></tr>\n",
       "<tr><td>TrainMNIST_00002</td><td>RUNNING   </td><td>192.168.1.39:16368</td><td style=\"text-align: right;\">0.00864967</td><td style=\"text-align: right;\">  0.189377</td><td style=\"text-align: right;\">0.90625 </td><td style=\"text-align: right;\">    82</td><td style=\"text-align: right;\">         12.3465</td></tr>\n",
       "</tbody>\n",
       "</table><br><br>"
      ],
      "text/plain": [
       "<IPython.core.display.HTML object>"
      ]
     },
     "metadata": {},
     "output_type": "display_data"
    },
    {
     "name": "stdout",
     "output_type": "stream",
     "text": [
      "Result for TrainMNIST_00002:\n",
      "  date: 2020-06-10_17-10-54\n",
      "  done: true\n",
      "  experiment_id: 91fa21b6e236449a9c99d4632c4175c3\n",
      "  experiment_tag: 2_lr=0.0086497,momentum=0.18938\n",
      "  hostname: cosmos-ml\n",
      "  iterations_since_restore: 100\n",
      "  mean_accuracy: 0.93125\n",
      "  node_ip: 192.168.1.39\n",
      "  pid: 16368\n",
      "  time_since_restore: 15.166840553283691\n",
      "  time_this_iter_s: 0.1597919464111328\n",
      "  time_total_s: 15.166840553283691\n",
      "  timestamp: 1591805454\n",
      "  timesteps_since_restore: 0\n",
      "  training_iteration: 100\n",
      "  trial_id: '00002'\n",
      "  \n"
     ]
    },
    {
     "data": {
      "text/html": [
       "== Status ==<br>Memory usage on this node: 5.9/62.8 GiB<br>Using FIFO scheduling algorithm.<br>Resources requested: 0/2 CPUs, 0/1 GPUs, 0.0/35.6 GiB heap, 0.0/12.26 GiB objects<br>Result logdir: /home/steve/ray_results/torch_mnist/TrainMNIST<br>Number of trials: 3 (3 TERMINATED)<br><table>\n",
       "<thead>\n",
       "<tr><th>Trial name      </th><th>status    </th><th>loc  </th><th style=\"text-align: right;\">        lr</th><th style=\"text-align: right;\">  momentum</th><th style=\"text-align: right;\">     acc</th><th style=\"text-align: right;\">  iter</th><th style=\"text-align: right;\">  total time (s)</th></tr>\n",
       "</thead>\n",
       "<tbody>\n",
       "<tr><td>TrainMNIST_00000</td><td>TERMINATED</td><td>     </td><td style=\"text-align: right;\">0.0215441 </td><td style=\"text-align: right;\">  0.489389</td><td style=\"text-align: right;\">0.93125 </td><td style=\"text-align: right;\">   100</td><td style=\"text-align: right;\">         15.251 </td></tr>\n",
       "<tr><td>TrainMNIST_00001</td><td>TERMINATED</td><td>     </td><td style=\"text-align: right;\">0.0743001 </td><td style=\"text-align: right;\">  0.886683</td><td style=\"text-align: right;\">0.953125</td><td style=\"text-align: right;\">   100</td><td style=\"text-align: right;\">         15.4502</td></tr>\n",
       "<tr><td>TrainMNIST_00002</td><td>TERMINATED</td><td>     </td><td style=\"text-align: right;\">0.00864967</td><td style=\"text-align: right;\">  0.189377</td><td style=\"text-align: right;\">0.93125 </td><td style=\"text-align: right;\">   100</td><td style=\"text-align: right;\">         15.1668</td></tr>\n",
       "</tbody>\n",
       "</table><br><br>"
      ],
      "text/plain": [
       "<IPython.core.display.HTML object>"
      ]
     },
     "metadata": {},
     "output_type": "display_data"
    }
   ],
   "source": [
    "config = {\n",
    "        \"lr\": tune.uniform(0.001, 0.1),\n",
    "        \"momentum\": tune.uniform(0.1, 0.9),\n",
    "    }\n",
    "\n",
    "\n",
    "analysis = tune.run(\n",
    "    TrainMNIST,\n",
    "    config=config,\n",
    "    local_dir=\"~/ray_results/torch_mnist\",\n",
    "    resources_per_trial={\n",
    "        \"cpu\": 2,\n",
    "        \"gpu\": 1\n",
    "    },\n",
    "    num_samples=3,\n",
    "    checkpoint_at_end=True,\n",
    "    checkpoint_freq=10,\n",
    "#     keep_checkpoints_num=3, # only keep n best checkpoints\n",
    "    stop={\n",
    "        \"mean_accuracy\": 0.99,\n",
    "        \"training_iteration\": 100,\n",
    "    })\n",
    "\n"
   ]
  },
  {
   "cell_type": "code",
   "execution_count": 33,
   "metadata": {},
   "outputs": [
    {
     "name": "stdout",
     "output_type": "stream",
     "text": [
      "Best config is:\n",
      "TrainMNIST_00001\n",
      "{'lr': 0.07430007313597342, 'momentum': 0.8866826908317605}\n"
     ]
    }
   ],
   "source": [
    "from pprint import pprint\n",
    "print(\"Best config is:\")\n",
    "pprint(analysis.get_best_trial(metric=\"mean_accuracy\"))\n",
    "pprint(analysis.get_best_config(metric=\"mean_accuracy\"))"
   ]
  },
  {
   "cell_type": "markdown",
   "metadata": {},
   "source": [
    "## Load a model and check results"
   ]
  },
  {
   "cell_type": "code",
   "execution_count": 30,
   "metadata": {},
   "outputs": [],
   "source": [
    "train_loader, test_loader = get_data_loaders()"
   ]
  },
  {
   "cell_type": "code",
   "execution_count": 31,
   "metadata": {
    "scrolled": false
   },
   "outputs": [],
   "source": [
    "X, y = list(test_loader)[np.random.randint(0, len(test_loader))]"
   ]
  },
  {
   "cell_type": "markdown",
   "metadata": {},
   "source": [
    "#### Find the model checkpoint you want to load"
   ]
  },
  {
   "cell_type": "code",
   "execution_count": 34,
   "metadata": {},
   "outputs": [],
   "source": [
    "checkpoint_path = path.join(path.expanduser('~'),'ray_results','torch_mnist','TrainMNIST',\n",
    "                          'TrainMNIST_1_lr=0.0743,momentum=0.88668_2020-06-10_17-10-19o_jnd3ec',\n",
    "                         'checkpoint_100', 'model.pth')"
   ]
  },
  {
   "cell_type": "code",
   "execution_count": 35,
   "metadata": {},
   "outputs": [],
   "source": [
    "device = torch.device(\"cuda\" if torch.cuda.is_available() else \"cpu\")\n",
    "\n",
    "with torch.set_grad_enabled(False):\n",
    "    model = ConvNet()\n",
    "    model.load_state_dict(torch.load(checkpoint_path))\n",
    "    \n",
    "    model.to(device)\n",
    "    \n",
    "    y_ = model(X.to(device)).cpu()\n",
    "    \n",
    "    _, predicted = torch.max(y_, 1)"
   ]
  },
  {
   "cell_type": "code",
   "execution_count": 36,
   "metadata": {
    "scrolled": false
   },
   "outputs": [
    {
     "data": {
      "image/png": "[encoded data removed]",
      "text/plain": [
       "<Figure size 1440x1440 with 64 Axes>"
      ]
     },
     "metadata": {},
     "output_type": "display_data"
    }
   ],
   "source": [
    "fig, axs = plt.subplots(8,8, figsize=(20,20))\n",
    "axsf = [item for s in axs for item in s]\n",
    "\n",
    "for n,ax in enumerate(axsf):\n",
    "    ax.imshow(X[n].squeeze().numpy())\n",
    "    ax.axis('off')\n",
    "    ax.set_title(predicted[n].item())\n",
    "    \n",
    "plt.show()"
   ]
  },
  {
   "cell_type": "code",
   "execution_count": null,
   "metadata": {},
   "outputs": [],
   "source": [
    "# https://github.com/ray-project/ray/issues/4569"
   ]
  },
  {
   "cell_type": "code",
   "execution_count": null,
   "metadata": {},
   "outputs": [],
   "source": [
    "# Exercises\n",
    "# - change out the optimiser for adam\n",
    "# - add network hyperparameters"
   ]
  }
 ],
 "metadata": {
  "kernelspec": {
   "display_name": "Python 3",
   "language": "python",
   "name": "python3"
  },
  "language_info": {
   "codemirror_mode": {
    "name": "ipython",
    "version": 3
   },
   "file_extension": ".py",
   "mimetype": "text/x-python",
   "name": "python",
   "nbconvert_exporter": "python",
   "pygments_lexer": "ipython3",
   "version": "3.8.3"
  }
 },
 "nbformat": 4,
 "nbformat_minor": 4
}
