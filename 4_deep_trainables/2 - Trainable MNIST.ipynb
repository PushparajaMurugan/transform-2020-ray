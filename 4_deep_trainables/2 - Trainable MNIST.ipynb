{
 "cells": [
  {
   "cell_type": "markdown",
   "metadata": {},
   "source": [
    "# Trainable MNIST\n",
    "\n",
    "Raytune has a great collection of [examples](https://github.com/ray-project/ray/tree/master/python/ray/tune/examples) and I have picked a simple one to impement in a notebook. This is godo to play with if you are within a GPU or want to try a *big* parameter search as it's relatively quick and easy to train.\n",
    "\n",
    "\n",
    "## What is MNIST?\n",
    "\n",
    "In case you are unfamilar MNIST is a standard handwritten character dataset used widely in Machine Learning examples. The dataset consists of 70,000 28x28 images (60,000 training and 10,000 test)\n",
    "\n",
    "\n",
    "Here are some examples from the dataset [source: wikipedia](https://en.wikipedia.org/wiki/MNIST_database#/media/File:MnistExamples.png)\n",
    "\n",
    "![MNIST Examples](MnistExamples.png)\n",
    "\n"
   ]
  },
  {
   "cell_type": "markdown",
   "metadata": {},
   "source": [
    "### Load Dependencies\n",
    "\n",
    "We load the usual deps and also load [PyTorch](https://pytorch.org/docs/stable/index.html) so that we can define a small Neural Network to train as a classifer"
   ]
  },
  {
   "cell_type": "code",
   "execution_count": 1,
   "metadata": {},
   "outputs": [
    {
     "name": "stdout",
     "output_type": "stream",
     "text": [
      "Loading dependencies we have already seen...\n",
      "Importing ray...\n",
      "Done...\n"
     ]
    }
   ],
   "source": [
    "%load_ext autoreload\n",
    "%autoreload 2\n",
    "\n",
    "from dependencies import *"
   ]
  },
  {
   "cell_type": "code",
   "execution_count": 2,
   "metadata": {},
   "outputs": [],
   "source": [
    "import torch\n",
    "import torch.nn as nn\n",
    "import torch.optim as optim\n",
    "import torch.nn.functional as F"
   ]
  },
  {
   "cell_type": "markdown",
   "metadata": {},
   "source": [
    "## Dataloaders\n",
    "\n",
    "We'll re-use some standard dataloaders from the ray examples. This function returns 2 pytorch dataloaders, one for train and one for test"
   ]
  },
  {
   "cell_type": "code",
   "execution_count": 3,
   "metadata": {},
   "outputs": [],
   "source": [
    "from mnist_pytorch import get_data_loaders"
   ]
  },
  {
   "cell_type": "markdown",
   "metadata": {},
   "source": [
    "## Network\n",
    "\n",
    "We define a very small ConvNET with a single Conv2D layer and single Linear Layer\n",
    "\n",
    "Things to Try:\n",
    " - Try building up larger networks to see if performance improves\n",
    " - Try adding options to the `__init__()` function to vary layer properties or the number of layers and tune these new parameters"
   ]
  },
  {
   "cell_type": "code",
   "execution_count": 4,
   "metadata": {},
   "outputs": [],
   "source": [
    "class ConvNet(nn.Module):\n",
    "    def __init__(self, width=3):\n",
    "        super(ConvNet, self).__init__()       \n",
    "        self.width=width\n",
    "        \n",
    "        self.conv1 = nn.Conv2d(1, width, kernel_size=3)\n",
    "        self.fc = nn.Linear(width*8*8, 10)\n",
    "\n",
    "    def forward(self, x):\n",
    "        x = F.relu(F.max_pool2d(self.conv1(x), 3))\n",
    "        x = x.view(-1, self.width*8*8)\n",
    "        x = self.fc(x)\n",
    "        return F.log_softmax(x, dim=1)"
   ]
  },
  {
   "cell_type": "markdown",
   "metadata": {},
   "source": [
    "## Train & Test Functions\n",
    "\n",
    "We define some functions for out training and testing loops\n",
    "\n",
    "During training, we iterate over examples while calculating losses, backpropagating and optimising the network"
   ]
  },
  {
   "cell_type": "code",
   "execution_count": 5,
   "metadata": {},
   "outputs": [],
   "source": [
    "EPOCH_SIZE = 512\n",
    "\n",
    "def train(model, optimizer, train_loader, device=None):\n",
    "    device = device or torch.device(\"cpu\")\n",
    "    \n",
    "    model.train()\n",
    "    for batch_idx, (data, target) in enumerate(train_loader):\n",
    "        if batch_idx * len(data) > EPOCH_SIZE:\n",
    "            return\n",
    "        data, target = data.to(device), target.to(device)\n",
    "        optimizer.zero_grad()\n",
    "        output = model(data)\n",
    "        loss = F.nll_loss(output, target)\n",
    "        loss.backward()\n",
    "        optimizer.step()"
   ]
  },
  {
   "cell_type": "markdown",
   "metadata": {},
   "source": [
    "During test time we iterate over the test set and calculate performance metrics"
   ]
  },
  {
   "cell_type": "code",
   "execution_count": 6,
   "metadata": {},
   "outputs": [],
   "source": [
    "TEST_SIZE=256\n",
    "\n",
    "def test(model, data_loader, device=None):\n",
    "    device = device or torch.device(\"cpu\")\n",
    "    model.eval()\n",
    "    correct = 0\n",
    "    total = 0\n",
    "    with torch.no_grad():\n",
    "        for batch_idx, (data, target) in enumerate(data_loader):\n",
    "            if batch_idx * len(data) > TEST_SIZE:\n",
    "                break\n",
    "            data, target = data.to(device), target.to(device)\n",
    "            outputs = model(data)\n",
    "            _, predicted = torch.max(outputs, 1)\n",
    "            total += target.size(0)\n",
    "            correct += (predicted == target).sum().item()\n",
    "\n",
    "    return correct / total"
   ]
  },
  {
   "cell_type": "markdown",
   "metadata": {},
   "source": [
    "## Check for CUDA"
   ]
  },
  {
   "cell_type": "code",
   "execution_count": 7,
   "metadata": {},
   "outputs": [
    {
     "name": "stdout",
     "output_type": "stream",
     "text": [
      "CUDA Available :D\n"
     ]
    }
   ],
   "source": [
    "print('CUDA Available :D') if torch.cuda.is_available() else print('CPU Only :O')"
   ]
  },
  {
   "cell_type": "markdown",
   "metadata": {},
   "source": [
    "## Start Ray"
   ]
  },
  {
   "cell_type": "code",
   "execution_count": 11,
   "metadata": {
    "scrolled": true
   },
   "outputs": [
    {
     "name": "stderr",
     "output_type": "stream",
     "text": [
      "2020-06-12 11:24:03,665\tINFO resource_spec.py:204 -- Starting Ray with 32.71 GiB memory available for workers and up to 16.37 GiB for objects. You can adjust these settings with ray.init(memory=<bytes>, object_store_memory=<bytes>).\n",
      "2020-06-12 11:24:03,932\tINFO services.py:1168 -- View the Ray dashboard at \u001b[1m\u001b[32mlocalhost:8265\u001b[39m\u001b[22m\n"
     ]
    },
    {
     "data": {
      "text/plain": [
       "{'node_ip_address': '192.168.1.39',\n",
       " 'raylet_ip_address': '192.168.1.39',\n",
       " 'redis_address': '192.168.1.39:57296',\n",
       " 'object_store_address': '/tmp/ray/session_2020-06-12_11-24-03_664057_136391/sockets/plasma_store',\n",
       " 'raylet_socket_name': '/tmp/ray/session_2020-06-12_11-24-03_664057_136391/sockets/raylet',\n",
       " 'webui_url': 'localhost:8265',\n",
       " 'session_dir': '/tmp/ray/session_2020-06-12_11-24-03_664057_136391'}"
      ]
     },
     "execution_count": 11,
     "metadata": {},
     "output_type": "execute_result"
    }
   ],
   "source": [
    "ray.shutdown()\n",
    "ray.init(num_cpus=10, num_gpus=1, include_webui=True)"
   ]
  },
  {
   "cell_type": "code",
   "execution_count": 9,
   "metadata": {},
   "outputs": [],
   "source": [
    "from os import path\n",
    "\n",
    "class TrainMNIST(tune.Trainable):\n",
    "    \n",
    "    def _setup(self, config):\n",
    "        # detect if cuda is availalbe as ray will assign GPUs if available and configured\n",
    "        self.device = torch.device(\"cuda\" if torch.cuda.is_available() else \"cpu\")\n",
    "        \n",
    "        #\n",
    "        # In this case this will also fetch the MNIST data on first run\n",
    "        #\n",
    "        self.train_loader, self.test_loader = get_data_loaders()\n",
    "        \n",
    "        # create the network\n",
    "        self.model = ConvNet(\n",
    "            # pass in parameters here if we want to tune network internals\n",
    "        ).to(self.device)\n",
    "        \n",
    "        #setup the optimiser (try Adam instead and change parameters we are tuning)\n",
    "        self.optimizer = optim.SGD(\n",
    "            self.model.parameters(),\n",
    "            lr=config.get(\"lr\", 0.01),\n",
    "            momentum=config.get(\"momentum\", 0.9))\n",
    "                \n",
    "\n",
    "    def _train(self):\n",
    "        \n",
    "        train(self.model, self.optimizer, self.train_loader, device=self.device)\n",
    "        \n",
    "        acc = test(self.model, self.test_loader, self.device)\n",
    "        \n",
    "        return {\"mean_accuracy\": acc}\n",
    "    \n",
    "    \n",
    "    def _save(self, checkpoint_dir):\n",
    "        checkpoint_path = path.join(checkpoint_dir, \"model.pth\")\n",
    "        torch.save(self.model.state_dict(), checkpoint_path)\n",
    "        return checkpoint_path\n",
    "    \n",
    "    \n",
    "    def _restore(self, checkpoint_path):\n",
    "        self.model.load_state_dict(torch.load(checkpoint_path))"
   ]
  },
  {
   "cell_type": "code",
   "execution_count": 16,
   "metadata": {
    "scrolled": true
   },
   "outputs": [
    {
     "data": {
      "text/html": [
       "== Status ==<br>Memory usage on this node: 10.1/62.8 GiB<br>Using FIFO scheduling algorithm.<br>Resources requested: 2/10 CPUs, 0/1 GPUs, 0.0/32.71 GiB heap, 0.0/11.28 GiB objects<br>Result logdir: /home/steve/ray_results/torch_mnist/TrainMNIST<br>Number of trials: 3 (2 PENDING, 1 RUNNING)<br><table>\n",
       "<thead>\n",
       "<tr><th>Trial name      </th><th>status  </th><th>loc  </th><th style=\"text-align: right;\">       lr</th><th style=\"text-align: right;\">  momentum</th></tr>\n",
       "</thead>\n",
       "<tbody>\n",
       "<tr><td>TrainMNIST_00000</td><td>RUNNING </td><td>     </td><td style=\"text-align: right;\">0.0405368</td><td style=\"text-align: right;\">  0.587597</td></tr>\n",
       "<tr><td>TrainMNIST_00001</td><td>PENDING </td><td>     </td><td style=\"text-align: right;\">0.0283701</td><td style=\"text-align: right;\">  0.406529</td></tr>\n",
       "<tr><td>TrainMNIST_00002</td><td>PENDING </td><td>     </td><td style=\"text-align: right;\">0.0590641</td><td style=\"text-align: right;\">  0.10825 </td></tr>\n",
       "</tbody>\n",
       "</table><br><br>"
      ],
      "text/plain": [
       "<IPython.core.display.HTML object>"
      ]
     },
     "metadata": {},
     "output_type": "display_data"
    },
    {
     "name": "stdout",
     "output_type": "stream",
     "text": [
      "\u001b[2m\u001b[36m(pid=136618)\u001b[0m 2020-06-12 11:27:56,240\tINFO trainable.py:217 -- Getting current IP.\n",
      "\u001b[2m\u001b[36m(pid=136617)\u001b[0m 2020-06-12 11:27:56,300\tINFO trainable.py:217 -- Getting current IP.\n",
      "\u001b[2m\u001b[36m(pid=136611)\u001b[0m 2020-06-12 11:27:56,355\tINFO trainable.py:217 -- Getting current IP.\n",
      "Result for TrainMNIST_00000:\n",
      "  date: 2020-06-12_11-27-56\n",
      "  done: false\n",
      "  experiment_id: 981d1868b5ac45e1bf9be90453977ddd\n",
      "  experiment_tag: 0_lr=0.040537,momentum=0.5876\n",
      "  hostname: cosmos-ml\n",
      "  iterations_since_restore: 1\n",
      "  mean_accuracy: 0.221875\n",
      "  node_ip: 192.168.1.39\n",
      "  pid: 136618\n",
      "  time_since_restore: 0.2382349967956543\n",
      "  time_this_iter_s: 0.2382349967956543\n",
      "  time_total_s: 0.2382349967956543\n",
      "  timestamp: 1591957676\n",
      "  timesteps_since_restore: 0\n",
      "  training_iteration: 1\n",
      "  trial_id: '00000'\n",
      "  \n",
      "Result for TrainMNIST_00001:\n",
      "  date: 2020-06-12_11-27-56\n",
      "  done: false\n",
      "  experiment_id: da5ec95ff12240b3838bc2f1afe05a7e\n",
      "  experiment_tag: 1_lr=0.02837,momentum=0.40653\n",
      "  hostname: cosmos-ml\n",
      "  iterations_since_restore: 1\n",
      "  mean_accuracy: 0.609375\n",
      "  node_ip: 192.168.1.39\n",
      "  pid: 136617\n",
      "  time_since_restore: 0.22638249397277832\n",
      "  time_this_iter_s: 0.22638249397277832\n",
      "  time_total_s: 0.22638249397277832\n",
      "  timestamp: 1591957676\n",
      "  timesteps_since_restore: 0\n",
      "  training_iteration: 1\n",
      "  trial_id: '00001'\n",
      "  \n",
      "Result for TrainMNIST_00002:\n",
      "  date: 2020-06-12_11-27-56\n",
      "  done: false\n",
      "  experiment_id: 1bdeb310c96c4e5bb1883ba93e2faf7e\n",
      "  experiment_tag: 2_lr=0.059064,momentum=0.10825\n",
      "  hostname: cosmos-ml\n",
      "  iterations_since_restore: 1\n",
      "  mean_accuracy: 0.4625\n",
      "  node_ip: 192.168.1.39\n",
      "  pid: 136611\n",
      "  time_since_restore: 0.24779319763183594\n",
      "  time_this_iter_s: 0.24779319763183594\n",
      "  time_total_s: 0.24779319763183594\n",
      "  timestamp: 1591957676\n",
      "  timesteps_since_restore: 0\n",
      "  training_iteration: 1\n",
      "  trial_id: '00002'\n",
      "  \n"
     ]
    },
    {
     "data": {
      "text/html": [
       "== Status ==<br>Memory usage on this node: 10.5/62.8 GiB<br>Using FIFO scheduling algorithm.<br>Resources requested: 6/10 CPUs, 0/1 GPUs, 0.0/32.71 GiB heap, 0.0/11.28 GiB objects<br>Result logdir: /home/steve/ray_results/torch_mnist/TrainMNIST<br>Number of trials: 3 (3 RUNNING)<br><table>\n",
       "<thead>\n",
       "<tr><th>Trial name      </th><th>status  </th><th>loc                </th><th style=\"text-align: right;\">       lr</th><th style=\"text-align: right;\">  momentum</th><th style=\"text-align: right;\">     acc</th><th style=\"text-align: right;\">  iter</th><th style=\"text-align: right;\">  total time (s)</th></tr>\n",
       "</thead>\n",
       "<tbody>\n",
       "<tr><td>TrainMNIST_00000</td><td>RUNNING </td><td>192.168.1.39:136618</td><td style=\"text-align: right;\">0.0405368</td><td style=\"text-align: right;\">  0.587597</td><td style=\"text-align: right;\">0.89375 </td><td style=\"text-align: right;\">    16</td><td style=\"text-align: right;\">         3.87851</td></tr>\n",
       "<tr><td>TrainMNIST_00001</td><td>RUNNING </td><td>192.168.1.39:136617</td><td style=\"text-align: right;\">0.0283701</td><td style=\"text-align: right;\">  0.406529</td><td style=\"text-align: right;\">0.884375</td><td style=\"text-align: right;\">    17</td><td style=\"text-align: right;\">         4.06   </td></tr>\n",
       "<tr><td>TrainMNIST_00002</td><td>RUNNING </td><td>192.168.1.39:136611</td><td style=\"text-align: right;\">0.0590641</td><td style=\"text-align: right;\">  0.10825 </td><td style=\"text-align: right;\">0.8625  </td><td style=\"text-align: right;\">    16</td><td style=\"text-align: right;\">         3.80447</td></tr>\n",
       "</tbody>\n",
       "</table><br><br>"
      ],
      "text/plain": [
       "<IPython.core.display.HTML object>"
      ]
     },
     "metadata": {},
     "output_type": "display_data"
    },
    {
     "name": "stdout",
     "output_type": "stream",
     "text": [
      "Result for TrainMNIST_00000:\n",
      "  date: 2020-06-12_11-28-01\n",
      "  done: false\n",
      "  experiment_id: 981d1868b5ac45e1bf9be90453977ddd\n",
      "  experiment_tag: 0_lr=0.040537,momentum=0.5876\n",
      "  hostname: cosmos-ml\n",
      "  iterations_since_restore: 22\n",
      "  mean_accuracy: 0.89375\n",
      "  node_ip: 192.168.1.39\n",
      "  pid: 136618\n",
      "  time_since_restore: 5.351626396179199\n",
      "  time_this_iter_s: 0.2372739315032959\n",
      "  time_total_s: 5.351626396179199\n",
      "  timestamp: 1591957681\n",
      "  timesteps_since_restore: 0\n",
      "  training_iteration: 22\n",
      "  trial_id: '00000'\n",
      "  \n",
      "Result for TrainMNIST_00001:\n",
      "  date: 2020-06-12_11-28-01\n",
      "  done: false\n",
      "  experiment_id: da5ec95ff12240b3838bc2f1afe05a7e\n",
      "  experiment_tag: 1_lr=0.02837,momentum=0.40653\n",
      "  hostname: cosmos-ml\n",
      "  iterations_since_restore: 22\n",
      "  mean_accuracy: 0.884375\n",
      "  node_ip: 192.168.1.39\n",
      "  pid: 136617\n",
      "  time_since_restore: 5.293994665145874\n",
      "  time_this_iter_s: 0.2415311336517334\n",
      "  time_total_s: 5.293994665145874\n",
      "  timestamp: 1591957681\n",
      "  timesteps_since_restore: 0\n",
      "  training_iteration: 22\n",
      "  trial_id: '00001'\n",
      "  \n",
      "Result for TrainMNIST_00002:\n",
      "  date: 2020-06-12_11-28-01\n",
      "  done: false\n",
      "  experiment_id: 1bdeb310c96c4e5bb1883ba93e2faf7e\n",
      "  experiment_tag: 2_lr=0.059064,momentum=0.10825\n",
      "  hostname: cosmos-ml\n",
      "  iterations_since_restore: 22\n",
      "  mean_accuracy: 0.884375\n",
      "  node_ip: 192.168.1.39\n",
      "  pid: 136611\n",
      "  time_since_restore: 5.294191360473633\n",
      "  time_this_iter_s: 0.24866914749145508\n",
      "  time_total_s: 5.294191360473633\n",
      "  timestamp: 1591957681\n",
      "  timesteps_since_restore: 0\n",
      "  training_iteration: 22\n",
      "  trial_id: '00002'\n",
      "  \n"
     ]
    },
    {
     "data": {
      "text/html": [
       "== Status ==<br>Memory usage on this node: 10.5/62.8 GiB<br>Using FIFO scheduling algorithm.<br>Resources requested: 6/10 CPUs, 0/1 GPUs, 0.0/32.71 GiB heap, 0.0/11.28 GiB objects<br>Result logdir: /home/steve/ray_results/torch_mnist/TrainMNIST<br>Number of trials: 3 (3 RUNNING)<br><table>\n",
       "<thead>\n",
       "<tr><th>Trial name      </th><th>status  </th><th>loc                </th><th style=\"text-align: right;\">       lr</th><th style=\"text-align: right;\">  momentum</th><th style=\"text-align: right;\">     acc</th><th style=\"text-align: right;\">  iter</th><th style=\"text-align: right;\">  total time (s)</th></tr>\n",
       "</thead>\n",
       "<tbody>\n",
       "<tr><td>TrainMNIST_00000</td><td>RUNNING </td><td>192.168.1.39:136618</td><td style=\"text-align: right;\">0.0405368</td><td style=\"text-align: right;\">  0.587597</td><td style=\"text-align: right;\">0.921875</td><td style=\"text-align: right;\">    38</td><td style=\"text-align: right;\">         9.1147 </td></tr>\n",
       "<tr><td>TrainMNIST_00001</td><td>RUNNING </td><td>192.168.1.39:136617</td><td style=\"text-align: right;\">0.0283701</td><td style=\"text-align: right;\">  0.406529</td><td style=\"text-align: right;\">0.903125</td><td style=\"text-align: right;\">    37</td><td style=\"text-align: right;\">         8.8376 </td></tr>\n",
       "<tr><td>TrainMNIST_00002</td><td>RUNNING </td><td>192.168.1.39:136611</td><td style=\"text-align: right;\">0.0590641</td><td style=\"text-align: right;\">  0.10825 </td><td style=\"text-align: right;\">0.896875</td><td style=\"text-align: right;\">    37</td><td style=\"text-align: right;\">         8.77706</td></tr>\n",
       "</tbody>\n",
       "</table><br><br>"
      ],
      "text/plain": [
       "<IPython.core.display.HTML object>"
      ]
     },
     "metadata": {},
     "output_type": "display_data"
    },
    {
     "name": "stdout",
     "output_type": "stream",
     "text": [
      "Result for TrainMNIST_00001:\n",
      "  date: 2020-06-12_11-28-06\n",
      "  done: false\n",
      "  experiment_id: da5ec95ff12240b3838bc2f1afe05a7e\n",
      "  experiment_tag: 1_lr=0.02837,momentum=0.40653\n",
      "  hostname: cosmos-ml\n",
      "  iterations_since_restore: 43\n",
      "  mean_accuracy: 0.896875\n",
      "  node_ip: 192.168.1.39\n",
      "  pid: 136617\n",
      "  time_since_restore: 10.24218225479126\n",
      "  time_this_iter_s: 0.23179054260253906\n",
      "  time_total_s: 10.24218225479126\n",
      "  timestamp: 1591957686\n",
      "  timesteps_since_restore: 0\n",
      "  training_iteration: 43\n",
      "  trial_id: '00001'\n",
      "  \n",
      "Result for TrainMNIST_00000:\n",
      "  date: 2020-06-12_11-28-06\n",
      "  done: false\n",
      "  experiment_id: 981d1868b5ac45e1bf9be90453977ddd\n",
      "  experiment_tag: 0_lr=0.040537,momentum=0.5876\n",
      "  hostname: cosmos-ml\n",
      "  iterations_since_restore: 44\n",
      "  mean_accuracy: 0.928125\n",
      "  node_ip: 192.168.1.39\n",
      "  pid: 136618\n",
      "  time_since_restore: 10.518092155456543\n",
      "  time_this_iter_s: 0.24366211891174316\n",
      "  time_total_s: 10.518092155456543\n",
      "  timestamp: 1591957686\n",
      "  timesteps_since_restore: 0\n",
      "  training_iteration: 44\n",
      "  trial_id: '00000'\n",
      "  \n",
      "Result for TrainMNIST_00002:\n",
      "  date: 2020-06-12_11-28-06\n",
      "  done: false\n",
      "  experiment_id: 1bdeb310c96c4e5bb1883ba93e2faf7e\n",
      "  experiment_tag: 2_lr=0.059064,momentum=0.10825\n",
      "  hostname: cosmos-ml\n",
      "  iterations_since_restore: 44\n",
      "  mean_accuracy: 0.909375\n",
      "  node_ip: 192.168.1.39\n",
      "  pid: 136611\n",
      "  time_since_restore: 10.44428300857544\n",
      "  time_this_iter_s: 0.2234668731689453\n",
      "  time_total_s: 10.44428300857544\n",
      "  timestamp: 1591957686\n",
      "  timesteps_since_restore: 0\n",
      "  training_iteration: 44\n",
      "  trial_id: '00002'\n",
      "  \n"
     ]
    },
    {
     "data": {
      "text/html": [
       "== Status ==<br>Memory usage on this node: 10.6/62.8 GiB<br>Using FIFO scheduling algorithm.<br>Resources requested: 6/10 CPUs, 0/1 GPUs, 0.0/32.71 GiB heap, 0.0/11.28 GiB objects<br>Result logdir: /home/steve/ray_results/torch_mnist/TrainMNIST<br>Number of trials: 3 (3 RUNNING)<br><table>\n",
       "<thead>\n",
       "<tr><th>Trial name      </th><th>status  </th><th>loc                </th><th style=\"text-align: right;\">       lr</th><th style=\"text-align: right;\">  momentum</th><th style=\"text-align: right;\">     acc</th><th style=\"text-align: right;\">  iter</th><th style=\"text-align: right;\">  total time (s)</th></tr>\n",
       "</thead>\n",
       "<tbody>\n",
       "<tr><td>TrainMNIST_00000</td><td>RUNNING </td><td>192.168.1.39:136618</td><td style=\"text-align: right;\">0.0405368</td><td style=\"text-align: right;\">  0.587597</td><td style=\"text-align: right;\">0.934375</td><td style=\"text-align: right;\">    58</td><td style=\"text-align: right;\">         13.8723</td></tr>\n",
       "<tr><td>TrainMNIST_00001</td><td>RUNNING </td><td>192.168.1.39:136617</td><td style=\"text-align: right;\">0.0283701</td><td style=\"text-align: right;\">  0.406529</td><td style=\"text-align: right;\">0.928125</td><td style=\"text-align: right;\">    59</td><td style=\"text-align: right;\">         13.9779</td></tr>\n",
       "<tr><td>TrainMNIST_00002</td><td>RUNNING </td><td>192.168.1.39:136611</td><td style=\"text-align: right;\">0.0590641</td><td style=\"text-align: right;\">  0.10825 </td><td style=\"text-align: right;\">0.95    </td><td style=\"text-align: right;\">    59</td><td style=\"text-align: right;\">         13.8805</td></tr>\n",
       "</tbody>\n",
       "</table><br><br>"
      ],
      "text/plain": [
       "<IPython.core.display.HTML object>"
      ]
     },
     "metadata": {},
     "output_type": "display_data"
    },
    {
     "name": "stdout",
     "output_type": "stream",
     "text": [
      "Result for TrainMNIST_00001:\n",
      "  date: 2020-06-12_11-28-11\n",
      "  done: false\n",
      "  experiment_id: da5ec95ff12240b3838bc2f1afe05a7e\n",
      "  experiment_tag: 1_lr=0.02837,momentum=0.40653\n",
      "  hostname: cosmos-ml\n",
      "  iterations_since_restore: 65\n",
      "  mean_accuracy: 0.903125\n",
      "  node_ip: 192.168.1.39\n",
      "  pid: 136617\n",
      "  time_since_restore: 15.384952306747437\n",
      "  time_this_iter_s: 0.2303328514099121\n",
      "  time_total_s: 15.384952306747437\n",
      "  timestamp: 1591957691\n",
      "  timesteps_since_restore: 0\n",
      "  training_iteration: 65\n",
      "  trial_id: '00001'\n",
      "  \n",
      "Result for TrainMNIST_00000:\n",
      "  date: 2020-06-12_11-28-12\n",
      "  done: false\n",
      "  experiment_id: 981d1868b5ac45e1bf9be90453977ddd\n",
      "  experiment_tag: 0_lr=0.040537,momentum=0.5876\n",
      "  hostname: cosmos-ml\n",
      "  iterations_since_restore: 65\n",
      "  mean_accuracy: 0.940625\n",
      "  node_ip: 192.168.1.39\n",
      "  pid: 136618\n",
      "  time_since_restore: 15.526732206344604\n",
      "  time_this_iter_s: 0.23478364944458008\n",
      "  time_total_s: 15.526732206344604\n",
      "  timestamp: 1591957692\n",
      "  timesteps_since_restore: 0\n",
      "  training_iteration: 65\n",
      "  trial_id: '00000'\n",
      "  \n",
      "Result for TrainMNIST_00002:\n",
      "  date: 2020-06-12_11-28-12\n",
      "  done: false\n",
      "  experiment_id: 1bdeb310c96c4e5bb1883ba93e2faf7e\n",
      "  experiment_tag: 2_lr=0.059064,momentum=0.10825\n",
      "  hostname: cosmos-ml\n",
      "  iterations_since_restore: 66\n",
      "  mean_accuracy: 0.915625\n",
      "  node_ip: 192.168.1.39\n",
      "  pid: 136611\n",
      "  time_since_restore: 15.472469329833984\n",
      "  time_this_iter_s: 0.23639726638793945\n",
      "  time_total_s: 15.472469329833984\n",
      "  timestamp: 1591957692\n",
      "  timesteps_since_restore: 0\n",
      "  training_iteration: 66\n",
      "  trial_id: '00002'\n",
      "  \n"
     ]
    },
    {
     "data": {
      "text/html": [
       "== Status ==<br>Memory usage on this node: 10.6/62.8 GiB<br>Using FIFO scheduling algorithm.<br>Resources requested: 6/10 CPUs, 0/1 GPUs, 0.0/32.71 GiB heap, 0.0/11.28 GiB objects<br>Result logdir: /home/steve/ray_results/torch_mnist/TrainMNIST<br>Number of trials: 3 (3 RUNNING)<br><table>\n",
       "<thead>\n",
       "<tr><th>Trial name      </th><th>status  </th><th>loc                </th><th style=\"text-align: right;\">       lr</th><th style=\"text-align: right;\">  momentum</th><th style=\"text-align: right;\">     acc</th><th style=\"text-align: right;\">  iter</th><th style=\"text-align: right;\">  total time (s)</th></tr>\n",
       "</thead>\n",
       "<tbody>\n",
       "<tr><td>TrainMNIST_00000</td><td>RUNNING </td><td>192.168.1.39:136618</td><td style=\"text-align: right;\">0.0405368</td><td style=\"text-align: right;\">  0.587597</td><td style=\"text-align: right;\">0.896875</td><td style=\"text-align: right;\">    80</td><td style=\"text-align: right;\">         19.021 </td></tr>\n",
       "<tr><td>TrainMNIST_00001</td><td>RUNNING </td><td>192.168.1.39:136617</td><td style=\"text-align: right;\">0.0283701</td><td style=\"text-align: right;\">  0.406529</td><td style=\"text-align: right;\">0.915625</td><td style=\"text-align: right;\">    79</td><td style=\"text-align: right;\">         18.8258</td></tr>\n",
       "<tr><td>TrainMNIST_00002</td><td>RUNNING </td><td>192.168.1.39:136611</td><td style=\"text-align: right;\">0.0590641</td><td style=\"text-align: right;\">  0.10825 </td><td style=\"text-align: right;\">0.946875</td><td style=\"text-align: right;\">    80</td><td style=\"text-align: right;\">         18.8054</td></tr>\n",
       "</tbody>\n",
       "</table><br><br>"
      ],
      "text/plain": [
       "<IPython.core.display.HTML object>"
      ]
     },
     "metadata": {},
     "output_type": "display_data"
    },
    {
     "name": "stdout",
     "output_type": "stream",
     "text": [
      "Result for TrainMNIST_00001:\n",
      "  date: 2020-06-12_11-28-16\n",
      "  done: false\n",
      "  experiment_id: da5ec95ff12240b3838bc2f1afe05a7e\n",
      "  experiment_tag: 1_lr=0.02837,momentum=0.40653\n",
      "  hostname: cosmos-ml\n",
      "  iterations_since_restore: 85\n",
      "  mean_accuracy: 0.921875\n",
      "  node_ip: 192.168.1.39\n",
      "  pid: 136617\n",
      "  time_since_restore: 20.331984043121338\n",
      "  time_this_iter_s: 0.25345897674560547\n",
      "  time_total_s: 20.331984043121338\n",
      "  timestamp: 1591957696\n",
      "  timesteps_since_restore: 0\n",
      "  training_iteration: 85\n",
      "  trial_id: '00001'\n",
      "  \n",
      "Result for TrainMNIST_00002:\n",
      "  date: 2020-06-12_11-28-17\n",
      "  done: false\n",
      "  experiment_id: 1bdeb310c96c4e5bb1883ba93e2faf7e\n",
      "  experiment_tag: 2_lr=0.059064,momentum=0.10825\n",
      "  hostname: cosmos-ml\n",
      "  iterations_since_restore: 87\n",
      "  mean_accuracy: 0.94375\n",
      "  node_ip: 192.168.1.39\n",
      "  pid: 136611\n",
      "  time_since_restore: 20.478273153305054\n",
      "  time_this_iter_s: 0.2333536148071289\n",
      "  time_total_s: 20.478273153305054\n",
      "  timestamp: 1591957697\n",
      "  timesteps_since_restore: 0\n",
      "  training_iteration: 87\n",
      "  trial_id: '00002'\n",
      "  \n",
      "Result for TrainMNIST_00000:\n",
      "  date: 2020-06-12_11-28-17\n",
      "  done: false\n",
      "  experiment_id: 981d1868b5ac45e1bf9be90453977ddd\n",
      "  experiment_tag: 0_lr=0.040537,momentum=0.5876\n",
      "  hostname: cosmos-ml\n",
      "  iterations_since_restore: 87\n",
      "  mean_accuracy: 0.95\n",
      "  node_ip: 192.168.1.39\n",
      "  pid: 136618\n",
      "  time_since_restore: 20.67939782142639\n",
      "  time_this_iter_s: 0.23520708084106445\n",
      "  time_total_s: 20.67939782142639\n",
      "  timestamp: 1591957697\n",
      "  timesteps_since_restore: 0\n",
      "  training_iteration: 87\n",
      "  trial_id: '00000'\n",
      "  \n",
      "Result for TrainMNIST_00002:\n",
      "  date: 2020-06-12_11-28-20\n",
      "  done: true\n",
      "  experiment_id: 1bdeb310c96c4e5bb1883ba93e2faf7e\n",
      "  experiment_tag: 2_lr=0.059064,momentum=0.10825\n",
      "  hostname: cosmos-ml\n",
      "  iterations_since_restore: 100\n",
      "  mean_accuracy: 0.95\n",
      "  node_ip: 192.168.1.39\n",
      "  pid: 136611\n",
      "  time_since_restore: 23.564629554748535\n",
      "  time_this_iter_s: 0.23859095573425293\n",
      "  time_total_s: 23.564629554748535\n",
      "  timestamp: 1591957700\n",
      "  timesteps_since_restore: 0\n",
      "  training_iteration: 100\n",
      "  trial_id: '00002'\n",
      "  \n",
      "Result for TrainMNIST_00000:\n",
      "  date: 2020-06-12_11-28-20\n",
      "  done: true\n",
      "  experiment_id: 981d1868b5ac45e1bf9be90453977ddd\n",
      "  experiment_tag: 0_lr=0.040537,momentum=0.5876\n",
      "  hostname: cosmos-ml\n",
      "  iterations_since_restore: 100\n",
      "  mean_accuracy: 0.95\n",
      "  node_ip: 192.168.1.39\n",
      "  pid: 136618\n",
      "  time_since_restore: 23.73047709465027\n",
      "  time_this_iter_s: 0.2287588119506836\n",
      "  time_total_s: 23.73047709465027\n",
      "  timestamp: 1591957700\n",
      "  timesteps_since_restore: 0\n",
      "  training_iteration: 100\n",
      "  trial_id: '00000'\n",
      "  \n",
      "Result for TrainMNIST_00001:\n",
      "  date: 2020-06-12_11-28-20\n",
      "  done: true\n",
      "  experiment_id: da5ec95ff12240b3838bc2f1afe05a7e\n",
      "  experiment_tag: 1_lr=0.02837,momentum=0.40653\n",
      "  hostname: cosmos-ml\n",
      "  iterations_since_restore: 100\n",
      "  mean_accuracy: 0.909375\n",
      "  node_ip: 192.168.1.39\n",
      "  pid: 136617\n",
      "  time_since_restore: 24.08525824546814\n",
      "  time_this_iter_s: 0.2643580436706543\n",
      "  time_total_s: 24.08525824546814\n",
      "  timestamp: 1591957700\n",
      "  timesteps_since_restore: 0\n",
      "  training_iteration: 100\n",
      "  trial_id: '00001'\n",
      "  \n"
     ]
    },
    {
     "data": {
      "text/html": [
       "== Status ==<br>Memory usage on this node: 10.2/62.8 GiB<br>Using FIFO scheduling algorithm.<br>Resources requested: 2/10 CPUs, 0/1 GPUs, 0.0/32.71 GiB heap, 0.0/11.28 GiB objects<br>Result logdir: /home/steve/ray_results/torch_mnist/TrainMNIST<br>Number of trials: 3 (1 RUNNING, 2 TERMINATED)<br><table>\n",
       "<thead>\n",
       "<tr><th>Trial name      </th><th>status    </th><th>loc                </th><th style=\"text-align: right;\">       lr</th><th style=\"text-align: right;\">  momentum</th><th style=\"text-align: right;\">     acc</th><th style=\"text-align: right;\">  iter</th><th style=\"text-align: right;\">  total time (s)</th></tr>\n",
       "</thead>\n",
       "<tbody>\n",
       "<tr><td>TrainMNIST_00000</td><td>TERMINATED</td><td>                   </td><td style=\"text-align: right;\">0.0405368</td><td style=\"text-align: right;\">  0.587597</td><td style=\"text-align: right;\">0.95    </td><td style=\"text-align: right;\">   100</td><td style=\"text-align: right;\">         23.7305</td></tr>\n",
       "<tr><td>TrainMNIST_00001</td><td>RUNNING   </td><td>192.168.1.39:136617</td><td style=\"text-align: right;\">0.0283701</td><td style=\"text-align: right;\">  0.406529</td><td style=\"text-align: right;\">0.909375</td><td style=\"text-align: right;\">   100</td><td style=\"text-align: right;\">         24.0853</td></tr>\n",
       "<tr><td>TrainMNIST_00002</td><td>TERMINATED</td><td>                   </td><td style=\"text-align: right;\">0.0590641</td><td style=\"text-align: right;\">  0.10825 </td><td style=\"text-align: right;\">0.95    </td><td style=\"text-align: right;\">   100</td><td style=\"text-align: right;\">         23.5646</td></tr>\n",
       "</tbody>\n",
       "</table><br><br>"
      ],
      "text/plain": [
       "<IPython.core.display.HTML object>"
      ]
     },
     "metadata": {},
     "output_type": "display_data"
    },
    {
     "data": {
      "text/html": [
       "== Status ==<br>Memory usage on this node: 10.2/62.8 GiB<br>Using FIFO scheduling algorithm.<br>Resources requested: 0/10 CPUs, 0/1 GPUs, 0.0/32.71 GiB heap, 0.0/11.28 GiB objects<br>Result logdir: /home/steve/ray_results/torch_mnist/TrainMNIST<br>Number of trials: 3 (3 TERMINATED)<br><table>\n",
       "<thead>\n",
       "<tr><th>Trial name      </th><th>status    </th><th>loc  </th><th style=\"text-align: right;\">       lr</th><th style=\"text-align: right;\">  momentum</th><th style=\"text-align: right;\">     acc</th><th style=\"text-align: right;\">  iter</th><th style=\"text-align: right;\">  total time (s)</th></tr>\n",
       "</thead>\n",
       "<tbody>\n",
       "<tr><td>TrainMNIST_00000</td><td>TERMINATED</td><td>     </td><td style=\"text-align: right;\">0.0405368</td><td style=\"text-align: right;\">  0.587597</td><td style=\"text-align: right;\">0.95    </td><td style=\"text-align: right;\">   100</td><td style=\"text-align: right;\">         23.7305</td></tr>\n",
       "<tr><td>TrainMNIST_00001</td><td>TERMINATED</td><td>     </td><td style=\"text-align: right;\">0.0283701</td><td style=\"text-align: right;\">  0.406529</td><td style=\"text-align: right;\">0.909375</td><td style=\"text-align: right;\">   100</td><td style=\"text-align: right;\">         24.0853</td></tr>\n",
       "<tr><td>TrainMNIST_00002</td><td>TERMINATED</td><td>     </td><td style=\"text-align: right;\">0.0590641</td><td style=\"text-align: right;\">  0.10825 </td><td style=\"text-align: right;\">0.95    </td><td style=\"text-align: right;\">   100</td><td style=\"text-align: right;\">         23.5646</td></tr>\n",
       "</tbody>\n",
       "</table><br><br>"
      ],
      "text/plain": [
       "<IPython.core.display.HTML object>"
      ]
     },
     "metadata": {},
     "output_type": "display_data"
    }
   ],
   "source": [
    "config = {\n",
    "        \"lr\": tune.uniform(0.001, 0.1),\n",
    "        \"momentum\": tune.uniform(0.1, 0.9),\n",
    "    }\n",
    "\n",
    "\n",
    "analysis = tune.run(\n",
    "    TrainMNIST,\n",
    "    config=config,\n",
    "    local_dir=\"~/ray_results/torch_mnist\",\n",
    "    resources_per_trial={\n",
    "        \"cpu\": 2,\n",
    "        \"gpu\": 0\n",
    "    },\n",
    "    num_samples=3,\n",
    "    checkpoint_at_end=True,\n",
    "    checkpoint_freq=10,\n",
    "#     keep_checkpoints_num=3, # only keep n best checkpoints\n",
    "    stop={\n",
    "        \"mean_accuracy\": 0.99,\n",
    "        \"training_iteration\": 100,\n",
    "    })\n",
    "\n"
   ]
  },
  {
   "cell_type": "code",
   "execution_count": 17,
   "metadata": {},
   "outputs": [
    {
     "name": "stdout",
     "output_type": "stream",
     "text": [
      "Best config is:\n",
      "TrainMNIST_00001\n",
      "{'lr': 0.028370071544628866, 'momentum': 0.4065294092602024}\n"
     ]
    }
   ],
   "source": [
    "from pprint import pprint\n",
    "print(\"Best config is:\")\n",
    "pprint(analysis.get_best_trial(metric=\"mean_accuracy\"))\n",
    "pprint(analysis.get_best_config(metric=\"mean_accuracy\"))"
   ]
  },
  {
   "cell_type": "markdown",
   "metadata": {},
   "source": [
    "## Load a model and check results"
   ]
  },
  {
   "cell_type": "code",
   "execution_count": 18,
   "metadata": {},
   "outputs": [],
   "source": [
    "train_loader, test_loader = get_data_loaders()"
   ]
  },
  {
   "cell_type": "code",
   "execution_count": 19,
   "metadata": {
    "scrolled": false
   },
   "outputs": [],
   "source": [
    "X, y = list(test_loader)[np.random.randint(0, len(test_loader))]"
   ]
  },
  {
   "cell_type": "markdown",
   "metadata": {},
   "source": [
    "#### Find the model checkpoint you want to load"
   ]
  },
  {
   "cell_type": "code",
   "execution_count": 20,
   "metadata": {},
   "outputs": [
    {
     "name": "stdout",
     "output_type": "stream",
     "text": [
      "True\n"
     ]
    }
   ],
   "source": [
    "checkpoint_path = path.join(path.expanduser('~'),'ray_results','torch_mnist','TrainMNIST',\n",
    "                          'TrainMNIST_1_lr=0.02837,momentum=0.40653_2020-06-12_11-27-558a5m3jyk',\n",
    "                         'checkpoint_100', 'model.pth')\n",
    "print(path.exists(checkpoint_path))"
   ]
  },
  {
   "cell_type": "code",
   "execution_count": 21,
   "metadata": {},
   "outputs": [],
   "source": [
    "device = torch.device(\"cuda\" if torch.cuda.is_available() else \"cpu\")\n",
    "\n",
    "with torch.set_grad_enabled(False):\n",
    "    model = ConvNet()\n",
    "    model.load_state_dict(torch.load(checkpoint_path))\n",
    "    \n",
    "    model.to(device)\n",
    "    \n",
    "    y_ = model(X.to(device)).cpu()\n",
    "    \n",
    "    _, predicted = torch.max(y_, 1)"
   ]
  },
  {
   "cell_type": "code",
   "execution_count": 22,
   "metadata": {
    "scrolled": false
   },
   "outputs": [
    {
     "data": {
      "image/png": "[encoded data removed]",
      "text/plain": [
       "<Figure size 1440x1440 with 64 Axes>"
      ]
     },
     "metadata": {},
     "output_type": "display_data"
    }
   ],
   "source": [
    "fig, axs = plt.subplots(8,8, figsize=(20,20))\n",
    "axsf = [item for s in axs for item in s]\n",
    "\n",
    "for n,ax in enumerate(axsf):\n",
    "    ax.imshow(X[n].squeeze().numpy())\n",
    "    ax.axis('off')\n",
    "    ax.set_title(predicted[n].item())\n",
    "    \n",
    "plt.show()"
   ]
  },
  {
   "cell_type": "code",
   "execution_count": 23,
   "metadata": {},
   "outputs": [],
   "source": [
    "ray.shutdown()\n"
   ]
  },
  {
   "cell_type": "code",
   "execution_count": null,
   "metadata": {},
   "outputs": [],
   "source": [
    "# https://github.com/ray-project/ray/issues/4569"
   ]
  },
  {
   "cell_type": "code",
   "execution_count": null,
   "metadata": {},
   "outputs": [],
   "source": [
    "# Exercises\n",
    "# - change out the optimiser for adam\n",
    "# - add network hyperparameters"
   ]
  }
 ],
 "metadata": {
  "kernelspec": {
   "display_name": "Python 3",
   "language": "python",
   "name": "python3"
  },
  "language_info": {
   "codemirror_mode": {
    "name": "ipython",
    "version": 3
   },
   "file_extension": ".py",
   "mimetype": "text/x-python",
   "name": "python",
   "nbconvert_exporter": "python",
   "pygments_lexer": "ipython3",
   "version": "3.8.3"
  }
 },
 "nbformat": 4,
 "nbformat_minor": 4
}
