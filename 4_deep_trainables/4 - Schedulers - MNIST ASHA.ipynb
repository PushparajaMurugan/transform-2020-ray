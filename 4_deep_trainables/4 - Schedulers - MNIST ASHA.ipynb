{
 "cells": [
  {
   "cell_type": "code",
   "execution_count": 5,
   "metadata": {},
   "outputs": [
    {
     "name": "stdout",
     "output_type": "stream",
     "text": [
      "The autoreload extension is already loaded. To reload it, use:\n",
      "  %reload_ext autoreload\n"
     ]
    }
   ],
   "source": [
    "%load_ext autoreload\n",
    "%autoreload 2\n",
    "\n",
    "from dependencies import *\n",
    "from mnist_pytorch import get_data_loaders\n",
    "from mnist_training import *"
   ]
  },
  {
   "cell_type": "code",
   "execution_count": 31,
   "metadata": {},
   "outputs": [
    {
     "name": "stderr",
     "output_type": "stream",
     "text": [
      "2020-06-08 16:39:31,063\tINFO resource_spec.py:204 -- Starting Ray with 4.59 GiB memory available for workers and up to 2.3 GiB for objects. You can adjust these settings with ray.init(memory=<bytes>, object_store_memory=<bytes>).\n",
      "2020-06-08 16:39:31,335\tINFO services.py:1168 -- View the Ray dashboard at \u001b[1m\u001b[32mlocalhost:8265\u001b[39m\u001b[22m\n"
     ]
    },
    {
     "data": {
      "text/plain": [
       "{'node_ip_address': '192.168.1.36',\n",
       " 'raylet_ip_address': '192.168.1.36',\n",
       " 'redis_address': '192.168.1.36:62769',\n",
       " 'object_store_address': '/tmp/ray/session_2020-06-08_16-39-31_048190_82855/sockets/plasma_store',\n",
       " 'raylet_socket_name': '/tmp/ray/session_2020-06-08_16-39-31_048190_82855/sockets/raylet',\n",
       " 'webui_url': 'localhost:8265',\n",
       " 'session_dir': '/tmp/ray/session_2020-06-08_16-39-31_048190_82855'}"
      ]
     },
     "execution_count": 31,
     "metadata": {},
     "output_type": "execute_result"
    }
   ],
   "source": [
    "ray.shutdown()\n",
    "ray.init(num_cpus=2, num_gpus=1, include_webui=True)"
   ]
  },
  {
   "cell_type": "code",
   "execution_count": 33,
   "metadata": {
    "scrolled": false
   },
   "outputs": [
    {
     "data": {
      "text/html": [
       "== Status ==<br>Memory usage on this node: 9.9/16.0 GiB<br>Using FIFO scheduling algorithm.<br>Resources requested: 2/2 CPUs, 1/1 GPUs, 0.0/4.59 GiB heap, 0.0/1.56 GiB objects<br>Result logdir: /Users/stevejpurves/ray_results/torch_mnist/TrainMNIST<br>Number of trials: 3 (2 PENDING, 1 RUNNING)<br><table>\n",
       "<thead>\n",
       "<tr><th>Trial name      </th><th>status  </th><th>loc  </th><th style=\"text-align: right;\">       lr</th><th style=\"text-align: right;\">  momentum</th></tr>\n",
       "</thead>\n",
       "<tbody>\n",
       "<tr><td>TrainMNIST_00000</td><td>RUNNING </td><td>     </td><td style=\"text-align: right;\">0.0062032</td><td style=\"text-align: right;\">  0.477556</td></tr>\n",
       "<tr><td>TrainMNIST_00001</td><td>PENDING </td><td>     </td><td style=\"text-align: right;\">0.0267903</td><td style=\"text-align: right;\">  0.370656</td></tr>\n",
       "<tr><td>TrainMNIST_00002</td><td>PENDING </td><td>     </td><td style=\"text-align: right;\">0.0921841</td><td style=\"text-align: right;\">  0.56446 </td></tr>\n",
       "</tbody>\n",
       "</table><br><br>"
      ],
      "text/plain": [
       "<IPython.core.display.HTML object>"
      ]
     },
     "metadata": {},
     "output_type": "display_data"
    },
    {
     "name": "stdout",
     "output_type": "stream",
     "text": [
      "\u001b[2m\u001b[36m(pid=90429)\u001b[0m setup config None\n",
      "\u001b[2m\u001b[36m(pid=90429)\u001b[0m 2020-06-08 16:39:34,099\tINFO trainable.py:217 -- Getting current IP.\n",
      "Result for TrainMNIST_00000:\n",
      "  date: 2020-06-08_16-39-34\n",
      "  done: false\n",
      "  experiment_id: 96f078447e3d416cb2f4b9b502cc87b9\n",
      "  experiment_tag: 0_lr=0.0062032,momentum=0.47756\n",
      "  hostname: Steves-MacBook-Pro.local\n",
      "  iterations_since_restore: 1\n",
      "  mean_accuracy: 0.321875\n",
      "  node_ip: 192.168.1.36\n",
      "  pid: 90429\n",
      "  time_since_restore: 0.20974183082580566\n",
      "  time_this_iter_s: 0.20974183082580566\n",
      "  time_total_s: 0.20974183082580566\n",
      "  timestamp: 1591630774\n",
      "  timesteps_since_restore: 0\n",
      "  training_iteration: 1\n",
      "  trial_id: '00000'\n",
      "  \n"
     ]
    },
    {
     "data": {
      "text/html": [
       "== Status ==<br>Memory usage on this node: 9.9/16.0 GiB<br>Using FIFO scheduling algorithm.<br>Resources requested: 2/2 CPUs, 1/1 GPUs, 0.0/4.59 GiB heap, 0.0/1.56 GiB objects<br>Result logdir: /Users/stevejpurves/ray_results/torch_mnist/TrainMNIST<br>Number of trials: 3 (2 PENDING, 1 RUNNING)<br><table>\n",
       "<thead>\n",
       "<tr><th>Trial name      </th><th>status  </th><th>loc               </th><th style=\"text-align: right;\">       lr</th><th style=\"text-align: right;\">  momentum</th><th style=\"text-align: right;\">     acc</th><th style=\"text-align: right;\">  iter</th><th style=\"text-align: right;\">  total time (s)</th></tr>\n",
       "</thead>\n",
       "<tbody>\n",
       "<tr><td>TrainMNIST_00000</td><td>RUNNING </td><td>192.168.1.36:90429</td><td style=\"text-align: right;\">0.0062032</td><td style=\"text-align: right;\">  0.477556</td><td style=\"text-align: right;\">0.871875</td><td style=\"text-align: right;\">    17</td><td style=\"text-align: right;\">         3.43801</td></tr>\n",
       "<tr><td>TrainMNIST_00001</td><td>PENDING </td><td>                  </td><td style=\"text-align: right;\">0.0267903</td><td style=\"text-align: right;\">  0.370656</td><td style=\"text-align: right;\">        </td><td style=\"text-align: right;\">      </td><td style=\"text-align: right;\">                </td></tr>\n",
       "<tr><td>TrainMNIST_00002</td><td>PENDING </td><td>                  </td><td style=\"text-align: right;\">0.0921841</td><td style=\"text-align: right;\">  0.56446 </td><td style=\"text-align: right;\">        </td><td style=\"text-align: right;\">      </td><td style=\"text-align: right;\">                </td></tr>\n",
       "</tbody>\n",
       "</table><br><br>"
      ],
      "text/plain": [
       "<IPython.core.display.HTML object>"
      ]
     },
     "metadata": {},
     "output_type": "display_data"
    },
    {
     "name": "stdout",
     "output_type": "stream",
     "text": [
      "Result for TrainMNIST_00000:\n",
      "  date: 2020-06-08_16-39-39\n",
      "  done: false\n",
      "  experiment_id: 96f078447e3d416cb2f4b9b502cc87b9\n",
      "  experiment_tag: 0_lr=0.0062032,momentum=0.47756\n",
      "  hostname: Steves-MacBook-Pro.local\n",
      "  iterations_since_restore: 26\n",
      "  mean_accuracy: 0.875\n",
      "  node_ip: 192.168.1.36\n",
      "  pid: 90429\n",
      "  time_since_restore: 5.343461751937866\n",
      "  time_this_iter_s: 0.23439812660217285\n",
      "  time_total_s: 5.343461751937866\n",
      "  timestamp: 1591630779\n",
      "  timesteps_since_restore: 0\n",
      "  training_iteration: 26\n",
      "  trial_id: '00000'\n",
      "  \n"
     ]
    },
    {
     "data": {
      "text/html": [
       "== Status ==<br>Memory usage on this node: 9.9/16.0 GiB<br>Using FIFO scheduling algorithm.<br>Resources requested: 2/2 CPUs, 1/1 GPUs, 0.0/4.59 GiB heap, 0.0/1.56 GiB objects<br>Result logdir: /Users/stevejpurves/ray_results/torch_mnist/TrainMNIST<br>Number of trials: 3 (2 PENDING, 1 RUNNING)<br><table>\n",
       "<thead>\n",
       "<tr><th>Trial name      </th><th>status  </th><th>loc               </th><th style=\"text-align: right;\">       lr</th><th style=\"text-align: right;\">  momentum</th><th style=\"text-align: right;\">     acc</th><th style=\"text-align: right;\">  iter</th><th style=\"text-align: right;\">  total time (s)</th></tr>\n",
       "</thead>\n",
       "<tbody>\n",
       "<tr><td>TrainMNIST_00000</td><td>RUNNING </td><td>192.168.1.36:90429</td><td style=\"text-align: right;\">0.0062032</td><td style=\"text-align: right;\">  0.477556</td><td style=\"text-align: right;\">0.871875</td><td style=\"text-align: right;\">    41</td><td style=\"text-align: right;\">         8.51646</td></tr>\n",
       "<tr><td>TrainMNIST_00001</td><td>PENDING </td><td>                  </td><td style=\"text-align: right;\">0.0267903</td><td style=\"text-align: right;\">  0.370656</td><td style=\"text-align: right;\">        </td><td style=\"text-align: right;\">      </td><td style=\"text-align: right;\">                </td></tr>\n",
       "<tr><td>TrainMNIST_00002</td><td>PENDING </td><td>                  </td><td style=\"text-align: right;\">0.0921841</td><td style=\"text-align: right;\">  0.56446 </td><td style=\"text-align: right;\">        </td><td style=\"text-align: right;\">      </td><td style=\"text-align: right;\">                </td></tr>\n",
       "</tbody>\n",
       "</table><br><br>"
      ],
      "text/plain": [
       "<IPython.core.display.HTML object>"
      ]
     },
     "metadata": {},
     "output_type": "display_data"
    },
    {
     "name": "stdout",
     "output_type": "stream",
     "text": [
      "Result for TrainMNIST_00000:\n",
      "  date: 2020-06-08_16-39-44\n",
      "  done: false\n",
      "  experiment_id: 96f078447e3d416cb2f4b9b502cc87b9\n",
      "  experiment_tag: 0_lr=0.0062032,momentum=0.47756\n",
      "  hostname: Steves-MacBook-Pro.local\n",
      "  iterations_since_restore: 50\n",
      "  mean_accuracy: 0.878125\n",
      "  node_ip: 192.168.1.36\n",
      "  pid: 90429\n",
      "  time_since_restore: 10.291292905807495\n",
      "  time_this_iter_s: 0.18966197967529297\n",
      "  time_total_s: 10.291292905807495\n",
      "  timestamp: 1591630784\n",
      "  timesteps_since_restore: 0\n",
      "  training_iteration: 50\n",
      "  trial_id: '00000'\n",
      "  \n"
     ]
    },
    {
     "data": {
      "text/html": [
       "== Status ==<br>Memory usage on this node: 9.9/16.0 GiB<br>Using FIFO scheduling algorithm.<br>Resources requested: 2/2 CPUs, 1/1 GPUs, 0.0/4.59 GiB heap, 0.0/1.56 GiB objects<br>Result logdir: /Users/stevejpurves/ray_results/torch_mnist/TrainMNIST<br>Number of trials: 3 (2 PENDING, 1 RUNNING)<br><table>\n",
       "<thead>\n",
       "<tr><th>Trial name      </th><th>status  </th><th>loc               </th><th style=\"text-align: right;\">       lr</th><th style=\"text-align: right;\">  momentum</th><th style=\"text-align: right;\">   acc</th><th style=\"text-align: right;\">  iter</th><th style=\"text-align: right;\">  total time (s)</th></tr>\n",
       "</thead>\n",
       "<tbody>\n",
       "<tr><td>TrainMNIST_00000</td><td>RUNNING </td><td>192.168.1.36:90429</td><td style=\"text-align: right;\">0.0062032</td><td style=\"text-align: right;\">  0.477556</td><td style=\"text-align: right;\">0.8875</td><td style=\"text-align: right;\">    67</td><td style=\"text-align: right;\">          13.568</td></tr>\n",
       "<tr><td>TrainMNIST_00001</td><td>PENDING </td><td>                  </td><td style=\"text-align: right;\">0.0267903</td><td style=\"text-align: right;\">  0.370656</td><td style=\"text-align: right;\">      </td><td style=\"text-align: right;\">      </td><td style=\"text-align: right;\">                </td></tr>\n",
       "<tr><td>TrainMNIST_00002</td><td>PENDING </td><td>                  </td><td style=\"text-align: right;\">0.0921841</td><td style=\"text-align: right;\">  0.56446 </td><td style=\"text-align: right;\">      </td><td style=\"text-align: right;\">      </td><td style=\"text-align: right;\">                </td></tr>\n",
       "</tbody>\n",
       "</table><br><br>"
      ],
      "text/plain": [
       "<IPython.core.display.HTML object>"
      ]
     },
     "metadata": {},
     "output_type": "display_data"
    },
    {
     "name": "stdout",
     "output_type": "stream",
     "text": [
      "Result for TrainMNIST_00000:\n",
      "  date: 2020-06-08_16-39-49\n",
      "  done: false\n",
      "  experiment_id: 96f078447e3d416cb2f4b9b502cc87b9\n",
      "  experiment_tag: 0_lr=0.0062032,momentum=0.47756\n",
      "  hostname: Steves-MacBook-Pro.local\n",
      "  iterations_since_restore: 76\n",
      "  mean_accuracy: 0.8875\n",
      "  node_ip: 192.168.1.36\n",
      "  pid: 90429\n",
      "  time_since_restore: 15.310350179672241\n",
      "  time_this_iter_s: 0.19760584831237793\n",
      "  time_total_s: 15.310350179672241\n",
      "  timestamp: 1591630789\n",
      "  timesteps_since_restore: 0\n",
      "  training_iteration: 76\n",
      "  trial_id: '00000'\n",
      "  \n"
     ]
    },
    {
     "data": {
      "text/html": [
       "== Status ==<br>Memory usage on this node: 9.9/16.0 GiB<br>Using FIFO scheduling algorithm.<br>Resources requested: 2/2 CPUs, 1/1 GPUs, 0.0/4.59 GiB heap, 0.0/1.56 GiB objects<br>Result logdir: /Users/stevejpurves/ray_results/torch_mnist/TrainMNIST<br>Number of trials: 3 (2 PENDING, 1 RUNNING)<br><table>\n",
       "<thead>\n",
       "<tr><th>Trial name      </th><th>status  </th><th>loc               </th><th style=\"text-align: right;\">       lr</th><th style=\"text-align: right;\">  momentum</th><th style=\"text-align: right;\">   acc</th><th style=\"text-align: right;\">  iter</th><th style=\"text-align: right;\">  total time (s)</th></tr>\n",
       "</thead>\n",
       "<tbody>\n",
       "<tr><td>TrainMNIST_00000</td><td>RUNNING </td><td>192.168.1.36:90429</td><td style=\"text-align: right;\">0.0062032</td><td style=\"text-align: right;\">  0.477556</td><td style=\"text-align: right;\">0.9125</td><td style=\"text-align: right;\">    93</td><td style=\"text-align: right;\">         18.6461</td></tr>\n",
       "<tr><td>TrainMNIST_00001</td><td>PENDING </td><td>                  </td><td style=\"text-align: right;\">0.0267903</td><td style=\"text-align: right;\">  0.370656</td><td style=\"text-align: right;\">      </td><td style=\"text-align: right;\">      </td><td style=\"text-align: right;\">                </td></tr>\n",
       "<tr><td>TrainMNIST_00002</td><td>PENDING </td><td>                  </td><td style=\"text-align: right;\">0.0921841</td><td style=\"text-align: right;\">  0.56446 </td><td style=\"text-align: right;\">      </td><td style=\"text-align: right;\">      </td><td style=\"text-align: right;\">                </td></tr>\n",
       "</tbody>\n",
       "</table><br><br>"
      ],
      "text/plain": [
       "<IPython.core.display.HTML object>"
      ]
     },
     "metadata": {},
     "output_type": "display_data"
    },
    {
     "name": "stdout",
     "output_type": "stream",
     "text": [
      "Result for TrainMNIST_00000:\n",
      "  date: 2020-06-08_16-39-54\n",
      "  done: true\n",
      "  experiment_id: 96f078447e3d416cb2f4b9b502cc87b9\n",
      "  experiment_tag: 0_lr=0.0062032,momentum=0.47756\n",
      "  hostname: Steves-MacBook-Pro.local\n",
      "  iterations_since_restore: 100\n",
      "  mean_accuracy: 0.915625\n",
      "  node_ip: 192.168.1.36\n",
      "  pid: 90429\n",
      "  time_since_restore: 20.01211142539978\n",
      "  time_this_iter_s: 0.19389605522155762\n",
      "  time_total_s: 20.01211142539978\n",
      "  timestamp: 1591630794\n",
      "  timesteps_since_restore: 0\n",
      "  training_iteration: 100\n",
      "  trial_id: '00000'\n",
      "  \n",
      "\u001b[2m\u001b[36m(pid=90428)\u001b[0m setup config None\n",
      "\u001b[2m\u001b[36m(pid=90428)\u001b[0m 2020-06-08 16:39:55,414\tINFO trainable.py:217 -- Getting current IP.\n",
      "Result for TrainMNIST_00001:\n",
      "  date: 2020-06-08_16-39-55\n",
      "  done: false\n",
      "  experiment_id: 97d501207b3a47bcb47896969882d082\n",
      "  experiment_tag: 1_lr=0.02679,momentum=0.37066\n",
      "  hostname: Steves-MacBook-Pro.local\n",
      "  iterations_since_restore: 1\n",
      "  mean_accuracy: 0.303125\n",
      "  node_ip: 192.168.1.36\n",
      "  pid: 90428\n",
      "  time_since_restore: 0.21243715286254883\n",
      "  time_this_iter_s: 0.21243715286254883\n",
      "  time_total_s: 0.21243715286254883\n",
      "  timestamp: 1591630795\n",
      "  timesteps_since_restore: 0\n",
      "  training_iteration: 1\n",
      "  trial_id: '00001'\n",
      "  \n"
     ]
    },
    {
     "data": {
      "text/html": [
       "== Status ==<br>Memory usage on this node: 9.8/16.0 GiB<br>Using FIFO scheduling algorithm.<br>Resources requested: 2/2 CPUs, 1/1 GPUs, 0.0/4.59 GiB heap, 0.0/1.56 GiB objects<br>Result logdir: /Users/stevejpurves/ray_results/torch_mnist/TrainMNIST<br>Number of trials: 3 (1 PENDING, 1 RUNNING, 1 TERMINATED)<br><table>\n",
       "<thead>\n",
       "<tr><th>Trial name      </th><th>status    </th><th>loc               </th><th style=\"text-align: right;\">       lr</th><th style=\"text-align: right;\">  momentum</th><th style=\"text-align: right;\">     acc</th><th style=\"text-align: right;\">  iter</th><th style=\"text-align: right;\">  total time (s)</th></tr>\n",
       "</thead>\n",
       "<tbody>\n",
       "<tr><td>TrainMNIST_00000</td><td>TERMINATED</td><td>                  </td><td style=\"text-align: right;\">0.0062032</td><td style=\"text-align: right;\">  0.477556</td><td style=\"text-align: right;\">0.915625</td><td style=\"text-align: right;\">   100</td><td style=\"text-align: right;\">        20.0121 </td></tr>\n",
       "<tr><td>TrainMNIST_00001</td><td>RUNNING   </td><td>192.168.1.36:90428</td><td style=\"text-align: right;\">0.0267903</td><td style=\"text-align: right;\">  0.370656</td><td style=\"text-align: right;\">0.865625</td><td style=\"text-align: right;\">    13</td><td style=\"text-align: right;\">         2.66398</td></tr>\n",
       "<tr><td>TrainMNIST_00002</td><td>PENDING   </td><td>                  </td><td style=\"text-align: right;\">0.0921841</td><td style=\"text-align: right;\">  0.56446 </td><td style=\"text-align: right;\">        </td><td style=\"text-align: right;\">      </td><td style=\"text-align: right;\">                </td></tr>\n",
       "</tbody>\n",
       "</table><br><br>"
      ],
      "text/plain": [
       "<IPython.core.display.HTML object>"
      ]
     },
     "metadata": {},
     "output_type": "display_data"
    },
    {
     "name": "stdout",
     "output_type": "stream",
     "text": [
      "Result for TrainMNIST_00001:\n",
      "  date: 2020-06-08_16-40-00\n",
      "  done: false\n",
      "  experiment_id: 97d501207b3a47bcb47896969882d082\n",
      "  experiment_tag: 1_lr=0.02679,momentum=0.37066\n",
      "  hostname: Steves-MacBook-Pro.local\n",
      "  iterations_since_restore: 26\n",
      "  mean_accuracy: 0.896875\n",
      "  node_ip: 192.168.1.36\n",
      "  pid: 90428\n",
      "  time_since_restore: 5.264194011688232\n",
      "  time_this_iter_s: 0.19997572898864746\n",
      "  time_total_s: 5.264194011688232\n",
      "  timestamp: 1591630800\n",
      "  timesteps_since_restore: 0\n",
      "  training_iteration: 26\n",
      "  trial_id: '00001'\n",
      "  \n"
     ]
    },
    {
     "data": {
      "text/html": [
       "== Status ==<br>Memory usage on this node: 9.8/16.0 GiB<br>Using FIFO scheduling algorithm.<br>Resources requested: 2/2 CPUs, 1/1 GPUs, 0.0/4.59 GiB heap, 0.0/1.56 GiB objects<br>Result logdir: /Users/stevejpurves/ray_results/torch_mnist/TrainMNIST<br>Number of trials: 3 (1 PENDING, 1 RUNNING, 1 TERMINATED)<br><table>\n",
       "<thead>\n",
       "<tr><th>Trial name      </th><th>status    </th><th>loc               </th><th style=\"text-align: right;\">       lr</th><th style=\"text-align: right;\">  momentum</th><th style=\"text-align: right;\">     acc</th><th style=\"text-align: right;\">  iter</th><th style=\"text-align: right;\">  total time (s)</th></tr>\n",
       "</thead>\n",
       "<tbody>\n",
       "<tr><td>TrainMNIST_00000</td><td>TERMINATED</td><td>                  </td><td style=\"text-align: right;\">0.0062032</td><td style=\"text-align: right;\">  0.477556</td><td style=\"text-align: right;\">0.915625</td><td style=\"text-align: right;\">   100</td><td style=\"text-align: right;\">        20.0121 </td></tr>\n",
       "<tr><td>TrainMNIST_00001</td><td>RUNNING   </td><td>192.168.1.36:90428</td><td style=\"text-align: right;\">0.0267903</td><td style=\"text-align: right;\">  0.370656</td><td style=\"text-align: right;\">0.903125</td><td style=\"text-align: right;\">    38</td><td style=\"text-align: right;\">         7.66137</td></tr>\n",
       "<tr><td>TrainMNIST_00002</td><td>PENDING   </td><td>                  </td><td style=\"text-align: right;\">0.0921841</td><td style=\"text-align: right;\">  0.56446 </td><td style=\"text-align: right;\">        </td><td style=\"text-align: right;\">      </td><td style=\"text-align: right;\">                </td></tr>\n",
       "</tbody>\n",
       "</table><br><br>"
      ],
      "text/plain": [
       "<IPython.core.display.HTML object>"
      ]
     },
     "metadata": {},
     "output_type": "display_data"
    },
    {
     "name": "stdout",
     "output_type": "stream",
     "text": [
      "Result for TrainMNIST_00001:\n",
      "  date: 2020-06-08_16-40-05\n",
      "  done: false\n",
      "  experiment_id: 97d501207b3a47bcb47896969882d082\n",
      "  experiment_tag: 1_lr=0.02679,momentum=0.37066\n",
      "  hostname: Steves-MacBook-Pro.local\n",
      "  iterations_since_restore: 51\n",
      "  mean_accuracy: 0.925\n",
      "  node_ip: 192.168.1.36\n",
      "  pid: 90428\n",
      "  time_since_restore: 10.260546207427979\n",
      "  time_this_iter_s: 0.1964268684387207\n",
      "  time_total_s: 10.260546207427979\n",
      "  timestamp: 1591630805\n",
      "  timesteps_since_restore: 0\n",
      "  training_iteration: 51\n",
      "  trial_id: '00001'\n",
      "  \n"
     ]
    },
    {
     "data": {
      "text/html": [
       "== Status ==<br>Memory usage on this node: 9.8/16.0 GiB<br>Using FIFO scheduling algorithm.<br>Resources requested: 2/2 CPUs, 1/1 GPUs, 0.0/4.59 GiB heap, 0.0/1.56 GiB objects<br>Result logdir: /Users/stevejpurves/ray_results/torch_mnist/TrainMNIST<br>Number of trials: 3 (1 PENDING, 1 RUNNING, 1 TERMINATED)<br><table>\n",
       "<thead>\n",
       "<tr><th>Trial name      </th><th>status    </th><th>loc               </th><th style=\"text-align: right;\">       lr</th><th style=\"text-align: right;\">  momentum</th><th style=\"text-align: right;\">     acc</th><th style=\"text-align: right;\">  iter</th><th style=\"text-align: right;\">  total time (s)</th></tr>\n",
       "</thead>\n",
       "<tbody>\n",
       "<tr><td>TrainMNIST_00000</td><td>TERMINATED</td><td>                  </td><td style=\"text-align: right;\">0.0062032</td><td style=\"text-align: right;\">  0.477556</td><td style=\"text-align: right;\">0.915625</td><td style=\"text-align: right;\">   100</td><td style=\"text-align: right;\">         20.0121</td></tr>\n",
       "<tr><td>TrainMNIST_00001</td><td>RUNNING   </td><td>192.168.1.36:90428</td><td style=\"text-align: right;\">0.0267903</td><td style=\"text-align: right;\">  0.370656</td><td style=\"text-align: right;\">0.94375 </td><td style=\"text-align: right;\">    64</td><td style=\"text-align: right;\">         12.7958</td></tr>\n",
       "<tr><td>TrainMNIST_00002</td><td>PENDING   </td><td>                  </td><td style=\"text-align: right;\">0.0921841</td><td style=\"text-align: right;\">  0.56446 </td><td style=\"text-align: right;\">        </td><td style=\"text-align: right;\">      </td><td style=\"text-align: right;\">                </td></tr>\n",
       "</tbody>\n",
       "</table><br><br>"
      ],
      "text/plain": [
       "<IPython.core.display.HTML object>"
      ]
     },
     "metadata": {},
     "output_type": "display_data"
    },
    {
     "name": "stdout",
     "output_type": "stream",
     "text": [
      "Result for TrainMNIST_00001:\n",
      "  date: 2020-06-08_16-40-10\n",
      "  done: false\n",
      "  experiment_id: 97d501207b3a47bcb47896969882d082\n",
      "  experiment_tag: 1_lr=0.02679,momentum=0.37066\n",
      "  hostname: Steves-MacBook-Pro.local\n",
      "  iterations_since_restore: 77\n",
      "  mean_accuracy: 0.934375\n",
      "  node_ip: 192.168.1.36\n",
      "  pid: 90428\n",
      "  time_since_restore: 15.366683721542358\n",
      "  time_this_iter_s: 0.2064220905303955\n",
      "  time_total_s: 15.366683721542358\n",
      "  timestamp: 1591630810\n",
      "  timesteps_since_restore: 0\n",
      "  training_iteration: 77\n",
      "  trial_id: '00001'\n",
      "  \n",
      "Result for TrainMNIST_00001:\n",
      "  date: 2020-06-08_16-40-12\n",
      "  done: true\n",
      "  experiment_id: 97d501207b3a47bcb47896969882d082\n",
      "  experiment_tag: 1_lr=0.02679,momentum=0.37066\n",
      "  hostname: Steves-MacBook-Pro.local\n",
      "  iterations_since_restore: 85\n",
      "  mean_accuracy: 0.959375\n",
      "  node_ip: 192.168.1.36\n",
      "  pid: 90428\n",
      "  time_since_restore: 16.948917388916016\n",
      "  time_this_iter_s: 0.19861197471618652\n",
      "  time_total_s: 16.948917388916016\n",
      "  timestamp: 1591630812\n",
      "  timesteps_since_restore: 0\n",
      "  training_iteration: 85\n",
      "  trial_id: '00001'\n",
      "  \n",
      "\u001b[2m\u001b[36m(pid=90489)\u001b[0m setup config None\n",
      "\u001b[2m\u001b[36m(pid=90489)\u001b[0m 2020-06-08 16:40:14,136\tINFO trainable.py:217 -- Getting current IP.\n",
      "Result for TrainMNIST_00002:\n",
      "  date: 2020-06-08_16-40-14\n",
      "  done: false\n",
      "  experiment_id: 6c938cdfd1b646ddac668b178061b4d3\n",
      "  experiment_tag: 2_lr=0.092184,momentum=0.56446\n",
      "  hostname: Steves-MacBook-Pro.local\n",
      "  iterations_since_restore: 1\n",
      "  mean_accuracy: 0.61875\n",
      "  node_ip: 192.168.1.36\n",
      "  pid: 90489\n",
      "  time_since_restore: 0.22285795211791992\n",
      "  time_this_iter_s: 0.22285795211791992\n",
      "  time_total_s: 0.22285795211791992\n",
      "  timestamp: 1591630814\n",
      "  timesteps_since_restore: 0\n",
      "  training_iteration: 1\n",
      "  trial_id: '00002'\n",
      "  \n"
     ]
    },
    {
     "data": {
      "text/html": [
       "== Status ==<br>Memory usage on this node: 9.9/16.0 GiB<br>Using FIFO scheduling algorithm.<br>Resources requested: 2/2 CPUs, 1/1 GPUs, 0.0/4.59 GiB heap, 0.0/1.56 GiB objects<br>Result logdir: /Users/stevejpurves/ray_results/torch_mnist/TrainMNIST<br>Number of trials: 3 (1 RUNNING, 2 TERMINATED)<br><table>\n",
       "<thead>\n",
       "<tr><th>Trial name      </th><th>status    </th><th>loc               </th><th style=\"text-align: right;\">       lr</th><th style=\"text-align: right;\">  momentum</th><th style=\"text-align: right;\">     acc</th><th style=\"text-align: right;\">  iter</th><th style=\"text-align: right;\">  total time (s)</th></tr>\n",
       "</thead>\n",
       "<tbody>\n",
       "<tr><td>TrainMNIST_00000</td><td>TERMINATED</td><td>                  </td><td style=\"text-align: right;\">0.0062032</td><td style=\"text-align: right;\">  0.477556</td><td style=\"text-align: right;\">0.915625</td><td style=\"text-align: right;\">   100</td><td style=\"text-align: right;\">       20.0121  </td></tr>\n",
       "<tr><td>TrainMNIST_00001</td><td>TERMINATED</td><td>                  </td><td style=\"text-align: right;\">0.0267903</td><td style=\"text-align: right;\">  0.370656</td><td style=\"text-align: right;\">0.959375</td><td style=\"text-align: right;\">    85</td><td style=\"text-align: right;\">       16.9489  </td></tr>\n",
       "<tr><td>TrainMNIST_00002</td><td>RUNNING   </td><td>192.168.1.36:90489</td><td style=\"text-align: right;\">0.0921841</td><td style=\"text-align: right;\">  0.56446 </td><td style=\"text-align: right;\">0.61875 </td><td style=\"text-align: right;\">     1</td><td style=\"text-align: right;\">        0.222858</td></tr>\n",
       "</tbody>\n",
       "</table><br><br>"
      ],
      "text/plain": [
       "<IPython.core.display.HTML object>"
      ]
     },
     "metadata": {},
     "output_type": "display_data"
    },
    {
     "name": "stdout",
     "output_type": "stream",
     "text": [
      "Result for TrainMNIST_00002:\n",
      "  date: 2020-06-08_16-40-19\n",
      "  done: true\n",
      "  experiment_id: 6c938cdfd1b646ddac668b178061b4d3\n",
      "  experiment_tag: 2_lr=0.092184,momentum=0.56446\n",
      "  hostname: Steves-MacBook-Pro.local\n",
      "  iterations_since_restore: 25\n",
      "  mean_accuracy: 0.959375\n",
      "  node_ip: 192.168.1.36\n",
      "  pid: 90489\n",
      "  time_since_restore: 4.892921209335327\n",
      "  time_this_iter_s: 0.19171500205993652\n",
      "  time_total_s: 4.892921209335327\n",
      "  timestamp: 1591630819\n",
      "  timesteps_since_restore: 0\n",
      "  training_iteration: 25\n",
      "  trial_id: '00002'\n",
      "  \n"
     ]
    },
    {
     "data": {
      "text/html": [
       "== Status ==<br>Memory usage on this node: 9.9/16.0 GiB<br>Using FIFO scheduling algorithm.<br>Resources requested: 0/2 CPUs, 0/1 GPUs, 0.0/4.59 GiB heap, 0.0/1.56 GiB objects<br>Result logdir: /Users/stevejpurves/ray_results/torch_mnist/TrainMNIST<br>Number of trials: 3 (3 TERMINATED)<br><table>\n",
       "<thead>\n",
       "<tr><th>Trial name      </th><th>status    </th><th>loc  </th><th style=\"text-align: right;\">       lr</th><th style=\"text-align: right;\">  momentum</th><th style=\"text-align: right;\">     acc</th><th style=\"text-align: right;\">  iter</th><th style=\"text-align: right;\">  total time (s)</th></tr>\n",
       "</thead>\n",
       "<tbody>\n",
       "<tr><td>TrainMNIST_00000</td><td>TERMINATED</td><td>     </td><td style=\"text-align: right;\">0.0062032</td><td style=\"text-align: right;\">  0.477556</td><td style=\"text-align: right;\">0.915625</td><td style=\"text-align: right;\">   100</td><td style=\"text-align: right;\">        20.0121 </td></tr>\n",
       "<tr><td>TrainMNIST_00001</td><td>TERMINATED</td><td>     </td><td style=\"text-align: right;\">0.0267903</td><td style=\"text-align: right;\">  0.370656</td><td style=\"text-align: right;\">0.959375</td><td style=\"text-align: right;\">    85</td><td style=\"text-align: right;\">        16.9489 </td></tr>\n",
       "<tr><td>TrainMNIST_00002</td><td>TERMINATED</td><td>     </td><td style=\"text-align: right;\">0.0921841</td><td style=\"text-align: right;\">  0.56446 </td><td style=\"text-align: right;\">0.959375</td><td style=\"text-align: right;\">    25</td><td style=\"text-align: right;\">         4.89292</td></tr>\n",
       "</tbody>\n",
       "</table><br><br>"
      ],
      "text/plain": [
       "<IPython.core.display.HTML object>"
      ]
     },
     "metadata": {},
     "output_type": "display_data"
    },
    {
     "name": "stdout",
     "output_type": "stream",
     "text": [
      "Best config is: {'lr': 0.02679025225170287, 'momentum': 0.3706557220861989}\n"
     ]
    }
   ],
   "source": [
    "\n",
    "config={\n",
    "    \"lr\": tune.uniform(0.001, 0.1),\n",
    "    \"momentum\": tune.uniform(0.1, 0.9),\n",
    "}\n",
    "\n",
    "\n",
    "\n",
    "\n",
    "\n",
    "\n",
    "analysis = tune.run(\n",
    "    TrainMNIST,\n",
    "    local_dir=\"~/ray_results/torch_mnist\",\n",
    "    resources_per_trial={\n",
    "        \"cpu\": 2,\n",
    "        \"gpu\": 1\n",
    "    },\n",
    "    num_samples=3,\n",
    "    checkpoint_at_end=True,\n",
    "    checkpoint_freq=10,\n",
    "    keep_checkpoints_num=3,\n",
    "    stop={\n",
    "        \"mean_accuracy\": 0.95,\n",
    "        \"training_iteration\": 100,\n",
    "    },\n",
    "    config=config)\n",
    "\n",
    "print(\"Best config is:\", analysis.get_best_config(metric=\"mean_accuracy\"))"
   ]
  },
  {
   "cell_type": "markdown",
   "metadata": {},
   "source": [
    "## Load a model and check results"
   ]
  },
  {
   "cell_type": "code",
   "execution_count": 17,
   "metadata": {},
   "outputs": [],
   "source": [
    "train_loader, test_loader = get_data_loaders()"
   ]
  },
  {
   "cell_type": "code",
   "execution_count": 18,
   "metadata": {
    "scrolled": false
   },
   "outputs": [],
   "source": [
    "X, y = list(test_loader)[np.random.randint(0, len(test_loader))]"
   ]
  },
  {
   "cell_type": "markdown",
   "metadata": {},
   "source": [
    "#### Find the model checkpoint you want to load"
   ]
  },
  {
   "cell_type": "code",
   "execution_count": 21,
   "metadata": {},
   "outputs": [],
   "source": [
    "checkpoint_path = path.join(path.expanduser('~'),'ray_results','torch_mnist','TrainMNIST',\n",
    "                          'TrainMNIST_1_lr=0.044304,momentum=0.35786_2020-06-07_22-31-21dqgzih8_',\n",
    "                         'checkpoint_56', 'model.pth')"
   ]
  },
  {
   "cell_type": "code",
   "execution_count": 22,
   "metadata": {},
   "outputs": [],
   "source": [
    "device = torch.device(\"cuda\" if torch.cuda.is_available() else \"cpu\")\n",
    "\n",
    "with torch.set_grad_enabled(False):\n",
    "    model = ConvNet()\n",
    "    model.load_state_dict(torch.load(checkpoint_path))\n",
    "    \n",
    "    model.to(device)\n",
    "    \n",
    "    y_ = model(X.to(device)).cpu()\n",
    "    \n",
    "    _, predicted = torch.max(y_, 1)"
   ]
  },
  {
   "cell_type": "code",
   "execution_count": 29,
   "metadata": {
    "scrolled": false
   },
   "outputs": [
    {
     "data": {
      "image/png": "[encoded data removed]",
      "text/plain": [
       "<Figure size 1440x1440 with 64 Axes>"
      ]
     },
     "metadata": {},
     "output_type": "display_data"
    }
   ],
   "source": [
    "fig, axs = plt.subplots(8,8, figsize=(20,20))\n",
    "axsf = [item for s in axs for item in s]\n",
    "\n",
    "for n,ax in enumerate(axsf):\n",
    "    ax.imshow(X[n].squeeze().numpy())\n",
    "    ax.axis('off')\n",
    "    ax.set_title(predicted[n].item())\n",
    "    \n",
    "plt.show()"
   ]
  },
  {
   "cell_type": "markdown",
   "metadata": {},
   "source": [
    "## Resume Model and Train Some More"
   ]
  },
  {
   "cell_type": "code",
   "execution_count": 34,
   "metadata": {},
   "outputs": [],
   "source": [
    "# https://github.com/ray-project/ray/issues/4569"
   ]
  },
  {
   "cell_type": "code",
   "execution_count": null,
   "metadata": {},
   "outputs": [],
   "source": [
    "# Exercises\n",
    "# - change out the optimiser for adam\n",
    "# - add network hyperparameters"
   ]
  }
 ],
 "metadata": {
  "kernelspec": {
   "display_name": "Python 3",
   "language": "python",
   "name": "python3"
  },
  "language_info": {
   "codemirror_mode": {
    "name": "ipython",
    "version": 3
   },
   "file_extension": ".py",
   "mimetype": "text/x-python",
   "name": "python",
   "nbconvert_exporter": "python",
   "pygments_lexer": "ipython3",
   "version": "3.8.3"
  }
 },
 "nbformat": 4,
 "nbformat_minor": 4
}
