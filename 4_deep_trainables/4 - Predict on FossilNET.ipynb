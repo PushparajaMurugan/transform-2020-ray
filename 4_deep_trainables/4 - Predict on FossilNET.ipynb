{
 "cells": [
  {
   "cell_type": "markdown",
   "metadata": {},
   "source": [
    "## What is FossilNET"
   ]
  },
  {
   "cell_type": "code",
   "execution_count": 1,
   "metadata": {},
   "outputs": [
    {
     "name": "stdout",
     "output_type": "stream",
     "text": [
      "Loading dependencies we have already seen...\n",
      "Importing ray...\n",
      "Done...\n"
     ]
    }
   ],
   "source": [
    "%load_ext autoreload\n",
    "%autoreload 2\n",
    "\n",
    "from dependencies import *"
   ]
  },
  {
   "cell_type": "code",
   "execution_count": 2,
   "metadata": {},
   "outputs": [],
   "source": [
    "import torch\n",
    "import torch.nn as nn\n",
    "import torch.optim as optim\n",
    "import torch.nn.functional as F"
   ]
  },
  {
   "cell_type": "code",
   "execution_count": 3,
   "metadata": {},
   "outputs": [],
   "source": [
    "from torch.utils.data import DataLoader\n",
    "import torchvision\n",
    "from torchvision import datasets, transforms"
   ]
  },
  {
   "cell_type": "code",
   "execution_count": 5,
   "metadata": {},
   "outputs": [],
   "source": [
    "class FossilResNet(nn.Module):\n",
    "    \n",
    "    def __init__(self, num_outputs=10):\n",
    "        super(FossilResNet, self).__init__()\n",
    "        \n",
    "        self.model_conv = torchvision.models.resnet18(pretrained=True)\n",
    "        for param in self.model_conv.parameters():\n",
    "            param.requires_grad = False\n",
    "\n",
    "        num_ftrs = self.model_conv.fc.in_features\n",
    "        \n",
    "        self.model_conv.fc = nn.Linear(num_ftrs, num_outputs)\n",
    "        \n",
    "    def forward(self, x):\n",
    "        return self.model_conv(x)\n",
    "        "
   ]
  },
  {
   "cell_type": "markdown",
   "metadata": {},
   "source": [
    "## Load a model and check results"
   ]
  },
  {
   "cell_type": "code",
   "execution_count": 6,
   "metadata": {},
   "outputs": [],
   "source": [
    "from os import path\n",
    "from torch.utils.data import DataLoader\n",
    "import torchvision\n",
    "from torchvision import datasets, transforms"
   ]
  },
  {
   "cell_type": "code",
   "execution_count": 11,
   "metadata": {},
   "outputs": [],
   "source": [
    "fossilnet_path = path.expanduser('~/dev/transform-2020-ray-wip/datasets/fossilnet/tvt_split/4')\n",
    "\n",
    "use_grayscale=True\n",
    "\n",
    "test_txs = []\n",
    "\n",
    "if use_grayscale:\n",
    "    test_txs.extend([\n",
    "        transforms.Grayscale(3),\n",
    "        transforms.ToTensor(),\n",
    "        transforms.Normalize(0.0, 1.0)\n",
    "    ])\n",
    "else:\n",
    "    test_txs.append(transforms.ToTensor())\n",
    "\n",
    "predict_dataset = datasets.ImageFolder(root=path.join(fossilnet_path, 'test'),\n",
    "                                    transform=transforms.Compose(test_txs))"
   ]
  },
  {
   "cell_type": "code",
   "execution_count": 20,
   "metadata": {},
   "outputs": [
    {
     "data": {
      "text/plain": [
       "(tensor([[[0.0118, 0.0196, 0.0196,  ..., 0.0392, 0.0314, 0.0275],\n",
       "          [0.0118, 0.0157, 0.0157,  ..., 0.0353, 0.0275, 0.0314],\n",
       "          [0.0118, 0.0118, 0.0157,  ..., 0.0314, 0.0314, 0.0314],\n",
       "          ...,\n",
       "          [0.4863, 0.4745, 0.5725,  ..., 0.2039, 0.1686, 0.1569],\n",
       "          [0.5294, 0.5176, 0.6392,  ..., 0.2549, 0.2118, 0.1765],\n",
       "          [0.5333, 0.5451, 0.6784,  ..., 0.3176, 0.2863, 0.2157]],\n",
       " \n",
       "         [[0.0118, 0.0196, 0.0196,  ..., 0.0392, 0.0314, 0.0275],\n",
       "          [0.0118, 0.0157, 0.0157,  ..., 0.0353, 0.0275, 0.0314],\n",
       "          [0.0118, 0.0118, 0.0157,  ..., 0.0314, 0.0314, 0.0314],\n",
       "          ...,\n",
       "          [0.4863, 0.4745, 0.5725,  ..., 0.2039, 0.1686, 0.1569],\n",
       "          [0.5294, 0.5176, 0.6392,  ..., 0.2549, 0.2118, 0.1765],\n",
       "          [0.5333, 0.5451, 0.6784,  ..., 0.3176, 0.2863, 0.2157]],\n",
       " \n",
       "         [[0.0118, 0.0196, 0.0196,  ..., 0.0392, 0.0314, 0.0275],\n",
       "          [0.0118, 0.0157, 0.0157,  ..., 0.0353, 0.0275, 0.0314],\n",
       "          [0.0118, 0.0118, 0.0157,  ..., 0.0314, 0.0314, 0.0314],\n",
       "          ...,\n",
       "          [0.4863, 0.4745, 0.5725,  ..., 0.2039, 0.1686, 0.1569],\n",
       "          [0.5294, 0.5176, 0.6392,  ..., 0.2549, 0.2118, 0.1765],\n",
       "          [0.5333, 0.5451, 0.6784,  ..., 0.3176, 0.2863, 0.2157]]]),\n",
       " 0)"
      ]
     },
     "execution_count": 20,
     "metadata": {},
     "output_type": "execute_result"
    }
   ],
   "source": [
    "predict_dataset[0]"
   ]
  },
  {
   "cell_type": "code",
   "execution_count": 22,
   "metadata": {
    "scrolled": false
   },
   "outputs": [
    {
     "name": "stdout",
     "output_type": "stream",
     "text": [
      "0\n"
     ]
    }
   ],
   "source": [
    "data = [predict_dataset[n]  for n in range(16)]"
   ]
  },
  {
   "cell_type": "markdown",
   "metadata": {},
   "source": [
    "#### Find the model checkpoint you want to load"
   ]
  },
  {
   "cell_type": "code",
   "execution_count": null,
   "metadata": {},
   "outputs": [],
   "source": [
    "checkpoint_path = path.join(\n",
    "    path.expanduser('~'),'ray_results','torch_fossilnet','FossilTrainable',\n",
    "                          'TrainMNIST_1_lr=0.044304,momentum=0.35786_2020-06-07_22-31-21dqgzih8_',\n",
    "                         'checkpoint_56', 'model.pth')"
   ]
  },
  {
   "cell_type": "code",
   "execution_count": null,
   "metadata": {},
   "outputs": [],
   "source": [
    "device = torch.device(\"cuda\" if torch.cuda.is_available() else \"cpu\")\n",
    "\n",
    "with torch.set_grad_enabled(False):\n",
    "    model = ConvNet()\n",
    "    model.load_state_dict(torch.load(checkpoint_path))\n",
    "    \n",
    "    model.to(device)\n",
    "    \n",
    "    y_ = model(X.to(device)).cpu()\n",
    "    \n",
    "    _, predicted = torch.max(y_, 1)"
   ]
  },
  {
   "cell_type": "code",
   "execution_count": null,
   "metadata": {
    "scrolled": false
   },
   "outputs": [],
   "source": [
    "fig, axs = plt.subplots(8,8, figsize=(20,20))\n",
    "axsf = [item for s in axs for item in s]\n",
    "\n",
    "for n,ax in enumerate(axsf):\n",
    "    ax.imshow(X[n].squeeze().numpy())\n",
    "    ax.axis('off')\n",
    "    ax.set_title(predicted[n].item())\n",
    "    \n",
    "plt.show()"
   ]
  },
  {
   "cell_type": "code",
   "execution_count": null,
   "metadata": {},
   "outputs": [],
   "source": []
  },
  {
   "cell_type": "code",
   "execution_count": null,
   "metadata": {},
   "outputs": [],
   "source": [
    "import ray\n",
    "ray.shutdown()"
   ]
  },
  {
   "cell_type": "code",
   "execution_count": null,
   "metadata": {},
   "outputs": [],
   "source": []
  }
 ],
 "metadata": {
  "kernelspec": {
   "display_name": "Python 3",
   "language": "python",
   "name": "python3"
  },
  "language_info": {
   "codemirror_mode": {
    "name": "ipython",
    "version": 3
   },
   "file_extension": ".py",
   "mimetype": "text/x-python",
   "name": "python",
   "nbconvert_exporter": "python",
   "pygments_lexer": "ipython3",
   "version": "3.8.3"
  }
 },
 "nbformat": 4,
 "nbformat_minor": 4
}
