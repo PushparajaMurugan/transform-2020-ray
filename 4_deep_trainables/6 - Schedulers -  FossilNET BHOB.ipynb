{
 "cells": [
  {
   "cell_type": "markdown",
   "metadata": {},
   "source": [
    "# FossilNET Classification\n",
    "\n",
    "In this notebook, we are going to repeast the FossilNET Training but using BHOB\n",
    "\n",
    "[BHOB Docs](https://docs.ray.io/en/latest/tune-searchalg.html#bohb)"
   ]
  },
  {
   "cell_type": "markdown",
   "metadata": {},
   "source": [
    "### Load Dependencies\n",
    "\n",
    "We load the usual deps and also load [PyTorch](https://pytorch.org/docs/stable/index.html) and the [TorchVision](https://pytorch.org/docs/stable/torchvision/index.html) helper library to get access to pretrained models, dataloaders & transformers for image problems"
   ]
  },
  {
   "cell_type": "code",
   "execution_count": 1,
   "metadata": {},
   "outputs": [
    {
     "name": "stdout",
     "output_type": "stream",
     "text": [
      "Loading dependencies we have already seen...\n",
      "Importing ray...\n",
      "Done...\n"
     ]
    }
   ],
   "source": [
    "%load_ext autoreload\n",
    "%autoreload 2\n",
    "\n",
    "from fossilnet_deps import *"
   ]
  },
  {
   "cell_type": "markdown",
   "metadata": {},
   "source": [
    "### Check for Cuda"
   ]
  },
  {
   "cell_type": "code",
   "execution_count": 2,
   "metadata": {},
   "outputs": [
    {
     "name": "stdout",
     "output_type": "stream",
     "text": [
      "CPU Only\n"
     ]
    }
   ],
   "source": [
    "print('CUDA Available') if torch.cuda.is_available() else print('CPU Only')"
   ]
  },
  {
   "cell_type": "markdown",
   "metadata": {},
   "source": [
    "### Start Ray"
   ]
  },
  {
   "cell_type": "code",
   "execution_count": 3,
   "metadata": {},
   "outputs": [
    {
     "name": "stderr",
     "output_type": "stream",
     "text": [
      "2020-06-11 23:42:01,064\tINFO resource_spec.py:204 -- Starting Ray with 4.83 GiB memory available for workers and up to 2.43 GiB for objects. You can adjust these settings with ray.init(memory=<bytes>, object_store_memory=<bytes>).\n",
      "2020-06-11 23:42:01,411\tINFO services.py:1168 -- View the Ray dashboard at \u001b[1m\u001b[32mlocalhost:8266\u001b[39m\u001b[22m\n"
     ]
    },
    {
     "data": {
      "text/plain": [
       "{'node_ip_address': '192.168.1.39',\n",
       " 'raylet_ip_address': '192.168.1.39',\n",
       " 'redis_address': '192.168.1.39:52710',\n",
       " 'object_store_address': '/tmp/ray/session_2020-06-11_23-42-01_051223_20118/sockets/plasma_store',\n",
       " 'raylet_socket_name': '/tmp/ray/session_2020-06-11_23-42-01_051223_20118/sockets/raylet',\n",
       " 'webui_url': 'localhost:8266',\n",
       " 'session_dir': '/tmp/ray/session_2020-06-11_23-42-01_051223_20118'}"
      ]
     },
     "execution_count": 3,
     "metadata": {},
     "output_type": "execute_result"
    }
   ],
   "source": [
    "ray.shutdown()\n",
    "ray.init(num_cpus=3, num_gpus=1, include_webui=True)"
   ]
  },
  {
   "cell_type": "code",
   "execution_count": 11,
   "metadata": {
    "scrolled": false
   },
   "outputs": [
    {
     "data": {
      "text/html": [
       "== Status ==<br>Memory usage on this node: 11.1/16.0 GiB<br>Using HyperBand: num_stopped=0 total_brackets=2\n",
       "Round #0:\n",
       "  None\n",
       "  Bracket(Max Size (n)=98, Milestone (r)=2, completed=0.0%): {PENDING: 4, RUNNING: 1} <br>Resources requested: 3/3 CPUs, 1/1 GPUs, 0.0/4.83 GiB heap, 0.0/1.66 GiB objects<br>Result logdir: /Users/stevejpurves/ray_results/torch_fossilnet_bhob/FossilTrainable<br>Number of trials: 5 (4 PENDING, 1 RUNNING)<br><table>\n",
       "<thead>\n",
       "<tr><th>Trial name              </th><th>status  </th><th>loc  </th><th>augment_flip  </th><th style=\"text-align: right;\">  batch_size</th><th style=\"text-align: right;\">        lr</th><th>use_grayscale  </th><th style=\"text-align: right;\">  weight_decay</th></tr>\n",
       "</thead>\n",
       "<tbody>\n",
       "<tr><td>FossilTrainable_8f11bab8</td><td>RUNNING </td><td>     </td><td>False         </td><td style=\"text-align: right;\">          16</td><td style=\"text-align: right;\">0.00440261</td><td>False          </td><td style=\"text-align: right;\">   0.000919423</td></tr>\n",
       "<tr><td>FossilTrainable_8f11fe38</td><td>PENDING </td><td>     </td><td>True          </td><td style=\"text-align: right;\">          32</td><td style=\"text-align: right;\">0.00914594</td><td>True           </td><td style=\"text-align: right;\">   0.000647219</td></tr>\n",
       "<tr><td>FossilTrainable_8f122d68</td><td>PENDING </td><td>     </td><td>False         </td><td style=\"text-align: right;\">           8</td><td style=\"text-align: right;\">0.0497776 </td><td>True           </td><td style=\"text-align: right;\">   0.00040671 </td></tr>\n",
       "<tr><td>FossilTrainable_8f125dc4</td><td>PENDING </td><td>     </td><td>True          </td><td style=\"text-align: right;\">          16</td><td style=\"text-align: right;\">0.0167502 </td><td>True           </td><td style=\"text-align: right;\">   0.000366055</td></tr>\n",
       "<tr><td>FossilTrainable_8f128d9e</td><td>PENDING </td><td>     </td><td>True          </td><td style=\"text-align: right;\">           8</td><td style=\"text-align: right;\">0.0934811 </td><td>True           </td><td style=\"text-align: right;\">   0.000433276</td></tr>\n",
       "</tbody>\n",
       "</table><br><br>"
      ],
      "text/plain": [
       "<IPython.core.display.HTML object>"
      ]
     },
     "metadata": {},
     "output_type": "display_data"
    },
    {
     "name": "stdout",
     "output_type": "stream",
     "text": [
      "\u001b[2m\u001b[36m(pid=21039)\u001b[0m Loading dependencies we have already seen...\n"
     ]
    },
    {
     "name": "stderr",
     "output_type": "stream",
     "text": [
      "2020-06-11 23:47:44,424\tERROR trial_runner.py:519 -- Trial FossilTrainable_8f11bab8: Error processing event.\n",
      "Traceback (most recent call last):\n",
      "  File \"/Users/stevejpurves/anaconda/anaconda3/envs/t20-fri-ray/lib/python3.8/site-packages/ray/tune/trial_runner.py\", line 467, in _process_trial\n",
      "    result = self.trial_executor.fetch_result(trial)\n",
      "  File \"/Users/stevejpurves/anaconda/anaconda3/envs/t20-fri-ray/lib/python3.8/site-packages/ray/tune/ray_trial_executor.py\", line 431, in fetch_result\n",
      "    result = ray.get(trial_future[0], DEFAULT_GET_TIMEOUT)\n",
      "  File \"/Users/stevejpurves/anaconda/anaconda3/envs/t20-fri-ray/lib/python3.8/site-packages/ray/worker.py\", line 1515, in get\n",
      "    raise value.as_instanceof_cause()\n",
      "ray.exceptions.RayTaskError(TypeError): \u001b[36mray::FossilTrainable.train()\u001b[39m (pid=21039, ip=192.168.1.39)\n",
      "  File \"python/ray/_raylet.pyx\", line 424, in ray._raylet.execute_task\n",
      "  File \"python/ray/_raylet.pyx\", line 459, in ray._raylet.execute_task\n",
      "  File \"python/ray/_raylet.pyx\", line 462, in ray._raylet.execute_task\n",
      "  File \"python/ray/_raylet.pyx\", line 463, in ray._raylet.execute_task\n",
      "  File \"python/ray/_raylet.pyx\", line 417, in ray._raylet.execute_task.function_executor\n",
      "  File \"/Users/stevejpurves/anaconda/anaconda3/envs/t20-fri-ray/lib/python3.8/site-packages/ray/tune/trainable.py\", line 174, in __init__\n",
      "    self._setup(copy.deepcopy(self.config))\n",
      "  File \"/Users/stevejpurves/dev/swung/transform-2020-ray/4_deep_trainables/fossilnet_deps.py\", line 206, in _setup\n",
      "    self.model = FossilResNet(num_outputs=4).to(self.device)\n",
      "  File \"/Users/stevejpurves/dev/swung/transform-2020-ray/4_deep_trainables/fossilnet_deps.py\", line 92, in __init__\n",
      "    super(FossilResNet, self).__init__()\n",
      "TypeError: super(type, obj): obj must be an instance or subtype of type\n"
     ]
    },
    {
     "name": "stdout",
     "output_type": "stream",
     "text": [
      "\u001b[2m\u001b[36m(pid=21039)\u001b[0m Importing ray...\n",
      "\u001b[2m\u001b[36m(pid=21039)\u001b[0m Done...\n",
      "\u001b[2m\u001b[36m(pid=21042)\u001b[0m Loading dependencies we have already seen...\n"
     ]
    },
    {
     "name": "stderr",
     "output_type": "stream",
     "text": [
      "2020-06-11 23:47:46,883\tERROR trial_runner.py:519 -- Trial FossilTrainable_8f11fe38: Error processing event.\n",
      "Traceback (most recent call last):\n",
      "  File \"/Users/stevejpurves/anaconda/anaconda3/envs/t20-fri-ray/lib/python3.8/site-packages/ray/tune/trial_runner.py\", line 467, in _process_trial\n",
      "    result = self.trial_executor.fetch_result(trial)\n",
      "  File \"/Users/stevejpurves/anaconda/anaconda3/envs/t20-fri-ray/lib/python3.8/site-packages/ray/tune/ray_trial_executor.py\", line 431, in fetch_result\n",
      "    result = ray.get(trial_future[0], DEFAULT_GET_TIMEOUT)\n",
      "  File \"/Users/stevejpurves/anaconda/anaconda3/envs/t20-fri-ray/lib/python3.8/site-packages/ray/worker.py\", line 1515, in get\n",
      "    raise value.as_instanceof_cause()\n",
      "ray.exceptions.RayTaskError(TypeError): \u001b[36mray::FossilTrainable.train()\u001b[39m (pid=21042, ip=192.168.1.39)\n",
      "  File \"python/ray/_raylet.pyx\", line 424, in ray._raylet.execute_task\n",
      "  File \"python/ray/_raylet.pyx\", line 459, in ray._raylet.execute_task\n",
      "  File \"python/ray/_raylet.pyx\", line 462, in ray._raylet.execute_task\n",
      "  File \"python/ray/_raylet.pyx\", line 463, in ray._raylet.execute_task\n",
      "  File \"python/ray/_raylet.pyx\", line 417, in ray._raylet.execute_task.function_executor\n",
      "  File \"/Users/stevejpurves/anaconda/anaconda3/envs/t20-fri-ray/lib/python3.8/site-packages/ray/tune/trainable.py\", line 174, in __init__\n",
      "    self._setup(copy.deepcopy(self.config))\n",
      "  File \"/Users/stevejpurves/dev/swung/transform-2020-ray/4_deep_trainables/fossilnet_deps.py\", line 206, in _setup\n",
      "    self.model = FossilResNet(num_outputs=4).to(self.device)\n",
      "  File \"/Users/stevejpurves/dev/swung/transform-2020-ray/4_deep_trainables/fossilnet_deps.py\", line 92, in __init__\n",
      "    super(FossilResNet, self).__init__()\n",
      "TypeError: super(type, obj): obj must be an instance or subtype of type\n"
     ]
    },
    {
     "name": "stdout",
     "output_type": "stream",
     "text": [
      "\u001b[2m\u001b[36m(pid=21042)\u001b[0m Importing ray...\n",
      "\u001b[2m\u001b[36m(pid=21042)\u001b[0m Done...\n",
      "\u001b[2m\u001b[36m(pid=21046)\u001b[0m Loading dependencies we have already seen...\n"
     ]
    },
    {
     "name": "stderr",
     "output_type": "stream",
     "text": [
      "2020-06-11 23:47:49,411\tERROR trial_runner.py:519 -- Trial FossilTrainable_8f122d68: Error processing event.\n",
      "Traceback (most recent call last):\n",
      "  File \"/Users/stevejpurves/anaconda/anaconda3/envs/t20-fri-ray/lib/python3.8/site-packages/ray/tune/trial_runner.py\", line 467, in _process_trial\n",
      "    result = self.trial_executor.fetch_result(trial)\n",
      "  File \"/Users/stevejpurves/anaconda/anaconda3/envs/t20-fri-ray/lib/python3.8/site-packages/ray/tune/ray_trial_executor.py\", line 431, in fetch_result\n",
      "    result = ray.get(trial_future[0], DEFAULT_GET_TIMEOUT)\n",
      "  File \"/Users/stevejpurves/anaconda/anaconda3/envs/t20-fri-ray/lib/python3.8/site-packages/ray/worker.py\", line 1515, in get\n",
      "    raise value.as_instanceof_cause()\n",
      "ray.exceptions.RayTaskError(TypeError): \u001b[36mray::FossilTrainable.train()\u001b[39m (pid=21046, ip=192.168.1.39)\n",
      "  File \"python/ray/_raylet.pyx\", line 424, in ray._raylet.execute_task\n",
      "  File \"python/ray/_raylet.pyx\", line 459, in ray._raylet.execute_task\n",
      "  File \"python/ray/_raylet.pyx\", line 462, in ray._raylet.execute_task\n",
      "  File \"python/ray/_raylet.pyx\", line 463, in ray._raylet.execute_task\n",
      "  File \"python/ray/_raylet.pyx\", line 417, in ray._raylet.execute_task.function_executor\n",
      "  File \"/Users/stevejpurves/anaconda/anaconda3/envs/t20-fri-ray/lib/python3.8/site-packages/ray/tune/trainable.py\", line 174, in __init__\n",
      "    self._setup(copy.deepcopy(self.config))\n",
      "  File \"/Users/stevejpurves/dev/swung/transform-2020-ray/4_deep_trainables/fossilnet_deps.py\", line 206, in _setup\n",
      "    self.model = FossilResNet(num_outputs=4).to(self.device)\n",
      "  File \"/Users/stevejpurves/dev/swung/transform-2020-ray/4_deep_trainables/fossilnet_deps.py\", line 92, in __init__\n",
      "    super(FossilResNet, self).__init__()\n",
      "TypeError: super(type, obj): obj must be an instance or subtype of type\n"
     ]
    },
    {
     "data": {
      "text/html": [
       "== Status ==<br>Memory usage on this node: 11.1/16.0 GiB<br>Using HyperBand: num_stopped=0 total_brackets=2\n",
       "Round #0:\n",
       "  None\n",
       "  Bracket(Max Size (n)=98, Milestone (r)=2, completed=0.0%): {ERROR: 3, PENDING: 2} <br>Resources requested: 0/3 CPUs, 0/1 GPUs, 0.0/4.83 GiB heap, 0.0/1.66 GiB objects<br>Result logdir: /Users/stevejpurves/ray_results/torch_fossilnet_bhob/FossilTrainable<br>Number of trials: 5 (3 ERROR, 2 PENDING)<br><table>\n",
       "<thead>\n",
       "<tr><th>Trial name              </th><th>status  </th><th>loc  </th><th>augment_flip  </th><th style=\"text-align: right;\">  batch_size</th><th style=\"text-align: right;\">        lr</th><th>use_grayscale  </th><th style=\"text-align: right;\">  weight_decay</th></tr>\n",
       "</thead>\n",
       "<tbody>\n",
       "<tr><td>FossilTrainable_8f11bab8</td><td>ERROR   </td><td>     </td><td>False         </td><td style=\"text-align: right;\">          16</td><td style=\"text-align: right;\">0.00440261</td><td>False          </td><td style=\"text-align: right;\">   0.000919423</td></tr>\n",
       "<tr><td>FossilTrainable_8f11fe38</td><td>ERROR   </td><td>     </td><td>True          </td><td style=\"text-align: right;\">          32</td><td style=\"text-align: right;\">0.00914594</td><td>True           </td><td style=\"text-align: right;\">   0.000647219</td></tr>\n",
       "<tr><td>FossilTrainable_8f122d68</td><td>ERROR   </td><td>     </td><td>False         </td><td style=\"text-align: right;\">           8</td><td style=\"text-align: right;\">0.0497776 </td><td>True           </td><td style=\"text-align: right;\">   0.00040671 </td></tr>\n",
       "<tr><td>FossilTrainable_8f125dc4</td><td>PENDING </td><td>     </td><td>True          </td><td style=\"text-align: right;\">          16</td><td style=\"text-align: right;\">0.0167502 </td><td>True           </td><td style=\"text-align: right;\">   0.000366055</td></tr>\n",
       "<tr><td>FossilTrainable_8f128d9e</td><td>PENDING </td><td>     </td><td>True          </td><td style=\"text-align: right;\">           8</td><td style=\"text-align: right;\">0.0934811 </td><td>True           </td><td style=\"text-align: right;\">   0.000433276</td></tr>\n",
       "</tbody>\n",
       "</table><br>Number of errored trials: 3<br><table>\n",
       "<thead>\n",
       "<tr><th>Trial name              </th><th style=\"text-align: right;\">  # failures</th><th>error file                                                                                                                                                                                                            </th></tr>\n",
       "</thead>\n",
       "<tbody>\n",
       "<tr><td>FossilTrainable_8f11bab8</td><td style=\"text-align: right;\">           1</td><td>/Users/stevejpurves/ray_results/torch_fossilnet_bhob/FossilTrainable/FossilTrainable_1_augment_flip=False,batch_size=16,lr=0.0044026,use_grayscale=False,weight_decay=0.00091942_2020-06-11_23-47-42hjkbpgsc/error.txt</td></tr>\n",
       "<tr><td>FossilTrainable_8f11fe38</td><td style=\"text-align: right;\">           1</td><td>/Users/stevejpurves/ray_results/torch_fossilnet_bhob/FossilTrainable/FossilTrainable_2_augment_flip=True,batch_size=32,lr=0.0091459,use_grayscale=True,weight_decay=0.00064722_2020-06-11_23-47-440zs0se1x/error.txt  </td></tr>\n",
       "<tr><td>FossilTrainable_8f122d68</td><td style=\"text-align: right;\">           1</td><td>/Users/stevejpurves/ray_results/torch_fossilnet_bhob/FossilTrainable/FossilTrainable_3_augment_flip=False,batch_size=8,lr=0.049778,use_grayscale=True,weight_decay=0.00040671_2020-06-11_23-47-46rbyq5l62/error.txt   </td></tr>\n",
       "</tbody>\n",
       "</table><br>"
      ],
      "text/plain": [
       "<IPython.core.display.HTML object>"
      ]
     },
     "metadata": {},
     "output_type": "display_data"
    },
    {
     "name": "stdout",
     "output_type": "stream",
     "text": [
      "\u001b[2m\u001b[36m(pid=21046)\u001b[0m Importing ray...\n",
      "\u001b[2m\u001b[36m(pid=21046)\u001b[0m Done...\n",
      "\u001b[2m\u001b[36m(pid=21063)\u001b[0m Loading dependencies we have already seen...\n"
     ]
    },
    {
     "name": "stderr",
     "output_type": "stream",
     "text": [
      "2020-06-11 23:47:52,044\tERROR trial_runner.py:519 -- Trial FossilTrainable_8f125dc4: Error processing event.\n",
      "Traceback (most recent call last):\n",
      "  File \"/Users/stevejpurves/anaconda/anaconda3/envs/t20-fri-ray/lib/python3.8/site-packages/ray/tune/trial_runner.py\", line 467, in _process_trial\n",
      "    result = self.trial_executor.fetch_result(trial)\n",
      "  File \"/Users/stevejpurves/anaconda/anaconda3/envs/t20-fri-ray/lib/python3.8/site-packages/ray/tune/ray_trial_executor.py\", line 431, in fetch_result\n",
      "    result = ray.get(trial_future[0], DEFAULT_GET_TIMEOUT)\n",
      "  File \"/Users/stevejpurves/anaconda/anaconda3/envs/t20-fri-ray/lib/python3.8/site-packages/ray/worker.py\", line 1515, in get\n",
      "    raise value.as_instanceof_cause()\n",
      "ray.exceptions.RayTaskError(TypeError): \u001b[36mray::FossilTrainable.train()\u001b[39m (pid=21063, ip=192.168.1.39)\n",
      "  File \"python/ray/_raylet.pyx\", line 424, in ray._raylet.execute_task\n",
      "  File \"python/ray/_raylet.pyx\", line 459, in ray._raylet.execute_task\n",
      "  File \"python/ray/_raylet.pyx\", line 462, in ray._raylet.execute_task\n",
      "  File \"python/ray/_raylet.pyx\", line 463, in ray._raylet.execute_task\n",
      "  File \"python/ray/_raylet.pyx\", line 417, in ray._raylet.execute_task.function_executor\n",
      "  File \"/Users/stevejpurves/anaconda/anaconda3/envs/t20-fri-ray/lib/python3.8/site-packages/ray/tune/trainable.py\", line 174, in __init__\n",
      "    self._setup(copy.deepcopy(self.config))\n",
      "  File \"/Users/stevejpurves/dev/swung/transform-2020-ray/4_deep_trainables/fossilnet_deps.py\", line 206, in _setup\n",
      "    self.model = FossilResNet(num_outputs=4).to(self.device)\n",
      "  File \"/Users/stevejpurves/dev/swung/transform-2020-ray/4_deep_trainables/fossilnet_deps.py\", line 92, in __init__\n",
      "    super(FossilResNet, self).__init__()\n",
      "TypeError: super(type, obj): obj must be an instance or subtype of type\n"
     ]
    },
    {
     "name": "stdout",
     "output_type": "stream",
     "text": [
      "\u001b[2m\u001b[36m(pid=21063)\u001b[0m Importing ray...\n",
      "\u001b[2m\u001b[36m(pid=21063)\u001b[0m Done...\n",
      "\u001b[2m\u001b[36m(pid=21065)\u001b[0m Loading dependencies we have already seen...\n"
     ]
    },
    {
     "name": "stderr",
     "output_type": "stream",
     "text": [
      "2020-06-11 23:47:54,310\tERROR trial_runner.py:519 -- Trial FossilTrainable_8f128d9e: Error processing event.\n",
      "Traceback (most recent call last):\n",
      "  File \"/Users/stevejpurves/anaconda/anaconda3/envs/t20-fri-ray/lib/python3.8/site-packages/ray/tune/trial_runner.py\", line 467, in _process_trial\n",
      "    result = self.trial_executor.fetch_result(trial)\n",
      "  File \"/Users/stevejpurves/anaconda/anaconda3/envs/t20-fri-ray/lib/python3.8/site-packages/ray/tune/ray_trial_executor.py\", line 431, in fetch_result\n",
      "    result = ray.get(trial_future[0], DEFAULT_GET_TIMEOUT)\n",
      "  File \"/Users/stevejpurves/anaconda/anaconda3/envs/t20-fri-ray/lib/python3.8/site-packages/ray/worker.py\", line 1515, in get\n",
      "    raise value.as_instanceof_cause()\n",
      "ray.exceptions.RayTaskError(TypeError): \u001b[36mray::FossilTrainable.train()\u001b[39m (pid=21065, ip=192.168.1.39)\n",
      "  File \"python/ray/_raylet.pyx\", line 424, in ray._raylet.execute_task\n",
      "  File \"python/ray/_raylet.pyx\", line 459, in ray._raylet.execute_task\n",
      "  File \"python/ray/_raylet.pyx\", line 462, in ray._raylet.execute_task\n",
      "  File \"python/ray/_raylet.pyx\", line 463, in ray._raylet.execute_task\n",
      "  File \"python/ray/_raylet.pyx\", line 417, in ray._raylet.execute_task.function_executor\n",
      "  File \"/Users/stevejpurves/anaconda/anaconda3/envs/t20-fri-ray/lib/python3.8/site-packages/ray/tune/trainable.py\", line 174, in __init__\n",
      "    self._setup(copy.deepcopy(self.config))\n",
      "  File \"/Users/stevejpurves/dev/swung/transform-2020-ray/4_deep_trainables/fossilnet_deps.py\", line 206, in _setup\n",
      "    self.model = FossilResNet(num_outputs=4).to(self.device)\n",
      "  File \"/Users/stevejpurves/dev/swung/transform-2020-ray/4_deep_trainables/fossilnet_deps.py\", line 92, in __init__\n",
      "    super(FossilResNet, self).__init__()\n",
      "TypeError: super(type, obj): obj must be an instance or subtype of type\n"
     ]
    },
    {
     "name": "stdout",
     "output_type": "stream",
     "text": [
      "\u001b[2m\u001b[36m(pid=21065)\u001b[0m Importing ray...\n",
      "\u001b[2m\u001b[36m(pid=21065)\u001b[0m Done...\n"
     ]
    },
    {
     "data": {
      "text/html": [
       "== Status ==<br>Memory usage on this node: 11.1/16.0 GiB<br>Using HyperBand: num_stopped=0 total_brackets=2\n",
       "Round #0:\n",
       "  None\n",
       "  Bracket(Max Size (n)=33, Milestone (r)=6, completed=0.0%): {ERROR: 5} <br>Resources requested: 0/3 CPUs, 0/1 GPUs, 0.0/4.83 GiB heap, 0.0/1.66 GiB objects<br>Result logdir: /Users/stevejpurves/ray_results/torch_fossilnet_bhob/FossilTrainable<br>Number of trials: 5 (5 ERROR)<br><table>\n",
       "<thead>\n",
       "<tr><th>Trial name              </th><th>status  </th><th>loc  </th><th>augment_flip  </th><th style=\"text-align: right;\">  batch_size</th><th style=\"text-align: right;\">        lr</th><th>use_grayscale  </th><th style=\"text-align: right;\">  weight_decay</th></tr>\n",
       "</thead>\n",
       "<tbody>\n",
       "<tr><td>FossilTrainable_8f11bab8</td><td>ERROR   </td><td>     </td><td>False         </td><td style=\"text-align: right;\">          16</td><td style=\"text-align: right;\">0.00440261</td><td>False          </td><td style=\"text-align: right;\">   0.000919423</td></tr>\n",
       "<tr><td>FossilTrainable_8f11fe38</td><td>ERROR   </td><td>     </td><td>True          </td><td style=\"text-align: right;\">          32</td><td style=\"text-align: right;\">0.00914594</td><td>True           </td><td style=\"text-align: right;\">   0.000647219</td></tr>\n",
       "<tr><td>FossilTrainable_8f122d68</td><td>ERROR   </td><td>     </td><td>False         </td><td style=\"text-align: right;\">           8</td><td style=\"text-align: right;\">0.0497776 </td><td>True           </td><td style=\"text-align: right;\">   0.00040671 </td></tr>\n",
       "<tr><td>FossilTrainable_8f125dc4</td><td>ERROR   </td><td>     </td><td>True          </td><td style=\"text-align: right;\">          16</td><td style=\"text-align: right;\">0.0167502 </td><td>True           </td><td style=\"text-align: right;\">   0.000366055</td></tr>\n",
       "<tr><td>FossilTrainable_8f128d9e</td><td>ERROR   </td><td>     </td><td>True          </td><td style=\"text-align: right;\">           8</td><td style=\"text-align: right;\">0.0934811 </td><td>True           </td><td style=\"text-align: right;\">   0.000433276</td></tr>\n",
       "</tbody>\n",
       "</table><br>Number of errored trials: 5<br><table>\n",
       "<thead>\n",
       "<tr><th>Trial name              </th><th style=\"text-align: right;\">  # failures</th><th>error file                                                                                                                                                                                                            </th></tr>\n",
       "</thead>\n",
       "<tbody>\n",
       "<tr><td>FossilTrainable_8f11bab8</td><td style=\"text-align: right;\">           1</td><td>/Users/stevejpurves/ray_results/torch_fossilnet_bhob/FossilTrainable/FossilTrainable_1_augment_flip=False,batch_size=16,lr=0.0044026,use_grayscale=False,weight_decay=0.00091942_2020-06-11_23-47-42hjkbpgsc/error.txt</td></tr>\n",
       "<tr><td>FossilTrainable_8f11fe38</td><td style=\"text-align: right;\">           1</td><td>/Users/stevejpurves/ray_results/torch_fossilnet_bhob/FossilTrainable/FossilTrainable_2_augment_flip=True,batch_size=32,lr=0.0091459,use_grayscale=True,weight_decay=0.00064722_2020-06-11_23-47-440zs0se1x/error.txt  </td></tr>\n",
       "<tr><td>FossilTrainable_8f122d68</td><td style=\"text-align: right;\">           1</td><td>/Users/stevejpurves/ray_results/torch_fossilnet_bhob/FossilTrainable/FossilTrainable_3_augment_flip=False,batch_size=8,lr=0.049778,use_grayscale=True,weight_decay=0.00040671_2020-06-11_23-47-46rbyq5l62/error.txt   </td></tr>\n",
       "<tr><td>FossilTrainable_8f125dc4</td><td style=\"text-align: right;\">           1</td><td>/Users/stevejpurves/ray_results/torch_fossilnet_bhob/FossilTrainable/FossilTrainable_4_augment_flip=True,batch_size=16,lr=0.01675,use_grayscale=True,weight_decay=0.00036605_2020-06-11_23-47-49eueudvj8/error.txt    </td></tr>\n",
       "<tr><td>FossilTrainable_8f128d9e</td><td style=\"text-align: right;\">           1</td><td>/Users/stevejpurves/ray_results/torch_fossilnet_bhob/FossilTrainable/FossilTrainable_5_augment_flip=True,batch_size=8,lr=0.093481,use_grayscale=True,weight_decay=0.00043328_2020-06-11_23-47-52hxsepji_/error.txt    </td></tr>\n",
       "</tbody>\n",
       "</table><br>"
      ],
      "text/plain": [
       "<IPython.core.display.HTML object>"
      ]
     },
     "metadata": {},
     "output_type": "display_data"
    },
    {
     "ename": "TuneError",
     "evalue": "('Trials did not complete', [FossilTrainable_8f11bab8, FossilTrainable_8f11fe38, FossilTrainable_8f122d68, FossilTrainable_8f125dc4, FossilTrainable_8f128d9e])",
     "output_type": "error",
     "traceback": [
      "\u001b[0;31m---------------------------------------------------------------------------\u001b[0m",
      "\u001b[0;31mTuneError\u001b[0m                                 Traceback (most recent call last)",
      "\u001b[0;32m<ipython-input-11-d80117bb67a0>\u001b[0m in \u001b[0;36m<module>\u001b[0;34m\u001b[0m\n\u001b[1;32m     52\u001b[0m \u001b[0msmoke_test\u001b[0m \u001b[0;34m=\u001b[0m \u001b[0;32mTrue\u001b[0m\u001b[0;34m\u001b[0m\u001b[0;34m\u001b[0m\u001b[0m\n\u001b[1;32m     53\u001b[0m \u001b[0;34m\u001b[0m\u001b[0m\n\u001b[0;32m---> 54\u001b[0;31m analysis = tune.run(\n\u001b[0m\u001b[1;32m     55\u001b[0m     \u001b[0mFossilTrainable\u001b[0m\u001b[0;34m,\u001b[0m\u001b[0;34m\u001b[0m\u001b[0;34m\u001b[0m\u001b[0m\n\u001b[1;32m     56\u001b[0m     \u001b[0mscheduler\u001b[0m\u001b[0;34m=\u001b[0m\u001b[0mbohb_hyperband\u001b[0m\u001b[0;34m,\u001b[0m\u001b[0;34m\u001b[0m\u001b[0;34m\u001b[0m\u001b[0m\n",
      "\u001b[0;32m~/anaconda/anaconda3/envs/t20-fri-ray/lib/python3.8/site-packages/ray/tune/tune.py\u001b[0m in \u001b[0;36mrun\u001b[0;34m(run_or_experiment, name, stop, config, resources_per_trial, num_samples, local_dir, upload_dir, trial_name_creator, loggers, sync_to_cloud, sync_to_driver, checkpoint_freq, checkpoint_at_end, sync_on_checkpoint, keep_checkpoints_num, checkpoint_score_attr, global_checkpoint_period, export_formats, max_failures, fail_fast, restore, search_alg, scheduler, with_server, server_port, verbose, progress_reporter, resume, queue_trials, reuse_actors, trial_executor, raise_on_failed_trial, return_trials, ray_auto_init)\u001b[0m\n\u001b[1;32m    345\u001b[0m     \u001b[0;32mif\u001b[0m \u001b[0mincomplete_trials\u001b[0m\u001b[0;34m:\u001b[0m\u001b[0;34m\u001b[0m\u001b[0;34m\u001b[0m\u001b[0m\n\u001b[1;32m    346\u001b[0m         \u001b[0;32mif\u001b[0m \u001b[0mraise_on_failed_trial\u001b[0m\u001b[0;34m:\u001b[0m\u001b[0;34m\u001b[0m\u001b[0;34m\u001b[0m\u001b[0m\n\u001b[0;32m--> 347\u001b[0;31m             \u001b[0;32mraise\u001b[0m \u001b[0mTuneError\u001b[0m\u001b[0;34m(\u001b[0m\u001b[0;34m\"Trials did not complete\"\u001b[0m\u001b[0;34m,\u001b[0m \u001b[0mincomplete_trials\u001b[0m\u001b[0;34m)\u001b[0m\u001b[0;34m\u001b[0m\u001b[0;34m\u001b[0m\u001b[0m\n\u001b[0m\u001b[1;32m    348\u001b[0m         \u001b[0;32melse\u001b[0m\u001b[0;34m:\u001b[0m\u001b[0;34m\u001b[0m\u001b[0;34m\u001b[0m\u001b[0m\n\u001b[1;32m    349\u001b[0m             \u001b[0mlogger\u001b[0m\u001b[0;34m.\u001b[0m\u001b[0merror\u001b[0m\u001b[0;34m(\u001b[0m\u001b[0;34m\"Trials did not complete: %s\"\u001b[0m\u001b[0;34m,\u001b[0m \u001b[0mincomplete_trials\u001b[0m\u001b[0;34m)\u001b[0m\u001b[0;34m\u001b[0m\u001b[0;34m\u001b[0m\u001b[0m\n",
      "\u001b[0;31mTuneError\u001b[0m: ('Trials did not complete', [FossilTrainable_8f11bab8, FossilTrainable_8f11fe38, FossilTrainable_8f122d68, FossilTrainable_8f125dc4, FossilTrainable_8f128d9e])"
     ]
    }
   ],
   "source": [
    "# BOHB uses ConfigSpace for their hyperparameter search space\n",
    "import ConfigSpace as CS\n",
    "from ray.tune.schedulers.hb_bohb import HyperBandForBOHB\n",
    "from ray.tune.suggest.bohb import TuneBOHB\n",
    "\n",
    "config_space = CS.ConfigurationSpace()\n",
    "\n",
    "config_space.add_hyperparameter(\n",
    "    CS.UniformFloatHyperparameter(\"lr\", lower=1e-3, upper=1e-1)\n",
    ")\n",
    "\n",
    "config_space.add_hyperparameter(\n",
    "    CS.UniformFloatHyperparameter(\"weight_decay\", lower=1e-7, upper=1e-3)\n",
    ")\n",
    "\n",
    "config_space.add_hyperparameter(\n",
    "    CS.CategoricalHyperparameter(\"batch_size\", choices=[8, 16, 32, 64])\n",
    ")\n",
    "\n",
    "config_space.add_hyperparameter(\n",
    "    CS.CategoricalHyperparameter(\"augment_flip\", choices=[True, False])\n",
    ")\n",
    "\n",
    "config_space.add_hyperparameter(\n",
    "    CS.CategoricalHyperparameter(\"use_grayscale\", choices=[True, False])\n",
    ")\n",
    "\n",
    "\n",
    "\n",
    "\n",
    "experiment_metrics = dict(metric=\"val_f1_score\", mode=\"max\")\n",
    "\n",
    "\n",
    "\n",
    "\n",
    "bohb_hyperband = tune.schedulers.hb_bohb.HyperBandForBOHB(time_attr=\"training_iteration\",\n",
    "                                                max_t=200,\n",
    "                                                **experiment_metrics)\n",
    "\n",
    "\n",
    "\n",
    "bohb_search = tune.suggest.bohb.TuneBOHB(config_space,\n",
    "                                           max_concurrent=10, \n",
    "                                           **experiment_metrics)\n",
    "\n",
    "#\n",
    "# Before commiting to a huge run, run training 1 iteration with N (10?) samples to dry run through different\n",
    "# hyperparameter options\n",
    "#\n",
    "# Then set this to False and tune for real\n",
    "#\n",
    "smoke_test = True\n",
    "\n",
    "analysis = tune.run(\n",
    "    FossilTrainable,\n",
    "    scheduler=bohb_hyperband,\n",
    "    search_alg=bohb_search,\n",
    "    \n",
    "    local_dir=\"~/ray_results/torch_fossilnet_bhob\",\n",
    "    resources_per_trial={\n",
    "        \"cpu\": 3,\n",
    "        \"gpu\": 1\n",
    "    },\n",
    "    num_samples=5 if smoke_test else 100,\n",
    "    checkpoint_at_end=True,\n",
    "    keep_checkpoints_num=5,\n",
    "    checkpoint_freq=3\n",
    ")"
   ]
  },
  {
   "cell_type": "code",
   "execution_count": null,
   "metadata": {},
   "outputs": [],
   "source": [
    "print(\"Best config is:\", analysis.get_best_config(metric=\"best_val_f1_score\"))"
   ]
  },
  {
   "cell_type": "code",
   "execution_count": null,
   "metadata": {},
   "outputs": [],
   "source": [
    "import ray\n",
    "ray.shutdown()\n"
   ]
  },
  {
   "cell_type": "markdown",
   "metadata": {},
   "source": [
    "## Next\n",
    "\n",
    "Head over to EC2 and check results of a longer run on [tensorboard](http://ec2-3-136-85-207.us-east-2.compute.amazonaws.com:6006/)"
   ]
  },
  {
   "cell_type": "code",
   "execution_count": null,
   "metadata": {},
   "outputs": [],
   "source": []
  }
 ],
 "metadata": {
  "kernelspec": {
   "display_name": "Python 3",
   "language": "python",
   "name": "python3"
  },
  "language_info": {
   "codemirror_mode": {
    "name": "ipython",
    "version": 3
   },
   "file_extension": ".py",
   "mimetype": "text/x-python",
   "name": "python",
   "nbconvert_exporter": "python",
   "pygments_lexer": "ipython3",
   "version": "3.8.3"
  }
 },
 "nbformat": 4,
 "nbformat_minor": 4
}
