{
 "cells": [
  {
   "cell_type": "code",
   "execution_count": 1,
   "metadata": {},
   "outputs": [
    {
     "name": "stdout",
     "output_type": "stream",
     "text": [
      "Loading dependencies we have already seen...\n",
      "Importing ray...\n",
      "Done...\n"
     ]
    }
   ],
   "source": [
    "%load_ext autoreload\n",
    "%autoreload 2\n",
    "\n",
    "from dependencies import *"
   ]
  },
  {
   "cell_type": "code",
   "execution_count": 2,
   "metadata": {},
   "outputs": [],
   "source": [
    "import h5py\n",
    "\n",
    "def setup(filepath):\n",
    "    with h5py.File(filepath, 'r') as f:\n",
    "        X_train = f[\"train_x\"][:]\n",
    "        y_train = f[\"train_y\"][:]\n",
    "        group_train = f[\"train_groups\"][:]\n",
    "        train_wells = f[\"train_groups\"].attrs[\"well_names\"]        \n",
    "        \n",
    "        X_test = f[\"test_x\"][:]\n",
    "        y_test = None\n",
    "#         y_test = f[\"test_y\"]\n",
    "        group_test = f[\"test_groups\"][:]\n",
    "        test_wells = f[\"test_groups\"].attrs[\"well_names\"]\n",
    "\n",
    "    return X_train, y_train, group_train, X_test, y_test, group_test, (train_wells, test_wells)\n",
    "\n",
    "X_train, y_train, group_train, X_test, y_test, group_test, well_names = setup('../datasets/seg_2016_facies/la_team_5_data.h5py')"
   ]
  },
  {
   "cell_type": "code",
   "execution_count": 3,
   "metadata": {},
   "outputs": [],
   "source": [
    "# XGBClassifier(learning_rate=0.12,\n",
    "#               max_depth=3,\n",
    "#               min_child_weight=10,\n",
    "#               n_estimators=150,\n",
    "#               seed=seed,\n",
    "#               colsample_bytree=0.9)"
   ]
  },
  {
   "cell_type": "code",
   "execution_count": 4,
   "metadata": {},
   "outputs": [
    {
     "name": "stdout",
     "output_type": "stream",
     "text": [
      "/Users/stevejpurves/dev/swung/ray_playground/datasets/seg_2016_facies/la_team_5_data.h5py\n"
     ]
    }
   ],
   "source": [
    "from os import path\n",
    "filepath = path.abspath('../datasets/seg_2016_facies/la_team_5_data.h5py')\n",
    "print(filepath)"
   ]
  },
  {
   "cell_type": "code",
   "execution_count": 5,
   "metadata": {},
   "outputs": [],
   "source": [
    "from sklearn.model_selection import LeavePGroupsOut\n",
    "import xgboost as xgb\n",
    "from xgboost.sklearn import XGBClassifier\n",
    "from scipy.signal import medfilt\n",
    "from filelock import FileLock\n",
    "\n",
    "def e2e_train_and_test(config, **kwargs):\n",
    "    \n",
    "    #threadsafe\n",
    "#     filepath = path.abspath('../datasets/seg_2016_facies/la_team_5_data.h5py')\n",
    "    with FileLock(\"./data.lock\"):\n",
    "        X, y, groups, X_test, y_test, group_test, well_names = setup(kwargs['filepath'])\n",
    "    \n",
    "    # chose your CV strategy\n",
    "    splitter = LeavePGroupsOut(1)\n",
    "    \n",
    "    # run k fold training and validation\n",
    "    f1_scores = [] # keep hold of all individual scores\n",
    "    for train_ind, val_ind in splitter.split(X, y, groups=groups):\n",
    "        pipeline = make_pipeline(RobustScaler(),\n",
    "                                  XGBClassifier())\n",
    "\n",
    "        pipeline.set_params(**config)\n",
    "        pipeline.fit(X[train_ind], y[train_ind])\n",
    "        \n",
    "        y_pred = pipeline.predict(X[val_ind])\n",
    "        \n",
    "        f1_scores.append(f1_score(y_pred, y[val_ind], average='micro'))\n",
    "    \n",
    "        # Clean isolated facies for each well\n",
    "        y_pred = medfilt(y_pred, kernel_size=5)\n",
    "    \n",
    "    # use tunes reporter\n",
    "    tune.track.log(mean_f1_score=np.array(f1_scores).mean(),\n",
    "                std_f1_score=np.array(f1_scores).std(),\n",
    "                # and we can actually add any metrics we like\n",
    "                done=True)"
   ]
  },
  {
   "cell_type": "code",
   "execution_count": 6,
   "metadata": {},
   "outputs": [],
   "source": [
    "tuning_config = {\n",
    "    'xgbclassifier__learning_rate': 0.12,\n",
    "    'xgbclassifier__max_depth': 3,\n",
    "    'xbgclassifier__min_child_weight' :10,\n",
    "    'xbgclassifier__n_estimators': 150,\n",
    "    'xgbclassifier__seed':1773,\n",
    "    'xgbclassifier__colsample_bytree':0.9\n",
    "}"
   ]
  },
  {
   "cell_type": "code",
   "execution_count": 7,
   "metadata": {},
   "outputs": [],
   "source": [
    "ray_tuning_config = {\n",
    "    'xgbclassifier__learning_rate': tune.loguniform(0.001, 0.5),\n",
    "    'xgbclassifier__max_depth': tune.randint(1, 10),\n",
    "    'xgbclassifier__min_child_weight': tune.loguniform(0.1,100),\n",
    "    'xgbclassifier__n_estimators': tune.randint(5,200),\n",
    "    'xgbclassifier__colsample_bytree': tune.choice([0.4, 0.6, 0.8, 1.0]),\n",
    "    'xgbclassifier__lambda': tune.choice([0,1]),\n",
    "    'xgbclassifier__seed': 42\n",
    "}"
   ]
  },
  {
   "cell_type": "code",
   "execution_count": 14,
   "metadata": {},
   "outputs": [
    {
     "name": "stderr",
     "output_type": "stream",
     "text": [
      "2020-06-09 12:43:20,160\tWARNING worker.py:808 -- When connecting to an existing cluster, _internal_config must match the cluster's _internal_config.\n"
     ]
    },
    {
     "data": {
      "text/plain": [
       "{'node_ip_address': '192.168.1.36',\n",
       " 'raylet_ip_address': '192.168.1.36',\n",
       " 'redis_address': '192.168.1.36:62769',\n",
       " 'object_store_address': '/tmp/ray/session_2020-06-08_16-39-31_048190_82855/sockets/plasma_store',\n",
       " 'raylet_socket_name': '/tmp/ray/session_2020-06-08_16-39-31_048190_82855/sockets/raylet',\n",
       " 'webui_url': 'localhost:8265',\n",
       " 'session_dir': '/tmp/ray/session_2020-06-08_16-39-31_048190_82855'}"
      ]
     },
     "execution_count": 14,
     "metadata": {},
     "output_type": "execute_result"
    }
   ],
   "source": [
    "ray.shutdown()\n",
    "# ray.init(num_cpus=6, num_gpus=0, include_webui=True)\n",
    "\n",
    "ray.init(address='auto', redis_password='5241590000000000')"
   ]
  },
  {
   "cell_type": "code",
   "execution_count": 17,
   "metadata": {
    "scrolled": false
   },
   "outputs": [
    {
     "data": {
      "text/html": [
       "== Status ==<br>Memory usage on this node: 11.3/16.0 GiB<br>Using FIFO scheduling algorithm.<br>Resources requested: 1/2 CPUs, 0/1 GPUs, 0.0/4.59 GiB heap, 0.0/1.56 GiB objects<br>Result logdir: /Users/stevejpurves/ray_results/seg_facies/e2e_seg<br>Number of trials: 10 (9 PENDING, 1 RUNNING)<br><table>\n",
       "<thead>\n",
       "<tr><th>Trial name   </th><th>status  </th><th>loc  </th><th style=\"text-align: right;\">  xgbclassifier__colsample_bytree</th><th style=\"text-align: right;\">  xgbclassifier__lambda</th><th style=\"text-align: right;\">  xgbclassifier__learning_rate</th><th style=\"text-align: right;\">  xgbclassifier__max_depth</th><th style=\"text-align: right;\">  xgbclassifier__min_child_weight</th><th style=\"text-align: right;\">  xgbclassifier__n_estimators</th></tr>\n",
       "</thead>\n",
       "<tbody>\n",
       "<tr><td>e2e_seg_00000</td><td>RUNNING </td><td>     </td><td style=\"text-align: right;\">                              0.4</td><td style=\"text-align: right;\">                      0</td><td style=\"text-align: right;\">                    0.00106545</td><td style=\"text-align: right;\">                         2</td><td style=\"text-align: right;\">                         7.38127 </td><td style=\"text-align: right;\">                           48</td></tr>\n",
       "<tr><td>e2e_seg_00001</td><td>PENDING </td><td>     </td><td style=\"text-align: right;\">                              0.8</td><td style=\"text-align: right;\">                      0</td><td style=\"text-align: right;\">                    0.06624   </td><td style=\"text-align: right;\">                         1</td><td style=\"text-align: right;\">                         2.31399 </td><td style=\"text-align: right;\">                           35</td></tr>\n",
       "<tr><td>e2e_seg_00002</td><td>PENDING </td><td>     </td><td style=\"text-align: right;\">                              0.6</td><td style=\"text-align: right;\">                      0</td><td style=\"text-align: right;\">                    0.0774589 </td><td style=\"text-align: right;\">                         1</td><td style=\"text-align: right;\">                         1.99245 </td><td style=\"text-align: right;\">                          159</td></tr>\n",
       "<tr><td>e2e_seg_00003</td><td>PENDING </td><td>     </td><td style=\"text-align: right;\">                              0.8</td><td style=\"text-align: right;\">                      1</td><td style=\"text-align: right;\">                    0.020335  </td><td style=\"text-align: right;\">                         1</td><td style=\"text-align: right;\">                         0.498322</td><td style=\"text-align: right;\">                          123</td></tr>\n",
       "<tr><td>e2e_seg_00004</td><td>PENDING </td><td>     </td><td style=\"text-align: right;\">                              0.8</td><td style=\"text-align: right;\">                      0</td><td style=\"text-align: right;\">                    0.049454  </td><td style=\"text-align: right;\">                         8</td><td style=\"text-align: right;\">                         5.84613 </td><td style=\"text-align: right;\">                          184</td></tr>\n",
       "<tr><td>e2e_seg_00005</td><td>PENDING </td><td>     </td><td style=\"text-align: right;\">                              0.4</td><td style=\"text-align: right;\">                      0</td><td style=\"text-align: right;\">                    0.032176  </td><td style=\"text-align: right;\">                         8</td><td style=\"text-align: right;\">                         0.114637</td><td style=\"text-align: right;\">                           11</td></tr>\n",
       "<tr><td>e2e_seg_00006</td><td>PENDING </td><td>     </td><td style=\"text-align: right;\">                              0.6</td><td style=\"text-align: right;\">                      1</td><td style=\"text-align: right;\">                    0.0134216 </td><td style=\"text-align: right;\">                         2</td><td style=\"text-align: right;\">                         0.22047 </td><td style=\"text-align: right;\">                           97</td></tr>\n",
       "<tr><td>e2e_seg_00007</td><td>PENDING </td><td>     </td><td style=\"text-align: right;\">                              0.8</td><td style=\"text-align: right;\">                      1</td><td style=\"text-align: right;\">                    0.0106233 </td><td style=\"text-align: right;\">                         1</td><td style=\"text-align: right;\">                        35.9295  </td><td style=\"text-align: right;\">                          134</td></tr>\n",
       "<tr><td>e2e_seg_00008</td><td>PENDING </td><td>     </td><td style=\"text-align: right;\">                              1  </td><td style=\"text-align: right;\">                      0</td><td style=\"text-align: right;\">                    0.00129878</td><td style=\"text-align: right;\">                         4</td><td style=\"text-align: right;\">                         2.07083 </td><td style=\"text-align: right;\">                          143</td></tr>\n",
       "<tr><td>e2e_seg_00009</td><td>PENDING </td><td>     </td><td style=\"text-align: right;\">                              0.8</td><td style=\"text-align: right;\">                      1</td><td style=\"text-align: right;\">                    0.0494578 </td><td style=\"text-align: right;\">                         4</td><td style=\"text-align: right;\">                        14.3154  </td><td style=\"text-align: right;\">                           13</td></tr>\n",
       "</tbody>\n",
       "</table><br><br>"
      ],
      "text/plain": [
       "<IPython.core.display.HTML object>"
      ]
     },
     "metadata": {},
     "output_type": "display_data"
    },
    {
     "name": "stdout",
     "output_type": "stream",
     "text": [
      "\u001b[2m\u001b[36m(pid=39089)\u001b[0m 2020-06-09 12:44:49,037\tINFO trainable.py:217 -- Getting current IP.\n",
      "\u001b[2m\u001b[36m(pid=39179)\u001b[0m 2020-06-09 12:44:49,611\tINFO trainable.py:217 -- Getting current IP.\n"
     ]
    },
    {
     "name": "stderr",
     "output_type": "stream",
     "text": [
      "2020-06-09 12:44:54,610\tINFO logger.py:269 -- Removed the following hyperparameter values when logging to tensorboard: {'xgbclassifier__lambda': 0}\n"
     ]
    },
    {
     "name": "stdout",
     "output_type": "stream",
     "text": [
      "Result for e2e_seg_00001:\n",
      "  date: 2020-06-09_12-44-54\n",
      "  done: true\n",
      "  experiment_id: 04e257aa378d4368aa3fa89037c18b9b\n",
      "  experiment_tag: 1_xgbclassifier__colsample_bytree=0.8,xgbclassifier__lambda=0,xgbclassifier__learning_rate=0.06624,xgbclassifier__max_depth=1,xgbclassifier__min_child_weight=2.314,xgbclassifier__n_estimators=35\n",
      "  hostname: Steves-MacBook-Pro.local\n",
      "  iterations_since_restore: 1\n",
      "  mean_f1_score: 0.44021228454009326\n",
      "  node_ip: 192.168.1.36\n",
      "  pid: 39179\n",
      "  std_f1_score: 0.1633947419220141\n",
      "  time_since_restore: 4.993320941925049\n",
      "  time_this_iter_s: 4.993320941925049\n",
      "  time_total_s: 4.993320941925049\n",
      "  timestamp: 1591703094\n",
      "  timesteps_since_restore: 0\n",
      "  training_iteration: 0\n",
      "  trial_id: '00001'\n",
      "  \n"
     ]
    },
    {
     "data": {
      "text/html": [
       "== Status ==<br>Memory usage on this node: 11.3/16.0 GiB<br>Using FIFO scheduling algorithm.<br>Resources requested: 1/2 CPUs, 0/1 GPUs, 0.0/4.59 GiB heap, 0.0/1.56 GiB objects<br>Result logdir: /Users/stevejpurves/ray_results/seg_facies/e2e_seg<br>Number of trials: 10 (8 PENDING, 1 RUNNING, 1 TERMINATED)<br><table>\n",
       "<thead>\n",
       "<tr><th>Trial name   </th><th>status    </th><th>loc  </th><th style=\"text-align: right;\">  xgbclassifier__colsample_bytree</th><th style=\"text-align: right;\">  xgbclassifier__lambda</th><th style=\"text-align: right;\">  xgbclassifier__learning_rate</th><th style=\"text-align: right;\">  xgbclassifier__max_depth</th><th style=\"text-align: right;\">  xgbclassifier__min_child_weight</th><th style=\"text-align: right;\">  xgbclassifier__n_estimators</th><th style=\"text-align: right;\">  iter</th><th style=\"text-align: right;\">  total time (s)</th></tr>\n",
       "</thead>\n",
       "<tbody>\n",
       "<tr><td>e2e_seg_00000</td><td>RUNNING   </td><td>     </td><td style=\"text-align: right;\">                              0.4</td><td style=\"text-align: right;\">                      0</td><td style=\"text-align: right;\">                    0.00106545</td><td style=\"text-align: right;\">                         2</td><td style=\"text-align: right;\">                         7.38127 </td><td style=\"text-align: right;\">                           48</td><td style=\"text-align: right;\">      </td><td style=\"text-align: right;\">                </td></tr>\n",
       "<tr><td>e2e_seg_00001</td><td>TERMINATED</td><td>     </td><td style=\"text-align: right;\">                              0.8</td><td style=\"text-align: right;\">                      0</td><td style=\"text-align: right;\">                    0.06624   </td><td style=\"text-align: right;\">                         1</td><td style=\"text-align: right;\">                         2.31399 </td><td style=\"text-align: right;\">                           35</td><td style=\"text-align: right;\">     0</td><td style=\"text-align: right;\">         4.99332</td></tr>\n",
       "<tr><td>e2e_seg_00002</td><td>PENDING   </td><td>     </td><td style=\"text-align: right;\">                              0.6</td><td style=\"text-align: right;\">                      0</td><td style=\"text-align: right;\">                    0.0774589 </td><td style=\"text-align: right;\">                         1</td><td style=\"text-align: right;\">                         1.99245 </td><td style=\"text-align: right;\">                          159</td><td style=\"text-align: right;\">      </td><td style=\"text-align: right;\">                </td></tr>\n",
       "<tr><td>e2e_seg_00003</td><td>PENDING   </td><td>     </td><td style=\"text-align: right;\">                              0.8</td><td style=\"text-align: right;\">                      1</td><td style=\"text-align: right;\">                    0.020335  </td><td style=\"text-align: right;\">                         1</td><td style=\"text-align: right;\">                         0.498322</td><td style=\"text-align: right;\">                          123</td><td style=\"text-align: right;\">      </td><td style=\"text-align: right;\">                </td></tr>\n",
       "<tr><td>e2e_seg_00004</td><td>PENDING   </td><td>     </td><td style=\"text-align: right;\">                              0.8</td><td style=\"text-align: right;\">                      0</td><td style=\"text-align: right;\">                    0.049454  </td><td style=\"text-align: right;\">                         8</td><td style=\"text-align: right;\">                         5.84613 </td><td style=\"text-align: right;\">                          184</td><td style=\"text-align: right;\">      </td><td style=\"text-align: right;\">                </td></tr>\n",
       "<tr><td>e2e_seg_00005</td><td>PENDING   </td><td>     </td><td style=\"text-align: right;\">                              0.4</td><td style=\"text-align: right;\">                      0</td><td style=\"text-align: right;\">                    0.032176  </td><td style=\"text-align: right;\">                         8</td><td style=\"text-align: right;\">                         0.114637</td><td style=\"text-align: right;\">                           11</td><td style=\"text-align: right;\">      </td><td style=\"text-align: right;\">                </td></tr>\n",
       "<tr><td>e2e_seg_00006</td><td>PENDING   </td><td>     </td><td style=\"text-align: right;\">                              0.6</td><td style=\"text-align: right;\">                      1</td><td style=\"text-align: right;\">                    0.0134216 </td><td style=\"text-align: right;\">                         2</td><td style=\"text-align: right;\">                         0.22047 </td><td style=\"text-align: right;\">                           97</td><td style=\"text-align: right;\">      </td><td style=\"text-align: right;\">                </td></tr>\n",
       "<tr><td>e2e_seg_00007</td><td>PENDING   </td><td>     </td><td style=\"text-align: right;\">                              0.8</td><td style=\"text-align: right;\">                      1</td><td style=\"text-align: right;\">                    0.0106233 </td><td style=\"text-align: right;\">                         1</td><td style=\"text-align: right;\">                        35.9295  </td><td style=\"text-align: right;\">                          134</td><td style=\"text-align: right;\">      </td><td style=\"text-align: right;\">                </td></tr>\n",
       "<tr><td>e2e_seg_00008</td><td>PENDING   </td><td>     </td><td style=\"text-align: right;\">                              1  </td><td style=\"text-align: right;\">                      0</td><td style=\"text-align: right;\">                    0.00129878</td><td style=\"text-align: right;\">                         4</td><td style=\"text-align: right;\">                         2.07083 </td><td style=\"text-align: right;\">                          143</td><td style=\"text-align: right;\">      </td><td style=\"text-align: right;\">                </td></tr>\n",
       "<tr><td>e2e_seg_00009</td><td>PENDING   </td><td>     </td><td style=\"text-align: right;\">                              0.8</td><td style=\"text-align: right;\">                      1</td><td style=\"text-align: right;\">                    0.0494578 </td><td style=\"text-align: right;\">                         4</td><td style=\"text-align: right;\">                        14.3154  </td><td style=\"text-align: right;\">                           13</td><td style=\"text-align: right;\">      </td><td style=\"text-align: right;\">                </td></tr>\n",
       "</tbody>\n",
       "</table><br><br>"
      ],
      "text/plain": [
       "<IPython.core.display.HTML object>"
      ]
     },
     "metadata": {},
     "output_type": "display_data"
    },
    {
     "name": "stdout",
     "output_type": "stream",
     "text": [
      "\u001b[2m\u001b[36m(pid=39184)\u001b[0m 2020-06-09 12:44:56,094\tINFO trainable.py:217 -- Getting current IP.\n"
     ]
    },
    {
     "name": "stderr",
     "output_type": "stream",
     "text": [
      "2020-06-09 12:44:56,632\tINFO logger.py:269 -- Removed the following hyperparameter values when logging to tensorboard: {'xgbclassifier__lambda': 0}\n"
     ]
    },
    {
     "name": "stdout",
     "output_type": "stream",
     "text": [
      "Result for e2e_seg_00000:\n",
      "  date: 2020-06-09_12-44-56\n",
      "  done: true\n",
      "  experiment_id: 1bdc39b4c5e7477d9e76b155aaf62f67\n",
      "  experiment_tag: 0_xgbclassifier__colsample_bytree=0.4,xgbclassifier__lambda=0,xgbclassifier__learning_rate=0.0010654,xgbclassifier__max_depth=2,xgbclassifier__min_child_weight=7.3813,xgbclassifier__n_estimators=48\n",
      "  hostname: Steves-MacBook-Pro.local\n",
      "  iterations_since_restore: 1\n",
      "  mean_f1_score: 0.5149818488626109\n",
      "  node_ip: 192.168.1.36\n",
      "  pid: 39089\n",
      "  std_f1_score: 0.08756770142142414\n",
      "  time_since_restore: 7.588063955307007\n",
      "  time_this_iter_s: 7.588063955307007\n",
      "  time_total_s: 7.588063955307007\n",
      "  timestamp: 1591703096\n",
      "  timesteps_since_restore: 0\n",
      "  training_iteration: 0\n",
      "  trial_id: '00000'\n",
      "  \n",
      "\u001b[2m\u001b[36m(pid=39186)\u001b[0m 2020-06-09 12:44:58,051\tINFO trainable.py:217 -- Getting current IP.\n"
     ]
    },
    {
     "name": "stderr",
     "output_type": "stream",
     "text": [
      "2020-06-09 12:45:14,276\tINFO logger.py:269 -- Removed the following hyperparameter values when logging to tensorboard: {'xgbclassifier__lambda': 0}\n"
     ]
    },
    {
     "name": "stdout",
     "output_type": "stream",
     "text": [
      "Result for e2e_seg_00002:\n",
      "  date: 2020-06-09_12-45-14\n",
      "  done: true\n",
      "  experiment_id: fa7de081201c4e97bb90e16da11675af\n",
      "  experiment_tag: 2_xgbclassifier__colsample_bytree=0.6,xgbclassifier__lambda=0,xgbclassifier__learning_rate=0.077459,xgbclassifier__max_depth=1,xgbclassifier__min_child_weight=1.9924,xgbclassifier__n_estimators=159\n",
      "  hostname: Steves-MacBook-Pro.local\n",
      "  iterations_since_restore: 1\n",
      "  mean_f1_score: 0.5355269570603427\n",
      "  node_ip: 192.168.1.36\n",
      "  pid: 39184\n",
      "  std_f1_score: 0.07960956446596547\n",
      "  time_since_restore: 18.175127744674683\n",
      "  time_this_iter_s: 18.175127744674683\n",
      "  time_total_s: 18.175127744674683\n",
      "  timestamp: 1591703114\n",
      "  timesteps_since_restore: 0\n",
      "  training_iteration: 0\n",
      "  trial_id: '00002'\n",
      "  \n"
     ]
    },
    {
     "data": {
      "text/html": [
       "== Status ==<br>Memory usage on this node: 11.3/16.0 GiB<br>Using FIFO scheduling algorithm.<br>Resources requested: 1/2 CPUs, 0/1 GPUs, 0.0/4.59 GiB heap, 0.0/1.56 GiB objects<br>Result logdir: /Users/stevejpurves/ray_results/seg_facies/e2e_seg<br>Number of trials: 10 (6 PENDING, 1 RUNNING, 3 TERMINATED)<br><table>\n",
       "<thead>\n",
       "<tr><th>Trial name   </th><th>status    </th><th>loc  </th><th style=\"text-align: right;\">  xgbclassifier__colsample_bytree</th><th style=\"text-align: right;\">  xgbclassifier__lambda</th><th style=\"text-align: right;\">  xgbclassifier__learning_rate</th><th style=\"text-align: right;\">  xgbclassifier__max_depth</th><th style=\"text-align: right;\">  xgbclassifier__min_child_weight</th><th style=\"text-align: right;\">  xgbclassifier__n_estimators</th><th style=\"text-align: right;\">  iter</th><th style=\"text-align: right;\">  total time (s)</th></tr>\n",
       "</thead>\n",
       "<tbody>\n",
       "<tr><td>e2e_seg_00000</td><td>TERMINATED</td><td>     </td><td style=\"text-align: right;\">                              0.4</td><td style=\"text-align: right;\">                      0</td><td style=\"text-align: right;\">                    0.00106545</td><td style=\"text-align: right;\">                         2</td><td style=\"text-align: right;\">                         7.38127 </td><td style=\"text-align: right;\">                           48</td><td style=\"text-align: right;\">     0</td><td style=\"text-align: right;\">         7.58806</td></tr>\n",
       "<tr><td>e2e_seg_00001</td><td>TERMINATED</td><td>     </td><td style=\"text-align: right;\">                              0.8</td><td style=\"text-align: right;\">                      0</td><td style=\"text-align: right;\">                    0.06624   </td><td style=\"text-align: right;\">                         1</td><td style=\"text-align: right;\">                         2.31399 </td><td style=\"text-align: right;\">                           35</td><td style=\"text-align: right;\">     0</td><td style=\"text-align: right;\">         4.99332</td></tr>\n",
       "<tr><td>e2e_seg_00002</td><td>TERMINATED</td><td>     </td><td style=\"text-align: right;\">                              0.6</td><td style=\"text-align: right;\">                      0</td><td style=\"text-align: right;\">                    0.0774589 </td><td style=\"text-align: right;\">                         1</td><td style=\"text-align: right;\">                         1.99245 </td><td style=\"text-align: right;\">                          159</td><td style=\"text-align: right;\">     0</td><td style=\"text-align: right;\">        18.1751 </td></tr>\n",
       "<tr><td>e2e_seg_00003</td><td>RUNNING   </td><td>     </td><td style=\"text-align: right;\">                              0.8</td><td style=\"text-align: right;\">                      1</td><td style=\"text-align: right;\">                    0.020335  </td><td style=\"text-align: right;\">                         1</td><td style=\"text-align: right;\">                         0.498322</td><td style=\"text-align: right;\">                          123</td><td style=\"text-align: right;\">      </td><td style=\"text-align: right;\">                </td></tr>\n",
       "<tr><td>e2e_seg_00004</td><td>PENDING   </td><td>     </td><td style=\"text-align: right;\">                              0.8</td><td style=\"text-align: right;\">                      0</td><td style=\"text-align: right;\">                    0.049454  </td><td style=\"text-align: right;\">                         8</td><td style=\"text-align: right;\">                         5.84613 </td><td style=\"text-align: right;\">                          184</td><td style=\"text-align: right;\">      </td><td style=\"text-align: right;\">                </td></tr>\n",
       "<tr><td>e2e_seg_00005</td><td>PENDING   </td><td>     </td><td style=\"text-align: right;\">                              0.4</td><td style=\"text-align: right;\">                      0</td><td style=\"text-align: right;\">                    0.032176  </td><td style=\"text-align: right;\">                         8</td><td style=\"text-align: right;\">                         0.114637</td><td style=\"text-align: right;\">                           11</td><td style=\"text-align: right;\">      </td><td style=\"text-align: right;\">                </td></tr>\n",
       "<tr><td>e2e_seg_00006</td><td>PENDING   </td><td>     </td><td style=\"text-align: right;\">                              0.6</td><td style=\"text-align: right;\">                      1</td><td style=\"text-align: right;\">                    0.0134216 </td><td style=\"text-align: right;\">                         2</td><td style=\"text-align: right;\">                         0.22047 </td><td style=\"text-align: right;\">                           97</td><td style=\"text-align: right;\">      </td><td style=\"text-align: right;\">                </td></tr>\n",
       "<tr><td>e2e_seg_00007</td><td>PENDING   </td><td>     </td><td style=\"text-align: right;\">                              0.8</td><td style=\"text-align: right;\">                      1</td><td style=\"text-align: right;\">                    0.0106233 </td><td style=\"text-align: right;\">                         1</td><td style=\"text-align: right;\">                        35.9295  </td><td style=\"text-align: right;\">                          134</td><td style=\"text-align: right;\">      </td><td style=\"text-align: right;\">                </td></tr>\n",
       "<tr><td>e2e_seg_00008</td><td>PENDING   </td><td>     </td><td style=\"text-align: right;\">                              1  </td><td style=\"text-align: right;\">                      0</td><td style=\"text-align: right;\">                    0.00129878</td><td style=\"text-align: right;\">                         4</td><td style=\"text-align: right;\">                         2.07083 </td><td style=\"text-align: right;\">                          143</td><td style=\"text-align: right;\">      </td><td style=\"text-align: right;\">                </td></tr>\n",
       "<tr><td>e2e_seg_00009</td><td>PENDING   </td><td>     </td><td style=\"text-align: right;\">                              0.8</td><td style=\"text-align: right;\">                      1</td><td style=\"text-align: right;\">                    0.0494578 </td><td style=\"text-align: right;\">                         4</td><td style=\"text-align: right;\">                        14.3154  </td><td style=\"text-align: right;\">                           13</td><td style=\"text-align: right;\">      </td><td style=\"text-align: right;\">                </td></tr>\n",
       "</tbody>\n",
       "</table><br><br>"
      ],
      "text/plain": [
       "<IPython.core.display.HTML object>"
      ]
     },
     "metadata": {},
     "output_type": "display_data"
    },
    {
     "name": "stderr",
     "output_type": "stream",
     "text": [
      "2020-06-09 12:45:15,286\tINFO logger.py:269 -- Removed the following hyperparameter values when logging to tensorboard: {'xgbclassifier__lambda': 1}\n"
     ]
    },
    {
     "name": "stdout",
     "output_type": "stream",
     "text": [
      "Result for e2e_seg_00003:\n",
      "  date: 2020-06-09_12-45-15\n",
      "  done: true\n",
      "  experiment_id: fe51732559e64d4baf3fb8c8254d5f13\n",
      "  experiment_tag: 3_xgbclassifier__colsample_bytree=0.8,xgbclassifier__lambda=1,xgbclassifier__learning_rate=0.020335,xgbclassifier__max_depth=1,xgbclassifier__min_child_weight=0.49832,xgbclassifier__n_estimators=123\n",
      "  hostname: Steves-MacBook-Pro.local\n",
      "  iterations_since_restore: 1\n",
      "  mean_f1_score: 0.4436350027238329\n",
      "  node_ip: 192.168.1.36\n",
      "  pid: 39186\n",
      "  std_f1_score: 0.16687353028213267\n",
      "  time_since_restore: 17.227201223373413\n",
      "  time_this_iter_s: 17.227201223373413\n",
      "  time_total_s: 17.227201223373413\n",
      "  timestamp: 1591703115\n",
      "  timesteps_since_restore: 0\n",
      "  training_iteration: 0\n",
      "  trial_id: '00003'\n",
      "  \n",
      "\u001b[2m\u001b[36m(pid=39206)\u001b[0m 2020-06-09 12:45:15,787\tINFO trainable.py:217 -- Getting current IP.\n",
      "\u001b[2m\u001b[36m(pid=39208)\u001b[0m 2020-06-09 12:45:16,776\tINFO trainable.py:217 -- Getting current IP.\n"
     ]
    },
    {
     "name": "stderr",
     "output_type": "stream",
     "text": [
      "2020-06-09 12:45:23,610\tINFO logger.py:269 -- Removed the following hyperparameter values when logging to tensorboard: {'xgbclassifier__lambda': 0}\n"
     ]
    },
    {
     "name": "stdout",
     "output_type": "stream",
     "text": [
      "Result for e2e_seg_00005:\n",
      "  date: 2020-06-09_12-45-23\n",
      "  done: true\n",
      "  experiment_id: 219e3f7817d84c9e84f3bccf2721ba7c\n",
      "  experiment_tag: 5_xgbclassifier__colsample_bytree=0.4,xgbclassifier__lambda=0,xgbclassifier__learning_rate=0.032176,xgbclassifier__max_depth=8,xgbclassifier__min_child_weight=0.11464,xgbclassifier__n_estimators=11\n",
      "  hostname: Steves-MacBook-Pro.local\n",
      "  iterations_since_restore: 1\n",
      "  mean_f1_score: 0.5657065540646024\n",
      "  node_ip: 192.168.1.36\n",
      "  pid: 39208\n",
      "  std_f1_score: 0.09089927968132502\n",
      "  time_since_restore: 6.827062606811523\n",
      "  time_this_iter_s: 6.827062606811523\n",
      "  time_total_s: 6.827062606811523\n",
      "  timestamp: 1591703123\n",
      "  timesteps_since_restore: 0\n",
      "  training_iteration: 0\n",
      "  trial_id: '00005'\n",
      "  \n"
     ]
    },
    {
     "data": {
      "text/html": [
       "== Status ==<br>Memory usage on this node: 11.3/16.0 GiB<br>Using FIFO scheduling algorithm.<br>Resources requested: 1/2 CPUs, 0/1 GPUs, 0.0/4.59 GiB heap, 0.0/1.56 GiB objects<br>Result logdir: /Users/stevejpurves/ray_results/seg_facies/e2e_seg<br>Number of trials: 10 (4 PENDING, 1 RUNNING, 5 TERMINATED)<br><table>\n",
       "<thead>\n",
       "<tr><th>Trial name   </th><th>status    </th><th>loc  </th><th style=\"text-align: right;\">  xgbclassifier__colsample_bytree</th><th style=\"text-align: right;\">  xgbclassifier__lambda</th><th style=\"text-align: right;\">  xgbclassifier__learning_rate</th><th style=\"text-align: right;\">  xgbclassifier__max_depth</th><th style=\"text-align: right;\">  xgbclassifier__min_child_weight</th><th style=\"text-align: right;\">  xgbclassifier__n_estimators</th><th style=\"text-align: right;\">  iter</th><th style=\"text-align: right;\">  total time (s)</th></tr>\n",
       "</thead>\n",
       "<tbody>\n",
       "<tr><td>e2e_seg_00000</td><td>TERMINATED</td><td>     </td><td style=\"text-align: right;\">                              0.4</td><td style=\"text-align: right;\">                      0</td><td style=\"text-align: right;\">                    0.00106545</td><td style=\"text-align: right;\">                         2</td><td style=\"text-align: right;\">                         7.38127 </td><td style=\"text-align: right;\">                           48</td><td style=\"text-align: right;\">     0</td><td style=\"text-align: right;\">         7.58806</td></tr>\n",
       "<tr><td>e2e_seg_00001</td><td>TERMINATED</td><td>     </td><td style=\"text-align: right;\">                              0.8</td><td style=\"text-align: right;\">                      0</td><td style=\"text-align: right;\">                    0.06624   </td><td style=\"text-align: right;\">                         1</td><td style=\"text-align: right;\">                         2.31399 </td><td style=\"text-align: right;\">                           35</td><td style=\"text-align: right;\">     0</td><td style=\"text-align: right;\">         4.99332</td></tr>\n",
       "<tr><td>e2e_seg_00002</td><td>TERMINATED</td><td>     </td><td style=\"text-align: right;\">                              0.6</td><td style=\"text-align: right;\">                      0</td><td style=\"text-align: right;\">                    0.0774589 </td><td style=\"text-align: right;\">                         1</td><td style=\"text-align: right;\">                         1.99245 </td><td style=\"text-align: right;\">                          159</td><td style=\"text-align: right;\">     0</td><td style=\"text-align: right;\">        18.1751 </td></tr>\n",
       "<tr><td>e2e_seg_00003</td><td>TERMINATED</td><td>     </td><td style=\"text-align: right;\">                              0.8</td><td style=\"text-align: right;\">                      1</td><td style=\"text-align: right;\">                    0.020335  </td><td style=\"text-align: right;\">                         1</td><td style=\"text-align: right;\">                         0.498322</td><td style=\"text-align: right;\">                          123</td><td style=\"text-align: right;\">     0</td><td style=\"text-align: right;\">        17.2272 </td></tr>\n",
       "<tr><td>e2e_seg_00004</td><td>RUNNING   </td><td>     </td><td style=\"text-align: right;\">                              0.8</td><td style=\"text-align: right;\">                      0</td><td style=\"text-align: right;\">                    0.049454  </td><td style=\"text-align: right;\">                         8</td><td style=\"text-align: right;\">                         5.84613 </td><td style=\"text-align: right;\">                          184</td><td style=\"text-align: right;\">      </td><td style=\"text-align: right;\">                </td></tr>\n",
       "<tr><td>e2e_seg_00005</td><td>TERMINATED</td><td>     </td><td style=\"text-align: right;\">                              0.4</td><td style=\"text-align: right;\">                      0</td><td style=\"text-align: right;\">                    0.032176  </td><td style=\"text-align: right;\">                         8</td><td style=\"text-align: right;\">                         0.114637</td><td style=\"text-align: right;\">                           11</td><td style=\"text-align: right;\">     0</td><td style=\"text-align: right;\">         6.82706</td></tr>\n",
       "<tr><td>e2e_seg_00006</td><td>PENDING   </td><td>     </td><td style=\"text-align: right;\">                              0.6</td><td style=\"text-align: right;\">                      1</td><td style=\"text-align: right;\">                    0.0134216 </td><td style=\"text-align: right;\">                         2</td><td style=\"text-align: right;\">                         0.22047 </td><td style=\"text-align: right;\">                           97</td><td style=\"text-align: right;\">      </td><td style=\"text-align: right;\">                </td></tr>\n",
       "<tr><td>e2e_seg_00007</td><td>PENDING   </td><td>     </td><td style=\"text-align: right;\">                              0.8</td><td style=\"text-align: right;\">                      1</td><td style=\"text-align: right;\">                    0.0106233 </td><td style=\"text-align: right;\">                         1</td><td style=\"text-align: right;\">                        35.9295  </td><td style=\"text-align: right;\">                          134</td><td style=\"text-align: right;\">      </td><td style=\"text-align: right;\">                </td></tr>\n",
       "<tr><td>e2e_seg_00008</td><td>PENDING   </td><td>     </td><td style=\"text-align: right;\">                              1  </td><td style=\"text-align: right;\">                      0</td><td style=\"text-align: right;\">                    0.00129878</td><td style=\"text-align: right;\">                         4</td><td style=\"text-align: right;\">                         2.07083 </td><td style=\"text-align: right;\">                          143</td><td style=\"text-align: right;\">      </td><td style=\"text-align: right;\">                </td></tr>\n",
       "<tr><td>e2e_seg_00009</td><td>PENDING   </td><td>     </td><td style=\"text-align: right;\">                              0.8</td><td style=\"text-align: right;\">                      1</td><td style=\"text-align: right;\">                    0.0494578 </td><td style=\"text-align: right;\">                         4</td><td style=\"text-align: right;\">                        14.3154  </td><td style=\"text-align: right;\">                           13</td><td style=\"text-align: right;\">      </td><td style=\"text-align: right;\">                </td></tr>\n",
       "</tbody>\n",
       "</table><br><br>"
      ],
      "text/plain": [
       "<IPython.core.display.HTML object>"
      ]
     },
     "metadata": {},
     "output_type": "display_data"
    },
    {
     "name": "stdout",
     "output_type": "stream",
     "text": [
      "\u001b[2m\u001b[36m(pid=39210)\u001b[0m 2020-06-09 12:45:24,564\tINFO trainable.py:217 -- Getting current IP.\n"
     ]
    },
    {
     "name": "stderr",
     "output_type": "stream",
     "text": [
      "2020-06-09 12:45:43,841\tINFO logger.py:269 -- Removed the following hyperparameter values when logging to tensorboard: {'xgbclassifier__lambda': 1}\n"
     ]
    },
    {
     "name": "stdout",
     "output_type": "stream",
     "text": [
      "Result for e2e_seg_00006:\n",
      "  date: 2020-06-09_12-45-43\n",
      "  done: true\n",
      "  experiment_id: ed38c5ce43d9462ab36a207d92bd9185\n",
      "  experiment_tag: 6_xgbclassifier__colsample_bytree=0.6,xgbclassifier__lambda=1,xgbclassifier__learning_rate=0.013422,xgbclassifier__max_depth=2,xgbclassifier__min_child_weight=0.22047,xgbclassifier__n_estimators=97\n",
      "  hostname: Steves-MacBook-Pro.local\n",
      "  iterations_since_restore: 1\n",
      "  mean_f1_score: 0.5356734672222052\n",
      "  node_ip: 192.168.1.36\n",
      "  pid: 39210\n",
      "  std_f1_score: 0.07946743139069108\n",
      "  time_since_restore: 19.27094078063965\n",
      "  time_this_iter_s: 19.27094078063965\n",
      "  time_total_s: 19.27094078063965\n",
      "  timestamp: 1591703143\n",
      "  timesteps_since_restore: 0\n",
      "  training_iteration: 0\n",
      "  trial_id: '00006'\n",
      "  \n"
     ]
    },
    {
     "data": {
      "text/html": [
       "== Status ==<br>Memory usage on this node: 11.3/16.0 GiB<br>Using FIFO scheduling algorithm.<br>Resources requested: 1/2 CPUs, 0/1 GPUs, 0.0/4.59 GiB heap, 0.0/1.56 GiB objects<br>Result logdir: /Users/stevejpurves/ray_results/seg_facies/e2e_seg<br>Number of trials: 10 (3 PENDING, 1 RUNNING, 6 TERMINATED)<br><table>\n",
       "<thead>\n",
       "<tr><th>Trial name   </th><th>status    </th><th>loc  </th><th style=\"text-align: right;\">  xgbclassifier__colsample_bytree</th><th style=\"text-align: right;\">  xgbclassifier__lambda</th><th style=\"text-align: right;\">  xgbclassifier__learning_rate</th><th style=\"text-align: right;\">  xgbclassifier__max_depth</th><th style=\"text-align: right;\">  xgbclassifier__min_child_weight</th><th style=\"text-align: right;\">  xgbclassifier__n_estimators</th><th style=\"text-align: right;\">  iter</th><th style=\"text-align: right;\">  total time (s)</th></tr>\n",
       "</thead>\n",
       "<tbody>\n",
       "<tr><td>e2e_seg_00000</td><td>TERMINATED</td><td>     </td><td style=\"text-align: right;\">                              0.4</td><td style=\"text-align: right;\">                      0</td><td style=\"text-align: right;\">                    0.00106545</td><td style=\"text-align: right;\">                         2</td><td style=\"text-align: right;\">                         7.38127 </td><td style=\"text-align: right;\">                           48</td><td style=\"text-align: right;\">     0</td><td style=\"text-align: right;\">         7.58806</td></tr>\n",
       "<tr><td>e2e_seg_00001</td><td>TERMINATED</td><td>     </td><td style=\"text-align: right;\">                              0.8</td><td style=\"text-align: right;\">                      0</td><td style=\"text-align: right;\">                    0.06624   </td><td style=\"text-align: right;\">                         1</td><td style=\"text-align: right;\">                         2.31399 </td><td style=\"text-align: right;\">                           35</td><td style=\"text-align: right;\">     0</td><td style=\"text-align: right;\">         4.99332</td></tr>\n",
       "<tr><td>e2e_seg_00002</td><td>TERMINATED</td><td>     </td><td style=\"text-align: right;\">                              0.6</td><td style=\"text-align: right;\">                      0</td><td style=\"text-align: right;\">                    0.0774589 </td><td style=\"text-align: right;\">                         1</td><td style=\"text-align: right;\">                         1.99245 </td><td style=\"text-align: right;\">                          159</td><td style=\"text-align: right;\">     0</td><td style=\"text-align: right;\">        18.1751 </td></tr>\n",
       "<tr><td>e2e_seg_00003</td><td>TERMINATED</td><td>     </td><td style=\"text-align: right;\">                              0.8</td><td style=\"text-align: right;\">                      1</td><td style=\"text-align: right;\">                    0.020335  </td><td style=\"text-align: right;\">                         1</td><td style=\"text-align: right;\">                         0.498322</td><td style=\"text-align: right;\">                          123</td><td style=\"text-align: right;\">     0</td><td style=\"text-align: right;\">        17.2272 </td></tr>\n",
       "<tr><td>e2e_seg_00004</td><td>RUNNING   </td><td>     </td><td style=\"text-align: right;\">                              0.8</td><td style=\"text-align: right;\">                      0</td><td style=\"text-align: right;\">                    0.049454  </td><td style=\"text-align: right;\">                         8</td><td style=\"text-align: right;\">                         5.84613 </td><td style=\"text-align: right;\">                          184</td><td style=\"text-align: right;\">      </td><td style=\"text-align: right;\">                </td></tr>\n",
       "<tr><td>e2e_seg_00005</td><td>TERMINATED</td><td>     </td><td style=\"text-align: right;\">                              0.4</td><td style=\"text-align: right;\">                      0</td><td style=\"text-align: right;\">                    0.032176  </td><td style=\"text-align: right;\">                         8</td><td style=\"text-align: right;\">                         0.114637</td><td style=\"text-align: right;\">                           11</td><td style=\"text-align: right;\">     0</td><td style=\"text-align: right;\">         6.82706</td></tr>\n",
       "<tr><td>e2e_seg_00006</td><td>TERMINATED</td><td>     </td><td style=\"text-align: right;\">                              0.6</td><td style=\"text-align: right;\">                      1</td><td style=\"text-align: right;\">                    0.0134216 </td><td style=\"text-align: right;\">                         2</td><td style=\"text-align: right;\">                         0.22047 </td><td style=\"text-align: right;\">                           97</td><td style=\"text-align: right;\">     0</td><td style=\"text-align: right;\">        19.2709 </td></tr>\n",
       "<tr><td>e2e_seg_00007</td><td>PENDING   </td><td>     </td><td style=\"text-align: right;\">                              0.8</td><td style=\"text-align: right;\">                      1</td><td style=\"text-align: right;\">                    0.0106233 </td><td style=\"text-align: right;\">                         1</td><td style=\"text-align: right;\">                        35.9295  </td><td style=\"text-align: right;\">                          134</td><td style=\"text-align: right;\">      </td><td style=\"text-align: right;\">                </td></tr>\n",
       "<tr><td>e2e_seg_00008</td><td>PENDING   </td><td>     </td><td style=\"text-align: right;\">                              1  </td><td style=\"text-align: right;\">                      0</td><td style=\"text-align: right;\">                    0.00129878</td><td style=\"text-align: right;\">                         4</td><td style=\"text-align: right;\">                         2.07083 </td><td style=\"text-align: right;\">                          143</td><td style=\"text-align: right;\">      </td><td style=\"text-align: right;\">                </td></tr>\n",
       "<tr><td>e2e_seg_00009</td><td>PENDING   </td><td>     </td><td style=\"text-align: right;\">                              0.8</td><td style=\"text-align: right;\">                      1</td><td style=\"text-align: right;\">                    0.0494578 </td><td style=\"text-align: right;\">                         4</td><td style=\"text-align: right;\">                        14.3154  </td><td style=\"text-align: right;\">                           13</td><td style=\"text-align: right;\">      </td><td style=\"text-align: right;\">                </td></tr>\n",
       "</tbody>\n",
       "</table><br><br>"
      ],
      "text/plain": [
       "<IPython.core.display.HTML object>"
      ]
     },
     "metadata": {},
     "output_type": "display_data"
    },
    {
     "name": "stdout",
     "output_type": "stream",
     "text": [
      "\u001b[2m\u001b[36m(pid=39245)\u001b[0m 2020-06-09 12:45:45,362\tINFO trainable.py:217 -- Getting current IP.\n"
     ]
    },
    {
     "name": "stderr",
     "output_type": "stream",
     "text": [
      "2020-06-09 12:46:03,693\tINFO logger.py:269 -- Removed the following hyperparameter values when logging to tensorboard: {'xgbclassifier__lambda': 1}\n"
     ]
    },
    {
     "name": "stdout",
     "output_type": "stream",
     "text": [
      "Result for e2e_seg_00007:\n",
      "  date: 2020-06-09_12-46-03\n",
      "  done: true\n",
      "  experiment_id: 693d281352bf4a8b97e36779c52103c0\n",
      "  experiment_tag: 7_xgbclassifier__colsample_bytree=0.8,xgbclassifier__lambda=1,xgbclassifier__learning_rate=0.010623,xgbclassifier__max_depth=1,xgbclassifier__min_child_weight=35.929,xgbclassifier__n_estimators=134\n",
      "  hostname: Steves-MacBook-Pro.local\n",
      "  iterations_since_restore: 1\n",
      "  mean_f1_score: 0.4111211776024522\n",
      "  node_ip: 192.168.1.36\n",
      "  pid: 39245\n",
      "  std_f1_score: 0.14786598663615907\n",
      "  time_since_restore: 18.321701765060425\n",
      "  time_this_iter_s: 18.321701765060425\n",
      "  time_total_s: 18.321701765060425\n",
      "  timestamp: 1591703163\n",
      "  timesteps_since_restore: 0\n",
      "  training_iteration: 0\n",
      "  trial_id: '00007'\n",
      "  \n"
     ]
    },
    {
     "data": {
      "text/html": [
       "== Status ==<br>Memory usage on this node: 11.3/16.0 GiB<br>Using FIFO scheduling algorithm.<br>Resources requested: 1/2 CPUs, 0/1 GPUs, 0.0/4.59 GiB heap, 0.0/1.56 GiB objects<br>Result logdir: /Users/stevejpurves/ray_results/seg_facies/e2e_seg<br>Number of trials: 10 (2 PENDING, 1 RUNNING, 7 TERMINATED)<br><table>\n",
       "<thead>\n",
       "<tr><th>Trial name   </th><th>status    </th><th>loc  </th><th style=\"text-align: right;\">  xgbclassifier__colsample_bytree</th><th style=\"text-align: right;\">  xgbclassifier__lambda</th><th style=\"text-align: right;\">  xgbclassifier__learning_rate</th><th style=\"text-align: right;\">  xgbclassifier__max_depth</th><th style=\"text-align: right;\">  xgbclassifier__min_child_weight</th><th style=\"text-align: right;\">  xgbclassifier__n_estimators</th><th style=\"text-align: right;\">  iter</th><th style=\"text-align: right;\">  total time (s)</th></tr>\n",
       "</thead>\n",
       "<tbody>\n",
       "<tr><td>e2e_seg_00000</td><td>TERMINATED</td><td>     </td><td style=\"text-align: right;\">                              0.4</td><td style=\"text-align: right;\">                      0</td><td style=\"text-align: right;\">                    0.00106545</td><td style=\"text-align: right;\">                         2</td><td style=\"text-align: right;\">                         7.38127 </td><td style=\"text-align: right;\">                           48</td><td style=\"text-align: right;\">     0</td><td style=\"text-align: right;\">         7.58806</td></tr>\n",
       "<tr><td>e2e_seg_00001</td><td>TERMINATED</td><td>     </td><td style=\"text-align: right;\">                              0.8</td><td style=\"text-align: right;\">                      0</td><td style=\"text-align: right;\">                    0.06624   </td><td style=\"text-align: right;\">                         1</td><td style=\"text-align: right;\">                         2.31399 </td><td style=\"text-align: right;\">                           35</td><td style=\"text-align: right;\">     0</td><td style=\"text-align: right;\">         4.99332</td></tr>\n",
       "<tr><td>e2e_seg_00002</td><td>TERMINATED</td><td>     </td><td style=\"text-align: right;\">                              0.6</td><td style=\"text-align: right;\">                      0</td><td style=\"text-align: right;\">                    0.0774589 </td><td style=\"text-align: right;\">                         1</td><td style=\"text-align: right;\">                         1.99245 </td><td style=\"text-align: right;\">                          159</td><td style=\"text-align: right;\">     0</td><td style=\"text-align: right;\">        18.1751 </td></tr>\n",
       "<tr><td>e2e_seg_00003</td><td>TERMINATED</td><td>     </td><td style=\"text-align: right;\">                              0.8</td><td style=\"text-align: right;\">                      1</td><td style=\"text-align: right;\">                    0.020335  </td><td style=\"text-align: right;\">                         1</td><td style=\"text-align: right;\">                         0.498322</td><td style=\"text-align: right;\">                          123</td><td style=\"text-align: right;\">     0</td><td style=\"text-align: right;\">        17.2272 </td></tr>\n",
       "<tr><td>e2e_seg_00004</td><td>RUNNING   </td><td>     </td><td style=\"text-align: right;\">                              0.8</td><td style=\"text-align: right;\">                      0</td><td style=\"text-align: right;\">                    0.049454  </td><td style=\"text-align: right;\">                         8</td><td style=\"text-align: right;\">                         5.84613 </td><td style=\"text-align: right;\">                          184</td><td style=\"text-align: right;\">      </td><td style=\"text-align: right;\">                </td></tr>\n",
       "<tr><td>e2e_seg_00005</td><td>TERMINATED</td><td>     </td><td style=\"text-align: right;\">                              0.4</td><td style=\"text-align: right;\">                      0</td><td style=\"text-align: right;\">                    0.032176  </td><td style=\"text-align: right;\">                         8</td><td style=\"text-align: right;\">                         0.114637</td><td style=\"text-align: right;\">                           11</td><td style=\"text-align: right;\">     0</td><td style=\"text-align: right;\">         6.82706</td></tr>\n",
       "<tr><td>e2e_seg_00006</td><td>TERMINATED</td><td>     </td><td style=\"text-align: right;\">                              0.6</td><td style=\"text-align: right;\">                      1</td><td style=\"text-align: right;\">                    0.0134216 </td><td style=\"text-align: right;\">                         2</td><td style=\"text-align: right;\">                         0.22047 </td><td style=\"text-align: right;\">                           97</td><td style=\"text-align: right;\">     0</td><td style=\"text-align: right;\">        19.2709 </td></tr>\n",
       "<tr><td>e2e_seg_00007</td><td>TERMINATED</td><td>     </td><td style=\"text-align: right;\">                              0.8</td><td style=\"text-align: right;\">                      1</td><td style=\"text-align: right;\">                    0.0106233 </td><td style=\"text-align: right;\">                         1</td><td style=\"text-align: right;\">                        35.9295  </td><td style=\"text-align: right;\">                          134</td><td style=\"text-align: right;\">     0</td><td style=\"text-align: right;\">        18.3217 </td></tr>\n",
       "<tr><td>e2e_seg_00008</td><td>PENDING   </td><td>     </td><td style=\"text-align: right;\">                              1  </td><td style=\"text-align: right;\">                      0</td><td style=\"text-align: right;\">                    0.00129878</td><td style=\"text-align: right;\">                         4</td><td style=\"text-align: right;\">                         2.07083 </td><td style=\"text-align: right;\">                          143</td><td style=\"text-align: right;\">      </td><td style=\"text-align: right;\">                </td></tr>\n",
       "<tr><td>e2e_seg_00009</td><td>PENDING   </td><td>     </td><td style=\"text-align: right;\">                              0.8</td><td style=\"text-align: right;\">                      1</td><td style=\"text-align: right;\">                    0.0494578 </td><td style=\"text-align: right;\">                         4</td><td style=\"text-align: right;\">                        14.3154  </td><td style=\"text-align: right;\">                           13</td><td style=\"text-align: right;\">      </td><td style=\"text-align: right;\">                </td></tr>\n",
       "</tbody>\n",
       "</table><br><br>"
      ],
      "text/plain": [
       "<IPython.core.display.HTML object>"
      ]
     },
     "metadata": {},
     "output_type": "display_data"
    },
    {
     "name": "stdout",
     "output_type": "stream",
     "text": [
      "\u001b[2m\u001b[36m(pid=39265)\u001b[0m 2020-06-09 12:46:05,204\tINFO trainable.py:217 -- Getting current IP.\n"
     ]
    },
    {
     "name": "stderr",
     "output_type": "stream",
     "text": [
      "2020-06-09 12:47:34,360\tINFO logger.py:269 -- Removed the following hyperparameter values when logging to tensorboard: {'xgbclassifier__lambda': 0}\n"
     ]
    },
    {
     "name": "stdout",
     "output_type": "stream",
     "text": [
      "Result for e2e_seg_00008:\n",
      "  date: 2020-06-09_12-47-34\n",
      "  done: true\n",
      "  experiment_id: 95ac8485989c40deae3151aff3ef1ade\n",
      "  experiment_tag: 8_xgbclassifier__colsample_bytree=1.0,xgbclassifier__lambda=0,xgbclassifier__learning_rate=0.0012988,xgbclassifier__max_depth=4,xgbclassifier__min_child_weight=2.0708,xgbclassifier__n_estimators=143\n",
      "  hostname: Steves-MacBook-Pro.local\n",
      "  iterations_since_restore: 1\n",
      "  mean_f1_score: 0.528626834167392\n",
      "  node_ip: 192.168.1.36\n",
      "  pid: 39265\n",
      "  std_f1_score: 0.07442577087648801\n",
      "  time_since_restore: 89.14976096153259\n",
      "  time_this_iter_s: 89.14976096153259\n",
      "  time_total_s: 89.14976096153259\n",
      "  timestamp: 1591703254\n",
      "  timesteps_since_restore: 0\n",
      "  training_iteration: 0\n",
      "  trial_id: 00008\n",
      "  \n"
     ]
    },
    {
     "data": {
      "text/html": [
       "== Status ==<br>Memory usage on this node: 11.3/16.0 GiB<br>Using FIFO scheduling algorithm.<br>Resources requested: 1/2 CPUs, 0/1 GPUs, 0.0/4.59 GiB heap, 0.0/1.56 GiB objects<br>Result logdir: /Users/stevejpurves/ray_results/seg_facies/e2e_seg<br>Number of trials: 10 (1 PENDING, 1 RUNNING, 8 TERMINATED)<br><table>\n",
       "<thead>\n",
       "<tr><th>Trial name   </th><th>status    </th><th>loc  </th><th style=\"text-align: right;\">  xgbclassifier__colsample_bytree</th><th style=\"text-align: right;\">  xgbclassifier__lambda</th><th style=\"text-align: right;\">  xgbclassifier__learning_rate</th><th style=\"text-align: right;\">  xgbclassifier__max_depth</th><th style=\"text-align: right;\">  xgbclassifier__min_child_weight</th><th style=\"text-align: right;\">  xgbclassifier__n_estimators</th><th style=\"text-align: right;\">  iter</th><th style=\"text-align: right;\">  total time (s)</th></tr>\n",
       "</thead>\n",
       "<tbody>\n",
       "<tr><td>e2e_seg_00000</td><td>TERMINATED</td><td>     </td><td style=\"text-align: right;\">                              0.4</td><td style=\"text-align: right;\">                      0</td><td style=\"text-align: right;\">                    0.00106545</td><td style=\"text-align: right;\">                         2</td><td style=\"text-align: right;\">                         7.38127 </td><td style=\"text-align: right;\">                           48</td><td style=\"text-align: right;\">     0</td><td style=\"text-align: right;\">         7.58806</td></tr>\n",
       "<tr><td>e2e_seg_00001</td><td>TERMINATED</td><td>     </td><td style=\"text-align: right;\">                              0.8</td><td style=\"text-align: right;\">                      0</td><td style=\"text-align: right;\">                    0.06624   </td><td style=\"text-align: right;\">                         1</td><td style=\"text-align: right;\">                         2.31399 </td><td style=\"text-align: right;\">                           35</td><td style=\"text-align: right;\">     0</td><td style=\"text-align: right;\">         4.99332</td></tr>\n",
       "<tr><td>e2e_seg_00002</td><td>TERMINATED</td><td>     </td><td style=\"text-align: right;\">                              0.6</td><td style=\"text-align: right;\">                      0</td><td style=\"text-align: right;\">                    0.0774589 </td><td style=\"text-align: right;\">                         1</td><td style=\"text-align: right;\">                         1.99245 </td><td style=\"text-align: right;\">                          159</td><td style=\"text-align: right;\">     0</td><td style=\"text-align: right;\">        18.1751 </td></tr>\n",
       "<tr><td>e2e_seg_00003</td><td>TERMINATED</td><td>     </td><td style=\"text-align: right;\">                              0.8</td><td style=\"text-align: right;\">                      1</td><td style=\"text-align: right;\">                    0.020335  </td><td style=\"text-align: right;\">                         1</td><td style=\"text-align: right;\">                         0.498322</td><td style=\"text-align: right;\">                          123</td><td style=\"text-align: right;\">     0</td><td style=\"text-align: right;\">        17.2272 </td></tr>\n",
       "<tr><td>e2e_seg_00004</td><td>RUNNING   </td><td>     </td><td style=\"text-align: right;\">                              0.8</td><td style=\"text-align: right;\">                      0</td><td style=\"text-align: right;\">                    0.049454  </td><td style=\"text-align: right;\">                         8</td><td style=\"text-align: right;\">                         5.84613 </td><td style=\"text-align: right;\">                          184</td><td style=\"text-align: right;\">      </td><td style=\"text-align: right;\">                </td></tr>\n",
       "<tr><td>e2e_seg_00005</td><td>TERMINATED</td><td>     </td><td style=\"text-align: right;\">                              0.4</td><td style=\"text-align: right;\">                      0</td><td style=\"text-align: right;\">                    0.032176  </td><td style=\"text-align: right;\">                         8</td><td style=\"text-align: right;\">                         0.114637</td><td style=\"text-align: right;\">                           11</td><td style=\"text-align: right;\">     0</td><td style=\"text-align: right;\">         6.82706</td></tr>\n",
       "<tr><td>e2e_seg_00006</td><td>TERMINATED</td><td>     </td><td style=\"text-align: right;\">                              0.6</td><td style=\"text-align: right;\">                      1</td><td style=\"text-align: right;\">                    0.0134216 </td><td style=\"text-align: right;\">                         2</td><td style=\"text-align: right;\">                         0.22047 </td><td style=\"text-align: right;\">                           97</td><td style=\"text-align: right;\">     0</td><td style=\"text-align: right;\">        19.2709 </td></tr>\n",
       "<tr><td>e2e_seg_00007</td><td>TERMINATED</td><td>     </td><td style=\"text-align: right;\">                              0.8</td><td style=\"text-align: right;\">                      1</td><td style=\"text-align: right;\">                    0.0106233 </td><td style=\"text-align: right;\">                         1</td><td style=\"text-align: right;\">                        35.9295  </td><td style=\"text-align: right;\">                          134</td><td style=\"text-align: right;\">     0</td><td style=\"text-align: right;\">        18.3217 </td></tr>\n",
       "<tr><td>e2e_seg_00008</td><td>TERMINATED</td><td>     </td><td style=\"text-align: right;\">                              1  </td><td style=\"text-align: right;\">                      0</td><td style=\"text-align: right;\">                    0.00129878</td><td style=\"text-align: right;\">                         4</td><td style=\"text-align: right;\">                         2.07083 </td><td style=\"text-align: right;\">                          143</td><td style=\"text-align: right;\">     0</td><td style=\"text-align: right;\">        89.1498 </td></tr>\n",
       "<tr><td>e2e_seg_00009</td><td>PENDING   </td><td>     </td><td style=\"text-align: right;\">                              0.8</td><td style=\"text-align: right;\">                      1</td><td style=\"text-align: right;\">                    0.0494578 </td><td style=\"text-align: right;\">                         4</td><td style=\"text-align: right;\">                        14.3154  </td><td style=\"text-align: right;\">                           13</td><td style=\"text-align: right;\">      </td><td style=\"text-align: right;\">                </td></tr>\n",
       "</tbody>\n",
       "</table><br><br>"
      ],
      "text/plain": [
       "<IPython.core.display.HTML object>"
      ]
     },
     "metadata": {},
     "output_type": "display_data"
    },
    {
     "name": "stdout",
     "output_type": "stream",
     "text": [
      "\u001b[2m\u001b[36m(pid=39379)\u001b[0m 2020-06-09 12:47:35,883\tINFO trainable.py:217 -- Getting current IP.\n"
     ]
    },
    {
     "name": "stderr",
     "output_type": "stream",
     "text": [
      "2020-06-09 12:47:42,178\tINFO logger.py:269 -- Removed the following hyperparameter values when logging to tensorboard: {'xgbclassifier__lambda': 1}\n"
     ]
    },
    {
     "name": "stdout",
     "output_type": "stream",
     "text": [
      "Result for e2e_seg_00009:\n",
      "  date: 2020-06-09_12-47-42\n",
      "  done: true\n",
      "  experiment_id: b5ac67ecec7c44af9c3b113b85b63df0\n",
      "  experiment_tag: 9_xgbclassifier__colsample_bytree=0.8,xgbclassifier__lambda=1,xgbclassifier__learning_rate=0.049458,xgbclassifier__max_depth=4,xgbclassifier__min_child_weight=14.315,xgbclassifier__n_estimators=13\n",
      "  hostname: Steves-MacBook-Pro.local\n",
      "  iterations_since_restore: 1\n",
      "  mean_f1_score: 0.5346834828859974\n",
      "  node_ip: 192.168.1.36\n",
      "  pid: 39379\n",
      "  std_f1_score: 0.0862673441206799\n",
      "  time_since_restore: 6.2866270542144775\n",
      "  time_this_iter_s: 6.2866270542144775\n",
      "  time_total_s: 6.2866270542144775\n",
      "  timestamp: 1591703262\n",
      "  timesteps_since_restore: 0\n",
      "  training_iteration: 0\n",
      "  trial_id: 00009\n",
      "  \n"
     ]
    },
    {
     "data": {
      "text/html": [
       "== Status ==<br>Memory usage on this node: 11.3/16.0 GiB<br>Using FIFO scheduling algorithm.<br>Resources requested: 1/2 CPUs, 0/1 GPUs, 0.0/4.59 GiB heap, 0.0/1.56 GiB objects<br>Result logdir: /Users/stevejpurves/ray_results/seg_facies/e2e_seg<br>Number of trials: 10 (1 RUNNING, 9 TERMINATED)<br><table>\n",
       "<thead>\n",
       "<tr><th>Trial name   </th><th>status    </th><th>loc  </th><th style=\"text-align: right;\">  xgbclassifier__colsample_bytree</th><th style=\"text-align: right;\">  xgbclassifier__lambda</th><th style=\"text-align: right;\">  xgbclassifier__learning_rate</th><th style=\"text-align: right;\">  xgbclassifier__max_depth</th><th style=\"text-align: right;\">  xgbclassifier__min_child_weight</th><th style=\"text-align: right;\">  xgbclassifier__n_estimators</th><th style=\"text-align: right;\">  iter</th><th style=\"text-align: right;\">  total time (s)</th></tr>\n",
       "</thead>\n",
       "<tbody>\n",
       "<tr><td>e2e_seg_00000</td><td>TERMINATED</td><td>     </td><td style=\"text-align: right;\">                              0.4</td><td style=\"text-align: right;\">                      0</td><td style=\"text-align: right;\">                    0.00106545</td><td style=\"text-align: right;\">                         2</td><td style=\"text-align: right;\">                         7.38127 </td><td style=\"text-align: right;\">                           48</td><td style=\"text-align: right;\">     0</td><td style=\"text-align: right;\">         7.58806</td></tr>\n",
       "<tr><td>e2e_seg_00001</td><td>TERMINATED</td><td>     </td><td style=\"text-align: right;\">                              0.8</td><td style=\"text-align: right;\">                      0</td><td style=\"text-align: right;\">                    0.06624   </td><td style=\"text-align: right;\">                         1</td><td style=\"text-align: right;\">                         2.31399 </td><td style=\"text-align: right;\">                           35</td><td style=\"text-align: right;\">     0</td><td style=\"text-align: right;\">         4.99332</td></tr>\n",
       "<tr><td>e2e_seg_00002</td><td>TERMINATED</td><td>     </td><td style=\"text-align: right;\">                              0.6</td><td style=\"text-align: right;\">                      0</td><td style=\"text-align: right;\">                    0.0774589 </td><td style=\"text-align: right;\">                         1</td><td style=\"text-align: right;\">                         1.99245 </td><td style=\"text-align: right;\">                          159</td><td style=\"text-align: right;\">     0</td><td style=\"text-align: right;\">        18.1751 </td></tr>\n",
       "<tr><td>e2e_seg_00003</td><td>TERMINATED</td><td>     </td><td style=\"text-align: right;\">                              0.8</td><td style=\"text-align: right;\">                      1</td><td style=\"text-align: right;\">                    0.020335  </td><td style=\"text-align: right;\">                         1</td><td style=\"text-align: right;\">                         0.498322</td><td style=\"text-align: right;\">                          123</td><td style=\"text-align: right;\">     0</td><td style=\"text-align: right;\">        17.2272 </td></tr>\n",
       "<tr><td>e2e_seg_00004</td><td>RUNNING   </td><td>     </td><td style=\"text-align: right;\">                              0.8</td><td style=\"text-align: right;\">                      0</td><td style=\"text-align: right;\">                    0.049454  </td><td style=\"text-align: right;\">                         8</td><td style=\"text-align: right;\">                         5.84613 </td><td style=\"text-align: right;\">                          184</td><td style=\"text-align: right;\">      </td><td style=\"text-align: right;\">                </td></tr>\n",
       "<tr><td>e2e_seg_00005</td><td>TERMINATED</td><td>     </td><td style=\"text-align: right;\">                              0.4</td><td style=\"text-align: right;\">                      0</td><td style=\"text-align: right;\">                    0.032176  </td><td style=\"text-align: right;\">                         8</td><td style=\"text-align: right;\">                         0.114637</td><td style=\"text-align: right;\">                           11</td><td style=\"text-align: right;\">     0</td><td style=\"text-align: right;\">         6.82706</td></tr>\n",
       "<tr><td>e2e_seg_00006</td><td>TERMINATED</td><td>     </td><td style=\"text-align: right;\">                              0.6</td><td style=\"text-align: right;\">                      1</td><td style=\"text-align: right;\">                    0.0134216 </td><td style=\"text-align: right;\">                         2</td><td style=\"text-align: right;\">                         0.22047 </td><td style=\"text-align: right;\">                           97</td><td style=\"text-align: right;\">     0</td><td style=\"text-align: right;\">        19.2709 </td></tr>\n",
       "<tr><td>e2e_seg_00007</td><td>TERMINATED</td><td>     </td><td style=\"text-align: right;\">                              0.8</td><td style=\"text-align: right;\">                      1</td><td style=\"text-align: right;\">                    0.0106233 </td><td style=\"text-align: right;\">                         1</td><td style=\"text-align: right;\">                        35.9295  </td><td style=\"text-align: right;\">                          134</td><td style=\"text-align: right;\">     0</td><td style=\"text-align: right;\">        18.3217 </td></tr>\n",
       "<tr><td>e2e_seg_00008</td><td>TERMINATED</td><td>     </td><td style=\"text-align: right;\">                              1  </td><td style=\"text-align: right;\">                      0</td><td style=\"text-align: right;\">                    0.00129878</td><td style=\"text-align: right;\">                         4</td><td style=\"text-align: right;\">                         2.07083 </td><td style=\"text-align: right;\">                          143</td><td style=\"text-align: right;\">     0</td><td style=\"text-align: right;\">        89.1498 </td></tr>\n",
       "<tr><td>e2e_seg_00009</td><td>TERMINATED</td><td>     </td><td style=\"text-align: right;\">                              0.8</td><td style=\"text-align: right;\">                      1</td><td style=\"text-align: right;\">                    0.0494578 </td><td style=\"text-align: right;\">                         4</td><td style=\"text-align: right;\">                        14.3154  </td><td style=\"text-align: right;\">                           13</td><td style=\"text-align: right;\">     0</td><td style=\"text-align: right;\">         6.28663</td></tr>\n",
       "</tbody>\n",
       "</table><br><br>"
      ],
      "text/plain": [
       "<IPython.core.display.HTML object>"
      ]
     },
     "metadata": {},
     "output_type": "display_data"
    },
    {
     "name": "stderr",
     "output_type": "stream",
     "text": [
      "2020-06-09 12:47:55,737\tINFO logger.py:269 -- Removed the following hyperparameter values when logging to tensorboard: {'xgbclassifier__lambda': 0}\n"
     ]
    },
    {
     "name": "stdout",
     "output_type": "stream",
     "text": [
      "Result for e2e_seg_00004:\n",
      "  date: 2020-06-09_12-47-55\n",
      "  done: true\n",
      "  experiment_id: 8dac15294395471c801edf318c93ae2e\n",
      "  experiment_tag: 4_xgbclassifier__colsample_bytree=0.8,xgbclassifier__lambda=0,xgbclassifier__learning_rate=0.049454,xgbclassifier__max_depth=8,xgbclassifier__min_child_weight=5.8461,xgbclassifier__n_estimators=184\n",
      "  hostname: Steves-MacBook-Pro.local\n",
      "  iterations_since_restore: 1\n",
      "  mean_f1_score: 0.5758615002991206\n",
      "  node_ip: 192.168.1.36\n",
      "  pid: 39206\n",
      "  std_f1_score: 0.08616120832349243\n",
      "  time_since_restore: 159.9369261264801\n",
      "  time_this_iter_s: 159.9369261264801\n",
      "  time_total_s: 159.9369261264801\n",
      "  timestamp: 1591703275\n",
      "  timesteps_since_restore: 0\n",
      "  training_iteration: 0\n",
      "  trial_id: '00004'\n",
      "  \n"
     ]
    },
    {
     "data": {
      "text/html": [
       "== Status ==<br>Memory usage on this node: 11.3/16.0 GiB<br>Using FIFO scheduling algorithm.<br>Resources requested: 0/2 CPUs, 0/1 GPUs, 0.0/4.59 GiB heap, 0.0/1.56 GiB objects<br>Result logdir: /Users/stevejpurves/ray_results/seg_facies/e2e_seg<br>Number of trials: 10 (10 TERMINATED)<br><table>\n",
       "<thead>\n",
       "<tr><th>Trial name   </th><th>status    </th><th>loc  </th><th style=\"text-align: right;\">  xgbclassifier__colsample_bytree</th><th style=\"text-align: right;\">  xgbclassifier__lambda</th><th style=\"text-align: right;\">  xgbclassifier__learning_rate</th><th style=\"text-align: right;\">  xgbclassifier__max_depth</th><th style=\"text-align: right;\">  xgbclassifier__min_child_weight</th><th style=\"text-align: right;\">  xgbclassifier__n_estimators</th><th style=\"text-align: right;\">  iter</th><th style=\"text-align: right;\">  total time (s)</th></tr>\n",
       "</thead>\n",
       "<tbody>\n",
       "<tr><td>e2e_seg_00000</td><td>TERMINATED</td><td>     </td><td style=\"text-align: right;\">                              0.4</td><td style=\"text-align: right;\">                      0</td><td style=\"text-align: right;\">                    0.00106545</td><td style=\"text-align: right;\">                         2</td><td style=\"text-align: right;\">                         7.38127 </td><td style=\"text-align: right;\">                           48</td><td style=\"text-align: right;\">     0</td><td style=\"text-align: right;\">         7.58806</td></tr>\n",
       "<tr><td>e2e_seg_00001</td><td>TERMINATED</td><td>     </td><td style=\"text-align: right;\">                              0.8</td><td style=\"text-align: right;\">                      0</td><td style=\"text-align: right;\">                    0.06624   </td><td style=\"text-align: right;\">                         1</td><td style=\"text-align: right;\">                         2.31399 </td><td style=\"text-align: right;\">                           35</td><td style=\"text-align: right;\">     0</td><td style=\"text-align: right;\">         4.99332</td></tr>\n",
       "<tr><td>e2e_seg_00002</td><td>TERMINATED</td><td>     </td><td style=\"text-align: right;\">                              0.6</td><td style=\"text-align: right;\">                      0</td><td style=\"text-align: right;\">                    0.0774589 </td><td style=\"text-align: right;\">                         1</td><td style=\"text-align: right;\">                         1.99245 </td><td style=\"text-align: right;\">                          159</td><td style=\"text-align: right;\">     0</td><td style=\"text-align: right;\">        18.1751 </td></tr>\n",
       "<tr><td>e2e_seg_00003</td><td>TERMINATED</td><td>     </td><td style=\"text-align: right;\">                              0.8</td><td style=\"text-align: right;\">                      1</td><td style=\"text-align: right;\">                    0.020335  </td><td style=\"text-align: right;\">                         1</td><td style=\"text-align: right;\">                         0.498322</td><td style=\"text-align: right;\">                          123</td><td style=\"text-align: right;\">     0</td><td style=\"text-align: right;\">        17.2272 </td></tr>\n",
       "<tr><td>e2e_seg_00004</td><td>TERMINATED</td><td>     </td><td style=\"text-align: right;\">                              0.8</td><td style=\"text-align: right;\">                      0</td><td style=\"text-align: right;\">                    0.049454  </td><td style=\"text-align: right;\">                         8</td><td style=\"text-align: right;\">                         5.84613 </td><td style=\"text-align: right;\">                          184</td><td style=\"text-align: right;\">     0</td><td style=\"text-align: right;\">       159.937  </td></tr>\n",
       "<tr><td>e2e_seg_00005</td><td>TERMINATED</td><td>     </td><td style=\"text-align: right;\">                              0.4</td><td style=\"text-align: right;\">                      0</td><td style=\"text-align: right;\">                    0.032176  </td><td style=\"text-align: right;\">                         8</td><td style=\"text-align: right;\">                         0.114637</td><td style=\"text-align: right;\">                           11</td><td style=\"text-align: right;\">     0</td><td style=\"text-align: right;\">         6.82706</td></tr>\n",
       "<tr><td>e2e_seg_00006</td><td>TERMINATED</td><td>     </td><td style=\"text-align: right;\">                              0.6</td><td style=\"text-align: right;\">                      1</td><td style=\"text-align: right;\">                    0.0134216 </td><td style=\"text-align: right;\">                         2</td><td style=\"text-align: right;\">                         0.22047 </td><td style=\"text-align: right;\">                           97</td><td style=\"text-align: right;\">     0</td><td style=\"text-align: right;\">        19.2709 </td></tr>\n",
       "<tr><td>e2e_seg_00007</td><td>TERMINATED</td><td>     </td><td style=\"text-align: right;\">                              0.8</td><td style=\"text-align: right;\">                      1</td><td style=\"text-align: right;\">                    0.0106233 </td><td style=\"text-align: right;\">                         1</td><td style=\"text-align: right;\">                        35.9295  </td><td style=\"text-align: right;\">                          134</td><td style=\"text-align: right;\">     0</td><td style=\"text-align: right;\">        18.3217 </td></tr>\n",
       "<tr><td>e2e_seg_00008</td><td>TERMINATED</td><td>     </td><td style=\"text-align: right;\">                              1  </td><td style=\"text-align: right;\">                      0</td><td style=\"text-align: right;\">                    0.00129878</td><td style=\"text-align: right;\">                         4</td><td style=\"text-align: right;\">                         2.07083 </td><td style=\"text-align: right;\">                          143</td><td style=\"text-align: right;\">     0</td><td style=\"text-align: right;\">        89.1498 </td></tr>\n",
       "<tr><td>e2e_seg_00009</td><td>TERMINATED</td><td>     </td><td style=\"text-align: right;\">                              0.8</td><td style=\"text-align: right;\">                      1</td><td style=\"text-align: right;\">                    0.0494578 </td><td style=\"text-align: right;\">                         4</td><td style=\"text-align: right;\">                        14.3154  </td><td style=\"text-align: right;\">                           13</td><td style=\"text-align: right;\">     0</td><td style=\"text-align: right;\">         6.28663</td></tr>\n",
       "</tbody>\n",
       "</table><br><br>"
      ],
      "text/plain": [
       "<IPython.core.display.HTML object>"
      ]
     },
     "metadata": {},
     "output_type": "display_data"
    },
    {
     "data": {
      "text/html": [
       "== Status ==<br>Memory usage on this node: 11.3/16.0 GiB<br>Using FIFO scheduling algorithm.<br>Resources requested: 0/2 CPUs, 0/1 GPUs, 0.0/4.59 GiB heap, 0.0/1.56 GiB objects<br>Result logdir: /Users/stevejpurves/ray_results/seg_facies/e2e_seg<br>Number of trials: 10 (10 TERMINATED)<br><table>\n",
       "<thead>\n",
       "<tr><th>Trial name   </th><th>status    </th><th>loc  </th><th style=\"text-align: right;\">  xgbclassifier__colsample_bytree</th><th style=\"text-align: right;\">  xgbclassifier__lambda</th><th style=\"text-align: right;\">  xgbclassifier__learning_rate</th><th style=\"text-align: right;\">  xgbclassifier__max_depth</th><th style=\"text-align: right;\">  xgbclassifier__min_child_weight</th><th style=\"text-align: right;\">  xgbclassifier__n_estimators</th><th style=\"text-align: right;\">  iter</th><th style=\"text-align: right;\">  total time (s)</th></tr>\n",
       "</thead>\n",
       "<tbody>\n",
       "<tr><td>e2e_seg_00000</td><td>TERMINATED</td><td>     </td><td style=\"text-align: right;\">                              0.4</td><td style=\"text-align: right;\">                      0</td><td style=\"text-align: right;\">                    0.00106545</td><td style=\"text-align: right;\">                         2</td><td style=\"text-align: right;\">                         7.38127 </td><td style=\"text-align: right;\">                           48</td><td style=\"text-align: right;\">     0</td><td style=\"text-align: right;\">         7.58806</td></tr>\n",
       "<tr><td>e2e_seg_00001</td><td>TERMINATED</td><td>     </td><td style=\"text-align: right;\">                              0.8</td><td style=\"text-align: right;\">                      0</td><td style=\"text-align: right;\">                    0.06624   </td><td style=\"text-align: right;\">                         1</td><td style=\"text-align: right;\">                         2.31399 </td><td style=\"text-align: right;\">                           35</td><td style=\"text-align: right;\">     0</td><td style=\"text-align: right;\">         4.99332</td></tr>\n",
       "<tr><td>e2e_seg_00002</td><td>TERMINATED</td><td>     </td><td style=\"text-align: right;\">                              0.6</td><td style=\"text-align: right;\">                      0</td><td style=\"text-align: right;\">                    0.0774589 </td><td style=\"text-align: right;\">                         1</td><td style=\"text-align: right;\">                         1.99245 </td><td style=\"text-align: right;\">                          159</td><td style=\"text-align: right;\">     0</td><td style=\"text-align: right;\">        18.1751 </td></tr>\n",
       "<tr><td>e2e_seg_00003</td><td>TERMINATED</td><td>     </td><td style=\"text-align: right;\">                              0.8</td><td style=\"text-align: right;\">                      1</td><td style=\"text-align: right;\">                    0.020335  </td><td style=\"text-align: right;\">                         1</td><td style=\"text-align: right;\">                         0.498322</td><td style=\"text-align: right;\">                          123</td><td style=\"text-align: right;\">     0</td><td style=\"text-align: right;\">        17.2272 </td></tr>\n",
       "<tr><td>e2e_seg_00004</td><td>TERMINATED</td><td>     </td><td style=\"text-align: right;\">                              0.8</td><td style=\"text-align: right;\">                      0</td><td style=\"text-align: right;\">                    0.049454  </td><td style=\"text-align: right;\">                         8</td><td style=\"text-align: right;\">                         5.84613 </td><td style=\"text-align: right;\">                          184</td><td style=\"text-align: right;\">     0</td><td style=\"text-align: right;\">       159.937  </td></tr>\n",
       "<tr><td>e2e_seg_00005</td><td>TERMINATED</td><td>     </td><td style=\"text-align: right;\">                              0.4</td><td style=\"text-align: right;\">                      0</td><td style=\"text-align: right;\">                    0.032176  </td><td style=\"text-align: right;\">                         8</td><td style=\"text-align: right;\">                         0.114637</td><td style=\"text-align: right;\">                           11</td><td style=\"text-align: right;\">     0</td><td style=\"text-align: right;\">         6.82706</td></tr>\n",
       "<tr><td>e2e_seg_00006</td><td>TERMINATED</td><td>     </td><td style=\"text-align: right;\">                              0.6</td><td style=\"text-align: right;\">                      1</td><td style=\"text-align: right;\">                    0.0134216 </td><td style=\"text-align: right;\">                         2</td><td style=\"text-align: right;\">                         0.22047 </td><td style=\"text-align: right;\">                           97</td><td style=\"text-align: right;\">     0</td><td style=\"text-align: right;\">        19.2709 </td></tr>\n",
       "<tr><td>e2e_seg_00007</td><td>TERMINATED</td><td>     </td><td style=\"text-align: right;\">                              0.8</td><td style=\"text-align: right;\">                      1</td><td style=\"text-align: right;\">                    0.0106233 </td><td style=\"text-align: right;\">                         1</td><td style=\"text-align: right;\">                        35.9295  </td><td style=\"text-align: right;\">                          134</td><td style=\"text-align: right;\">     0</td><td style=\"text-align: right;\">        18.3217 </td></tr>\n",
       "<tr><td>e2e_seg_00008</td><td>TERMINATED</td><td>     </td><td style=\"text-align: right;\">                              1  </td><td style=\"text-align: right;\">                      0</td><td style=\"text-align: right;\">                    0.00129878</td><td style=\"text-align: right;\">                         4</td><td style=\"text-align: right;\">                         2.07083 </td><td style=\"text-align: right;\">                          143</td><td style=\"text-align: right;\">     0</td><td style=\"text-align: right;\">        89.1498 </td></tr>\n",
       "<tr><td>e2e_seg_00009</td><td>TERMINATED</td><td>     </td><td style=\"text-align: right;\">                              0.8</td><td style=\"text-align: right;\">                      1</td><td style=\"text-align: right;\">                    0.0494578 </td><td style=\"text-align: right;\">                         4</td><td style=\"text-align: right;\">                        14.3154  </td><td style=\"text-align: right;\">                           13</td><td style=\"text-align: right;\">     0</td><td style=\"text-align: right;\">         6.28663</td></tr>\n",
       "</tbody>\n",
       "</table><br><br>"
      ],
      "text/plain": [
       "<IPython.core.display.HTML object>"
      ]
     },
     "metadata": {},
     "output_type": "display_data"
    }
   ],
   "source": [
    "filepath = path.abspath('../datasets/seg_2016_facies/la_team_5_data.h5py')\n",
    "\n",
    "def e2e_seg(config):\n",
    "    return e2e_train_and_test(config, filepath=filepath)\n",
    "\n",
    "analysis = tune.run(\n",
    "                e2e_seg,\n",
    "                config=ray_tuning_config,\n",
    "                num_samples=10, # Specify the number of samples to make from (non grid) distributions\n",
    "                resources_per_trial=dict(cpu=1, gpu=0),\n",
    "                local_dir=\"~/ray_results/seg_facies\")"
   ]
  },
  {
   "cell_type": "code",
   "execution_count": 16,
   "metadata": {},
   "outputs": [
    {
     "name": "stdout",
     "output_type": "stream",
     "text": [
      "Best config:  {'xgbclassifier__learning_rate': 0.04861679346423644, 'xgbclassifier__max_depth': 6, 'xgbclassifier__min_child_weight': 19.96980580643878, 'xgbclassifier__n_estimators': 162, 'xgbclassifier__colsample_bytree': 0.4, 'xgbclassifier__lambda': 1, 'xgbclassifier__seed': 42}\n"
     ]
    }
   ],
   "source": [
    "print(\"Best config: \", analysis.get_best_config(metric=\"mean_f1_score\"))"
   ]
  },
  {
   "cell_type": "code",
   "execution_count": null,
   "metadata": {},
   "outputs": [],
   "source": [
    "df = analysis.dataframe()\n",
    "top_n_df = df.nlargest(10, \"mean_f1_score\")"
   ]
  },
  {
   "cell_type": "code",
   "execution_count": null,
   "metadata": {},
   "outputs": [],
   "source": [
    "top_n_df.head()"
   ]
  },
  {
   "cell_type": "code",
   "execution_count": null,
   "metadata": {},
   "outputs": [],
   "source": [
    "plot_some_tune_results(top_n_df, (0.5, 1.0))"
   ]
  },
  {
   "cell_type": "code",
   "execution_count": null,
   "metadata": {
    "scrolled": false
   },
   "outputs": [],
   "source": [
    "%load_ext tensorboard\n",
    "from tensorboard import notebook \n",
    "%tensorboard --logdir \"~/ray_results/seg_facies\"\n",
    "notebook.display(height=1000)"
   ]
  },
  {
   "cell_type": "code",
   "execution_count": null,
   "metadata": {},
   "outputs": [],
   "source": [
    "ray.shutdown()"
   ]
  },
  {
   "cell_type": "code",
   "execution_count": null,
   "metadata": {},
   "outputs": [],
   "source": []
  }
 ],
 "metadata": {
  "kernelspec": {
   "display_name": "Python 3",
   "language": "python",
   "name": "python3"
  },
  "language_info": {
   "codemirror_mode": {
    "name": "ipython",
    "version": 3
   },
   "file_extension": ".py",
   "mimetype": "text/x-python",
   "name": "python",
   "nbconvert_exporter": "python",
   "pygments_lexer": "ipython3",
   "version": "3.8.3"
  }
 },
 "nbformat": 4,
 "nbformat_minor": 4
}
