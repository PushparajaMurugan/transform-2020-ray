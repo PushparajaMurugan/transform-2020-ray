{
 "cells": [
  {
   "cell_type": "markdown",
   "metadata": {},
   "source": [
    "# SEGY 2016 Facies Competition\n",
    "\n",
    "\n",
    "In 2016 Matt @ Agile & Brendon @ Enthought setup a Machine Learning Contest with the SEG. \n",
    "\n",
    "The objective was to predict facies logs from a small set of well log data. The image below (source: www.agilescientific.com) shows the wirelines and facies targets for one well\n",
    "\n",
    "![](agile_blog_seg_facies_image.png)\n",
    "\n",
    "Two wells were held out as blind and used to create the final scores.\n",
    "\n",
    "![](leaderboard.png)\n",
    "\n",
    "In this notebook, we've taken the winning submission from `LA_Team` Lukas Mosser & Alfredo de la Fuente.\n",
    "\n",
    "This Was Gradient Boosted Trees selected and tuned by TPOT.\n",
    "\n",
    "here we are going to tune that model with Raytune instead\n"
   ]
  },
  {
   "cell_type": "markdown",
   "metadata": {},
   "source": [
    "# Dependencies"
   ]
  },
  {
   "cell_type": "code",
   "execution_count": 1,
   "metadata": {},
   "outputs": [
    {
     "name": "stdout",
     "output_type": "stream",
     "text": [
      "Loading dependencies we have already seen...\n",
      "Importing ray...\n",
      "Done...\n"
     ]
    }
   ],
   "source": [
    "%load_ext autoreload\n",
    "%autoreload 2\n",
    "\n",
    "from dependencies import *"
   ]
  },
  {
   "cell_type": "markdown",
   "metadata": {},
   "source": [
    "We have already applied the preprocessing steps from the contest entry notebook and saved these to `h5py` so we can load these here"
   ]
  },
  {
   "cell_type": "code",
   "execution_count": 5,
   "metadata": {},
   "outputs": [],
   "source": [
    "import h5py\n",
    "\n",
    "\n",
    "# define a loading function\n",
    "def setup(filepath):\n",
    "    with h5py.File(filepath, 'r') as f:\n",
    "        X_train = f[\"train_x\"][:]\n",
    "        y_train = f[\"train_y\"][:]\n",
    "        group_train = f[\"train_groups\"][:]\n",
    "        train_wells = f[\"train_groups\"].attrs[\"well_names\"]        \n",
    "        \n",
    "        X_test = f[\"test_x\"][:]\n",
    "        y_test = None\n",
    "#         y_test = f[\"test_y\"]\n",
    "        group_test = f[\"test_groups\"][:]\n",
    "        test_wells = f[\"test_groups\"].attrs[\"well_names\"]\n",
    "\n",
    "    return X_train, y_train, group_train, X_test, y_test, group_test, (train_wells, test_wells)"
   ]
  },
  {
   "cell_type": "markdown",
   "metadata": {},
   "source": [
    "The tuned model parameters\n",
    "```\n",
    "XGBClassifier(learning_rate=0.12,\n",
    "              max_depth=3,\n",
    "              min_child_weight=10,\n",
    "              n_estimators=150,\n",
    "              seed=seed,\n",
    "              colsample_bytree=0.9)\n",
    "```"
   ]
  },
  {
   "cell_type": "markdown",
   "metadata": {},
   "source": [
    "Let's check the data is on the expected path"
   ]
  },
  {
   "cell_type": "code",
   "execution_count": 6,
   "metadata": {},
   "outputs": [
    {
     "name": "stdout",
     "output_type": "stream",
     "text": [
      "/home/steve/dev/transform-2020-ray/datasets/seg_2016_facies/la_team_5_data.h5py\n"
     ]
    }
   ],
   "source": [
    "from os import path\n",
    "filepath = path.abspath('../datasets/seg_2016_facies/la_team_5_data.h5py')\n",
    "print(filepath)"
   ]
  },
  {
   "cell_type": "markdown",
   "metadata": {},
   "source": [
    "## Tuning function\n",
    "\n",
    "Again we define an end to end tuning function"
   ]
  },
  {
   "cell_type": "code",
   "execution_count": 7,
   "metadata": {},
   "outputs": [],
   "source": [
    "from sklearn.model_selection import LeavePGroupsOut\n",
    "import xgboost as xgb\n",
    "from xgboost.sklearn import XGBClassifier\n",
    "from scipy.signal import medfilt\n",
    "from filelock import FileLock\n",
    "\n",
    "def e2e_train_and_test(config, **kwargs):\n",
    "    \n",
    "    # load the data\n",
    "    X, y, groups, X_test, y_test, group_test, well_names = setup(kwargs['filepath'])\n",
    "    \n",
    "    #\n",
    "    # chose your CV strategy. groups == wells\n",
    "    #\n",
    "    splitter = LeavePGroupsOut(1)\n",
    "    \n",
    "    #\n",
    "    # run k fold training and validation\n",
    "    #\n",
    "    f1_scores = [] # keep hold of all individual scores\n",
    "    for train_ind, val_ind in splitter.split(X, y, groups=groups):\n",
    "        pipeline = make_pipeline(RobustScaler(),\n",
    "                                  XGBClassifier())\n",
    "\n",
    "        pipeline.set_params(**config)\n",
    "        pipeline.fit(X[train_ind], y[train_ind])\n",
    "        \n",
    "        y_pred = pipeline.predict(X[val_ind])\n",
    "        \n",
    "        f1_scores.append(f1_score(y_pred, y[val_ind], average='micro'))\n",
    "    \n",
    "        # Clean isolated facies for each well\n",
    "        y_pred = medfilt(y_pred, kernel_size=5)\n",
    "    \n",
    "    #\n",
    "    # use tune's reporter\n",
    "    #\n",
    "    tune.track.log(\n",
    "                mean_f1_score=np.array(f1_scores).mean(),\n",
    "                std_f1_score=np.array(f1_scores).std(),\n",
    "                # and we can actually add any metrics we like\n",
    "                done=True)"
   ]
  },
  {
   "cell_type": "markdown",
   "metadata": {},
   "source": [
    "The following config is locked to the winning parameters"
   ]
  },
  {
   "cell_type": "code",
   "execution_count": 6,
   "metadata": {},
   "outputs": [],
   "source": [
    "tuning_config = {\n",
    "    'xgbclassifier__learning_rate': 0.12,\n",
    "    'xgbclassifier__max_depth': 3,\n",
    "    'xbgclassifier__min_child_weight' :10,\n",
    "    'xbgclassifier__n_estimators': 150,\n",
    "    'xgbclassifier__seed':1773,\n",
    "    'xgbclassifier__colsample_bytree':0.9\n",
    "}"
   ]
  },
  {
   "cell_type": "markdown",
   "metadata": {},
   "source": [
    "Let's update that to use distributions"
   ]
  },
  {
   "cell_type": "code",
   "execution_count": 10,
   "metadata": {},
   "outputs": [],
   "source": [
    "ray_tuning_config = {\n",
    "    'xgbclassifier__learning_rate': tune.loguniform(0.001, 0.5),\n",
    "    'xgbclassifier__max_depth': tune.randint(1, 10),\n",
    "    'xgbclassifier__min_child_weight': tune.loguniform(0.1,100),\n",
    "    'xgbclassifier__n_estimators': tune.randint(5,200),\n",
    "    'xgbclassifier__colsample_bytree': tune.choice([0.4, 0.6, 0.8, 1.0]),\n",
    "    'xgbclassifier__lambda': tune.choice([0,1]),\n",
    "    'xgbclassifier__seed': 42\n",
    "}"
   ]
  },
  {
   "cell_type": "code",
   "execution_count": 19,
   "metadata": {},
   "outputs": [
    {
     "name": "stderr",
     "output_type": "stream",
     "text": [
      "2020-06-11 12:49:01,236\tINFO resource_spec.py:204 -- Starting Ray with 34.62 GiB memory available for workers and up to 17.32 GiB for objects. You can adjust these settings with ray.init(memory=<bytes>, object_store_memory=<bytes>).\n",
      "2020-06-11 12:49:01,498\tINFO services.py:1168 -- View the Ray dashboard at \u001b[1m\u001b[32mlocalhost:8265\u001b[39m\u001b[22m\n"
     ]
    },
    {
     "data": {
      "text/plain": [
       "{'node_ip_address': '192.168.1.39',\n",
       " 'raylet_ip_address': '192.168.1.39',\n",
       " 'redis_address': '192.168.1.39:24248',\n",
       " 'object_store_address': '/tmp/ray/session_2020-06-11_12-49-01_235260_58108/sockets/plasma_store',\n",
       " 'raylet_socket_name': '/tmp/ray/session_2020-06-11_12-49-01_235260_58108/sockets/raylet',\n",
       " 'webui_url': 'localhost:8265',\n",
       " 'session_dir': '/tmp/ray/session_2020-06-11_12-49-01_235260_58108'}"
      ]
     },
     "execution_count": 19,
     "metadata": {},
     "output_type": "execute_result"
    }
   ],
   "source": [
    "ray.shutdown()\n",
    "ray.init(num_cpus=6, num_gpus=0, include_webui=True)"
   ]
  },
  {
   "cell_type": "code",
   "execution_count": 11,
   "metadata": {
    "scrolled": true
   },
   "outputs": [
    {
     "data": {
      "text/html": [
       "== Status ==<br>Memory usage on this node: 6.2/62.8 GiB<br>Using FIFO scheduling algorithm.<br>Resources requested: 1/6 CPUs, 0/0 GPUs, 0.0/34.86 GiB heap, 0.0/12.01 GiB objects<br>Result logdir: /home/steve/ray_results/seg_facies/e2e_seg<br>Number of trials: 10 (9 PENDING, 1 RUNNING)<br><table>\n",
       "<thead>\n",
       "<tr><th>Trial name   </th><th>status  </th><th>loc  </th><th style=\"text-align: right;\">  xgbclassifier__colsample_bytree</th><th style=\"text-align: right;\">  xgbclassifier__lambda</th><th style=\"text-align: right;\">  xgbclassifier__learning_rate</th><th style=\"text-align: right;\">  xgbclassifier__max_depth</th><th style=\"text-align: right;\">  xgbclassifier__min_child_weight</th><th style=\"text-align: right;\">  xgbclassifier__n_estimators</th></tr>\n",
       "</thead>\n",
       "<tbody>\n",
       "<tr><td>e2e_seg_00000</td><td>RUNNING </td><td>     </td><td style=\"text-align: right;\">                              0.8</td><td style=\"text-align: right;\">                      0</td><td style=\"text-align: right;\">                    0.0133942 </td><td style=\"text-align: right;\">                         6</td><td style=\"text-align: right;\">                        49.0161  </td><td style=\"text-align: right;\">                          103</td></tr>\n",
       "<tr><td>e2e_seg_00001</td><td>PENDING </td><td>     </td><td style=\"text-align: right;\">                              0.6</td><td style=\"text-align: right;\">                      0</td><td style=\"text-align: right;\">                    0.316682  </td><td style=\"text-align: right;\">                         9</td><td style=\"text-align: right;\">                         0.943907</td><td style=\"text-align: right;\">                          124</td></tr>\n",
       "<tr><td>e2e_seg_00002</td><td>PENDING </td><td>     </td><td style=\"text-align: right;\">                              0.6</td><td style=\"text-align: right;\">                      0</td><td style=\"text-align: right;\">                    0.00372102</td><td style=\"text-align: right;\">                         7</td><td style=\"text-align: right;\">                         0.409123</td><td style=\"text-align: right;\">                           97</td></tr>\n",
       "<tr><td>e2e_seg_00003</td><td>PENDING </td><td>     </td><td style=\"text-align: right;\">                              0.6</td><td style=\"text-align: right;\">                      1</td><td style=\"text-align: right;\">                    0.00773461</td><td style=\"text-align: right;\">                         2</td><td style=\"text-align: right;\">                        19.8539  </td><td style=\"text-align: right;\">                          158</td></tr>\n",
       "<tr><td>e2e_seg_00004</td><td>PENDING </td><td>     </td><td style=\"text-align: right;\">                              0.8</td><td style=\"text-align: right;\">                      0</td><td style=\"text-align: right;\">                    0.00691101</td><td style=\"text-align: right;\">                         9</td><td style=\"text-align: right;\">                         0.159167</td><td style=\"text-align: right;\">                           52</td></tr>\n",
       "<tr><td>e2e_seg_00005</td><td>PENDING </td><td>     </td><td style=\"text-align: right;\">                              1  </td><td style=\"text-align: right;\">                      0</td><td style=\"text-align: right;\">                    0.0427273 </td><td style=\"text-align: right;\">                         1</td><td style=\"text-align: right;\">                         1.25305 </td><td style=\"text-align: right;\">                          176</td></tr>\n",
       "<tr><td>e2e_seg_00006</td><td>PENDING </td><td>     </td><td style=\"text-align: right;\">                              0.8</td><td style=\"text-align: right;\">                      0</td><td style=\"text-align: right;\">                    0.156161  </td><td style=\"text-align: right;\">                         6</td><td style=\"text-align: right;\">                        10.3762  </td><td style=\"text-align: right;\">                          156</td></tr>\n",
       "<tr><td>e2e_seg_00007</td><td>PENDING </td><td>     </td><td style=\"text-align: right;\">                              0.4</td><td style=\"text-align: right;\">                      1</td><td style=\"text-align: right;\">                    0.0210836 </td><td style=\"text-align: right;\">                         8</td><td style=\"text-align: right;\">                         0.251113</td><td style=\"text-align: right;\">                           70</td></tr>\n",
       "<tr><td>e2e_seg_00008</td><td>PENDING </td><td>     </td><td style=\"text-align: right;\">                              0.6</td><td style=\"text-align: right;\">                      0</td><td style=\"text-align: right;\">                    0.00885029</td><td style=\"text-align: right;\">                         9</td><td style=\"text-align: right;\">                        31.5247  </td><td style=\"text-align: right;\">                           60</td></tr>\n",
       "<tr><td>e2e_seg_00009</td><td>PENDING </td><td>     </td><td style=\"text-align: right;\">                              1  </td><td style=\"text-align: right;\">                      1</td><td style=\"text-align: right;\">                    0.19242   </td><td style=\"text-align: right;\">                         8</td><td style=\"text-align: right;\">                        13.3125  </td><td style=\"text-align: right;\">                           95</td></tr>\n",
       "</tbody>\n",
       "</table><br><br>"
      ],
      "text/plain": [
       "<IPython.core.display.HTML object>"
      ]
     },
     "metadata": {},
     "output_type": "display_data"
    },
    {
     "name": "stdout",
     "output_type": "stream",
     "text": [
      "\u001b[2m\u001b[36m(pid=59337)\u001b[0m 2020-06-11 12:45:46,464\tINFO trainable.py:217 -- Getting current IP.\n",
      "\u001b[2m\u001b[36m(pid=59335)\u001b[0m 2020-06-11 12:45:46,518\tINFO trainable.py:217 -- Getting current IP.\n",
      "\u001b[2m\u001b[36m(pid=59340)\u001b[0m 2020-06-11 12:45:46,520\tINFO trainable.py:217 -- Getting current IP.\n",
      "\u001b[2m\u001b[36m(pid=59339)\u001b[0m 2020-06-11 12:45:46,640\tINFO trainable.py:217 -- Getting current IP.\n",
      "\u001b[2m\u001b[36m(pid=59338)\u001b[0m 2020-06-11 12:45:46,614\tINFO trainable.py:217 -- Getting current IP.\n",
      "\u001b[2m\u001b[36m(pid=59336)\u001b[0m 2020-06-11 12:45:46,655\tINFO trainable.py:217 -- Getting current IP.\n"
     ]
    },
    {
     "name": "stderr",
     "output_type": "stream",
     "text": [
      "2020-06-11 12:46:08,381\tINFO logger.py:269 -- Removed the following hyperparameter values when logging to tensorboard: {'xgbclassifier__lambda': 0}\n"
     ]
    },
    {
     "name": "stdout",
     "output_type": "stream",
     "text": [
      "Result for e2e_seg_00005:\n",
      "  date: 2020-06-11_12-46-08\n",
      "  done: true\n",
      "  experiment_id: 8a1e383351ec420da42b1396e89fbada\n",
      "  experiment_tag: 5_xgbclassifier__colsample_bytree=1.0,xgbclassifier__lambda=0,xgbclassifier__learning_rate=0.042727,xgbclassifier__max_depth=1,xgbclassifier__min_child_weight=1.2531,xgbclassifier__n_estimators=176\n",
      "  hostname: cosmos-ml\n",
      "  iterations_since_restore: 1\n",
      "  mean_f1_score: 0.506615273192691\n",
      "  node_ip: 192.168.1.39\n",
      "  pid: 59338\n",
      "  std_f1_score: 0.11553826859358274\n",
      "  time_since_restore: 21.75893211364746\n",
      "  time_this_iter_s: 21.75893211364746\n",
      "  time_total_s: 21.75893211364746\n",
      "  timestamp: 1591875968\n",
      "  timesteps_since_restore: 0\n",
      "  training_iteration: 0\n",
      "  trial_id: '00005'\n",
      "  \n"
     ]
    },
    {
     "data": {
      "text/html": [
       "== Status ==<br>Memory usage on this node: 6.7/62.8 GiB<br>Using FIFO scheduling algorithm.<br>Resources requested: 5/6 CPUs, 0/0 GPUs, 0.0/34.86 GiB heap, 0.0/12.01 GiB objects<br>Result logdir: /home/steve/ray_results/seg_facies/e2e_seg<br>Number of trials: 10 (4 PENDING, 5 RUNNING, 1 TERMINATED)<br><table>\n",
       "<thead>\n",
       "<tr><th>Trial name   </th><th>status    </th><th>loc  </th><th style=\"text-align: right;\">  xgbclassifier__colsample_bytree</th><th style=\"text-align: right;\">  xgbclassifier__lambda</th><th style=\"text-align: right;\">  xgbclassifier__learning_rate</th><th style=\"text-align: right;\">  xgbclassifier__max_depth</th><th style=\"text-align: right;\">  xgbclassifier__min_child_weight</th><th style=\"text-align: right;\">  xgbclassifier__n_estimators</th><th style=\"text-align: right;\">  iter</th><th style=\"text-align: right;\">  total time (s)</th></tr>\n",
       "</thead>\n",
       "<tbody>\n",
       "<tr><td>e2e_seg_00000</td><td>RUNNING   </td><td>     </td><td style=\"text-align: right;\">                              0.8</td><td style=\"text-align: right;\">                      0</td><td style=\"text-align: right;\">                    0.0133942 </td><td style=\"text-align: right;\">                         6</td><td style=\"text-align: right;\">                        49.0161  </td><td style=\"text-align: right;\">                          103</td><td style=\"text-align: right;\">      </td><td style=\"text-align: right;\">                </td></tr>\n",
       "<tr><td>e2e_seg_00001</td><td>RUNNING   </td><td>     </td><td style=\"text-align: right;\">                              0.6</td><td style=\"text-align: right;\">                      0</td><td style=\"text-align: right;\">                    0.316682  </td><td style=\"text-align: right;\">                         9</td><td style=\"text-align: right;\">                         0.943907</td><td style=\"text-align: right;\">                          124</td><td style=\"text-align: right;\">      </td><td style=\"text-align: right;\">                </td></tr>\n",
       "<tr><td>e2e_seg_00002</td><td>RUNNING   </td><td>     </td><td style=\"text-align: right;\">                              0.6</td><td style=\"text-align: right;\">                      0</td><td style=\"text-align: right;\">                    0.00372102</td><td style=\"text-align: right;\">                         7</td><td style=\"text-align: right;\">                         0.409123</td><td style=\"text-align: right;\">                           97</td><td style=\"text-align: right;\">      </td><td style=\"text-align: right;\">                </td></tr>\n",
       "<tr><td>e2e_seg_00003</td><td>RUNNING   </td><td>     </td><td style=\"text-align: right;\">                              0.6</td><td style=\"text-align: right;\">                      1</td><td style=\"text-align: right;\">                    0.00773461</td><td style=\"text-align: right;\">                         2</td><td style=\"text-align: right;\">                        19.8539  </td><td style=\"text-align: right;\">                          158</td><td style=\"text-align: right;\">      </td><td style=\"text-align: right;\">                </td></tr>\n",
       "<tr><td>e2e_seg_00004</td><td>RUNNING   </td><td>     </td><td style=\"text-align: right;\">                              0.8</td><td style=\"text-align: right;\">                      0</td><td style=\"text-align: right;\">                    0.00691101</td><td style=\"text-align: right;\">                         9</td><td style=\"text-align: right;\">                         0.159167</td><td style=\"text-align: right;\">                           52</td><td style=\"text-align: right;\">      </td><td style=\"text-align: right;\">                </td></tr>\n",
       "<tr><td>e2e_seg_00005</td><td>TERMINATED</td><td>     </td><td style=\"text-align: right;\">                              1  </td><td style=\"text-align: right;\">                      0</td><td style=\"text-align: right;\">                    0.0427273 </td><td style=\"text-align: right;\">                         1</td><td style=\"text-align: right;\">                         1.25305 </td><td style=\"text-align: right;\">                          176</td><td style=\"text-align: right;\">     0</td><td style=\"text-align: right;\">         21.7589</td></tr>\n",
       "<tr><td>e2e_seg_00006</td><td>PENDING   </td><td>     </td><td style=\"text-align: right;\">                              0.8</td><td style=\"text-align: right;\">                      0</td><td style=\"text-align: right;\">                    0.156161  </td><td style=\"text-align: right;\">                         6</td><td style=\"text-align: right;\">                        10.3762  </td><td style=\"text-align: right;\">                          156</td><td style=\"text-align: right;\">      </td><td style=\"text-align: right;\">                </td></tr>\n",
       "<tr><td>e2e_seg_00007</td><td>PENDING   </td><td>     </td><td style=\"text-align: right;\">                              0.4</td><td style=\"text-align: right;\">                      1</td><td style=\"text-align: right;\">                    0.0210836 </td><td style=\"text-align: right;\">                         8</td><td style=\"text-align: right;\">                         0.251113</td><td style=\"text-align: right;\">                           70</td><td style=\"text-align: right;\">      </td><td style=\"text-align: right;\">                </td></tr>\n",
       "<tr><td>e2e_seg_00008</td><td>PENDING   </td><td>     </td><td style=\"text-align: right;\">                              0.6</td><td style=\"text-align: right;\">                      0</td><td style=\"text-align: right;\">                    0.00885029</td><td style=\"text-align: right;\">                         9</td><td style=\"text-align: right;\">                        31.5247  </td><td style=\"text-align: right;\">                           60</td><td style=\"text-align: right;\">      </td><td style=\"text-align: right;\">                </td></tr>\n",
       "<tr><td>e2e_seg_00009</td><td>PENDING   </td><td>     </td><td style=\"text-align: right;\">                              1  </td><td style=\"text-align: right;\">                      1</td><td style=\"text-align: right;\">                    0.19242   </td><td style=\"text-align: right;\">                         8</td><td style=\"text-align: right;\">                        13.3125  </td><td style=\"text-align: right;\">                           95</td><td style=\"text-align: right;\">      </td><td style=\"text-align: right;\">                </td></tr>\n",
       "</tbody>\n",
       "</table><br><br>"
      ],
      "text/plain": [
       "<IPython.core.display.HTML object>"
      ]
     },
     "metadata": {},
     "output_type": "display_data"
    },
    {
     "name": "stdout",
     "output_type": "stream",
     "text": [
      "\u001b[2m\u001b[36m(pid=59578)\u001b[0m 2020-06-11 12:46:09,353\tINFO trainable.py:217 -- Getting current IP.\n"
     ]
    },
    {
     "name": "stderr",
     "output_type": "stream",
     "text": [
      "2020-06-11 12:46:09,659\tINFO logger.py:269 -- Removed the following hyperparameter values when logging to tensorboard: {'xgbclassifier__lambda': 1}\n"
     ]
    },
    {
     "name": "stdout",
     "output_type": "stream",
     "text": [
      "Result for e2e_seg_00003:\n",
      "  date: 2020-06-11_12-46-09\n",
      "  done: true\n",
      "  experiment_id: 8ae2e2d024b74e27b260e2a21ff4b545\n",
      "  experiment_tag: 3_xgbclassifier__colsample_bytree=0.6,xgbclassifier__lambda=1,xgbclassifier__learning_rate=0.0077346,xgbclassifier__max_depth=2,xgbclassifier__min_child_weight=19.854,xgbclassifier__n_estimators=158\n",
      "  hostname: cosmos-ml\n",
      "  iterations_since_restore: 1\n",
      "  mean_f1_score: 0.5332182388635156\n",
      "  node_ip: 192.168.1.39\n",
      "  pid: 59337\n",
      "  std_f1_score: 0.074432471733868\n",
      "  time_since_restore: 23.18818974494934\n",
      "  time_this_iter_s: 23.18818974494934\n",
      "  time_total_s: 23.18818974494934\n",
      "  timestamp: 1591875969\n",
      "  timesteps_since_restore: 0\n",
      "  training_iteration: 0\n",
      "  trial_id: '00003'\n",
      "  \n",
      "\u001b[2m\u001b[36m(pid=59592)\u001b[0m 2020-06-11 12:46:10,636\tINFO trainable.py:217 -- Getting current IP.\n"
     ]
    },
    {
     "name": "stderr",
     "output_type": "stream",
     "text": [
      "2020-06-11 12:46:30,310\tINFO logger.py:269 -- Removed the following hyperparameter values when logging to tensorboard: {'xgbclassifier__lambda': 0}\n"
     ]
    },
    {
     "name": "stdout",
     "output_type": "stream",
     "text": [
      "Result for e2e_seg_00000:\n",
      "  date: 2020-06-11_12-46-30\n",
      "  done: true\n",
      "  experiment_id: f0a2fe7924c74189a5158bbd619ea93c\n",
      "  experiment_tag: 0_xgbclassifier__colsample_bytree=0.8,xgbclassifier__lambda=0,xgbclassifier__learning_rate=0.013394,xgbclassifier__max_depth=6,xgbclassifier__min_child_weight=49.016,xgbclassifier__n_estimators=103\n",
      "  hostname: cosmos-ml\n",
      "  iterations_since_restore: 1\n",
      "  mean_f1_score: 0.5222612565986864\n",
      "  node_ip: 192.168.1.39\n",
      "  pid: 59339\n",
      "  std_f1_score: 0.10642663312000121\n",
      "  time_since_restore: 43.662237882614136\n",
      "  time_this_iter_s: 43.662237882614136\n",
      "  time_total_s: 43.662237882614136\n",
      "  timestamp: 1591875990\n",
      "  timesteps_since_restore: 0\n",
      "  training_iteration: 0\n",
      "  trial_id: '00000'\n",
      "  \n"
     ]
    },
    {
     "data": {
      "text/html": [
       "== Status ==<br>Memory usage on this node: 6.7/62.8 GiB<br>Using FIFO scheduling algorithm.<br>Resources requested: 5/6 CPUs, 0/0 GPUs, 0.0/34.86 GiB heap, 0.0/12.01 GiB objects<br>Result logdir: /home/steve/ray_results/seg_facies/e2e_seg<br>Number of trials: 10 (2 PENDING, 5 RUNNING, 3 TERMINATED)<br><table>\n",
       "<thead>\n",
       "<tr><th>Trial name   </th><th>status    </th><th>loc  </th><th style=\"text-align: right;\">  xgbclassifier__colsample_bytree</th><th style=\"text-align: right;\">  xgbclassifier__lambda</th><th style=\"text-align: right;\">  xgbclassifier__learning_rate</th><th style=\"text-align: right;\">  xgbclassifier__max_depth</th><th style=\"text-align: right;\">  xgbclassifier__min_child_weight</th><th style=\"text-align: right;\">  xgbclassifier__n_estimators</th><th style=\"text-align: right;\">  iter</th><th style=\"text-align: right;\">  total time (s)</th></tr>\n",
       "</thead>\n",
       "<tbody>\n",
       "<tr><td>e2e_seg_00000</td><td>TERMINATED</td><td>     </td><td style=\"text-align: right;\">                              0.8</td><td style=\"text-align: right;\">                      0</td><td style=\"text-align: right;\">                    0.0133942 </td><td style=\"text-align: right;\">                         6</td><td style=\"text-align: right;\">                        49.0161  </td><td style=\"text-align: right;\">                          103</td><td style=\"text-align: right;\">     0</td><td style=\"text-align: right;\">         43.6622</td></tr>\n",
       "<tr><td>e2e_seg_00001</td><td>RUNNING   </td><td>     </td><td style=\"text-align: right;\">                              0.6</td><td style=\"text-align: right;\">                      0</td><td style=\"text-align: right;\">                    0.316682  </td><td style=\"text-align: right;\">                         9</td><td style=\"text-align: right;\">                         0.943907</td><td style=\"text-align: right;\">                          124</td><td style=\"text-align: right;\">      </td><td style=\"text-align: right;\">                </td></tr>\n",
       "<tr><td>e2e_seg_00002</td><td>RUNNING   </td><td>     </td><td style=\"text-align: right;\">                              0.6</td><td style=\"text-align: right;\">                      0</td><td style=\"text-align: right;\">                    0.00372102</td><td style=\"text-align: right;\">                         7</td><td style=\"text-align: right;\">                         0.409123</td><td style=\"text-align: right;\">                           97</td><td style=\"text-align: right;\">      </td><td style=\"text-align: right;\">                </td></tr>\n",
       "<tr><td>e2e_seg_00003</td><td>TERMINATED</td><td>     </td><td style=\"text-align: right;\">                              0.6</td><td style=\"text-align: right;\">                      1</td><td style=\"text-align: right;\">                    0.00773461</td><td style=\"text-align: right;\">                         2</td><td style=\"text-align: right;\">                        19.8539  </td><td style=\"text-align: right;\">                          158</td><td style=\"text-align: right;\">     0</td><td style=\"text-align: right;\">         23.1882</td></tr>\n",
       "<tr><td>e2e_seg_00004</td><td>RUNNING   </td><td>     </td><td style=\"text-align: right;\">                              0.8</td><td style=\"text-align: right;\">                      0</td><td style=\"text-align: right;\">                    0.00691101</td><td style=\"text-align: right;\">                         9</td><td style=\"text-align: right;\">                         0.159167</td><td style=\"text-align: right;\">                           52</td><td style=\"text-align: right;\">      </td><td style=\"text-align: right;\">                </td></tr>\n",
       "<tr><td>e2e_seg_00005</td><td>TERMINATED</td><td>     </td><td style=\"text-align: right;\">                              1  </td><td style=\"text-align: right;\">                      0</td><td style=\"text-align: right;\">                    0.0427273 </td><td style=\"text-align: right;\">                         1</td><td style=\"text-align: right;\">                         1.25305 </td><td style=\"text-align: right;\">                          176</td><td style=\"text-align: right;\">     0</td><td style=\"text-align: right;\">         21.7589</td></tr>\n",
       "<tr><td>e2e_seg_00006</td><td>RUNNING   </td><td>     </td><td style=\"text-align: right;\">                              0.8</td><td style=\"text-align: right;\">                      0</td><td style=\"text-align: right;\">                    0.156161  </td><td style=\"text-align: right;\">                         6</td><td style=\"text-align: right;\">                        10.3762  </td><td style=\"text-align: right;\">                          156</td><td style=\"text-align: right;\">      </td><td style=\"text-align: right;\">                </td></tr>\n",
       "<tr><td>e2e_seg_00007</td><td>RUNNING   </td><td>     </td><td style=\"text-align: right;\">                              0.4</td><td style=\"text-align: right;\">                      1</td><td style=\"text-align: right;\">                    0.0210836 </td><td style=\"text-align: right;\">                         8</td><td style=\"text-align: right;\">                         0.251113</td><td style=\"text-align: right;\">                           70</td><td style=\"text-align: right;\">      </td><td style=\"text-align: right;\">                </td></tr>\n",
       "<tr><td>e2e_seg_00008</td><td>PENDING   </td><td>     </td><td style=\"text-align: right;\">                              0.6</td><td style=\"text-align: right;\">                      0</td><td style=\"text-align: right;\">                    0.00885029</td><td style=\"text-align: right;\">                         9</td><td style=\"text-align: right;\">                        31.5247  </td><td style=\"text-align: right;\">                           60</td><td style=\"text-align: right;\">      </td><td style=\"text-align: right;\">                </td></tr>\n",
       "<tr><td>e2e_seg_00009</td><td>PENDING   </td><td>     </td><td style=\"text-align: right;\">                              1  </td><td style=\"text-align: right;\">                      1</td><td style=\"text-align: right;\">                    0.19242   </td><td style=\"text-align: right;\">                         8</td><td style=\"text-align: right;\">                        13.3125  </td><td style=\"text-align: right;\">                           95</td><td style=\"text-align: right;\">      </td><td style=\"text-align: right;\">                </td></tr>\n",
       "</tbody>\n",
       "</table><br><br>"
      ],
      "text/plain": [
       "<IPython.core.display.HTML object>"
      ]
     },
     "metadata": {},
     "output_type": "display_data"
    },
    {
     "name": "stdout",
     "output_type": "stream",
     "text": [
      "\u001b[2m\u001b[36m(pid=59623)\u001b[0m 2020-06-11 12:46:31,266\tINFO trainable.py:217 -- Getting current IP.\n"
     ]
    },
    {
     "name": "stderr",
     "output_type": "stream",
     "text": [
      "2020-06-11 12:46:34,698\tINFO logger.py:269 -- Removed the following hyperparameter values when logging to tensorboard: {'xgbclassifier__lambda': 0}\n"
     ]
    },
    {
     "name": "stdout",
     "output_type": "stream",
     "text": [
      "Result for e2e_seg_00004:\n",
      "  date: 2020-06-11_12-46-34\n",
      "  done: true\n",
      "  experiment_id: 44dfe17ee87a4ba7bf8f5e97eaa82804\n",
      "  experiment_tag: 4_xgbclassifier__colsample_bytree=0.8,xgbclassifier__lambda=0,xgbclassifier__learning_rate=0.006911,xgbclassifier__max_depth=9,xgbclassifier__min_child_weight=0.15917,xgbclassifier__n_estimators=52\n",
      "  hostname: cosmos-ml\n",
      "  iterations_since_restore: 1\n",
      "  mean_f1_score: 0.5614708010738226\n",
      "  node_ip: 192.168.1.39\n",
      "  pid: 59335\n",
      "  std_f1_score: 0.10356880677307902\n",
      "  time_since_restore: 48.17151212692261\n",
      "  time_this_iter_s: 48.17151212692261\n",
      "  time_total_s: 48.17151212692261\n",
      "  timestamp: 1591875994\n",
      "  timesteps_since_restore: 0\n",
      "  training_iteration: 0\n",
      "  trial_id: '00004'\n",
      "  \n"
     ]
    },
    {
     "name": "stderr",
     "output_type": "stream",
     "text": [
      "2020-06-11 12:46:35,258\tINFO logger.py:269 -- Removed the following hyperparameter values when logging to tensorboard: {'xgbclassifier__lambda': 0}\n"
     ]
    },
    {
     "name": "stdout",
     "output_type": "stream",
     "text": [
      "Result for e2e_seg_00001:\n",
      "  date: 2020-06-11_12-46-35\n",
      "  done: true\n",
      "  experiment_id: 1590a70c985f4456815152ddf83cbb1e\n",
      "  experiment_tag: 1_xgbclassifier__colsample_bytree=0.6,xgbclassifier__lambda=0,xgbclassifier__learning_rate=0.31668,xgbclassifier__max_depth=9,xgbclassifier__min_child_weight=0.94391,xgbclassifier__n_estimators=124\n",
      "  hostname: cosmos-ml\n",
      "  iterations_since_restore: 1\n",
      "  mean_f1_score: 0.5797599446262108\n",
      "  node_ip: 192.168.1.39\n",
      "  pid: 59340\n",
      "  std_f1_score: 0.09851287122332977\n",
      "  time_since_restore: 48.730149269104004\n",
      "  time_this_iter_s: 48.730149269104004\n",
      "  time_total_s: 48.730149269104004\n",
      "  timestamp: 1591875995\n",
      "  timesteps_since_restore: 0\n",
      "  training_iteration: 0\n",
      "  trial_id: '00001'\n",
      "  \n",
      "\u001b[2m\u001b[36m(pid=59637)\u001b[0m 2020-06-11 12:46:35,656\tINFO trainable.py:217 -- Getting current IP.\n"
     ]
    },
    {
     "name": "stderr",
     "output_type": "stream",
     "text": [
      "2020-06-11 12:46:40,335\tINFO logger.py:269 -- Removed the following hyperparameter values when logging to tensorboard: {'xgbclassifier__lambda': 0}\n"
     ]
    },
    {
     "name": "stdout",
     "output_type": "stream",
     "text": [
      "Result for e2e_seg_00002:\n",
      "  date: 2020-06-11_12-46-40\n",
      "  done: true\n",
      "  experiment_id: 9486fd3ffc4449bfa51f28526cf82953\n",
      "  experiment_tag: 2_xgbclassifier__colsample_bytree=0.6,xgbclassifier__lambda=0,xgbclassifier__learning_rate=0.003721,xgbclassifier__max_depth=7,xgbclassifier__min_child_weight=0.40912,xgbclassifier__n_estimators=97\n",
      "  hostname: cosmos-ml\n",
      "  iterations_since_restore: 1\n",
      "  mean_f1_score: 0.5778618929096856\n",
      "  node_ip: 192.168.1.39\n",
      "  pid: 59336\n",
      "  std_f1_score: 0.09730207614028051\n",
      "  time_since_restore: 53.67314577102661\n",
      "  time_this_iter_s: 53.67314577102661\n",
      "  time_total_s: 53.67314577102661\n",
      "  timestamp: 1591876000\n",
      "  timesteps_since_restore: 0\n",
      "  training_iteration: 0\n",
      "  trial_id: '00002'\n",
      "  \n"
     ]
    },
    {
     "data": {
      "text/html": [
       "== Status ==<br>Memory usage on this node: 6.6/62.8 GiB<br>Using FIFO scheduling algorithm.<br>Resources requested: 4/6 CPUs, 0/0 GPUs, 0.0/34.86 GiB heap, 0.0/12.01 GiB objects<br>Result logdir: /home/steve/ray_results/seg_facies/e2e_seg<br>Number of trials: 10 (4 RUNNING, 6 TERMINATED)<br><table>\n",
       "<thead>\n",
       "<tr><th>Trial name   </th><th>status    </th><th>loc  </th><th style=\"text-align: right;\">  xgbclassifier__colsample_bytree</th><th style=\"text-align: right;\">  xgbclassifier__lambda</th><th style=\"text-align: right;\">  xgbclassifier__learning_rate</th><th style=\"text-align: right;\">  xgbclassifier__max_depth</th><th style=\"text-align: right;\">  xgbclassifier__min_child_weight</th><th style=\"text-align: right;\">  xgbclassifier__n_estimators</th><th style=\"text-align: right;\">  iter</th><th style=\"text-align: right;\">  total time (s)</th></tr>\n",
       "</thead>\n",
       "<tbody>\n",
       "<tr><td>e2e_seg_00000</td><td>TERMINATED</td><td>     </td><td style=\"text-align: right;\">                              0.8</td><td style=\"text-align: right;\">                      0</td><td style=\"text-align: right;\">                    0.0133942 </td><td style=\"text-align: right;\">                         6</td><td style=\"text-align: right;\">                        49.0161  </td><td style=\"text-align: right;\">                          103</td><td style=\"text-align: right;\">     0</td><td style=\"text-align: right;\">         43.6622</td></tr>\n",
       "<tr><td>e2e_seg_00001</td><td>TERMINATED</td><td>     </td><td style=\"text-align: right;\">                              0.6</td><td style=\"text-align: right;\">                      0</td><td style=\"text-align: right;\">                    0.316682  </td><td style=\"text-align: right;\">                         9</td><td style=\"text-align: right;\">                         0.943907</td><td style=\"text-align: right;\">                          124</td><td style=\"text-align: right;\">     0</td><td style=\"text-align: right;\">         48.7301</td></tr>\n",
       "<tr><td>e2e_seg_00002</td><td>TERMINATED</td><td>     </td><td style=\"text-align: right;\">                              0.6</td><td style=\"text-align: right;\">                      0</td><td style=\"text-align: right;\">                    0.00372102</td><td style=\"text-align: right;\">                         7</td><td style=\"text-align: right;\">                         0.409123</td><td style=\"text-align: right;\">                           97</td><td style=\"text-align: right;\">     0</td><td style=\"text-align: right;\">         53.6731</td></tr>\n",
       "<tr><td>e2e_seg_00003</td><td>TERMINATED</td><td>     </td><td style=\"text-align: right;\">                              0.6</td><td style=\"text-align: right;\">                      1</td><td style=\"text-align: right;\">                    0.00773461</td><td style=\"text-align: right;\">                         2</td><td style=\"text-align: right;\">                        19.8539  </td><td style=\"text-align: right;\">                          158</td><td style=\"text-align: right;\">     0</td><td style=\"text-align: right;\">         23.1882</td></tr>\n",
       "<tr><td>e2e_seg_00004</td><td>TERMINATED</td><td>     </td><td style=\"text-align: right;\">                              0.8</td><td style=\"text-align: right;\">                      0</td><td style=\"text-align: right;\">                    0.00691101</td><td style=\"text-align: right;\">                         9</td><td style=\"text-align: right;\">                         0.159167</td><td style=\"text-align: right;\">                           52</td><td style=\"text-align: right;\">     0</td><td style=\"text-align: right;\">         48.1715</td></tr>\n",
       "<tr><td>e2e_seg_00005</td><td>TERMINATED</td><td>     </td><td style=\"text-align: right;\">                              1  </td><td style=\"text-align: right;\">                      0</td><td style=\"text-align: right;\">                    0.0427273 </td><td style=\"text-align: right;\">                         1</td><td style=\"text-align: right;\">                         1.25305 </td><td style=\"text-align: right;\">                          176</td><td style=\"text-align: right;\">     0</td><td style=\"text-align: right;\">         21.7589</td></tr>\n",
       "<tr><td>e2e_seg_00006</td><td>RUNNING   </td><td>     </td><td style=\"text-align: right;\">                              0.8</td><td style=\"text-align: right;\">                      0</td><td style=\"text-align: right;\">                    0.156161  </td><td style=\"text-align: right;\">                         6</td><td style=\"text-align: right;\">                        10.3762  </td><td style=\"text-align: right;\">                          156</td><td style=\"text-align: right;\">      </td><td style=\"text-align: right;\">                </td></tr>\n",
       "<tr><td>e2e_seg_00007</td><td>RUNNING   </td><td>     </td><td style=\"text-align: right;\">                              0.4</td><td style=\"text-align: right;\">                      1</td><td style=\"text-align: right;\">                    0.0210836 </td><td style=\"text-align: right;\">                         8</td><td style=\"text-align: right;\">                         0.251113</td><td style=\"text-align: right;\">                           70</td><td style=\"text-align: right;\">      </td><td style=\"text-align: right;\">                </td></tr>\n",
       "<tr><td>e2e_seg_00008</td><td>RUNNING   </td><td>     </td><td style=\"text-align: right;\">                              0.6</td><td style=\"text-align: right;\">                      0</td><td style=\"text-align: right;\">                    0.00885029</td><td style=\"text-align: right;\">                         9</td><td style=\"text-align: right;\">                        31.5247  </td><td style=\"text-align: right;\">                           60</td><td style=\"text-align: right;\">      </td><td style=\"text-align: right;\">                </td></tr>\n",
       "<tr><td>e2e_seg_00009</td><td>RUNNING   </td><td>     </td><td style=\"text-align: right;\">                              1  </td><td style=\"text-align: right;\">                      1</td><td style=\"text-align: right;\">                    0.19242   </td><td style=\"text-align: right;\">                         8</td><td style=\"text-align: right;\">                        13.3125  </td><td style=\"text-align: right;\">                           95</td><td style=\"text-align: right;\">      </td><td style=\"text-align: right;\">                </td></tr>\n",
       "</tbody>\n",
       "</table><br><br>"
      ],
      "text/plain": [
       "<IPython.core.display.HTML object>"
      ]
     },
     "metadata": {},
     "output_type": "display_data"
    },
    {
     "name": "stderr",
     "output_type": "stream",
     "text": [
      "2020-06-11 12:46:40,611\tINFO logger.py:269 -- Removed the following hyperparameter values when logging to tensorboard: {'xgbclassifier__lambda': 1}\n"
     ]
    },
    {
     "name": "stdout",
     "output_type": "stream",
     "text": [
      "Result for e2e_seg_00007:\n",
      "  date: 2020-06-11_12-46-40\n",
      "  done: true\n",
      "  experiment_id: 52ef724021204641a66a3d36107ebef9\n",
      "  experiment_tag: 7_xgbclassifier__colsample_bytree=0.4,xgbclassifier__lambda=1,xgbclassifier__learning_rate=0.021084,xgbclassifier__max_depth=8,xgbclassifier__min_child_weight=0.25111,xgbclassifier__n_estimators=70\n",
      "  hostname: cosmos-ml\n",
      "  iterations_since_restore: 1\n",
      "  mean_f1_score: 0.5754231586868486\n",
      "  node_ip: 192.168.1.39\n",
      "  pid: 59592\n",
      "  std_f1_score: 0.09908024715358979\n",
      "  time_since_restore: 29.940154552459717\n",
      "  time_this_iter_s: 29.940154552459717\n",
      "  time_total_s: 29.940154552459717\n",
      "  timestamp: 1591876000\n",
      "  timesteps_since_restore: 0\n",
      "  training_iteration: 0\n",
      "  trial_id: '00007'\n",
      "  \n"
     ]
    },
    {
     "name": "stderr",
     "output_type": "stream",
     "text": [
      "2020-06-11 12:46:57,921\tINFO logger.py:269 -- Removed the following hyperparameter values when logging to tensorboard: {'xgbclassifier__lambda': 0}\n"
     ]
    },
    {
     "name": "stdout",
     "output_type": "stream",
     "text": [
      "Result for e2e_seg_00008:\n",
      "  date: 2020-06-11_12-46-57\n",
      "  done: true\n",
      "  experiment_id: 474be97f88c6451a87da23bb03f01ddf\n",
      "  experiment_tag: 8_xgbclassifier__colsample_bytree=0.6,xgbclassifier__lambda=0,xgbclassifier__learning_rate=0.0088503,xgbclassifier__max_depth=9,xgbclassifier__min_child_weight=31.525,xgbclassifier__n_estimators=60\n",
      "  hostname: cosmos-ml\n",
      "  iterations_since_restore: 1\n",
      "  mean_f1_score: 0.5285489571888021\n",
      "  node_ip: 192.168.1.39\n",
      "  pid: 59623\n",
      "  std_f1_score: 0.0822715127550726\n",
      "  time_since_restore: 26.62748622894287\n",
      "  time_this_iter_s: 26.62748622894287\n",
      "  time_total_s: 26.62748622894287\n",
      "  timestamp: 1591876017\n",
      "  timesteps_since_restore: 0\n",
      "  training_iteration: 0\n",
      "  trial_id: 00008\n",
      "  \n"
     ]
    },
    {
     "data": {
      "text/html": [
       "== Status ==<br>Memory usage on this node: 6.3/62.8 GiB<br>Using FIFO scheduling algorithm.<br>Resources requested: 2/6 CPUs, 0/0 GPUs, 0.0/34.86 GiB heap, 0.0/12.01 GiB objects<br>Result logdir: /home/steve/ray_results/seg_facies/e2e_seg<br>Number of trials: 10 (2 RUNNING, 8 TERMINATED)<br><table>\n",
       "<thead>\n",
       "<tr><th>Trial name   </th><th>status    </th><th>loc  </th><th style=\"text-align: right;\">  xgbclassifier__colsample_bytree</th><th style=\"text-align: right;\">  xgbclassifier__lambda</th><th style=\"text-align: right;\">  xgbclassifier__learning_rate</th><th style=\"text-align: right;\">  xgbclassifier__max_depth</th><th style=\"text-align: right;\">  xgbclassifier__min_child_weight</th><th style=\"text-align: right;\">  xgbclassifier__n_estimators</th><th style=\"text-align: right;\">  iter</th><th style=\"text-align: right;\">  total time (s)</th></tr>\n",
       "</thead>\n",
       "<tbody>\n",
       "<tr><td>e2e_seg_00000</td><td>TERMINATED</td><td>     </td><td style=\"text-align: right;\">                              0.8</td><td style=\"text-align: right;\">                      0</td><td style=\"text-align: right;\">                    0.0133942 </td><td style=\"text-align: right;\">                         6</td><td style=\"text-align: right;\">                        49.0161  </td><td style=\"text-align: right;\">                          103</td><td style=\"text-align: right;\">     0</td><td style=\"text-align: right;\">         43.6622</td></tr>\n",
       "<tr><td>e2e_seg_00001</td><td>TERMINATED</td><td>     </td><td style=\"text-align: right;\">                              0.6</td><td style=\"text-align: right;\">                      0</td><td style=\"text-align: right;\">                    0.316682  </td><td style=\"text-align: right;\">                         9</td><td style=\"text-align: right;\">                         0.943907</td><td style=\"text-align: right;\">                          124</td><td style=\"text-align: right;\">     0</td><td style=\"text-align: right;\">         48.7301</td></tr>\n",
       "<tr><td>e2e_seg_00002</td><td>TERMINATED</td><td>     </td><td style=\"text-align: right;\">                              0.6</td><td style=\"text-align: right;\">                      0</td><td style=\"text-align: right;\">                    0.00372102</td><td style=\"text-align: right;\">                         7</td><td style=\"text-align: right;\">                         0.409123</td><td style=\"text-align: right;\">                           97</td><td style=\"text-align: right;\">     0</td><td style=\"text-align: right;\">         53.6731</td></tr>\n",
       "<tr><td>e2e_seg_00003</td><td>TERMINATED</td><td>     </td><td style=\"text-align: right;\">                              0.6</td><td style=\"text-align: right;\">                      1</td><td style=\"text-align: right;\">                    0.00773461</td><td style=\"text-align: right;\">                         2</td><td style=\"text-align: right;\">                        19.8539  </td><td style=\"text-align: right;\">                          158</td><td style=\"text-align: right;\">     0</td><td style=\"text-align: right;\">         23.1882</td></tr>\n",
       "<tr><td>e2e_seg_00004</td><td>TERMINATED</td><td>     </td><td style=\"text-align: right;\">                              0.8</td><td style=\"text-align: right;\">                      0</td><td style=\"text-align: right;\">                    0.00691101</td><td style=\"text-align: right;\">                         9</td><td style=\"text-align: right;\">                         0.159167</td><td style=\"text-align: right;\">                           52</td><td style=\"text-align: right;\">     0</td><td style=\"text-align: right;\">         48.1715</td></tr>\n",
       "<tr><td>e2e_seg_00005</td><td>TERMINATED</td><td>     </td><td style=\"text-align: right;\">                              1  </td><td style=\"text-align: right;\">                      0</td><td style=\"text-align: right;\">                    0.0427273 </td><td style=\"text-align: right;\">                         1</td><td style=\"text-align: right;\">                         1.25305 </td><td style=\"text-align: right;\">                          176</td><td style=\"text-align: right;\">     0</td><td style=\"text-align: right;\">         21.7589</td></tr>\n",
       "<tr><td>e2e_seg_00006</td><td>RUNNING   </td><td>     </td><td style=\"text-align: right;\">                              0.8</td><td style=\"text-align: right;\">                      0</td><td style=\"text-align: right;\">                    0.156161  </td><td style=\"text-align: right;\">                         6</td><td style=\"text-align: right;\">                        10.3762  </td><td style=\"text-align: right;\">                          156</td><td style=\"text-align: right;\">      </td><td style=\"text-align: right;\">                </td></tr>\n",
       "<tr><td>e2e_seg_00007</td><td>TERMINATED</td><td>     </td><td style=\"text-align: right;\">                              0.4</td><td style=\"text-align: right;\">                      1</td><td style=\"text-align: right;\">                    0.0210836 </td><td style=\"text-align: right;\">                         8</td><td style=\"text-align: right;\">                         0.251113</td><td style=\"text-align: right;\">                           70</td><td style=\"text-align: right;\">     0</td><td style=\"text-align: right;\">         29.9402</td></tr>\n",
       "<tr><td>e2e_seg_00008</td><td>TERMINATED</td><td>     </td><td style=\"text-align: right;\">                              0.6</td><td style=\"text-align: right;\">                      0</td><td style=\"text-align: right;\">                    0.00885029</td><td style=\"text-align: right;\">                         9</td><td style=\"text-align: right;\">                        31.5247  </td><td style=\"text-align: right;\">                           60</td><td style=\"text-align: right;\">     0</td><td style=\"text-align: right;\">         26.6275</td></tr>\n",
       "<tr><td>e2e_seg_00009</td><td>RUNNING   </td><td>     </td><td style=\"text-align: right;\">                              1  </td><td style=\"text-align: right;\">                      1</td><td style=\"text-align: right;\">                    0.19242   </td><td style=\"text-align: right;\">                         8</td><td style=\"text-align: right;\">                        13.3125  </td><td style=\"text-align: right;\">                           95</td><td style=\"text-align: right;\">      </td><td style=\"text-align: right;\">                </td></tr>\n",
       "</tbody>\n",
       "</table><br><br>"
      ],
      "text/plain": [
       "<IPython.core.display.HTML object>"
      ]
     },
     "metadata": {},
     "output_type": "display_data"
    },
    {
     "name": "stderr",
     "output_type": "stream",
     "text": [
      "2020-06-11 12:47:17,549\tINFO logger.py:269 -- Removed the following hyperparameter values when logging to tensorboard: {'xgbclassifier__lambda': 0}\n"
     ]
    },
    {
     "name": "stdout",
     "output_type": "stream",
     "text": [
      "Result for e2e_seg_00006:\n",
      "  date: 2020-06-11_12-47-17\n",
      "  done: true\n",
      "  experiment_id: f16d3ef915814c37994cfd3218afd209\n",
      "  experiment_tag: 6_xgbclassifier__colsample_bytree=0.8,xgbclassifier__lambda=0,xgbclassifier__learning_rate=0.15616,xgbclassifier__max_depth=6,xgbclassifier__min_child_weight=10.376,xgbclassifier__n_estimators=156\n",
      "  hostname: cosmos-ml\n",
      "  iterations_since_restore: 1\n",
      "  mean_f1_score: 0.5765884943737118\n",
      "  node_ip: 192.168.1.39\n",
      "  pid: 59578\n",
      "  std_f1_score: 0.09334620978966841\n",
      "  time_since_restore: 68.17421627044678\n",
      "  time_this_iter_s: 68.17421627044678\n",
      "  time_total_s: 68.17421627044678\n",
      "  timestamp: 1591876037\n",
      "  timesteps_since_restore: 0\n",
      "  training_iteration: 0\n",
      "  trial_id: '00006'\n",
      "  \n"
     ]
    },
    {
     "data": {
      "text/html": [
       "== Status ==<br>Memory usage on this node: 6.3/62.8 GiB<br>Using FIFO scheduling algorithm.<br>Resources requested: 1/6 CPUs, 0/0 GPUs, 0.0/34.86 GiB heap, 0.0/12.01 GiB objects<br>Result logdir: /home/steve/ray_results/seg_facies/e2e_seg<br>Number of trials: 10 (1 RUNNING, 9 TERMINATED)<br><table>\n",
       "<thead>\n",
       "<tr><th>Trial name   </th><th>status    </th><th>loc  </th><th style=\"text-align: right;\">  xgbclassifier__colsample_bytree</th><th style=\"text-align: right;\">  xgbclassifier__lambda</th><th style=\"text-align: right;\">  xgbclassifier__learning_rate</th><th style=\"text-align: right;\">  xgbclassifier__max_depth</th><th style=\"text-align: right;\">  xgbclassifier__min_child_weight</th><th style=\"text-align: right;\">  xgbclassifier__n_estimators</th><th style=\"text-align: right;\">  iter</th><th style=\"text-align: right;\">  total time (s)</th></tr>\n",
       "</thead>\n",
       "<tbody>\n",
       "<tr><td>e2e_seg_00000</td><td>TERMINATED</td><td>     </td><td style=\"text-align: right;\">                              0.8</td><td style=\"text-align: right;\">                      0</td><td style=\"text-align: right;\">                    0.0133942 </td><td style=\"text-align: right;\">                         6</td><td style=\"text-align: right;\">                        49.0161  </td><td style=\"text-align: right;\">                          103</td><td style=\"text-align: right;\">     0</td><td style=\"text-align: right;\">         43.6622</td></tr>\n",
       "<tr><td>e2e_seg_00001</td><td>TERMINATED</td><td>     </td><td style=\"text-align: right;\">                              0.6</td><td style=\"text-align: right;\">                      0</td><td style=\"text-align: right;\">                    0.316682  </td><td style=\"text-align: right;\">                         9</td><td style=\"text-align: right;\">                         0.943907</td><td style=\"text-align: right;\">                          124</td><td style=\"text-align: right;\">     0</td><td style=\"text-align: right;\">         48.7301</td></tr>\n",
       "<tr><td>e2e_seg_00002</td><td>TERMINATED</td><td>     </td><td style=\"text-align: right;\">                              0.6</td><td style=\"text-align: right;\">                      0</td><td style=\"text-align: right;\">                    0.00372102</td><td style=\"text-align: right;\">                         7</td><td style=\"text-align: right;\">                         0.409123</td><td style=\"text-align: right;\">                           97</td><td style=\"text-align: right;\">     0</td><td style=\"text-align: right;\">         53.6731</td></tr>\n",
       "<tr><td>e2e_seg_00003</td><td>TERMINATED</td><td>     </td><td style=\"text-align: right;\">                              0.6</td><td style=\"text-align: right;\">                      1</td><td style=\"text-align: right;\">                    0.00773461</td><td style=\"text-align: right;\">                         2</td><td style=\"text-align: right;\">                        19.8539  </td><td style=\"text-align: right;\">                          158</td><td style=\"text-align: right;\">     0</td><td style=\"text-align: right;\">         23.1882</td></tr>\n",
       "<tr><td>e2e_seg_00004</td><td>TERMINATED</td><td>     </td><td style=\"text-align: right;\">                              0.8</td><td style=\"text-align: right;\">                      0</td><td style=\"text-align: right;\">                    0.00691101</td><td style=\"text-align: right;\">                         9</td><td style=\"text-align: right;\">                         0.159167</td><td style=\"text-align: right;\">                           52</td><td style=\"text-align: right;\">     0</td><td style=\"text-align: right;\">         48.1715</td></tr>\n",
       "<tr><td>e2e_seg_00005</td><td>TERMINATED</td><td>     </td><td style=\"text-align: right;\">                              1  </td><td style=\"text-align: right;\">                      0</td><td style=\"text-align: right;\">                    0.0427273 </td><td style=\"text-align: right;\">                         1</td><td style=\"text-align: right;\">                         1.25305 </td><td style=\"text-align: right;\">                          176</td><td style=\"text-align: right;\">     0</td><td style=\"text-align: right;\">         21.7589</td></tr>\n",
       "<tr><td>e2e_seg_00006</td><td>TERMINATED</td><td>     </td><td style=\"text-align: right;\">                              0.8</td><td style=\"text-align: right;\">                      0</td><td style=\"text-align: right;\">                    0.156161  </td><td style=\"text-align: right;\">                         6</td><td style=\"text-align: right;\">                        10.3762  </td><td style=\"text-align: right;\">                          156</td><td style=\"text-align: right;\">     0</td><td style=\"text-align: right;\">         68.1742</td></tr>\n",
       "<tr><td>e2e_seg_00007</td><td>TERMINATED</td><td>     </td><td style=\"text-align: right;\">                              0.4</td><td style=\"text-align: right;\">                      1</td><td style=\"text-align: right;\">                    0.0210836 </td><td style=\"text-align: right;\">                         8</td><td style=\"text-align: right;\">                         0.251113</td><td style=\"text-align: right;\">                           70</td><td style=\"text-align: right;\">     0</td><td style=\"text-align: right;\">         29.9402</td></tr>\n",
       "<tr><td>e2e_seg_00008</td><td>TERMINATED</td><td>     </td><td style=\"text-align: right;\">                              0.6</td><td style=\"text-align: right;\">                      0</td><td style=\"text-align: right;\">                    0.00885029</td><td style=\"text-align: right;\">                         9</td><td style=\"text-align: right;\">                        31.5247  </td><td style=\"text-align: right;\">                           60</td><td style=\"text-align: right;\">     0</td><td style=\"text-align: right;\">         26.6275</td></tr>\n",
       "<tr><td>e2e_seg_00009</td><td>RUNNING   </td><td>     </td><td style=\"text-align: right;\">                              1  </td><td style=\"text-align: right;\">                      1</td><td style=\"text-align: right;\">                    0.19242   </td><td style=\"text-align: right;\">                         8</td><td style=\"text-align: right;\">                        13.3125  </td><td style=\"text-align: right;\">                           95</td><td style=\"text-align: right;\">      </td><td style=\"text-align: right;\">                </td></tr>\n",
       "</tbody>\n",
       "</table><br><br>"
      ],
      "text/plain": [
       "<IPython.core.display.HTML object>"
      ]
     },
     "metadata": {},
     "output_type": "display_data"
    },
    {
     "name": "stderr",
     "output_type": "stream",
     "text": [
      "2020-06-11 12:47:31,678\tINFO logger.py:269 -- Removed the following hyperparameter values when logging to tensorboard: {'xgbclassifier__lambda': 1}\n"
     ]
    },
    {
     "name": "stdout",
     "output_type": "stream",
     "text": [
      "Result for e2e_seg_00009:\n",
      "  date: 2020-06-11_12-47-31\n",
      "  done: true\n",
      "  experiment_id: 1fb32bebca274b8e9fe5334684d3947d\n",
      "  experiment_tag: 9_xgbclassifier__colsample_bytree=1.0,xgbclassifier__lambda=1,xgbclassifier__learning_rate=0.19242,xgbclassifier__max_depth=8,xgbclassifier__min_child_weight=13.313,xgbclassifier__n_estimators=95\n",
      "  hostname: cosmos-ml\n",
      "  iterations_since_restore: 1\n",
      "  mean_f1_score: 0.5697257887826627\n",
      "  node_ip: 192.168.1.39\n",
      "  pid: 59637\n",
      "  std_f1_score: 0.08432330260295981\n",
      "  time_since_restore: 55.98304605484009\n",
      "  time_this_iter_s: 55.98304605484009\n",
      "  time_total_s: 55.98304605484009\n",
      "  timestamp: 1591876051\n",
      "  timesteps_since_restore: 0\n",
      "  training_iteration: 0\n",
      "  trial_id: 00009\n",
      "  \n"
     ]
    },
    {
     "data": {
      "text/html": [
       "== Status ==<br>Memory usage on this node: 6.2/62.8 GiB<br>Using FIFO scheduling algorithm.<br>Resources requested: 0/6 CPUs, 0/0 GPUs, 0.0/34.86 GiB heap, 0.0/12.01 GiB objects<br>Result logdir: /home/steve/ray_results/seg_facies/e2e_seg<br>Number of trials: 10 (10 TERMINATED)<br><table>\n",
       "<thead>\n",
       "<tr><th>Trial name   </th><th>status    </th><th>loc  </th><th style=\"text-align: right;\">  xgbclassifier__colsample_bytree</th><th style=\"text-align: right;\">  xgbclassifier__lambda</th><th style=\"text-align: right;\">  xgbclassifier__learning_rate</th><th style=\"text-align: right;\">  xgbclassifier__max_depth</th><th style=\"text-align: right;\">  xgbclassifier__min_child_weight</th><th style=\"text-align: right;\">  xgbclassifier__n_estimators</th><th style=\"text-align: right;\">  iter</th><th style=\"text-align: right;\">  total time (s)</th></tr>\n",
       "</thead>\n",
       "<tbody>\n",
       "<tr><td>e2e_seg_00000</td><td>TERMINATED</td><td>     </td><td style=\"text-align: right;\">                              0.8</td><td style=\"text-align: right;\">                      0</td><td style=\"text-align: right;\">                    0.0133942 </td><td style=\"text-align: right;\">                         6</td><td style=\"text-align: right;\">                        49.0161  </td><td style=\"text-align: right;\">                          103</td><td style=\"text-align: right;\">     0</td><td style=\"text-align: right;\">         43.6622</td></tr>\n",
       "<tr><td>e2e_seg_00001</td><td>TERMINATED</td><td>     </td><td style=\"text-align: right;\">                              0.6</td><td style=\"text-align: right;\">                      0</td><td style=\"text-align: right;\">                    0.316682  </td><td style=\"text-align: right;\">                         9</td><td style=\"text-align: right;\">                         0.943907</td><td style=\"text-align: right;\">                          124</td><td style=\"text-align: right;\">     0</td><td style=\"text-align: right;\">         48.7301</td></tr>\n",
       "<tr><td>e2e_seg_00002</td><td>TERMINATED</td><td>     </td><td style=\"text-align: right;\">                              0.6</td><td style=\"text-align: right;\">                      0</td><td style=\"text-align: right;\">                    0.00372102</td><td style=\"text-align: right;\">                         7</td><td style=\"text-align: right;\">                         0.409123</td><td style=\"text-align: right;\">                           97</td><td style=\"text-align: right;\">     0</td><td style=\"text-align: right;\">         53.6731</td></tr>\n",
       "<tr><td>e2e_seg_00003</td><td>TERMINATED</td><td>     </td><td style=\"text-align: right;\">                              0.6</td><td style=\"text-align: right;\">                      1</td><td style=\"text-align: right;\">                    0.00773461</td><td style=\"text-align: right;\">                         2</td><td style=\"text-align: right;\">                        19.8539  </td><td style=\"text-align: right;\">                          158</td><td style=\"text-align: right;\">     0</td><td style=\"text-align: right;\">         23.1882</td></tr>\n",
       "<tr><td>e2e_seg_00004</td><td>TERMINATED</td><td>     </td><td style=\"text-align: right;\">                              0.8</td><td style=\"text-align: right;\">                      0</td><td style=\"text-align: right;\">                    0.00691101</td><td style=\"text-align: right;\">                         9</td><td style=\"text-align: right;\">                         0.159167</td><td style=\"text-align: right;\">                           52</td><td style=\"text-align: right;\">     0</td><td style=\"text-align: right;\">         48.1715</td></tr>\n",
       "<tr><td>e2e_seg_00005</td><td>TERMINATED</td><td>     </td><td style=\"text-align: right;\">                              1  </td><td style=\"text-align: right;\">                      0</td><td style=\"text-align: right;\">                    0.0427273 </td><td style=\"text-align: right;\">                         1</td><td style=\"text-align: right;\">                         1.25305 </td><td style=\"text-align: right;\">                          176</td><td style=\"text-align: right;\">     0</td><td style=\"text-align: right;\">         21.7589</td></tr>\n",
       "<tr><td>e2e_seg_00006</td><td>TERMINATED</td><td>     </td><td style=\"text-align: right;\">                              0.8</td><td style=\"text-align: right;\">                      0</td><td style=\"text-align: right;\">                    0.156161  </td><td style=\"text-align: right;\">                         6</td><td style=\"text-align: right;\">                        10.3762  </td><td style=\"text-align: right;\">                          156</td><td style=\"text-align: right;\">     0</td><td style=\"text-align: right;\">         68.1742</td></tr>\n",
       "<tr><td>e2e_seg_00007</td><td>TERMINATED</td><td>     </td><td style=\"text-align: right;\">                              0.4</td><td style=\"text-align: right;\">                      1</td><td style=\"text-align: right;\">                    0.0210836 </td><td style=\"text-align: right;\">                         8</td><td style=\"text-align: right;\">                         0.251113</td><td style=\"text-align: right;\">                           70</td><td style=\"text-align: right;\">     0</td><td style=\"text-align: right;\">         29.9402</td></tr>\n",
       "<tr><td>e2e_seg_00008</td><td>TERMINATED</td><td>     </td><td style=\"text-align: right;\">                              0.6</td><td style=\"text-align: right;\">                      0</td><td style=\"text-align: right;\">                    0.00885029</td><td style=\"text-align: right;\">                         9</td><td style=\"text-align: right;\">                        31.5247  </td><td style=\"text-align: right;\">                           60</td><td style=\"text-align: right;\">     0</td><td style=\"text-align: right;\">         26.6275</td></tr>\n",
       "<tr><td>e2e_seg_00009</td><td>TERMINATED</td><td>     </td><td style=\"text-align: right;\">                              1  </td><td style=\"text-align: right;\">                      1</td><td style=\"text-align: right;\">                    0.19242   </td><td style=\"text-align: right;\">                         8</td><td style=\"text-align: right;\">                        13.3125  </td><td style=\"text-align: right;\">                           95</td><td style=\"text-align: right;\">     0</td><td style=\"text-align: right;\">         55.983 </td></tr>\n",
       "</tbody>\n",
       "</table><br><br>"
      ],
      "text/plain": [
       "<IPython.core.display.HTML object>"
      ]
     },
     "metadata": {},
     "output_type": "display_data"
    },
    {
     "data": {
      "text/html": [
       "== Status ==<br>Memory usage on this node: 6.2/62.8 GiB<br>Using FIFO scheduling algorithm.<br>Resources requested: 0/6 CPUs, 0/0 GPUs, 0.0/34.86 GiB heap, 0.0/12.01 GiB objects<br>Result logdir: /home/steve/ray_results/seg_facies/e2e_seg<br>Number of trials: 10 (10 TERMINATED)<br><table>\n",
       "<thead>\n",
       "<tr><th>Trial name   </th><th>status    </th><th>loc  </th><th style=\"text-align: right;\">  xgbclassifier__colsample_bytree</th><th style=\"text-align: right;\">  xgbclassifier__lambda</th><th style=\"text-align: right;\">  xgbclassifier__learning_rate</th><th style=\"text-align: right;\">  xgbclassifier__max_depth</th><th style=\"text-align: right;\">  xgbclassifier__min_child_weight</th><th style=\"text-align: right;\">  xgbclassifier__n_estimators</th><th style=\"text-align: right;\">  iter</th><th style=\"text-align: right;\">  total time (s)</th></tr>\n",
       "</thead>\n",
       "<tbody>\n",
       "<tr><td>e2e_seg_00000</td><td>TERMINATED</td><td>     </td><td style=\"text-align: right;\">                              0.8</td><td style=\"text-align: right;\">                      0</td><td style=\"text-align: right;\">                    0.0133942 </td><td style=\"text-align: right;\">                         6</td><td style=\"text-align: right;\">                        49.0161  </td><td style=\"text-align: right;\">                          103</td><td style=\"text-align: right;\">     0</td><td style=\"text-align: right;\">         43.6622</td></tr>\n",
       "<tr><td>e2e_seg_00001</td><td>TERMINATED</td><td>     </td><td style=\"text-align: right;\">                              0.6</td><td style=\"text-align: right;\">                      0</td><td style=\"text-align: right;\">                    0.316682  </td><td style=\"text-align: right;\">                         9</td><td style=\"text-align: right;\">                         0.943907</td><td style=\"text-align: right;\">                          124</td><td style=\"text-align: right;\">     0</td><td style=\"text-align: right;\">         48.7301</td></tr>\n",
       "<tr><td>e2e_seg_00002</td><td>TERMINATED</td><td>     </td><td style=\"text-align: right;\">                              0.6</td><td style=\"text-align: right;\">                      0</td><td style=\"text-align: right;\">                    0.00372102</td><td style=\"text-align: right;\">                         7</td><td style=\"text-align: right;\">                         0.409123</td><td style=\"text-align: right;\">                           97</td><td style=\"text-align: right;\">     0</td><td style=\"text-align: right;\">         53.6731</td></tr>\n",
       "<tr><td>e2e_seg_00003</td><td>TERMINATED</td><td>     </td><td style=\"text-align: right;\">                              0.6</td><td style=\"text-align: right;\">                      1</td><td style=\"text-align: right;\">                    0.00773461</td><td style=\"text-align: right;\">                         2</td><td style=\"text-align: right;\">                        19.8539  </td><td style=\"text-align: right;\">                          158</td><td style=\"text-align: right;\">     0</td><td style=\"text-align: right;\">         23.1882</td></tr>\n",
       "<tr><td>e2e_seg_00004</td><td>TERMINATED</td><td>     </td><td style=\"text-align: right;\">                              0.8</td><td style=\"text-align: right;\">                      0</td><td style=\"text-align: right;\">                    0.00691101</td><td style=\"text-align: right;\">                         9</td><td style=\"text-align: right;\">                         0.159167</td><td style=\"text-align: right;\">                           52</td><td style=\"text-align: right;\">     0</td><td style=\"text-align: right;\">         48.1715</td></tr>\n",
       "<tr><td>e2e_seg_00005</td><td>TERMINATED</td><td>     </td><td style=\"text-align: right;\">                              1  </td><td style=\"text-align: right;\">                      0</td><td style=\"text-align: right;\">                    0.0427273 </td><td style=\"text-align: right;\">                         1</td><td style=\"text-align: right;\">                         1.25305 </td><td style=\"text-align: right;\">                          176</td><td style=\"text-align: right;\">     0</td><td style=\"text-align: right;\">         21.7589</td></tr>\n",
       "<tr><td>e2e_seg_00006</td><td>TERMINATED</td><td>     </td><td style=\"text-align: right;\">                              0.8</td><td style=\"text-align: right;\">                      0</td><td style=\"text-align: right;\">                    0.156161  </td><td style=\"text-align: right;\">                         6</td><td style=\"text-align: right;\">                        10.3762  </td><td style=\"text-align: right;\">                          156</td><td style=\"text-align: right;\">     0</td><td style=\"text-align: right;\">         68.1742</td></tr>\n",
       "<tr><td>e2e_seg_00007</td><td>TERMINATED</td><td>     </td><td style=\"text-align: right;\">                              0.4</td><td style=\"text-align: right;\">                      1</td><td style=\"text-align: right;\">                    0.0210836 </td><td style=\"text-align: right;\">                         8</td><td style=\"text-align: right;\">                         0.251113</td><td style=\"text-align: right;\">                           70</td><td style=\"text-align: right;\">     0</td><td style=\"text-align: right;\">         29.9402</td></tr>\n",
       "<tr><td>e2e_seg_00008</td><td>TERMINATED</td><td>     </td><td style=\"text-align: right;\">                              0.6</td><td style=\"text-align: right;\">                      0</td><td style=\"text-align: right;\">                    0.00885029</td><td style=\"text-align: right;\">                         9</td><td style=\"text-align: right;\">                        31.5247  </td><td style=\"text-align: right;\">                           60</td><td style=\"text-align: right;\">     0</td><td style=\"text-align: right;\">         26.6275</td></tr>\n",
       "<tr><td>e2e_seg_00009</td><td>TERMINATED</td><td>     </td><td style=\"text-align: right;\">                              1  </td><td style=\"text-align: right;\">                      1</td><td style=\"text-align: right;\">                    0.19242   </td><td style=\"text-align: right;\">                         8</td><td style=\"text-align: right;\">                        13.3125  </td><td style=\"text-align: right;\">                           95</td><td style=\"text-align: right;\">     0</td><td style=\"text-align: right;\">         55.983 </td></tr>\n",
       "</tbody>\n",
       "</table><br><br>"
      ],
      "text/plain": [
       "<IPython.core.display.HTML object>"
      ]
     },
     "metadata": {},
     "output_type": "display_data"
    }
   ],
   "source": [
    "filepath = path.abspath('../datasets/seg_2016_facies/la_team_5_data.h5py')\n",
    "\n",
    "# wrap our end to end function to inject our filepath\n",
    "def e2e_seg(config):\n",
    "    return e2e_train_and_test(config, filepath=filepath)\n",
    "\n",
    "analysis = tune.run(\n",
    "                e2e_seg,\n",
    "                config=ray_tuning_config,\n",
    "    \n",
    "                num_samples=10, # Specify the number of samples to make from (non grid) distributions\n",
    "    \n",
    "                resources_per_trial=dict(cpu=1, gpu=0),\n",
    "                \n",
    "                local_dir=\"~/ray_results/seg_facies\")"
   ]
  },
  {
   "cell_type": "code",
   "execution_count": 12,
   "metadata": {},
   "outputs": [
    {
     "name": "stdout",
     "output_type": "stream",
     "text": [
      "Best config: \n",
      "{'xgbclassifier__colsample_bytree': 0.6,\n",
      " 'xgbclassifier__lambda': 0,\n",
      " 'xgbclassifier__learning_rate': 0.31668235358328745,\n",
      " 'xgbclassifier__max_depth': 9,\n",
      " 'xgbclassifier__min_child_weight': 0.9439065152355695,\n",
      " 'xgbclassifier__n_estimators': 124,\n",
      " 'xgbclassifier__seed': 42}\n"
     ]
    }
   ],
   "source": [
    "from pprint import pprint\n",
    "print(\"Best config: \")\n",
    "pprint(analysis.get_best_config(metric=\"mean_f1_score\"))"
   ]
  },
  {
   "cell_type": "code",
   "execution_count": 13,
   "metadata": {},
   "outputs": [],
   "source": [
    "df = analysis.dataframe()\n",
    "top_n_df = df.nlargest(10, \"mean_f1_score\")"
   ]
  },
  {
   "cell_type": "code",
   "execution_count": 14,
   "metadata": {},
   "outputs": [
    {
     "data": {
      "text/html": [
       "<div>\n",
       "<style scoped>\n",
       "    .dataframe tbody tr th:only-of-type {\n",
       "        vertical-align: middle;\n",
       "    }\n",
       "\n",
       "    .dataframe tbody tr th {\n",
       "        vertical-align: top;\n",
       "    }\n",
       "\n",
       "    .dataframe thead th {\n",
       "        text-align: right;\n",
       "    }\n",
       "</style>\n",
       "<table border=\"1\" class=\"dataframe\">\n",
       "  <thead>\n",
       "    <tr style=\"text-align: right;\">\n",
       "      <th></th>\n",
       "      <th>mean_f1_score</th>\n",
       "      <th>std_f1_score</th>\n",
       "      <th>done</th>\n",
       "      <th>trial_id</th>\n",
       "      <th>training_iteration</th>\n",
       "      <th>time_this_iter_s</th>\n",
       "      <th>timesteps_total</th>\n",
       "      <th>episodes_total</th>\n",
       "      <th>experiment_id</th>\n",
       "      <th>date</th>\n",
       "      <th>...</th>\n",
       "      <th>iterations_since_restore</th>\n",
       "      <th>experiment_tag</th>\n",
       "      <th>config/xgbclassifier__colsample_bytree</th>\n",
       "      <th>config/xgbclassifier__lambda</th>\n",
       "      <th>config/xgbclassifier__learning_rate</th>\n",
       "      <th>config/xgbclassifier__max_depth</th>\n",
       "      <th>config/xgbclassifier__min_child_weight</th>\n",
       "      <th>config/xgbclassifier__n_estimators</th>\n",
       "      <th>config/xgbclassifier__seed</th>\n",
       "      <th>logdir</th>\n",
       "    </tr>\n",
       "  </thead>\n",
       "  <tbody>\n",
       "    <tr>\n",
       "      <th>1</th>\n",
       "      <td>0.579760</td>\n",
       "      <td>0.098513</td>\n",
       "      <td>True</td>\n",
       "      <td>1</td>\n",
       "      <td>0</td>\n",
       "      <td>48.730149</td>\n",
       "      <td>NaN</td>\n",
       "      <td>NaN</td>\n",
       "      <td>1590a70c985f4456815152ddf83cbb1e</td>\n",
       "      <td>2020-06-11_12-46-35</td>\n",
       "      <td>...</td>\n",
       "      <td>1</td>\n",
       "      <td>1_xgbclassifier__colsample_bytree=0.6,xgbclass...</td>\n",
       "      <td>0.6</td>\n",
       "      <td>0</td>\n",
       "      <td>0.316682</td>\n",
       "      <td>9</td>\n",
       "      <td>0.943907</td>\n",
       "      <td>124</td>\n",
       "      <td>42</td>\n",
       "      <td>/home/steve/ray_results/seg_facies/e2e_seg/e2e...</td>\n",
       "    </tr>\n",
       "    <tr>\n",
       "      <th>2</th>\n",
       "      <td>0.577862</td>\n",
       "      <td>0.097302</td>\n",
       "      <td>True</td>\n",
       "      <td>2</td>\n",
       "      <td>0</td>\n",
       "      <td>53.673146</td>\n",
       "      <td>NaN</td>\n",
       "      <td>NaN</td>\n",
       "      <td>9486fd3ffc4449bfa51f28526cf82953</td>\n",
       "      <td>2020-06-11_12-46-40</td>\n",
       "      <td>...</td>\n",
       "      <td>1</td>\n",
       "      <td>2_xgbclassifier__colsample_bytree=0.6,xgbclass...</td>\n",
       "      <td>0.6</td>\n",
       "      <td>0</td>\n",
       "      <td>0.003721</td>\n",
       "      <td>7</td>\n",
       "      <td>0.409123</td>\n",
       "      <td>97</td>\n",
       "      <td>42</td>\n",
       "      <td>/home/steve/ray_results/seg_facies/e2e_seg/e2e...</td>\n",
       "    </tr>\n",
       "    <tr>\n",
       "      <th>6</th>\n",
       "      <td>0.576588</td>\n",
       "      <td>0.093346</td>\n",
       "      <td>True</td>\n",
       "      <td>6</td>\n",
       "      <td>0</td>\n",
       "      <td>68.174216</td>\n",
       "      <td>NaN</td>\n",
       "      <td>NaN</td>\n",
       "      <td>f16d3ef915814c37994cfd3218afd209</td>\n",
       "      <td>2020-06-11_12-47-17</td>\n",
       "      <td>...</td>\n",
       "      <td>1</td>\n",
       "      <td>6_xgbclassifier__colsample_bytree=0.8,xgbclass...</td>\n",
       "      <td>0.8</td>\n",
       "      <td>0</td>\n",
       "      <td>0.156161</td>\n",
       "      <td>6</td>\n",
       "      <td>10.376203</td>\n",
       "      <td>156</td>\n",
       "      <td>42</td>\n",
       "      <td>/home/steve/ray_results/seg_facies/e2e_seg/e2e...</td>\n",
       "    </tr>\n",
       "    <tr>\n",
       "      <th>7</th>\n",
       "      <td>0.575423</td>\n",
       "      <td>0.099080</td>\n",
       "      <td>True</td>\n",
       "      <td>7</td>\n",
       "      <td>0</td>\n",
       "      <td>29.940155</td>\n",
       "      <td>NaN</td>\n",
       "      <td>NaN</td>\n",
       "      <td>52ef724021204641a66a3d36107ebef9</td>\n",
       "      <td>2020-06-11_12-46-40</td>\n",
       "      <td>...</td>\n",
       "      <td>1</td>\n",
       "      <td>7_xgbclassifier__colsample_bytree=0.4,xgbclass...</td>\n",
       "      <td>0.4</td>\n",
       "      <td>1</td>\n",
       "      <td>0.021084</td>\n",
       "      <td>8</td>\n",
       "      <td>0.251113</td>\n",
       "      <td>70</td>\n",
       "      <td>42</td>\n",
       "      <td>/home/steve/ray_results/seg_facies/e2e_seg/e2e...</td>\n",
       "    </tr>\n",
       "    <tr>\n",
       "      <th>9</th>\n",
       "      <td>0.569726</td>\n",
       "      <td>0.084323</td>\n",
       "      <td>True</td>\n",
       "      <td>9</td>\n",
       "      <td>0</td>\n",
       "      <td>55.983046</td>\n",
       "      <td>NaN</td>\n",
       "      <td>NaN</td>\n",
       "      <td>1fb32bebca274b8e9fe5334684d3947d</td>\n",
       "      <td>2020-06-11_12-47-31</td>\n",
       "      <td>...</td>\n",
       "      <td>1</td>\n",
       "      <td>9_xgbclassifier__colsample_bytree=1.0,xgbclass...</td>\n",
       "      <td>1.0</td>\n",
       "      <td>1</td>\n",
       "      <td>0.192420</td>\n",
       "      <td>8</td>\n",
       "      <td>13.312523</td>\n",
       "      <td>95</td>\n",
       "      <td>42</td>\n",
       "      <td>/home/steve/ray_results/seg_facies/e2e_seg/e2e...</td>\n",
       "    </tr>\n",
       "  </tbody>\n",
       "</table>\n",
       "<p>5 rows × 27 columns</p>\n",
       "</div>"
      ],
      "text/plain": [
       "   mean_f1_score  std_f1_score  done  trial_id  training_iteration  \\\n",
       "1       0.579760      0.098513  True         1                   0   \n",
       "2       0.577862      0.097302  True         2                   0   \n",
       "6       0.576588      0.093346  True         6                   0   \n",
       "7       0.575423      0.099080  True         7                   0   \n",
       "9       0.569726      0.084323  True         9                   0   \n",
       "\n",
       "   time_this_iter_s  timesteps_total  episodes_total  \\\n",
       "1         48.730149              NaN             NaN   \n",
       "2         53.673146              NaN             NaN   \n",
       "6         68.174216              NaN             NaN   \n",
       "7         29.940155              NaN             NaN   \n",
       "9         55.983046              NaN             NaN   \n",
       "\n",
       "                      experiment_id                 date  ...  \\\n",
       "1  1590a70c985f4456815152ddf83cbb1e  2020-06-11_12-46-35  ...   \n",
       "2  9486fd3ffc4449bfa51f28526cf82953  2020-06-11_12-46-40  ...   \n",
       "6  f16d3ef915814c37994cfd3218afd209  2020-06-11_12-47-17  ...   \n",
       "7  52ef724021204641a66a3d36107ebef9  2020-06-11_12-46-40  ...   \n",
       "9  1fb32bebca274b8e9fe5334684d3947d  2020-06-11_12-47-31  ...   \n",
       "\n",
       "   iterations_since_restore  \\\n",
       "1                         1   \n",
       "2                         1   \n",
       "6                         1   \n",
       "7                         1   \n",
       "9                         1   \n",
       "\n",
       "                                      experiment_tag  \\\n",
       "1  1_xgbclassifier__colsample_bytree=0.6,xgbclass...   \n",
       "2  2_xgbclassifier__colsample_bytree=0.6,xgbclass...   \n",
       "6  6_xgbclassifier__colsample_bytree=0.8,xgbclass...   \n",
       "7  7_xgbclassifier__colsample_bytree=0.4,xgbclass...   \n",
       "9  9_xgbclassifier__colsample_bytree=1.0,xgbclass...   \n",
       "\n",
       "   config/xgbclassifier__colsample_bytree config/xgbclassifier__lambda  \\\n",
       "1                                     0.6                            0   \n",
       "2                                     0.6                            0   \n",
       "6                                     0.8                            0   \n",
       "7                                     0.4                            1   \n",
       "9                                     1.0                            1   \n",
       "\n",
       "  config/xgbclassifier__learning_rate  config/xgbclassifier__max_depth  \\\n",
       "1                            0.316682                                9   \n",
       "2                            0.003721                                7   \n",
       "6                            0.156161                                6   \n",
       "7                            0.021084                                8   \n",
       "9                            0.192420                                8   \n",
       "\n",
       "   config/xgbclassifier__min_child_weight  config/xgbclassifier__n_estimators  \\\n",
       "1                                0.943907                                 124   \n",
       "2                                0.409123                                  97   \n",
       "6                               10.376203                                 156   \n",
       "7                                0.251113                                  70   \n",
       "9                               13.312523                                  95   \n",
       "\n",
       "  config/xgbclassifier__seed  \\\n",
       "1                         42   \n",
       "2                         42   \n",
       "6                         42   \n",
       "7                         42   \n",
       "9                         42   \n",
       "\n",
       "                                              logdir  \n",
       "1  /home/steve/ray_results/seg_facies/e2e_seg/e2e...  \n",
       "2  /home/steve/ray_results/seg_facies/e2e_seg/e2e...  \n",
       "6  /home/steve/ray_results/seg_facies/e2e_seg/e2e...  \n",
       "7  /home/steve/ray_results/seg_facies/e2e_seg/e2e...  \n",
       "9  /home/steve/ray_results/seg_facies/e2e_seg/e2e...  \n",
       "\n",
       "[5 rows x 27 columns]"
      ]
     },
     "execution_count": 14,
     "metadata": {},
     "output_type": "execute_result"
    }
   ],
   "source": [
    "top_n_df.head()"
   ]
  },
  {
   "cell_type": "code",
   "execution_count": 18,
   "metadata": {},
   "outputs": [
    {
     "data": {
      "image/png": "[encoded data removed]",
      "text/plain": [
       "<Figure size 1152x432 with 1 Axes>"
      ]
     },
     "metadata": {},
     "output_type": "display_data"
    }
   ],
   "source": [
    "plot_some_tune_results(top_n_df, (0.3, 1.0))"
   ]
  },
  {
   "cell_type": "code",
   "execution_count": 16,
   "metadata": {
    "scrolled": false
   },
   "outputs": [
    {
     "data": {
      "text/html": [
       "\n",
       "      <iframe id=\"tensorboard-frame-1298c05720ce535\" width=\"100%\" height=\"800\" frameborder=\"0\">\n",
       "      </iframe>\n",
       "      <script>\n",
       "        (function() {\n",
       "          const frame = document.getElementById(\"tensorboard-frame-1298c05720ce535\");\n",
       "          const url = new URL(\"/\", window.location);\n",
       "          url.port = 6007;\n",
       "          frame.src = url;\n",
       "        })();\n",
       "      </script>\n",
       "  "
      ],
      "text/plain": [
       "<IPython.core.display.HTML object>"
      ]
     },
     "metadata": {},
     "output_type": "display_data"
    },
    {
     "name": "stdout",
     "output_type": "stream",
     "text": [
      "Selecting TensorBoard with logdir ~/ray_results/seg_facies (started 0:00:01 ago; port 6007, pid 59692).\n"
     ]
    },
    {
     "data": {
      "text/html": [
       "\n",
       "      <iframe id=\"tensorboard-frame-c8f798c633e54bfc\" width=\"100%\" height=\"1000\" frameborder=\"0\">\n",
       "      </iframe>\n",
       "      <script>\n",
       "        (function() {\n",
       "          const frame = document.getElementById(\"tensorboard-frame-c8f798c633e54bfc\");\n",
       "          const url = new URL(\"/\", window.location);\n",
       "          url.port = 6007;\n",
       "          frame.src = url;\n",
       "        })();\n",
       "      </script>\n",
       "  "
      ],
      "text/plain": [
       "<IPython.core.display.HTML object>"
      ]
     },
     "metadata": {},
     "output_type": "display_data"
    }
   ],
   "source": [
    "%load_ext tensorboard\n",
    "from tensorboard import notebook \n",
    "%tensorboard --logdir \"~/ray_results/seg_facies\"\n",
    "notebook.display(height=1000)"
   ]
  },
  {
   "cell_type": "code",
   "execution_count": 17,
   "metadata": {},
   "outputs": [],
   "source": [
    "ray.shutdown()"
   ]
  },
  {
   "cell_type": "code",
   "execution_count": null,
   "metadata": {},
   "outputs": [],
   "source": []
  }
 ],
 "metadata": {
  "kernelspec": {
   "display_name": "Python 3",
   "language": "python",
   "name": "python3"
  },
  "language_info": {
   "codemirror_mode": {
    "name": "ipython",
    "version": 3
   },
   "file_extension": ".py",
   "mimetype": "text/x-python",
   "name": "python",
   "nbconvert_exporter": "python",
   "pygments_lexer": "ipython3",
   "version": "3.8.3"
  }
 },
 "nbformat": 4,
 "nbformat_minor": 4
}
