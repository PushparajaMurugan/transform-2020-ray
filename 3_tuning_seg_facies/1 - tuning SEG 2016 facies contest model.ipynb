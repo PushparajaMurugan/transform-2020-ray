{
 "cells": [
  {
   "cell_type": "markdown",
   "metadata": {},
   "source": [
    "# SEG 2016 Facies Competition\n",
    "\n",
    "\n",
    "In 2016 Matt @ Agile & Brendon @ Enthought setup a Machine Learning Contest with the SEG. \n",
    "\n",
    "The objective was to predict facies logs from a small set of well log data. The image below (source: www.agilescientific.com) shows the wirelines and facies targets for one well\n",
    "\n",
    "![](agile_blog_seg_facies_image.png)\n",
    "\n",
    "Two wells were held out as blind and used to create the final scores.\n",
    "\n",
    "![](leaderboard.png)\n",
    "\n",
    "In this notebook, we've taken the winning submission from `LA_Team` Lukas Mosser & Alfredo de la Fuente.\n",
    "\n",
    "This Was Gradient Boosted Trees selected and tuned by TPOT.\n",
    "\n",
    "here we are going to tune that model with Raytune instead\n"
   ]
  },
  {
   "cell_type": "markdown",
   "metadata": {},
   "source": [
    "# Dependencies"
   ]
  },
  {
   "cell_type": "code",
   "execution_count": 1,
   "metadata": {},
   "outputs": [
    {
     "name": "stdout",
     "output_type": "stream",
     "text": [
      "Loading dependencies we have already seen...\n",
      "Importing ray...\n",
      "Done...\n"
     ]
    }
   ],
   "source": [
    "%load_ext autoreload\n",
    "%autoreload 2\n",
    "\n",
    "from dependencies import *"
   ]
  },
  {
   "cell_type": "markdown",
   "metadata": {},
   "source": [
    "We have already applied the preprocessing steps from the contest entry notebook and saved these to `h5py` so we can load these here"
   ]
  },
  {
   "cell_type": "code",
   "execution_count": 3,
   "metadata": {},
   "outputs": [],
   "source": [
    "import h5py\n",
    "\n",
    "\n",
    "# define a loading function\n",
    "def setup(filepath):\n",
    "    with h5py.File(filepath, 'r') as f:\n",
    "        X_train = f[\"train_x\"][:]\n",
    "        y_train = f[\"train_y\"][:]\n",
    "        group_train = f[\"train_groups\"][:]\n",
    "        train_wells = f[\"train_groups\"].attrs[\"well_names\"]        \n",
    "        \n",
    "        X_test = f[\"test_x\"][:]\n",
    "        y_test = None\n",
    "#         y_test = f[\"test_y\"]\n",
    "        group_test = f[\"test_groups\"][:]\n",
    "        test_wells = f[\"test_groups\"].attrs[\"well_names\"]\n",
    "\n",
    "    return X_train, y_train, group_train, X_test, y_test, group_test, (train_wells, test_wells)"
   ]
  },
  {
   "cell_type": "markdown",
   "metadata": {},
   "source": [
    "The tuned model parameters\n",
    "```\n",
    "XGBClassifier(learning_rate=0.12,\n",
    "              max_depth=3,\n",
    "              min_child_weight=10,\n",
    "              n_estimators=150,\n",
    "              seed=seed,\n",
    "              colsample_bytree=0.9)\n",
    "```"
   ]
  },
  {
   "cell_type": "markdown",
   "metadata": {},
   "source": [
    "Let's check the data is on the expected path"
   ]
  },
  {
   "cell_type": "code",
   "execution_count": 4,
   "metadata": {},
   "outputs": [
    {
     "name": "stdout",
     "output_type": "stream",
     "text": [
      "/home/steve/dev/transform-2020-ray/datasets/seg_2016_facies/la_team_5_data.h5py\n"
     ]
    }
   ],
   "source": [
    "from os import path\n",
    "filepath = path.abspath('../datasets/seg_2016_facies/la_team_5_data.h5py')\n",
    "print(filepath)"
   ]
  },
  {
   "cell_type": "markdown",
   "metadata": {},
   "source": [
    "## Tuning function\n",
    "\n",
    "Again we define an end to end tuning function"
   ]
  },
  {
   "cell_type": "code",
   "execution_count": 5,
   "metadata": {},
   "outputs": [],
   "source": [
    "from sklearn.model_selection import LeavePGroupsOut\n",
    "import xgboost as xgb\n",
    "from xgboost.sklearn import XGBClassifier\n",
    "from scipy.signal import medfilt\n",
    "from filelock import FileLock\n",
    "\n",
    "def e2e_train_and_test(config, **kwargs):\n",
    "    \n",
    "    # load the data\n",
    "    X, y, groups, X_test, y_test, group_test, well_names = setup(kwargs['filepath'])\n",
    "    \n",
    "    #\n",
    "    # chose your CV strategy. groups == wells\n",
    "    #\n",
    "    splitter = LeavePGroupsOut(1)\n",
    "    \n",
    "    #\n",
    "    # run k fold training and validation\n",
    "    #\n",
    "    f1_scores = [] # keep hold of all individual scores\n",
    "    for train_ind, val_ind in splitter.split(X, y, groups=groups):\n",
    "        pipeline = make_pipeline(RobustScaler(),\n",
    "                                  XGBClassifier())\n",
    "\n",
    "        pipeline.set_params(**config)\n",
    "        pipeline.fit(X[train_ind], y[train_ind])\n",
    "        \n",
    "        y_pred = pipeline.predict(X[val_ind])\n",
    "        \n",
    "        f1_scores.append(f1_score(y_pred, y[val_ind], average='micro'))\n",
    "    \n",
    "        # Clean isolated facies for each well\n",
    "        y_pred = medfilt(y_pred, kernel_size=5)\n",
    "    \n",
    "    #\n",
    "    # use tune's reporter\n",
    "    #\n",
    "    tune.track.log(\n",
    "                mean_f1_score=np.array(f1_scores).mean(),\n",
    "                std_f1_score=np.array(f1_scores).std(),\n",
    "                # and we can actually add any metrics we like\n",
    "                done=True)"
   ]
  },
  {
   "cell_type": "markdown",
   "metadata": {},
   "source": [
    "The following config is locked to the winning parameters"
   ]
  },
  {
   "cell_type": "code",
   "execution_count": 6,
   "metadata": {},
   "outputs": [],
   "source": [
    "tuning_config = {\n",
    "    'xgbclassifier__learning_rate': 0.12,\n",
    "    'xgbclassifier__max_depth': 3,\n",
    "    'xbgclassifier__min_child_weight' :10,\n",
    "    'xbgclassifier__n_estimators': 150,\n",
    "    'xgbclassifier__seed':1773,\n",
    "    'xgbclassifier__colsample_bytree':0.9\n",
    "}"
   ]
  },
  {
   "cell_type": "markdown",
   "metadata": {},
   "source": [
    "Let's update that to use distributions"
   ]
  },
  {
   "cell_type": "code",
   "execution_count": 7,
   "metadata": {},
   "outputs": [],
   "source": [
    "ray_tuning_config = {\n",
    "    'xgbclassifier__learning_rate': tune.loguniform(0.001, 0.5),\n",
    "    'xgbclassifier__max_depth': tune.randint(1, 10),\n",
    "    'xgbclassifier__min_child_weight': tune.loguniform(0.1,100),\n",
    "    'xgbclassifier__n_estimators': tune.randint(5,200),\n",
    "    'xgbclassifier__colsample_bytree': tune.choice([0.4, 0.6, 0.8, 1.0]),\n",
    "    'xgbclassifier__lambda': tune.choice([0,1]),\n",
    "    'xgbclassifier__seed': 42\n",
    "}"
   ]
  },
  {
   "cell_type": "code",
   "execution_count": 9,
   "metadata": {},
   "outputs": [
    {
     "name": "stderr",
     "output_type": "stream",
     "text": [
      "2020-06-12 10:51:47,328\tINFO resource_spec.py:204 -- Starting Ray with 33.06 GiB memory available for workers and up to 16.55 GiB for objects. You can adjust these settings with ray.init(memory=<bytes>, object_store_memory=<bytes>).\n",
      "2020-06-12 10:51:47,590\tINFO services.py:1168 -- View the Ray dashboard at \u001b[1m\u001b[32mlocalhost:8265\u001b[39m\u001b[22m\n"
     ]
    },
    {
     "data": {
      "text/plain": [
       "{'node_ip_address': '192.168.1.39',\n",
       " 'raylet_ip_address': '192.168.1.39',\n",
       " 'redis_address': '192.168.1.39:17851',\n",
       " 'object_store_address': '/tmp/ray/session_2020-06-12_10-51-47_326678_132346/sockets/plasma_store',\n",
       " 'raylet_socket_name': '/tmp/ray/session_2020-06-12_10-51-47_326678_132346/sockets/raylet',\n",
       " 'webui_url': 'localhost:8265',\n",
       " 'session_dir': '/tmp/ray/session_2020-06-12_10-51-47_326678_132346'}"
      ]
     },
     "execution_count": 9,
     "metadata": {},
     "output_type": "execute_result"
    }
   ],
   "source": [
    "ray.shutdown()\n",
    "ray.init(num_cpus=10, num_gpus=0, include_webui=True)"
   ]
  },
  {
   "cell_type": "code",
   "execution_count": 12,
   "metadata": {
    "scrolled": true
   },
   "outputs": [
    {
     "data": {
      "text/html": [
       "== Status ==<br>Memory usage on this node: 9.3/62.8 GiB<br>Using FIFO scheduling algorithm.<br>Resources requested: 1/10 CPUs, 0/0 GPUs, 0.0/33.06 GiB heap, 0.0/11.38 GiB objects<br>Result logdir: /home/steve/ray_results/seg_facies/e2e_seg<br>Number of trials: 15 (14 PENDING, 1 RUNNING)<br><table>\n",
       "<thead>\n",
       "<tr><th>Trial name   </th><th>status  </th><th>loc  </th><th style=\"text-align: right;\">  xgbclassifier__colsample_bytree</th><th style=\"text-align: right;\">  xgbclassifier__lambda</th><th style=\"text-align: right;\">  xgbclassifier__learning_rate</th><th style=\"text-align: right;\">  xgbclassifier__max_depth</th><th style=\"text-align: right;\">  xgbclassifier__min_child_weight</th><th style=\"text-align: right;\">  xgbclassifier__n_estimators</th></tr>\n",
       "</thead>\n",
       "<tbody>\n",
       "<tr><td>e2e_seg_00000</td><td>RUNNING </td><td>     </td><td style=\"text-align: right;\">                              0.4</td><td style=\"text-align: right;\">                      1</td><td style=\"text-align: right;\">                    0.151291  </td><td style=\"text-align: right;\">                         6</td><td style=\"text-align: right;\">                         0.803151</td><td style=\"text-align: right;\">                           37</td></tr>\n",
       "<tr><td>e2e_seg_00001</td><td>PENDING </td><td>     </td><td style=\"text-align: right;\">                              1  </td><td style=\"text-align: right;\">                      0</td><td style=\"text-align: right;\">                    0.0318366 </td><td style=\"text-align: right;\">                         3</td><td style=\"text-align: right;\">                        68.2128  </td><td style=\"text-align: right;\">                            5</td></tr>\n",
       "<tr><td>e2e_seg_00002</td><td>PENDING </td><td>     </td><td style=\"text-align: right;\">                              0.4</td><td style=\"text-align: right;\">                      0</td><td style=\"text-align: right;\">                    0.0541764 </td><td style=\"text-align: right;\">                         7</td><td style=\"text-align: right;\">                         0.625505</td><td style=\"text-align: right;\">                          189</td></tr>\n",
       "<tr><td>e2e_seg_00003</td><td>PENDING </td><td>     </td><td style=\"text-align: right;\">                              1  </td><td style=\"text-align: right;\">                      1</td><td style=\"text-align: right;\">                    0.0135555 </td><td style=\"text-align: right;\">                         6</td><td style=\"text-align: right;\">                         2.93772 </td><td style=\"text-align: right;\">                          149</td></tr>\n",
       "<tr><td>e2e_seg_00004</td><td>PENDING </td><td>     </td><td style=\"text-align: right;\">                              0.6</td><td style=\"text-align: right;\">                      1</td><td style=\"text-align: right;\">                    0.0332917 </td><td style=\"text-align: right;\">                         8</td><td style=\"text-align: right;\">                         1.41607 </td><td style=\"text-align: right;\">                          131</td></tr>\n",
       "<tr><td>e2e_seg_00005</td><td>PENDING </td><td>     </td><td style=\"text-align: right;\">                              0.6</td><td style=\"text-align: right;\">                      1</td><td style=\"text-align: right;\">                    0.00946778</td><td style=\"text-align: right;\">                         5</td><td style=\"text-align: right;\">                         2.82033 </td><td style=\"text-align: right;\">                          116</td></tr>\n",
       "<tr><td>e2e_seg_00006</td><td>PENDING </td><td>     </td><td style=\"text-align: right;\">                              0.4</td><td style=\"text-align: right;\">                      0</td><td style=\"text-align: right;\">                    0.270475  </td><td style=\"text-align: right;\">                         9</td><td style=\"text-align: right;\">                         1.25404 </td><td style=\"text-align: right;\">                           25</td></tr>\n",
       "<tr><td>e2e_seg_00007</td><td>PENDING </td><td>     </td><td style=\"text-align: right;\">                              0.8</td><td style=\"text-align: right;\">                      0</td><td style=\"text-align: right;\">                    0.0124228 </td><td style=\"text-align: right;\">                         3</td><td style=\"text-align: right;\">                         0.937609</td><td style=\"text-align: right;\">                           11</td></tr>\n",
       "<tr><td>e2e_seg_00008</td><td>PENDING </td><td>     </td><td style=\"text-align: right;\">                              0.6</td><td style=\"text-align: right;\">                      0</td><td style=\"text-align: right;\">                    0.0850197 </td><td style=\"text-align: right;\">                         9</td><td style=\"text-align: right;\">                         1.28613 </td><td style=\"text-align: right;\">                           63</td></tr>\n",
       "<tr><td>e2e_seg_00009</td><td>PENDING </td><td>     </td><td style=\"text-align: right;\">                              1  </td><td style=\"text-align: right;\">                      1</td><td style=\"text-align: right;\">                    0.0995091 </td><td style=\"text-align: right;\">                         6</td><td style=\"text-align: right;\">                        16.4225  </td><td style=\"text-align: right;\">                          131</td></tr>\n",
       "<tr><td>e2e_seg_00010</td><td>PENDING </td><td>     </td><td style=\"text-align: right;\">                              0.8</td><td style=\"text-align: right;\">                      1</td><td style=\"text-align: right;\">                    0.0240997 </td><td style=\"text-align: right;\">                         1</td><td style=\"text-align: right;\">                         0.277352</td><td style=\"text-align: right;\">                           65</td></tr>\n",
       "<tr><td>e2e_seg_00011</td><td>PENDING </td><td>     </td><td style=\"text-align: right;\">                              0.4</td><td style=\"text-align: right;\">                      1</td><td style=\"text-align: right;\">                    0.0536386 </td><td style=\"text-align: right;\">                         8</td><td style=\"text-align: right;\">                         1.00503 </td><td style=\"text-align: right;\">                           70</td></tr>\n",
       "<tr><td>e2e_seg_00012</td><td>PENDING </td><td>     </td><td style=\"text-align: right;\">                              0.6</td><td style=\"text-align: right;\">                      0</td><td style=\"text-align: right;\">                    0.0022555 </td><td style=\"text-align: right;\">                         3</td><td style=\"text-align: right;\">                         1.87793 </td><td style=\"text-align: right;\">                          189</td></tr>\n",
       "<tr><td>e2e_seg_00013</td><td>PENDING </td><td>     </td><td style=\"text-align: right;\">                              1  </td><td style=\"text-align: right;\">                      1</td><td style=\"text-align: right;\">                    0.0825462 </td><td style=\"text-align: right;\">                         6</td><td style=\"text-align: right;\">                        25.5405  </td><td style=\"text-align: right;\">                          127</td></tr>\n",
       "<tr><td>e2e_seg_00014</td><td>PENDING </td><td>     </td><td style=\"text-align: right;\">                              0.6</td><td style=\"text-align: right;\">                      1</td><td style=\"text-align: right;\">                    0.0376149 </td><td style=\"text-align: right;\">                         9</td><td style=\"text-align: right;\">                         0.335414</td><td style=\"text-align: right;\">                          104</td></tr>\n",
       "</tbody>\n",
       "</table><br><br>"
      ],
      "text/plain": [
       "<IPython.core.display.HTML object>"
      ]
     },
     "metadata": {},
     "output_type": "display_data"
    },
    {
     "name": "stdout",
     "output_type": "stream",
     "text": [
      "\u001b[2m\u001b[36m(pid=133599)\u001b[0m 2020-06-12 10:53:16,587\tINFO trainable.py:217 -- Getting current IP.\n",
      "\u001b[2m\u001b[36m(pid=133602)\u001b[0m 2020-06-12 10:53:16,589\tINFO trainable.py:217 -- Getting current IP.\n",
      "\u001b[2m\u001b[36m(pid=133609)\u001b[0m 2020-06-12 10:53:16,613\tINFO trainable.py:217 -- Getting current IP.\n",
      "\u001b[2m\u001b[36m(pid=133603)\u001b[0m 2020-06-12 10:53:16,676\tINFO trainable.py:217 -- Getting current IP.\n",
      "\u001b[2m\u001b[36m(pid=133601)\u001b[0m 2020-06-12 10:53:16,689\tINFO trainable.py:217 -- Getting current IP.\n",
      "\u001b[2m\u001b[36m(pid=133600)\u001b[0m 2020-06-12 10:53:16,688\tINFO trainable.py:217 -- Getting current IP.\n",
      "\u001b[2m\u001b[36m(pid=133606)\u001b[0m 2020-06-12 10:53:16,877\tINFO trainable.py:217 -- Getting current IP.\n",
      "\u001b[2m\u001b[36m(pid=133905)\u001b[0m 2020-06-12 10:53:17,242\tINFO trainable.py:217 -- Getting current IP.\n",
      "\u001b[2m\u001b[36m(pid=133903)\u001b[0m 2020-06-12 10:53:17,306\tINFO trainable.py:217 -- Getting current IP.\n",
      "\u001b[2m\u001b[36m(pid=133907)\u001b[0m 2020-06-12 10:53:17,341\tINFO trainable.py:217 -- Getting current IP.\n"
     ]
    },
    {
     "name": "stderr",
     "output_type": "stream",
     "text": [
      "2020-06-12 10:53:18,855\tINFO logger.py:269 -- Removed the following hyperparameter values when logging to tensorboard: {'xgbclassifier__lambda': 0}\n"
     ]
    },
    {
     "name": "stdout",
     "output_type": "stream",
     "text": [
      "Result for e2e_seg_00001:\n",
      "  date: 2020-06-12_10-53-18\n",
      "  done: true\n",
      "  experiment_id: 10c0c0c12b64443fbe3f591586f3a3b1\n",
      "  experiment_tag: 1_xgbclassifier__colsample_bytree=1.0,xgbclassifier__lambda=0,xgbclassifier__learning_rate=0.031837,xgbclassifier__max_depth=3,xgbclassifier__min_child_weight=68.213,xgbclassifier__n_estimators=5\n",
      "  hostname: cosmos-ml\n",
      "  iterations_since_restore: 1\n",
      "  mean_f1_score: 0.4867375255922054\n",
      "  node_ip: 192.168.1.39\n",
      "  pid: 133599\n",
      "  std_f1_score: 0.1769804980729958\n",
      "  time_since_restore: 2.260009765625\n",
      "  time_this_iter_s: 2.260009765625\n",
      "  time_total_s: 2.260009765625\n",
      "  timestamp: 1591955598\n",
      "  timesteps_since_restore: 0\n",
      "  training_iteration: 0\n",
      "  trial_id: '00001'\n",
      "  \n",
      "\u001b[2m\u001b[36m(pid=133928)\u001b[0m 2020-06-12 10:53:19,736\tINFO trainable.py:217 -- Getting current IP.\n"
     ]
    },
    {
     "name": "stderr",
     "output_type": "stream",
     "text": [
      "2020-06-12 10:53:21,232\tINFO logger.py:269 -- Removed the following hyperparameter values when logging to tensorboard: {'xgbclassifier__lambda': 0}\n"
     ]
    },
    {
     "name": "stdout",
     "output_type": "stream",
     "text": [
      "Result for e2e_seg_00007:\n",
      "  date: 2020-06-12_10-53-21\n",
      "  done: true\n",
      "  experiment_id: 13603115d82a467d85eb842963790730\n",
      "  experiment_tag: 7_xgbclassifier__colsample_bytree=0.8,xgbclassifier__lambda=0,xgbclassifier__learning_rate=0.012423,xgbclassifier__max_depth=3,xgbclassifier__min_child_weight=0.93761,xgbclassifier__n_estimators=11\n",
      "  hostname: cosmos-ml\n",
      "  iterations_since_restore: 1\n",
      "  mean_f1_score: 0.5285679855557832\n",
      "  node_ip: 192.168.1.39\n",
      "  pid: 133903\n",
      "  std_f1_score: 0.0829047434633074\n",
      "  time_since_restore: 3.9192657470703125\n",
      "  time_this_iter_s: 3.9192657470703125\n",
      "  time_total_s: 3.9192657470703125\n",
      "  timestamp: 1591955601\n",
      "  timesteps_since_restore: 0\n",
      "  training_iteration: 0\n",
      "  trial_id: '00007'\n",
      "  \n"
     ]
    },
    {
     "data": {
      "text/html": [
       "== Status ==<br>Memory usage on this node: 10.0/62.8 GiB<br>Using FIFO scheduling algorithm.<br>Resources requested: 9/10 CPUs, 0/0 GPUs, 0.0/33.06 GiB heap, 0.0/11.38 GiB objects<br>Result logdir: /home/steve/ray_results/seg_facies/e2e_seg<br>Number of trials: 15 (4 PENDING, 9 RUNNING, 2 TERMINATED)<br><table>\n",
       "<thead>\n",
       "<tr><th>Trial name   </th><th>status    </th><th>loc  </th><th style=\"text-align: right;\">  xgbclassifier__colsample_bytree</th><th style=\"text-align: right;\">  xgbclassifier__lambda</th><th style=\"text-align: right;\">  xgbclassifier__learning_rate</th><th style=\"text-align: right;\">  xgbclassifier__max_depth</th><th style=\"text-align: right;\">  xgbclassifier__min_child_weight</th><th style=\"text-align: right;\">  xgbclassifier__n_estimators</th><th style=\"text-align: right;\">  iter</th><th style=\"text-align: right;\">  total time (s)</th></tr>\n",
       "</thead>\n",
       "<tbody>\n",
       "<tr><td>e2e_seg_00000</td><td>RUNNING   </td><td>     </td><td style=\"text-align: right;\">                              0.4</td><td style=\"text-align: right;\">                      1</td><td style=\"text-align: right;\">                    0.151291  </td><td style=\"text-align: right;\">                         6</td><td style=\"text-align: right;\">                         0.803151</td><td style=\"text-align: right;\">                           37</td><td style=\"text-align: right;\">      </td><td style=\"text-align: right;\">                </td></tr>\n",
       "<tr><td>e2e_seg_00001</td><td>TERMINATED</td><td>     </td><td style=\"text-align: right;\">                              1  </td><td style=\"text-align: right;\">                      0</td><td style=\"text-align: right;\">                    0.0318366 </td><td style=\"text-align: right;\">                         3</td><td style=\"text-align: right;\">                        68.2128  </td><td style=\"text-align: right;\">                            5</td><td style=\"text-align: right;\">     0</td><td style=\"text-align: right;\">         2.26001</td></tr>\n",
       "<tr><td>e2e_seg_00002</td><td>RUNNING   </td><td>     </td><td style=\"text-align: right;\">                              0.4</td><td style=\"text-align: right;\">                      0</td><td style=\"text-align: right;\">                    0.0541764 </td><td style=\"text-align: right;\">                         7</td><td style=\"text-align: right;\">                         0.625505</td><td style=\"text-align: right;\">                          189</td><td style=\"text-align: right;\">      </td><td style=\"text-align: right;\">                </td></tr>\n",
       "<tr><td>e2e_seg_00003</td><td>RUNNING   </td><td>     </td><td style=\"text-align: right;\">                              1  </td><td style=\"text-align: right;\">                      1</td><td style=\"text-align: right;\">                    0.0135555 </td><td style=\"text-align: right;\">                         6</td><td style=\"text-align: right;\">                         2.93772 </td><td style=\"text-align: right;\">                          149</td><td style=\"text-align: right;\">      </td><td style=\"text-align: right;\">                </td></tr>\n",
       "<tr><td>e2e_seg_00004</td><td>RUNNING   </td><td>     </td><td style=\"text-align: right;\">                              0.6</td><td style=\"text-align: right;\">                      1</td><td style=\"text-align: right;\">                    0.0332917 </td><td style=\"text-align: right;\">                         8</td><td style=\"text-align: right;\">                         1.41607 </td><td style=\"text-align: right;\">                          131</td><td style=\"text-align: right;\">      </td><td style=\"text-align: right;\">                </td></tr>\n",
       "<tr><td>e2e_seg_00005</td><td>RUNNING   </td><td>     </td><td style=\"text-align: right;\">                              0.6</td><td style=\"text-align: right;\">                      1</td><td style=\"text-align: right;\">                    0.00946778</td><td style=\"text-align: right;\">                         5</td><td style=\"text-align: right;\">                         2.82033 </td><td style=\"text-align: right;\">                          116</td><td style=\"text-align: right;\">      </td><td style=\"text-align: right;\">                </td></tr>\n",
       "<tr><td>e2e_seg_00006</td><td>RUNNING   </td><td>     </td><td style=\"text-align: right;\">                              0.4</td><td style=\"text-align: right;\">                      0</td><td style=\"text-align: right;\">                    0.270475  </td><td style=\"text-align: right;\">                         9</td><td style=\"text-align: right;\">                         1.25404 </td><td style=\"text-align: right;\">                           25</td><td style=\"text-align: right;\">      </td><td style=\"text-align: right;\">                </td></tr>\n",
       "<tr><td>e2e_seg_00007</td><td>TERMINATED</td><td>     </td><td style=\"text-align: right;\">                              0.8</td><td style=\"text-align: right;\">                      0</td><td style=\"text-align: right;\">                    0.0124228 </td><td style=\"text-align: right;\">                         3</td><td style=\"text-align: right;\">                         0.937609</td><td style=\"text-align: right;\">                           11</td><td style=\"text-align: right;\">     0</td><td style=\"text-align: right;\">         3.91927</td></tr>\n",
       "<tr><td>e2e_seg_00008</td><td>RUNNING   </td><td>     </td><td style=\"text-align: right;\">                              0.6</td><td style=\"text-align: right;\">                      0</td><td style=\"text-align: right;\">                    0.0850197 </td><td style=\"text-align: right;\">                         9</td><td style=\"text-align: right;\">                         1.28613 </td><td style=\"text-align: right;\">                           63</td><td style=\"text-align: right;\">      </td><td style=\"text-align: right;\">                </td></tr>\n",
       "<tr><td>e2e_seg_00009</td><td>RUNNING   </td><td>     </td><td style=\"text-align: right;\">                              1  </td><td style=\"text-align: right;\">                      1</td><td style=\"text-align: right;\">                    0.0995091 </td><td style=\"text-align: right;\">                         6</td><td style=\"text-align: right;\">                        16.4225  </td><td style=\"text-align: right;\">                          131</td><td style=\"text-align: right;\">      </td><td style=\"text-align: right;\">                </td></tr>\n",
       "<tr><td>e2e_seg_00010</td><td>RUNNING   </td><td>     </td><td style=\"text-align: right;\">                              0.8</td><td style=\"text-align: right;\">                      1</td><td style=\"text-align: right;\">                    0.0240997 </td><td style=\"text-align: right;\">                         1</td><td style=\"text-align: right;\">                         0.277352</td><td style=\"text-align: right;\">                           65</td><td style=\"text-align: right;\">      </td><td style=\"text-align: right;\">                </td></tr>\n",
       "<tr><td>e2e_seg_00011</td><td>PENDING   </td><td>     </td><td style=\"text-align: right;\">                              0.4</td><td style=\"text-align: right;\">                      1</td><td style=\"text-align: right;\">                    0.0536386 </td><td style=\"text-align: right;\">                         8</td><td style=\"text-align: right;\">                         1.00503 </td><td style=\"text-align: right;\">                           70</td><td style=\"text-align: right;\">      </td><td style=\"text-align: right;\">                </td></tr>\n",
       "<tr><td>e2e_seg_00012</td><td>PENDING   </td><td>     </td><td style=\"text-align: right;\">                              0.6</td><td style=\"text-align: right;\">                      0</td><td style=\"text-align: right;\">                    0.0022555 </td><td style=\"text-align: right;\">                         3</td><td style=\"text-align: right;\">                         1.87793 </td><td style=\"text-align: right;\">                          189</td><td style=\"text-align: right;\">      </td><td style=\"text-align: right;\">                </td></tr>\n",
       "<tr><td>e2e_seg_00013</td><td>PENDING   </td><td>     </td><td style=\"text-align: right;\">                              1  </td><td style=\"text-align: right;\">                      1</td><td style=\"text-align: right;\">                    0.0825462 </td><td style=\"text-align: right;\">                         6</td><td style=\"text-align: right;\">                        25.5405  </td><td style=\"text-align: right;\">                          127</td><td style=\"text-align: right;\">      </td><td style=\"text-align: right;\">                </td></tr>\n",
       "<tr><td>e2e_seg_00014</td><td>PENDING   </td><td>     </td><td style=\"text-align: right;\">                              0.6</td><td style=\"text-align: right;\">                      1</td><td style=\"text-align: right;\">                    0.0376149 </td><td style=\"text-align: right;\">                         9</td><td style=\"text-align: right;\">                         0.335414</td><td style=\"text-align: right;\">                          104</td><td style=\"text-align: right;\">      </td><td style=\"text-align: right;\">                </td></tr>\n",
       "</tbody>\n",
       "</table><br><br>"
      ],
      "text/plain": [
       "<IPython.core.display.HTML object>"
      ]
     },
     "metadata": {},
     "output_type": "display_data"
    },
    {
     "name": "stdout",
     "output_type": "stream",
     "text": [
      "\u001b[2m\u001b[36m(pid=133918)\u001b[0m 2020-06-12 10:53:22,026\tINFO trainable.py:217 -- Getting current IP.\n"
     ]
    },
    {
     "name": "stderr",
     "output_type": "stream",
     "text": [
      "2020-06-12 10:53:28,945\tINFO logger.py:269 -- Removed the following hyperparameter values when logging to tensorboard: {'xgbclassifier__lambda': 1}\n"
     ]
    },
    {
     "name": "stdout",
     "output_type": "stream",
     "text": [
      "Result for e2e_seg_00010:\n",
      "  date: 2020-06-12_10-53-28\n",
      "  done: true\n",
      "  experiment_id: 536d1f3340d4424cbbb9e00995f7a2eb\n",
      "  experiment_tag: 10_xgbclassifier__colsample_bytree=0.8,xgbclassifier__lambda=1,xgbclassifier__learning_rate=0.0241,xgbclassifier__max_depth=1,xgbclassifier__min_child_weight=0.27735,xgbclassifier__n_estimators=65\n",
      "  hostname: cosmos-ml\n",
      "  iterations_since_restore: 1\n",
      "  mean_f1_score: 0.41783402181662127\n",
      "  node_ip: 192.168.1.39\n",
      "  pid: 133928\n",
      "  std_f1_score: 0.15509010220478442\n",
      "  time_since_restore: 9.200903177261353\n",
      "  time_this_iter_s: 9.200903177261353\n",
      "  time_total_s: 9.200903177261353\n",
      "  timestamp: 1591955608\n",
      "  timesteps_since_restore: 0\n",
      "  training_iteration: 0\n",
      "  trial_id: '00010'\n",
      "  \n"
     ]
    },
    {
     "data": {
      "text/html": [
       "== Status ==<br>Memory usage on this node: 10.1/62.8 GiB<br>Using FIFO scheduling algorithm.<br>Resources requested: 9/10 CPUs, 0/0 GPUs, 0.0/33.06 GiB heap, 0.0/11.38 GiB objects<br>Result logdir: /home/steve/ray_results/seg_facies/e2e_seg<br>Number of trials: 15 (3 PENDING, 9 RUNNING, 3 TERMINATED)<br><table>\n",
       "<thead>\n",
       "<tr><th>Trial name   </th><th>status    </th><th>loc  </th><th style=\"text-align: right;\">  xgbclassifier__colsample_bytree</th><th style=\"text-align: right;\">  xgbclassifier__lambda</th><th style=\"text-align: right;\">  xgbclassifier__learning_rate</th><th style=\"text-align: right;\">  xgbclassifier__max_depth</th><th style=\"text-align: right;\">  xgbclassifier__min_child_weight</th><th style=\"text-align: right;\">  xgbclassifier__n_estimators</th><th style=\"text-align: right;\">  iter</th><th style=\"text-align: right;\">  total time (s)</th></tr>\n",
       "</thead>\n",
       "<tbody>\n",
       "<tr><td>e2e_seg_00000</td><td>RUNNING   </td><td>     </td><td style=\"text-align: right;\">                              0.4</td><td style=\"text-align: right;\">                      1</td><td style=\"text-align: right;\">                    0.151291  </td><td style=\"text-align: right;\">                         6</td><td style=\"text-align: right;\">                         0.803151</td><td style=\"text-align: right;\">                           37</td><td style=\"text-align: right;\">      </td><td style=\"text-align: right;\">                </td></tr>\n",
       "<tr><td>e2e_seg_00001</td><td>TERMINATED</td><td>     </td><td style=\"text-align: right;\">                              1  </td><td style=\"text-align: right;\">                      0</td><td style=\"text-align: right;\">                    0.0318366 </td><td style=\"text-align: right;\">                         3</td><td style=\"text-align: right;\">                        68.2128  </td><td style=\"text-align: right;\">                            5</td><td style=\"text-align: right;\">     0</td><td style=\"text-align: right;\">         2.26001</td></tr>\n",
       "<tr><td>e2e_seg_00002</td><td>RUNNING   </td><td>     </td><td style=\"text-align: right;\">                              0.4</td><td style=\"text-align: right;\">                      0</td><td style=\"text-align: right;\">                    0.0541764 </td><td style=\"text-align: right;\">                         7</td><td style=\"text-align: right;\">                         0.625505</td><td style=\"text-align: right;\">                          189</td><td style=\"text-align: right;\">      </td><td style=\"text-align: right;\">                </td></tr>\n",
       "<tr><td>e2e_seg_00003</td><td>RUNNING   </td><td>     </td><td style=\"text-align: right;\">                              1  </td><td style=\"text-align: right;\">                      1</td><td style=\"text-align: right;\">                    0.0135555 </td><td style=\"text-align: right;\">                         6</td><td style=\"text-align: right;\">                         2.93772 </td><td style=\"text-align: right;\">                          149</td><td style=\"text-align: right;\">      </td><td style=\"text-align: right;\">                </td></tr>\n",
       "<tr><td>e2e_seg_00004</td><td>RUNNING   </td><td>     </td><td style=\"text-align: right;\">                              0.6</td><td style=\"text-align: right;\">                      1</td><td style=\"text-align: right;\">                    0.0332917 </td><td style=\"text-align: right;\">                         8</td><td style=\"text-align: right;\">                         1.41607 </td><td style=\"text-align: right;\">                          131</td><td style=\"text-align: right;\">      </td><td style=\"text-align: right;\">                </td></tr>\n",
       "<tr><td>e2e_seg_00005</td><td>RUNNING   </td><td>     </td><td style=\"text-align: right;\">                              0.6</td><td style=\"text-align: right;\">                      1</td><td style=\"text-align: right;\">                    0.00946778</td><td style=\"text-align: right;\">                         5</td><td style=\"text-align: right;\">                         2.82033 </td><td style=\"text-align: right;\">                          116</td><td style=\"text-align: right;\">      </td><td style=\"text-align: right;\">                </td></tr>\n",
       "<tr><td>e2e_seg_00006</td><td>RUNNING   </td><td>     </td><td style=\"text-align: right;\">                              0.4</td><td style=\"text-align: right;\">                      0</td><td style=\"text-align: right;\">                    0.270475  </td><td style=\"text-align: right;\">                         9</td><td style=\"text-align: right;\">                         1.25404 </td><td style=\"text-align: right;\">                           25</td><td style=\"text-align: right;\">      </td><td style=\"text-align: right;\">                </td></tr>\n",
       "<tr><td>e2e_seg_00007</td><td>TERMINATED</td><td>     </td><td style=\"text-align: right;\">                              0.8</td><td style=\"text-align: right;\">                      0</td><td style=\"text-align: right;\">                    0.0124228 </td><td style=\"text-align: right;\">                         3</td><td style=\"text-align: right;\">                         0.937609</td><td style=\"text-align: right;\">                           11</td><td style=\"text-align: right;\">     0</td><td style=\"text-align: right;\">         3.91927</td></tr>\n",
       "<tr><td>e2e_seg_00008</td><td>RUNNING   </td><td>     </td><td style=\"text-align: right;\">                              0.6</td><td style=\"text-align: right;\">                      0</td><td style=\"text-align: right;\">                    0.0850197 </td><td style=\"text-align: right;\">                         9</td><td style=\"text-align: right;\">                         1.28613 </td><td style=\"text-align: right;\">                           63</td><td style=\"text-align: right;\">      </td><td style=\"text-align: right;\">                </td></tr>\n",
       "<tr><td>e2e_seg_00009</td><td>RUNNING   </td><td>     </td><td style=\"text-align: right;\">                              1  </td><td style=\"text-align: right;\">                      1</td><td style=\"text-align: right;\">                    0.0995091 </td><td style=\"text-align: right;\">                         6</td><td style=\"text-align: right;\">                        16.4225  </td><td style=\"text-align: right;\">                          131</td><td style=\"text-align: right;\">      </td><td style=\"text-align: right;\">                </td></tr>\n",
       "<tr><td>e2e_seg_00010</td><td>TERMINATED</td><td>     </td><td style=\"text-align: right;\">                              0.8</td><td style=\"text-align: right;\">                      1</td><td style=\"text-align: right;\">                    0.0240997 </td><td style=\"text-align: right;\">                         1</td><td style=\"text-align: right;\">                         0.277352</td><td style=\"text-align: right;\">                           65</td><td style=\"text-align: right;\">     0</td><td style=\"text-align: right;\">         9.2009 </td></tr>\n",
       "<tr><td>e2e_seg_00011</td><td>RUNNING   </td><td>     </td><td style=\"text-align: right;\">                              0.4</td><td style=\"text-align: right;\">                      1</td><td style=\"text-align: right;\">                    0.0536386 </td><td style=\"text-align: right;\">                         8</td><td style=\"text-align: right;\">                         1.00503 </td><td style=\"text-align: right;\">                           70</td><td style=\"text-align: right;\">      </td><td style=\"text-align: right;\">                </td></tr>\n",
       "<tr><td>e2e_seg_00012</td><td>PENDING   </td><td>     </td><td style=\"text-align: right;\">                              0.6</td><td style=\"text-align: right;\">                      0</td><td style=\"text-align: right;\">                    0.0022555 </td><td style=\"text-align: right;\">                         3</td><td style=\"text-align: right;\">                         1.87793 </td><td style=\"text-align: right;\">                          189</td><td style=\"text-align: right;\">      </td><td style=\"text-align: right;\">                </td></tr>\n",
       "<tr><td>e2e_seg_00013</td><td>PENDING   </td><td>     </td><td style=\"text-align: right;\">                              1  </td><td style=\"text-align: right;\">                      1</td><td style=\"text-align: right;\">                    0.0825462 </td><td style=\"text-align: right;\">                         6</td><td style=\"text-align: right;\">                        25.5405  </td><td style=\"text-align: right;\">                          127</td><td style=\"text-align: right;\">      </td><td style=\"text-align: right;\">                </td></tr>\n",
       "<tr><td>e2e_seg_00014</td><td>PENDING   </td><td>     </td><td style=\"text-align: right;\">                              0.6</td><td style=\"text-align: right;\">                      1</td><td style=\"text-align: right;\">                    0.0376149 </td><td style=\"text-align: right;\">                         9</td><td style=\"text-align: right;\">                         0.335414</td><td style=\"text-align: right;\">                          104</td><td style=\"text-align: right;\">      </td><td style=\"text-align: right;\">                </td></tr>\n",
       "</tbody>\n",
       "</table><br><br>"
      ],
      "text/plain": [
       "<IPython.core.display.HTML object>"
      ]
     },
     "metadata": {},
     "output_type": "display_data"
    },
    {
     "name": "stdout",
     "output_type": "stream",
     "text": [
      "\u001b[2m\u001b[36m(pid=133919)\u001b[0m 2020-06-12 10:53:29,875\tINFO trainable.py:217 -- Getting current IP.\n"
     ]
    },
    {
     "name": "stderr",
     "output_type": "stream",
     "text": [
      "2020-06-12 10:53:32,340\tINFO logger.py:269 -- Removed the following hyperparameter values when logging to tensorboard: {'xgbclassifier__lambda': 1}\n"
     ]
    },
    {
     "name": "stdout",
     "output_type": "stream",
     "text": [
      "Result for e2e_seg_00000:\n",
      "  date: 2020-06-12_10-53-32\n",
      "  done: true\n",
      "  experiment_id: 2d06e232081143c1bfc696ab74749a6c\n",
      "  experiment_tag: 0_xgbclassifier__colsample_bytree=0.4,xgbclassifier__lambda=1,xgbclassifier__learning_rate=0.15129,xgbclassifier__max_depth=6,xgbclassifier__min_child_weight=0.80315,xgbclassifier__n_estimators=37\n",
      "  hostname: cosmos-ml\n",
      "  iterations_since_restore: 1\n",
      "  mean_f1_score: 0.5789373063722457\n",
      "  node_ip: 192.168.1.39\n",
      "  pid: 133609\n",
      "  std_f1_score: 0.09191213169396258\n",
      "  time_since_restore: 15.719739437103271\n",
      "  time_this_iter_s: 15.719739437103271\n",
      "  time_total_s: 15.719739437103271\n",
      "  timestamp: 1591955612\n",
      "  timesteps_since_restore: 0\n",
      "  training_iteration: 0\n",
      "  trial_id: '00000'\n",
      "  \n"
     ]
    },
    {
     "name": "stderr",
     "output_type": "stream",
     "text": [
      "2020-06-12 10:53:32,884\tINFO logger.py:269 -- Removed the following hyperparameter values when logging to tensorboard: {'xgbclassifier__lambda': 0}\n"
     ]
    },
    {
     "name": "stdout",
     "output_type": "stream",
     "text": [
      "Result for e2e_seg_00006:\n",
      "  date: 2020-06-12_10-53-32\n",
      "  done: true\n",
      "  experiment_id: 459036ab42f14d8b813b982aa5519483\n",
      "  experiment_tag: 6_xgbclassifier__colsample_bytree=0.4,xgbclassifier__lambda=0,xgbclassifier__learning_rate=0.27048,xgbclassifier__max_depth=9,xgbclassifier__min_child_weight=1.254,xgbclassifier__n_estimators=25\n",
      "  hostname: cosmos-ml\n",
      "  iterations_since_restore: 1\n",
      "  mean_f1_score: 0.570923011804744\n",
      "  node_ip: 192.168.1.39\n",
      "  pid: 133606\n",
      "  std_f1_score: 0.08964632854474866\n",
      "  time_since_restore: 15.994011402130127\n",
      "  time_this_iter_s: 15.994011402130127\n",
      "  time_total_s: 15.994011402130127\n",
      "  timestamp: 1591955612\n",
      "  timesteps_since_restore: 0\n",
      "  training_iteration: 0\n",
      "  trial_id: '00006'\n",
      "  \n",
      "\u001b[2m\u001b[36m(pid=133996)\u001b[0m 2020-06-12 10:53:33,659\tINFO trainable.py:217 -- Getting current IP.\n",
      "\u001b[2m\u001b[36m(pid=134009)\u001b[0m 2020-06-12 10:53:34,296\tINFO trainable.py:217 -- Getting current IP.\n"
     ]
    },
    {
     "name": "stderr",
     "output_type": "stream",
     "text": [
      "2020-06-12 10:53:58,775\tINFO logger.py:269 -- Removed the following hyperparameter values when logging to tensorboard: {'xgbclassifier__lambda': 1}\n"
     ]
    },
    {
     "name": "stdout",
     "output_type": "stream",
     "text": [
      "Result for e2e_seg_00011:\n",
      "  date: 2020-06-12_10-53-58\n",
      "  done: true\n",
      "  experiment_id: 3de2963b37864f03a2539c8f13c8dacb\n",
      "  experiment_tag: 11_xgbclassifier__colsample_bytree=0.4,xgbclassifier__lambda=1,xgbclassifier__learning_rate=0.053639,xgbclassifier__max_depth=8,xgbclassifier__min_child_weight=1.005,xgbclassifier__n_estimators=70\n",
      "  hostname: cosmos-ml\n",
      "  iterations_since_restore: 1\n",
      "  mean_f1_score: 0.5791613915964615\n",
      "  node_ip: 192.168.1.39\n",
      "  pid: 133918\n",
      "  std_f1_score: 0.09362685280481435\n",
      "  time_since_restore: 36.74055743217468\n",
      "  time_this_iter_s: 36.74055743217468\n",
      "  time_total_s: 36.74055743217468\n",
      "  timestamp: 1591955638\n",
      "  timesteps_since_restore: 0\n",
      "  training_iteration: 0\n",
      "  trial_id: '00011'\n",
      "  \n"
     ]
    },
    {
     "data": {
      "text/html": [
       "== Status ==<br>Memory usage on this node: 10.1/62.8 GiB<br>Using FIFO scheduling algorithm.<br>Resources requested: 9/10 CPUs, 0/0 GPUs, 0.0/33.06 GiB heap, 0.0/11.38 GiB objects<br>Result logdir: /home/steve/ray_results/seg_facies/e2e_seg<br>Number of trials: 15 (9 RUNNING, 6 TERMINATED)<br><table>\n",
       "<thead>\n",
       "<tr><th>Trial name   </th><th>status    </th><th>loc  </th><th style=\"text-align: right;\">  xgbclassifier__colsample_bytree</th><th style=\"text-align: right;\">  xgbclassifier__lambda</th><th style=\"text-align: right;\">  xgbclassifier__learning_rate</th><th style=\"text-align: right;\">  xgbclassifier__max_depth</th><th style=\"text-align: right;\">  xgbclassifier__min_child_weight</th><th style=\"text-align: right;\">  xgbclassifier__n_estimators</th><th style=\"text-align: right;\">  iter</th><th style=\"text-align: right;\">  total time (s)</th></tr>\n",
       "</thead>\n",
       "<tbody>\n",
       "<tr><td>e2e_seg_00000</td><td>TERMINATED</td><td>     </td><td style=\"text-align: right;\">                              0.4</td><td style=\"text-align: right;\">                      1</td><td style=\"text-align: right;\">                    0.151291  </td><td style=\"text-align: right;\">                         6</td><td style=\"text-align: right;\">                         0.803151</td><td style=\"text-align: right;\">                           37</td><td style=\"text-align: right;\">     0</td><td style=\"text-align: right;\">        15.7197 </td></tr>\n",
       "<tr><td>e2e_seg_00001</td><td>TERMINATED</td><td>     </td><td style=\"text-align: right;\">                              1  </td><td style=\"text-align: right;\">                      0</td><td style=\"text-align: right;\">                    0.0318366 </td><td style=\"text-align: right;\">                         3</td><td style=\"text-align: right;\">                        68.2128  </td><td style=\"text-align: right;\">                            5</td><td style=\"text-align: right;\">     0</td><td style=\"text-align: right;\">         2.26001</td></tr>\n",
       "<tr><td>e2e_seg_00002</td><td>RUNNING   </td><td>     </td><td style=\"text-align: right;\">                              0.4</td><td style=\"text-align: right;\">                      0</td><td style=\"text-align: right;\">                    0.0541764 </td><td style=\"text-align: right;\">                         7</td><td style=\"text-align: right;\">                         0.625505</td><td style=\"text-align: right;\">                          189</td><td style=\"text-align: right;\">      </td><td style=\"text-align: right;\">                </td></tr>\n",
       "<tr><td>e2e_seg_00003</td><td>RUNNING   </td><td>     </td><td style=\"text-align: right;\">                              1  </td><td style=\"text-align: right;\">                      1</td><td style=\"text-align: right;\">                    0.0135555 </td><td style=\"text-align: right;\">                         6</td><td style=\"text-align: right;\">                         2.93772 </td><td style=\"text-align: right;\">                          149</td><td style=\"text-align: right;\">      </td><td style=\"text-align: right;\">                </td></tr>\n",
       "<tr><td>e2e_seg_00004</td><td>RUNNING   </td><td>     </td><td style=\"text-align: right;\">                              0.6</td><td style=\"text-align: right;\">                      1</td><td style=\"text-align: right;\">                    0.0332917 </td><td style=\"text-align: right;\">                         8</td><td style=\"text-align: right;\">                         1.41607 </td><td style=\"text-align: right;\">                          131</td><td style=\"text-align: right;\">      </td><td style=\"text-align: right;\">                </td></tr>\n",
       "<tr><td>e2e_seg_00005</td><td>RUNNING   </td><td>     </td><td style=\"text-align: right;\">                              0.6</td><td style=\"text-align: right;\">                      1</td><td style=\"text-align: right;\">                    0.00946778</td><td style=\"text-align: right;\">                         5</td><td style=\"text-align: right;\">                         2.82033 </td><td style=\"text-align: right;\">                          116</td><td style=\"text-align: right;\">      </td><td style=\"text-align: right;\">                </td></tr>\n",
       "<tr><td>e2e_seg_00006</td><td>TERMINATED</td><td>     </td><td style=\"text-align: right;\">                              0.4</td><td style=\"text-align: right;\">                      0</td><td style=\"text-align: right;\">                    0.270475  </td><td style=\"text-align: right;\">                         9</td><td style=\"text-align: right;\">                         1.25404 </td><td style=\"text-align: right;\">                           25</td><td style=\"text-align: right;\">     0</td><td style=\"text-align: right;\">        15.994  </td></tr>\n",
       "<tr><td>e2e_seg_00007</td><td>TERMINATED</td><td>     </td><td style=\"text-align: right;\">                              0.8</td><td style=\"text-align: right;\">                      0</td><td style=\"text-align: right;\">                    0.0124228 </td><td style=\"text-align: right;\">                         3</td><td style=\"text-align: right;\">                         0.937609</td><td style=\"text-align: right;\">                           11</td><td style=\"text-align: right;\">     0</td><td style=\"text-align: right;\">         3.91927</td></tr>\n",
       "<tr><td>e2e_seg_00008</td><td>RUNNING   </td><td>     </td><td style=\"text-align: right;\">                              0.6</td><td style=\"text-align: right;\">                      0</td><td style=\"text-align: right;\">                    0.0850197 </td><td style=\"text-align: right;\">                         9</td><td style=\"text-align: right;\">                         1.28613 </td><td style=\"text-align: right;\">                           63</td><td style=\"text-align: right;\">      </td><td style=\"text-align: right;\">                </td></tr>\n",
       "<tr><td>e2e_seg_00009</td><td>RUNNING   </td><td>     </td><td style=\"text-align: right;\">                              1  </td><td style=\"text-align: right;\">                      1</td><td style=\"text-align: right;\">                    0.0995091 </td><td style=\"text-align: right;\">                         6</td><td style=\"text-align: right;\">                        16.4225  </td><td style=\"text-align: right;\">                          131</td><td style=\"text-align: right;\">      </td><td style=\"text-align: right;\">                </td></tr>\n",
       "<tr><td>e2e_seg_00010</td><td>TERMINATED</td><td>     </td><td style=\"text-align: right;\">                              0.8</td><td style=\"text-align: right;\">                      1</td><td style=\"text-align: right;\">                    0.0240997 </td><td style=\"text-align: right;\">                         1</td><td style=\"text-align: right;\">                         0.277352</td><td style=\"text-align: right;\">                           65</td><td style=\"text-align: right;\">     0</td><td style=\"text-align: right;\">         9.2009 </td></tr>\n",
       "<tr><td>e2e_seg_00011</td><td>TERMINATED</td><td>     </td><td style=\"text-align: right;\">                              0.4</td><td style=\"text-align: right;\">                      1</td><td style=\"text-align: right;\">                    0.0536386 </td><td style=\"text-align: right;\">                         8</td><td style=\"text-align: right;\">                         1.00503 </td><td style=\"text-align: right;\">                           70</td><td style=\"text-align: right;\">     0</td><td style=\"text-align: right;\">        36.7406 </td></tr>\n",
       "<tr><td>e2e_seg_00012</td><td>RUNNING   </td><td>     </td><td style=\"text-align: right;\">                              0.6</td><td style=\"text-align: right;\">                      0</td><td style=\"text-align: right;\">                    0.0022555 </td><td style=\"text-align: right;\">                         3</td><td style=\"text-align: right;\">                         1.87793 </td><td style=\"text-align: right;\">                          189</td><td style=\"text-align: right;\">      </td><td style=\"text-align: right;\">                </td></tr>\n",
       "<tr><td>e2e_seg_00013</td><td>RUNNING   </td><td>     </td><td style=\"text-align: right;\">                              1  </td><td style=\"text-align: right;\">                      1</td><td style=\"text-align: right;\">                    0.0825462 </td><td style=\"text-align: right;\">                         6</td><td style=\"text-align: right;\">                        25.5405  </td><td style=\"text-align: right;\">                          127</td><td style=\"text-align: right;\">      </td><td style=\"text-align: right;\">                </td></tr>\n",
       "<tr><td>e2e_seg_00014</td><td>RUNNING   </td><td>     </td><td style=\"text-align: right;\">                              0.6</td><td style=\"text-align: right;\">                      1</td><td style=\"text-align: right;\">                    0.0376149 </td><td style=\"text-align: right;\">                         9</td><td style=\"text-align: right;\">                         0.335414</td><td style=\"text-align: right;\">                          104</td><td style=\"text-align: right;\">      </td><td style=\"text-align: right;\">                </td></tr>\n",
       "</tbody>\n",
       "</table><br><br>"
      ],
      "text/plain": [
       "<IPython.core.display.HTML object>"
      ]
     },
     "metadata": {},
     "output_type": "display_data"
    },
    {
     "name": "stderr",
     "output_type": "stream",
     "text": [
      "2020-06-12 10:54:08,064\tINFO logger.py:269 -- Removed the following hyperparameter values when logging to tensorboard: {'xgbclassifier__lambda': 1}\n"
     ]
    },
    {
     "name": "stdout",
     "output_type": "stream",
     "text": [
      "Result for e2e_seg_00005:\n",
      "  date: 2020-06-12_10-54-08\n",
      "  done: true\n",
      "  experiment_id: 4547f52deec94917b27e0fd937d8334e\n",
      "  experiment_tag: 5_xgbclassifier__colsample_bytree=0.6,xgbclassifier__lambda=1,xgbclassifier__learning_rate=0.0094678,xgbclassifier__max_depth=5,xgbclassifier__min_child_weight=2.8203,xgbclassifier__n_estimators=116\n",
      "  hostname: cosmos-ml\n",
      "  iterations_since_restore: 1\n",
      "  mean_f1_score: 0.5672008671134119\n",
      "  node_ip: 192.168.1.39\n",
      "  pid: 133601\n",
      "  std_f1_score: 0.06624935164701044\n",
      "  time_since_restore: 51.36686944961548\n",
      "  time_this_iter_s: 51.36686944961548\n",
      "  time_total_s: 51.36686944961548\n",
      "  timestamp: 1591955648\n",
      "  timesteps_since_restore: 0\n",
      "  training_iteration: 0\n",
      "  trial_id: '00005'\n",
      "  \n"
     ]
    },
    {
     "data": {
      "text/html": [
       "== Status ==<br>Memory usage on this node: 10.0/62.8 GiB<br>Using FIFO scheduling algorithm.<br>Resources requested: 8/10 CPUs, 0/0 GPUs, 0.0/33.06 GiB heap, 0.0/11.38 GiB objects<br>Result logdir: /home/steve/ray_results/seg_facies/e2e_seg<br>Number of trials: 15 (8 RUNNING, 7 TERMINATED)<br><table>\n",
       "<thead>\n",
       "<tr><th>Trial name   </th><th>status    </th><th>loc  </th><th style=\"text-align: right;\">  xgbclassifier__colsample_bytree</th><th style=\"text-align: right;\">  xgbclassifier__lambda</th><th style=\"text-align: right;\">  xgbclassifier__learning_rate</th><th style=\"text-align: right;\">  xgbclassifier__max_depth</th><th style=\"text-align: right;\">  xgbclassifier__min_child_weight</th><th style=\"text-align: right;\">  xgbclassifier__n_estimators</th><th style=\"text-align: right;\">  iter</th><th style=\"text-align: right;\">  total time (s)</th></tr>\n",
       "</thead>\n",
       "<tbody>\n",
       "<tr><td>e2e_seg_00000</td><td>TERMINATED</td><td>     </td><td style=\"text-align: right;\">                              0.4</td><td style=\"text-align: right;\">                      1</td><td style=\"text-align: right;\">                    0.151291  </td><td style=\"text-align: right;\">                         6</td><td style=\"text-align: right;\">                         0.803151</td><td style=\"text-align: right;\">                           37</td><td style=\"text-align: right;\">     0</td><td style=\"text-align: right;\">        15.7197 </td></tr>\n",
       "<tr><td>e2e_seg_00001</td><td>TERMINATED</td><td>     </td><td style=\"text-align: right;\">                              1  </td><td style=\"text-align: right;\">                      0</td><td style=\"text-align: right;\">                    0.0318366 </td><td style=\"text-align: right;\">                         3</td><td style=\"text-align: right;\">                        68.2128  </td><td style=\"text-align: right;\">                            5</td><td style=\"text-align: right;\">     0</td><td style=\"text-align: right;\">         2.26001</td></tr>\n",
       "<tr><td>e2e_seg_00002</td><td>RUNNING   </td><td>     </td><td style=\"text-align: right;\">                              0.4</td><td style=\"text-align: right;\">                      0</td><td style=\"text-align: right;\">                    0.0541764 </td><td style=\"text-align: right;\">                         7</td><td style=\"text-align: right;\">                         0.625505</td><td style=\"text-align: right;\">                          189</td><td style=\"text-align: right;\">      </td><td style=\"text-align: right;\">                </td></tr>\n",
       "<tr><td>e2e_seg_00003</td><td>RUNNING   </td><td>     </td><td style=\"text-align: right;\">                              1  </td><td style=\"text-align: right;\">                      1</td><td style=\"text-align: right;\">                    0.0135555 </td><td style=\"text-align: right;\">                         6</td><td style=\"text-align: right;\">                         2.93772 </td><td style=\"text-align: right;\">                          149</td><td style=\"text-align: right;\">      </td><td style=\"text-align: right;\">                </td></tr>\n",
       "<tr><td>e2e_seg_00004</td><td>RUNNING   </td><td>     </td><td style=\"text-align: right;\">                              0.6</td><td style=\"text-align: right;\">                      1</td><td style=\"text-align: right;\">                    0.0332917 </td><td style=\"text-align: right;\">                         8</td><td style=\"text-align: right;\">                         1.41607 </td><td style=\"text-align: right;\">                          131</td><td style=\"text-align: right;\">      </td><td style=\"text-align: right;\">                </td></tr>\n",
       "<tr><td>e2e_seg_00005</td><td>TERMINATED</td><td>     </td><td style=\"text-align: right;\">                              0.6</td><td style=\"text-align: right;\">                      1</td><td style=\"text-align: right;\">                    0.00946778</td><td style=\"text-align: right;\">                         5</td><td style=\"text-align: right;\">                         2.82033 </td><td style=\"text-align: right;\">                          116</td><td style=\"text-align: right;\">     0</td><td style=\"text-align: right;\">        51.3669 </td></tr>\n",
       "<tr><td>e2e_seg_00006</td><td>TERMINATED</td><td>     </td><td style=\"text-align: right;\">                              0.4</td><td style=\"text-align: right;\">                      0</td><td style=\"text-align: right;\">                    0.270475  </td><td style=\"text-align: right;\">                         9</td><td style=\"text-align: right;\">                         1.25404 </td><td style=\"text-align: right;\">                           25</td><td style=\"text-align: right;\">     0</td><td style=\"text-align: right;\">        15.994  </td></tr>\n",
       "<tr><td>e2e_seg_00007</td><td>TERMINATED</td><td>     </td><td style=\"text-align: right;\">                              0.8</td><td style=\"text-align: right;\">                      0</td><td style=\"text-align: right;\">                    0.0124228 </td><td style=\"text-align: right;\">                         3</td><td style=\"text-align: right;\">                         0.937609</td><td style=\"text-align: right;\">                           11</td><td style=\"text-align: right;\">     0</td><td style=\"text-align: right;\">         3.91927</td></tr>\n",
       "<tr><td>e2e_seg_00008</td><td>RUNNING   </td><td>     </td><td style=\"text-align: right;\">                              0.6</td><td style=\"text-align: right;\">                      0</td><td style=\"text-align: right;\">                    0.0850197 </td><td style=\"text-align: right;\">                         9</td><td style=\"text-align: right;\">                         1.28613 </td><td style=\"text-align: right;\">                           63</td><td style=\"text-align: right;\">      </td><td style=\"text-align: right;\">                </td></tr>\n",
       "<tr><td>e2e_seg_00009</td><td>RUNNING   </td><td>     </td><td style=\"text-align: right;\">                              1  </td><td style=\"text-align: right;\">                      1</td><td style=\"text-align: right;\">                    0.0995091 </td><td style=\"text-align: right;\">                         6</td><td style=\"text-align: right;\">                        16.4225  </td><td style=\"text-align: right;\">                          131</td><td style=\"text-align: right;\">      </td><td style=\"text-align: right;\">                </td></tr>\n",
       "<tr><td>e2e_seg_00010</td><td>TERMINATED</td><td>     </td><td style=\"text-align: right;\">                              0.8</td><td style=\"text-align: right;\">                      1</td><td style=\"text-align: right;\">                    0.0240997 </td><td style=\"text-align: right;\">                         1</td><td style=\"text-align: right;\">                         0.277352</td><td style=\"text-align: right;\">                           65</td><td style=\"text-align: right;\">     0</td><td style=\"text-align: right;\">         9.2009 </td></tr>\n",
       "<tr><td>e2e_seg_00011</td><td>TERMINATED</td><td>     </td><td style=\"text-align: right;\">                              0.4</td><td style=\"text-align: right;\">                      1</td><td style=\"text-align: right;\">                    0.0536386 </td><td style=\"text-align: right;\">                         8</td><td style=\"text-align: right;\">                         1.00503 </td><td style=\"text-align: right;\">                           70</td><td style=\"text-align: right;\">     0</td><td style=\"text-align: right;\">        36.7406 </td></tr>\n",
       "<tr><td>e2e_seg_00012</td><td>RUNNING   </td><td>     </td><td style=\"text-align: right;\">                              0.6</td><td style=\"text-align: right;\">                      0</td><td style=\"text-align: right;\">                    0.0022555 </td><td style=\"text-align: right;\">                         3</td><td style=\"text-align: right;\">                         1.87793 </td><td style=\"text-align: right;\">                          189</td><td style=\"text-align: right;\">      </td><td style=\"text-align: right;\">                </td></tr>\n",
       "<tr><td>e2e_seg_00013</td><td>RUNNING   </td><td>     </td><td style=\"text-align: right;\">                              1  </td><td style=\"text-align: right;\">                      1</td><td style=\"text-align: right;\">                    0.0825462 </td><td style=\"text-align: right;\">                         6</td><td style=\"text-align: right;\">                        25.5405  </td><td style=\"text-align: right;\">                          127</td><td style=\"text-align: right;\">      </td><td style=\"text-align: right;\">                </td></tr>\n",
       "<tr><td>e2e_seg_00014</td><td>RUNNING   </td><td>     </td><td style=\"text-align: right;\">                              0.6</td><td style=\"text-align: right;\">                      1</td><td style=\"text-align: right;\">                    0.0376149 </td><td style=\"text-align: right;\">                         9</td><td style=\"text-align: right;\">                         0.335414</td><td style=\"text-align: right;\">                          104</td><td style=\"text-align: right;\">      </td><td style=\"text-align: right;\">                </td></tr>\n",
       "</tbody>\n",
       "</table><br><br>"
      ],
      "text/plain": [
       "<IPython.core.display.HTML object>"
      ]
     },
     "metadata": {},
     "output_type": "display_data"
    },
    {
     "name": "stderr",
     "output_type": "stream",
     "text": [
      "2020-06-12 10:54:10,915\tINFO logger.py:269 -- Removed the following hyperparameter values when logging to tensorboard: {'xgbclassifier__lambda': 0}\n"
     ]
    },
    {
     "name": "stdout",
     "output_type": "stream",
     "text": [
      "Result for e2e_seg_00008:\n",
      "  date: 2020-06-12_10-54-10\n",
      "  done: true\n",
      "  experiment_id: 031f3239eb54418fa1d568aa4fabaf7a\n",
      "  experiment_tag: 8_xgbclassifier__colsample_bytree=0.6,xgbclassifier__lambda=0,xgbclassifier__learning_rate=0.08502,xgbclassifier__max_depth=9,xgbclassifier__min_child_weight=1.2861,xgbclassifier__n_estimators=63\n",
      "  hostname: cosmos-ml\n",
      "  iterations_since_restore: 1\n",
      "  mean_f1_score: 0.5782516313398098\n",
      "  node_ip: 192.168.1.39\n",
      "  pid: 133905\n",
      "  std_f1_score: 0.09117137335118143\n",
      "  time_since_restore: 53.6666738986969\n",
      "  time_this_iter_s: 53.6666738986969\n",
      "  time_total_s: 53.6666738986969\n",
      "  timestamp: 1591955650\n",
      "  timesteps_since_restore: 0\n",
      "  training_iteration: 0\n",
      "  trial_id: 00008\n",
      "  \n"
     ]
    },
    {
     "name": "stderr",
     "output_type": "stream",
     "text": [
      "2020-06-12 10:54:21,786\tINFO logger.py:269 -- Removed the following hyperparameter values when logging to tensorboard: {'xgbclassifier__lambda': 0}\n"
     ]
    },
    {
     "name": "stdout",
     "output_type": "stream",
     "text": [
      "Result for e2e_seg_00012:\n",
      "  date: 2020-06-12_10-54-21\n",
      "  done: true\n",
      "  experiment_id: 85eb40d4f98a4e6a9182eb3a6decbf25\n",
      "  experiment_tag: 12_xgbclassifier__colsample_bytree=0.6,xgbclassifier__lambda=0,xgbclassifier__learning_rate=0.0022555,xgbclassifier__max_depth=3,xgbclassifier__min_child_weight=1.8779,xgbclassifier__n_estimators=189\n",
      "  hostname: cosmos-ml\n",
      "  iterations_since_restore: 1\n",
      "  mean_f1_score: 0.5424361901893092\n",
      "  node_ip: 192.168.1.39\n",
      "  pid: 133919\n",
      "  std_f1_score: 0.0788970174297397\n",
      "  time_since_restore: 51.90439295768738\n",
      "  time_this_iter_s: 51.90439295768738\n",
      "  time_total_s: 51.90439295768738\n",
      "  timestamp: 1591955661\n",
      "  timesteps_since_restore: 0\n",
      "  training_iteration: 0\n",
      "  trial_id: '00012'\n",
      "  \n"
     ]
    },
    {
     "data": {
      "text/html": [
       "== Status ==<br>Memory usage on this node: 9.8/62.8 GiB<br>Using FIFO scheduling algorithm.<br>Resources requested: 6/10 CPUs, 0/0 GPUs, 0.0/33.06 GiB heap, 0.0/11.38 GiB objects<br>Result logdir: /home/steve/ray_results/seg_facies/e2e_seg<br>Number of trials: 15 (6 RUNNING, 9 TERMINATED)<br><table>\n",
       "<thead>\n",
       "<tr><th>Trial name   </th><th>status    </th><th>loc  </th><th style=\"text-align: right;\">  xgbclassifier__colsample_bytree</th><th style=\"text-align: right;\">  xgbclassifier__lambda</th><th style=\"text-align: right;\">  xgbclassifier__learning_rate</th><th style=\"text-align: right;\">  xgbclassifier__max_depth</th><th style=\"text-align: right;\">  xgbclassifier__min_child_weight</th><th style=\"text-align: right;\">  xgbclassifier__n_estimators</th><th style=\"text-align: right;\">  iter</th><th style=\"text-align: right;\">  total time (s)</th></tr>\n",
       "</thead>\n",
       "<tbody>\n",
       "<tr><td>e2e_seg_00000</td><td>TERMINATED</td><td>     </td><td style=\"text-align: right;\">                              0.4</td><td style=\"text-align: right;\">                      1</td><td style=\"text-align: right;\">                    0.151291  </td><td style=\"text-align: right;\">                         6</td><td style=\"text-align: right;\">                         0.803151</td><td style=\"text-align: right;\">                           37</td><td style=\"text-align: right;\">     0</td><td style=\"text-align: right;\">        15.7197 </td></tr>\n",
       "<tr><td>e2e_seg_00001</td><td>TERMINATED</td><td>     </td><td style=\"text-align: right;\">                              1  </td><td style=\"text-align: right;\">                      0</td><td style=\"text-align: right;\">                    0.0318366 </td><td style=\"text-align: right;\">                         3</td><td style=\"text-align: right;\">                        68.2128  </td><td style=\"text-align: right;\">                            5</td><td style=\"text-align: right;\">     0</td><td style=\"text-align: right;\">         2.26001</td></tr>\n",
       "<tr><td>e2e_seg_00002</td><td>RUNNING   </td><td>     </td><td style=\"text-align: right;\">                              0.4</td><td style=\"text-align: right;\">                      0</td><td style=\"text-align: right;\">                    0.0541764 </td><td style=\"text-align: right;\">                         7</td><td style=\"text-align: right;\">                         0.625505</td><td style=\"text-align: right;\">                          189</td><td style=\"text-align: right;\">      </td><td style=\"text-align: right;\">                </td></tr>\n",
       "<tr><td>e2e_seg_00003</td><td>RUNNING   </td><td>     </td><td style=\"text-align: right;\">                              1  </td><td style=\"text-align: right;\">                      1</td><td style=\"text-align: right;\">                    0.0135555 </td><td style=\"text-align: right;\">                         6</td><td style=\"text-align: right;\">                         2.93772 </td><td style=\"text-align: right;\">                          149</td><td style=\"text-align: right;\">      </td><td style=\"text-align: right;\">                </td></tr>\n",
       "<tr><td>e2e_seg_00004</td><td>RUNNING   </td><td>     </td><td style=\"text-align: right;\">                              0.6</td><td style=\"text-align: right;\">                      1</td><td style=\"text-align: right;\">                    0.0332917 </td><td style=\"text-align: right;\">                         8</td><td style=\"text-align: right;\">                         1.41607 </td><td style=\"text-align: right;\">                          131</td><td style=\"text-align: right;\">      </td><td style=\"text-align: right;\">                </td></tr>\n",
       "<tr><td>e2e_seg_00005</td><td>TERMINATED</td><td>     </td><td style=\"text-align: right;\">                              0.6</td><td style=\"text-align: right;\">                      1</td><td style=\"text-align: right;\">                    0.00946778</td><td style=\"text-align: right;\">                         5</td><td style=\"text-align: right;\">                         2.82033 </td><td style=\"text-align: right;\">                          116</td><td style=\"text-align: right;\">     0</td><td style=\"text-align: right;\">        51.3669 </td></tr>\n",
       "<tr><td>e2e_seg_00006</td><td>TERMINATED</td><td>     </td><td style=\"text-align: right;\">                              0.4</td><td style=\"text-align: right;\">                      0</td><td style=\"text-align: right;\">                    0.270475  </td><td style=\"text-align: right;\">                         9</td><td style=\"text-align: right;\">                         1.25404 </td><td style=\"text-align: right;\">                           25</td><td style=\"text-align: right;\">     0</td><td style=\"text-align: right;\">        15.994  </td></tr>\n",
       "<tr><td>e2e_seg_00007</td><td>TERMINATED</td><td>     </td><td style=\"text-align: right;\">                              0.8</td><td style=\"text-align: right;\">                      0</td><td style=\"text-align: right;\">                    0.0124228 </td><td style=\"text-align: right;\">                         3</td><td style=\"text-align: right;\">                         0.937609</td><td style=\"text-align: right;\">                           11</td><td style=\"text-align: right;\">     0</td><td style=\"text-align: right;\">         3.91927</td></tr>\n",
       "<tr><td>e2e_seg_00008</td><td>TERMINATED</td><td>     </td><td style=\"text-align: right;\">                              0.6</td><td style=\"text-align: right;\">                      0</td><td style=\"text-align: right;\">                    0.0850197 </td><td style=\"text-align: right;\">                         9</td><td style=\"text-align: right;\">                         1.28613 </td><td style=\"text-align: right;\">                           63</td><td style=\"text-align: right;\">     0</td><td style=\"text-align: right;\">        53.6667 </td></tr>\n",
       "<tr><td>e2e_seg_00009</td><td>RUNNING   </td><td>     </td><td style=\"text-align: right;\">                              1  </td><td style=\"text-align: right;\">                      1</td><td style=\"text-align: right;\">                    0.0995091 </td><td style=\"text-align: right;\">                         6</td><td style=\"text-align: right;\">                        16.4225  </td><td style=\"text-align: right;\">                          131</td><td style=\"text-align: right;\">      </td><td style=\"text-align: right;\">                </td></tr>\n",
       "<tr><td>e2e_seg_00010</td><td>TERMINATED</td><td>     </td><td style=\"text-align: right;\">                              0.8</td><td style=\"text-align: right;\">                      1</td><td style=\"text-align: right;\">                    0.0240997 </td><td style=\"text-align: right;\">                         1</td><td style=\"text-align: right;\">                         0.277352</td><td style=\"text-align: right;\">                           65</td><td style=\"text-align: right;\">     0</td><td style=\"text-align: right;\">         9.2009 </td></tr>\n",
       "<tr><td>e2e_seg_00011</td><td>TERMINATED</td><td>     </td><td style=\"text-align: right;\">                              0.4</td><td style=\"text-align: right;\">                      1</td><td style=\"text-align: right;\">                    0.0536386 </td><td style=\"text-align: right;\">                         8</td><td style=\"text-align: right;\">                         1.00503 </td><td style=\"text-align: right;\">                           70</td><td style=\"text-align: right;\">     0</td><td style=\"text-align: right;\">        36.7406 </td></tr>\n",
       "<tr><td>e2e_seg_00012</td><td>TERMINATED</td><td>     </td><td style=\"text-align: right;\">                              0.6</td><td style=\"text-align: right;\">                      0</td><td style=\"text-align: right;\">                    0.0022555 </td><td style=\"text-align: right;\">                         3</td><td style=\"text-align: right;\">                         1.87793 </td><td style=\"text-align: right;\">                          189</td><td style=\"text-align: right;\">     0</td><td style=\"text-align: right;\">        51.9044 </td></tr>\n",
       "<tr><td>e2e_seg_00013</td><td>RUNNING   </td><td>     </td><td style=\"text-align: right;\">                              1  </td><td style=\"text-align: right;\">                      1</td><td style=\"text-align: right;\">                    0.0825462 </td><td style=\"text-align: right;\">                         6</td><td style=\"text-align: right;\">                        25.5405  </td><td style=\"text-align: right;\">                          127</td><td style=\"text-align: right;\">      </td><td style=\"text-align: right;\">                </td></tr>\n",
       "<tr><td>e2e_seg_00014</td><td>RUNNING   </td><td>     </td><td style=\"text-align: right;\">                              0.6</td><td style=\"text-align: right;\">                      1</td><td style=\"text-align: right;\">                    0.0376149 </td><td style=\"text-align: right;\">                         9</td><td style=\"text-align: right;\">                         0.335414</td><td style=\"text-align: right;\">                          104</td><td style=\"text-align: right;\">      </td><td style=\"text-align: right;\">                </td></tr>\n",
       "</tbody>\n",
       "</table><br><br>"
      ],
      "text/plain": [
       "<IPython.core.display.HTML object>"
      ]
     },
     "metadata": {},
     "output_type": "display_data"
    },
    {
     "name": "stderr",
     "output_type": "stream",
     "text": [
      "2020-06-12 10:54:38,777\tINFO logger.py:269 -- Removed the following hyperparameter values when logging to tensorboard: {'xgbclassifier__lambda': 1}\n"
     ]
    },
    {
     "name": "stdout",
     "output_type": "stream",
     "text": [
      "Result for e2e_seg_00009:\n",
      "  date: 2020-06-12_10-54-38\n",
      "  done: true\n",
      "  experiment_id: 159f1281ebe4435b98cb08c54163f29d\n",
      "  experiment_tag: 9_xgbclassifier__colsample_bytree=1.0,xgbclassifier__lambda=1,xgbclassifier__learning_rate=0.099509,xgbclassifier__max_depth=6,xgbclassifier__min_child_weight=16.423,xgbclassifier__n_estimators=131\n",
      "  hostname: cosmos-ml\n",
      "  iterations_since_restore: 1\n",
      "  mean_f1_score: 0.574088852473478\n",
      "  node_ip: 192.168.1.39\n",
      "  pid: 133907\n",
      "  std_f1_score: 0.08213351708523137\n",
      "  time_since_restore: 81.42910099029541\n",
      "  time_this_iter_s: 81.42910099029541\n",
      "  time_total_s: 81.42910099029541\n",
      "  timestamp: 1591955678\n",
      "  timesteps_since_restore: 0\n",
      "  training_iteration: 0\n",
      "  trial_id: 00009\n",
      "  \n"
     ]
    },
    {
     "data": {
      "text/html": [
       "== Status ==<br>Memory usage on this node: 9.9/62.8 GiB<br>Using FIFO scheduling algorithm.<br>Resources requested: 5/10 CPUs, 0/0 GPUs, 0.0/33.06 GiB heap, 0.0/11.38 GiB objects<br>Result logdir: /home/steve/ray_results/seg_facies/e2e_seg<br>Number of trials: 15 (5 RUNNING, 10 TERMINATED)<br><table>\n",
       "<thead>\n",
       "<tr><th>Trial name   </th><th>status    </th><th>loc  </th><th style=\"text-align: right;\">  xgbclassifier__colsample_bytree</th><th style=\"text-align: right;\">  xgbclassifier__lambda</th><th style=\"text-align: right;\">  xgbclassifier__learning_rate</th><th style=\"text-align: right;\">  xgbclassifier__max_depth</th><th style=\"text-align: right;\">  xgbclassifier__min_child_weight</th><th style=\"text-align: right;\">  xgbclassifier__n_estimators</th><th style=\"text-align: right;\">  iter</th><th style=\"text-align: right;\">  total time (s)</th></tr>\n",
       "</thead>\n",
       "<tbody>\n",
       "<tr><td>e2e_seg_00000</td><td>TERMINATED</td><td>     </td><td style=\"text-align: right;\">                              0.4</td><td style=\"text-align: right;\">                      1</td><td style=\"text-align: right;\">                    0.151291  </td><td style=\"text-align: right;\">                         6</td><td style=\"text-align: right;\">                         0.803151</td><td style=\"text-align: right;\">                           37</td><td style=\"text-align: right;\">     0</td><td style=\"text-align: right;\">        15.7197 </td></tr>\n",
       "<tr><td>e2e_seg_00001</td><td>TERMINATED</td><td>     </td><td style=\"text-align: right;\">                              1  </td><td style=\"text-align: right;\">                      0</td><td style=\"text-align: right;\">                    0.0318366 </td><td style=\"text-align: right;\">                         3</td><td style=\"text-align: right;\">                        68.2128  </td><td style=\"text-align: right;\">                            5</td><td style=\"text-align: right;\">     0</td><td style=\"text-align: right;\">         2.26001</td></tr>\n",
       "<tr><td>e2e_seg_00002</td><td>RUNNING   </td><td>     </td><td style=\"text-align: right;\">                              0.4</td><td style=\"text-align: right;\">                      0</td><td style=\"text-align: right;\">                    0.0541764 </td><td style=\"text-align: right;\">                         7</td><td style=\"text-align: right;\">                         0.625505</td><td style=\"text-align: right;\">                          189</td><td style=\"text-align: right;\">      </td><td style=\"text-align: right;\">                </td></tr>\n",
       "<tr><td>e2e_seg_00003</td><td>RUNNING   </td><td>     </td><td style=\"text-align: right;\">                              1  </td><td style=\"text-align: right;\">                      1</td><td style=\"text-align: right;\">                    0.0135555 </td><td style=\"text-align: right;\">                         6</td><td style=\"text-align: right;\">                         2.93772 </td><td style=\"text-align: right;\">                          149</td><td style=\"text-align: right;\">      </td><td style=\"text-align: right;\">                </td></tr>\n",
       "<tr><td>e2e_seg_00004</td><td>RUNNING   </td><td>     </td><td style=\"text-align: right;\">                              0.6</td><td style=\"text-align: right;\">                      1</td><td style=\"text-align: right;\">                    0.0332917 </td><td style=\"text-align: right;\">                         8</td><td style=\"text-align: right;\">                         1.41607 </td><td style=\"text-align: right;\">                          131</td><td style=\"text-align: right;\">      </td><td style=\"text-align: right;\">                </td></tr>\n",
       "<tr><td>e2e_seg_00005</td><td>TERMINATED</td><td>     </td><td style=\"text-align: right;\">                              0.6</td><td style=\"text-align: right;\">                      1</td><td style=\"text-align: right;\">                    0.00946778</td><td style=\"text-align: right;\">                         5</td><td style=\"text-align: right;\">                         2.82033 </td><td style=\"text-align: right;\">                          116</td><td style=\"text-align: right;\">     0</td><td style=\"text-align: right;\">        51.3669 </td></tr>\n",
       "<tr><td>e2e_seg_00006</td><td>TERMINATED</td><td>     </td><td style=\"text-align: right;\">                              0.4</td><td style=\"text-align: right;\">                      0</td><td style=\"text-align: right;\">                    0.270475  </td><td style=\"text-align: right;\">                         9</td><td style=\"text-align: right;\">                         1.25404 </td><td style=\"text-align: right;\">                           25</td><td style=\"text-align: right;\">     0</td><td style=\"text-align: right;\">        15.994  </td></tr>\n",
       "<tr><td>e2e_seg_00007</td><td>TERMINATED</td><td>     </td><td style=\"text-align: right;\">                              0.8</td><td style=\"text-align: right;\">                      0</td><td style=\"text-align: right;\">                    0.0124228 </td><td style=\"text-align: right;\">                         3</td><td style=\"text-align: right;\">                         0.937609</td><td style=\"text-align: right;\">                           11</td><td style=\"text-align: right;\">     0</td><td style=\"text-align: right;\">         3.91927</td></tr>\n",
       "<tr><td>e2e_seg_00008</td><td>TERMINATED</td><td>     </td><td style=\"text-align: right;\">                              0.6</td><td style=\"text-align: right;\">                      0</td><td style=\"text-align: right;\">                    0.0850197 </td><td style=\"text-align: right;\">                         9</td><td style=\"text-align: right;\">                         1.28613 </td><td style=\"text-align: right;\">                           63</td><td style=\"text-align: right;\">     0</td><td style=\"text-align: right;\">        53.6667 </td></tr>\n",
       "<tr><td>e2e_seg_00009</td><td>TERMINATED</td><td>     </td><td style=\"text-align: right;\">                              1  </td><td style=\"text-align: right;\">                      1</td><td style=\"text-align: right;\">                    0.0995091 </td><td style=\"text-align: right;\">                         6</td><td style=\"text-align: right;\">                        16.4225  </td><td style=\"text-align: right;\">                          131</td><td style=\"text-align: right;\">     0</td><td style=\"text-align: right;\">        81.4291 </td></tr>\n",
       "<tr><td>e2e_seg_00010</td><td>TERMINATED</td><td>     </td><td style=\"text-align: right;\">                              0.8</td><td style=\"text-align: right;\">                      1</td><td style=\"text-align: right;\">                    0.0240997 </td><td style=\"text-align: right;\">                         1</td><td style=\"text-align: right;\">                         0.277352</td><td style=\"text-align: right;\">                           65</td><td style=\"text-align: right;\">     0</td><td style=\"text-align: right;\">         9.2009 </td></tr>\n",
       "<tr><td>e2e_seg_00011</td><td>TERMINATED</td><td>     </td><td style=\"text-align: right;\">                              0.4</td><td style=\"text-align: right;\">                      1</td><td style=\"text-align: right;\">                    0.0536386 </td><td style=\"text-align: right;\">                         8</td><td style=\"text-align: right;\">                         1.00503 </td><td style=\"text-align: right;\">                           70</td><td style=\"text-align: right;\">     0</td><td style=\"text-align: right;\">        36.7406 </td></tr>\n",
       "<tr><td>e2e_seg_00012</td><td>TERMINATED</td><td>     </td><td style=\"text-align: right;\">                              0.6</td><td style=\"text-align: right;\">                      0</td><td style=\"text-align: right;\">                    0.0022555 </td><td style=\"text-align: right;\">                         3</td><td style=\"text-align: right;\">                         1.87793 </td><td style=\"text-align: right;\">                          189</td><td style=\"text-align: right;\">     0</td><td style=\"text-align: right;\">        51.9044 </td></tr>\n",
       "<tr><td>e2e_seg_00013</td><td>RUNNING   </td><td>     </td><td style=\"text-align: right;\">                              1  </td><td style=\"text-align: right;\">                      1</td><td style=\"text-align: right;\">                    0.0825462 </td><td style=\"text-align: right;\">                         6</td><td style=\"text-align: right;\">                        25.5405  </td><td style=\"text-align: right;\">                          127</td><td style=\"text-align: right;\">      </td><td style=\"text-align: right;\">                </td></tr>\n",
       "<tr><td>e2e_seg_00014</td><td>RUNNING   </td><td>     </td><td style=\"text-align: right;\">                              0.6</td><td style=\"text-align: right;\">                      1</td><td style=\"text-align: right;\">                    0.0376149 </td><td style=\"text-align: right;\">                         9</td><td style=\"text-align: right;\">                         0.335414</td><td style=\"text-align: right;\">                          104</td><td style=\"text-align: right;\">      </td><td style=\"text-align: right;\">                </td></tr>\n",
       "</tbody>\n",
       "</table><br><br>"
      ],
      "text/plain": [
       "<IPython.core.display.HTML object>"
      ]
     },
     "metadata": {},
     "output_type": "display_data"
    },
    {
     "name": "stderr",
     "output_type": "stream",
     "text": [
      "2020-06-12 10:54:40,406\tINFO logger.py:269 -- Removed the following hyperparameter values when logging to tensorboard: {'xgbclassifier__lambda': 1}\n"
     ]
    },
    {
     "name": "stdout",
     "output_type": "stream",
     "text": [
      "Result for e2e_seg_00004:\n",
      "  date: 2020-06-12_10-54-40\n",
      "  done: true\n",
      "  experiment_id: 48e35f4b3c7e4a50b54118a73f4f8a05\n",
      "  experiment_tag: 4_xgbclassifier__colsample_bytree=0.6,xgbclassifier__lambda=1,xgbclassifier__learning_rate=0.033292,xgbclassifier__max_depth=8,xgbclassifier__min_child_weight=1.4161,xgbclassifier__n_estimators=131\n",
      "  hostname: cosmos-ml\n",
      "  iterations_since_restore: 1\n",
      "  mean_f1_score: 0.5823037772492464\n",
      "  node_ip: 192.168.1.39\n",
      "  pid: 133603\n",
      "  std_f1_score: 0.08431328144453047\n",
      "  time_since_restore: 83.72256922721863\n",
      "  time_this_iter_s: 83.72256922721863\n",
      "  time_total_s: 83.72256922721863\n",
      "  timestamp: 1591955680\n",
      "  timesteps_since_restore: 0\n",
      "  training_iteration: 0\n",
      "  trial_id: '00004'\n",
      "  \n"
     ]
    },
    {
     "name": "stderr",
     "output_type": "stream",
     "text": [
      "2020-06-12 10:54:42,834\tINFO logger.py:269 -- Removed the following hyperparameter values when logging to tensorboard: {'xgbclassifier__lambda': 0}\n"
     ]
    },
    {
     "name": "stdout",
     "output_type": "stream",
     "text": [
      "Result for e2e_seg_00002:\n",
      "  date: 2020-06-12_10-54-42\n",
      "  done: true\n",
      "  experiment_id: d649ea7c74ff420480810c4667c09da0\n",
      "  experiment_tag: 2_xgbclassifier__colsample_bytree=0.4,xgbclassifier__lambda=0,xgbclassifier__learning_rate=0.054176,xgbclassifier__max_depth=7,xgbclassifier__min_child_weight=0.62551,xgbclassifier__n_estimators=189\n",
      "  hostname: cosmos-ml\n",
      "  iterations_since_restore: 1\n",
      "  mean_f1_score: 0.5784799580969258\n",
      "  node_ip: 192.168.1.39\n",
      "  pid: 133600\n",
      "  std_f1_score: 0.09636743614921463\n",
      "  time_since_restore: 86.13740515708923\n",
      "  time_this_iter_s: 86.13740515708923\n",
      "  time_total_s: 86.13740515708923\n",
      "  timestamp: 1591955682\n",
      "  timesteps_since_restore: 0\n",
      "  training_iteration: 0\n",
      "  trial_id: '00002'\n",
      "  \n"
     ]
    },
    {
     "name": "stderr",
     "output_type": "stream",
     "text": [
      "2020-06-12 10:54:45,579\tINFO logger.py:269 -- Removed the following hyperparameter values when logging to tensorboard: {'xgbclassifier__lambda': 1}\n"
     ]
    },
    {
     "name": "stdout",
     "output_type": "stream",
     "text": [
      "Result for e2e_seg_00013:\n",
      "  date: 2020-06-12_10-54-45\n",
      "  done: true\n",
      "  experiment_id: 4b6945fe88a649f58c5ac25745a0c145\n",
      "  experiment_tag: 13_xgbclassifier__colsample_bytree=1.0,xgbclassifier__lambda=1,xgbclassifier__learning_rate=0.082546,xgbclassifier__max_depth=6,xgbclassifier__min_child_weight=25.54,xgbclassifier__n_estimators=127\n",
      "  hostname: cosmos-ml\n",
      "  iterations_since_restore: 1\n",
      "  mean_f1_score: 0.5703885858634541\n",
      "  node_ip: 192.168.1.39\n",
      "  pid: 133996\n",
      "  std_f1_score: 0.061889126495812706\n",
      "  time_since_restore: 71.9139757156372\n",
      "  time_this_iter_s: 71.9139757156372\n",
      "  time_total_s: 71.9139757156372\n",
      "  timestamp: 1591955685\n",
      "  timesteps_since_restore: 0\n",
      "  training_iteration: 0\n",
      "  trial_id: '00013'\n",
      "  \n"
     ]
    },
    {
     "data": {
      "text/html": [
       "== Status ==<br>Memory usage on this node: 9.5/62.8 GiB<br>Using FIFO scheduling algorithm.<br>Resources requested: 2/10 CPUs, 0/0 GPUs, 0.0/33.06 GiB heap, 0.0/11.38 GiB objects<br>Result logdir: /home/steve/ray_results/seg_facies/e2e_seg<br>Number of trials: 15 (2 RUNNING, 13 TERMINATED)<br><table>\n",
       "<thead>\n",
       "<tr><th>Trial name   </th><th>status    </th><th>loc  </th><th style=\"text-align: right;\">  xgbclassifier__colsample_bytree</th><th style=\"text-align: right;\">  xgbclassifier__lambda</th><th style=\"text-align: right;\">  xgbclassifier__learning_rate</th><th style=\"text-align: right;\">  xgbclassifier__max_depth</th><th style=\"text-align: right;\">  xgbclassifier__min_child_weight</th><th style=\"text-align: right;\">  xgbclassifier__n_estimators</th><th style=\"text-align: right;\">  iter</th><th style=\"text-align: right;\">  total time (s)</th></tr>\n",
       "</thead>\n",
       "<tbody>\n",
       "<tr><td>e2e_seg_00000</td><td>TERMINATED</td><td>     </td><td style=\"text-align: right;\">                              0.4</td><td style=\"text-align: right;\">                      1</td><td style=\"text-align: right;\">                    0.151291  </td><td style=\"text-align: right;\">                         6</td><td style=\"text-align: right;\">                         0.803151</td><td style=\"text-align: right;\">                           37</td><td style=\"text-align: right;\">     0</td><td style=\"text-align: right;\">        15.7197 </td></tr>\n",
       "<tr><td>e2e_seg_00001</td><td>TERMINATED</td><td>     </td><td style=\"text-align: right;\">                              1  </td><td style=\"text-align: right;\">                      0</td><td style=\"text-align: right;\">                    0.0318366 </td><td style=\"text-align: right;\">                         3</td><td style=\"text-align: right;\">                        68.2128  </td><td style=\"text-align: right;\">                            5</td><td style=\"text-align: right;\">     0</td><td style=\"text-align: right;\">         2.26001</td></tr>\n",
       "<tr><td>e2e_seg_00002</td><td>TERMINATED</td><td>     </td><td style=\"text-align: right;\">                              0.4</td><td style=\"text-align: right;\">                      0</td><td style=\"text-align: right;\">                    0.0541764 </td><td style=\"text-align: right;\">                         7</td><td style=\"text-align: right;\">                         0.625505</td><td style=\"text-align: right;\">                          189</td><td style=\"text-align: right;\">     0</td><td style=\"text-align: right;\">        86.1374 </td></tr>\n",
       "<tr><td>e2e_seg_00003</td><td>RUNNING   </td><td>     </td><td style=\"text-align: right;\">                              1  </td><td style=\"text-align: right;\">                      1</td><td style=\"text-align: right;\">                    0.0135555 </td><td style=\"text-align: right;\">                         6</td><td style=\"text-align: right;\">                         2.93772 </td><td style=\"text-align: right;\">                          149</td><td style=\"text-align: right;\">      </td><td style=\"text-align: right;\">                </td></tr>\n",
       "<tr><td>e2e_seg_00004</td><td>TERMINATED</td><td>     </td><td style=\"text-align: right;\">                              0.6</td><td style=\"text-align: right;\">                      1</td><td style=\"text-align: right;\">                    0.0332917 </td><td style=\"text-align: right;\">                         8</td><td style=\"text-align: right;\">                         1.41607 </td><td style=\"text-align: right;\">                          131</td><td style=\"text-align: right;\">     0</td><td style=\"text-align: right;\">        83.7226 </td></tr>\n",
       "<tr><td>e2e_seg_00005</td><td>TERMINATED</td><td>     </td><td style=\"text-align: right;\">                              0.6</td><td style=\"text-align: right;\">                      1</td><td style=\"text-align: right;\">                    0.00946778</td><td style=\"text-align: right;\">                         5</td><td style=\"text-align: right;\">                         2.82033 </td><td style=\"text-align: right;\">                          116</td><td style=\"text-align: right;\">     0</td><td style=\"text-align: right;\">        51.3669 </td></tr>\n",
       "<tr><td>e2e_seg_00006</td><td>TERMINATED</td><td>     </td><td style=\"text-align: right;\">                              0.4</td><td style=\"text-align: right;\">                      0</td><td style=\"text-align: right;\">                    0.270475  </td><td style=\"text-align: right;\">                         9</td><td style=\"text-align: right;\">                         1.25404 </td><td style=\"text-align: right;\">                           25</td><td style=\"text-align: right;\">     0</td><td style=\"text-align: right;\">        15.994  </td></tr>\n",
       "<tr><td>e2e_seg_00007</td><td>TERMINATED</td><td>     </td><td style=\"text-align: right;\">                              0.8</td><td style=\"text-align: right;\">                      0</td><td style=\"text-align: right;\">                    0.0124228 </td><td style=\"text-align: right;\">                         3</td><td style=\"text-align: right;\">                         0.937609</td><td style=\"text-align: right;\">                           11</td><td style=\"text-align: right;\">     0</td><td style=\"text-align: right;\">         3.91927</td></tr>\n",
       "<tr><td>e2e_seg_00008</td><td>TERMINATED</td><td>     </td><td style=\"text-align: right;\">                              0.6</td><td style=\"text-align: right;\">                      0</td><td style=\"text-align: right;\">                    0.0850197 </td><td style=\"text-align: right;\">                         9</td><td style=\"text-align: right;\">                         1.28613 </td><td style=\"text-align: right;\">                           63</td><td style=\"text-align: right;\">     0</td><td style=\"text-align: right;\">        53.6667 </td></tr>\n",
       "<tr><td>e2e_seg_00009</td><td>TERMINATED</td><td>     </td><td style=\"text-align: right;\">                              1  </td><td style=\"text-align: right;\">                      1</td><td style=\"text-align: right;\">                    0.0995091 </td><td style=\"text-align: right;\">                         6</td><td style=\"text-align: right;\">                        16.4225  </td><td style=\"text-align: right;\">                          131</td><td style=\"text-align: right;\">     0</td><td style=\"text-align: right;\">        81.4291 </td></tr>\n",
       "<tr><td>e2e_seg_00010</td><td>TERMINATED</td><td>     </td><td style=\"text-align: right;\">                              0.8</td><td style=\"text-align: right;\">                      1</td><td style=\"text-align: right;\">                    0.0240997 </td><td style=\"text-align: right;\">                         1</td><td style=\"text-align: right;\">                         0.277352</td><td style=\"text-align: right;\">                           65</td><td style=\"text-align: right;\">     0</td><td style=\"text-align: right;\">         9.2009 </td></tr>\n",
       "<tr><td>e2e_seg_00011</td><td>TERMINATED</td><td>     </td><td style=\"text-align: right;\">                              0.4</td><td style=\"text-align: right;\">                      1</td><td style=\"text-align: right;\">                    0.0536386 </td><td style=\"text-align: right;\">                         8</td><td style=\"text-align: right;\">                         1.00503 </td><td style=\"text-align: right;\">                           70</td><td style=\"text-align: right;\">     0</td><td style=\"text-align: right;\">        36.7406 </td></tr>\n",
       "<tr><td>e2e_seg_00012</td><td>TERMINATED</td><td>     </td><td style=\"text-align: right;\">                              0.6</td><td style=\"text-align: right;\">                      0</td><td style=\"text-align: right;\">                    0.0022555 </td><td style=\"text-align: right;\">                         3</td><td style=\"text-align: right;\">                         1.87793 </td><td style=\"text-align: right;\">                          189</td><td style=\"text-align: right;\">     0</td><td style=\"text-align: right;\">        51.9044 </td></tr>\n",
       "<tr><td>e2e_seg_00013</td><td>TERMINATED</td><td>     </td><td style=\"text-align: right;\">                              1  </td><td style=\"text-align: right;\">                      1</td><td style=\"text-align: right;\">                    0.0825462 </td><td style=\"text-align: right;\">                         6</td><td style=\"text-align: right;\">                        25.5405  </td><td style=\"text-align: right;\">                          127</td><td style=\"text-align: right;\">     0</td><td style=\"text-align: right;\">        71.914  </td></tr>\n",
       "<tr><td>e2e_seg_00014</td><td>RUNNING   </td><td>     </td><td style=\"text-align: right;\">                              0.6</td><td style=\"text-align: right;\">                      1</td><td style=\"text-align: right;\">                    0.0376149 </td><td style=\"text-align: right;\">                         9</td><td style=\"text-align: right;\">                         0.335414</td><td style=\"text-align: right;\">                          104</td><td style=\"text-align: right;\">      </td><td style=\"text-align: right;\">                </td></tr>\n",
       "</tbody>\n",
       "</table><br><br>"
      ],
      "text/plain": [
       "<IPython.core.display.HTML object>"
      ]
     },
     "metadata": {},
     "output_type": "display_data"
    },
    {
     "name": "stderr",
     "output_type": "stream",
     "text": [
      "2020-06-12 10:54:48,414\tINFO logger.py:269 -- Removed the following hyperparameter values when logging to tensorboard: {'xgbclassifier__lambda': 1}\n"
     ]
    },
    {
     "name": "stdout",
     "output_type": "stream",
     "text": [
      "Result for e2e_seg_00014:\n",
      "  date: 2020-06-12_10-54-48\n",
      "  done: true\n",
      "  experiment_id: 09cc6d368b8a4e1194a069070a13356a\n",
      "  experiment_tag: 14_xgbclassifier__colsample_bytree=0.6,xgbclassifier__lambda=1,xgbclassifier__learning_rate=0.037615,xgbclassifier__max_depth=9,xgbclassifier__min_child_weight=0.33541,xgbclassifier__n_estimators=104\n",
      "  hostname: cosmos-ml\n",
      "  iterations_since_restore: 1\n",
      "  mean_f1_score: 0.5804707467300407\n",
      "  node_ip: 192.168.1.39\n",
      "  pid: 134009\n",
      "  std_f1_score: 0.10374587429771066\n",
      "  time_since_restore: 74.10851740837097\n",
      "  time_this_iter_s: 74.10851740837097\n",
      "  time_total_s: 74.10851740837097\n",
      "  timestamp: 1591955688\n",
      "  timesteps_since_restore: 0\n",
      "  training_iteration: 0\n",
      "  trial_id: '00014'\n",
      "  \n"
     ]
    },
    {
     "name": "stderr",
     "output_type": "stream",
     "text": [
      "2020-06-12 10:55:10,583\tINFO logger.py:269 -- Removed the following hyperparameter values when logging to tensorboard: {'xgbclassifier__lambda': 1}\n"
     ]
    },
    {
     "name": "stdout",
     "output_type": "stream",
     "text": [
      "Result for e2e_seg_00003:\n",
      "  date: 2020-06-12_10-55-10\n",
      "  done: true\n",
      "  experiment_id: 0cd4a5f518f94d93a846834b7a275883\n",
      "  experiment_tag: 3_xgbclassifier__colsample_bytree=1.0,xgbclassifier__lambda=1,xgbclassifier__learning_rate=0.013556,xgbclassifier__max_depth=6,xgbclassifier__min_child_weight=2.9377,xgbclassifier__n_estimators=149\n",
      "  hostname: cosmos-ml\n",
      "  iterations_since_restore: 1\n",
      "  mean_f1_score: 0.575329529486597\n",
      "  node_ip: 192.168.1.39\n",
      "  pid: 133602\n",
      "  std_f1_score: 0.06301015080227772\n",
      "  time_since_restore: 113.98639249801636\n",
      "  time_this_iter_s: 113.98639249801636\n",
      "  time_total_s: 113.98639249801636\n",
      "  timestamp: 1591955710\n",
      "  timesteps_since_restore: 0\n",
      "  training_iteration: 0\n",
      "  trial_id: '00003'\n",
      "  \n"
     ]
    },
    {
     "data": {
      "text/html": [
       "== Status ==<br>Memory usage on this node: 9.3/62.8 GiB<br>Using FIFO scheduling algorithm.<br>Resources requested: 0/10 CPUs, 0/0 GPUs, 0.0/33.06 GiB heap, 0.0/11.38 GiB objects<br>Result logdir: /home/steve/ray_results/seg_facies/e2e_seg<br>Number of trials: 15 (15 TERMINATED)<br><table>\n",
       "<thead>\n",
       "<tr><th>Trial name   </th><th>status    </th><th>loc  </th><th style=\"text-align: right;\">  xgbclassifier__colsample_bytree</th><th style=\"text-align: right;\">  xgbclassifier__lambda</th><th style=\"text-align: right;\">  xgbclassifier__learning_rate</th><th style=\"text-align: right;\">  xgbclassifier__max_depth</th><th style=\"text-align: right;\">  xgbclassifier__min_child_weight</th><th style=\"text-align: right;\">  xgbclassifier__n_estimators</th><th style=\"text-align: right;\">  iter</th><th style=\"text-align: right;\">  total time (s)</th></tr>\n",
       "</thead>\n",
       "<tbody>\n",
       "<tr><td>e2e_seg_00000</td><td>TERMINATED</td><td>     </td><td style=\"text-align: right;\">                              0.4</td><td style=\"text-align: right;\">                      1</td><td style=\"text-align: right;\">                    0.151291  </td><td style=\"text-align: right;\">                         6</td><td style=\"text-align: right;\">                         0.803151</td><td style=\"text-align: right;\">                           37</td><td style=\"text-align: right;\">     0</td><td style=\"text-align: right;\">        15.7197 </td></tr>\n",
       "<tr><td>e2e_seg_00001</td><td>TERMINATED</td><td>     </td><td style=\"text-align: right;\">                              1  </td><td style=\"text-align: right;\">                      0</td><td style=\"text-align: right;\">                    0.0318366 </td><td style=\"text-align: right;\">                         3</td><td style=\"text-align: right;\">                        68.2128  </td><td style=\"text-align: right;\">                            5</td><td style=\"text-align: right;\">     0</td><td style=\"text-align: right;\">         2.26001</td></tr>\n",
       "<tr><td>e2e_seg_00002</td><td>TERMINATED</td><td>     </td><td style=\"text-align: right;\">                              0.4</td><td style=\"text-align: right;\">                      0</td><td style=\"text-align: right;\">                    0.0541764 </td><td style=\"text-align: right;\">                         7</td><td style=\"text-align: right;\">                         0.625505</td><td style=\"text-align: right;\">                          189</td><td style=\"text-align: right;\">     0</td><td style=\"text-align: right;\">        86.1374 </td></tr>\n",
       "<tr><td>e2e_seg_00003</td><td>TERMINATED</td><td>     </td><td style=\"text-align: right;\">                              1  </td><td style=\"text-align: right;\">                      1</td><td style=\"text-align: right;\">                    0.0135555 </td><td style=\"text-align: right;\">                         6</td><td style=\"text-align: right;\">                         2.93772 </td><td style=\"text-align: right;\">                          149</td><td style=\"text-align: right;\">     0</td><td style=\"text-align: right;\">       113.986  </td></tr>\n",
       "<tr><td>e2e_seg_00004</td><td>TERMINATED</td><td>     </td><td style=\"text-align: right;\">                              0.6</td><td style=\"text-align: right;\">                      1</td><td style=\"text-align: right;\">                    0.0332917 </td><td style=\"text-align: right;\">                         8</td><td style=\"text-align: right;\">                         1.41607 </td><td style=\"text-align: right;\">                          131</td><td style=\"text-align: right;\">     0</td><td style=\"text-align: right;\">        83.7226 </td></tr>\n",
       "<tr><td>e2e_seg_00005</td><td>TERMINATED</td><td>     </td><td style=\"text-align: right;\">                              0.6</td><td style=\"text-align: right;\">                      1</td><td style=\"text-align: right;\">                    0.00946778</td><td style=\"text-align: right;\">                         5</td><td style=\"text-align: right;\">                         2.82033 </td><td style=\"text-align: right;\">                          116</td><td style=\"text-align: right;\">     0</td><td style=\"text-align: right;\">        51.3669 </td></tr>\n",
       "<tr><td>e2e_seg_00006</td><td>TERMINATED</td><td>     </td><td style=\"text-align: right;\">                              0.4</td><td style=\"text-align: right;\">                      0</td><td style=\"text-align: right;\">                    0.270475  </td><td style=\"text-align: right;\">                         9</td><td style=\"text-align: right;\">                         1.25404 </td><td style=\"text-align: right;\">                           25</td><td style=\"text-align: right;\">     0</td><td style=\"text-align: right;\">        15.994  </td></tr>\n",
       "<tr><td>e2e_seg_00007</td><td>TERMINATED</td><td>     </td><td style=\"text-align: right;\">                              0.8</td><td style=\"text-align: right;\">                      0</td><td style=\"text-align: right;\">                    0.0124228 </td><td style=\"text-align: right;\">                         3</td><td style=\"text-align: right;\">                         0.937609</td><td style=\"text-align: right;\">                           11</td><td style=\"text-align: right;\">     0</td><td style=\"text-align: right;\">         3.91927</td></tr>\n",
       "<tr><td>e2e_seg_00008</td><td>TERMINATED</td><td>     </td><td style=\"text-align: right;\">                              0.6</td><td style=\"text-align: right;\">                      0</td><td style=\"text-align: right;\">                    0.0850197 </td><td style=\"text-align: right;\">                         9</td><td style=\"text-align: right;\">                         1.28613 </td><td style=\"text-align: right;\">                           63</td><td style=\"text-align: right;\">     0</td><td style=\"text-align: right;\">        53.6667 </td></tr>\n",
       "<tr><td>e2e_seg_00009</td><td>TERMINATED</td><td>     </td><td style=\"text-align: right;\">                              1  </td><td style=\"text-align: right;\">                      1</td><td style=\"text-align: right;\">                    0.0995091 </td><td style=\"text-align: right;\">                         6</td><td style=\"text-align: right;\">                        16.4225  </td><td style=\"text-align: right;\">                          131</td><td style=\"text-align: right;\">     0</td><td style=\"text-align: right;\">        81.4291 </td></tr>\n",
       "<tr><td>e2e_seg_00010</td><td>TERMINATED</td><td>     </td><td style=\"text-align: right;\">                              0.8</td><td style=\"text-align: right;\">                      1</td><td style=\"text-align: right;\">                    0.0240997 </td><td style=\"text-align: right;\">                         1</td><td style=\"text-align: right;\">                         0.277352</td><td style=\"text-align: right;\">                           65</td><td style=\"text-align: right;\">     0</td><td style=\"text-align: right;\">         9.2009 </td></tr>\n",
       "<tr><td>e2e_seg_00011</td><td>TERMINATED</td><td>     </td><td style=\"text-align: right;\">                              0.4</td><td style=\"text-align: right;\">                      1</td><td style=\"text-align: right;\">                    0.0536386 </td><td style=\"text-align: right;\">                         8</td><td style=\"text-align: right;\">                         1.00503 </td><td style=\"text-align: right;\">                           70</td><td style=\"text-align: right;\">     0</td><td style=\"text-align: right;\">        36.7406 </td></tr>\n",
       "<tr><td>e2e_seg_00012</td><td>TERMINATED</td><td>     </td><td style=\"text-align: right;\">                              0.6</td><td style=\"text-align: right;\">                      0</td><td style=\"text-align: right;\">                    0.0022555 </td><td style=\"text-align: right;\">                         3</td><td style=\"text-align: right;\">                         1.87793 </td><td style=\"text-align: right;\">                          189</td><td style=\"text-align: right;\">     0</td><td style=\"text-align: right;\">        51.9044 </td></tr>\n",
       "<tr><td>e2e_seg_00013</td><td>TERMINATED</td><td>     </td><td style=\"text-align: right;\">                              1  </td><td style=\"text-align: right;\">                      1</td><td style=\"text-align: right;\">                    0.0825462 </td><td style=\"text-align: right;\">                         6</td><td style=\"text-align: right;\">                        25.5405  </td><td style=\"text-align: right;\">                          127</td><td style=\"text-align: right;\">     0</td><td style=\"text-align: right;\">        71.914  </td></tr>\n",
       "<tr><td>e2e_seg_00014</td><td>TERMINATED</td><td>     </td><td style=\"text-align: right;\">                              0.6</td><td style=\"text-align: right;\">                      1</td><td style=\"text-align: right;\">                    0.0376149 </td><td style=\"text-align: right;\">                         9</td><td style=\"text-align: right;\">                         0.335414</td><td style=\"text-align: right;\">                          104</td><td style=\"text-align: right;\">     0</td><td style=\"text-align: right;\">        74.1085 </td></tr>\n",
       "</tbody>\n",
       "</table><br><br>"
      ],
      "text/plain": [
       "<IPython.core.display.HTML object>"
      ]
     },
     "metadata": {},
     "output_type": "display_data"
    },
    {
     "data": {
      "text/html": [
       "== Status ==<br>Memory usage on this node: 9.3/62.8 GiB<br>Using FIFO scheduling algorithm.<br>Resources requested: 0/10 CPUs, 0/0 GPUs, 0.0/33.06 GiB heap, 0.0/11.38 GiB objects<br>Result logdir: /home/steve/ray_results/seg_facies/e2e_seg<br>Number of trials: 15 (15 TERMINATED)<br><table>\n",
       "<thead>\n",
       "<tr><th>Trial name   </th><th>status    </th><th>loc  </th><th style=\"text-align: right;\">  xgbclassifier__colsample_bytree</th><th style=\"text-align: right;\">  xgbclassifier__lambda</th><th style=\"text-align: right;\">  xgbclassifier__learning_rate</th><th style=\"text-align: right;\">  xgbclassifier__max_depth</th><th style=\"text-align: right;\">  xgbclassifier__min_child_weight</th><th style=\"text-align: right;\">  xgbclassifier__n_estimators</th><th style=\"text-align: right;\">  iter</th><th style=\"text-align: right;\">  total time (s)</th></tr>\n",
       "</thead>\n",
       "<tbody>\n",
       "<tr><td>e2e_seg_00000</td><td>TERMINATED</td><td>     </td><td style=\"text-align: right;\">                              0.4</td><td style=\"text-align: right;\">                      1</td><td style=\"text-align: right;\">                    0.151291  </td><td style=\"text-align: right;\">                         6</td><td style=\"text-align: right;\">                         0.803151</td><td style=\"text-align: right;\">                           37</td><td style=\"text-align: right;\">     0</td><td style=\"text-align: right;\">        15.7197 </td></tr>\n",
       "<tr><td>e2e_seg_00001</td><td>TERMINATED</td><td>     </td><td style=\"text-align: right;\">                              1  </td><td style=\"text-align: right;\">                      0</td><td style=\"text-align: right;\">                    0.0318366 </td><td style=\"text-align: right;\">                         3</td><td style=\"text-align: right;\">                        68.2128  </td><td style=\"text-align: right;\">                            5</td><td style=\"text-align: right;\">     0</td><td style=\"text-align: right;\">         2.26001</td></tr>\n",
       "<tr><td>e2e_seg_00002</td><td>TERMINATED</td><td>     </td><td style=\"text-align: right;\">                              0.4</td><td style=\"text-align: right;\">                      0</td><td style=\"text-align: right;\">                    0.0541764 </td><td style=\"text-align: right;\">                         7</td><td style=\"text-align: right;\">                         0.625505</td><td style=\"text-align: right;\">                          189</td><td style=\"text-align: right;\">     0</td><td style=\"text-align: right;\">        86.1374 </td></tr>\n",
       "<tr><td>e2e_seg_00003</td><td>TERMINATED</td><td>     </td><td style=\"text-align: right;\">                              1  </td><td style=\"text-align: right;\">                      1</td><td style=\"text-align: right;\">                    0.0135555 </td><td style=\"text-align: right;\">                         6</td><td style=\"text-align: right;\">                         2.93772 </td><td style=\"text-align: right;\">                          149</td><td style=\"text-align: right;\">     0</td><td style=\"text-align: right;\">       113.986  </td></tr>\n",
       "<tr><td>e2e_seg_00004</td><td>TERMINATED</td><td>     </td><td style=\"text-align: right;\">                              0.6</td><td style=\"text-align: right;\">                      1</td><td style=\"text-align: right;\">                    0.0332917 </td><td style=\"text-align: right;\">                         8</td><td style=\"text-align: right;\">                         1.41607 </td><td style=\"text-align: right;\">                          131</td><td style=\"text-align: right;\">     0</td><td style=\"text-align: right;\">        83.7226 </td></tr>\n",
       "<tr><td>e2e_seg_00005</td><td>TERMINATED</td><td>     </td><td style=\"text-align: right;\">                              0.6</td><td style=\"text-align: right;\">                      1</td><td style=\"text-align: right;\">                    0.00946778</td><td style=\"text-align: right;\">                         5</td><td style=\"text-align: right;\">                         2.82033 </td><td style=\"text-align: right;\">                          116</td><td style=\"text-align: right;\">     0</td><td style=\"text-align: right;\">        51.3669 </td></tr>\n",
       "<tr><td>e2e_seg_00006</td><td>TERMINATED</td><td>     </td><td style=\"text-align: right;\">                              0.4</td><td style=\"text-align: right;\">                      0</td><td style=\"text-align: right;\">                    0.270475  </td><td style=\"text-align: right;\">                         9</td><td style=\"text-align: right;\">                         1.25404 </td><td style=\"text-align: right;\">                           25</td><td style=\"text-align: right;\">     0</td><td style=\"text-align: right;\">        15.994  </td></tr>\n",
       "<tr><td>e2e_seg_00007</td><td>TERMINATED</td><td>     </td><td style=\"text-align: right;\">                              0.8</td><td style=\"text-align: right;\">                      0</td><td style=\"text-align: right;\">                    0.0124228 </td><td style=\"text-align: right;\">                         3</td><td style=\"text-align: right;\">                         0.937609</td><td style=\"text-align: right;\">                           11</td><td style=\"text-align: right;\">     0</td><td style=\"text-align: right;\">         3.91927</td></tr>\n",
       "<tr><td>e2e_seg_00008</td><td>TERMINATED</td><td>     </td><td style=\"text-align: right;\">                              0.6</td><td style=\"text-align: right;\">                      0</td><td style=\"text-align: right;\">                    0.0850197 </td><td style=\"text-align: right;\">                         9</td><td style=\"text-align: right;\">                         1.28613 </td><td style=\"text-align: right;\">                           63</td><td style=\"text-align: right;\">     0</td><td style=\"text-align: right;\">        53.6667 </td></tr>\n",
       "<tr><td>e2e_seg_00009</td><td>TERMINATED</td><td>     </td><td style=\"text-align: right;\">                              1  </td><td style=\"text-align: right;\">                      1</td><td style=\"text-align: right;\">                    0.0995091 </td><td style=\"text-align: right;\">                         6</td><td style=\"text-align: right;\">                        16.4225  </td><td style=\"text-align: right;\">                          131</td><td style=\"text-align: right;\">     0</td><td style=\"text-align: right;\">        81.4291 </td></tr>\n",
       "<tr><td>e2e_seg_00010</td><td>TERMINATED</td><td>     </td><td style=\"text-align: right;\">                              0.8</td><td style=\"text-align: right;\">                      1</td><td style=\"text-align: right;\">                    0.0240997 </td><td style=\"text-align: right;\">                         1</td><td style=\"text-align: right;\">                         0.277352</td><td style=\"text-align: right;\">                           65</td><td style=\"text-align: right;\">     0</td><td style=\"text-align: right;\">         9.2009 </td></tr>\n",
       "<tr><td>e2e_seg_00011</td><td>TERMINATED</td><td>     </td><td style=\"text-align: right;\">                              0.4</td><td style=\"text-align: right;\">                      1</td><td style=\"text-align: right;\">                    0.0536386 </td><td style=\"text-align: right;\">                         8</td><td style=\"text-align: right;\">                         1.00503 </td><td style=\"text-align: right;\">                           70</td><td style=\"text-align: right;\">     0</td><td style=\"text-align: right;\">        36.7406 </td></tr>\n",
       "<tr><td>e2e_seg_00012</td><td>TERMINATED</td><td>     </td><td style=\"text-align: right;\">                              0.6</td><td style=\"text-align: right;\">                      0</td><td style=\"text-align: right;\">                    0.0022555 </td><td style=\"text-align: right;\">                         3</td><td style=\"text-align: right;\">                         1.87793 </td><td style=\"text-align: right;\">                          189</td><td style=\"text-align: right;\">     0</td><td style=\"text-align: right;\">        51.9044 </td></tr>\n",
       "<tr><td>e2e_seg_00013</td><td>TERMINATED</td><td>     </td><td style=\"text-align: right;\">                              1  </td><td style=\"text-align: right;\">                      1</td><td style=\"text-align: right;\">                    0.0825462 </td><td style=\"text-align: right;\">                         6</td><td style=\"text-align: right;\">                        25.5405  </td><td style=\"text-align: right;\">                          127</td><td style=\"text-align: right;\">     0</td><td style=\"text-align: right;\">        71.914  </td></tr>\n",
       "<tr><td>e2e_seg_00014</td><td>TERMINATED</td><td>     </td><td style=\"text-align: right;\">                              0.6</td><td style=\"text-align: right;\">                      1</td><td style=\"text-align: right;\">                    0.0376149 </td><td style=\"text-align: right;\">                         9</td><td style=\"text-align: right;\">                         0.335414</td><td style=\"text-align: right;\">                          104</td><td style=\"text-align: right;\">     0</td><td style=\"text-align: right;\">        74.1085 </td></tr>\n",
       "</tbody>\n",
       "</table><br><br>"
      ],
      "text/plain": [
       "<IPython.core.display.HTML object>"
      ]
     },
     "metadata": {},
     "output_type": "display_data"
    }
   ],
   "source": [
    "filepath = path.abspath('../datasets/seg_2016_facies/la_team_5_data.h5py')\n",
    "\n",
    "# wrap our end to end function to inject our filepath\n",
    "def e2e_seg(config):\n",
    "    return e2e_train_and_test(config, filepath=filepath)\n",
    "\n",
    "analysis = tune.run(\n",
    "                e2e_seg,\n",
    "                config=ray_tuning_config,\n",
    "    \n",
    "                num_samples=15, # Specify the number of samples to make from (non grid) distributions\n",
    "    \n",
    "                resources_per_trial=dict(cpu=1, gpu=0),\n",
    "                \n",
    "                local_dir=\"~/ray_results/seg_facies\")"
   ]
  },
  {
   "cell_type": "code",
   "execution_count": 13,
   "metadata": {},
   "outputs": [
    {
     "name": "stdout",
     "output_type": "stream",
     "text": [
      "Best config: \n",
      "{'xgbclassifier__colsample_bytree': 0.6,\n",
      " 'xgbclassifier__lambda': 1,\n",
      " 'xgbclassifier__learning_rate': 0.03329173276764477,\n",
      " 'xgbclassifier__max_depth': 8,\n",
      " 'xgbclassifier__min_child_weight': 1.416068766592342,\n",
      " 'xgbclassifier__n_estimators': 131,\n",
      " 'xgbclassifier__seed': 42}\n"
     ]
    }
   ],
   "source": [
    "from pprint import pprint\n",
    "print(\"Best config: \")\n",
    "pprint(analysis.get_best_config(metric=\"mean_f1_score\"))"
   ]
  },
  {
   "cell_type": "code",
   "execution_count": 14,
   "metadata": {},
   "outputs": [],
   "source": [
    "df = analysis.dataframe()\n",
    "top_n_df = df.nlargest(10, \"mean_f1_score\")"
   ]
  },
  {
   "cell_type": "code",
   "execution_count": 15,
   "metadata": {},
   "outputs": [
    {
     "data": {
      "text/html": [
       "<div>\n",
       "<style scoped>\n",
       "    .dataframe tbody tr th:only-of-type {\n",
       "        vertical-align: middle;\n",
       "    }\n",
       "\n",
       "    .dataframe tbody tr th {\n",
       "        vertical-align: top;\n",
       "    }\n",
       "\n",
       "    .dataframe thead th {\n",
       "        text-align: right;\n",
       "    }\n",
       "</style>\n",
       "<table border=\"1\" class=\"dataframe\">\n",
       "  <thead>\n",
       "    <tr style=\"text-align: right;\">\n",
       "      <th></th>\n",
       "      <th>mean_f1_score</th>\n",
       "      <th>std_f1_score</th>\n",
       "      <th>done</th>\n",
       "      <th>trial_id</th>\n",
       "      <th>training_iteration</th>\n",
       "      <th>time_this_iter_s</th>\n",
       "      <th>timesteps_total</th>\n",
       "      <th>episodes_total</th>\n",
       "      <th>experiment_id</th>\n",
       "      <th>date</th>\n",
       "      <th>...</th>\n",
       "      <th>iterations_since_restore</th>\n",
       "      <th>experiment_tag</th>\n",
       "      <th>config/xgbclassifier__colsample_bytree</th>\n",
       "      <th>config/xgbclassifier__lambda</th>\n",
       "      <th>config/xgbclassifier__learning_rate</th>\n",
       "      <th>config/xgbclassifier__max_depth</th>\n",
       "      <th>config/xgbclassifier__min_child_weight</th>\n",
       "      <th>config/xgbclassifier__n_estimators</th>\n",
       "      <th>config/xgbclassifier__seed</th>\n",
       "      <th>logdir</th>\n",
       "    </tr>\n",
       "  </thead>\n",
       "  <tbody>\n",
       "    <tr>\n",
       "      <th>4</th>\n",
       "      <td>0.582304</td>\n",
       "      <td>0.084313</td>\n",
       "      <td>True</td>\n",
       "      <td>4</td>\n",
       "      <td>0</td>\n",
       "      <td>83.722569</td>\n",
       "      <td>NaN</td>\n",
       "      <td>NaN</td>\n",
       "      <td>48e35f4b3c7e4a50b54118a73f4f8a05</td>\n",
       "      <td>2020-06-12_10-54-40</td>\n",
       "      <td>...</td>\n",
       "      <td>1</td>\n",
       "      <td>4_xgbclassifier__colsample_bytree=0.6,xgbclass...</td>\n",
       "      <td>0.6</td>\n",
       "      <td>1</td>\n",
       "      <td>0.033292</td>\n",
       "      <td>8</td>\n",
       "      <td>1.416069</td>\n",
       "      <td>131</td>\n",
       "      <td>42</td>\n",
       "      <td>/home/steve/ray_results/seg_facies/e2e_seg/e2e...</td>\n",
       "    </tr>\n",
       "    <tr>\n",
       "      <th>14</th>\n",
       "      <td>0.580471</td>\n",
       "      <td>0.103746</td>\n",
       "      <td>True</td>\n",
       "      <td>14</td>\n",
       "      <td>0</td>\n",
       "      <td>74.108517</td>\n",
       "      <td>NaN</td>\n",
       "      <td>NaN</td>\n",
       "      <td>09cc6d368b8a4e1194a069070a13356a</td>\n",
       "      <td>2020-06-12_10-54-48</td>\n",
       "      <td>...</td>\n",
       "      <td>1</td>\n",
       "      <td>14_xgbclassifier__colsample_bytree=0.6,xgbclas...</td>\n",
       "      <td>0.6</td>\n",
       "      <td>1</td>\n",
       "      <td>0.037615</td>\n",
       "      <td>9</td>\n",
       "      <td>0.335414</td>\n",
       "      <td>104</td>\n",
       "      <td>42</td>\n",
       "      <td>/home/steve/ray_results/seg_facies/e2e_seg/e2e...</td>\n",
       "    </tr>\n",
       "    <tr>\n",
       "      <th>11</th>\n",
       "      <td>0.579161</td>\n",
       "      <td>0.093627</td>\n",
       "      <td>True</td>\n",
       "      <td>11</td>\n",
       "      <td>0</td>\n",
       "      <td>36.740557</td>\n",
       "      <td>NaN</td>\n",
       "      <td>NaN</td>\n",
       "      <td>3de2963b37864f03a2539c8f13c8dacb</td>\n",
       "      <td>2020-06-12_10-53-58</td>\n",
       "      <td>...</td>\n",
       "      <td>1</td>\n",
       "      <td>11_xgbclassifier__colsample_bytree=0.4,xgbclas...</td>\n",
       "      <td>0.4</td>\n",
       "      <td>1</td>\n",
       "      <td>0.053639</td>\n",
       "      <td>8</td>\n",
       "      <td>1.005035</td>\n",
       "      <td>70</td>\n",
       "      <td>42</td>\n",
       "      <td>/home/steve/ray_results/seg_facies/e2e_seg/e2e...</td>\n",
       "    </tr>\n",
       "    <tr>\n",
       "      <th>0</th>\n",
       "      <td>0.578937</td>\n",
       "      <td>0.091912</td>\n",
       "      <td>True</td>\n",
       "      <td>0</td>\n",
       "      <td>0</td>\n",
       "      <td>15.719739</td>\n",
       "      <td>NaN</td>\n",
       "      <td>NaN</td>\n",
       "      <td>2d06e232081143c1bfc696ab74749a6c</td>\n",
       "      <td>2020-06-12_10-53-32</td>\n",
       "      <td>...</td>\n",
       "      <td>1</td>\n",
       "      <td>0_xgbclassifier__colsample_bytree=0.4,xgbclass...</td>\n",
       "      <td>0.4</td>\n",
       "      <td>1</td>\n",
       "      <td>0.151291</td>\n",
       "      <td>6</td>\n",
       "      <td>0.803151</td>\n",
       "      <td>37</td>\n",
       "      <td>42</td>\n",
       "      <td>/home/steve/ray_results/seg_facies/e2e_seg/e2e...</td>\n",
       "    </tr>\n",
       "    <tr>\n",
       "      <th>2</th>\n",
       "      <td>0.578480</td>\n",
       "      <td>0.096367</td>\n",
       "      <td>True</td>\n",
       "      <td>2</td>\n",
       "      <td>0</td>\n",
       "      <td>86.137405</td>\n",
       "      <td>NaN</td>\n",
       "      <td>NaN</td>\n",
       "      <td>d649ea7c74ff420480810c4667c09da0</td>\n",
       "      <td>2020-06-12_10-54-42</td>\n",
       "      <td>...</td>\n",
       "      <td>1</td>\n",
       "      <td>2_xgbclassifier__colsample_bytree=0.4,xgbclass...</td>\n",
       "      <td>0.4</td>\n",
       "      <td>0</td>\n",
       "      <td>0.054176</td>\n",
       "      <td>7</td>\n",
       "      <td>0.625505</td>\n",
       "      <td>189</td>\n",
       "      <td>42</td>\n",
       "      <td>/home/steve/ray_results/seg_facies/e2e_seg/e2e...</td>\n",
       "    </tr>\n",
       "  </tbody>\n",
       "</table>\n",
       "<p>5 rows × 27 columns</p>\n",
       "</div>"
      ],
      "text/plain": [
       "    mean_f1_score  std_f1_score  done  trial_id  training_iteration  \\\n",
       "4        0.582304      0.084313  True         4                   0   \n",
       "14       0.580471      0.103746  True        14                   0   \n",
       "11       0.579161      0.093627  True        11                   0   \n",
       "0        0.578937      0.091912  True         0                   0   \n",
       "2        0.578480      0.096367  True         2                   0   \n",
       "\n",
       "    time_this_iter_s  timesteps_total  episodes_total  \\\n",
       "4          83.722569              NaN             NaN   \n",
       "14         74.108517              NaN             NaN   \n",
       "11         36.740557              NaN             NaN   \n",
       "0          15.719739              NaN             NaN   \n",
       "2          86.137405              NaN             NaN   \n",
       "\n",
       "                       experiment_id                 date  ...  \\\n",
       "4   48e35f4b3c7e4a50b54118a73f4f8a05  2020-06-12_10-54-40  ...   \n",
       "14  09cc6d368b8a4e1194a069070a13356a  2020-06-12_10-54-48  ...   \n",
       "11  3de2963b37864f03a2539c8f13c8dacb  2020-06-12_10-53-58  ...   \n",
       "0   2d06e232081143c1bfc696ab74749a6c  2020-06-12_10-53-32  ...   \n",
       "2   d649ea7c74ff420480810c4667c09da0  2020-06-12_10-54-42  ...   \n",
       "\n",
       "    iterations_since_restore  \\\n",
       "4                          1   \n",
       "14                         1   \n",
       "11                         1   \n",
       "0                          1   \n",
       "2                          1   \n",
       "\n",
       "                                       experiment_tag  \\\n",
       "4   4_xgbclassifier__colsample_bytree=0.6,xgbclass...   \n",
       "14  14_xgbclassifier__colsample_bytree=0.6,xgbclas...   \n",
       "11  11_xgbclassifier__colsample_bytree=0.4,xgbclas...   \n",
       "0   0_xgbclassifier__colsample_bytree=0.4,xgbclass...   \n",
       "2   2_xgbclassifier__colsample_bytree=0.4,xgbclass...   \n",
       "\n",
       "    config/xgbclassifier__colsample_bytree config/xgbclassifier__lambda  \\\n",
       "4                                      0.6                            1   \n",
       "14                                     0.6                            1   \n",
       "11                                     0.4                            1   \n",
       "0                                      0.4                            1   \n",
       "2                                      0.4                            0   \n",
       "\n",
       "   config/xgbclassifier__learning_rate  config/xgbclassifier__max_depth  \\\n",
       "4                             0.033292                                8   \n",
       "14                            0.037615                                9   \n",
       "11                            0.053639                                8   \n",
       "0                             0.151291                                6   \n",
       "2                             0.054176                                7   \n",
       "\n",
       "    config/xgbclassifier__min_child_weight  \\\n",
       "4                                 1.416069   \n",
       "14                                0.335414   \n",
       "11                                1.005035   \n",
       "0                                 0.803151   \n",
       "2                                 0.625505   \n",
       "\n",
       "    config/xgbclassifier__n_estimators config/xgbclassifier__seed  \\\n",
       "4                                  131                         42   \n",
       "14                                 104                         42   \n",
       "11                                  70                         42   \n",
       "0                                   37                         42   \n",
       "2                                  189                         42   \n",
       "\n",
       "                                               logdir  \n",
       "4   /home/steve/ray_results/seg_facies/e2e_seg/e2e...  \n",
       "14  /home/steve/ray_results/seg_facies/e2e_seg/e2e...  \n",
       "11  /home/steve/ray_results/seg_facies/e2e_seg/e2e...  \n",
       "0   /home/steve/ray_results/seg_facies/e2e_seg/e2e...  \n",
       "2   /home/steve/ray_results/seg_facies/e2e_seg/e2e...  \n",
       "\n",
       "[5 rows x 27 columns]"
      ]
     },
     "execution_count": 15,
     "metadata": {},
     "output_type": "execute_result"
    }
   ],
   "source": [
    "top_n_df.head()"
   ]
  },
  {
   "cell_type": "code",
   "execution_count": 16,
   "metadata": {},
   "outputs": [
    {
     "data": {
      "image/png": "[encoded data removed]",
      "text/plain": [
       "<Figure size 1152x432 with 1 Axes>"
      ]
     },
     "metadata": {},
     "output_type": "display_data"
    }
   ],
   "source": [
    "plot_some_tune_results(top_n_df, (0.3, 1.0))"
   ]
  },
  {
   "cell_type": "code",
   "execution_count": 17,
   "metadata": {
    "scrolled": false
   },
   "outputs": [
    {
     "data": {
      "text/plain": [
       "Reusing TensorBoard on port 6007 (pid 59692), started 22:07:38 ago. (Use '!kill 59692' to kill it.)"
      ]
     },
     "metadata": {},
     "output_type": "display_data"
    },
    {
     "data": {
      "text/html": [
       "\n",
       "      <iframe id=\"tensorboard-frame-f5b0160e9a4e08ad\" width=\"100%\" height=\"800\" frameborder=\"0\">\n",
       "      </iframe>\n",
       "      <script>\n",
       "        (function() {\n",
       "          const frame = document.getElementById(\"tensorboard-frame-f5b0160e9a4e08ad\");\n",
       "          const url = new URL(\"/\", window.location);\n",
       "          url.port = 6007;\n",
       "          frame.src = url;\n",
       "        })();\n",
       "      </script>\n",
       "  "
      ],
      "text/plain": [
       "<IPython.core.display.HTML object>"
      ]
     },
     "metadata": {},
     "output_type": "display_data"
    },
    {
     "name": "stdout",
     "output_type": "stream",
     "text": [
      "Selecting TensorBoard with logdir ~/ray_results/seg_facies (started 22:07:38 ago; port 6007, pid 59692).\n"
     ]
    },
    {
     "data": {
      "text/html": [
       "\n",
       "      <iframe id=\"tensorboard-frame-9a93f391a7923515\" width=\"100%\" height=\"1000\" frameborder=\"0\">\n",
       "      </iframe>\n",
       "      <script>\n",
       "        (function() {\n",
       "          const frame = document.getElementById(\"tensorboard-frame-9a93f391a7923515\");\n",
       "          const url = new URL(\"/\", window.location);\n",
       "          url.port = 6007;\n",
       "          frame.src = url;\n",
       "        })();\n",
       "      </script>\n",
       "  "
      ],
      "text/plain": [
       "<IPython.core.display.HTML object>"
      ]
     },
     "metadata": {},
     "output_type": "display_data"
    }
   ],
   "source": [
    "%load_ext tensorboard\n",
    "from tensorboard import notebook \n",
    "%tensorboard --logdir \"~/ray_results/seg_facies\"\n",
    "notebook.display(height=1000)"
   ]
  },
  {
   "cell_type": "code",
   "execution_count": 18,
   "metadata": {},
   "outputs": [],
   "source": [
    "ray.shutdown()"
   ]
  },
  {
   "cell_type": "code",
   "execution_count": null,
   "metadata": {},
   "outputs": [],
   "source": []
  }
 ],
 "metadata": {
  "kernelspec": {
   "display_name": "Python 3",
   "language": "python",
   "name": "python3"
  },
  "language_info": {
   "codemirror_mode": {
    "name": "ipython",
    "version": 3
   },
   "file_extension": ".py",
   "mimetype": "text/x-python",
   "name": "python",
   "nbconvert_exporter": "python",
   "pygments_lexer": "ipython3",
   "version": "3.8.3"
  }
 },
 "nbformat": 4,
 "nbformat_minor": 4
}
