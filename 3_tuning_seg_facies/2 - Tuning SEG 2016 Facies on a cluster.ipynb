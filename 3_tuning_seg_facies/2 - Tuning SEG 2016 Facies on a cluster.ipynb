{
 "cells": [
  {
   "cell_type": "code",
   "execution_count": 1,
   "metadata": {},
   "outputs": [
    {
     "name": "stdout",
     "output_type": "stream",
     "text": [
      "Loading dependencies we have already seen...\n",
      "Importing ray...\n",
      "Done...\n"
     ]
    }
   ],
   "source": [
    "%load_ext autoreload\n",
    "%autoreload 2\n",
    "\n",
    "from dependencies import *"
   ]
  },
  {
   "cell_type": "code",
   "execution_count": 2,
   "metadata": {},
   "outputs": [],
   "source": [
    "import h5py\n",
    "\n",
    "def setup(filepath):\n",
    "    with h5py.File(filepath, 'r') as f:\n",
    "        X_train = f[\"train_x\"][:]\n",
    "        y_train = f[\"train_y\"][:]\n",
    "        group_train = f[\"train_groups\"][:]\n",
    "        train_wells = f[\"train_groups\"].attrs[\"well_names\"]        \n",
    "        \n",
    "        X_test = f[\"test_x\"][:]\n",
    "        y_test = None\n",
    "#         y_test = f[\"test_y\"]\n",
    "        group_test = f[\"test_groups\"][:]\n",
    "        test_wells = f[\"test_groups\"].attrs[\"well_names\"]\n",
    "\n",
    "    return X_train, y_train, group_train, X_test, y_test, group_test, (train_wells, test_wells)\n",
    "\n",
    "X_train, y_train, group_train, X_test, y_test, group_test, well_names = setup('../datasets/seg_2016_facies/la_team_5_data.h5py')"
   ]
  },
  {
   "cell_type": "code",
   "execution_count": 3,
   "metadata": {},
   "outputs": [],
   "source": [
    "# XGBClassifier(learning_rate=0.12,\n",
    "#               max_depth=3,\n",
    "#               min_child_weight=10,\n",
    "#               n_estimators=150,\n",
    "#               seed=seed,\n",
    "#               colsample_bytree=0.9)"
   ]
  },
  {
   "cell_type": "code",
   "execution_count": 4,
   "metadata": {},
   "outputs": [
    {
     "name": "stdout",
     "output_type": "stream",
     "text": [
      "/Users/stevejpurves/dev/swung/ray_playground/datasets/seg_2016_facies/la_team_5_data.h5py\n"
     ]
    }
   ],
   "source": [
    "from os import path\n",
    "filepath = path.abspath('../datasets/seg_2016_facies/la_team_5_data.h5py')\n",
    "print(filepath)"
   ]
  },
  {
   "cell_type": "code",
   "execution_count": 14,
   "metadata": {},
   "outputs": [],
   "source": [
    "from sklearn.model_selection import LeavePGroupsOut\n",
    "import xgboost as xgb\n",
    "from xgboost.sklearn import XGBClassifier\n",
    "from scipy.signal import medfilt\n",
    "from filelock import FileLock\n",
    "\n",
    "def e2e_train_and_test(config, **kwargs):\n",
    "    \n",
    "    #threadsafe\n",
    "#     filepath = path.abspath('../datasets/seg_2016_facies/la_team_5_data.h5py')\n",
    "    with FileLock(\"./data.lock\"):\n",
    "        X, y, groups, X_test, y_test, group_test, well_names = setup(kwargs['filepath'])\n",
    "    \n",
    "    # chose your CV strategy\n",
    "    splitter = LeavePGroupsOut(1)\n",
    "    \n",
    "    # run k fold training and validation\n",
    "    f1_scores = [] # keep hold of all individual scores\n",
    "    for train_ind, val_ind in splitter.split(X, y, groups=groups):\n",
    "        pipeline = make_pipeline(RobustScaler(),\n",
    "                                  XGBClassifier())\n",
    "\n",
    "        pipeline.set_params(**config)\n",
    "        pipeline.fit(X[train_ind], y[train_ind])\n",
    "        \n",
    "        y_pred = pipeline.predict(X[val_ind])\n",
    "        \n",
    "        f1_scores.append(f1_score(y_pred, y[val_ind], average='micro'))\n",
    "    \n",
    "        # Clean isolated facies for each well\n",
    "        y_pred = medfilt(y_pred, kernel_size=5)\n",
    "    \n",
    "    # use tunes reporter\n",
    "    tune.track.log(mean_f1_score=np.array(f1_scores).mean(),\n",
    "                std_f1_score=np.array(f1_scores).std(),\n",
    "                # and we can actually add any metrics we like\n",
    "                done=True)"
   ]
  },
  {
   "cell_type": "code",
   "execution_count": 6,
   "metadata": {},
   "outputs": [],
   "source": [
    "tuning_config = {\n",
    "    'xgbclassifier__learning_rate': 0.12,\n",
    "    'xgbclassifier__max_depth': 3,\n",
    "    'xbgclassifier__min_child_weight' :10,\n",
    "    'xbgclassifier__n_estimators': 150,\n",
    "    'xgbclassifier__seed':1773,\n",
    "    'xgbclassifier__colsample_bytree':0.9\n",
    "}"
   ]
  },
  {
   "cell_type": "code",
   "execution_count": 7,
   "metadata": {},
   "outputs": [],
   "source": [
    "ray_tuning_config = {\n",
    "    'xgbclassifier__learning_rate': tune.loguniform(0.001, 0.5),\n",
    "    'xgbclassifier__max_depth': tune.randint(1, 10),\n",
    "    'xgbclassifier__min_child_weight': tune.loguniform(0.1,100),\n",
    "    'xgbclassifier__n_estimators': tune.randint(5,200),\n",
    "    'xgbclassifier__colsample_bytree': tune.choice([0.4, 0.6, 0.8, 1.0]),\n",
    "    'xgbclassifier__lambda': tune.choice([0,1]),\n",
    "    'xgbclassifier__seed': 42\n",
    "}"
   ]
  },
  {
   "cell_type": "code",
   "execution_count": 8,
   "metadata": {},
   "outputs": [
    {
     "name": "stderr",
     "output_type": "stream",
     "text": [
      "2020-06-05 11:24:39,757\tINFO resource_spec.py:204 -- Starting Ray with 4.25 GiB memory available for workers and up to 2.13 GiB for objects. You can adjust these settings with ray.init(memory=<bytes>, object_store_memory=<bytes>).\n",
      "2020-06-05 11:24:40,202\tINFO services.py:1168 -- View the Ray dashboard at \u001b[1m\u001b[32mlocalhost:8265\u001b[39m\u001b[22m\n"
     ]
    },
    {
     "data": {
      "text/plain": [
       "{'node_ip_address': '192.168.1.36',\n",
       " 'raylet_ip_address': '192.168.1.36',\n",
       " 'redis_address': '192.168.1.36:52873',\n",
       " 'object_store_address': '/tmp/ray/session_2020-06-05_11-24-39_747633_3205/sockets/plasma_store',\n",
       " 'raylet_socket_name': '/tmp/ray/session_2020-06-05_11-24-39_747633_3205/sockets/raylet',\n",
       " 'webui_url': 'localhost:8265',\n",
       " 'session_dir': '/tmp/ray/session_2020-06-05_11-24-39_747633_3205'}"
      ]
     },
     "execution_count": 8,
     "metadata": {},
     "output_type": "execute_result"
    }
   ],
   "source": [
    "ray.shutdown()\n",
    "ray.init(num_cpus=6, num_gpus=0, include_webui=True)"
   ]
  },
  {
   "cell_type": "code",
   "execution_count": 15,
   "metadata": {
    "scrolled": false
   },
   "outputs": [
    {
     "data": {
      "text/html": [
       "== Status ==<br>Memory usage on this node: 8.9/16.0 GiB<br>Using FIFO scheduling algorithm.<br>Resources requested: 1/6 CPUs, 0/0 GPUs, 0.0/4.25 GiB heap, 0.0/1.46 GiB objects<br>Result logdir: /Users/stevejpurves/ray_results/seg_facies/e2e_seg<br>Number of trials: 2 (1 PENDING, 1 RUNNING)<br><table>\n",
       "<thead>\n",
       "<tr><th>Trial name   </th><th>status  </th><th>loc  </th><th style=\"text-align: right;\">  xgbclassifier__colsample_bytree</th><th style=\"text-align: right;\">  xgbclassifier__lambda</th><th style=\"text-align: right;\">  xgbclassifier__learning_rate</th><th style=\"text-align: right;\">  xgbclassifier__max_depth</th><th style=\"text-align: right;\">  xgbclassifier__min_child_weight</th><th style=\"text-align: right;\">  xgbclassifier__n_estimators</th></tr>\n",
       "</thead>\n",
       "<tbody>\n",
       "<tr><td>e2e_seg_00000</td><td>RUNNING </td><td>     </td><td style=\"text-align: right;\">                              0.8</td><td style=\"text-align: right;\">                      1</td><td style=\"text-align: right;\">                    0.00610262</td><td style=\"text-align: right;\">                         3</td><td style=\"text-align: right;\">                         0.276112</td><td style=\"text-align: right;\">                            5</td></tr>\n",
       "<tr><td>e2e_seg_00001</td><td>PENDING </td><td>     </td><td style=\"text-align: right;\">                              0.4</td><td style=\"text-align: right;\">                      0</td><td style=\"text-align: right;\">                    0.0016293 </td><td style=\"text-align: right;\">                         8</td><td style=\"text-align: right;\">                         0.122872</td><td style=\"text-align: right;\">                          136</td></tr>\n",
       "</tbody>\n",
       "</table><br><br>"
      ],
      "text/plain": [
       "<IPython.core.display.HTML object>"
      ]
     },
     "metadata": {},
     "output_type": "display_data"
    },
    {
     "name": "stdout",
     "output_type": "stream",
     "text": [
      "\u001b[2m\u001b[36m(pid=3235)\u001b[0m 2020-06-05 11:30:34,588\tINFO trainable.py:217 -- Getting current IP.\n",
      "\u001b[2m\u001b[36m(pid=3239)\u001b[0m 2020-06-05 11:30:34,588\tINFO trainable.py:217 -- Getting current IP.\n"
     ]
    },
    {
     "name": "stderr",
     "output_type": "stream",
     "text": [
      "2020-06-05 11:30:36,658\tINFO logger.py:269 -- Removed the following hyperparameter values when logging to tensorboard: {'xgbclassifier__lambda': 1}\n"
     ]
    },
    {
     "name": "stdout",
     "output_type": "stream",
     "text": [
      "Result for e2e_seg_00000:\n",
      "  date: 2020-06-05_11-30-36\n",
      "  done: true\n",
      "  experiment_id: 90d7159fb4b94ef8ab8c273ddc0f90a6\n",
      "  experiment_tag: 0_xgbclassifier__colsample_bytree=0.8,xgbclassifier__lambda=1,xgbclassifier__learning_rate=0.0061026,xgbclassifier__max_depth=3,xgbclassifier__min_child_weight=0.27611,xgbclassifier__n_estimators=5\n",
      "  hostname: Steves-MacBook-Pro.local\n",
      "  iterations_since_restore: 1\n",
      "  mean_f1_score: 0.541187033164128\n",
      "  node_ip: 192.168.1.36\n",
      "  pid: 3239\n",
      "  std_f1_score: 0.07343423892001634\n",
      "  time_since_restore: 2.0633130073547363\n",
      "  time_this_iter_s: 2.0633130073547363\n",
      "  time_total_s: 2.0633130073547363\n",
      "  timestamp: 1591353036\n",
      "  timesteps_since_restore: 0\n",
      "  training_iteration: 0\n",
      "  trial_id: '00000'\n",
      "  \n"
     ]
    },
    {
     "name": "stderr",
     "output_type": "stream",
     "text": [
      "2020-06-05 11:31:58,594\tINFO logger.py:269 -- Removed the following hyperparameter values when logging to tensorboard: {'xgbclassifier__lambda': 0}\n"
     ]
    },
    {
     "name": "stdout",
     "output_type": "stream",
     "text": [
      "Result for e2e_seg_00001:\n",
      "  date: 2020-06-05_11-31-58\n",
      "  done: true\n",
      "  experiment_id: 2f66613c96b04605880d9cf5c92d3889\n",
      "  experiment_tag: 1_xgbclassifier__colsample_bytree=0.4,xgbclassifier__lambda=0,xgbclassifier__learning_rate=0.0016293,xgbclassifier__max_depth=8,xgbclassifier__min_child_weight=0.12287,xgbclassifier__n_estimators=136\n",
      "  hostname: Steves-MacBook-Pro.local\n",
      "  iterations_since_restore: 1\n",
      "  mean_f1_score: 0.5774002787855361\n",
      "  node_ip: 192.168.1.36\n",
      "  pid: 3235\n",
      "  std_f1_score: 0.1027799691103185\n",
      "  time_since_restore: 83.99692392349243\n",
      "  time_this_iter_s: 83.99692392349243\n",
      "  time_total_s: 83.99692392349243\n",
      "  timestamp: 1591353118\n",
      "  timesteps_since_restore: 0\n",
      "  training_iteration: 0\n",
      "  trial_id: '00001'\n",
      "  \n"
     ]
    },
    {
     "data": {
      "text/html": [
       "== Status ==<br>Memory usage on this node: 8.9/16.0 GiB<br>Using FIFO scheduling algorithm.<br>Resources requested: 0/6 CPUs, 0/0 GPUs, 0.0/4.25 GiB heap, 0.0/1.46 GiB objects<br>Result logdir: /Users/stevejpurves/ray_results/seg_facies/e2e_seg<br>Number of trials: 2 (2 TERMINATED)<br><table>\n",
       "<thead>\n",
       "<tr><th>Trial name   </th><th>status    </th><th>loc  </th><th style=\"text-align: right;\">  xgbclassifier__colsample_bytree</th><th style=\"text-align: right;\">  xgbclassifier__lambda</th><th style=\"text-align: right;\">  xgbclassifier__learning_rate</th><th style=\"text-align: right;\">  xgbclassifier__max_depth</th><th style=\"text-align: right;\">  xgbclassifier__min_child_weight</th><th style=\"text-align: right;\">  xgbclassifier__n_estimators</th><th style=\"text-align: right;\">  iter</th><th style=\"text-align: right;\">  total time (s)</th></tr>\n",
       "</thead>\n",
       "<tbody>\n",
       "<tr><td>e2e_seg_00000</td><td>TERMINATED</td><td>     </td><td style=\"text-align: right;\">                              0.8</td><td style=\"text-align: right;\">                      1</td><td style=\"text-align: right;\">                    0.00610262</td><td style=\"text-align: right;\">                         3</td><td style=\"text-align: right;\">                         0.276112</td><td style=\"text-align: right;\">                            5</td><td style=\"text-align: right;\">     0</td><td style=\"text-align: right;\">         2.06331</td></tr>\n",
       "<tr><td>e2e_seg_00001</td><td>TERMINATED</td><td>     </td><td style=\"text-align: right;\">                              0.4</td><td style=\"text-align: right;\">                      0</td><td style=\"text-align: right;\">                    0.0016293 </td><td style=\"text-align: right;\">                         8</td><td style=\"text-align: right;\">                         0.122872</td><td style=\"text-align: right;\">                          136</td><td style=\"text-align: right;\">     0</td><td style=\"text-align: right;\">        83.9969 </td></tr>\n",
       "</tbody>\n",
       "</table><br><br>"
      ],
      "text/plain": [
       "<IPython.core.display.HTML object>"
      ]
     },
     "metadata": {},
     "output_type": "display_data"
    },
    {
     "data": {
      "text/html": [
       "== Status ==<br>Memory usage on this node: 8.9/16.0 GiB<br>Using FIFO scheduling algorithm.<br>Resources requested: 0/6 CPUs, 0/0 GPUs, 0.0/4.25 GiB heap, 0.0/1.46 GiB objects<br>Result logdir: /Users/stevejpurves/ray_results/seg_facies/e2e_seg<br>Number of trials: 2 (2 TERMINATED)<br><table>\n",
       "<thead>\n",
       "<tr><th>Trial name   </th><th>status    </th><th>loc  </th><th style=\"text-align: right;\">  xgbclassifier__colsample_bytree</th><th style=\"text-align: right;\">  xgbclassifier__lambda</th><th style=\"text-align: right;\">  xgbclassifier__learning_rate</th><th style=\"text-align: right;\">  xgbclassifier__max_depth</th><th style=\"text-align: right;\">  xgbclassifier__min_child_weight</th><th style=\"text-align: right;\">  xgbclassifier__n_estimators</th><th style=\"text-align: right;\">  iter</th><th style=\"text-align: right;\">  total time (s)</th></tr>\n",
       "</thead>\n",
       "<tbody>\n",
       "<tr><td>e2e_seg_00000</td><td>TERMINATED</td><td>     </td><td style=\"text-align: right;\">                              0.8</td><td style=\"text-align: right;\">                      1</td><td style=\"text-align: right;\">                    0.00610262</td><td style=\"text-align: right;\">                         3</td><td style=\"text-align: right;\">                         0.276112</td><td style=\"text-align: right;\">                            5</td><td style=\"text-align: right;\">     0</td><td style=\"text-align: right;\">         2.06331</td></tr>\n",
       "<tr><td>e2e_seg_00001</td><td>TERMINATED</td><td>     </td><td style=\"text-align: right;\">                              0.4</td><td style=\"text-align: right;\">                      0</td><td style=\"text-align: right;\">                    0.0016293 </td><td style=\"text-align: right;\">                         8</td><td style=\"text-align: right;\">                         0.122872</td><td style=\"text-align: right;\">                          136</td><td style=\"text-align: right;\">     0</td><td style=\"text-align: right;\">        83.9969 </td></tr>\n",
       "</tbody>\n",
       "</table><br><br>"
      ],
      "text/plain": [
       "<IPython.core.display.HTML object>"
      ]
     },
     "metadata": {},
     "output_type": "display_data"
    }
   ],
   "source": [
    "filepath = path.abspath('../datasets/seg_2016_facies/la_team_5_data.h5py')\n",
    "\n",
    "def e2e_seg(config):\n",
    "    return e2e_train_and_test(config, filepath=filepath)\n",
    "\n",
    "analysis = tune.run(\n",
    "                e2e_seg,\n",
    "                config=ray_tuning_config,\n",
    "                num_samples=2, # Specify the number of samples to make from (non grid) distributions\n",
    "                resources_per_trial=dict(cpu=1, gpu=0),\n",
    "                local_dir=\"~/ray_results/seg_facies\")"
   ]
  },
  {
   "cell_type": "code",
   "execution_count": 10,
   "metadata": {},
   "outputs": [
    {
     "name": "stdout",
     "output_type": "stream",
     "text": [
      "Best config:  {'xgbclassifier__learning_rate': 0.0018266549202181717, 'xgbclassifier__max_depth': 8, 'xgbclassifier__min_child_weight': 0.16990866286192743, 'xgbclassifier__n_estimators': 39, 'xgbclassifier__colsample_bytree': 0.6, 'xgbclassifier__lambda': 1, 'xgbclassifier__seed': 42}\n"
     ]
    }
   ],
   "source": [
    "print(\"Best config: \", analysis.get_best_config(metric=\"mean_f1_score\"))"
   ]
  },
  {
   "cell_type": "code",
   "execution_count": 11,
   "metadata": {},
   "outputs": [],
   "source": [
    "df = analysis.dataframe()\n",
    "top_n_df = df.nlargest(10, \"mean_f1_score\")"
   ]
  },
  {
   "cell_type": "code",
   "execution_count": 12,
   "metadata": {},
   "outputs": [
    {
     "data": {
      "text/html": [
       "<div>\n",
       "<style scoped>\n",
       "    .dataframe tbody tr th:only-of-type {\n",
       "        vertical-align: middle;\n",
       "    }\n",
       "\n",
       "    .dataframe tbody tr th {\n",
       "        vertical-align: top;\n",
       "    }\n",
       "\n",
       "    .dataframe thead th {\n",
       "        text-align: right;\n",
       "    }\n",
       "</style>\n",
       "<table border=\"1\" class=\"dataframe\">\n",
       "  <thead>\n",
       "    <tr style=\"text-align: right;\">\n",
       "      <th></th>\n",
       "      <th>mean_f1_score</th>\n",
       "      <th>std_f1_score</th>\n",
       "      <th>done</th>\n",
       "      <th>trial_id</th>\n",
       "      <th>training_iteration</th>\n",
       "      <th>time_this_iter_s</th>\n",
       "      <th>timesteps_total</th>\n",
       "      <th>episodes_total</th>\n",
       "      <th>experiment_id</th>\n",
       "      <th>date</th>\n",
       "      <th>...</th>\n",
       "      <th>iterations_since_restore</th>\n",
       "      <th>experiment_tag</th>\n",
       "      <th>config/xgbclassifier__colsample_bytree</th>\n",
       "      <th>config/xgbclassifier__lambda</th>\n",
       "      <th>config/xgbclassifier__learning_rate</th>\n",
       "      <th>config/xgbclassifier__max_depth</th>\n",
       "      <th>config/xgbclassifier__min_child_weight</th>\n",
       "      <th>config/xgbclassifier__n_estimators</th>\n",
       "      <th>config/xgbclassifier__seed</th>\n",
       "      <th>logdir</th>\n",
       "    </tr>\n",
       "  </thead>\n",
       "  <tbody>\n",
       "    <tr>\n",
       "      <th>1</th>\n",
       "      <td>0.548415</td>\n",
       "      <td>0.064307</td>\n",
       "      <td>True</td>\n",
       "      <td>1</td>\n",
       "      <td>0</td>\n",
       "      <td>120.242662</td>\n",
       "      <td>NaN</td>\n",
       "      <td>NaN</td>\n",
       "      <td>85f2310da4b643a8adf603356bc44f77</td>\n",
       "      <td>2020-06-05_11-26-58</td>\n",
       "      <td>...</td>\n",
       "      <td>1</td>\n",
       "      <td>1_xgbclassifier__colsample_bytree=0.6,xgbclass...</td>\n",
       "      <td>0.6</td>\n",
       "      <td>1</td>\n",
       "      <td>0.001827</td>\n",
       "      <td>8</td>\n",
       "      <td>0.169909</td>\n",
       "      <td>39</td>\n",
       "      <td>42</td>\n",
       "      <td>/Users/stevejpurves/ray_results/seg_facies/e2e...</td>\n",
       "    </tr>\n",
       "    <tr>\n",
       "      <th>0</th>\n",
       "      <td>0.544668</td>\n",
       "      <td>0.050587</td>\n",
       "      <td>True</td>\n",
       "      <td>0</td>\n",
       "      <td>0</td>\n",
       "      <td>55.467646</td>\n",
       "      <td>NaN</td>\n",
       "      <td>NaN</td>\n",
       "      <td>757e708765e140ec9110d18fb540e941</td>\n",
       "      <td>2020-06-05_11-25-53</td>\n",
       "      <td>...</td>\n",
       "      <td>1</td>\n",
       "      <td>0_xgbclassifier__colsample_bytree=0.6,xgbclass...</td>\n",
       "      <td>0.6</td>\n",
       "      <td>1</td>\n",
       "      <td>0.481177</td>\n",
       "      <td>2</td>\n",
       "      <td>1.487259</td>\n",
       "      <td>67</td>\n",
       "      <td>42</td>\n",
       "      <td>/Users/stevejpurves/ray_results/seg_facies/e2e...</td>\n",
       "    </tr>\n",
       "  </tbody>\n",
       "</table>\n",
       "<p>2 rows × 27 columns</p>\n",
       "</div>"
      ],
      "text/plain": [
       "   mean_f1_score  std_f1_score  done  trial_id  training_iteration  \\\n",
       "1       0.548415      0.064307  True         1                   0   \n",
       "0       0.544668      0.050587  True         0                   0   \n",
       "\n",
       "   time_this_iter_s  timesteps_total  episodes_total  \\\n",
       "1        120.242662              NaN             NaN   \n",
       "0         55.467646              NaN             NaN   \n",
       "\n",
       "                      experiment_id                 date  ...  \\\n",
       "1  85f2310da4b643a8adf603356bc44f77  2020-06-05_11-26-58  ...   \n",
       "0  757e708765e140ec9110d18fb540e941  2020-06-05_11-25-53  ...   \n",
       "\n",
       "   iterations_since_restore  \\\n",
       "1                         1   \n",
       "0                         1   \n",
       "\n",
       "                                      experiment_tag  \\\n",
       "1  1_xgbclassifier__colsample_bytree=0.6,xgbclass...   \n",
       "0  0_xgbclassifier__colsample_bytree=0.6,xgbclass...   \n",
       "\n",
       "   config/xgbclassifier__colsample_bytree config/xgbclassifier__lambda  \\\n",
       "1                                     0.6                            1   \n",
       "0                                     0.6                            1   \n",
       "\n",
       "  config/xgbclassifier__learning_rate  config/xgbclassifier__max_depth  \\\n",
       "1                            0.001827                                8   \n",
       "0                            0.481177                                2   \n",
       "\n",
       "   config/xgbclassifier__min_child_weight  config/xgbclassifier__n_estimators  \\\n",
       "1                                0.169909                                  39   \n",
       "0                                1.487259                                  67   \n",
       "\n",
       "  config/xgbclassifier__seed  \\\n",
       "1                         42   \n",
       "0                         42   \n",
       "\n",
       "                                              logdir  \n",
       "1  /Users/stevejpurves/ray_results/seg_facies/e2e...  \n",
       "0  /Users/stevejpurves/ray_results/seg_facies/e2e...  \n",
       "\n",
       "[2 rows x 27 columns]"
      ]
     },
     "execution_count": 12,
     "metadata": {},
     "output_type": "execute_result"
    }
   ],
   "source": [
    "top_n_df.head()"
   ]
  },
  {
   "cell_type": "code",
   "execution_count": 13,
   "metadata": {},
   "outputs": [
    {
     "data": {
      "image/png": "[encoded data removed]",
      "text/plain": [
       "<Figure size 1152x432 with 1 Axes>"
      ]
     },
     "metadata": {},
     "output_type": "display_data"
    }
   ],
   "source": [
    "plot_some_tune_results(top_n_df, (0.5, 1.0))"
   ]
  },
  {
   "cell_type": "code",
   "execution_count": null,
   "metadata": {
    "scrolled": false
   },
   "outputs": [],
   "source": [
    "%load_ext tensorboard\n",
    "from tensorboard import notebook \n",
    "%tensorboard --logdir \"~/ray_results/seg_facies\"\n",
    "notebook.display(height=1000)"
   ]
  },
  {
   "cell_type": "code",
   "execution_count": 10,
   "metadata": {},
   "outputs": [],
   "source": [
    "ray.shutdown()"
   ]
  },
  {
   "cell_type": "code",
   "execution_count": null,
   "metadata": {},
   "outputs": [],
   "source": [
    "ray.init(address='auto', redis_password='5241590000000000')"
   ]
  }
 ],
 "metadata": {
  "kernelspec": {
   "display_name": "Python 3",
   "language": "python",
   "name": "python3"
  },
  "language_info": {
   "codemirror_mode": {
    "name": "ipython",
    "version": 3
   },
   "file_extension": ".py",
   "mimetype": "text/x-python",
   "name": "python",
   "nbconvert_exporter": "python",
   "pygments_lexer": "ipython3",
   "version": "3.8.3"
  }
 },
 "nbformat": 4,
 "nbformat_minor": 4
}
