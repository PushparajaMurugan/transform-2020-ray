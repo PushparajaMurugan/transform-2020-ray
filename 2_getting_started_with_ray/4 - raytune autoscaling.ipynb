{
 "cells": [
  {
   "cell_type": "markdown",
   "metadata": {},
   "source": [
    "# Ray Autoscaling\n",
    "\n",
    "There are a few different ways to bring up and manage a ray cluster and as you would expect the [Ray Docs](https://docs.ray.io/en/master/tune/tutorials/tune-distributed.html) do a good job at explaining those.\n",
    "\n",
    "We are going to focus on launching a cloud cluster on AWS using the [Ray Autoscaling](https://docs.ray.io/en/master/autoscaling.html) functionality.\n",
    "\n",
    "\n",
    "## There are a few pre-requisites\n",
    "\n",
    "Which should have been covered in your credentials access\n",
    "  \n",
    " - Install boto3\n",
    " - ensure credentials are setup\n",
    " - check credentials for boto3 access - https://boto3.amazonaws.com/v1/documentation/api/latest/guide/configuration.html\n",
    "\n"
   ]
  },
  {
   "cell_type": "markdown",
   "metadata": {},
   "source": [
    "## Do a smoke test on boto3\n",
    "\n",
    "list buckets on S3"
   ]
  },
  {
   "cell_type": "code",
   "execution_count": 1,
   "metadata": {},
   "outputs": [
    {
     "data": {
      "text/plain": [
       "{'ResponseMetadata': {'RequestId': '5FFFE6D9506C1EEC',\n",
       "  'HostId': 'eabicxoTrZ2TV89+gIxXwocziR2K/QA67p1NZNwT4FPMr9PeQtxk7kufwwlqYzvll2Q46gTkkfc=',\n",
       "  'HTTPStatusCode': 200,\n",
       "  'HTTPHeaders': {'x-amz-id-2': 'eabicxoTrZ2TV89+gIxXwocziR2K/QA67p1NZNwT4FPMr9PeQtxk7kufwwlqYzvll2Q46gTkkfc=',\n",
       "   'x-amz-request-id': '5FFFE6D9506C1EEC',\n",
       "   'date': 'Fri, 12 Jun 2020 09:17:23 GMT',\n",
       "   'content-type': 'application/xml',\n",
       "   'transfer-encoding': 'chunked',\n",
       "   'server': 'AmazonS3'},\n",
       "  'RetryAttempts': 0},\n",
       " 'Buckets': [],\n",
       " 'Owner': {'ID': '5c6b8c15734061985b64a686156fe288fb3c7203d90d7d022a23233325058cf6'}}"
      ]
     },
     "execution_count": 1,
     "metadata": {},
     "output_type": "execute_result"
    }
   ],
   "source": [
    "import boto3\n",
    "\n",
    "session = boto3.Session()\n",
    "dev_s3_client = session.client('s3')\n",
    "dev_s3_client.list_buckets()"
   ]
  },
  {
   "cell_type": "markdown",
   "metadata": {},
   "source": []
  },
  {
   "cell_type": "markdown",
   "metadata": {},
   "source": [
    "## Minimal Example\n",
    "\n",
    "This is `minimal.yaml` in the same folder as this notebook"
   ]
  },
  {
   "cell_type": "code",
   "execution_count": null,
   "metadata": {},
   "outputs": [],
   "source": [
    "# An unique identifier for the head node and workers of this cluster.\n",
    "cluster_name: minimal\n",
    "\n",
    "# The maximum number of workers nodes to launch in addition to the head\n",
    "# node. This takes precedence over min_workers. min_workers default to 0.\n",
    "max_workers: 4\n",
    "\n",
    "# Cloud-provider specific configuration.\n",
    "provider:\n",
    "    type: aws\n",
    "    region: us-east-1\n",
    "\n",
    "# How Ray will authenticate with newly launched nodes.\n",
    "auth:\n",
    "    ssh_user: ubuntu"
   ]
  },
  {
   "cell_type": "markdown",
   "metadata": {},
   "source": [
    "## Commands\n",
    "\n",
    "To bring up a cluster\n",
    "\n",
    " - `ray up cluster_minimal.yaml`\n",
    " - go watch aws :)\n",
    "\n"
   ]
  },
  {
   "cell_type": "markdown",
   "metadata": {},
   "source": [
    "To access the HEAD NODE on the cluster\n",
    "\n",
    " - `ray attach cluster_minimal.yaml`\n",
    " - `conda activate t20-fri-ray`"
   ]
  },
  {
   "cell_type": "markdown",
   "metadata": {},
   "source": [
    "To Bring the cluster back down\n",
    "\n",
    " - `ray down cluster_minimal.yaml`\n",
    " - watch AWS to make sure it comes down :D"
   ]
  },
  {
   "cell_type": "markdown",
   "metadata": {},
   "source": [
    "Run a job on a node\n",
    "\n",
    " - `ray submit tune-default.yaml tune_script.py --start -- --ray-address=localhost:6379`"
   ]
  },
  {
   "cell_type": "markdown",
   "metadata": {},
   "source": [
    "## Custom Example\n",
    "\n",
    "This is cluster_tune.yml in the same folder as this notebook"
   ]
  },
  {
   "cell_type": "code",
   "execution_count": null,
   "metadata": {},
   "outputs": [],
   "source": [
    "# An unique identifier for the head node and workers of this cluster.\n",
    "cluster_name: raytune\n",
    "\n",
    "# The minimum number of workers nodes to launch in addition to the head\n",
    "# node. This number should be >= 0.\n",
    "min_workers: 2    \n",
    "\n",
    "# The maximum number of workers nodes to launch in addition to the head\n",
    "# node. This takes precedence over min_workers. min_workers default to 0.\n",
    "max_workers: 8\n",
    "\n",
    "# Cloud-provider specific configuration.\n",
    "provider:\n",
    "    type: aws\n",
    "    region: us-east-2\n",
    "    # availability_zone: us-west-2b\n",
    "\n",
    "# How Ray will authenticate with newly launched nodes.\n",
    "auth:\n",
    "    ssh_user: ubuntu\n",
    "        \n",
    "# Provider-specific config for the head node, e.g. instance type. By default\n",
    "# Ray will auto-configure unspecified fields such as SubnetId and KeyName.\n",
    "# For more documentation on available fields, see:\n",
    "# http://boto3.readthedocs.io/en/latest/reference/services/ec2.html#EC2.ServiceResource.create_instances\n",
    "head_node:\n",
    "    InstanceType: c5.2xlarge\n",
    "    ImageId: ami-07c1207a9d40bc3bd  # Default Ubuntu 16.04 AMI.\n",
    "\n",
    "    # Set primary volume to 50 GiB\n",
    "    BlockDeviceMappings:\n",
    "        - DeviceName: /dev/sda1\n",
    "          Ebs:\n",
    "              VolumeSize: 50\n",
    "        \n",
    "# Provider-specific config for worker nodes, e.g. instance type. By default\n",
    "# Ray will auto-configure unspecified fields such as SubnetId and KeyName.\n",
    "# For more documentation on available fields, see:\n",
    "# http://boto3.readthedocs.io/en/latest/reference/services/ec2.html#EC2.ServiceResource.create_instances\n",
    "worker_nodes:\n",
    "    InstanceType: c4.2xlarge\n",
    "    ImageId: ami-07c1207a9d40bc3bd  # Default Ubuntu 16.04 AMI.\n",
    "\n",
    "    # Set primary volume to 50 GiB\n",
    "    BlockDeviceMappings:\n",
    "        - DeviceName: /dev/sda1\n",
    "          Ebs:\n",
    "              VolumeSize: 50\n",
    "\n",
    "    # Run workers on spot by default. Comment this out to use on-demand.\n",
    "#     InstanceMarketOptions:\n",
    "#         MarketType: spot\n",
    "        # Additional options can be found in the boto docs, e.g.\n",
    "        #   SpotOptions:\n",
    "        #       MaxPrice: MAX_HOURLY_PRICE\n",
    "\n",
    "    # Additional options in the boto docs.\n",
    "        \n",
    "# Files or directories to copy to the head and worker nodes. The format is a\n",
    "# dictionary from REMOTE_PATH: LOCAL_PATH, e.g.\n",
    "file_mounts: {\n",
    "    \"/home/ubuntu/transform-2020-ray\": \"~/dev/transform-2020-ray\"\n",
    " }\n",
    "\n",
    "# List of shell commands to run to set up nodes.\n",
    "setup_commands:\n",
    "    # Consider uncommenting these if you run into dpkg locking issues\n",
    "    # - sudo pkill -9 apt-get || true\n",
    "    # - sudo pkill -9 dpkg || true\n",
    "    # - sudo dpkg --configure -a\n",
    "    # Install basics.\n",
    "    - sudo apt-get update\n",
    "    - sudo apt-get install -y build-essential\n",
    "    - sudo apt-get install curl\n",
    "    - sudo apt-get install unzip\n",
    "    # Install Node.js in order to build the dashboard.\n",
    "    - curl -sL https://deb.nodesource.com/setup_12.x | sudo -E bash\n",
    "    - sudo apt-get install -y nodejs\n",
    "    # Install Anaconda.\n",
    "    - wget https://repo.continuum.io/archive/Anaconda3-5.0.1-Linux-x86_64.sh || true\n",
    "    - bash Anaconda3-5.0.1-Linux-x86_64.sh -b -p $HOME/anaconda3 || true\n",
    "    - echo 'export PATH=\"$HOME/anaconda3/bin:$PATH\"' >> ~/.bashrc\n",
    "    # Build Ray.\n",
    "    - git clone https://github.com/ray-project/ray || true\n",
    "    - ray/ci/travis/install-bazel.sh\n",
    "    - cd ray/python/ray/dashboard/client; npm ci; npm run build\n",
    "    - pip install boto3==1.4.8 cython==0.29.0 aiohttp grpcio psutil setproctitle\n",
    "    - cd ray/python; pip install -e . --verbose\n",
    "\n",
    "# Custom commands that will be run on the head node after common setup.\n",
    "head_setup_commands: []\n",
    "\n",
    "# Custom commands that will be run on worker nodes after common setup.\n",
    "worker_setup_commands: []\n",
    "\n",
    "# Command to start ray on the head node. You don't need to change this.\n",
    "head_start_ray_commands:\n",
    "    - ray stop\n",
    "    - ulimit -n 65536; ray start --head --num-redis-shards=10 --port=6379 --autoscaling-config=~/ray_bootstrap_config.yaml\n",
    "\n",
    "# Command to start ray on worker nodes. You don't need to change this.\n",
    "worker_start_ray_commands:\n",
    "    - ray stop\n",
    "    - ulimit -n 65536; ray start --address=$RAY_HEAD_IP:6379        \n",
    "        \n",
    "        \n",
    "# If a node is idle for this many minutes, it will be removed.\n",
    "idle_timeout_minutes: 5"
   ]
  },
  {
   "cell_type": "code",
   "execution_count": null,
   "metadata": {},
   "outputs": [],
   "source": []
  }
 ],
 "metadata": {
  "kernelspec": {
   "display_name": "Python 3",
   "language": "python",
   "name": "python3"
  },
  "language_info": {
   "codemirror_mode": {
    "name": "ipython",
    "version": 3
   },
   "file_extension": ".py",
   "mimetype": "text/x-python",
   "name": "python",
   "nbconvert_exporter": "python",
   "pygments_lexer": "ipython3",
   "version": "3.8.3"
  }
 },
 "nbformat": 4,
 "nbformat_minor": 4
}
