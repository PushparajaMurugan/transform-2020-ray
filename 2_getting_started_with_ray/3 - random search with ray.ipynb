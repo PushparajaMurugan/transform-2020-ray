{
 "cells": [
  {
   "cell_type": "markdown",
   "metadata": {},
   "source": [
    "# Unleash the Ray - Random Search\n",
    "\n",
    "Let's revisit our random search example but now with Ray\n",
    "\n",
    "A lot of this code is going to be familiar as we already had our pipeline wraped in a function"
   ]
  },
  {
   "cell_type": "code",
   "execution_count": 1,
   "metadata": {},
   "outputs": [
    {
     "name": "stdout",
     "output_type": "stream",
     "text": [
      "Loading dependencies we have already seen...\n",
      "Done...\n"
     ]
    }
   ],
   "source": [
    "%load_ext autoreload\n",
    "%autoreload 2\n",
    "\n",
    "from dependencies import *\n",
    "from tuning import *"
   ]
  },
  {
   "cell_type": "markdown",
   "metadata": {},
   "source": [
    "### Let's start Ray"
   ]
  },
  {
   "cell_type": "code",
   "execution_count": 3,
   "metadata": {
    "scrolled": true
   },
   "outputs": [
    {
     "name": "stderr",
     "output_type": "stream",
     "text": [
      "2020-06-11 12:15:15,050\tINFO resource_spec.py:204 -- Starting Ray with 34.57 GiB memory available for workers and up to 17.29 GiB for objects. You can adjust these settings with ray.init(memory=<bytes>, object_store_memory=<bytes>).\n",
      "2020-06-11 12:15:15,344\tINFO services.py:1168 -- View the Ray dashboard at \u001b[1m\u001b[32mlocalhost:8265\u001b[39m\u001b[22m\n"
     ]
    },
    {
     "data": {
      "text/plain": [
       "{'node_ip_address': '192.168.1.39',\n",
       " 'raylet_ip_address': '192.168.1.39',\n",
       " 'redis_address': '192.168.1.39:50926',\n",
       " 'object_store_address': '/tmp/ray/session_2020-06-11_12-15-15_049026_56145/sockets/plasma_store',\n",
       " 'raylet_socket_name': '/tmp/ray/session_2020-06-11_12-15-15_049026_56145/sockets/raylet',\n",
       " 'webui_url': 'localhost:8265',\n",
       " 'session_dir': '/tmp/ray/session_2020-06-11_12-15-15_049026_56145'}"
      ]
     },
     "execution_count": 3,
     "metadata": {},
     "output_type": "execute_result"
    }
   ],
   "source": [
    "ray.shutdown()\n",
    "ray.init(num_cpus=6, num_gpus=0, include_webui=True)"
   ]
  },
  {
   "cell_type": "markdown",
   "metadata": {},
   "source": [
    "After initialisation the [Ray Dashboard](https://docs.ray.io/en/master/ray-dashboard.html) is available on the **webui_url** port"
   ]
  },
  {
   "cell_type": "markdown",
   "metadata": {},
   "source": [
    "## Go Random Go!"
   ]
  },
  {
   "cell_type": "markdown",
   "metadata": {},
   "source": [
    "So to move into a random search configuration we just need to change our search parameters to use `distributions`\n",
    "\n",
    "In our last example:\n",
    "\n",
    "```\n",
    "ray_tuning_config = {\n",
    "    'randomforestclassifier__n_estimators': tune.grid_search([1,5,15,50,100]),\n",
    "    'randomforestclassifier__criterion': tune.grid_search(['gini', 'entropy']),\n",
    "    'randomforestclassifier__max_features': tune.grid_search(['auto', 'sqrt', 'log2']),\n",
    "    'randomforestclassifier__bootstrap': tune.grid_search([True, False]),\n",
    "    'randomforestclassifier__min_samples_leaf': tune.grid_search([1,2,3,4]),\n",
    "    'randomforestclassifier__min_samples_split': tune.grid_search([3,4,5,6])\n",
    "}\n",
    "```\n",
    "\n",
    "Replace grid search with other tune distribution that we can sample from >> [read the docs](https://docs.ray.io/en/latest/tune/api_docs/grid_random.html?highlight=tune.grid#random-distributions-api)\n",
    "\n",
    "Choose appropriate distriutions for the different parameter types"
   ]
  },
  {
   "cell_type": "code",
   "execution_count": 4,
   "metadata": {},
   "outputs": [],
   "source": [
    "ray_tuning_config = {\n",
    "    'randomforestclassifier__n_estimators': tune.randint(1, 150),\n",
    "    'randomforestclassifier__criterion': tune.choice(['gini', 'entropy']),\n",
    "    'randomforestclassifier__max_features': tune.choice(['auto', 'sqrt', 'log2']),\n",
    "    'randomforestclassifier__bootstrap': tune.choice([True, False]),\n",
    "    'randomforestclassifier__min_samples_leaf': tune.randint(1,4),\n",
    "    'randomforestclassifier__min_samples_split': tune.randint(3,6)\n",
    "}"
   ]
  },
  {
   "cell_type": "markdown",
   "metadata": {},
   "source": [
    "There is a slight change to the run function too"
   ]
  },
  {
   "cell_type": "code",
   "execution_count": 5,
   "metadata": {
    "scrolled": true
   },
   "outputs": [
    {
     "data": {
      "text/html": [
       "== Status ==<br>Memory usage on this node: 6.6/62.8 GiB<br>Using FIFO scheduling algorithm.<br>Resources requested: 1/6 CPUs, 0/0 GPUs, 0.0/34.57 GiB heap, 0.0/11.91 GiB objects<br>Result logdir: /home/steve/ray_results/e2e_simple_training<br>Number of trials: 100 (99 PENDING, 1 RUNNING)<br><table>\n",
       "<thead>\n",
       "<tr><th>Trial name               </th><th>status  </th><th>loc  </th><th style=\"text-align: right;\">  randomforestclassifier__bootstrap</th><th>randomforestclassifier__criterion  </th><th>randomforestclassifier__max_features  </th><th style=\"text-align: right;\">  randomforestclassifier__min_samples_leaf</th><th style=\"text-align: right;\">  randomforestclassifier__min_samples_split</th><th style=\"text-align: right;\">  randomforestclassifier__n_estimators</th></tr>\n",
       "</thead>\n",
       "<tbody>\n",
       "<tr><td>e2e_simple_training_00001</td><td>PENDING </td><td>     </td><td style=\"text-align: right;\">                                  0</td><td>gini                               </td><td>log2                                  </td><td style=\"text-align: right;\">                                         3</td><td style=\"text-align: right;\">                                          3</td><td style=\"text-align: right;\">                                   134</td></tr>\n",
       "<tr><td>e2e_simple_training_00002</td><td>PENDING </td><td>     </td><td style=\"text-align: right;\">                                  0</td><td>gini                               </td><td>auto                                  </td><td style=\"text-align: right;\">                                         1</td><td style=\"text-align: right;\">                                          3</td><td style=\"text-align: right;\">                                    20</td></tr>\n",
       "<tr><td>e2e_simple_training_00003</td><td>PENDING </td><td>     </td><td style=\"text-align: right;\">                                  1</td><td>gini                               </td><td>log2                                  </td><td style=\"text-align: right;\">                                         1</td><td style=\"text-align: right;\">                                          5</td><td style=\"text-align: right;\">                                    65</td></tr>\n",
       "<tr><td>e2e_simple_training_00004</td><td>PENDING </td><td>     </td><td style=\"text-align: right;\">                                  1</td><td>entropy                            </td><td>sqrt                                  </td><td style=\"text-align: right;\">                                         2</td><td style=\"text-align: right;\">                                          4</td><td style=\"text-align: right;\">                                    80</td></tr>\n",
       "<tr><td>e2e_simple_training_00005</td><td>PENDING </td><td>     </td><td style=\"text-align: right;\">                                  0</td><td>entropy                            </td><td>log2                                  </td><td style=\"text-align: right;\">                                         2</td><td style=\"text-align: right;\">                                          5</td><td style=\"text-align: right;\">                                    41</td></tr>\n",
       "<tr><td>e2e_simple_training_00006</td><td>PENDING </td><td>     </td><td style=\"text-align: right;\">                                  1</td><td>gini                               </td><td>sqrt                                  </td><td style=\"text-align: right;\">                                         3</td><td style=\"text-align: right;\">                                          3</td><td style=\"text-align: right;\">                                    43</td></tr>\n",
       "<tr><td>e2e_simple_training_00007</td><td>PENDING </td><td>     </td><td style=\"text-align: right;\">                                  1</td><td>gini                               </td><td>sqrt                                  </td><td style=\"text-align: right;\">                                         1</td><td style=\"text-align: right;\">                                          5</td><td style=\"text-align: right;\">                                    37</td></tr>\n",
       "<tr><td>e2e_simple_training_00008</td><td>PENDING </td><td>     </td><td style=\"text-align: right;\">                                  1</td><td>entropy                            </td><td>auto                                  </td><td style=\"text-align: right;\">                                         2</td><td style=\"text-align: right;\">                                          3</td><td style=\"text-align: right;\">                                    23</td></tr>\n",
       "<tr><td>e2e_simple_training_00009</td><td>PENDING </td><td>     </td><td style=\"text-align: right;\">                                  0</td><td>gini                               </td><td>sqrt                                  </td><td style=\"text-align: right;\">                                         1</td><td style=\"text-align: right;\">                                          3</td><td style=\"text-align: right;\">                                    18</td></tr>\n",
       "<tr><td>e2e_simple_training_00010</td><td>PENDING </td><td>     </td><td style=\"text-align: right;\">                                  0</td><td>gini                               </td><td>auto                                  </td><td style=\"text-align: right;\">                                         1</td><td style=\"text-align: right;\">                                          3</td><td style=\"text-align: right;\">                                   148</td></tr>\n",
       "<tr><td>e2e_simple_training_00011</td><td>PENDING </td><td>     </td><td style=\"text-align: right;\">                                  0</td><td>entropy                            </td><td>log2                                  </td><td style=\"text-align: right;\">                                         1</td><td style=\"text-align: right;\">                                          3</td><td style=\"text-align: right;\">                                    84</td></tr>\n",
       "<tr><td>e2e_simple_training_00012</td><td>PENDING </td><td>     </td><td style=\"text-align: right;\">                                  0</td><td>gini                               </td><td>log2                                  </td><td style=\"text-align: right;\">                                         1</td><td style=\"text-align: right;\">                                          4</td><td style=\"text-align: right;\">                                     2</td></tr>\n",
       "<tr><td>e2e_simple_training_00013</td><td>PENDING </td><td>     </td><td style=\"text-align: right;\">                                  1</td><td>gini                               </td><td>auto                                  </td><td style=\"text-align: right;\">                                         2</td><td style=\"text-align: right;\">                                          4</td><td style=\"text-align: right;\">                                    90</td></tr>\n",
       "<tr><td>e2e_simple_training_00014</td><td>PENDING </td><td>     </td><td style=\"text-align: right;\">                                  1</td><td>entropy                            </td><td>auto                                  </td><td style=\"text-align: right;\">                                         3</td><td style=\"text-align: right;\">                                          3</td><td style=\"text-align: right;\">                                    82</td></tr>\n",
       "<tr><td>e2e_simple_training_00015</td><td>PENDING </td><td>     </td><td style=\"text-align: right;\">                                  0</td><td>gini                               </td><td>log2                                  </td><td style=\"text-align: right;\">                                         3</td><td style=\"text-align: right;\">                                          5</td><td style=\"text-align: right;\">                                   102</td></tr>\n",
       "<tr><td>e2e_simple_training_00016</td><td>PENDING </td><td>     </td><td style=\"text-align: right;\">                                  1</td><td>gini                               </td><td>log2                                  </td><td style=\"text-align: right;\">                                         1</td><td style=\"text-align: right;\">                                          5</td><td style=\"text-align: right;\">                                    49</td></tr>\n",
       "<tr><td>e2e_simple_training_00017</td><td>PENDING </td><td>     </td><td style=\"text-align: right;\">                                  0</td><td>gini                               </td><td>sqrt                                  </td><td style=\"text-align: right;\">                                         3</td><td style=\"text-align: right;\">                                          4</td><td style=\"text-align: right;\">                                    32</td></tr>\n",
       "<tr><td>e2e_simple_training_00018</td><td>PENDING </td><td>     </td><td style=\"text-align: right;\">                                  0</td><td>entropy                            </td><td>auto                                  </td><td style=\"text-align: right;\">                                         1</td><td style=\"text-align: right;\">                                          4</td><td style=\"text-align: right;\">                                    52</td></tr>\n",
       "<tr><td>e2e_simple_training_00019</td><td>PENDING </td><td>     </td><td style=\"text-align: right;\">                                  0</td><td>entropy                            </td><td>sqrt                                  </td><td style=\"text-align: right;\">                                         1</td><td style=\"text-align: right;\">                                          3</td><td style=\"text-align: right;\">                                    90</td></tr>\n",
       "<tr><td>e2e_simple_training_00000</td><td>RUNNING </td><td>     </td><td style=\"text-align: right;\">                                  1</td><td>entropy                            </td><td>sqrt                                  </td><td style=\"text-align: right;\">                                         2</td><td style=\"text-align: right;\">                                          3</td><td style=\"text-align: right;\">                                    99</td></tr>\n",
       "</tbody>\n",
       "</table><br>... 80 more trials not shown (80 PENDING)<br><br>"
      ],
      "text/plain": [
       "<IPython.core.display.HTML object>"
      ]
     },
     "metadata": {},
     "output_type": "display_data"
    },
    {
     "name": "stdout",
     "output_type": "stream",
     "text": [
      "\u001b[2m\u001b[36m(pid=56201)\u001b[0m Loading dependencies we have already seen...\n",
      "\u001b[2m\u001b[36m(pid=56199)\u001b[0m Loading dependencies we have already seen...\n",
      "\u001b[2m\u001b[36m(pid=56200)\u001b[0m Loading dependencies we have already seen...\n",
      "\u001b[2m\u001b[36m(pid=56202)\u001b[0m Loading dependencies we have already seen...\n",
      "\u001b[2m\u001b[36m(pid=56197)\u001b[0m Loading dependencies we have already seen...\n",
      "\u001b[2m\u001b[36m(pid=56198)\u001b[0m Loading dependencies we have already seen...\n",
      "\u001b[2m\u001b[36m(pid=56201)\u001b[0m Done...\n",
      "\u001b[2m\u001b[36m(pid=56201)\u001b[0m 2020-06-11 12:17:58,085\tINFO trainable.py:217 -- Getting current IP.\n",
      "\u001b[2m\u001b[36m(pid=56202)\u001b[0m 2020-06-11 12:17:58,164\tINFO trainable.py:217 -- Getting current IP.\n",
      "\u001b[2m\u001b[36m(pid=56202)\u001b[0m Done...\n",
      "\u001b[2m\u001b[36m(pid=56197)\u001b[0m 2020-06-11 12:17:58,158\tINFO trainable.py:217 -- Getting current IP.\n",
      "\u001b[2m\u001b[36m(pid=56197)\u001b[0m Done...\n",
      "\u001b[2m\u001b[36m(pid=56199)\u001b[0m Done...\n",
      "\u001b[2m\u001b[36m(pid=56199)\u001b[0m 2020-06-11 12:17:58,175\tINFO trainable.py:217 -- Getting current IP.\n",
      "\u001b[2m\u001b[36m(pid=56200)\u001b[0m Done...\n",
      "\u001b[2m\u001b[36m(pid=56200)\u001b[0m 2020-06-11 12:17:58,175\tINFO trainable.py:217 -- Getting current IP.\n",
      "\u001b[2m\u001b[36m(pid=56198)\u001b[0m 2020-06-11 12:17:58,174\tINFO trainable.py:217 -- Getting current IP.\n",
      "\u001b[2m\u001b[36m(pid=56198)\u001b[0m Done...\n"
     ]
    },
    {
     "name": "stderr",
     "output_type": "stream",
     "text": [
      "2020-06-11 12:17:58,414\tINFO logger.py:269 -- Removed the following hyperparameter values when logging to tensorboard: {'randomforestclassifier__bootstrap': False}\n",
      "2020-06-11 12:17:58,575\tINFO logger.py:269 -- Removed the following hyperparameter values when logging to tensorboard: {'randomforestclassifier__bootstrap': False}\n"
     ]
    },
    {
     "name": "stdout",
     "output_type": "stream",
     "text": [
      "Result for e2e_simple_training_00002:\n",
      "  date: 2020-06-11_12-17-58\n",
      "  done: true\n",
      "  experiment_id: 115a124da6bb45b8962dd235ee4ea191\n",
      "  experiment_tag: 2_randomforestclassifier__bootstrap=False,randomforestclassifier__criterion=gini,randomforestclassifier__max_features=auto,randomforestclassifier__min_samples_leaf=1,randomforestclassifier__min_samples_split=3,randomforestclassifier__n_estimators=20\n",
      "  hostname: cosmos-ml\n",
      "  iterations_since_restore: 1\n",
      "  mean_f1_score: 0.9720416957957033\n",
      "  node_ip: 192.168.1.39\n",
      "  pid: 56200\n",
      "  std_f1_score: 0.01234641405566547\n",
      "  time_since_restore: 0.23285460472106934\n",
      "  time_this_iter_s: 0.23285460472106934\n",
      "  time_total_s: 0.23285460472106934\n",
      "  timestamp: 1591874278\n",
      "  timesteps_since_restore: 0\n",
      "  training_iteration: 0\n",
      "  trial_id: '00002'\n",
      "  \n",
      "Result for e2e_simple_training_00005:\n",
      "  date: 2020-06-11_12-17-58\n",
      "  done: true\n",
      "  experiment_id: 77d52d6c3ae045edb4d7693a9b8974d4\n",
      "  experiment_tag: 5_randomforestclassifier__bootstrap=False,randomforestclassifier__criterion=entropy,randomforestclassifier__max_features=log2,randomforestclassifier__min_samples_leaf=2,randomforestclassifier__min_samples_split=5,randomforestclassifier__n_estimators=41\n",
      "  hostname: cosmos-ml\n",
      "  iterations_since_restore: 1\n",
      "  mean_f1_score: 0.9706572241376754\n",
      "  node_ip: 192.168.1.39\n",
      "  pid: 56199\n",
      "  std_f1_score: 0.01503506762678741\n",
      "  time_since_restore: 0.3952782154083252\n",
      "  time_this_iter_s: 0.3952782154083252\n",
      "  time_total_s: 0.3952782154083252\n",
      "  timestamp: 1591874278\n",
      "  timesteps_since_restore: 0\n",
      "  training_iteration: 0\n",
      "  trial_id: '00005'\n",
      "  \n"
     ]
    },
    {
     "name": "stderr",
     "output_type": "stream",
     "text": [
      "2020-06-11 12:17:58,918\tINFO logger.py:269 -- Removed the following hyperparameter values when logging to tensorboard: {'randomforestclassifier__bootstrap': True}\n",
      "2020-06-11 12:17:59,081\tINFO logger.py:269 -- Removed the following hyperparameter values when logging to tensorboard: {'randomforestclassifier__bootstrap': True}\n"
     ]
    },
    {
     "name": "stdout",
     "output_type": "stream",
     "text": [
      "Result for e2e_simple_training_00003:\n",
      "  date: 2020-06-11_12-17-58\n",
      "  done: true\n",
      "  experiment_id: 81afe32899de4f229aa2abfaaf09b728\n",
      "  experiment_tag: 3_randomforestclassifier__bootstrap=True,randomforestclassifier__criterion=gini,randomforestclassifier__max_features=log2,randomforestclassifier__min_samples_leaf=1,randomforestclassifier__min_samples_split=5,randomforestclassifier__n_estimators=65\n",
      "  hostname: cosmos-ml\n",
      "  iterations_since_restore: 1\n",
      "  mean_f1_score: 0.9693802400731892\n",
      "  node_ip: 192.168.1.39\n",
      "  pid: 56202\n",
      "  std_f1_score: 0.015769622456041518\n",
      "  time_since_restore: 0.7465651035308838\n",
      "  time_this_iter_s: 0.7465651035308838\n",
      "  time_total_s: 0.7465651035308838\n",
      "  timestamp: 1591874278\n",
      "  timesteps_since_restore: 0\n",
      "  training_iteration: 0\n",
      "  trial_id: '00003'\n",
      "  \n",
      "Result for e2e_simple_training_00004:\n",
      "  date: 2020-06-11_12-17-59\n",
      "  done: true\n",
      "  experiment_id: 423eb07bfc524c5b8117bb5521d5f8ec\n",
      "  experiment_tag: 4_randomforestclassifier__bootstrap=True,randomforestclassifier__criterion=entropy,randomforestclassifier__max_features=sqrt,randomforestclassifier__min_samples_leaf=2,randomforestclassifier__min_samples_split=4,randomforestclassifier__n_estimators=80\n",
      "  hostname: cosmos-ml\n",
      "  iterations_since_restore: 1\n",
      "  mean_f1_score: 0.9717601614131575\n",
      "  node_ip: 192.168.1.39\n",
      "  pid: 56198\n",
      "  std_f1_score: 0.020411741501011927\n",
      "  time_since_restore: 0.899573802947998\n",
      "  time_this_iter_s: 0.899573802947998\n",
      "  time_total_s: 0.899573802947998\n",
      "  timestamp: 1591874279\n",
      "  timesteps_since_restore: 0\n",
      "  training_iteration: 0\n",
      "  trial_id: '00004'\n",
      "  \n",
      "\u001b[2m\u001b[36m(pid=56428)\u001b[0m Loading dependencies we have already seen...\n"
     ]
    },
    {
     "name": "stderr",
     "output_type": "stream",
     "text": [
      "2020-06-11 12:17:59,174\tINFO logger.py:269 -- Removed the following hyperparameter values when logging to tensorboard: {'randomforestclassifier__bootstrap': True}\n"
     ]
    },
    {
     "name": "stdout",
     "output_type": "stream",
     "text": [
      "Result for e2e_simple_training_00000:\n",
      "  date: 2020-06-11_12-17-59\n",
      "  done: true\n",
      "  experiment_id: 8e1dae1d028944b3b2f45a8b2df3d3b3\n",
      "  experiment_tag: 0_randomforestclassifier__bootstrap=True,randomforestclassifier__criterion=entropy,randomforestclassifier__max_features=sqrt,randomforestclassifier__min_samples_leaf=2,randomforestclassifier__min_samples_split=3,randomforestclassifier__n_estimators=99\n",
      "  hostname: cosmos-ml\n",
      "  iterations_since_restore: 1\n",
      "  mean_f1_score: 0.9718830252652703\n",
      "  node_ip: 192.168.1.39\n",
      "  pid: 56201\n",
      "  std_f1_score: 0.016918646091308834\n",
      "  time_since_restore: 1.0731208324432373\n",
      "  time_this_iter_s: 1.0731208324432373\n",
      "  time_total_s: 1.0731208324432373\n",
      "  timestamp: 1591874279\n",
      "  timesteps_since_restore: 0\n",
      "  training_iteration: 0\n",
      "  trial_id: '00000'\n",
      "  \n",
      "\u001b[2m\u001b[36m(pid=56430)\u001b[0m Loading dependencies we have already seen...\n",
      "\u001b[2m\u001b[36m(pid=56431)\u001b[0m Loading dependencies we have already seen...\n"
     ]
    },
    {
     "name": "stderr",
     "output_type": "stream",
     "text": [
      "2020-06-11 12:17:59,578\tINFO logger.py:269 -- Removed the following hyperparameter values when logging to tensorboard: {'randomforestclassifier__bootstrap': False}\n"
     ]
    },
    {
     "name": "stdout",
     "output_type": "stream",
     "text": [
      "\u001b[2m\u001b[36m(pid=56433)\u001b[0m Loading dependencies we have already seen...\n",
      "\u001b[2m\u001b[36m(pid=56445)\u001b[0m Loading dependencies we have already seen...\n",
      "Result for e2e_simple_training_00001:\n",
      "  date: 2020-06-11_12-17-59\n",
      "  done: true\n",
      "  experiment_id: 6e168e16b88043f5ae7847154da8a4cd\n",
      "  experiment_tag: 1_randomforestclassifier__bootstrap=False,randomforestclassifier__criterion=gini,randomforestclassifier__max_features=log2,randomforestclassifier__min_samples_leaf=3,randomforestclassifier__min_samples_split=3,randomforestclassifier__n_estimators=134\n",
      "  hostname: cosmos-ml\n",
      "  iterations_since_restore: 1\n",
      "  mean_f1_score: 0.9721351906156419\n",
      "  node_ip: 192.168.1.39\n",
      "  pid: 56197\n",
      "  std_f1_score: 0.01472939203711315\n",
      "  time_since_restore: 1.4125020503997803\n",
      "  time_this_iter_s: 1.4125020503997803\n",
      "  time_total_s: 1.4125020503997803\n",
      "  timestamp: 1591874279\n",
      "  timesteps_since_restore: 0\n",
      "  training_iteration: 0\n",
      "  trial_id: '00001'\n",
      "  \n",
      "\u001b[2m\u001b[36m(pid=56460)\u001b[0m Loading dependencies we have already seen...\n",
      "\u001b[2m\u001b[36m(pid=56428)\u001b[0m 2020-06-11 12:17:59,910\tINFO trainable.py:217 -- Getting current IP.\n",
      "\u001b[2m\u001b[36m(pid=56428)\u001b[0m Done...\n",
      "\u001b[2m\u001b[36m(pid=56430)\u001b[0m Done...\n",
      "\u001b[2m\u001b[36m(pid=56430)\u001b[0m 2020-06-11 12:18:00,029\tINFO trainable.py:217 -- Getting current IP.\n",
      "\u001b[2m\u001b[36m(pid=56431)\u001b[0m Done...\n",
      "\u001b[2m\u001b[36m(pid=56431)\u001b[0m 2020-06-11 12:18:00,046\tINFO trainable.py:217 -- Getting current IP.\n",
      "\u001b[2m\u001b[36m(pid=56433)\u001b[0m Done...\n",
      "\u001b[2m\u001b[36m(pid=56433)\u001b[0m 2020-06-11 12:18:00,116\tINFO trainable.py:217 -- Getting current IP.\n"
     ]
    },
    {
     "name": "stderr",
     "output_type": "stream",
     "text": [
      "2020-06-11 12:18:00,346\tINFO logger.py:269 -- Removed the following hyperparameter values when logging to tensorboard: {'randomforestclassifier__bootstrap': True}\n",
      "2020-06-11 12:18:00,370\tINFO logger.py:269 -- Removed the following hyperparameter values when logging to tensorboard: {'randomforestclassifier__bootstrap': True}\n",
      "2020-06-11 12:18:00,395\tINFO logger.py:269 -- Removed the following hyperparameter values when logging to tensorboard: {'randomforestclassifier__bootstrap': False}\n"
     ]
    },
    {
     "name": "stdout",
     "output_type": "stream",
     "text": [
      "\u001b[2m\u001b[36m(pid=56445)\u001b[0m Done...\n",
      "\u001b[2m\u001b[36m(pid=56445)\u001b[0m 2020-06-11 12:18:00,235\tINFO trainable.py:217 -- Getting current IP.\n",
      "Result for e2e_simple_training_00006:\n",
      "  date: 2020-06-11_12-18-00\n",
      "  done: true\n",
      "  experiment_id: 476bbefb328b4dce9828d3cd8aee0f0b\n",
      "  experiment_tag: 6_randomforestclassifier__bootstrap=True,randomforestclassifier__criterion=gini,randomforestclassifier__max_features=sqrt,randomforestclassifier__min_samples_leaf=3,randomforestclassifier__min_samples_split=3,randomforestclassifier__n_estimators=43\n",
      "  hostname: cosmos-ml\n",
      "  iterations_since_restore: 1\n",
      "  mean_f1_score: 0.970721364701985\n",
      "  node_ip: 192.168.1.39\n",
      "  pid: 56428\n",
      "  std_f1_score: 0.01735690471548167\n",
      "  time_since_restore: 0.39849328994750977\n",
      "  time_this_iter_s: 0.39849328994750977\n",
      "  time_total_s: 0.39849328994750977\n",
      "  timestamp: 1591874280\n",
      "  timesteps_since_restore: 0\n",
      "  training_iteration: 0\n",
      "  trial_id: '00006'\n",
      "  \n",
      "Result for e2e_simple_training_00008:\n",
      "  date: 2020-06-11_12-18-00\n",
      "  done: true\n",
      "  experiment_id: fa10ef81b3e0414daed78c3c47f6cf69\n",
      "  experiment_tag: 8_randomforestclassifier__bootstrap=True,randomforestclassifier__criterion=entropy,randomforestclassifier__max_features=auto,randomforestclassifier__min_samples_leaf=2,randomforestclassifier__min_samples_split=3,randomforestclassifier__n_estimators=23\n",
      "  hostname: cosmos-ml\n",
      "  iterations_since_restore: 1\n",
      "  mean_f1_score: 0.968075003926276\n",
      "  node_ip: 192.168.1.39\n",
      "  pid: 56431\n",
      "  std_f1_score: 0.014221143154708947\n",
      "  time_since_restore: 0.2739105224609375\n",
      "  time_this_iter_s: 0.2739105224609375\n",
      "  time_total_s: 0.2739105224609375\n",
      "  timestamp: 1591874280\n",
      "  timesteps_since_restore: 0\n",
      "  training_iteration: 0\n",
      "  trial_id: 00008\n",
      "  \n",
      "Result for e2e_simple_training_00009:\n",
      "  date: 2020-06-11_12-18-00\n",
      "  done: true\n",
      "  experiment_id: 4217e7a5ddca4f1aa76352b47b388818\n",
      "  experiment_tag: 9_randomforestclassifier__bootstrap=False,randomforestclassifier__criterion=gini,randomforestclassifier__max_features=sqrt,randomforestclassifier__min_samples_leaf=1,randomforestclassifier__min_samples_split=3,randomforestclassifier__n_estimators=18\n",
      "  hostname: cosmos-ml\n",
      "  iterations_since_restore: 1\n",
      "  mean_f1_score: 0.9734791472331548\n",
      "  node_ip: 192.168.1.39\n",
      "  pid: 56433\n",
      "  std_f1_score: 0.01185560357663588\n",
      "  time_since_restore: 0.21923089027404785\n",
      "  time_this_iter_s: 0.21923089027404785\n",
      "  time_total_s: 0.21923089027404785\n",
      "  timestamp: 1591874280\n",
      "  timesteps_since_restore: 0\n",
      "  training_iteration: 0\n",
      "  trial_id: 00009\n",
      "  \n"
     ]
    },
    {
     "name": "stderr",
     "output_type": "stream",
     "text": [
      "2020-06-11 12:18:00,509\tINFO logger.py:269 -- Removed the following hyperparameter values when logging to tensorboard: {'randomforestclassifier__bootstrap': True}\n"
     ]
    },
    {
     "name": "stdout",
     "output_type": "stream",
     "text": [
      "Result for e2e_simple_training_00007:\n",
      "  date: 2020-06-11_12-18-00\n",
      "  done: true\n",
      "  experiment_id: 518a36ed97aa4572981d9227095b37a3\n",
      "  experiment_tag: 7_randomforestclassifier__bootstrap=True,randomforestclassifier__criterion=gini,randomforestclassifier__max_features=sqrt,randomforestclassifier__min_samples_leaf=1,randomforestclassifier__min_samples_split=5,randomforestclassifier__n_estimators=37\n",
      "  hostname: cosmos-ml\n",
      "  iterations_since_restore: 1\n",
      "  mean_f1_score: 0.9735969368373715\n",
      "  node_ip: 192.168.1.39\n",
      "  pid: 56430\n",
      "  std_f1_score: 0.0160032139949415\n",
      "  time_since_restore: 0.4229435920715332\n",
      "  time_this_iter_s: 0.4229435920715332\n",
      "  time_total_s: 0.4229435920715332\n",
      "  timestamp: 1591874280\n",
      "  timesteps_since_restore: 0\n",
      "  training_iteration: 0\n",
      "  trial_id: '00007'\n",
      "  \n",
      "\u001b[2m\u001b[36m(pid=56460)\u001b[0m Done...\n",
      "\u001b[2m\u001b[36m(pid=56460)\u001b[0m 2020-06-11 12:18:00,503\tINFO trainable.py:217 -- Getting current IP.\n",
      "\u001b[2m\u001b[36m(pid=56494)\u001b[0m Loading dependencies we have already seen...\n",
      "\u001b[2m\u001b[36m(pid=56448)\u001b[0m Loading dependencies we have already seen...\n",
      "\u001b[2m\u001b[36m(pid=56450)\u001b[0m Loading dependencies we have already seen...\n",
      "\u001b[2m\u001b[36m(pid=56551)\u001b[0m Loading dependencies we have already seen...\n"
     ]
    },
    {
     "name": "stderr",
     "output_type": "stream",
     "text": [
      "2020-06-11 12:18:01,409\tINFO logger.py:269 -- Removed the following hyperparameter values when logging to tensorboard: {'randomforestclassifier__bootstrap': False}\n",
      "2020-06-11 12:18:01,429\tINFO logger.py:269 -- Removed the following hyperparameter values when logging to tensorboard: {'randomforestclassifier__bootstrap': False}\n"
     ]
    },
    {
     "name": "stdout",
     "output_type": "stream",
     "text": [
      "\u001b[2m\u001b[36m(pid=56494)\u001b[0m 2020-06-11 12:18:01,341\tINFO trainable.py:217 -- Getting current IP.\n",
      "\u001b[2m\u001b[36m(pid=56494)\u001b[0m Done...\n",
      "Result for e2e_simple_training_00012:\n",
      "  date: 2020-06-11_12-18-01\n",
      "  done: true\n",
      "  experiment_id: 44344afd0b734f4498a65bc28bfedee0\n",
      "  experiment_tag: 12_randomforestclassifier__bootstrap=False,randomforestclassifier__criterion=gini,randomforestclassifier__max_features=log2,randomforestclassifier__min_samples_leaf=1,randomforestclassifier__min_samples_split=4,randomforestclassifier__n_estimators=2\n",
      "  hostname: cosmos-ml\n",
      "  iterations_since_restore: 1\n",
      "  mean_f1_score: 0.9449955301269444\n",
      "  node_ip: 192.168.1.39\n",
      "  pid: 56494\n",
      "  std_f1_score: 0.020245296824453755\n",
      "  time_since_restore: 0.05977916717529297\n",
      "  time_this_iter_s: 0.05977916717529297\n",
      "  time_total_s: 0.05977916717529297\n",
      "  timestamp: 1591874281\n",
      "  timesteps_since_restore: 0\n",
      "  training_iteration: 0\n",
      "  trial_id: '00012'\n",
      "  \n",
      "\u001b[2m\u001b[36m(pid=56448)\u001b[0m 2020-06-11 12:18:01,365\tINFO trainable.py:217 -- Getting current IP.\n",
      "\u001b[2m\u001b[36m(pid=56448)\u001b[0m Done...\n",
      "Result for e2e_simple_training_00011:\n",
      "  date: 2020-06-11_12-18-01\n",
      "  done: true\n",
      "  experiment_id: 370317b17c234502842a1e54cfeea3fc\n",
      "  experiment_tag: 11_randomforestclassifier__bootstrap=False,randomforestclassifier__criterion=entropy,randomforestclassifier__max_features=log2,randomforestclassifier__min_samples_leaf=1,randomforestclassifier__min_samples_split=3,randomforestclassifier__n_estimators=84\n",
      "  hostname: cosmos-ml\n",
      "  iterations_since_restore: 1\n",
      "  mean_f1_score: 0.9695712511062056\n",
      "  node_ip: 192.168.1.39\n",
      "  pid: 56460\n",
      "  std_f1_score: 0.0148075857739132\n",
      "  time_since_restore: 0.8608720302581787\n",
      "  time_this_iter_s: 0.8608720302581787\n",
      "  time_total_s: 0.8608720302581787\n",
      "  timestamp: 1591874281\n",
      "  timesteps_since_restore: 0\n",
      "  training_iteration: 0\n",
      "  trial_id: '00011'\n",
      "  \n",
      "\u001b[2m\u001b[36m(pid=56450)\u001b[0m Done...\n",
      "\u001b[2m\u001b[36m(pid=56450)\u001b[0m 2020-06-11 12:18:01,476\tINFO trainable.py:217 -- Getting current IP.\n"
     ]
    },
    {
     "name": "stderr",
     "output_type": "stream",
     "text": [
      "2020-06-11 12:18:01,875\tINFO logger.py:269 -- Removed the following hyperparameter values when logging to tensorboard: {'randomforestclassifier__bootstrap': False}\n"
     ]
    },
    {
     "name": "stdout",
     "output_type": "stream",
     "text": [
      "Result for e2e_simple_training_00010:\n",
      "  date: 2020-06-11_12-18-01\n",
      "  done: true\n",
      "  experiment_id: 68786b9e8de64b01afa760b685737669\n",
      "  experiment_tag: 10_randomforestclassifier__bootstrap=False,randomforestclassifier__criterion=gini,randomforestclassifier__max_features=auto,randomforestclassifier__min_samples_leaf=1,randomforestclassifier__min_samples_split=3,randomforestclassifier__n_estimators=148\n",
      "  hostname: cosmos-ml\n",
      "  iterations_since_restore: 1\n",
      "  mean_f1_score: 0.9720789209495126\n",
      "  node_ip: 192.168.1.39\n",
      "  pid: 56445\n",
      "  std_f1_score: 0.014757038428669506\n",
      "  time_since_restore: 1.6314005851745605\n",
      "  time_this_iter_s: 1.6314005851745605\n",
      "  time_total_s: 1.6314005851745605\n",
      "  timestamp: 1591874281\n",
      "  timesteps_since_restore: 0\n",
      "  training_iteration: 0\n",
      "  trial_id: '00010'\n",
      "  \n",
      "\u001b[2m\u001b[36m(pid=56551)\u001b[0m Done...\n",
      "\u001b[2m\u001b[36m(pid=56551)\u001b[0m 2020-06-11 12:18:02,014\tINFO trainable.py:217 -- Getting current IP.\n",
      "\u001b[2m\u001b[36m(pid=56569)\u001b[0m Loading dependencies we have already seen...\n",
      "\u001b[2m\u001b[36m(pid=56567)\u001b[0m Loading dependencies we have already seen...\n",
      "\u001b[2m\u001b[36m(pid=56572)\u001b[0m Loading dependencies we have already seen...\n"
     ]
    },
    {
     "name": "stderr",
     "output_type": "stream",
     "text": [
      "2020-06-11 12:18:02,468\tINFO logger.py:269 -- Removed the following hyperparameter values when logging to tensorboard: {'randomforestclassifier__bootstrap': True}\n"
     ]
    },
    {
     "name": "stdout",
     "output_type": "stream",
     "text": [
      "Result for e2e_simple_training_00013:\n",
      "  date: 2020-06-11_12-18-02\n",
      "  done: true\n",
      "  experiment_id: a72f33722ea8436c91458b4a9245588f\n",
      "  experiment_tag: 13_randomforestclassifier__bootstrap=True,randomforestclassifier__criterion=gini,randomforestclassifier__max_features=auto,randomforestclassifier__min_samples_leaf=2,randomforestclassifier__min_samples_split=4,randomforestclassifier__n_estimators=90\n",
      "  hostname: cosmos-ml\n",
      "  iterations_since_restore: 1\n",
      "  mean_f1_score: 0.968037556881191\n",
      "  node_ip: 192.168.1.39\n",
      "  pid: 56448\n",
      "  std_f1_score: 0.01677626213258541\n",
      "  time_since_restore: 1.065340280532837\n",
      "  time_this_iter_s: 1.065340280532837\n",
      "  time_total_s: 1.065340280532837\n",
      "  timestamp: 1591874282\n",
      "  timesteps_since_restore: 0\n",
      "  training_iteration: 0\n",
      "  trial_id: '00013'\n",
      "  \n"
     ]
    },
    {
     "data": {
      "text/html": [
       "== Status ==<br>Memory usage on this node: 7.2/62.8 GiB<br>Using FIFO scheduling algorithm.<br>Resources requested: 5/6 CPUs, 0/0 GPUs, 0.0/34.57 GiB heap, 0.0/11.91 GiB objects<br>Result logdir: /home/steve/ray_results/e2e_simple_training<br>Number of trials: 100 (81 PENDING, 5 RUNNING, 14 TERMINATED)<br><table>\n",
       "<thead>\n",
       "<tr><th>Trial name               </th><th>status    </th><th>loc  </th><th style=\"text-align: right;\">  randomforestclassifier__bootstrap</th><th>randomforestclassifier__criterion  </th><th>randomforestclassifier__max_features  </th><th style=\"text-align: right;\">  randomforestclassifier__min_samples_leaf</th><th style=\"text-align: right;\">  randomforestclassifier__min_samples_split</th><th style=\"text-align: right;\">  randomforestclassifier__n_estimators</th><th style=\"text-align: right;\">  iter</th><th style=\"text-align: right;\">  total time (s)</th></tr>\n",
       "</thead>\n",
       "<tbody>\n",
       "<tr><td>e2e_simple_training_00019</td><td>PENDING   </td><td>     </td><td style=\"text-align: right;\">                                  0</td><td>entropy                            </td><td>sqrt                                  </td><td style=\"text-align: right;\">                                         1</td><td style=\"text-align: right;\">                                          3</td><td style=\"text-align: right;\">                                    90</td><td style=\"text-align: right;\">      </td><td style=\"text-align: right;\">                </td></tr>\n",
       "<tr><td>e2e_simple_training_00020</td><td>PENDING   </td><td>     </td><td style=\"text-align: right;\">                                  0</td><td>entropy                            </td><td>log2                                  </td><td style=\"text-align: right;\">                                         2</td><td style=\"text-align: right;\">                                          3</td><td style=\"text-align: right;\">                                    99</td><td style=\"text-align: right;\">      </td><td style=\"text-align: right;\">                </td></tr>\n",
       "<tr><td>e2e_simple_training_00021</td><td>PENDING   </td><td>     </td><td style=\"text-align: right;\">                                  0</td><td>entropy                            </td><td>sqrt                                  </td><td style=\"text-align: right;\">                                         3</td><td style=\"text-align: right;\">                                          4</td><td style=\"text-align: right;\">                                   142</td><td style=\"text-align: right;\">      </td><td style=\"text-align: right;\">                </td></tr>\n",
       "<tr><td>e2e_simple_training_00022</td><td>PENDING   </td><td>     </td><td style=\"text-align: right;\">                                  0</td><td>entropy                            </td><td>auto                                  </td><td style=\"text-align: right;\">                                         1</td><td style=\"text-align: right;\">                                          5</td><td style=\"text-align: right;\">                                    71</td><td style=\"text-align: right;\">      </td><td style=\"text-align: right;\">                </td></tr>\n",
       "<tr><td>e2e_simple_training_00023</td><td>PENDING   </td><td>     </td><td style=\"text-align: right;\">                                  1</td><td>gini                               </td><td>auto                                  </td><td style=\"text-align: right;\">                                         2</td><td style=\"text-align: right;\">                                          3</td><td style=\"text-align: right;\">                                    52</td><td style=\"text-align: right;\">      </td><td style=\"text-align: right;\">                </td></tr>\n",
       "<tr><td>e2e_simple_training_00024</td><td>PENDING   </td><td>     </td><td style=\"text-align: right;\">                                  0</td><td>entropy                            </td><td>auto                                  </td><td style=\"text-align: right;\">                                         1</td><td style=\"text-align: right;\">                                          3</td><td style=\"text-align: right;\">                                   117</td><td style=\"text-align: right;\">      </td><td style=\"text-align: right;\">                </td></tr>\n",
       "<tr><td>e2e_simple_training_00025</td><td>PENDING   </td><td>     </td><td style=\"text-align: right;\">                                  0</td><td>gini                               </td><td>auto                                  </td><td style=\"text-align: right;\">                                         1</td><td style=\"text-align: right;\">                                          4</td><td style=\"text-align: right;\">                                    11</td><td style=\"text-align: right;\">      </td><td style=\"text-align: right;\">                </td></tr>\n",
       "<tr><td>e2e_simple_training_00026</td><td>PENDING   </td><td>     </td><td style=\"text-align: right;\">                                  0</td><td>gini                               </td><td>sqrt                                  </td><td style=\"text-align: right;\">                                         3</td><td style=\"text-align: right;\">                                          3</td><td style=\"text-align: right;\">                                    29</td><td style=\"text-align: right;\">      </td><td style=\"text-align: right;\">                </td></tr>\n",
       "<tr><td>e2e_simple_training_00014</td><td>RUNNING   </td><td>     </td><td style=\"text-align: right;\">                                  1</td><td>entropy                            </td><td>auto                                  </td><td style=\"text-align: right;\">                                         3</td><td style=\"text-align: right;\">                                          3</td><td style=\"text-align: right;\">                                    82</td><td style=\"text-align: right;\">      </td><td style=\"text-align: right;\">                </td></tr>\n",
       "<tr><td>e2e_simple_training_00015</td><td>RUNNING   </td><td>     </td><td style=\"text-align: right;\">                                  0</td><td>gini                               </td><td>log2                                  </td><td style=\"text-align: right;\">                                         3</td><td style=\"text-align: right;\">                                          5</td><td style=\"text-align: right;\">                                   102</td><td style=\"text-align: right;\">      </td><td style=\"text-align: right;\">                </td></tr>\n",
       "<tr><td>e2e_simple_training_00016</td><td>RUNNING   </td><td>     </td><td style=\"text-align: right;\">                                  1</td><td>gini                               </td><td>log2                                  </td><td style=\"text-align: right;\">                                         1</td><td style=\"text-align: right;\">                                          5</td><td style=\"text-align: right;\">                                    49</td><td style=\"text-align: right;\">      </td><td style=\"text-align: right;\">                </td></tr>\n",
       "<tr><td>e2e_simple_training_00017</td><td>RUNNING   </td><td>     </td><td style=\"text-align: right;\">                                  0</td><td>gini                               </td><td>sqrt                                  </td><td style=\"text-align: right;\">                                         3</td><td style=\"text-align: right;\">                                          4</td><td style=\"text-align: right;\">                                    32</td><td style=\"text-align: right;\">      </td><td style=\"text-align: right;\">                </td></tr>\n",
       "<tr><td>e2e_simple_training_00018</td><td>RUNNING   </td><td>     </td><td style=\"text-align: right;\">                                  0</td><td>entropy                            </td><td>auto                                  </td><td style=\"text-align: right;\">                                         1</td><td style=\"text-align: right;\">                                          4</td><td style=\"text-align: right;\">                                    52</td><td style=\"text-align: right;\">      </td><td style=\"text-align: right;\">                </td></tr>\n",
       "<tr><td>e2e_simple_training_00000</td><td>TERMINATED</td><td>     </td><td style=\"text-align: right;\">                                  1</td><td>entropy                            </td><td>sqrt                                  </td><td style=\"text-align: right;\">                                         2</td><td style=\"text-align: right;\">                                          3</td><td style=\"text-align: right;\">                                    99</td><td style=\"text-align: right;\">     0</td><td style=\"text-align: right;\">        1.07312 </td></tr>\n",
       "<tr><td>e2e_simple_training_00001</td><td>TERMINATED</td><td>     </td><td style=\"text-align: right;\">                                  0</td><td>gini                               </td><td>log2                                  </td><td style=\"text-align: right;\">                                         3</td><td style=\"text-align: right;\">                                          3</td><td style=\"text-align: right;\">                                   134</td><td style=\"text-align: right;\">     0</td><td style=\"text-align: right;\">        1.4125  </td></tr>\n",
       "<tr><td>e2e_simple_training_00002</td><td>TERMINATED</td><td>     </td><td style=\"text-align: right;\">                                  0</td><td>gini                               </td><td>auto                                  </td><td style=\"text-align: right;\">                                         1</td><td style=\"text-align: right;\">                                          3</td><td style=\"text-align: right;\">                                    20</td><td style=\"text-align: right;\">     0</td><td style=\"text-align: right;\">        0.232855</td></tr>\n",
       "<tr><td>e2e_simple_training_00003</td><td>TERMINATED</td><td>     </td><td style=\"text-align: right;\">                                  1</td><td>gini                               </td><td>log2                                  </td><td style=\"text-align: right;\">                                         1</td><td style=\"text-align: right;\">                                          5</td><td style=\"text-align: right;\">                                    65</td><td style=\"text-align: right;\">     0</td><td style=\"text-align: right;\">        0.746565</td></tr>\n",
       "<tr><td>e2e_simple_training_00004</td><td>TERMINATED</td><td>     </td><td style=\"text-align: right;\">                                  1</td><td>entropy                            </td><td>sqrt                                  </td><td style=\"text-align: right;\">                                         2</td><td style=\"text-align: right;\">                                          4</td><td style=\"text-align: right;\">                                    80</td><td style=\"text-align: right;\">     0</td><td style=\"text-align: right;\">        0.899574</td></tr>\n",
       "<tr><td>e2e_simple_training_00005</td><td>TERMINATED</td><td>     </td><td style=\"text-align: right;\">                                  0</td><td>entropy                            </td><td>log2                                  </td><td style=\"text-align: right;\">                                         2</td><td style=\"text-align: right;\">                                          5</td><td style=\"text-align: right;\">                                    41</td><td style=\"text-align: right;\">     0</td><td style=\"text-align: right;\">        0.395278</td></tr>\n",
       "<tr><td>e2e_simple_training_00006</td><td>TERMINATED</td><td>     </td><td style=\"text-align: right;\">                                  1</td><td>gini                               </td><td>sqrt                                  </td><td style=\"text-align: right;\">                                         3</td><td style=\"text-align: right;\">                                          3</td><td style=\"text-align: right;\">                                    43</td><td style=\"text-align: right;\">     0</td><td style=\"text-align: right;\">        0.398493</td></tr>\n",
       "<tr><td>e2e_simple_training_00007</td><td>TERMINATED</td><td>     </td><td style=\"text-align: right;\">                                  1</td><td>gini                               </td><td>sqrt                                  </td><td style=\"text-align: right;\">                                         1</td><td style=\"text-align: right;\">                                          5</td><td style=\"text-align: right;\">                                    37</td><td style=\"text-align: right;\">     0</td><td style=\"text-align: right;\">        0.422944</td></tr>\n",
       "</tbody>\n",
       "</table><br>... 80 more trials not shown (73 PENDING, 6 TERMINATED)<br><br>"
      ],
      "text/plain": [
       "<IPython.core.display.HTML object>"
      ]
     },
     "metadata": {},
     "output_type": "display_data"
    },
    {
     "name": "stderr",
     "output_type": "stream",
     "text": [
      "2020-06-11 12:18:02,505\tINFO logger.py:269 -- Removed the following hyperparameter values when logging to tensorboard: {'randomforestclassifier__bootstrap': True}\n"
     ]
    },
    {
     "name": "stdout",
     "output_type": "stream",
     "text": [
      "Result for e2e_simple_training_00014:\n",
      "  date: 2020-06-11_12-18-02\n",
      "  done: true\n",
      "  experiment_id: 776c49edcdc945f78413081675a65d31\n",
      "  experiment_tag: 14_randomforestclassifier__bootstrap=True,randomforestclassifier__criterion=entropy,randomforestclassifier__max_features=auto,randomforestclassifier__min_samples_leaf=3,randomforestclassifier__min_samples_split=3,randomforestclassifier__n_estimators=82\n",
      "  hostname: cosmos-ml\n",
      "  iterations_since_restore: 1\n",
      "  mean_f1_score: 0.9750538132942479\n",
      "  node_ip: 192.168.1.39\n",
      "  pid: 56450\n",
      "  std_f1_score: 0.014102962629179218\n",
      "  time_since_restore: 1.0058209896087646\n",
      "  time_this_iter_s: 1.0058209896087646\n",
      "  time_total_s: 1.0058209896087646\n",
      "  timestamp: 1591874282\n",
      "  timesteps_since_restore: 0\n",
      "  training_iteration: 0\n",
      "  trial_id: '00014'\n",
      "  \n",
      "\u001b[2m\u001b[36m(pid=56604)\u001b[0m Loading dependencies we have already seen...\n",
      "\u001b[2m\u001b[36m(pid=56574)\u001b[0m Loading dependencies we have already seen...\n",
      "\u001b[2m\u001b[36m(pid=56569)\u001b[0m Done...\n",
      "\u001b[2m\u001b[36m(pid=56569)\u001b[0m 2020-06-11 12:18:02,849\tINFO trainable.py:217 -- Getting current IP.\n",
      "\u001b[2m\u001b[36m(pid=56572)\u001b[0m Done...\n",
      "\u001b[2m\u001b[36m(pid=56572)\u001b[0m 2020-06-11 12:18:02,889\tINFO trainable.py:217 -- Getting current IP.\n"
     ]
    },
    {
     "name": "stderr",
     "output_type": "stream",
     "text": [
      "2020-06-11 12:18:03,078\tINFO logger.py:269 -- Removed the following hyperparameter values when logging to tensorboard: {'randomforestclassifier__bootstrap': False}\n"
     ]
    },
    {
     "name": "stdout",
     "output_type": "stream",
     "text": [
      "\u001b[2m\u001b[36m(pid=56567)\u001b[0m Done...\n",
      "\u001b[2m\u001b[36m(pid=56567)\u001b[0m 2020-06-11 12:18:02,935\tINFO trainable.py:217 -- Getting current IP.\n",
      "Result for e2e_simple_training_00015:\n",
      "  date: 2020-06-11_12-18-03\n",
      "  done: true\n",
      "  experiment_id: 8eecc13a54e04667a4163a253afa5cb4\n",
      "  experiment_tag: 15_randomforestclassifier__bootstrap=False,randomforestclassifier__criterion=gini,randomforestclassifier__max_features=log2,randomforestclassifier__min_samples_leaf=3,randomforestclassifier__min_samples_split=5,randomforestclassifier__n_estimators=102\n",
      "  hostname: cosmos-ml\n",
      "  iterations_since_restore: 1\n",
      "  mean_f1_score: 0.9664118206086456\n",
      "  node_ip: 192.168.1.39\n",
      "  pid: 56551\n",
      "  std_f1_score: 0.019396712095072675\n",
      "  time_since_restore: 1.0109822750091553\n",
      "  time_this_iter_s: 1.0109822750091553\n",
      "  time_total_s: 1.0109822750091553\n",
      "  timestamp: 1591874283\n",
      "  timesteps_since_restore: 0\n",
      "  training_iteration: 0\n",
      "  trial_id: '00015'\n",
      "  \n"
     ]
    },
    {
     "name": "stderr",
     "output_type": "stream",
     "text": [
      "2020-06-11 12:18:03,311\tINFO logger.py:269 -- Removed the following hyperparameter values when logging to tensorboard: {'randomforestclassifier__bootstrap': False}\n",
      "2020-06-11 12:18:03,426\tINFO logger.py:269 -- Removed the following hyperparameter values when logging to tensorboard: {'randomforestclassifier__bootstrap': True}\n"
     ]
    },
    {
     "name": "stdout",
     "output_type": "stream",
     "text": [
      "Result for e2e_simple_training_00017:\n",
      "  date: 2020-06-11_12-18-03\n",
      "  done: true\n",
      "  experiment_id: 1743a4a589f9447ebd1e3a9b3eb4e736\n",
      "  experiment_tag: 17_randomforestclassifier__bootstrap=False,randomforestclassifier__criterion=gini,randomforestclassifier__max_features=sqrt,randomforestclassifier__min_samples_leaf=3,randomforestclassifier__min_samples_split=4,randomforestclassifier__n_estimators=32\n",
      "  hostname: cosmos-ml\n",
      "  iterations_since_restore: 1\n",
      "  mean_f1_score: 0.9680345634804975\n",
      "  node_ip: 192.168.1.39\n",
      "  pid: 56567\n",
      "  std_f1_score: 0.014279337684904808\n",
      "  time_since_restore: 0.33533740043640137\n",
      "  time_this_iter_s: 0.33533740043640137\n",
      "  time_total_s: 0.33533740043640137\n",
      "  timestamp: 1591874283\n",
      "  timesteps_since_restore: 0\n",
      "  training_iteration: 0\n",
      "  trial_id: '00017'\n",
      "  \n",
      "\u001b[2m\u001b[36m(pid=56570)\u001b[0m Loading dependencies we have already seen...\n",
      "Result for e2e_simple_training_00016:\n",
      "  date: 2020-06-11_12-18-03\n",
      "  done: true\n",
      "  experiment_id: 18ffb3e52e3a45d7961656f71cebfa8f\n",
      "  experiment_tag: 16_randomforestclassifier__bootstrap=True,randomforestclassifier__criterion=gini,randomforestclassifier__max_features=log2,randomforestclassifier__min_samples_leaf=1,randomforestclassifier__min_samples_split=5,randomforestclassifier__n_estimators=49\n",
      "  hostname: cosmos-ml\n",
      "  iterations_since_restore: 1\n",
      "  mean_f1_score: 0.968000667302497\n",
      "  node_ip: 192.168.1.39\n",
      "  pid: 56569\n",
      "  std_f1_score: 0.015094792431729549\n",
      "  time_since_restore: 0.5312538146972656\n",
      "  time_this_iter_s: 0.5312538146972656\n",
      "  time_total_s: 0.5312538146972656\n",
      "  timestamp: 1591874283\n",
      "  timesteps_since_restore: 0\n",
      "  training_iteration: 0\n",
      "  trial_id: '00016'\n",
      "  \n"
     ]
    },
    {
     "name": "stderr",
     "output_type": "stream",
     "text": [
      "2020-06-11 12:18:03,608\tINFO logger.py:269 -- Removed the following hyperparameter values when logging to tensorboard: {'randomforestclassifier__bootstrap': False}\n"
     ]
    },
    {
     "name": "stdout",
     "output_type": "stream",
     "text": [
      "\u001b[2m\u001b[36m(pid=56574)\u001b[0m Done...\n",
      "\u001b[2m\u001b[36m(pid=56574)\u001b[0m 2020-06-11 12:18:03,506\tINFO trainable.py:217 -- Getting current IP.\n",
      "Result for e2e_simple_training_00018:\n",
      "  date: 2020-06-11_12-18-03\n",
      "  done: true\n",
      "  experiment_id: c01f6d6cfc7c4119a8cab0c85636375f\n",
      "  experiment_tag: 18_randomforestclassifier__bootstrap=False,randomforestclassifier__criterion=entropy,randomforestclassifier__max_features=auto,randomforestclassifier__min_samples_leaf=1,randomforestclassifier__min_samples_split=4,randomforestclassifier__n_estimators=52\n",
      "  hostname: cosmos-ml\n",
      "  iterations_since_restore: 1\n",
      "  mean_f1_score: 0.9763549158791855\n",
      "  node_ip: 192.168.1.39\n",
      "  pid: 56572\n",
      "  std_f1_score: 0.007059629878368909\n",
      "  time_since_restore: 0.6807734966278076\n",
      "  time_this_iter_s: 0.6807734966278076\n",
      "  time_total_s: 0.6807734966278076\n",
      "  timestamp: 1591874283\n",
      "  timesteps_since_restore: 0\n",
      "  training_iteration: 0\n",
      "  trial_id: 00018\n",
      "  \n",
      "\u001b[2m\u001b[36m(pid=56589)\u001b[0m Loading dependencies we have already seen...\n",
      "\u001b[2m\u001b[36m(pid=56604)\u001b[0m Done...\n",
      "\u001b[2m\u001b[36m(pid=56604)\u001b[0m 2020-06-11 12:18:03,654\tINFO trainable.py:217 -- Getting current IP.\n",
      "\u001b[2m\u001b[36m(pid=56573)\u001b[0m Loading dependencies we have already seen...\n",
      "\u001b[2m\u001b[36m(pid=56570)\u001b[0m Done...\n",
      "\u001b[2m\u001b[36m(pid=56570)\u001b[0m 2020-06-11 12:18:04,084\tINFO trainable.py:217 -- Getting current IP.\n",
      "\u001b[2m\u001b[36m(pid=56678)\u001b[0m Loading dependencies we have already seen...\n",
      "\u001b[2m\u001b[36m(pid=56589)\u001b[0m Done...\n",
      "\u001b[2m\u001b[36m(pid=56589)\u001b[0m 2020-06-11 12:18:04,325\tINFO trainable.py:217 -- Getting current IP.\n",
      "\u001b[2m\u001b[36m(pid=56573)\u001b[0m 2020-06-11 12:18:04,416\tINFO trainable.py:217 -- Getting current IP.\n",
      "\u001b[2m\u001b[36m(pid=56573)\u001b[0m Done...\n"
     ]
    },
    {
     "name": "stderr",
     "output_type": "stream",
     "text": [
      "2020-06-11 12:18:04,559\tINFO logger.py:269 -- Removed the following hyperparameter values when logging to tensorboard: {'randomforestclassifier__bootstrap': False}\n",
      "2020-06-11 12:18:04,666\tINFO logger.py:269 -- Removed the following hyperparameter values when logging to tensorboard: {'randomforestclassifier__bootstrap': False}\n"
     ]
    },
    {
     "name": "stdout",
     "output_type": "stream",
     "text": [
      "Result for e2e_simple_training_00020:\n",
      "  date: 2020-06-11_12-18-04\n",
      "  done: true\n",
      "  experiment_id: b4c37dd0629b4bd3894758dcf669373a\n",
      "  experiment_tag: 20_randomforestclassifier__bootstrap=False,randomforestclassifier__criterion=entropy,randomforestclassifier__max_features=log2,randomforestclassifier__min_samples_leaf=2,randomforestclassifier__min_samples_split=3,randomforestclassifier__n_estimators=99\n",
      "  hostname: cosmos-ml\n",
      "  iterations_since_restore: 1\n",
      "  mean_f1_score: 0.9694730316417889\n",
      "  node_ip: 192.168.1.39\n",
      "  pid: 56574\n",
      "  std_f1_score: 0.018439939964933934\n",
      "  time_since_restore: 1.0103135108947754\n",
      "  time_this_iter_s: 1.0103135108947754\n",
      "  time_total_s: 1.0103135108947754\n",
      "  timestamp: 1591874284\n",
      "  timesteps_since_restore: 0\n",
      "  training_iteration: 0\n",
      "  trial_id: '00020'\n",
      "  \n",
      "Result for e2e_simple_training_00019:\n",
      "  date: 2020-06-11_12-18-04\n",
      "  done: true\n",
      "  experiment_id: 2496d5f0f67148fe95d20277682fb551\n",
      "  experiment_tag: 19_randomforestclassifier__bootstrap=False,randomforestclassifier__criterion=entropy,randomforestclassifier__max_features=sqrt,randomforestclassifier__min_samples_leaf=1,randomforestclassifier__min_samples_split=3,randomforestclassifier__n_estimators=90\n",
      "  hostname: cosmos-ml\n",
      "  iterations_since_restore: 1\n",
      "  mean_f1_score: 0.9804741751758191\n",
      "  node_ip: 192.168.1.39\n",
      "  pid: 56604\n",
      "  std_f1_score: 0.010167606093374923\n",
      "  time_since_restore: 1.0036571025848389\n",
      "  time_this_iter_s: 1.0036571025848389\n",
      "  time_total_s: 1.0036571025848389\n",
      "  timestamp: 1591874284\n",
      "  timesteps_since_restore: 0\n",
      "  training_iteration: 0\n",
      "  trial_id: 00019\n",
      "  \n"
     ]
    },
    {
     "name": "stderr",
     "output_type": "stream",
     "text": [
      "2020-06-11 12:18:05,048\tINFO logger.py:269 -- Removed the following hyperparameter values when logging to tensorboard: {'randomforestclassifier__bootstrap': True}\n",
      "2020-06-11 12:18:05,113\tINFO logger.py:269 -- Removed the following hyperparameter values when logging to tensorboard: {'randomforestclassifier__bootstrap': False}\n"
     ]
    },
    {
     "name": "stdout",
     "output_type": "stream",
     "text": [
      "\u001b[2m\u001b[36m(pid=56677)\u001b[0m Loading dependencies we have already seen...\n",
      "\u001b[2m\u001b[36m(pid=56678)\u001b[0m 2020-06-11 12:18:04,999\tINFO trainable.py:217 -- Getting current IP.\n",
      "\u001b[2m\u001b[36m(pid=56678)\u001b[0m Done...\n",
      "Result for e2e_simple_training_00023:\n",
      "  date: 2020-06-11_12-18-05\n",
      "  done: true\n",
      "  experiment_id: 27bac5b482eb4a3aac2e000e1001dcec\n",
      "  experiment_tag: 23_randomforestclassifier__bootstrap=True,randomforestclassifier__criterion=gini,randomforestclassifier__max_features=auto,randomforestclassifier__min_samples_leaf=2,randomforestclassifier__min_samples_split=3,randomforestclassifier__n_estimators=52\n",
      "  hostname: cosmos-ml\n",
      "  iterations_since_restore: 1\n",
      "  mean_f1_score: 0.9666590732132256\n",
      "  node_ip: 192.168.1.39\n",
      "  pid: 56573\n",
      "  std_f1_score: 0.016111589240835205\n",
      "  time_since_restore: 0.5823013782501221\n",
      "  time_this_iter_s: 0.5823013782501221\n",
      "  time_total_s: 0.5823013782501221\n",
      "  timestamp: 1591874285\n",
      "  timesteps_since_restore: 0\n",
      "  training_iteration: 0\n",
      "  trial_id: '00023'\n",
      "  \n",
      "Result for e2e_simple_training_00022:\n",
      "  date: 2020-06-11_12-18-05\n",
      "  done: true\n",
      "  experiment_id: 80c6b3c6263b4bffbfd9cc96f89b372c\n",
      "  experiment_tag: 22_randomforestclassifier__bootstrap=False,randomforestclassifier__criterion=entropy,randomforestclassifier__max_features=auto,randomforestclassifier__min_samples_leaf=1,randomforestclassifier__min_samples_split=5,randomforestclassifier__n_estimators=71\n",
      "  hostname: cosmos-ml\n",
      "  iterations_since_restore: 1\n",
      "  mean_f1_score: 0.9764331631405314\n",
      "  node_ip: 192.168.1.39\n",
      "  pid: 56589\n",
      "  std_f1_score: 0.007011055148466089\n",
      "  time_since_restore: 0.745863676071167\n",
      "  time_this_iter_s: 0.745863676071167\n",
      "  time_total_s: 0.745863676071167\n",
      "  timestamp: 1591874285\n",
      "  timesteps_since_restore: 0\n",
      "  training_iteration: 0\n",
      "  trial_id: '00022'\n",
      "  \n",
      "\u001b[2m\u001b[36m(pid=56707)\u001b[0m Loading dependencies we have already seen...\n"
     ]
    },
    {
     "name": "stderr",
     "output_type": "stream",
     "text": [
      "2020-06-11 12:18:05,692\tINFO logger.py:269 -- Removed the following hyperparameter values when logging to tensorboard: {'randomforestclassifier__bootstrap': False}\n"
     ]
    },
    {
     "name": "stdout",
     "output_type": "stream",
     "text": [
      "\u001b[2m\u001b[36m(pid=56709)\u001b[0m Loading dependencies we have already seen...\n",
      "Result for e2e_simple_training_00021:\n",
      "  date: 2020-06-11_12-18-05\n",
      "  done: true\n",
      "  experiment_id: 32d6fe73434f4e05b9a22a88c8686c34\n",
      "  experiment_tag: 21_randomforestclassifier__bootstrap=False,randomforestclassifier__criterion=entropy,randomforestclassifier__max_features=sqrt,randomforestclassifier__min_samples_leaf=3,randomforestclassifier__min_samples_split=4,randomforestclassifier__n_estimators=142\n",
      "  hostname: cosmos-ml\n",
      "  iterations_since_restore: 1\n",
      "  mean_f1_score: 0.9750522617242025\n",
      "  node_ip: 192.168.1.39\n",
      "  pid: 56570\n",
      "  std_f1_score: 0.011979703289626107\n",
      "  time_since_restore: 1.5617926120758057\n",
      "  time_this_iter_s: 1.5617926120758057\n",
      "  time_total_s: 1.5617926120758057\n",
      "  timestamp: 1591874285\n",
      "  timesteps_since_restore: 0\n",
      "  training_iteration: 0\n",
      "  trial_id: '00021'\n",
      "  \n",
      "\u001b[2m\u001b[36m(pid=56724)\u001b[0m Loading dependencies we have already seen...\n"
     ]
    },
    {
     "name": "stderr",
     "output_type": "stream",
     "text": [
      "2020-06-11 12:18:06,000\tINFO logger.py:269 -- Removed the following hyperparameter values when logging to tensorboard: {'randomforestclassifier__bootstrap': False}\n"
     ]
    },
    {
     "name": "stdout",
     "output_type": "stream",
     "text": [
      "\u001b[2m\u001b[36m(pid=56677)\u001b[0m Done...\n",
      "\u001b[2m\u001b[36m(pid=56677)\u001b[0m 2020-06-11 12:18:05,798\tINFO trainable.py:217 -- Getting current IP.\n",
      "Result for e2e_simple_training_00025:\n",
      "  date: 2020-06-11_12-18-05\n",
      "  done: true\n",
      "  experiment_id: a3acb4c4e3bf4b71a29d9fbb11d8605d\n",
      "  experiment_tag: 25_randomforestclassifier__bootstrap=False,randomforestclassifier__criterion=gini,randomforestclassifier__max_features=auto,randomforestclassifier__min_samples_leaf=1,randomforestclassifier__min_samples_split=4,randomforestclassifier__n_estimators=11\n",
      "  hostname: cosmos-ml\n",
      "  iterations_since_restore: 1\n",
      "  mean_f1_score: 0.9636788266850816\n",
      "  node_ip: 192.168.1.39\n",
      "  pid: 56677\n",
      "  std_f1_score: 0.010411583387186542\n",
      "  time_since_restore: 0.1603705883026123\n",
      "  time_this_iter_s: 0.1603705883026123\n",
      "  time_total_s: 0.1603705883026123\n",
      "  timestamp: 1591874285\n",
      "  timesteps_since_restore: 0\n",
      "  training_iteration: 0\n",
      "  trial_id: '00025'\n",
      "  \n",
      "\u001b[2m\u001b[36m(pid=56727)\u001b[0m Loading dependencies we have already seen...\n",
      "\u001b[2m\u001b[36m(pid=56707)\u001b[0m 2020-06-11 12:18:06,076\tINFO trainable.py:217 -- Getting current IP.\n",
      "\u001b[2m\u001b[36m(pid=56707)\u001b[0m Done...\n"
     ]
    },
    {
     "name": "stderr",
     "output_type": "stream",
     "text": [
      "2020-06-11 12:18:06,421\tINFO logger.py:269 -- Removed the following hyperparameter values when logging to tensorboard: {'randomforestclassifier__bootstrap': False}\n",
      "2020-06-11 12:18:06,506\tINFO logger.py:269 -- Removed the following hyperparameter values when logging to tensorboard: {'randomforestclassifier__bootstrap': False}\n"
     ]
    },
    {
     "name": "stdout",
     "output_type": "stream",
     "text": [
      "\u001b[2m\u001b[36m(pid=56740)\u001b[0m Loading dependencies we have already seen...\n",
      "Result for e2e_simple_training_00024:\n",
      "  date: 2020-06-11_12-18-06\n",
      "  done: true\n",
      "  experiment_id: 52efeba86ed540cf971a11fe3f2eab78\n",
      "  experiment_tag: 24_randomforestclassifier__bootstrap=False,randomforestclassifier__criterion=entropy,randomforestclassifier__max_features=auto,randomforestclassifier__min_samples_leaf=1,randomforestclassifier__min_samples_split=3,randomforestclassifier__n_estimators=117\n",
      "  hostname: cosmos-ml\n",
      "  iterations_since_restore: 1\n",
      "  mean_f1_score: 0.9804741751758191\n",
      "  node_ip: 192.168.1.39\n",
      "  pid: 56678\n",
      "  std_f1_score: 0.010167606093374923\n",
      "  time_since_restore: 1.365588665008545\n",
      "  time_this_iter_s: 1.365588665008545\n",
      "  time_total_s: 1.365588665008545\n",
      "  timestamp: 1591874286\n",
      "  timesteps_since_restore: 0\n",
      "  training_iteration: 0\n",
      "  trial_id: '00024'\n",
      "  \n",
      "\u001b[2m\u001b[36m(pid=56709)\u001b[0m 2020-06-11 12:18:06,379\tINFO trainable.py:217 -- Getting current IP.\n",
      "\u001b[2m\u001b[36m(pid=56709)\u001b[0m Done...\n",
      "Result for e2e_simple_training_00026:\n",
      "  date: 2020-06-11_12-18-06\n",
      "  done: true\n",
      "  experiment_id: a3beae9021104cbfbcd1d68d4364ab45\n",
      "  experiment_tag: 26_randomforestclassifier__bootstrap=False,randomforestclassifier__criterion=gini,randomforestclassifier__max_features=sqrt,randomforestclassifier__min_samples_leaf=3,randomforestclassifier__min_samples_split=3,randomforestclassifier__n_estimators=29\n",
      "  hostname: cosmos-ml\n",
      "  iterations_since_restore: 1\n",
      "  mean_f1_score: 0.9680345634804975\n",
      "  node_ip: 192.168.1.39\n",
      "  pid: 56707\n",
      "  std_f1_score: 0.014279337684904808\n",
      "  time_since_restore: 0.37796974182128906\n",
      "  time_this_iter_s: 0.37796974182128906\n",
      "  time_total_s: 0.37796974182128906\n",
      "  timestamp: 1591874286\n",
      "  timesteps_since_restore: 0\n",
      "  training_iteration: 0\n",
      "  trial_id: '00026'\n",
      "  \n",
      "\u001b[2m\u001b[36m(pid=56724)\u001b[0m 2020-06-11 12:18:06,537\tINFO trainable.py:217 -- Getting current IP.\n",
      "\u001b[2m\u001b[36m(pid=56724)\u001b[0m Done...\n"
     ]
    },
    {
     "name": "stderr",
     "output_type": "stream",
     "text": [
      "2020-06-11 12:18:06,792\tINFO logger.py:269 -- Removed the following hyperparameter values when logging to tensorboard: {'randomforestclassifier__bootstrap': True}\n"
     ]
    },
    {
     "name": "stdout",
     "output_type": "stream",
     "text": [
      "Result for e2e_simple_training_00028:\n",
      "  date: 2020-06-11_12-18-06\n",
      "  done: true\n",
      "  experiment_id: 2fd5d2549d9644f49e92640d0e8cb91f\n",
      "  experiment_tag: 28_randomforestclassifier__bootstrap=True,randomforestclassifier__criterion=entropy,randomforestclassifier__max_features=sqrt,randomforestclassifier__min_samples_leaf=1,randomforestclassifier__min_samples_split=5,randomforestclassifier__n_estimators=16\n",
      "  hostname: cosmos-ml\n",
      "  iterations_since_restore: 1\n",
      "  mean_f1_score: 0.9680616561879578\n",
      "  node_ip: 192.168.1.39\n",
      "  pid: 56724\n",
      "  std_f1_score: 0.014256538978213303\n",
      "  time_since_restore: 0.20792055130004883\n",
      "  time_this_iter_s: 0.20792055130004883\n",
      "  time_total_s: 0.20792055130004883\n",
      "  timestamp: 1591874286\n",
      "  timesteps_since_restore: 0\n",
      "  training_iteration: 0\n",
      "  trial_id: 00028\n",
      "  \u001b[2m\u001b[36m(pid=56721)\u001b[0m Loading dependencies we have already seen...\n",
      "\n",
      "\u001b[2m\u001b[36m(pid=56723)\u001b[0m Loading dependencies we have already seen...\n",
      "\u001b[2m\u001b[36m(pid=56727)\u001b[0m Done...\n",
      "\u001b[2m\u001b[36m(pid=56727)\u001b[0m 2020-06-11 12:18:06,828\tINFO trainable.py:217 -- Getting current IP.\n"
     ]
    },
    {
     "name": "stderr",
     "output_type": "stream",
     "text": [
      "2020-06-11 12:18:07,244\tINFO logger.py:269 -- Removed the following hyperparameter values when logging to tensorboard: {'randomforestclassifier__bootstrap': False}\n"
     ]
    },
    {
     "name": "stdout",
     "output_type": "stream",
     "text": [
      "\u001b[2m\u001b[36m(pid=56740)\u001b[0m 2020-06-11 12:18:07,040\tINFO trainable.py:217 -- Getting current IP.\n",
      "\u001b[2m\u001b[36m(pid=56740)\u001b[0m Done...\n",
      "Result for e2e_simple_training_00029:\n",
      "  date: 2020-06-11_12-18-07\n",
      "  done: true\n",
      "  experiment_id: f1b59fca45b140a89920b71720c0d20c\n",
      "  experiment_tag: 29_randomforestclassifier__bootstrap=False,randomforestclassifier__criterion=entropy,randomforestclassifier__max_features=log2,randomforestclassifier__min_samples_leaf=2,randomforestclassifier__min_samples_split=4,randomforestclassifier__n_estimators=29\n",
      "  hostname: cosmos-ml\n",
      "  iterations_since_restore: 1\n",
      "  mean_f1_score: 0.9721355979265077\n",
      "  node_ip: 192.168.1.39\n",
      "  pid: 56727\n",
      "  std_f1_score: 0.013219905801425628\n",
      "  time_since_restore: 0.36600518226623535\n",
      "  time_this_iter_s: 0.36600518226623535\n",
      "  time_total_s: 0.36600518226623535\n",
      "  timestamp: 1591874287\n",
      "  timesteps_since_restore: 0\n",
      "  training_iteration: 0\n",
      "  trial_id: 00029\n",
      "  \n"
     ]
    },
    {
     "name": "stderr",
     "output_type": "stream",
     "text": [
      "2020-06-11 12:18:07,625\tINFO logger.py:269 -- Removed the following hyperparameter values when logging to tensorboard: {'randomforestclassifier__bootstrap': False}\n"
     ]
    },
    {
     "name": "stdout",
     "output_type": "stream",
     "text": [
      "\u001b[2m\u001b[36m(pid=56803)\u001b[0m Loading dependencies we have already seen...\n",
      "\u001b[2m\u001b[36m(pid=56723)\u001b[0m 2020-06-11 12:18:07,461\tINFO trainable.py:217 -- Getting current IP.\n",
      "\u001b[2m\u001b[36m(pid=56723)\u001b[0m Done...\n",
      "\u001b[2m\u001b[36m(pid=56721)\u001b[0m 2020-06-11 12:18:07,505\tINFO trainable.py:217 -- Getting current IP.\n",
      "\u001b[2m\u001b[36m(pid=56721)\u001b[0m Done...\n",
      "\u001b[2m\u001b[36m(pid=56804)\u001b[0m Loading dependencies we have already seen...\n",
      "Result for e2e_simple_training_00030:\n",
      "  date: 2020-06-11_12-18-07\n",
      "  done: true\n",
      "  experiment_id: a12ffdf9ea1d46eeae4a34e0b437793e\n",
      "  experiment_tag: 30_randomforestclassifier__bootstrap=False,randomforestclassifier__criterion=entropy,randomforestclassifier__max_features=log2,randomforestclassifier__min_samples_leaf=2,randomforestclassifier__min_samples_split=3,randomforestclassifier__n_estimators=55\n",
      "  hostname: cosmos-ml\n",
      "  iterations_since_restore: 1\n",
      "  mean_f1_score: 0.9693585306558834\n",
      "  node_ip: 192.168.1.39\n",
      "  pid: 56740\n",
      "  std_f1_score: 0.013129557974705854\n",
      "  time_since_restore: 0.5489528179168701\n",
      "  time_this_iter_s: 0.5489528179168701\n",
      "  time_total_s: 0.5489528179168701\n",
      "  timestamp: 1591874287\n",
      "  timesteps_since_restore: 0\n",
      "  training_iteration: 0\n",
      "  trial_id: '00030'\n",
      "  \n"
     ]
    },
    {
     "data": {
      "text/html": [
       "== Status ==<br>Memory usage on this node: 7.1/62.8 GiB<br>Using FIFO scheduling algorithm.<br>Resources requested: 5/6 CPUs, 0/0 GPUs, 0.0/34.57 GiB heap, 0.0/11.91 GiB objects<br>Result logdir: /home/steve/ray_results/e2e_simple_training<br>Number of trials: 100 (65 PENDING, 5 RUNNING, 30 TERMINATED)<br><table>\n",
       "<thead>\n",
       "<tr><th>Trial name               </th><th>status    </th><th>loc  </th><th style=\"text-align: right;\">  randomforestclassifier__bootstrap</th><th>randomforestclassifier__criterion  </th><th>randomforestclassifier__max_features  </th><th style=\"text-align: right;\">  randomforestclassifier__min_samples_leaf</th><th style=\"text-align: right;\">  randomforestclassifier__min_samples_split</th><th style=\"text-align: right;\">  randomforestclassifier__n_estimators</th><th style=\"text-align: right;\">  iter</th><th style=\"text-align: right;\">  total time (s)</th></tr>\n",
       "</thead>\n",
       "<tbody>\n",
       "<tr><td>e2e_simple_training_00035</td><td>PENDING   </td><td>     </td><td style=\"text-align: right;\">                                  0</td><td>entropy                            </td><td>sqrt                                  </td><td style=\"text-align: right;\">                                         1</td><td style=\"text-align: right;\">                                          3</td><td style=\"text-align: right;\">                                   117</td><td style=\"text-align: right;\">      </td><td style=\"text-align: right;\">                </td></tr>\n",
       "<tr><td>e2e_simple_training_00036</td><td>PENDING   </td><td>     </td><td style=\"text-align: right;\">                                  1</td><td>gini                               </td><td>log2                                  </td><td style=\"text-align: right;\">                                         1</td><td style=\"text-align: right;\">                                          3</td><td style=\"text-align: right;\">                                    13</td><td style=\"text-align: right;\">      </td><td style=\"text-align: right;\">                </td></tr>\n",
       "<tr><td>e2e_simple_training_00037</td><td>PENDING   </td><td>     </td><td style=\"text-align: right;\">                                  1</td><td>entropy                            </td><td>auto                                  </td><td style=\"text-align: right;\">                                         2</td><td style=\"text-align: right;\">                                          5</td><td style=\"text-align: right;\">                                   129</td><td style=\"text-align: right;\">      </td><td style=\"text-align: right;\">                </td></tr>\n",
       "<tr><td>e2e_simple_training_00038</td><td>PENDING   </td><td>     </td><td style=\"text-align: right;\">                                  1</td><td>entropy                            </td><td>log2                                  </td><td style=\"text-align: right;\">                                         2</td><td style=\"text-align: right;\">                                          5</td><td style=\"text-align: right;\">                                   115</td><td style=\"text-align: right;\">      </td><td style=\"text-align: right;\">                </td></tr>\n",
       "<tr><td>e2e_simple_training_00039</td><td>PENDING   </td><td>     </td><td style=\"text-align: right;\">                                  0</td><td>gini                               </td><td>log2                                  </td><td style=\"text-align: right;\">                                         3</td><td style=\"text-align: right;\">                                          3</td><td style=\"text-align: right;\">                                    91</td><td style=\"text-align: right;\">      </td><td style=\"text-align: right;\">                </td></tr>\n",
       "<tr><td>e2e_simple_training_00040</td><td>PENDING   </td><td>     </td><td style=\"text-align: right;\">                                  0</td><td>gini                               </td><td>sqrt                                  </td><td style=\"text-align: right;\">                                         3</td><td style=\"text-align: right;\">                                          5</td><td style=\"text-align: right;\">                                    27</td><td style=\"text-align: right;\">      </td><td style=\"text-align: right;\">                </td></tr>\n",
       "<tr><td>e2e_simple_training_00041</td><td>PENDING   </td><td>     </td><td style=\"text-align: right;\">                                  0</td><td>entropy                            </td><td>sqrt                                  </td><td style=\"text-align: right;\">                                         3</td><td style=\"text-align: right;\">                                          4</td><td style=\"text-align: right;\">                                   146</td><td style=\"text-align: right;\">      </td><td style=\"text-align: right;\">                </td></tr>\n",
       "<tr><td>e2e_simple_training_00042</td><td>PENDING   </td><td>     </td><td style=\"text-align: right;\">                                  1</td><td>entropy                            </td><td>log2                                  </td><td style=\"text-align: right;\">                                         2</td><td style=\"text-align: right;\">                                          4</td><td style=\"text-align: right;\">                                    62</td><td style=\"text-align: right;\">      </td><td style=\"text-align: right;\">                </td></tr>\n",
       "<tr><td>e2e_simple_training_00027</td><td>RUNNING   </td><td>     </td><td style=\"text-align: right;\">                                  1</td><td>gini                               </td><td>log2                                  </td><td style=\"text-align: right;\">                                         2</td><td style=\"text-align: right;\">                                          5</td><td style=\"text-align: right;\">                                   133</td><td style=\"text-align: right;\">      </td><td style=\"text-align: right;\">                </td></tr>\n",
       "<tr><td>e2e_simple_training_00031</td><td>RUNNING   </td><td>     </td><td style=\"text-align: right;\">                                  0</td><td>entropy                            </td><td>sqrt                                  </td><td style=\"text-align: right;\">                                         1</td><td style=\"text-align: right;\">                                          5</td><td style=\"text-align: right;\">                                    27</td><td style=\"text-align: right;\">      </td><td style=\"text-align: right;\">                </td></tr>\n",
       "<tr><td>e2e_simple_training_00032</td><td>RUNNING   </td><td>     </td><td style=\"text-align: right;\">                                  1</td><td>gini                               </td><td>log2                                  </td><td style=\"text-align: right;\">                                         3</td><td style=\"text-align: right;\">                                          3</td><td style=\"text-align: right;\">                                    79</td><td style=\"text-align: right;\">      </td><td style=\"text-align: right;\">                </td></tr>\n",
       "<tr><td>e2e_simple_training_00033</td><td>RUNNING   </td><td>     </td><td style=\"text-align: right;\">                                  1</td><td>entropy                            </td><td>auto                                  </td><td style=\"text-align: right;\">                                         3</td><td style=\"text-align: right;\">                                          3</td><td style=\"text-align: right;\">                                    20</td><td style=\"text-align: right;\">      </td><td style=\"text-align: right;\">                </td></tr>\n",
       "<tr><td>e2e_simple_training_00034</td><td>RUNNING   </td><td>     </td><td style=\"text-align: right;\">                                  1</td><td>gini                               </td><td>sqrt                                  </td><td style=\"text-align: right;\">                                         2</td><td style=\"text-align: right;\">                                          5</td><td style=\"text-align: right;\">                                   119</td><td style=\"text-align: right;\">      </td><td style=\"text-align: right;\">                </td></tr>\n",
       "<tr><td>e2e_simple_training_00000</td><td>TERMINATED</td><td>     </td><td style=\"text-align: right;\">                                  1</td><td>entropy                            </td><td>sqrt                                  </td><td style=\"text-align: right;\">                                         2</td><td style=\"text-align: right;\">                                          3</td><td style=\"text-align: right;\">                                    99</td><td style=\"text-align: right;\">     0</td><td style=\"text-align: right;\">        1.07312 </td></tr>\n",
       "<tr><td>e2e_simple_training_00001</td><td>TERMINATED</td><td>     </td><td style=\"text-align: right;\">                                  0</td><td>gini                               </td><td>log2                                  </td><td style=\"text-align: right;\">                                         3</td><td style=\"text-align: right;\">                                          3</td><td style=\"text-align: right;\">                                   134</td><td style=\"text-align: right;\">     0</td><td style=\"text-align: right;\">        1.4125  </td></tr>\n",
       "<tr><td>e2e_simple_training_00002</td><td>TERMINATED</td><td>     </td><td style=\"text-align: right;\">                                  0</td><td>gini                               </td><td>auto                                  </td><td style=\"text-align: right;\">                                         1</td><td style=\"text-align: right;\">                                          3</td><td style=\"text-align: right;\">                                    20</td><td style=\"text-align: right;\">     0</td><td style=\"text-align: right;\">        0.232855</td></tr>\n",
       "<tr><td>e2e_simple_training_00003</td><td>TERMINATED</td><td>     </td><td style=\"text-align: right;\">                                  1</td><td>gini                               </td><td>log2                                  </td><td style=\"text-align: right;\">                                         1</td><td style=\"text-align: right;\">                                          5</td><td style=\"text-align: right;\">                                    65</td><td style=\"text-align: right;\">     0</td><td style=\"text-align: right;\">        0.746565</td></tr>\n",
       "<tr><td>e2e_simple_training_00004</td><td>TERMINATED</td><td>     </td><td style=\"text-align: right;\">                                  1</td><td>entropy                            </td><td>sqrt                                  </td><td style=\"text-align: right;\">                                         2</td><td style=\"text-align: right;\">                                          4</td><td style=\"text-align: right;\">                                    80</td><td style=\"text-align: right;\">     0</td><td style=\"text-align: right;\">        0.899574</td></tr>\n",
       "<tr><td>e2e_simple_training_00005</td><td>TERMINATED</td><td>     </td><td style=\"text-align: right;\">                                  0</td><td>entropy                            </td><td>log2                                  </td><td style=\"text-align: right;\">                                         2</td><td style=\"text-align: right;\">                                          5</td><td style=\"text-align: right;\">                                    41</td><td style=\"text-align: right;\">     0</td><td style=\"text-align: right;\">        0.395278</td></tr>\n",
       "<tr><td>e2e_simple_training_00006</td><td>TERMINATED</td><td>     </td><td style=\"text-align: right;\">                                  1</td><td>gini                               </td><td>sqrt                                  </td><td style=\"text-align: right;\">                                         3</td><td style=\"text-align: right;\">                                          3</td><td style=\"text-align: right;\">                                    43</td><td style=\"text-align: right;\">     0</td><td style=\"text-align: right;\">        0.398493</td></tr>\n",
       "<tr><td>e2e_simple_training_00007</td><td>TERMINATED</td><td>     </td><td style=\"text-align: right;\">                                  1</td><td>gini                               </td><td>sqrt                                  </td><td style=\"text-align: right;\">                                         1</td><td style=\"text-align: right;\">                                          5</td><td style=\"text-align: right;\">                                    37</td><td style=\"text-align: right;\">     0</td><td style=\"text-align: right;\">        0.422944</td></tr>\n",
       "</tbody>\n",
       "</table><br>... 80 more trials not shown (57 PENDING, 22 TERMINATED)<br><br>"
      ],
      "text/plain": [
       "<IPython.core.display.HTML object>"
      ]
     },
     "metadata": {},
     "output_type": "display_data"
    },
    {
     "name": "stderr",
     "output_type": "stream",
     "text": [
      "2020-06-11 12:18:07,664\tINFO logger.py:269 -- Removed the following hyperparameter values when logging to tensorboard: {'randomforestclassifier__bootstrap': True}\n",
      "2020-06-11 12:18:07,842\tINFO logger.py:269 -- Removed the following hyperparameter values when logging to tensorboard: {'randomforestclassifier__bootstrap': False}\n"
     ]
    },
    {
     "name": "stdout",
     "output_type": "stream",
     "text": [
      "Result for e2e_simple_training_00027:\n",
      "  date: 2020-06-11_12-18-07\n",
      "  done: true\n",
      "  experiment_id: 3bb4a684de8043d486cf2172055ebba0\n",
      "  experiment_tag: 27_randomforestclassifier__bootstrap=True,randomforestclassifier__criterion=gini,randomforestclassifier__max_features=log2,randomforestclassifier__min_samples_leaf=2,randomforestclassifier__min_samples_split=5,randomforestclassifier__n_estimators=133\n",
      "  hostname: cosmos-ml\n",
      "  iterations_since_restore: 1\n",
      "  mean_f1_score: 0.9666590732132256\n",
      "  node_ip: 192.168.1.39\n",
      "  pid: 56709\n",
      "  std_f1_score: 0.016111589240835205\n",
      "  time_since_restore: 1.233144998550415\n",
      "  time_this_iter_s: 1.233144998550415\n",
      "  time_total_s: 1.233144998550415\n",
      "  timestamp: 1591874287\n",
      "  timesteps_since_restore: 0\n",
      "  training_iteration: 0\n",
      "  trial_id: '00027'\n",
      "  \n",
      "Result for e2e_simple_training_00031:\n",
      "  date: 2020-06-11_12-18-07\n",
      "  done: true\n",
      "  experiment_id: 781478e6c8f04a0a88c6c14d072cf496\n",
      "  experiment_tag: 31_randomforestclassifier__bootstrap=False,randomforestclassifier__criterion=entropy,randomforestclassifier__max_features=sqrt,randomforestclassifier__min_samples_leaf=1,randomforestclassifier__min_samples_split=5,randomforestclassifier__n_estimators=27\n",
      "  hostname: cosmos-ml\n",
      "  iterations_since_restore: 1\n",
      "  mean_f1_score: 0.9735184985066893\n",
      "  node_ip: 192.168.1.39\n",
      "  pid: 56723\n",
      "  std_f1_score: 0.008213471067622734\n",
      "  time_since_restore: 0.3411436080932617\n",
      "  time_this_iter_s: 0.3411436080932617\n",
      "  time_total_s: 0.3411436080932617\n",
      "  timestamp: 1591874287\n",
      "  timesteps_since_restore: 0\n",
      "  training_iteration: 0\n",
      "  trial_id: '00031'\n",
      "  \n",
      "\u001b[2m\u001b[36m(pid=56808)\u001b[0m Loading dependencies we have already seen...\n",
      "\u001b[2m\u001b[36m(pid=56803)\u001b[0m Done...\n",
      "\u001b[2m\u001b[36m(pid=56803)\u001b[0m 2020-06-11 12:18:08,192\tINFO trainable.py:217 -- Getting current IP.\n"
     ]
    },
    {
     "name": "stderr",
     "output_type": "stream",
     "text": [
      "2020-06-11 12:18:08,391\tINFO logger.py:269 -- Removed the following hyperparameter values when logging to tensorboard: {'randomforestclassifier__bootstrap': True}\n",
      "2020-06-11 12:18:08,527\tINFO logger.py:269 -- Removed the following hyperparameter values when logging to tensorboard: {'randomforestclassifier__bootstrap': True}\n"
     ]
    },
    {
     "name": "stdout",
     "output_type": "stream",
     "text": [
      "Result for e2e_simple_training_00032:\n",
      "  date: 2020-06-11_12-18-08\n",
      "  done: true\n",
      "  experiment_id: a5fa3fb05e5440449bf9d40f5dc44ea0\n",
      "  experiment_tag: 32_randomforestclassifier__bootstrap=True,randomforestclassifier__criterion=gini,randomforestclassifier__max_features=log2,randomforestclassifier__min_samples_leaf=3,randomforestclassifier__min_samples_split=3,randomforestclassifier__n_estimators=79\n",
      "  hostname: cosmos-ml\n",
      "  iterations_since_restore: 1\n",
      "  mean_f1_score: 0.9651637878698727\n",
      "  node_ip: 192.168.1.39\n",
      "  pid: 56721\n",
      "  std_f1_score: 0.014114038202165334\n",
      "  time_since_restore: 0.8434507846832275\n",
      "  time_this_iter_s: 0.8434507846832275\n",
      "  time_total_s: 0.8434507846832275\n",
      "  timestamp: 1591874288\n",
      "  timesteps_since_restore: 0\n",
      "  training_iteration: 0\n",
      "  trial_id: '00032'\n",
      "  \n",
      "\u001b[2m\u001b[36m(pid=56846)\u001b[0m Loading dependencies we have already seen...\n",
      "Result for e2e_simple_training_00033:\n",
      "  date: 2020-06-11_12-18-08\n",
      "  done: true\n",
      "  experiment_id: d248a31cbd0f49e1b103336a374170a7\n",
      "  experiment_tag: 33_randomforestclassifier__bootstrap=True,randomforestclassifier__criterion=entropy,randomforestclassifier__max_features=auto,randomforestclassifier__min_samples_leaf=3,randomforestclassifier__min_samples_split=3,randomforestclassifier__n_estimators=20\n",
      "  hostname: cosmos-ml\n",
      "  iterations_since_restore: 1\n",
      "  mean_f1_score: 0.9695526080836485\n",
      "  node_ip: 192.168.1.39\n",
      "  pid: 56803\n",
      "  std_f1_score: 0.016004787163972068\n",
      "  time_since_restore: 0.29119253158569336\n",
      "  time_this_iter_s: 0.29119253158569336\n",
      "  time_total_s: 0.29119253158569336\n",
      "  timestamp: 1591874288\n",
      "  timesteps_since_restore: 0\n",
      "  training_iteration: 0\n",
      "  trial_id: '00033'\n",
      "  \n",
      "\u001b[2m\u001b[36m(pid=56804)\u001b[0m 2020-06-11 12:18:08,487\tINFO trainable.py:217 -- Getting current IP.\n",
      "\u001b[2m\u001b[36m(pid=56804)\u001b[0m Done...\n",
      "\u001b[2m\u001b[36m(pid=56849)\u001b[0m Loading dependencies we have already seen...\n",
      "\u001b[2m\u001b[36m(pid=56851)\u001b[0m Loading dependencies we have already seen...\n",
      "\u001b[2m\u001b[36m(pid=56862)\u001b[0m Loading dependencies we have already seen...\n",
      "\u001b[2m\u001b[36m(pid=56808)\u001b[0m Done...\n",
      "\u001b[2m\u001b[36m(pid=56808)\u001b[0m 2020-06-11 12:18:08,871\tINFO trainable.py:217 -- Getting current IP.\n"
     ]
    },
    {
     "name": "stderr",
     "output_type": "stream",
     "text": [
      "2020-06-11 12:18:09,351\tINFO logger.py:269 -- Removed the following hyperparameter values when logging to tensorboard: {'randomforestclassifier__bootstrap': True}\n"
     ]
    },
    {
     "name": "stdout",
     "output_type": "stream",
     "text": [
      "\u001b[2m\u001b[36m(pid=56846)\u001b[0m 2020-06-11 12:18:09,171\tINFO trainable.py:217 -- Getting current IP.\n",
      "\u001b[2m\u001b[36m(pid=56846)\u001b[0m Done...\n",
      "\u001b[2m\u001b[36m(pid=56849)\u001b[0m 2020-06-11 12:18:09,280\tINFO trainable.py:217 -- Getting current IP.\n",
      "\u001b[2m\u001b[36m(pid=56849)\u001b[0m Done...\n",
      "Result for e2e_simple_training_00036:\n",
      "  date: 2020-06-11_12-18-09\n",
      "  done: true\n",
      "  experiment_id: 416e8e4675ef432e9fa6384491184d4c\n",
      "  experiment_tag: 36_randomforestclassifier__bootstrap=True,randomforestclassifier__criterion=gini,randomforestclassifier__max_features=log2,randomforestclassifier__min_samples_leaf=1,randomforestclassifier__min_samples_split=3,randomforestclassifier__n_estimators=13\n",
      "  hostname: cosmos-ml\n",
      "  iterations_since_restore: 1\n",
      "  mean_f1_score: 0.9636992452801099\n",
      "  node_ip: 192.168.1.39\n",
      "  pid: 56846\n",
      "  std_f1_score: 0.021731202275011987\n",
      "  time_since_restore: 0.15147972106933594\n",
      "  time_this_iter_s: 0.15147972106933594\n",
      "  time_total_s: 0.15147972106933594\n",
      "  timestamp: 1591874289\n",
      "  timesteps_since_restore: 0\n",
      "  training_iteration: 0\n",
      "  trial_id: '00036'\n",
      "  \n"
     ]
    },
    {
     "name": "stderr",
     "output_type": "stream",
     "text": [
      "2020-06-11 12:18:09,619\tINFO logger.py:269 -- Removed the following hyperparameter values when logging to tensorboard: {'randomforestclassifier__bootstrap': True}\n"
     ]
    },
    {
     "name": "stdout",
     "output_type": "stream",
     "text": [
      "\u001b[2m\u001b[36m(pid=56851)\u001b[0m 2020-06-11 12:18:09,377\tINFO trainable.py:217 -- Getting current IP.\n",
      "\u001b[2m\u001b[36m(pid=56851)\u001b[0m Done...\n",
      "\u001b[2m\u001b[36m(pid=56862)\u001b[0m 2020-06-11 12:18:09,438\tINFO trainable.py:217 -- Getting current IP.\n",
      "\u001b[2m\u001b[36m(pid=56862)\u001b[0m Done...\n",
      "Result for e2e_simple_training_00034:\n",
      "  date: 2020-06-11_12-18-09\n",
      "  done: true\n",
      "  experiment_id: f23143670b604d668a45db2b146b1218\n",
      "  experiment_tag: 34_randomforestclassifier__bootstrap=True,randomforestclassifier__criterion=gini,randomforestclassifier__max_features=sqrt,randomforestclassifier__min_samples_leaf=2,randomforestclassifier__min_samples_split=5,randomforestclassifier__n_estimators=119\n",
      "  hostname: cosmos-ml\n",
      "  iterations_since_restore: 1\n",
      "  mean_f1_score: 0.969316557739155\n",
      "  node_ip: 192.168.1.39\n",
      "  pid: 56804\n",
      "  std_f1_score: 0.021519725371044594\n",
      "  time_since_restore: 1.0962443351745605\n",
      "  time_this_iter_s: 1.0962443351745605\n",
      "  time_total_s: 1.0962443351745605\n",
      "  timestamp: 1591874289\n",
      "  timesteps_since_restore: 0\n",
      "  training_iteration: 0\n",
      "  trial_id: '00034'\n",
      "  \n",
      "\u001b[2m\u001b[36m(pid=56865)\u001b[0m Loading dependencies we have already seen...\n"
     ]
    },
    {
     "name": "stderr",
     "output_type": "stream",
     "text": [
      "2020-06-11 12:18:10,130\tINFO logger.py:269 -- Removed the following hyperparameter values when logging to tensorboard: {'randomforestclassifier__bootstrap': False}\n"
     ]
    },
    {
     "name": "stdout",
     "output_type": "stream",
     "text": [
      "\u001b[2m\u001b[36m(pid=56848)\u001b[0m Loading dependencies we have already seen...\n",
      "Result for e2e_simple_training_00035:\n",
      "  date: 2020-06-11_12-18-10\n",
      "  done: true\n",
      "  experiment_id: 0dc606007c7c4b5c830c06b46e19e96b\n",
      "  experiment_tag: 35_randomforestclassifier__bootstrap=False,randomforestclassifier__criterion=entropy,randomforestclassifier__max_features=sqrt,randomforestclassifier__min_samples_leaf=1,randomforestclassifier__min_samples_split=3,randomforestclassifier__n_estimators=117\n",
      "  hostname: cosmos-ml\n",
      "  iterations_since_restore: 1\n",
      "  mean_f1_score: 0.9804741751758191\n",
      "  node_ip: 192.168.1.39\n",
      "  pid: 56808\n",
      "  std_f1_score: 0.010167606093374923\n",
      "  time_since_restore: 1.222712755203247\n",
      "  time_this_iter_s: 1.222712755203247\n",
      "  time_total_s: 1.222712755203247\n",
      "  timestamp: 1591874290\n",
      "  timesteps_since_restore: 0\n",
      "  training_iteration: 0\n",
      "  trial_id: '00035'\n",
      "  \n"
     ]
    },
    {
     "name": "stderr",
     "output_type": "stream",
     "text": [
      "2020-06-11 12:18:10,300\tINFO logger.py:269 -- Removed the following hyperparameter values when logging to tensorboard: {'randomforestclassifier__bootstrap': False}\n"
     ]
    },
    {
     "name": "stdout",
     "output_type": "stream",
     "text": [
      "Result for e2e_simple_training_00039:\n",
      "  date: 2020-06-11_12-18-10\n",
      "  done: true\n",
      "  experiment_id: e50c078694ea448e82cd9d9490a97398\n",
      "  experiment_tag: 39_randomforestclassifier__bootstrap=False,randomforestclassifier__criterion=gini,randomforestclassifier__max_features=log2,randomforestclassifier__min_samples_leaf=3,randomforestclassifier__min_samples_split=3,randomforestclassifier__n_estimators=91\n",
      "  hostname: cosmos-ml\n",
      "  iterations_since_restore: 1\n",
      "  mean_f1_score: 0.968072229625526\n",
      "  node_ip: 192.168.1.39\n",
      "  pid: 56862\n",
      "  std_f1_score: 0.01365704456690946\n",
      "  time_since_restore: 0.832298755645752\n",
      "  time_this_iter_s: 0.832298755645752\n",
      "  time_total_s: 0.832298755645752\n",
      "  timestamp: 1591874290\n",
      "  timesteps_since_restore: 0\n",
      "  training_iteration: 0\n",
      "  trial_id: 00039\n",
      "  \n",
      "\u001b[2m\u001b[36m(pid=56865)\u001b[0m 2020-06-11 12:18:10,410\tINFO trainable.py:217 -- Getting current IP.\n",
      "\u001b[2m\u001b[36m(pid=56865)\u001b[0m Done...\n"
     ]
    },
    {
     "name": "stderr",
     "output_type": "stream",
     "text": [
      "2020-06-11 12:18:10,713\tINFO logger.py:269 -- Removed the following hyperparameter values when logging to tensorboard: {'randomforestclassifier__bootstrap': True}\n",
      "2020-06-11 12:18:10,800\tINFO logger.py:269 -- Removed the following hyperparameter values when logging to tensorboard: {'randomforestclassifier__bootstrap': True}\n",
      "2020-06-11 12:18:10,903\tINFO logger.py:269 -- Removed the following hyperparameter values when logging to tensorboard: {'randomforestclassifier__bootstrap': False}\n"
     ]
    },
    {
     "name": "stdout",
     "output_type": "stream",
     "text": [
      "Result for e2e_simple_training_00038:\n",
      "  date: 2020-06-11_12-18-10\n",
      "  done: true\n",
      "  experiment_id: 5bf28e2582794d39a044af277cb2b3cc\n",
      "  experiment_tag: 38_randomforestclassifier__bootstrap=True,randomforestclassifier__criterion=entropy,randomforestclassifier__max_features=log2,randomforestclassifier__min_samples_leaf=2,randomforestclassifier__min_samples_split=5,randomforestclassifier__n_estimators=115\n",
      "  hostname: cosmos-ml\n",
      "  iterations_since_restore: 1\n",
      "  mean_f1_score: 0.9665616072716061\n",
      "  node_ip: 192.168.1.39\n",
      "  pid: 56851\n",
      "  std_f1_score: 0.015093650756454384\n",
      "  time_since_restore: 1.3060505390167236\n",
      "  time_this_iter_s: 1.3060505390167236\n",
      "  time_total_s: 1.3060505390167236\n",
      "  timestamp: 1591874290\n",
      "  timesteps_since_restore: 0\n",
      "  training_iteration: 0\n",
      "  trial_id: 00038\n",
      "  \n",
      "\u001b[2m\u001b[36m(pid=56848)\u001b[0m 2020-06-11 12:18:10,738\tINFO trainable.py:217 -- Getting current IP.\n",
      "\u001b[2m\u001b[36m(pid=56848)\u001b[0m Done...\n",
      "Result for e2e_simple_training_00037:\n",
      "  date: 2020-06-11_12-18-10\n",
      "  done: true\n",
      "  experiment_id: 75fcc50d2c764c0e844d660b577b128a\n",
      "  experiment_tag: 37_randomforestclassifier__bootstrap=True,randomforestclassifier__criterion=entropy,randomforestclassifier__max_features=auto,randomforestclassifier__min_samples_leaf=2,randomforestclassifier__min_samples_split=5,randomforestclassifier__n_estimators=129\n",
      "  hostname: cosmos-ml\n",
      "  iterations_since_restore: 1\n",
      "  mean_f1_score: 0.9733825186796574\n",
      "  node_ip: 192.168.1.39\n",
      "  pid: 56849\n",
      "  std_f1_score: 0.014428661356016408\n",
      "  time_since_restore: 1.4787929058074951\n",
      "  time_this_iter_s: 1.4787929058074951\n",
      "  time_total_s: 1.4787929058074951\n",
      "  timestamp: 1591874290\n",
      "  timesteps_since_restore: 0\n",
      "  training_iteration: 0\n",
      "  trial_id: '00037'\n",
      "  \n",
      "Result for e2e_simple_training_00040:\n",
      "  date: 2020-06-11_12-18-10\n",
      "  done: true\n",
      "  experiment_id: ebe572abc57b41a785711c3e726eb9ee\n",
      "  experiment_tag: 40_randomforestclassifier__bootstrap=False,randomforestclassifier__criterion=gini,randomforestclassifier__max_features=sqrt,randomforestclassifier__min_samples_leaf=3,randomforestclassifier__min_samples_split=5,randomforestclassifier__n_estimators=27\n",
      "  hostname: cosmos-ml\n",
      "  iterations_since_restore: 1\n",
      "  mean_f1_score: 0.9665350700661106\n",
      "  node_ip: 192.168.1.39\n",
      "  pid: 56865\n",
      "  std_f1_score: 0.016306911251145854\n",
      "  time_since_restore: 0.4317502975463867\n",
      "  time_this_iter_s: 0.4317502975463867\n",
      "  time_total_s: 0.4317502975463867\n",
      "  timestamp: 1591874290\n",
      "  timesteps_since_restore: 0\n",
      "  training_iteration: 0\n",
      "  trial_id: '00040'\n",
      "  \n",
      "\u001b[2m\u001b[36m(pid=56934)\u001b[0m Loading dependencies we have already seen...\n",
      "\u001b[2m\u001b[36m(pid=56931)\u001b[0m Loading dependencies we have already seen...\n",
      "\u001b[2m\u001b[36m(pid=56937)\u001b[0m Loading dependencies we have already seen...\n",
      "\u001b[2m\u001b[36m(pid=56933)\u001b[0m Loading dependencies we have already seen...\n",
      "\u001b[2m\u001b[36m(pid=56939)\u001b[0m Loading dependencies we have already seen...\n",
      "\u001b[2m\u001b[36m(pid=56931)\u001b[0m Done...\n",
      "\u001b[2m\u001b[36m(pid=56931)\u001b[0m 2020-06-11 12:18:11,824\tINFO trainable.py:217 -- Getting current IP.\n",
      "\u001b[2m\u001b[36m(pid=56937)\u001b[0m 2020-06-11 12:18:11,800\tINFO trainable.py:217 -- Getting current IP.\n",
      "\u001b[2m\u001b[36m(pid=56937)\u001b[0m Done...\n",
      "\u001b[2m\u001b[36m(pid=56933)\u001b[0m 2020-06-11 12:18:11,879\tINFO trainable.py:217 -- Getting current IP.\n",
      "\u001b[2m\u001b[36m(pid=56933)\u001b[0m Done...\n",
      "\u001b[2m\u001b[36m(pid=56934)\u001b[0m 2020-06-11 12:18:11,889\tINFO trainable.py:217 -- Getting current IP.\n",
      "\u001b[2m\u001b[36m(pid=56934)\u001b[0m Done...\n",
      "\u001b[2m\u001b[36m(pid=56939)\u001b[0m 2020-06-11 12:18:11,893\tINFO trainable.py:217 -- Getting current IP.\n",
      "\u001b[2m\u001b[36m(pid=56939)\u001b[0m Done...\n"
     ]
    },
    {
     "name": "stderr",
     "output_type": "stream",
     "text": [
      "2020-06-11 12:18:12,415\tINFO logger.py:269 -- Removed the following hyperparameter values when logging to tensorboard: {'randomforestclassifier__bootstrap': True}\n",
      "2020-06-11 12:18:12,433\tINFO logger.py:269 -- Removed the following hyperparameter values when logging to tensorboard: {'randomforestclassifier__bootstrap': False}\n",
      "2020-06-11 12:18:12,454\tINFO logger.py:269 -- Removed the following hyperparameter values when logging to tensorboard: {'randomforestclassifier__bootstrap': True}\n"
     ]
    },
    {
     "name": "stdout",
     "output_type": "stream",
     "text": [
      "Result for e2e_simple_training_00042:\n",
      "  date: 2020-06-11_12-18-12\n",
      "  done: true\n",
      "  experiment_id: 373e9f3cafeb4388a4830b426f9153dc\n",
      "  experiment_tag: 42_randomforestclassifier__bootstrap=True,randomforestclassifier__criterion=entropy,randomforestclassifier__max_features=log2,randomforestclassifier__min_samples_leaf=2,randomforestclassifier__min_samples_split=4,randomforestclassifier__n_estimators=62\n",
      "  hostname: cosmos-ml\n",
      "  iterations_since_restore: 1\n",
      "  mean_f1_score: 0.9706606031437209\n",
      "  node_ip: 192.168.1.39\n",
      "  pid: 56931\n",
      "  std_f1_score: 0.017953972998962925\n",
      "  time_since_restore: 0.5439918041229248\n",
      "  time_this_iter_s: 0.5439918041229248\n",
      "  time_total_s: 0.5439918041229248\n",
      "  timestamp: 1591874292\n",
      "  timesteps_since_restore: 0\n",
      "  training_iteration: 0\n",
      "  trial_id: '00042'\n",
      "  \n",
      "Result for e2e_simple_training_00041:\n",
      "  date: 2020-06-11_12-18-12\n",
      "  done: true\n",
      "  experiment_id: cd66646c3a3e46ceb18418409b2a61e2\n",
      "  experiment_tag: 41_randomforestclassifier__bootstrap=False,randomforestclassifier__criterion=entropy,randomforestclassifier__max_features=sqrt,randomforestclassifier__min_samples_leaf=3,randomforestclassifier__min_samples_split=4,randomforestclassifier__n_estimators=146\n",
      "  hostname: cosmos-ml\n",
      "  iterations_since_restore: 1\n",
      "  mean_f1_score: 0.9750345617419299\n",
      "  node_ip: 192.168.1.39\n",
      "  pid: 56848\n",
      "  std_f1_score: 0.012057321570452738\n",
      "  time_since_restore: 1.6272404193878174\n",
      "  time_this_iter_s: 1.6272404193878174\n",
      "  time_total_s: 1.6272404193878174\n",
      "  timestamp: 1591874292\n",
      "  timesteps_since_restore: 0\n",
      "  training_iteration: 0\n",
      "  trial_id: '00041'\n",
      "  \n",
      "Result for e2e_simple_training_00046:\n",
      "  date: 2020-06-11_12-18-12\n",
      "  done: true\n",
      "  experiment_id: ca6c6b7a8b4e4dceaa95196655966d75\n",
      "  experiment_tag: 46_randomforestclassifier__bootstrap=True,randomforestclassifier__criterion=gini,randomforestclassifier__max_features=auto,randomforestclassifier__min_samples_leaf=1,randomforestclassifier__min_samples_split=4,randomforestclassifier__n_estimators=57\n",
      "  hostname: cosmos-ml\n",
      "  iterations_since_restore: 1\n",
      "  mean_f1_score: 0.9694759746216765\n",
      "  node_ip: 192.168.1.39\n",
      "  pid: 56939\n",
      "  std_f1_score: 0.017901412748605187\n",
      "  time_since_restore: 0.523139476776123\n",
      "  time_this_iter_s: 0.523139476776123\n",
      "  time_total_s: 0.523139476776123\n",
      "  timestamp: 1591874292\n",
      "  timesteps_since_restore: 0\n",
      "  training_iteration: 0\n",
      "  trial_id: '00046'\n",
      "  \n"
     ]
    },
    {
     "name": "stderr",
     "output_type": "stream",
     "text": [
      "2020-06-11 12:18:12,806\tINFO logger.py:269 -- Removed the following hyperparameter values when logging to tensorboard: {'randomforestclassifier__bootstrap': True}\n"
     ]
    },
    {
     "name": "stdout",
     "output_type": "stream",
     "text": [
      "\u001b[2m\u001b[36m(pid=56938)\u001b[0m Loading dependencies we have already seen...\n",
      "\u001b[2m\u001b[36m(pid=56950)\u001b[0m Loading dependencies we have already seen...\n",
      "Result for e2e_simple_training_00045:\n",
      "  date: 2020-06-11_12-18-12\n",
      "  done: true\n",
      "  experiment_id: ca1e238b2be34d46a88f3215496a1aa7\n",
      "  experiment_tag: 45_randomforestclassifier__bootstrap=True,randomforestclassifier__criterion=entropy,randomforestclassifier__max_features=sqrt,randomforestclassifier__min_samples_leaf=3,randomforestclassifier__min_samples_split=4,randomforestclassifier__n_estimators=87\n",
      "  hostname: cosmos-ml\n",
      "  iterations_since_restore: 1\n",
      "  mean_f1_score: 0.9749195631954253\n",
      "  node_ip: 192.168.1.39\n",
      "  pid: 56933\n",
      "  std_f1_score: 0.014974444193826368\n",
      "  time_since_restore: 0.8698968887329102\n",
      "  time_this_iter_s: 0.8698968887329102\n",
      "  time_total_s: 0.8698968887329102\n",
      "  timestamp: 1591874292\n",
      "  timesteps_since_restore: 0\n",
      "  training_iteration: 0\n",
      "  trial_id: '00045'\n",
      "  \n"
     ]
    },
    {
     "data": {
      "text/html": [
       "== Status ==<br>Memory usage on this node: 6.9/62.8 GiB<br>Using FIFO scheduling algorithm.<br>Resources requested: 5/6 CPUs, 0/0 GPUs, 0.0/34.57 GiB heap, 0.0/11.91 GiB objects<br>Result logdir: /home/steve/ray_results/e2e_simple_training<br>Number of trials: 100 (50 PENDING, 5 RUNNING, 45 TERMINATED)<br><table>\n",
       "<thead>\n",
       "<tr><th>Trial name               </th><th>status    </th><th>loc  </th><th style=\"text-align: right;\">  randomforestclassifier__bootstrap</th><th>randomforestclassifier__criterion  </th><th>randomforestclassifier__max_features  </th><th style=\"text-align: right;\">  randomforestclassifier__min_samples_leaf</th><th style=\"text-align: right;\">  randomforestclassifier__min_samples_split</th><th style=\"text-align: right;\">  randomforestclassifier__n_estimators</th><th style=\"text-align: right;\">  iter</th><th style=\"text-align: right;\">  total time (s)</th></tr>\n",
       "</thead>\n",
       "<tbody>\n",
       "<tr><td>e2e_simple_training_00050</td><td>PENDING   </td><td>     </td><td style=\"text-align: right;\">                                  0</td><td>gini                               </td><td>sqrt                                  </td><td style=\"text-align: right;\">                                         2</td><td style=\"text-align: right;\">                                          4</td><td style=\"text-align: right;\">                                    79</td><td style=\"text-align: right;\">      </td><td style=\"text-align: right;\">                </td></tr>\n",
       "<tr><td>e2e_simple_training_00051</td><td>PENDING   </td><td>     </td><td style=\"text-align: right;\">                                  0</td><td>gini                               </td><td>log2                                  </td><td style=\"text-align: right;\">                                         2</td><td style=\"text-align: right;\">                                          3</td><td style=\"text-align: right;\">                                   115</td><td style=\"text-align: right;\">      </td><td style=\"text-align: right;\">                </td></tr>\n",
       "<tr><td>e2e_simple_training_00052</td><td>PENDING   </td><td>     </td><td style=\"text-align: right;\">                                  0</td><td>gini                               </td><td>auto                                  </td><td style=\"text-align: right;\">                                         3</td><td style=\"text-align: right;\">                                          4</td><td style=\"text-align: right;\">                                    94</td><td style=\"text-align: right;\">      </td><td style=\"text-align: right;\">                </td></tr>\n",
       "<tr><td>e2e_simple_training_00053</td><td>PENDING   </td><td>     </td><td style=\"text-align: right;\">                                  1</td><td>gini                               </td><td>auto                                  </td><td style=\"text-align: right;\">                                         3</td><td style=\"text-align: right;\">                                          5</td><td style=\"text-align: right;\">                                   138</td><td style=\"text-align: right;\">      </td><td style=\"text-align: right;\">                </td></tr>\n",
       "<tr><td>e2e_simple_training_00054</td><td>PENDING   </td><td>     </td><td style=\"text-align: right;\">                                  1</td><td>entropy                            </td><td>sqrt                                  </td><td style=\"text-align: right;\">                                         3</td><td style=\"text-align: right;\">                                          5</td><td style=\"text-align: right;\">                                    19</td><td style=\"text-align: right;\">      </td><td style=\"text-align: right;\">                </td></tr>\n",
       "<tr><td>e2e_simple_training_00055</td><td>PENDING   </td><td>     </td><td style=\"text-align: right;\">                                  0</td><td>gini                               </td><td>sqrt                                  </td><td style=\"text-align: right;\">                                         2</td><td style=\"text-align: right;\">                                          4</td><td style=\"text-align: right;\">                                   131</td><td style=\"text-align: right;\">      </td><td style=\"text-align: right;\">                </td></tr>\n",
       "<tr><td>e2e_simple_training_00056</td><td>PENDING   </td><td>     </td><td style=\"text-align: right;\">                                  1</td><td>entropy                            </td><td>auto                                  </td><td style=\"text-align: right;\">                                         2</td><td style=\"text-align: right;\">                                          4</td><td style=\"text-align: right;\">                                    15</td><td style=\"text-align: right;\">      </td><td style=\"text-align: right;\">                </td></tr>\n",
       "<tr><td>e2e_simple_training_00057</td><td>PENDING   </td><td>     </td><td style=\"text-align: right;\">                                  0</td><td>entropy                            </td><td>log2                                  </td><td style=\"text-align: right;\">                                         3</td><td style=\"text-align: right;\">                                          5</td><td style=\"text-align: right;\">                                    10</td><td style=\"text-align: right;\">      </td><td style=\"text-align: right;\">                </td></tr>\n",
       "<tr><td>e2e_simple_training_00043</td><td>RUNNING   </td><td>     </td><td style=\"text-align: right;\">                                  1</td><td>gini                               </td><td>log2                                  </td><td style=\"text-align: right;\">                                         1</td><td style=\"text-align: right;\">                                          3</td><td style=\"text-align: right;\">                                    98</td><td style=\"text-align: right;\">      </td><td style=\"text-align: right;\">                </td></tr>\n",
       "<tr><td>e2e_simple_training_00044</td><td>RUNNING   </td><td>     </td><td style=\"text-align: right;\">                                  0</td><td>entropy                            </td><td>auto                                  </td><td style=\"text-align: right;\">                                         2</td><td style=\"text-align: right;\">                                          3</td><td style=\"text-align: right;\">                                    99</td><td style=\"text-align: right;\">      </td><td style=\"text-align: right;\">                </td></tr>\n",
       "<tr><td>e2e_simple_training_00047</td><td>RUNNING   </td><td>     </td><td style=\"text-align: right;\">                                  1</td><td>entropy                            </td><td>auto                                  </td><td style=\"text-align: right;\">                                         1</td><td style=\"text-align: right;\">                                          3</td><td style=\"text-align: right;\">                                    96</td><td style=\"text-align: right;\">      </td><td style=\"text-align: right;\">                </td></tr>\n",
       "<tr><td>e2e_simple_training_00048</td><td>RUNNING   </td><td>     </td><td style=\"text-align: right;\">                                  0</td><td>entropy                            </td><td>auto                                  </td><td style=\"text-align: right;\">                                         2</td><td style=\"text-align: right;\">                                          5</td><td style=\"text-align: right;\">                                    19</td><td style=\"text-align: right;\">      </td><td style=\"text-align: right;\">                </td></tr>\n",
       "<tr><td>e2e_simple_training_00049</td><td>RUNNING   </td><td>     </td><td style=\"text-align: right;\">                                  1</td><td>entropy                            </td><td>sqrt                                  </td><td style=\"text-align: right;\">                                         3</td><td style=\"text-align: right;\">                                          3</td><td style=\"text-align: right;\">                                   128</td><td style=\"text-align: right;\">      </td><td style=\"text-align: right;\">                </td></tr>\n",
       "<tr><td>e2e_simple_training_00000</td><td>TERMINATED</td><td>     </td><td style=\"text-align: right;\">                                  1</td><td>entropy                            </td><td>sqrt                                  </td><td style=\"text-align: right;\">                                         2</td><td style=\"text-align: right;\">                                          3</td><td style=\"text-align: right;\">                                    99</td><td style=\"text-align: right;\">     0</td><td style=\"text-align: right;\">        1.07312 </td></tr>\n",
       "<tr><td>e2e_simple_training_00001</td><td>TERMINATED</td><td>     </td><td style=\"text-align: right;\">                                  0</td><td>gini                               </td><td>log2                                  </td><td style=\"text-align: right;\">                                         3</td><td style=\"text-align: right;\">                                          3</td><td style=\"text-align: right;\">                                   134</td><td style=\"text-align: right;\">     0</td><td style=\"text-align: right;\">        1.4125  </td></tr>\n",
       "<tr><td>e2e_simple_training_00002</td><td>TERMINATED</td><td>     </td><td style=\"text-align: right;\">                                  0</td><td>gini                               </td><td>auto                                  </td><td style=\"text-align: right;\">                                         1</td><td style=\"text-align: right;\">                                          3</td><td style=\"text-align: right;\">                                    20</td><td style=\"text-align: right;\">     0</td><td style=\"text-align: right;\">        0.232855</td></tr>\n",
       "<tr><td>e2e_simple_training_00003</td><td>TERMINATED</td><td>     </td><td style=\"text-align: right;\">                                  1</td><td>gini                               </td><td>log2                                  </td><td style=\"text-align: right;\">                                         1</td><td style=\"text-align: right;\">                                          5</td><td style=\"text-align: right;\">                                    65</td><td style=\"text-align: right;\">     0</td><td style=\"text-align: right;\">        0.746565</td></tr>\n",
       "<tr><td>e2e_simple_training_00004</td><td>TERMINATED</td><td>     </td><td style=\"text-align: right;\">                                  1</td><td>entropy                            </td><td>sqrt                                  </td><td style=\"text-align: right;\">                                         2</td><td style=\"text-align: right;\">                                          4</td><td style=\"text-align: right;\">                                    80</td><td style=\"text-align: right;\">     0</td><td style=\"text-align: right;\">        0.899574</td></tr>\n",
       "<tr><td>e2e_simple_training_00005</td><td>TERMINATED</td><td>     </td><td style=\"text-align: right;\">                                  0</td><td>entropy                            </td><td>log2                                  </td><td style=\"text-align: right;\">                                         2</td><td style=\"text-align: right;\">                                          5</td><td style=\"text-align: right;\">                                    41</td><td style=\"text-align: right;\">     0</td><td style=\"text-align: right;\">        0.395278</td></tr>\n",
       "<tr><td>e2e_simple_training_00006</td><td>TERMINATED</td><td>     </td><td style=\"text-align: right;\">                                  1</td><td>gini                               </td><td>sqrt                                  </td><td style=\"text-align: right;\">                                         3</td><td style=\"text-align: right;\">                                          3</td><td style=\"text-align: right;\">                                    43</td><td style=\"text-align: right;\">     0</td><td style=\"text-align: right;\">        0.398493</td></tr>\n",
       "<tr><td>e2e_simple_training_00007</td><td>TERMINATED</td><td>     </td><td style=\"text-align: right;\">                                  1</td><td>gini                               </td><td>sqrt                                  </td><td style=\"text-align: right;\">                                         1</td><td style=\"text-align: right;\">                                          5</td><td style=\"text-align: right;\">                                    37</td><td style=\"text-align: right;\">     0</td><td style=\"text-align: right;\">        0.422944</td></tr>\n",
       "</tbody>\n",
       "</table><br>... 80 more trials not shown (42 PENDING, 37 TERMINATED)<br><br>"
      ],
      "text/plain": [
       "<IPython.core.display.HTML object>"
      ]
     },
     "metadata": {},
     "output_type": "display_data"
    },
    {
     "name": "stderr",
     "output_type": "stream",
     "text": [
      "2020-06-11 12:18:12,901\tINFO logger.py:269 -- Removed the following hyperparameter values when logging to tensorboard: {'randomforestclassifier__bootstrap': True}\n"
     ]
    },
    {
     "name": "stdout",
     "output_type": "stream",
     "text": [
      "Result for e2e_simple_training_00043:\n",
      "  date: 2020-06-11_12-18-12\n",
      "  done: true\n",
      "  experiment_id: ad624475e9c5407194b024eec100e2bb\n",
      "  experiment_tag: 43_randomforestclassifier__bootstrap=True,randomforestclassifier__criterion=gini,randomforestclassifier__max_features=log2,randomforestclassifier__min_samples_leaf=1,randomforestclassifier__min_samples_split=3,randomforestclassifier__n_estimators=98\n",
      "  hostname: cosmos-ml\n",
      "  iterations_since_restore: 1\n",
      "  mean_f1_score: 0.9707403933298941\n",
      "  node_ip: 192.168.1.39\n",
      "  pid: 56934\n",
      "  std_f1_score: 0.01682539712979218\n",
      "  time_since_restore: 0.9674928188323975\n",
      "  time_this_iter_s: 0.9674928188323975\n",
      "  time_total_s: 0.9674928188323975\n",
      "  timestamp: 1591874292\n",
      "  timesteps_since_restore: 0\n",
      "  training_iteration: 0\n",
      "  trial_id: '00043'\n",
      "  \n"
     ]
    },
    {
     "name": "stderr",
     "output_type": "stream",
     "text": [
      "2020-06-11 12:18:13,178\tINFO logger.py:269 -- Removed the following hyperparameter values when logging to tensorboard: {'randomforestclassifier__bootstrap': False}\n"
     ]
    },
    {
     "name": "stdout",
     "output_type": "stream",
     "text": [
      "Result for e2e_simple_training_00044:\n",
      "  date: 2020-06-11_12-18-13\n",
      "  done: true\n",
      "  experiment_id: 473866f47ce847a890929d8c8def12ba\n",
      "  experiment_tag: 44_randomforestclassifier__bootstrap=False,randomforestclassifier__criterion=entropy,randomforestclassifier__max_features=auto,randomforestclassifier__min_samples_leaf=2,randomforestclassifier__min_samples_split=3,randomforestclassifier__n_estimators=99\n",
      "  hostname: cosmos-ml\n",
      "  iterations_since_restore: 1\n",
      "  mean_f1_score: 0.9763177682025107\n",
      "  node_ip: 192.168.1.39\n",
      "  pid: 56937\n",
      "  std_f1_score: 0.015631132831870797\n",
      "  time_since_restore: 1.3383536338806152\n",
      "  time_this_iter_s: 1.3383536338806152\n",
      "  time_total_s: 1.3383536338806152\n",
      "  timestamp: 1591874293\n",
      "  timesteps_since_restore: 0\n",
      "  training_iteration: 0\n",
      "  trial_id: '00044'\n",
      "  \n",
      "\u001b[2m\u001b[36m(pid=57029)\u001b[0m Loading dependencies we have already seen...\n",
      "\u001b[2m\u001b[36m(pid=57031)\u001b[0m Loading dependencies we have already seen...\n",
      "\u001b[2m\u001b[36m(pid=57035)\u001b[0m Loading dependencies we have already seen...\n",
      "\u001b[2m\u001b[36m(pid=56938)\u001b[0m Done...\n",
      "\u001b[2m\u001b[36m(pid=56938)\u001b[0m 2020-06-11 12:18:13,601\tINFO trainable.py:217 -- Getting current IP.\n",
      "\u001b[2m\u001b[36m(pid=57037)\u001b[0m Loading dependencies we have already seen...\n",
      "\u001b[2m\u001b[36m(pid=56950)\u001b[0m Done...\n",
      "\u001b[2m\u001b[36m(pid=56950)\u001b[0m 2020-06-11 12:18:13,669\tINFO trainable.py:217 -- Getting current IP.\n"
     ]
    },
    {
     "name": "stderr",
     "output_type": "stream",
     "text": [
      "2020-06-11 12:18:13,910\tINFO logger.py:269 -- Removed the following hyperparameter values when logging to tensorboard: {'randomforestclassifier__bootstrap': False}\n"
     ]
    },
    {
     "name": "stdout",
     "output_type": "stream",
     "text": [
      "Result for e2e_simple_training_00048:\n",
      "  date: 2020-06-11_12-18-13\n",
      "  done: true\n",
      "  experiment_id: eef2bf2353624b0bb300481da80c9ef7\n",
      "  experiment_tag: 48_randomforestclassifier__bootstrap=False,randomforestclassifier__criterion=entropy,randomforestclassifier__max_features=auto,randomforestclassifier__min_samples_leaf=2,randomforestclassifier__min_samples_split=5,randomforestclassifier__n_estimators=19\n",
      "  hostname: cosmos-ml\n",
      "  iterations_since_restore: 1\n",
      "  mean_f1_score: 0.972116633600376\n",
      "  node_ip: 192.168.1.39\n",
      "  pid: 56938\n",
      "  std_f1_score: 0.008914924998914775\n",
      "  time_since_restore: 0.23785924911499023\n",
      "  time_this_iter_s: 0.23785924911499023\n",
      "  time_total_s: 0.23785924911499023\n",
      "  timestamp: 1591874293\n",
      "  timesteps_since_restore: 0\n",
      "  training_iteration: 0\n",
      "  trial_id: 00048\n",
      "  \n",
      "\u001b[2m\u001b[36m(pid=57074)\u001b[0m Loading dependencies we have already seen...\n",
      "\u001b[2m\u001b[36m(pid=57029)\u001b[0m Done...\n",
      "\u001b[2m\u001b[36m(pid=57029)\u001b[0m 2020-06-11 12:18:14,202\tINFO trainable.py:217 -- Getting current IP.\n",
      "\u001b[2m\u001b[36m(pid=57035)\u001b[0m Done...\n",
      "\u001b[2m\u001b[36m(pid=57035)\u001b[0m 2020-06-11 12:18:14,273\tINFO trainable.py:217 -- Getting current IP.\n",
      "\u001b[2m\u001b[36m(pid=57037)\u001b[0m 2020-06-11 12:18:14,316\tINFO trainable.py:217 -- Getting current IP.\n",
      "\u001b[2m\u001b[36m(pid=57037)\u001b[0m Done...\n",
      "\u001b[2m\u001b[36m(pid=57031)\u001b[0m Done...\n",
      "\u001b[2m\u001b[36m(pid=57031)\u001b[0m 2020-06-11 12:18:14,430\tINFO trainable.py:217 -- Getting current IP.\n"
     ]
    },
    {
     "name": "stderr",
     "output_type": "stream",
     "text": [
      "2020-06-11 12:18:14,726\tINFO logger.py:269 -- Removed the following hyperparameter values when logging to tensorboard: {'randomforestclassifier__bootstrap': True}\n"
     ]
    },
    {
     "name": "stdout",
     "output_type": "stream",
     "text": [
      "Result for e2e_simple_training_00047:\n",
      "  date: 2020-06-11_12-18-14\n",
      "  done: true\n",
      "  experiment_id: ddf60694058643cd8a54ee2a7f1cd146\n",
      "  experiment_tag: 47_randomforestclassifier__bootstrap=True,randomforestclassifier__criterion=entropy,randomforestclassifier__max_features=auto,randomforestclassifier__min_samples_leaf=1,randomforestclassifier__min_samples_split=3,randomforestclassifier__n_estimators=96\n",
      "  hostname: cosmos-ml\n",
      "  iterations_since_restore: 1\n",
      "  mean_f1_score: 0.9722206033133668\n",
      "  node_ip: 192.168.1.39\n",
      "  pid: 56950\n",
      "  std_f1_score: 0.009809727540066194\n",
      "  time_since_restore: 1.00303316116333\n",
      "  time_this_iter_s: 1.00303316116333\n",
      "  time_total_s: 1.00303316116333\n",
      "  timestamp: 1591874294\n",
      "  timesteps_since_restore: 0\n",
      "  training_iteration: 0\n",
      "  trial_id: '00047'\n",
      "  \n",
      "\u001b[2m\u001b[36m(pid=57074)\u001b[0m Done...\n",
      "\u001b[2m\u001b[36m(pid=57074)\u001b[0m 2020-06-11 12:18:14,830\tINFO trainable.py:217 -- Getting current IP.\n"
     ]
    },
    {
     "name": "stderr",
     "output_type": "stream",
     "text": [
      "2020-06-11 12:18:15,096\tINFO logger.py:269 -- Removed the following hyperparameter values when logging to tensorboard: {'randomforestclassifier__bootstrap': False}\n"
     ]
    },
    {
     "name": "stdout",
     "output_type": "stream",
     "text": [
      "\u001b[2m\u001b[36m(pid=57065)\u001b[0m Loading dependencies we have already seen...\n",
      "Result for e2e_simple_training_00050:\n",
      "  date: 2020-06-11_12-18-15\n",
      "  done: true\n",
      "  experiment_id: 4081360fef3f461d883791c9595adc9b\n",
      "  experiment_tag: 50_randomforestclassifier__bootstrap=False,randomforestclassifier__criterion=gini,randomforestclassifier__max_features=sqrt,randomforestclassifier__min_samples_leaf=2,randomforestclassifier__min_samples_split=4,randomforestclassifier__n_estimators=79\n",
      "  hostname: cosmos-ml\n",
      "  iterations_since_restore: 1\n",
      "  mean_f1_score: 0.9692800645519768\n",
      "  node_ip: 192.168.1.39\n",
      "  pid: 57035\n",
      "  std_f1_score: 0.01930977839746244\n",
      "  time_since_restore: 0.7724964618682861\n",
      "  time_this_iter_s: 0.7724964618682861\n",
      "  time_total_s: 0.7724964618682861\n",
      "  timestamp: 1591874295\n",
      "  timesteps_since_restore: 0\n",
      "  training_iteration: 0\n",
      "  trial_id: '00050'\n",
      "  \n"
     ]
    },
    {
     "name": "stderr",
     "output_type": "stream",
     "text": [
      "2020-06-11 12:18:15,301\tINFO logger.py:269 -- Removed the following hyperparameter values when logging to tensorboard: {'randomforestclassifier__bootstrap': False}\n",
      "2020-06-11 12:18:15,479\tINFO logger.py:269 -- Removed the following hyperparameter values when logging to tensorboard: {'randomforestclassifier__bootstrap': True}\n"
     ]
    },
    {
     "name": "stdout",
     "output_type": "stream",
     "text": [
      "Result for e2e_simple_training_00052:\n",
      "  date: 2020-06-11_12-18-15\n",
      "  done: true\n",
      "  experiment_id: 3483aa52add448ee80f0ae93a7842bb5\n",
      "  experiment_tag: 52_randomforestclassifier__bootstrap=False,randomforestclassifier__criterion=gini,randomforestclassifier__max_features=auto,randomforestclassifier__min_samples_leaf=3,randomforestclassifier__min_samples_split=4,randomforestclassifier__n_estimators=94\n",
      "  hostname: cosmos-ml\n",
      "  iterations_since_restore: 1\n",
      "  mean_f1_score: 0.968000667302497\n",
      "  node_ip: 192.168.1.39\n",
      "  pid: 57037\n",
      "  std_f1_score: 0.015094792431729549\n",
      "  time_since_restore: 0.9498929977416992\n",
      "  time_this_iter_s: 0.9498929977416992\n",
      "  time_total_s: 0.9498929977416992\n",
      "  timestamp: 1591874295\n",
      "  timesteps_since_restore: 0\n",
      "  training_iteration: 0\n",
      "  trial_id: '00052'\n",
      "  \n",
      "\u001b[2m\u001b[36m(pid=57038)\u001b[0m Loading dependencies we have already seen...\n",
      "Result for e2e_simple_training_00049:\n",
      "  date: 2020-06-11_12-18-15\n",
      "  done: true\n",
      "  experiment_id: 40eae2f6e9e547008402b91c936124d3\n",
      "  experiment_tag: 49_randomforestclassifier__bootstrap=True,randomforestclassifier__criterion=entropy,randomforestclassifier__max_features=sqrt,randomforestclassifier__min_samples_leaf=3,randomforestclassifier__min_samples_split=3,randomforestclassifier__n_estimators=128\n",
      "  hostname: cosmos-ml\n",
      "  iterations_since_restore: 1\n",
      "  mean_f1_score: 0.9735969368373715\n",
      "  node_ip: 192.168.1.39\n",
      "  pid: 57029\n",
      "  std_f1_score: 0.0160032139949415\n",
      "  time_since_restore: 1.2408106327056885\n",
      "  time_this_iter_s: 1.2408106327056885\n",
      "  time_total_s: 1.2408106327056885\n",
      "  timestamp: 1591874295\n",
      "  timesteps_since_restore: 0\n",
      "  training_iteration: 0\n",
      "  trial_id: 00049\n",
      "  \n"
     ]
    },
    {
     "name": "stderr",
     "output_type": "stream",
     "text": [
      "2020-06-11 12:18:15,517\tINFO logger.py:269 -- Removed the following hyperparameter values when logging to tensorboard: {'randomforestclassifier__bootstrap': False}\n"
     ]
    },
    {
     "name": "stdout",
     "output_type": "stream",
     "text": [
      "Result for e2e_simple_training_00051:\n",
      "  date: 2020-06-11_12-18-15\n",
      "  done: true\n",
      "  experiment_id: d65c891b8fd144edad6f9bd06444e68d\n",
      "  experiment_tag: 51_randomforestclassifier__bootstrap=False,randomforestclassifier__criterion=gini,randomforestclassifier__max_features=log2,randomforestclassifier__min_samples_leaf=2,randomforestclassifier__min_samples_split=3,randomforestclassifier__n_estimators=115\n",
      "  hostname: cosmos-ml\n",
      "  iterations_since_restore: 1\n",
      "  mean_f1_score: 0.9735760375058231\n",
      "  node_ip: 192.168.1.39\n",
      "  pid: 57031\n",
      "  std_f1_score: 0.010314342556885141\n",
      "  time_since_restore: 1.0598552227020264\n",
      "  time_this_iter_s: 1.0598552227020264\n",
      "  time_total_s: 1.0598552227020264\n",
      "  timestamp: 1591874295\n",
      "  timesteps_since_restore: 0\n",
      "  training_iteration: 0\n",
      "  trial_id: '00051'\n",
      "  \n",
      "\u001b[2m\u001b[36m(pid=57047)\u001b[0m Loading dependencies we have already seen...\n",
      "\u001b[2m\u001b[36m(pid=57065)\u001b[0m 2020-06-11 12:18:15,761\tINFO trainable.py:217 -- Getting current IP.\n",
      "\u001b[2m\u001b[36m(pid=57065)\u001b[0m Done...\n",
      "\u001b[2m\u001b[36m(pid=57032)\u001b[0m Loading dependencies we have already seen...\n"
     ]
    },
    {
     "name": "stderr",
     "output_type": "stream",
     "text": [
      "2020-06-11 12:18:16,046\tINFO logger.py:269 -- Removed the following hyperparameter values when logging to tensorboard: {'randomforestclassifier__bootstrap': True}\n"
     ]
    },
    {
     "name": "stdout",
     "output_type": "stream",
     "text": [
      "Result for e2e_simple_training_00054:\n",
      "  date: 2020-06-11_12-18-16\n",
      "  done: true\n",
      "  experiment_id: 57b66d01226a41c5a2ad5a5265dbce20\n",
      "  experiment_tag: 54_randomforestclassifier__bootstrap=True,randomforestclassifier__criterion=entropy,randomforestclassifier__max_features=sqrt,randomforestclassifier__min_samples_leaf=3,randomforestclassifier__min_samples_split=5,randomforestclassifier__n_estimators=19\n",
      "  hostname: cosmos-ml\n",
      "  iterations_since_restore: 1\n",
      "  mean_f1_score: 0.9724073039422585\n",
      "  node_ip: 192.168.1.39\n",
      "  pid: 57065\n",
      "  std_f1_score: 0.014933112399844059\n",
      "  time_since_restore: 0.24129199981689453\n",
      "  time_this_iter_s: 0.24129199981689453\n",
      "  time_total_s: 0.24129199981689453\n",
      "  timestamp: 1591874296\n",
      "  timesteps_since_restore: 0\n",
      "  training_iteration: 0\n",
      "  trial_id: '00054'\n",
      "  \n",
      "\u001b[2m\u001b[36m(pid=57162)\u001b[0m Loading dependencies we have already seen...\n"
     ]
    },
    {
     "name": "stderr",
     "output_type": "stream",
     "text": [
      "2020-06-11 12:18:16,419\tINFO logger.py:269 -- Removed the following hyperparameter values when logging to tensorboard: {'randomforestclassifier__bootstrap': True}\n"
     ]
    },
    {
     "name": "stdout",
     "output_type": "stream",
     "text": [
      "\u001b[2m\u001b[36m(pid=57038)\u001b[0m 2020-06-11 12:18:16,229\tINFO trainable.py:217 -- Getting current IP.\n",
      "\u001b[2m\u001b[36m(pid=57038)\u001b[0m Done...\n",
      "\u001b[2m\u001b[36m(pid=57047)\u001b[0m Done...\n",
      "\u001b[2m\u001b[36m(pid=57047)\u001b[0m 2020-06-11 12:18:16,315\tINFO trainable.py:217 -- Getting current IP.\n",
      "\u001b[2m\u001b[36m(pid=57164)\u001b[0m Loading dependencies we have already seen...\n",
      "Result for e2e_simple_training_00053:\n",
      "  date: 2020-06-11_12-18-16\n",
      "  done: true\n",
      "  experiment_id: a2a77e96d0dd4b6e94360666ebca68b1\n",
      "  experiment_tag: 53_randomforestclassifier__bootstrap=True,randomforestclassifier__criterion=gini,randomforestclassifier__max_features=auto,randomforestclassifier__min_samples_leaf=3,randomforestclassifier__min_samples_split=5,randomforestclassifier__n_estimators=138\n",
      "  hostname: cosmos-ml\n",
      "  iterations_since_restore: 1\n",
      "  mean_f1_score: 0.9663848699444534\n",
      "  node_ip: 192.168.1.39\n",
      "  pid: 57074\n",
      "  std_f1_score: 0.017609762633776074\n",
      "  time_since_restore: 1.5493228435516357\n",
      "  time_this_iter_s: 1.5493228435516357\n",
      "  time_total_s: 1.5493228435516357\n",
      "  timestamp: 1591874296\n",
      "  timesteps_since_restore: 0\n",
      "  training_iteration: 0\n",
      "  trial_id: '00053'\n",
      "  \n"
     ]
    },
    {
     "name": "stderr",
     "output_type": "stream",
     "text": [
      "2020-06-11 12:18:16,579\tINFO logger.py:269 -- Removed the following hyperparameter values when logging to tensorboard: {'randomforestclassifier__bootstrap': True}\n"
     ]
    },
    {
     "name": "stdout",
     "output_type": "stream",
     "text": [
      "Result for e2e_simple_training_00056:\n",
      "  date: 2020-06-11_12-18-16\n",
      "  done: true\n",
      "  experiment_id: a60162b0b7e44b769f76f9fa131fc9c4\n",
      "  experiment_tag: 56_randomforestclassifier__bootstrap=True,randomforestclassifier__criterion=entropy,randomforestclassifier__max_features=auto,randomforestclassifier__min_samples_leaf=2,randomforestclassifier__min_samples_split=4,randomforestclassifier__n_estimators=15\n",
      "  hostname: cosmos-ml\n",
      "  iterations_since_restore: 1\n",
      "  mean_f1_score: 0.9679578110486851\n",
      "  node_ip: 192.168.1.39\n",
      "  pid: 57047\n",
      "  std_f1_score: 0.01358944626211969\n",
      "  time_since_restore: 0.19296836853027344\n",
      "  time_this_iter_s: 0.19296836853027344\n",
      "  time_total_s: 0.19296836853027344\n",
      "  timestamp: 1591874296\n",
      "  timesteps_since_restore: 0\n",
      "  training_iteration: 0\n",
      "  trial_id: '00056'\n",
      "  \n",
      "\u001b[2m\u001b[36m(pid=57032)\u001b[0m 2020-06-11 12:18:16,649\tINFO trainable.py:217 -- Getting current IP.\n",
      "\u001b[2m\u001b[36m(pid=57032)\u001b[0m Done...\n"
     ]
    },
    {
     "name": "stderr",
     "output_type": "stream",
     "text": [
      "2020-06-11 12:18:16,858\tINFO logger.py:269 -- Removed the following hyperparameter values when logging to tensorboard: {'randomforestclassifier__bootstrap': False}\n"
     ]
    },
    {
     "name": "stdout",
     "output_type": "stream",
     "text": [
      "\u001b[2m\u001b[36m(pid=57178)\u001b[0m Loading dependencies we have already seen...\n",
      "Result for e2e_simple_training_00057:\n",
      "  date: 2020-06-11_12-18-16\n",
      "  done: true\n",
      "  experiment_id: 63b15abbe080419d9b3ec7bd2c21153f\n",
      "  experiment_tag: 57_randomforestclassifier__bootstrap=False,randomforestclassifier__criterion=entropy,randomforestclassifier__max_features=log2,randomforestclassifier__min_samples_leaf=3,randomforestclassifier__min_samples_split=5,randomforestclassifier__n_estimators=10\n",
      "  hostname: cosmos-ml\n",
      "  iterations_since_restore: 1\n",
      "  mean_f1_score: 0.9706824920155537\n",
      "  node_ip: 192.168.1.39\n",
      "  pid: 57032\n",
      "  std_f1_score: 0.012114729488875835\n",
      "  time_since_restore: 0.1517324447631836\n",
      "  time_this_iter_s: 0.1517324447631836\n",
      "  time_total_s: 0.1517324447631836\n",
      "  timestamp: 1591874296\n",
      "  timesteps_since_restore: 0\n",
      "  training_iteration: 0\n",
      "  trial_id: '00057'\n",
      "  \n",
      "\u001b[2m\u001b[36m(pid=57162)\u001b[0m Done...\n",
      "\u001b[2m\u001b[36m(pid=57162)\u001b[0m 2020-06-11 12:18:16,971\tINFO trainable.py:217 -- Getting current IP.\n",
      "\u001b[2m\u001b[36m(pid=57164)\u001b[0m Done...\n",
      "\u001b[2m\u001b[36m(pid=57164)\u001b[0m 2020-06-11 12:18:17,174\tINFO trainable.py:217 -- Getting current IP.\n",
      "\u001b[2m\u001b[36m(pid=57204)\u001b[0m Loading dependencies we have already seen...\n",
      "\u001b[2m\u001b[36m(pid=57205)\u001b[0m Loading dependencies we have already seen...\n"
     ]
    },
    {
     "name": "stderr",
     "output_type": "stream",
     "text": [
      "2020-06-11 12:18:17,754\tINFO logger.py:269 -- Removed the following hyperparameter values when logging to tensorboard: {'randomforestclassifier__bootstrap': False}\n"
     ]
    },
    {
     "name": "stdout",
     "output_type": "stream",
     "text": [
      "\u001b[2m\u001b[36m(pid=57178)\u001b[0m 2020-06-11 12:18:17,621\tINFO trainable.py:217 -- Getting current IP.\n",
      "\u001b[2m\u001b[36m(pid=57178)\u001b[0m Done...\n",
      "Result for e2e_simple_training_00055:\n",
      "  date: 2020-06-11_12-18-17\n",
      "  done: true\n",
      "  experiment_id: 252b382778034ea6b4463c7b21269e90\n",
      "  experiment_tag: 55_randomforestclassifier__bootstrap=False,randomforestclassifier__criterion=gini,randomforestclassifier__max_features=sqrt,randomforestclassifier__min_samples_leaf=2,randomforestclassifier__min_samples_split=4,randomforestclassifier__n_estimators=131\n",
      "  hostname: cosmos-ml\n",
      "  iterations_since_restore: 1\n",
      "  mean_f1_score: 0.9732812302723557\n",
      "  node_ip: 192.168.1.39\n",
      "  pid: 57038\n",
      "  std_f1_score: 0.017743458663203853\n",
      "  time_since_restore: 1.4915173053741455\n",
      "  time_this_iter_s: 1.4915173053741455\n",
      "  time_total_s: 1.4915173053741455\n",
      "  timestamp: 1591874297\n",
      "  timesteps_since_restore: 0\n",
      "  training_iteration: 0\n",
      "  trial_id: '00055'\n",
      "  \n"
     ]
    },
    {
     "data": {
      "text/html": [
       "== Status ==<br>Memory usage on this node: 7.2/62.8 GiB<br>Using FIFO scheduling algorithm.<br>Resources requested: 5/6 CPUs, 0/0 GPUs, 0.0/34.57 GiB heap, 0.0/11.91 GiB objects<br>Result logdir: /home/steve/ray_results/e2e_simple_training<br>Number of trials: 100 (37 PENDING, 5 RUNNING, 58 TERMINATED)<br><table>\n",
       "<thead>\n",
       "<tr><th>Trial name               </th><th>status    </th><th>loc  </th><th style=\"text-align: right;\">  randomforestclassifier__bootstrap</th><th>randomforestclassifier__criterion  </th><th>randomforestclassifier__max_features  </th><th style=\"text-align: right;\">  randomforestclassifier__min_samples_leaf</th><th style=\"text-align: right;\">  randomforestclassifier__min_samples_split</th><th style=\"text-align: right;\">  randomforestclassifier__n_estimators</th><th style=\"text-align: right;\">  iter</th><th style=\"text-align: right;\">  total time (s)</th></tr>\n",
       "</thead>\n",
       "<tbody>\n",
       "<tr><td>e2e_simple_training_00063</td><td>PENDING   </td><td>     </td><td style=\"text-align: right;\">                                  1</td><td>entropy                            </td><td>auto                                  </td><td style=\"text-align: right;\">                                         1</td><td style=\"text-align: right;\">                                          3</td><td style=\"text-align: right;\">                                   123</td><td style=\"text-align: right;\">      </td><td style=\"text-align: right;\">                </td></tr>\n",
       "<tr><td>e2e_simple_training_00064</td><td>PENDING   </td><td>     </td><td style=\"text-align: right;\">                                  0</td><td>gini                               </td><td>log2                                  </td><td style=\"text-align: right;\">                                         3</td><td style=\"text-align: right;\">                                          3</td><td style=\"text-align: right;\">                                   124</td><td style=\"text-align: right;\">      </td><td style=\"text-align: right;\">                </td></tr>\n",
       "<tr><td>e2e_simple_training_00065</td><td>PENDING   </td><td>     </td><td style=\"text-align: right;\">                                  0</td><td>entropy                            </td><td>auto                                  </td><td style=\"text-align: right;\">                                         3</td><td style=\"text-align: right;\">                                          3</td><td style=\"text-align: right;\">                                    31</td><td style=\"text-align: right;\">      </td><td style=\"text-align: right;\">                </td></tr>\n",
       "<tr><td>e2e_simple_training_00066</td><td>PENDING   </td><td>     </td><td style=\"text-align: right;\">                                  0</td><td>gini                               </td><td>log2                                  </td><td style=\"text-align: right;\">                                         3</td><td style=\"text-align: right;\">                                          3</td><td style=\"text-align: right;\">                                   128</td><td style=\"text-align: right;\">      </td><td style=\"text-align: right;\">                </td></tr>\n",
       "<tr><td>e2e_simple_training_00067</td><td>PENDING   </td><td>     </td><td style=\"text-align: right;\">                                  1</td><td>entropy                            </td><td>auto                                  </td><td style=\"text-align: right;\">                                         3</td><td style=\"text-align: right;\">                                          3</td><td style=\"text-align: right;\">                                    12</td><td style=\"text-align: right;\">      </td><td style=\"text-align: right;\">                </td></tr>\n",
       "<tr><td>e2e_simple_training_00068</td><td>PENDING   </td><td>     </td><td style=\"text-align: right;\">                                  0</td><td>entropy                            </td><td>log2                                  </td><td style=\"text-align: right;\">                                         3</td><td style=\"text-align: right;\">                                          3</td><td style=\"text-align: right;\">                                     5</td><td style=\"text-align: right;\">      </td><td style=\"text-align: right;\">                </td></tr>\n",
       "<tr><td>e2e_simple_training_00069</td><td>PENDING   </td><td>     </td><td style=\"text-align: right;\">                                  0</td><td>gini                               </td><td>log2                                  </td><td style=\"text-align: right;\">                                         2</td><td style=\"text-align: right;\">                                          3</td><td style=\"text-align: right;\">                                   124</td><td style=\"text-align: right;\">      </td><td style=\"text-align: right;\">                </td></tr>\n",
       "<tr><td>e2e_simple_training_00070</td><td>PENDING   </td><td>     </td><td style=\"text-align: right;\">                                  0</td><td>entropy                            </td><td>auto                                  </td><td style=\"text-align: right;\">                                         2</td><td style=\"text-align: right;\">                                          5</td><td style=\"text-align: right;\">                                    39</td><td style=\"text-align: right;\">      </td><td style=\"text-align: right;\">                </td></tr>\n",
       "<tr><td>e2e_simple_training_00058</td><td>RUNNING   </td><td>     </td><td style=\"text-align: right;\">                                  0</td><td>gini                               </td><td>auto                                  </td><td style=\"text-align: right;\">                                         2</td><td style=\"text-align: right;\">                                          3</td><td style=\"text-align: right;\">                                   142</td><td style=\"text-align: right;\">      </td><td style=\"text-align: right;\">                </td></tr>\n",
       "<tr><td>e2e_simple_training_00059</td><td>RUNNING   </td><td>     </td><td style=\"text-align: right;\">                                  0</td><td>gini                               </td><td>sqrt                                  </td><td style=\"text-align: right;\">                                         1</td><td style=\"text-align: right;\">                                          4</td><td style=\"text-align: right;\">                                   140</td><td style=\"text-align: right;\">      </td><td style=\"text-align: right;\">                </td></tr>\n",
       "<tr><td>e2e_simple_training_00060</td><td>RUNNING   </td><td>     </td><td style=\"text-align: right;\">                                  1</td><td>entropy                            </td><td>sqrt                                  </td><td style=\"text-align: right;\">                                         1</td><td style=\"text-align: right;\">                                          4</td><td style=\"text-align: right;\">                                    60</td><td style=\"text-align: right;\">      </td><td style=\"text-align: right;\">                </td></tr>\n",
       "<tr><td>e2e_simple_training_00061</td><td>RUNNING   </td><td>     </td><td style=\"text-align: right;\">                                  0</td><td>entropy                            </td><td>sqrt                                  </td><td style=\"text-align: right;\">                                         2</td><td style=\"text-align: right;\">                                          3</td><td style=\"text-align: right;\">                                   145</td><td style=\"text-align: right;\">      </td><td style=\"text-align: right;\">                </td></tr>\n",
       "<tr><td>e2e_simple_training_00062</td><td>RUNNING   </td><td>     </td><td style=\"text-align: right;\">                                  0</td><td>gini                               </td><td>auto                                  </td><td style=\"text-align: right;\">                                         3</td><td style=\"text-align: right;\">                                          4</td><td style=\"text-align: right;\">                                   139</td><td style=\"text-align: right;\">      </td><td style=\"text-align: right;\">                </td></tr>\n",
       "<tr><td>e2e_simple_training_00000</td><td>TERMINATED</td><td>     </td><td style=\"text-align: right;\">                                  1</td><td>entropy                            </td><td>sqrt                                  </td><td style=\"text-align: right;\">                                         2</td><td style=\"text-align: right;\">                                          3</td><td style=\"text-align: right;\">                                    99</td><td style=\"text-align: right;\">     0</td><td style=\"text-align: right;\">        1.07312 </td></tr>\n",
       "<tr><td>e2e_simple_training_00001</td><td>TERMINATED</td><td>     </td><td style=\"text-align: right;\">                                  0</td><td>gini                               </td><td>log2                                  </td><td style=\"text-align: right;\">                                         3</td><td style=\"text-align: right;\">                                          3</td><td style=\"text-align: right;\">                                   134</td><td style=\"text-align: right;\">     0</td><td style=\"text-align: right;\">        1.4125  </td></tr>\n",
       "<tr><td>e2e_simple_training_00002</td><td>TERMINATED</td><td>     </td><td style=\"text-align: right;\">                                  0</td><td>gini                               </td><td>auto                                  </td><td style=\"text-align: right;\">                                         1</td><td style=\"text-align: right;\">                                          3</td><td style=\"text-align: right;\">                                    20</td><td style=\"text-align: right;\">     0</td><td style=\"text-align: right;\">        0.232855</td></tr>\n",
       "<tr><td>e2e_simple_training_00003</td><td>TERMINATED</td><td>     </td><td style=\"text-align: right;\">                                  1</td><td>gini                               </td><td>log2                                  </td><td style=\"text-align: right;\">                                         1</td><td style=\"text-align: right;\">                                          5</td><td style=\"text-align: right;\">                                    65</td><td style=\"text-align: right;\">     0</td><td style=\"text-align: right;\">        0.746565</td></tr>\n",
       "<tr><td>e2e_simple_training_00004</td><td>TERMINATED</td><td>     </td><td style=\"text-align: right;\">                                  1</td><td>entropy                            </td><td>sqrt                                  </td><td style=\"text-align: right;\">                                         2</td><td style=\"text-align: right;\">                                          4</td><td style=\"text-align: right;\">                                    80</td><td style=\"text-align: right;\">     0</td><td style=\"text-align: right;\">        0.899574</td></tr>\n",
       "<tr><td>e2e_simple_training_00005</td><td>TERMINATED</td><td>     </td><td style=\"text-align: right;\">                                  0</td><td>entropy                            </td><td>log2                                  </td><td style=\"text-align: right;\">                                         2</td><td style=\"text-align: right;\">                                          5</td><td style=\"text-align: right;\">                                    41</td><td style=\"text-align: right;\">     0</td><td style=\"text-align: right;\">        0.395278</td></tr>\n",
       "<tr><td>e2e_simple_training_00006</td><td>TERMINATED</td><td>     </td><td style=\"text-align: right;\">                                  1</td><td>gini                               </td><td>sqrt                                  </td><td style=\"text-align: right;\">                                         3</td><td style=\"text-align: right;\">                                          3</td><td style=\"text-align: right;\">                                    43</td><td style=\"text-align: right;\">     0</td><td style=\"text-align: right;\">        0.398493</td></tr>\n",
       "<tr><td>e2e_simple_training_00007</td><td>TERMINATED</td><td>     </td><td style=\"text-align: right;\">                                  1</td><td>gini                               </td><td>sqrt                                  </td><td style=\"text-align: right;\">                                         1</td><td style=\"text-align: right;\">                                          5</td><td style=\"text-align: right;\">                                    37</td><td style=\"text-align: right;\">     0</td><td style=\"text-align: right;\">        0.422944</td></tr>\n",
       "</tbody>\n",
       "</table><br>... 80 more trials not shown (29 PENDING, 50 TERMINATED)<br><br>"
      ],
      "text/plain": [
       "<IPython.core.display.HTML object>"
      ]
     },
     "metadata": {},
     "output_type": "display_data"
    },
    {
     "name": "stdout",
     "output_type": "stream",
     "text": [
      "\u001b[2m\u001b[36m(pid=57205)\u001b[0m Done...\n",
      "\u001b[2m\u001b[36m(pid=57205)\u001b[0m 2020-06-11 12:18:18,008\tINFO trainable.py:217 -- Getting current IP.\n",
      "\u001b[2m\u001b[36m(pid=57204)\u001b[0m Done...\n",
      "\u001b[2m\u001b[36m(pid=57204)\u001b[0m 2020-06-11 12:18:18,062\tINFO trainable.py:217 -- Getting current IP.\n",
      "\u001b[2m\u001b[36m(pid=57221)\u001b[0m Loading dependencies we have already seen...\n"
     ]
    },
    {
     "name": "stderr",
     "output_type": "stream",
     "text": [
      "2020-06-11 12:18:18,248\tINFO logger.py:269 -- Removed the following hyperparameter values when logging to tensorboard: {'randomforestclassifier__bootstrap': True}\n"
     ]
    },
    {
     "name": "stdout",
     "output_type": "stream",
     "text": [
      "Result for e2e_simple_training_00060:\n",
      "  date: 2020-06-11_12-18-18\n",
      "  done: true\n",
      "  experiment_id: 721697ac57fc41d390b6383ee3ad9cd2\n",
      "  experiment_tag: 60_randomforestclassifier__bootstrap=True,randomforestclassifier__criterion=entropy,randomforestclassifier__max_features=sqrt,randomforestclassifier__min_samples_leaf=1,randomforestclassifier__min_samples_split=4,randomforestclassifier__n_estimators=60\n",
      "  hostname: cosmos-ml\n",
      "  iterations_since_restore: 1\n",
      "  mean_f1_score: 0.9693798436816733\n",
      "  node_ip: 192.168.1.39\n",
      "  pid: 57178\n",
      "  std_f1_score: 0.016894267108430457\n",
      "  time_since_restore: 0.616891622543335\n",
      "  time_this_iter_s: 0.616891622543335\n",
      "  time_total_s: 0.616891622543335\n",
      "  timestamp: 1591874298\n",
      "  timesteps_since_restore: 0\n",
      "  training_iteration: 0\n",
      "  trial_id: '00060'\n",
      "  \n"
     ]
    },
    {
     "name": "stderr",
     "output_type": "stream",
     "text": [
      "2020-06-11 12:18:18,480\tINFO logger.py:269 -- Removed the following hyperparameter values when logging to tensorboard: {'randomforestclassifier__bootstrap': False}\n",
      "2020-06-11 12:18:18,664\tINFO logger.py:269 -- Removed the following hyperparameter values when logging to tensorboard: {'randomforestclassifier__bootstrap': False}\n"
     ]
    },
    {
     "name": "stdout",
     "output_type": "stream",
     "text": [
      "Result for e2e_simple_training_00058:\n",
      "  date: 2020-06-11_12-18-18\n",
      "  done: true\n",
      "  experiment_id: 8768b770b7e5494791223e243a5f18b9\n",
      "  experiment_tag: 58_randomforestclassifier__bootstrap=False,randomforestclassifier__criterion=gini,randomforestclassifier__max_features=auto,randomforestclassifier__min_samples_leaf=2,randomforestclassifier__min_samples_split=3,randomforestclassifier__n_estimators=142\n",
      "  hostname: cosmos-ml\n",
      "  iterations_since_restore: 1\n",
      "  mean_f1_score: 0.9732812302723557\n",
      "  node_ip: 192.168.1.39\n",
      "  pid: 57162\n",
      "  std_f1_score: 0.017743458663203853\n",
      "  time_since_restore: 1.4992268085479736\n",
      "  time_this_iter_s: 1.4992268085479736\n",
      "  time_total_s: 1.4992268085479736\n",
      "  timestamp: 1591874298\n",
      "  timesteps_since_restore: 0\n",
      "  training_iteration: 0\n",
      "  trial_id: 00058\n",
      "  \n",
      "\u001b[2m\u001b[36m(pid=57222)\u001b[0m Loading dependencies we have already seen...\n",
      "Result for e2e_simple_training_00059:\n",
      "  date: 2020-06-11_12-18-18\n",
      "  done: true\n",
      "  experiment_id: 566c597f8a4d40109403a9631fcf2bdc\n",
      "  experiment_tag: 59_randomforestclassifier__bootstrap=False,randomforestclassifier__criterion=gini,randomforestclassifier__max_features=sqrt,randomforestclassifier__min_samples_leaf=1,randomforestclassifier__min_samples_split=4,randomforestclassifier__n_estimators=140\n",
      "  hostname: cosmos-ml\n",
      "  iterations_since_restore: 1\n",
      "  mean_f1_score: 0.9762541645119303\n",
      "  node_ip: 192.168.1.39\n",
      "  pid: 57164\n",
      "  std_f1_score: 0.015107689038845254\n",
      "  time_since_restore: 1.4818036556243896\n",
      "  time_this_iter_s: 1.4818036556243896\n",
      "  time_total_s: 1.4818036556243896\n",
      "  timestamp: 1591874298\n",
      "  timesteps_since_restore: 0\n",
      "  training_iteration: 0\n",
      "  trial_id: 00059\n",
      "  \n",
      "\u001b[2m\u001b[36m(pid=57213)\u001b[0m Loading dependencies we have already seen...\n",
      "\u001b[2m\u001b[36m(pid=57211)\u001b[0m Loading dependencies we have already seen...\n",
      "\u001b[2m\u001b[36m(pid=57221)\u001b[0m Done...\n",
      "\u001b[2m\u001b[36m(pid=57221)\u001b[0m 2020-06-11 12:18:18,871\tINFO trainable.py:217 -- Getting current IP.\n",
      "\u001b[2m\u001b[36m(pid=57222)\u001b[0m Done...\n",
      "\u001b[2m\u001b[36m(pid=57222)\u001b[0m 2020-06-11 12:18:19,188\tINFO trainable.py:217 -- Getting current IP.\n"
     ]
    },
    {
     "name": "stderr",
     "output_type": "stream",
     "text": [
      "2020-06-11 12:18:19,443\tINFO logger.py:269 -- Removed the following hyperparameter values when logging to tensorboard: {'randomforestclassifier__bootstrap': False}\n"
     ]
    },
    {
     "name": "stdout",
     "output_type": "stream",
     "text": [
      "Result for e2e_simple_training_00062:\n",
      "  date: 2020-06-11_12-18-19\n",
      "  done: true\n",
      "  experiment_id: 1b5a84d755cb495f913838c1b7cb399d\n",
      "  experiment_tag: 62_randomforestclassifier__bootstrap=False,randomforestclassifier__criterion=gini,randomforestclassifier__max_features=auto,randomforestclassifier__min_samples_leaf=3,randomforestclassifier__min_samples_split=4,randomforestclassifier__n_estimators=139\n",
      "  hostname: cosmos-ml\n",
      "  iterations_since_restore: 1\n",
      "  mean_f1_score: 0.9706807159424272\n",
      "  node_ip: 192.168.1.39\n",
      "  pid: 57205\n",
      "  std_f1_score: 0.013631518388823548\n",
      "  time_since_restore: 1.379286766052246\n",
      "  time_this_iter_s: 1.379286766052246\n",
      "  time_total_s: 1.379286766052246\n",
      "  timestamp: 1591874299\n",
      "  timesteps_since_restore: 0\n",
      "  training_iteration: 0\n",
      "  trial_id: '00062'\n",
      "  \n",
      "\u001b[2m\u001b[36m(pid=57213)\u001b[0m Done...\n",
      "\u001b[2m\u001b[36m(pid=57213)\u001b[0m 2020-06-11 12:18:19,420\tINFO trainable.py:217 -- Getting current IP.\n"
     ]
    },
    {
     "name": "stderr",
     "output_type": "stream",
     "text": [
      "2020-06-11 12:18:19,822\tINFO logger.py:269 -- Removed the following hyperparameter values when logging to tensorboard: {'randomforestclassifier__bootstrap': False}\n"
     ]
    },
    {
     "name": "stdout",
     "output_type": "stream",
     "text": [
      "\u001b[2m\u001b[36m(pid=57211)\u001b[0m 2020-06-11 12:18:19,655\tINFO trainable.py:217 -- Getting current IP.\n",
      "\u001b[2m\u001b[36m(pid=57211)\u001b[0m Done...\n",
      "\u001b[2m\u001b[36m(pid=57210)\u001b[0m Loading dependencies we have already seen...\n",
      "Result for e2e_simple_training_00065:\n",
      "  date: 2020-06-11_12-18-19\n",
      "  done: true\n",
      "  experiment_id: b9a7bded611f4b77826361a5498ac830\n",
      "  experiment_tag: 65_randomforestclassifier__bootstrap=False,randomforestclassifier__criterion=entropy,randomforestclassifier__max_features=auto,randomforestclassifier__min_samples_leaf=3,randomforestclassifier__min_samples_split=3,randomforestclassifier__n_estimators=31\n",
      "  hostname: cosmos-ml\n",
      "  iterations_since_restore: 1\n",
      "  mean_f1_score: 0.97501499197069\n",
      "  node_ip: 192.168.1.39\n",
      "  pid: 57213\n",
      "  std_f1_score: 0.011166198783226671\n",
      "  time_since_restore: 0.35898375511169434\n",
      "  time_this_iter_s: 0.35898375511169434\n",
      "  time_total_s: 0.35898375511169434\n",
      "  timestamp: 1591874299\n",
      "  timesteps_since_restore: 0\n",
      "  training_iteration: 0\n",
      "  trial_id: '00065'\n",
      "  \n"
     ]
    },
    {
     "name": "stderr",
     "output_type": "stream",
     "text": [
      "2020-06-11 12:18:19,904\tINFO logger.py:269 -- Removed the following hyperparameter values when logging to tensorboard: {'randomforestclassifier__bootstrap': False}\n"
     ]
    },
    {
     "name": "stdout",
     "output_type": "stream",
     "text": [
      "Result for e2e_simple_training_00061:\n",
      "  date: 2020-06-11_12-18-19\n",
      "  done: true\n",
      "  experiment_id: a3271c829ec240b5822fe5f47674edb7\n",
      "  experiment_tag: 61_randomforestclassifier__bootstrap=False,randomforestclassifier__criterion=entropy,randomforestclassifier__max_features=sqrt,randomforestclassifier__min_samples_leaf=2,randomforestclassifier__min_samples_split=3,randomforestclassifier__n_estimators=145\n",
      "  hostname: cosmos-ml\n",
      "  iterations_since_restore: 1\n",
      "  mean_f1_score: 0.9777746446593871\n",
      "  node_ip: 192.168.1.39\n",
      "  pid: 57204\n",
      "  std_f1_score: 0.01338638039358355\n",
      "  time_since_restore: 1.8127853870391846\n",
      "  time_this_iter_s: 1.8127853870391846\n",
      "  time_total_s: 1.8127853870391846\n",
      "  timestamp: 1591874299\n",
      "  timesteps_since_restore: 0\n",
      "  training_iteration: 0\n",
      "  trial_id: '00061'\n",
      "  \n"
     ]
    },
    {
     "name": "stderr",
     "output_type": "stream",
     "text": [
      "2020-06-11 12:18:20,155\tINFO logger.py:269 -- Removed the following hyperparameter values when logging to tensorboard: {'randomforestclassifier__bootstrap': True}\n",
      "2020-06-11 12:18:20,342\tINFO logger.py:269 -- Removed the following hyperparameter values when logging to tensorboard: {'randomforestclassifier__bootstrap': False}\n"
     ]
    },
    {
     "name": "stdout",
     "output_type": "stream",
     "text": [
      "Result for e2e_simple_training_00063:\n",
      "  date: 2020-06-11_12-18-20\n",
      "  done: true\n",
      "  experiment_id: 42c34a5a339745108a1da0b94e746263\n",
      "  experiment_tag: 63_randomforestclassifier__bootstrap=True,randomforestclassifier__criterion=entropy,randomforestclassifier__max_features=auto,randomforestclassifier__min_samples_leaf=1,randomforestclassifier__min_samples_split=3,randomforestclassifier__n_estimators=123\n",
      "  hostname: cosmos-ml\n",
      "  iterations_since_restore: 1\n",
      "  mean_f1_score: 0.9735014374284334\n",
      "  node_ip: 192.168.1.39\n",
      "  pid: 57221\n",
      "  std_f1_score: 0.01129246345663547\n",
      "  time_since_restore: 1.2314538955688477\n",
      "  time_this_iter_s: 1.2314538955688477\n",
      "  time_total_s: 1.2314538955688477\n",
      "  timestamp: 1591874300\n",
      "  timesteps_since_restore: 0\n",
      "  training_iteration: 0\n",
      "  trial_id: '00063'\n",
      "  \n",
      "Result for e2e_simple_training_00064:\n",
      "  date: 2020-06-11_12-18-20\n",
      "  done: true\n",
      "  experiment_id: a7f677eb0f2248ddacecef06ff765422\n",
      "  experiment_tag: 64_randomforestclassifier__bootstrap=False,randomforestclassifier__criterion=gini,randomforestclassifier__max_features=log2,randomforestclassifier__min_samples_leaf=3,randomforestclassifier__min_samples_split=3,randomforestclassifier__n_estimators=124\n",
      "  hostname: cosmos-ml\n",
      "  iterations_since_restore: 1\n",
      "  mean_f1_score: 0.9721351906156419\n",
      "  node_ip: 192.168.1.39\n",
      "  pid: 57222\n",
      "  std_f1_score: 0.01472939203711315\n",
      "  time_since_restore: 1.1060521602630615\n",
      "  time_this_iter_s: 1.1060521602630615\n",
      "  time_total_s: 1.1060521602630615\n",
      "  timestamp: 1591874300\n",
      "  timesteps_since_restore: 0\n",
      "  training_iteration: 0\n",
      "  trial_id: '00064'\n",
      "  \n",
      "\u001b[2m\u001b[36m(pid=57305)\u001b[0m Loading dependencies we have already seen...\n",
      "\u001b[2m\u001b[36m(pid=57210)\u001b[0m 2020-06-11 12:18:20,597\tINFO trainable.py:217 -- Getting current IP.\n",
      "\u001b[2m\u001b[36m(pid=57210)\u001b[0m Done...\n",
      "\u001b[2m\u001b[36m(pid=57310)\u001b[0m Loading dependencies we have already seen...\n",
      "\u001b[2m\u001b[36m(pid=57308)\u001b[0m Loading dependencies we have already seen...\n"
     ]
    },
    {
     "name": "stderr",
     "output_type": "stream",
     "text": [
      "2020-06-11 12:18:20,816\tINFO logger.py:269 -- Removed the following hyperparameter values when logging to tensorboard: {'randomforestclassifier__bootstrap': True}\n"
     ]
    },
    {
     "name": "stdout",
     "output_type": "stream",
     "text": [
      "\u001b[2m\u001b[36m(pid=57307)\u001b[0m Loading dependencies we have already seen...\n",
      "Result for e2e_simple_training_00067:\n",
      "  date: 2020-06-11_12-18-20\n",
      "  done: true\n",
      "  experiment_id: 03a0868a92da4a4795f578d13905e8ca\n",
      "  experiment_tag: 67_randomforestclassifier__bootstrap=True,randomforestclassifier__criterion=entropy,randomforestclassifier__max_features=auto,randomforestclassifier__min_samples_leaf=3,randomforestclassifier__min_samples_split=3,randomforestclassifier__n_estimators=12\n",
      "  hostname: cosmos-ml\n",
      "  iterations_since_restore: 1\n",
      "  mean_f1_score: 0.9735969655526636\n",
      "  node_ip: 192.168.1.39\n",
      "  pid: 57210\n",
      "  std_f1_score: 0.01605443491910032\n",
      "  time_since_restore: 0.16572070121765137\n",
      "  time_this_iter_s: 0.16572070121765137\n",
      "  time_total_s: 0.16572070121765137\n",
      "  timestamp: 1591874300\n",
      "  timesteps_since_restore: 0\n",
      "  training_iteration: 0\n",
      "  trial_id: '00067'\n",
      "  \n"
     ]
    },
    {
     "name": "stderr",
     "output_type": "stream",
     "text": [
      "2020-06-11 12:18:21,164\tINFO logger.py:269 -- Removed the following hyperparameter values when logging to tensorboard: {'randomforestclassifier__bootstrap': False}\n"
     ]
    },
    {
     "name": "stdout",
     "output_type": "stream",
     "text": [
      "\u001b[2m\u001b[36m(pid=57348)\u001b[0m Loading dependencies we have already seen...\n",
      "Result for e2e_simple_training_00066:\n",
      "  date: 2020-06-11_12-18-21\n",
      "  done: true\n",
      "  experiment_id: db92bddaf01e407fb2e89fc4ffce9091\n",
      "  experiment_tag: 66_randomforestclassifier__bootstrap=False,randomforestclassifier__criterion=gini,randomforestclassifier__max_features=log2,randomforestclassifier__min_samples_leaf=3,randomforestclassifier__min_samples_split=3,randomforestclassifier__n_estimators=128\n",
      "  hostname: cosmos-ml\n",
      "  iterations_since_restore: 1\n",
      "  mean_f1_score: 0.9721351906156419\n",
      "  node_ip: 192.168.1.39\n",
      "  pid: 57211\n",
      "  std_f1_score: 0.01472939203711315\n",
      "  time_since_restore: 1.4568378925323486\n",
      "  time_this_iter_s: 1.4568378925323486\n",
      "  time_total_s: 1.4568378925323486\n",
      "  timestamp: 1591874301\n",
      "  timesteps_since_restore: 0\n",
      "  training_iteration: 0\n",
      "  trial_id: '00066'\n",
      "  \n"
     ]
    },
    {
     "name": "stderr",
     "output_type": "stream",
     "text": [
      "2020-06-11 12:18:21,449\tINFO logger.py:269 -- Removed the following hyperparameter values when logging to tensorboard: {'randomforestclassifier__bootstrap': False}\n"
     ]
    },
    {
     "name": "stdout",
     "output_type": "stream",
     "text": [
      "\u001b[2m\u001b[36m(pid=57305)\u001b[0m 2020-06-11 12:18:21,324\tINFO trainable.py:217 -- Getting current IP.\n",
      "\u001b[2m\u001b[36m(pid=57305)\u001b[0m Done...\n",
      "\u001b[2m\u001b[36m(pid=57335)\u001b[0m Loading dependencies we have already seen...\n",
      "Result for e2e_simple_training_00068:\n",
      "  date: 2020-06-11_12-18-21\n",
      "  done: true\n",
      "  experiment_id: 20dc89b841ee448a9a5cfacb537c8db6\n",
      "  experiment_tag: 68_randomforestclassifier__bootstrap=False,randomforestclassifier__criterion=entropy,randomforestclassifier__max_features=log2,randomforestclassifier__min_samples_leaf=3,randomforestclassifier__min_samples_split=3,randomforestclassifier__n_estimators=5\n",
      "  hostname: cosmos-ml\n",
      "  iterations_since_restore: 1\n",
      "  mean_f1_score: 0.9677882235944402\n",
      "  node_ip: 192.168.1.39\n",
      "  pid: 57305\n",
      "  std_f1_score: 0.018587517347832306\n",
      "  time_since_restore: 0.11647152900695801\n",
      "  time_this_iter_s: 0.11647152900695801\n",
      "  time_total_s: 0.11647152900695801\n",
      "  timestamp: 1591874301\n",
      "  timesteps_since_restore: 0\n",
      "  training_iteration: 0\n",
      "  trial_id: 00068\n",
      "  \n",
      "\u001b[2m\u001b[36m(pid=57310)\u001b[0m 2020-06-11 12:18:21,470\tINFO trainable.py:217 -- Getting current IP.\n",
      "\u001b[2m\u001b[36m(pid=57310)\u001b[0m Done...\n",
      "\u001b[2m\u001b[36m(pid=57307)\u001b[0m 2020-06-11 12:18:21,522\tINFO trainable.py:217 -- Getting current IP.\n",
      "\u001b[2m\u001b[36m(pid=57307)\u001b[0m Done...\n",
      "\u001b[2m\u001b[36m(pid=57308)\u001b[0m Done...\n",
      "\u001b[2m\u001b[36m(pid=57308)\u001b[0m 2020-06-11 12:18:21,604\tINFO trainable.py:217 -- Getting current IP.\n",
      "\u001b[2m\u001b[36m(pid=57326)\u001b[0m Loading dependencies we have already seen...\n",
      "\u001b[2m\u001b[36m(pid=57348)\u001b[0m 2020-06-11 12:18:21,808\tINFO trainable.py:217 -- Getting current IP.\n",
      "\u001b[2m\u001b[36m(pid=57348)\u001b[0m Done...\n"
     ]
    },
    {
     "name": "stderr",
     "output_type": "stream",
     "text": [
      "2020-06-11 12:18:21,957\tINFO logger.py:269 -- Removed the following hyperparameter values when logging to tensorboard: {'randomforestclassifier__bootstrap': True}\n",
      "2020-06-11 12:18:22,032\tINFO logger.py:269 -- Removed the following hyperparameter values when logging to tensorboard: {'randomforestclassifier__bootstrap': False}\n",
      "2020-06-11 12:18:22,086\tINFO logger.py:269 -- Removed the following hyperparameter values when logging to tensorboard: {'randomforestclassifier__bootstrap': True}\n"
     ]
    },
    {
     "name": "stdout",
     "output_type": "stream",
     "text": [
      "Result for e2e_simple_training_00072:\n",
      "  date: 2020-06-11_12-18-21\n",
      "  done: true\n",
      "  experiment_id: d3f55dea0c874a56a511ab6918191daf\n",
      "  experiment_tag: 72_randomforestclassifier__bootstrap=True,randomforestclassifier__criterion=gini,randomforestclassifier__max_features=auto,randomforestclassifier__min_samples_leaf=1,randomforestclassifier__min_samples_split=4,randomforestclassifier__n_estimators=8\n",
      "  hostname: cosmos-ml\n",
      "  iterations_since_restore: 1\n",
      "  mean_f1_score: 0.9593829572937193\n",
      "  node_ip: 192.168.1.39\n",
      "  pid: 57348\n",
      "  std_f1_score: 0.02224881118843819\n",
      "  time_since_restore: 0.12126398086547852\n",
      "  time_this_iter_s: 0.12126398086547852\n",
      "  time_total_s: 0.12126398086547852\n",
      "  timestamp: 1591874301\n",
      "  timesteps_since_restore: 0\n",
      "  training_iteration: 0\n",
      "  trial_id: '00072'\n",
      "  \n",
      "Result for e2e_simple_training_00070:\n",
      "  date: 2020-06-11_12-18-22\n",
      "  done: true\n",
      "  experiment_id: f0366bfbf44f4be5856ce6a5c2a55955\n",
      "  experiment_tag: 70_randomforestclassifier__bootstrap=False,randomforestclassifier__criterion=entropy,randomforestclassifier__max_features=auto,randomforestclassifier__min_samples_leaf=2,randomforestclassifier__min_samples_split=5,randomforestclassifier__n_estimators=39\n",
      "  hostname: cosmos-ml\n",
      "  iterations_since_restore: 1\n",
      "  mean_f1_score: 0.973635558446375\n",
      "  node_ip: 192.168.1.39\n",
      "  pid: 57310\n",
      "  std_f1_score: 0.00683291893008624\n",
      "  time_since_restore: 0.5287821292877197\n",
      "  time_this_iter_s: 0.5287821292877197\n",
      "  time_total_s: 0.5287821292877197\n",
      "  timestamp: 1591874302\n",
      "  timesteps_since_restore: 0\n",
      "  training_iteration: 0\n",
      "  trial_id: '00070'\n",
      "  \n",
      "Result for e2e_simple_training_00071:\n",
      "  date: 2020-06-11_12-18-22\n",
      "  done: true\n",
      "  experiment_id: f2632d70e9524b73a09f392140a4a1e7\n",
      "  experiment_tag: 71_randomforestclassifier__bootstrap=True,randomforestclassifier__criterion=entropy,randomforestclassifier__max_features=auto,randomforestclassifier__min_samples_leaf=2,randomforestclassifier__min_samples_split=4,randomforestclassifier__n_estimators=41\n",
      "  hostname: cosmos-ml\n",
      "  iterations_since_restore: 1\n",
      "  mean_f1_score: 0.968075003926276\n",
      "  node_ip: 192.168.1.39\n",
      "  pid: 57308\n",
      "  std_f1_score: 0.014221143154708947\n",
      "  time_since_restore: 0.47232937812805176\n",
      "  time_this_iter_s: 0.47232937812805176\n",
      "  time_total_s: 0.47232937812805176\n",
      "  timestamp: 1591874302\n",
      "  timesteps_since_restore: 0\n",
      "  training_iteration: 0\n",
      "  trial_id: '00071'\n",
      "  \n",
      "\u001b[2m\u001b[36m(pid=57335)\u001b[0m Done...\n",
      "\u001b[2m\u001b[36m(pid=57335)\u001b[0m 2020-06-11 12:18:22,160\tINFO trainable.py:217 -- Getting current IP.\n",
      "\u001b[2m\u001b[36m(pid=57317)\u001b[0m Loading dependencies we have already seen...\n",
      "\u001b[2m\u001b[36m(pid=57316)\u001b[0m Loading dependencies we have already seen...\n",
      "\u001b[2m\u001b[36m(pid=57326)\u001b[0m Done...\n",
      "\u001b[2m\u001b[36m(pid=57326)\u001b[0m 2020-06-11 12:18:22,532\tINFO trainable.py:217 -- Getting current IP.\n"
     ]
    },
    {
     "name": "stderr",
     "output_type": "stream",
     "text": [
      "2020-06-11 12:18:22,696\tINFO logger.py:269 -- Removed the following hyperparameter values when logging to tensorboard: {'randomforestclassifier__bootstrap': False}\n",
      "2020-06-11 12:18:22,765\tINFO logger.py:269 -- Removed the following hyperparameter values when logging to tensorboard: {'randomforestclassifier__bootstrap': False}\n"
     ]
    },
    {
     "name": "stdout",
     "output_type": "stream",
     "text": [
      "Result for e2e_simple_training_00073:\n",
      "  date: 2020-06-11_12-18-22\n",
      "  done: true\n",
      "  experiment_id: 8ccd68a73c9e4b9facc7b4a0c49ea8c2\n",
      "  experiment_tag: 73_randomforestclassifier__bootstrap=False,randomforestclassifier__criterion=entropy,randomforestclassifier__max_features=log2,randomforestclassifier__min_samples_leaf=1,randomforestclassifier__min_samples_split=5,randomforestclassifier__n_estimators=46\n",
      "  hostname: cosmos-ml\n",
      "  iterations_since_restore: 1\n",
      "  mean_f1_score: 0.9707370143238487\n",
      "  node_ip: 192.168.1.39\n",
      "  pid: 57335\n",
      "  std_f1_score: 0.013667576225975215\n",
      "  time_since_restore: 0.48465895652770996\n",
      "  time_this_iter_s: 0.48465895652770996\n",
      "  time_total_s: 0.48465895652770996\n",
      "  timestamp: 1591874302\n",
      "  timesteps_since_restore: 0\n",
      "  training_iteration: 0\n",
      "  trial_id: '00073'\n",
      "  \n",
      "Result for e2e_simple_training_00069:\n",
      "  date: 2020-06-11_12-18-22\n",
      "  done: true\n",
      "  experiment_id: 2359cabccec84fedb42fd41725c19cae\n",
      "  experiment_tag: 69_randomforestclassifier__bootstrap=False,randomforestclassifier__criterion=gini,randomforestclassifier__max_features=log2,randomforestclassifier__min_samples_leaf=2,randomforestclassifier__min_samples_split=3,randomforestclassifier__n_estimators=124\n",
      "  hostname: cosmos-ml\n",
      "  iterations_since_restore: 1\n",
      "  mean_f1_score: 0.9735760375058231\n",
      "  node_ip: 192.168.1.39\n",
      "  pid: 57307\n",
      "  std_f1_score: 0.010314342556885141\n",
      "  time_since_restore: 1.2352869510650635\n",
      "  time_this_iter_s: 1.2352869510650635\n",
      "  time_total_s: 1.2352869510650635\n",
      "  timestamp: 1591874302\n",
      "  timesteps_since_restore: 0\n",
      "  training_iteration: 0\n",
      "  trial_id: 00069\n",
      "  \n",
      "\u001b[2m\u001b[36m(pid=57428)\u001b[0m Loading dependencies we have already seen...\n",
      "\u001b[2m\u001b[36m(pid=57429)\u001b[0m Loading dependencies we have already seen...\n",
      "\u001b[2m\u001b[36m(pid=57317)\u001b[0m 2020-06-11 12:18:22,991\tINFO trainable.py:217 -- Getting current IP.\n",
      "\u001b[2m\u001b[36m(pid=57317)\u001b[0m Done...\n"
     ]
    },
    {
     "name": "stderr",
     "output_type": "stream",
     "text": [
      "2020-06-11 12:18:23,260\tINFO logger.py:269 -- Removed the following hyperparameter values when logging to tensorboard: {'randomforestclassifier__bootstrap': True}\n"
     ]
    },
    {
     "name": "stdout",
     "output_type": "stream",
     "text": [
      "Result for e2e_simple_training_00074:\n",
      "  date: 2020-06-11_12-18-23\n",
      "  done: true\n",
      "  experiment_id: 601ba25b5e874c1ea4663566a1a13abe\n",
      "  experiment_tag: 74_randomforestclassifier__bootstrap=True,randomforestclassifier__criterion=gini,randomforestclassifier__max_features=sqrt,randomforestclassifier__min_samples_leaf=1,randomforestclassifier__min_samples_split=4,randomforestclassifier__n_estimators=63\n",
      "  hostname: cosmos-ml\n",
      "  iterations_since_restore: 1\n",
      "  mean_f1_score: 0.970855151000853\n",
      "  node_ip: 192.168.1.39\n",
      "  pid: 57326\n",
      "  std_f1_score: 0.019337907408937583\n",
      "  time_since_restore: 0.6721644401550293\n",
      "  time_this_iter_s: 0.6721644401550293\n",
      "  time_total_s: 0.6721644401550293\n",
      "  timestamp: 1591874303\n",
      "  timesteps_since_restore: 0\n",
      "  training_iteration: 0\n",
      "  trial_id: '00074'\n",
      "  \n",
      "\u001b[2m\u001b[36m(pid=57316)\u001b[0m Done...\n",
      "\u001b[2m\u001b[36m(pid=57316)\u001b[0m 2020-06-11 12:18:23,224\tINFO trainable.py:217 -- Getting current IP.\n"
     ]
    },
    {
     "data": {
      "text/html": [
       "== Status ==<br>Memory usage on this node: 7.0/62.8 GiB<br>Using FIFO scheduling algorithm.<br>Resources requested: 5/6 CPUs, 0/0 GPUs, 0.0/34.57 GiB heap, 0.0/11.91 GiB objects<br>Result logdir: /home/steve/ray_results/e2e_simple_training<br>Number of trials: 100 (20 PENDING, 5 RUNNING, 75 TERMINATED)<br><table>\n",
       "<thead>\n",
       "<tr><th>Trial name               </th><th>status    </th><th>loc  </th><th style=\"text-align: right;\">  randomforestclassifier__bootstrap</th><th>randomforestclassifier__criterion  </th><th>randomforestclassifier__max_features  </th><th style=\"text-align: right;\">  randomforestclassifier__min_samples_leaf</th><th style=\"text-align: right;\">  randomforestclassifier__min_samples_split</th><th style=\"text-align: right;\">  randomforestclassifier__n_estimators</th><th style=\"text-align: right;\">  iter</th><th style=\"text-align: right;\">  total time (s)</th></tr>\n",
       "</thead>\n",
       "<tbody>\n",
       "<tr><td>e2e_simple_training_00080</td><td>PENDING   </td><td>     </td><td style=\"text-align: right;\">                                  0</td><td>entropy                            </td><td>log2                                  </td><td style=\"text-align: right;\">                                         1</td><td style=\"text-align: right;\">                                          5</td><td style=\"text-align: right;\">                                    30</td><td style=\"text-align: right;\">      </td><td style=\"text-align: right;\">                </td></tr>\n",
       "<tr><td>e2e_simple_training_00081</td><td>PENDING   </td><td>     </td><td style=\"text-align: right;\">                                  1</td><td>entropy                            </td><td>log2                                  </td><td style=\"text-align: right;\">                                         1</td><td style=\"text-align: right;\">                                          4</td><td style=\"text-align: right;\">                                   136</td><td style=\"text-align: right;\">      </td><td style=\"text-align: right;\">                </td></tr>\n",
       "<tr><td>e2e_simple_training_00082</td><td>PENDING   </td><td>     </td><td style=\"text-align: right;\">                                  1</td><td>gini                               </td><td>auto                                  </td><td style=\"text-align: right;\">                                         2</td><td style=\"text-align: right;\">                                          5</td><td style=\"text-align: right;\">                                     4</td><td style=\"text-align: right;\">      </td><td style=\"text-align: right;\">                </td></tr>\n",
       "<tr><td>e2e_simple_training_00083</td><td>PENDING   </td><td>     </td><td style=\"text-align: right;\">                                  1</td><td>entropy                            </td><td>log2                                  </td><td style=\"text-align: right;\">                                         1</td><td style=\"text-align: right;\">                                          5</td><td style=\"text-align: right;\">                                     1</td><td style=\"text-align: right;\">      </td><td style=\"text-align: right;\">                </td></tr>\n",
       "<tr><td>e2e_simple_training_00084</td><td>PENDING   </td><td>     </td><td style=\"text-align: right;\">                                  0</td><td>gini                               </td><td>sqrt                                  </td><td style=\"text-align: right;\">                                         1</td><td style=\"text-align: right;\">                                          3</td><td style=\"text-align: right;\">                                    22</td><td style=\"text-align: right;\">      </td><td style=\"text-align: right;\">                </td></tr>\n",
       "<tr><td>e2e_simple_training_00085</td><td>PENDING   </td><td>     </td><td style=\"text-align: right;\">                                  1</td><td>gini                               </td><td>sqrt                                  </td><td style=\"text-align: right;\">                                         3</td><td style=\"text-align: right;\">                                          3</td><td style=\"text-align: right;\">                                     9</td><td style=\"text-align: right;\">      </td><td style=\"text-align: right;\">                </td></tr>\n",
       "<tr><td>e2e_simple_training_00086</td><td>PENDING   </td><td>     </td><td style=\"text-align: right;\">                                  0</td><td>entropy                            </td><td>auto                                  </td><td style=\"text-align: right;\">                                         3</td><td style=\"text-align: right;\">                                          3</td><td style=\"text-align: right;\">                                   110</td><td style=\"text-align: right;\">      </td><td style=\"text-align: right;\">                </td></tr>\n",
       "<tr><td>e2e_simple_training_00087</td><td>PENDING   </td><td>     </td><td style=\"text-align: right;\">                                  0</td><td>gini                               </td><td>auto                                  </td><td style=\"text-align: right;\">                                         2</td><td style=\"text-align: right;\">                                          3</td><td style=\"text-align: right;\">                                   115</td><td style=\"text-align: right;\">      </td><td style=\"text-align: right;\">                </td></tr>\n",
       "<tr><td>e2e_simple_training_00075</td><td>RUNNING   </td><td>     </td><td style=\"text-align: right;\">                                  1</td><td>gini                               </td><td>log2                                  </td><td style=\"text-align: right;\">                                         3</td><td style=\"text-align: right;\">                                          5</td><td style=\"text-align: right;\">                                    96</td><td style=\"text-align: right;\">      </td><td style=\"text-align: right;\">                </td></tr>\n",
       "<tr><td>e2e_simple_training_00076</td><td>RUNNING   </td><td>     </td><td style=\"text-align: right;\">                                  0</td><td>gini                               </td><td>sqrt                                  </td><td style=\"text-align: right;\">                                         1</td><td style=\"text-align: right;\">                                          3</td><td style=\"text-align: right;\">                                    48</td><td style=\"text-align: right;\">      </td><td style=\"text-align: right;\">                </td></tr>\n",
       "<tr><td>e2e_simple_training_00077</td><td>RUNNING   </td><td>     </td><td style=\"text-align: right;\">                                  0</td><td>entropy                            </td><td>sqrt                                  </td><td style=\"text-align: right;\">                                         3</td><td style=\"text-align: right;\">                                          3</td><td style=\"text-align: right;\">                                    42</td><td style=\"text-align: right;\">      </td><td style=\"text-align: right;\">                </td></tr>\n",
       "<tr><td>e2e_simple_training_00078</td><td>RUNNING   </td><td>     </td><td style=\"text-align: right;\">                                  0</td><td>gini                               </td><td>auto                                  </td><td style=\"text-align: right;\">                                         2</td><td style=\"text-align: right;\">                                          4</td><td style=\"text-align: right;\">                                    17</td><td style=\"text-align: right;\">      </td><td style=\"text-align: right;\">                </td></tr>\n",
       "<tr><td>e2e_simple_training_00079</td><td>RUNNING   </td><td>     </td><td style=\"text-align: right;\">                                  1</td><td>gini                               </td><td>sqrt                                  </td><td style=\"text-align: right;\">                                         1</td><td style=\"text-align: right;\">                                          5</td><td style=\"text-align: right;\">                                    86</td><td style=\"text-align: right;\">      </td><td style=\"text-align: right;\">                </td></tr>\n",
       "<tr><td>e2e_simple_training_00000</td><td>TERMINATED</td><td>     </td><td style=\"text-align: right;\">                                  1</td><td>entropy                            </td><td>sqrt                                  </td><td style=\"text-align: right;\">                                         2</td><td style=\"text-align: right;\">                                          3</td><td style=\"text-align: right;\">                                    99</td><td style=\"text-align: right;\">     0</td><td style=\"text-align: right;\">        1.07312 </td></tr>\n",
       "<tr><td>e2e_simple_training_00001</td><td>TERMINATED</td><td>     </td><td style=\"text-align: right;\">                                  0</td><td>gini                               </td><td>log2                                  </td><td style=\"text-align: right;\">                                         3</td><td style=\"text-align: right;\">                                          3</td><td style=\"text-align: right;\">                                   134</td><td style=\"text-align: right;\">     0</td><td style=\"text-align: right;\">        1.4125  </td></tr>\n",
       "<tr><td>e2e_simple_training_00002</td><td>TERMINATED</td><td>     </td><td style=\"text-align: right;\">                                  0</td><td>gini                               </td><td>auto                                  </td><td style=\"text-align: right;\">                                         1</td><td style=\"text-align: right;\">                                          3</td><td style=\"text-align: right;\">                                    20</td><td style=\"text-align: right;\">     0</td><td style=\"text-align: right;\">        0.232855</td></tr>\n",
       "<tr><td>e2e_simple_training_00003</td><td>TERMINATED</td><td>     </td><td style=\"text-align: right;\">                                  1</td><td>gini                               </td><td>log2                                  </td><td style=\"text-align: right;\">                                         1</td><td style=\"text-align: right;\">                                          5</td><td style=\"text-align: right;\">                                    65</td><td style=\"text-align: right;\">     0</td><td style=\"text-align: right;\">        0.746565</td></tr>\n",
       "<tr><td>e2e_simple_training_00004</td><td>TERMINATED</td><td>     </td><td style=\"text-align: right;\">                                  1</td><td>entropy                            </td><td>sqrt                                  </td><td style=\"text-align: right;\">                                         2</td><td style=\"text-align: right;\">                                          4</td><td style=\"text-align: right;\">                                    80</td><td style=\"text-align: right;\">     0</td><td style=\"text-align: right;\">        0.899574</td></tr>\n",
       "<tr><td>e2e_simple_training_00005</td><td>TERMINATED</td><td>     </td><td style=\"text-align: right;\">                                  0</td><td>entropy                            </td><td>log2                                  </td><td style=\"text-align: right;\">                                         2</td><td style=\"text-align: right;\">                                          5</td><td style=\"text-align: right;\">                                    41</td><td style=\"text-align: right;\">     0</td><td style=\"text-align: right;\">        0.395278</td></tr>\n",
       "<tr><td>e2e_simple_training_00006</td><td>TERMINATED</td><td>     </td><td style=\"text-align: right;\">                                  1</td><td>gini                               </td><td>sqrt                                  </td><td style=\"text-align: right;\">                                         3</td><td style=\"text-align: right;\">                                          3</td><td style=\"text-align: right;\">                                    43</td><td style=\"text-align: right;\">     0</td><td style=\"text-align: right;\">        0.398493</td></tr>\n",
       "<tr><td>e2e_simple_training_00007</td><td>TERMINATED</td><td>     </td><td style=\"text-align: right;\">                                  1</td><td>gini                               </td><td>sqrt                                  </td><td style=\"text-align: right;\">                                         1</td><td style=\"text-align: right;\">                                          5</td><td style=\"text-align: right;\">                                    37</td><td style=\"text-align: right;\">     0</td><td style=\"text-align: right;\">        0.422944</td></tr>\n",
       "</tbody>\n",
       "</table><br>... 80 more trials not shown (12 PENDING, 67 TERMINATED)<br><br>"
      ],
      "text/plain": [
       "<IPython.core.display.HTML object>"
      ]
     },
     "metadata": {},
     "output_type": "display_data"
    },
    {
     "name": "stdout",
     "output_type": "stream",
     "text": [
      "\u001b[2m\u001b[36m(pid=57456)\u001b[0m Loading dependencies we have already seen...\n",
      "\u001b[2m\u001b[36m(pid=57428)\u001b[0m Done...\n",
      "\u001b[2m\u001b[36m(pid=57428)\u001b[0m 2020-06-11 12:18:23,519\tINFO trainable.py:217 -- Getting current IP.\n",
      "\u001b[2m\u001b[36m(pid=57458)\u001b[0m Loading dependencies we have already seen...\n",
      "\u001b[2m\u001b[36m(pid=57429)\u001b[0m Done...\n",
      "\u001b[2m\u001b[36m(pid=57429)\u001b[0m 2020-06-11 12:18:23,680\tINFO trainable.py:217 -- Getting current IP.\n"
     ]
    },
    {
     "name": "stderr",
     "output_type": "stream",
     "text": [
      "2020-06-11 12:18:23,828\tINFO logger.py:269 -- Removed the following hyperparameter values when logging to tensorboard: {'randomforestclassifier__bootstrap': False}\n"
     ]
    },
    {
     "name": "stdout",
     "output_type": "stream",
     "text": [
      "Result for e2e_simple_training_00076:\n",
      "  date: 2020-06-11_12-18-23\n",
      "  done: true\n",
      "  experiment_id: ff26292c477943e48dcf5020462a0359\n",
      "  experiment_tag: 76_randomforestclassifier__bootstrap=False,randomforestclassifier__criterion=gini,randomforestclassifier__max_features=sqrt,randomforestclassifier__min_samples_leaf=1,randomforestclassifier__min_samples_split=3,randomforestclassifier__n_estimators=48\n",
      "  hostname: cosmos-ml\n",
      "  iterations_since_restore: 1\n",
      "  mean_f1_score: 0.9748157467714448\n",
      "  node_ip: 192.168.1.39\n",
      "  pid: 57316\n",
      "  std_f1_score: 0.014447297256330701\n",
      "  time_since_restore: 0.5412065982818604\n",
      "  time_this_iter_s: 0.5412065982818604\n",
      "  time_total_s: 0.5412065982818604\n",
      "  timestamp: 1591874303\n",
      "  timesteps_since_restore: 0\n",
      "  training_iteration: 0\n",
      "  trial_id: '00076'\n",
      "  \n"
     ]
    },
    {
     "name": "stderr",
     "output_type": "stream",
     "text": [
      "2020-06-11 12:18:23,912\tINFO logger.py:269 -- Removed the following hyperparameter values when logging to tensorboard: {'randomforestclassifier__bootstrap': True}\n",
      "2020-06-11 12:18:23,959\tINFO logger.py:269 -- Removed the following hyperparameter values when logging to tensorboard: {'randomforestclassifier__bootstrap': False}\n"
     ]
    },
    {
     "name": "stdout",
     "output_type": "stream",
     "text": [
      "Result for e2e_simple_training_00075:\n",
      "  date: 2020-06-11_12-18-23\n",
      "  done: true\n",
      "  experiment_id: c4abf59df79f4f68a1ca366b1ec561f4\n",
      "  experiment_tag: 75_randomforestclassifier__bootstrap=True,randomforestclassifier__criterion=gini,randomforestclassifier__max_features=log2,randomforestclassifier__min_samples_leaf=3,randomforestclassifier__min_samples_split=5,randomforestclassifier__n_estimators=96\n",
      "  hostname: cosmos-ml\n",
      "  iterations_since_restore: 1\n",
      "  mean_f1_score: 0.9652006774485669\n",
      "  node_ip: 192.168.1.39\n",
      "  pid: 57317\n",
      "  std_f1_score: 0.015906149425003922\n",
      "  time_since_restore: 0.8822152614593506\n",
      "  time_this_iter_s: 0.8822152614593506\n",
      "  time_total_s: 0.8822152614593506\n",
      "  timestamp: 1591874303\n",
      "  timesteps_since_restore: 0\n",
      "  training_iteration: 0\n",
      "  trial_id: '00075'\n",
      "  \n",
      "Result for e2e_simple_training_00078:\n",
      "  date: 2020-06-11_12-18-23\n",
      "  done: true\n",
      "  experiment_id: b302f0f844e2496bbd8684b039139de3\n",
      "  experiment_tag: 78_randomforestclassifier__bootstrap=False,randomforestclassifier__criterion=gini,randomforestclassifier__max_features=auto,randomforestclassifier__min_samples_leaf=2,randomforestclassifier__min_samples_split=4,randomforestclassifier__n_estimators=17\n",
      "  hostname: cosmos-ml\n",
      "  iterations_since_restore: 1\n",
      "  mean_f1_score: 0.9649778151255932\n",
      "  node_ip: 192.168.1.39\n",
      "  pid: 57429\n",
      "  std_f1_score: 0.016652224745417873\n",
      "  time_since_restore: 0.22262835502624512\n",
      "  time_this_iter_s: 0.22262835502624512\n",
      "  time_total_s: 0.22262835502624512\n",
      "  timestamp: 1591874303\n",
      "  timesteps_since_restore: 0\n",
      "  training_iteration: 0\n",
      "  trial_id: 00078\n",
      "  \n"
     ]
    },
    {
     "name": "stderr",
     "output_type": "stream",
     "text": [
      "2020-06-11 12:18:24,060\tINFO logger.py:269 -- Removed the following hyperparameter values when logging to tensorboard: {'randomforestclassifier__bootstrap': False}\n"
     ]
    },
    {
     "name": "stdout",
     "output_type": "stream",
     "text": [
      "Result for e2e_simple_training_00077:\n",
      "  date: 2020-06-11_12-18-24\n",
      "  done: true\n",
      "  experiment_id: 41c9ef39ded94c94b67884abf665ace4\n",
      "  experiment_tag: 77_randomforestclassifier__bootstrap=False,randomforestclassifier__criterion=entropy,randomforestclassifier__max_features=sqrt,randomforestclassifier__min_samples_leaf=3,randomforestclassifier__min_samples_split=3,randomforestclassifier__n_estimators=42\n",
      "  hostname: cosmos-ml\n",
      "  iterations_since_restore: 1\n",
      "  mean_f1_score: 0.970855234855976\n",
      "  node_ip: 192.168.1.39\n",
      "  pid: 57428\n",
      "  std_f1_score: 0.010241035741338887\n",
      "  time_since_restore: 0.49444007873535156\n",
      "  time_this_iter_s: 0.49444007873535156\n",
      "  time_total_s: 0.49444007873535156\n",
      "  timestamp: 1591874304\n",
      "  timesteps_since_restore: 0\n",
      "  training_iteration: 0\n",
      "  trial_id: '00077'\n",
      "  \n",
      "\u001b[2m\u001b[36m(pid=57456)\u001b[0m Done...\n",
      "\u001b[2m\u001b[36m(pid=57456)\u001b[0m 2020-06-11 12:18:24,203\tINFO trainable.py:217 -- Getting current IP.\n",
      "\u001b[2m\u001b[36m(pid=57473)\u001b[0m Loading dependencies we have already seen...\n",
      "\u001b[2m\u001b[36m(pid=57458)\u001b[0m 2020-06-11 12:18:24,549\tINFO trainable.py:217 -- Getting current IP.\n",
      "\u001b[2m\u001b[36m(pid=57458)\u001b[0m Done...\n",
      "\u001b[2m\u001b[36m(pid=57499)\u001b[0m Loading dependencies we have already seen...\n",
      "\u001b[2m\u001b[36m(pid=57501)\u001b[0m Loading dependencies we have already seen...\n",
      "\u001b[2m\u001b[36m(pid=57502)\u001b[0m Loading dependencies we have already seen...\n"
     ]
    },
    {
     "name": "stderr",
     "output_type": "stream",
     "text": [
      "2020-06-11 12:18:25,007\tINFO logger.py:269 -- Removed the following hyperparameter values when logging to tensorboard: {'randomforestclassifier__bootstrap': False}\n",
      "2020-06-11 12:18:25,185\tINFO logger.py:269 -- Removed the following hyperparameter values when logging to tensorboard: {'randomforestclassifier__bootstrap': True}\n"
     ]
    },
    {
     "name": "stdout",
     "output_type": "stream",
     "text": [
      "Result for e2e_simple_training_00080:\n",
      "  date: 2020-06-11_12-18-24\n",
      "  done: true\n",
      "  experiment_id: a18eb7ba9d0c49a689f8df42f34e9caf\n",
      "  experiment_tag: 80_randomforestclassifier__bootstrap=False,randomforestclassifier__criterion=entropy,randomforestclassifier__max_features=log2,randomforestclassifier__min_samples_leaf=1,randomforestclassifier__min_samples_split=5,randomforestclassifier__n_estimators=30\n",
      "  hostname: cosmos-ml\n",
      "  iterations_since_restore: 1\n",
      "  mean_f1_score: 0.9679395201388807\n",
      "  node_ip: 192.168.1.39\n",
      "  pid: 57458\n",
      "  std_f1_score: 0.015160439802720244\n",
      "  time_since_restore: 0.4138150215148926\n",
      "  time_this_iter_s: 0.4138150215148926\n",
      "  time_total_s: 0.4138150215148926\n",
      "  timestamp: 1591874304\n",
      "  timesteps_since_restore: 0\n",
      "  training_iteration: 0\n",
      "  trial_id: 00080\n",
      "  \n",
      "\u001b[2m\u001b[36m(pid=57473)\u001b[0m 2020-06-11 12:18:25,117\tINFO trainable.py:217 -- Getting current IP.\n",
      "\u001b[2m\u001b[36m(pid=57473)\u001b[0m Done...\n",
      "Result for e2e_simple_training_00079:\n",
      "  date: 2020-06-11_12-18-25\n",
      "  done: true\n",
      "  experiment_id: 7178e21b5ad2405bb7fb02cc7bcfbbd9\n",
      "  experiment_tag: 79_randomforestclassifier__bootstrap=True,randomforestclassifier__criterion=gini,randomforestclassifier__max_features=sqrt,randomforestclassifier__min_samples_leaf=1,randomforestclassifier__min_samples_split=5,randomforestclassifier__n_estimators=86\n",
      "  hostname: cosmos-ml\n",
      "  iterations_since_restore: 1\n",
      "  mean_f1_score: 0.968037556881191\n",
      "  node_ip: 192.168.1.39\n",
      "  pid: 57456\n",
      "  std_f1_score: 0.01677626213258541\n",
      "  time_since_restore: 0.9135763645172119\n",
      "  time_this_iter_s: 0.9135763645172119\n",
      "  time_total_s: 0.9135763645172119\n",
      "  timestamp: 1591874305\n",
      "  timesteps_since_restore: 0\n",
      "  training_iteration: 0\n",
      "  trial_id: 00079\n",
      "  \n"
     ]
    },
    {
     "name": "stderr",
     "output_type": "stream",
     "text": [
      "2020-06-11 12:18:25,390\tINFO logger.py:269 -- Removed the following hyperparameter values when logging to tensorboard: {'randomforestclassifier__bootstrap': True}\n"
     ]
    },
    {
     "name": "stdout",
     "output_type": "stream",
     "text": [
      "\u001b[2m\u001b[36m(pid=57499)\u001b[0m Done...\n",
      "\u001b[2m\u001b[36m(pid=57499)\u001b[0m 2020-06-11 12:18:25,266\tINFO trainable.py:217 -- Getting current IP.\n",
      "\u001b[2m\u001b[36m(pid=57531)\u001b[0m Loading dependencies we have already seen...\n",
      "Result for e2e_simple_training_00082:\n",
      "  date: 2020-06-11_12-18-25\n",
      "  done: true\n",
      "  experiment_id: ad103ea37ed14a12bff9322a6ce8151b\n",
      "  experiment_tag: 82_randomforestclassifier__bootstrap=True,randomforestclassifier__criterion=gini,randomforestclassifier__max_features=auto,randomforestclassifier__min_samples_leaf=2,randomforestclassifier__min_samples_split=5,randomforestclassifier__n_estimators=4\n",
      "  hostname: cosmos-ml\n",
      "  iterations_since_restore: 1\n",
      "  mean_f1_score: 0.960713772309869\n",
      "  node_ip: 192.168.1.39\n",
      "  pid: 57499\n",
      "  std_f1_score: 0.014710841094310867\n",
      "  time_since_restore: 0.08336901664733887\n",
      "  time_this_iter_s: 0.08336901664733887\n",
      "  time_total_s: 0.08336901664733887\n",
      "  timestamp: 1591874305\n",
      "  timesteps_since_restore: 0\n",
      "  training_iteration: 0\n",
      "  trial_id: 00082\n",
      "  \n",
      "\u001b[2m\u001b[36m(pid=57521)\u001b[0m Loading dependencies we have already seen...\n"
     ]
    },
    {
     "name": "stderr",
     "output_type": "stream",
     "text": [
      "2020-06-11 12:18:25,655\tINFO logger.py:269 -- Removed the following hyperparameter values when logging to tensorboard: {'randomforestclassifier__bootstrap': True}\n"
     ]
    },
    {
     "name": "stdout",
     "output_type": "stream",
     "text": [
      "\u001b[2m\u001b[36m(pid=57502)\u001b[0m Done...\n",
      "\u001b[2m\u001b[36m(pid=57502)\u001b[0m 2020-06-11 12:18:25,468\tINFO trainable.py:217 -- Getting current IP.\n",
      "\u001b[2m\u001b[36m(pid=57501)\u001b[0m Done...\n",
      "\u001b[2m\u001b[36m(pid=57501)\u001b[0m 2020-06-11 12:18:25,538\tINFO trainable.py:217 -- Getting current IP.\n",
      "Result for e2e_simple_training_00083:\n",
      "  date: 2020-06-11_12-18-25\n",
      "  done: true\n",
      "  experiment_id: cdf05f85c1824a52b79cf18ce58e1fa1\n",
      "  experiment_tag: 83_randomforestclassifier__bootstrap=True,randomforestclassifier__criterion=entropy,randomforestclassifier__max_features=log2,randomforestclassifier__min_samples_leaf=1,randomforestclassifier__min_samples_split=5,randomforestclassifier__n_estimators=1\n",
      "  hostname: cosmos-ml\n",
      "  iterations_since_restore: 1\n",
      "  mean_f1_score: 0.9266195143936787\n",
      "  node_ip: 192.168.1.39\n",
      "  pid: 57501\n",
      "  std_f1_score: 0.022472959658839203\n",
      "  time_since_restore: 0.06438422203063965\n",
      "  time_this_iter_s: 0.06438422203063965\n",
      "  time_total_s: 0.06438422203063965\n",
      "  timestamp: 1591874305\n",
      "  timesteps_since_restore: 0\n",
      "  training_iteration: 0\n",
      "  trial_id: 00083\n",
      "  \n",
      "\u001b[2m\u001b[36m(pid=57506)\u001b[0m Loading dependencies we have already seen...\n"
     ]
    },
    {
     "name": "stderr",
     "output_type": "stream",
     "text": [
      "2020-06-11 12:18:25,801\tINFO logger.py:269 -- Removed the following hyperparameter values when logging to tensorboard: {'randomforestclassifier__bootstrap': False}\n"
     ]
    },
    {
     "name": "stdout",
     "output_type": "stream",
     "text": [
      "Result for e2e_simple_training_00084:\n",
      "  date: 2020-06-11_12-18-25\n",
      "  done: true\n",
      "  experiment_id: 556c9d5b399d424c908d4d0887a96756\n",
      "  experiment_tag: 84_randomforestclassifier__bootstrap=False,randomforestclassifier__criterion=gini,randomforestclassifier__max_features=sqrt,randomforestclassifier__min_samples_leaf=1,randomforestclassifier__min_samples_split=3,randomforestclassifier__n_estimators=22\n",
      "  hostname: cosmos-ml\n",
      "  iterations_since_restore: 1\n",
      "  mean_f1_score: 0.9734791472331548\n",
      "  node_ip: 192.168.1.39\n",
      "  pid: 57502\n",
      "  std_f1_score: 0.01185560357663588\n",
      "  time_since_restore: 0.2943840026855469\n",
      "  time_this_iter_s: 0.2943840026855469\n",
      "  time_total_s: 0.2943840026855469\n",
      "  timestamp: 1591874305\n",
      "  timesteps_since_restore: 0\n",
      "  training_iteration: 0\n",
      "  trial_id: 00084\n",
      "  \n",
      "\u001b[2m\u001b[36m(pid=57507)\u001b[0m Loading dependencies we have already seen...\n"
     ]
    },
    {
     "name": "stderr",
     "output_type": "stream",
     "text": [
      "2020-06-11 12:18:26,183\tINFO logger.py:269 -- Removed the following hyperparameter values when logging to tensorboard: {'randomforestclassifier__bootstrap': True}\n"
     ]
    },
    {
     "name": "stdout",
     "output_type": "stream",
     "text": [
      "\u001b[2m\u001b[36m(pid=57531)\u001b[0m Done...\n",
      "\u001b[2m\u001b[36m(pid=57531)\u001b[0m 2020-06-11 12:18:26,015\tINFO trainable.py:217 -- Getting current IP.\n",
      "\u001b[2m\u001b[36m(pid=57504)\u001b[0m Loading dependencies we have already seen...\n",
      "Result for e2e_simple_training_00085:\n",
      "  date: 2020-06-11_12-18-26\n",
      "  done: true\n",
      "  experiment_id: 98f264dcddf3441684a17dc49be170d1\n",
      "  experiment_tag: 85_randomforestclassifier__bootstrap=True,randomforestclassifier__criterion=gini,randomforestclassifier__max_features=sqrt,randomforestclassifier__min_samples_leaf=3,randomforestclassifier__min_samples_split=3,randomforestclassifier__n_estimators=9\n",
      "  hostname: cosmos-ml\n",
      "  iterations_since_restore: 1\n",
      "  mean_f1_score: 0.9634545510444792\n",
      "  node_ip: 192.168.1.39\n",
      "  pid: 57531\n",
      "  std_f1_score: 0.015589497456874477\n",
      "  time_since_restore: 0.13493728637695312\n",
      "  time_this_iter_s: 0.13493728637695312\n",
      "  time_total_s: 0.13493728637695312\n",
      "  timestamp: 1591874306\n",
      "  timesteps_since_restore: 0\n",
      "  training_iteration: 0\n",
      "  trial_id: 00085\n",
      "  \n",
      "\u001b[2m\u001b[36m(pid=57521)\u001b[0m 2020-06-11 12:18:26,281\tINFO trainable.py:217 -- Getting current IP.\n",
      "\u001b[2m\u001b[36m(pid=57521)\u001b[0m Done...\n",
      "\u001b[2m\u001b[36m(pid=57506)\u001b[0m Done...\n",
      "\u001b[2m\u001b[36m(pid=57506)\u001b[0m 2020-06-11 12:18:26,472\tINFO trainable.py:217 -- Getting current IP.\n"
     ]
    },
    {
     "name": "stderr",
     "output_type": "stream",
     "text": [
      "2020-06-11 12:18:26,818\tINFO logger.py:269 -- Removed the following hyperparameter values when logging to tensorboard: {'randomforestclassifier__bootstrap': True}\n"
     ]
    },
    {
     "name": "stdout",
     "output_type": "stream",
     "text": [
      "\u001b[2m\u001b[36m(pid=57507)\u001b[0m 2020-06-11 12:18:26,633\tINFO trainable.py:217 -- Getting current IP.\n",
      "\u001b[2m\u001b[36m(pid=57507)\u001b[0m Done...\n",
      "\u001b[2m\u001b[36m(pid=57610)\u001b[0m Loading dependencies we have already seen...\n",
      "Result for e2e_simple_training_00081:\n",
      "  date: 2020-06-11_12-18-26\n",
      "  done: true\n",
      "  experiment_id: 528c8cc240ca49fe8ed03953cb391039\n",
      "  experiment_tag: 81_randomforestclassifier__bootstrap=True,randomforestclassifier__criterion=entropy,randomforestclassifier__max_features=log2,randomforestclassifier__min_samples_leaf=1,randomforestclassifier__min_samples_split=4,randomforestclassifier__n_estimators=136\n",
      "  hostname: cosmos-ml\n",
      "  iterations_since_restore: 1\n",
      "  mean_f1_score: 0.96790351389727\n",
      "  node_ip: 192.168.1.39\n",
      "  pid: 57473\n",
      "  std_f1_score: 0.0164314287031499\n",
      "  time_since_restore: 1.6450412273406982\n",
      "  time_this_iter_s: 1.6450412273406982\n",
      "  time_total_s: 1.6450412273406982\n",
      "  timestamp: 1591874306\n",
      "  timesteps_since_restore: 0\n",
      "  training_iteration: 0\n",
      "  trial_id: 00081\n",
      "  \n",
      "\u001b[2m\u001b[36m(pid=57504)\u001b[0m Done...\n",
      "\u001b[2m\u001b[36m(pid=57504)\u001b[0m 2020-06-11 12:18:26,818\tINFO trainable.py:217 -- Getting current IP.\n",
      "\u001b[2m\u001b[36m(pid=57615)\u001b[0m Loading dependencies we have already seen...\n"
     ]
    },
    {
     "name": "stderr",
     "output_type": "stream",
     "text": [
      "2020-06-11 12:18:27,275\tINFO logger.py:269 -- Removed the following hyperparameter values when logging to tensorboard: {'randomforestclassifier__bootstrap': True}\n",
      "2020-06-11 12:18:27,459\tINFO logger.py:269 -- Removed the following hyperparameter values when logging to tensorboard: {'randomforestclassifier__bootstrap': True}\n"
     ]
    },
    {
     "name": "stdout",
     "output_type": "stream",
     "text": [
      "Result for e2e_simple_training_00088:\n",
      "  date: 2020-06-11_12-18-27\n",
      "  done: true\n",
      "  experiment_id: ee8f1ac04c0449bcaf5aeb573b53d65a\n",
      "  experiment_tag: 88_randomforestclassifier__bootstrap=True,randomforestclassifier__criterion=entropy,randomforestclassifier__max_features=log2,randomforestclassifier__min_samples_leaf=2,randomforestclassifier__min_samples_split=3,randomforestclassifier__n_estimators=60\n",
      "  hostname: cosmos-ml\n",
      "  iterations_since_restore: 1\n",
      "  mean_f1_score: 0.9706606031437209\n",
      "  node_ip: 192.168.1.39\n",
      "  pid: 57507\n",
      "  std_f1_score: 0.017953972998962925\n",
      "  time_since_restore: 0.5994260311126709\n",
      "  time_this_iter_s: 0.5994260311126709\n",
      "  time_total_s: 0.5994260311126709\n",
      "  timestamp: 1591874307\n",
      "  timesteps_since_restore: 0\n",
      "  training_iteration: 0\n",
      "  trial_id: 00088\n",
      "  \n",
      "Result for e2e_simple_training_00089:\n",
      "  date: 2020-06-11_12-18-27\n",
      "  done: true\n",
      "  experiment_id: f2752f75aa8d42baabf5a9a5ab8bc2ab\n",
      "  experiment_tag: 89_randomforestclassifier__bootstrap=True,randomforestclassifier__criterion=gini,randomforestclassifier__max_features=auto,randomforestclassifier__min_samples_leaf=3,randomforestclassifier__min_samples_split=5,randomforestclassifier__n_estimators=58\n",
      "  hostname: cosmos-ml\n",
      "  iterations_since_restore: 1\n",
      "  mean_f1_score: 0.970721364701985\n",
      "  node_ip: 192.168.1.39\n",
      "  pid: 57504\n",
      "  std_f1_score: 0.01735690471548167\n",
      "  time_since_restore: 0.5969018936157227\n",
      "  time_this_iter_s: 0.5969018936157227\n",
      "  time_total_s: 0.5969018936157227\n",
      "  timestamp: 1591874307\n",
      "  timesteps_since_restore: 0\n",
      "  training_iteration: 0\n",
      "  trial_id: 00089\n",
      "  \n",
      "\u001b[2m\u001b[36m(pid=57610)\u001b[0m 2020-06-11 12:18:27,422\tINFO trainable.py:217 -- Getting current IP.\n",
      "\u001b[2m\u001b[36m(pid=57610)\u001b[0m Done...\n"
     ]
    },
    {
     "name": "stderr",
     "output_type": "stream",
     "text": [
      "2020-06-11 12:18:27,598\tINFO logger.py:269 -- Removed the following hyperparameter values when logging to tensorboard: {'randomforestclassifier__bootstrap': False}\n",
      "2020-06-11 12:18:27,693\tINFO logger.py:269 -- Removed the following hyperparameter values when logging to tensorboard: {'randomforestclassifier__bootstrap': False}\n"
     ]
    },
    {
     "name": "stdout",
     "output_type": "stream",
     "text": [
      "\u001b[2m\u001b[36m(pid=57611)\u001b[0m Loading dependencies we have already seen...\n",
      "Result for e2e_simple_training_00086:\n",
      "  date: 2020-06-11_12-18-27\n",
      "  done: true\n",
      "  experiment_id: 235e295390ec4267ad71a3f2419d6ff3\n",
      "  experiment_tag: 86_randomforestclassifier__bootstrap=False,randomforestclassifier__criterion=entropy,randomforestclassifier__max_features=auto,randomforestclassifier__min_samples_leaf=3,randomforestclassifier__min_samples_split=3,randomforestclassifier__n_estimators=110\n",
      "  hostname: cosmos-ml\n",
      "  iterations_since_restore: 1\n",
      "  mean_f1_score: 0.9723129320883211\n",
      "  node_ip: 192.168.1.39\n",
      "  pid: 57521\n",
      "  std_f1_score: 0.00866955265911002\n",
      "  time_since_restore: 1.2580342292785645\n",
      "  time_this_iter_s: 1.2580342292785645\n",
      "  time_total_s: 1.2580342292785645\n",
      "  timestamp: 1591874307\n",
      "  timesteps_since_restore: 0\n",
      "  training_iteration: 0\n",
      "  trial_id: 00086\n",
      "  \n",
      "Result for e2e_simple_training_00087:\n",
      "  date: 2020-06-11_12-18-27\n",
      "  done: true\n",
      "  experiment_id: 76c127101b8848b6ae9ceed7ece94d25\n",
      "  experiment_tag: 87_randomforestclassifier__bootstrap=False,randomforestclassifier__criterion=gini,randomforestclassifier__max_features=auto,randomforestclassifier__min_samples_leaf=2,randomforestclassifier__min_samples_split=3,randomforestclassifier__n_estimators=115\n",
      "  hostname: cosmos-ml\n",
      "  iterations_since_restore: 1\n",
      "  mean_f1_score: 0.9733567802060954\n",
      "  node_ip: 192.168.1.39\n",
      "  pid: 57506\n",
      "  std_f1_score: 0.019212021097605524\n",
      "  time_since_restore: 1.17330002784729\n",
      "  time_this_iter_s: 1.17330002784729\n",
      "  time_total_s: 1.17330002784729\n",
      "  timestamp: 1591874307\n",
      "  timesteps_since_restore: 0\n",
      "  training_iteration: 0\n",
      "  trial_id: 00087\n",
      "  \n",
      "\u001b[2m\u001b[36m(pid=57615)\u001b[0m 2020-06-11 12:18:27,877\tINFO trainable.py:217 -- Getting current IP.\n",
      "\u001b[2m\u001b[36m(pid=57615)\u001b[0m Done...\n"
     ]
    },
    {
     "name": "stderr",
     "output_type": "stream",
     "text": [
      "2020-06-11 12:18:28,151\tINFO logger.py:269 -- Removed the following hyperparameter values when logging to tensorboard: {'randomforestclassifier__bootstrap': True}\n"
     ]
    },
    {
     "name": "stdout",
     "output_type": "stream",
     "text": [
      "Result for e2e_simple_training_00090:\n",
      "  date: 2020-06-11_12-18-28\n",
      "  done: true\n",
      "  experiment_id: 3230d6f933874791a5d0c56733ecdae2\n",
      "  experiment_tag: 90_randomforestclassifier__bootstrap=True,randomforestclassifier__criterion=gini,randomforestclassifier__max_features=log2,randomforestclassifier__min_samples_leaf=2,randomforestclassifier__min_samples_split=3,randomforestclassifier__n_estimators=58\n",
      "  hostname: cosmos-ml\n",
      "  iterations_since_restore: 1\n",
      "  mean_f1_score: 0.9693421883228087\n",
      "  node_ip: 192.168.1.39\n",
      "  pid: 57610\n",
      "  std_f1_score: 0.015728923260512128\n",
      "  time_since_restore: 0.6833148002624512\n",
      "  time_this_iter_s: 0.6833148002624512\n",
      "  time_total_s: 0.6833148002624512\n",
      "  timestamp: 1591874308\n",
      "  timesteps_since_restore: 0\n",
      "  training_iteration: 0\n",
      "  trial_id: 00090\n",
      "  \n",
      "\u001b[2m\u001b[36m(pid=57656)\u001b[0m Loading dependencies we have already seen...\n",
      "\u001b[2m\u001b[36m(pid=57659)\u001b[0m Loading dependencies we have already seen...\n",
      "\u001b[2m\u001b[36m(pid=57661)\u001b[0m Loading dependencies we have already seen...\n",
      "\u001b[2m\u001b[36m(pid=57611)\u001b[0m Done...\n",
      "\u001b[2m\u001b[36m(pid=57611)\u001b[0m 2020-06-11 12:18:28,414\tINFO trainable.py:217 -- Getting current IP.\n",
      "\u001b[2m\u001b[36m(pid=57658)\u001b[0m Loading dependencies we have already seen...\n"
     ]
    },
    {
     "name": "stderr",
     "output_type": "stream",
     "text": [
      "2020-06-11 12:18:29,029\tINFO logger.py:269 -- Removed the following hyperparameter values when logging to tensorboard: {'randomforestclassifier__bootstrap': True}\n"
     ]
    },
    {
     "name": "stdout",
     "output_type": "stream",
     "text": [
      "\u001b[2m\u001b[36m(pid=57656)\u001b[0m 2020-06-11 12:18:28,960\tINFO trainable.py:217 -- Getting current IP.\n",
      "\u001b[2m\u001b[36m(pid=57656)\u001b[0m Done...\n",
      "Result for e2e_simple_training_00092:\n",
      "  date: 2020-06-11_12-18-29\n",
      "  done: true\n",
      "  experiment_id: ab07de84db934119aa56d290cf63d472\n",
      "  experiment_tag: 92_randomforestclassifier__bootstrap=True,randomforestclassifier__criterion=entropy,randomforestclassifier__max_features=sqrt,randomforestclassifier__min_samples_leaf=1,randomforestclassifier__min_samples_split=4,randomforestclassifier__n_estimators=58\n",
      "  hostname: cosmos-ml\n",
      "  iterations_since_restore: 1\n",
      "  mean_f1_score: 0.9693798436816733\n",
      "  node_ip: 192.168.1.39\n",
      "  pid: 57611\n",
      "  std_f1_score: 0.016894267108430457\n",
      "  time_since_restore: 0.5760898590087891\n",
      "  time_this_iter_s: 0.5760898590087891\n",
      "  time_total_s: 0.5760898590087891\n",
      "  timestamp: 1591874309\n",
      "  timesteps_since_restore: 0\n",
      "  training_iteration: 0\n",
      "  trial_id: 00092\n",
      "  \n"
     ]
    },
    {
     "data": {
      "text/html": [
       "== Status ==<br>Memory usage on this node: 7.2/62.8 GiB<br>Using FIFO scheduling algorithm.<br>Resources requested: 5/6 CPUs, 0/0 GPUs, 0.0/34.57 GiB heap, 0.0/11.91 GiB objects<br>Result logdir: /home/steve/ray_results/e2e_simple_training<br>Number of trials: 100 (3 PENDING, 5 RUNNING, 92 TERMINATED)<br><table>\n",
       "<thead>\n",
       "<tr><th>Trial name               </th><th>status    </th><th>loc  </th><th style=\"text-align: right;\">  randomforestclassifier__bootstrap</th><th>randomforestclassifier__criterion  </th><th>randomforestclassifier__max_features  </th><th style=\"text-align: right;\">  randomforestclassifier__min_samples_leaf</th><th style=\"text-align: right;\">  randomforestclassifier__min_samples_split</th><th style=\"text-align: right;\">  randomforestclassifier__n_estimators</th><th style=\"text-align: right;\">  iter</th><th style=\"text-align: right;\">  total time (s)</th></tr>\n",
       "</thead>\n",
       "<tbody>\n",
       "<tr><td>e2e_simple_training_00097</td><td>PENDING   </td><td>     </td><td style=\"text-align: right;\">                                  0</td><td>entropy                            </td><td>log2                                  </td><td style=\"text-align: right;\">                                         1</td><td style=\"text-align: right;\">                                          3</td><td style=\"text-align: right;\">                                   139</td><td style=\"text-align: right;\">      </td><td style=\"text-align: right;\">                </td></tr>\n",
       "<tr><td>e2e_simple_training_00098</td><td>PENDING   </td><td>     </td><td style=\"text-align: right;\">                                  0</td><td>gini                               </td><td>log2                                  </td><td style=\"text-align: right;\">                                         3</td><td style=\"text-align: right;\">                                          5</td><td style=\"text-align: right;\">                                    63</td><td style=\"text-align: right;\">      </td><td style=\"text-align: right;\">                </td></tr>\n",
       "<tr><td>e2e_simple_training_00099</td><td>PENDING   </td><td>     </td><td style=\"text-align: right;\">                                  1</td><td>entropy                            </td><td>sqrt                                  </td><td style=\"text-align: right;\">                                         1</td><td style=\"text-align: right;\">                                          4</td><td style=\"text-align: right;\">                                    82</td><td style=\"text-align: right;\">      </td><td style=\"text-align: right;\">                </td></tr>\n",
       "<tr><td>e2e_simple_training_00091</td><td>RUNNING   </td><td>     </td><td style=\"text-align: right;\">                                  1</td><td>entropy                            </td><td>sqrt                                  </td><td style=\"text-align: right;\">                                         3</td><td style=\"text-align: right;\">                                          3</td><td style=\"text-align: right;\">                                   120</td><td style=\"text-align: right;\">      </td><td style=\"text-align: right;\">                </td></tr>\n",
       "<tr><td>e2e_simple_training_00093</td><td>RUNNING   </td><td>     </td><td style=\"text-align: right;\">                                  0</td><td>entropy                            </td><td>auto                                  </td><td style=\"text-align: right;\">                                         1</td><td style=\"text-align: right;\">                                          3</td><td style=\"text-align: right;\">                                    58</td><td style=\"text-align: right;\">      </td><td style=\"text-align: right;\">                </td></tr>\n",
       "<tr><td>e2e_simple_training_00094</td><td>RUNNING   </td><td>     </td><td style=\"text-align: right;\">                                  1</td><td>gini                               </td><td>sqrt                                  </td><td style=\"text-align: right;\">                                         1</td><td style=\"text-align: right;\">                                          4</td><td style=\"text-align: right;\">                                    30</td><td style=\"text-align: right;\">      </td><td style=\"text-align: right;\">                </td></tr>\n",
       "<tr><td>e2e_simple_training_00095</td><td>RUNNING   </td><td>     </td><td style=\"text-align: right;\">                                  1</td><td>gini                               </td><td>auto                                  </td><td style=\"text-align: right;\">                                         3</td><td style=\"text-align: right;\">                                          3</td><td style=\"text-align: right;\">                                    34</td><td style=\"text-align: right;\">      </td><td style=\"text-align: right;\">                </td></tr>\n",
       "<tr><td>e2e_simple_training_00096</td><td>RUNNING   </td><td>     </td><td style=\"text-align: right;\">                                  1</td><td>entropy                            </td><td>log2                                  </td><td style=\"text-align: right;\">                                         1</td><td style=\"text-align: right;\">                                          4</td><td style=\"text-align: right;\">                                    53</td><td style=\"text-align: right;\">      </td><td style=\"text-align: right;\">                </td></tr>\n",
       "<tr><td>e2e_simple_training_00000</td><td>TERMINATED</td><td>     </td><td style=\"text-align: right;\">                                  1</td><td>entropy                            </td><td>sqrt                                  </td><td style=\"text-align: right;\">                                         2</td><td style=\"text-align: right;\">                                          3</td><td style=\"text-align: right;\">                                    99</td><td style=\"text-align: right;\">     0</td><td style=\"text-align: right;\">        1.07312 </td></tr>\n",
       "<tr><td>e2e_simple_training_00001</td><td>TERMINATED</td><td>     </td><td style=\"text-align: right;\">                                  0</td><td>gini                               </td><td>log2                                  </td><td style=\"text-align: right;\">                                         3</td><td style=\"text-align: right;\">                                          3</td><td style=\"text-align: right;\">                                   134</td><td style=\"text-align: right;\">     0</td><td style=\"text-align: right;\">        1.4125  </td></tr>\n",
       "<tr><td>e2e_simple_training_00002</td><td>TERMINATED</td><td>     </td><td style=\"text-align: right;\">                                  0</td><td>gini                               </td><td>auto                                  </td><td style=\"text-align: right;\">                                         1</td><td style=\"text-align: right;\">                                          3</td><td style=\"text-align: right;\">                                    20</td><td style=\"text-align: right;\">     0</td><td style=\"text-align: right;\">        0.232855</td></tr>\n",
       "<tr><td>e2e_simple_training_00003</td><td>TERMINATED</td><td>     </td><td style=\"text-align: right;\">                                  1</td><td>gini                               </td><td>log2                                  </td><td style=\"text-align: right;\">                                         1</td><td style=\"text-align: right;\">                                          5</td><td style=\"text-align: right;\">                                    65</td><td style=\"text-align: right;\">     0</td><td style=\"text-align: right;\">        0.746565</td></tr>\n",
       "<tr><td>e2e_simple_training_00004</td><td>TERMINATED</td><td>     </td><td style=\"text-align: right;\">                                  1</td><td>entropy                            </td><td>sqrt                                  </td><td style=\"text-align: right;\">                                         2</td><td style=\"text-align: right;\">                                          4</td><td style=\"text-align: right;\">                                    80</td><td style=\"text-align: right;\">     0</td><td style=\"text-align: right;\">        0.899574</td></tr>\n",
       "<tr><td>e2e_simple_training_00005</td><td>TERMINATED</td><td>     </td><td style=\"text-align: right;\">                                  0</td><td>entropy                            </td><td>log2                                  </td><td style=\"text-align: right;\">                                         2</td><td style=\"text-align: right;\">                                          5</td><td style=\"text-align: right;\">                                    41</td><td style=\"text-align: right;\">     0</td><td style=\"text-align: right;\">        0.395278</td></tr>\n",
       "<tr><td>e2e_simple_training_00006</td><td>TERMINATED</td><td>     </td><td style=\"text-align: right;\">                                  1</td><td>gini                               </td><td>sqrt                                  </td><td style=\"text-align: right;\">                                         3</td><td style=\"text-align: right;\">                                          3</td><td style=\"text-align: right;\">                                    43</td><td style=\"text-align: right;\">     0</td><td style=\"text-align: right;\">        0.398493</td></tr>\n",
       "<tr><td>e2e_simple_training_00007</td><td>TERMINATED</td><td>     </td><td style=\"text-align: right;\">                                  1</td><td>gini                               </td><td>sqrt                                  </td><td style=\"text-align: right;\">                                         1</td><td style=\"text-align: right;\">                                          5</td><td style=\"text-align: right;\">                                    37</td><td style=\"text-align: right;\">     0</td><td style=\"text-align: right;\">        0.422944</td></tr>\n",
       "<tr><td>e2e_simple_training_00008</td><td>TERMINATED</td><td>     </td><td style=\"text-align: right;\">                                  1</td><td>entropy                            </td><td>auto                                  </td><td style=\"text-align: right;\">                                         2</td><td style=\"text-align: right;\">                                          3</td><td style=\"text-align: right;\">                                    23</td><td style=\"text-align: right;\">     0</td><td style=\"text-align: right;\">        0.273911</td></tr>\n",
       "<tr><td>e2e_simple_training_00009</td><td>TERMINATED</td><td>     </td><td style=\"text-align: right;\">                                  0</td><td>gini                               </td><td>sqrt                                  </td><td style=\"text-align: right;\">                                         1</td><td style=\"text-align: right;\">                                          3</td><td style=\"text-align: right;\">                                    18</td><td style=\"text-align: right;\">     0</td><td style=\"text-align: right;\">        0.219231</td></tr>\n",
       "<tr><td>e2e_simple_training_00010</td><td>TERMINATED</td><td>     </td><td style=\"text-align: right;\">                                  0</td><td>gini                               </td><td>auto                                  </td><td style=\"text-align: right;\">                                         1</td><td style=\"text-align: right;\">                                          3</td><td style=\"text-align: right;\">                                   148</td><td style=\"text-align: right;\">     0</td><td style=\"text-align: right;\">        1.6314  </td></tr>\n",
       "<tr><td>e2e_simple_training_00011</td><td>TERMINATED</td><td>     </td><td style=\"text-align: right;\">                                  0</td><td>entropy                            </td><td>log2                                  </td><td style=\"text-align: right;\">                                         1</td><td style=\"text-align: right;\">                                          3</td><td style=\"text-align: right;\">                                    84</td><td style=\"text-align: right;\">     0</td><td style=\"text-align: right;\">        0.860872</td></tr>\n",
       "</tbody>\n",
       "</table><br>... 80 more trials not shown (80 TERMINATED)<br><br>"
      ],
      "text/plain": [
       "<IPython.core.display.HTML object>"
      ]
     },
     "metadata": {},
     "output_type": "display_data"
    },
    {
     "name": "stdout",
     "output_type": "stream",
     "text": [
      "\u001b[2m\u001b[36m(pid=57661)\u001b[0m Done...\n",
      "\u001b[2m\u001b[36m(pid=57661)\u001b[0m 2020-06-11 12:18:29,022\tINFO trainable.py:217 -- Getting current IP.\n",
      "\u001b[2m\u001b[36m(pid=57659)\u001b[0m 2020-06-11 12:18:29,071\tINFO trainable.py:217 -- Getting current IP.\n",
      "\u001b[2m\u001b[36m(pid=57659)\u001b[0m Done...\n"
     ]
    },
    {
     "name": "stderr",
     "output_type": "stream",
     "text": [
      "2020-06-11 12:18:29,377\tINFO logger.py:269 -- Removed the following hyperparameter values when logging to tensorboard: {'randomforestclassifier__bootstrap': True}\n",
      "2020-06-11 12:18:29,513\tINFO logger.py:269 -- Removed the following hyperparameter values when logging to tensorboard: {'randomforestclassifier__bootstrap': True}\n",
      "2020-06-11 12:18:29,527\tWARNING import_thread.py:126 -- The actor 'WrappedTrackFunc' has been exported 100 times. It's possible that this warning is accidental, but this may indicate that the same remote function is being defined repeatedly from within many tasks and exported to all of the workers. This can be a performance issue and can be resolved by defining the remote function on the driver instead. See https://github.com/ray-project/ray/issues/6240 for more discussion.\n"
     ]
    },
    {
     "name": "stdout",
     "output_type": "stream",
     "text": [
      "\u001b[2m\u001b[36m(pid=57689)\u001b[0m Loading dependencies we have already seen...\n",
      "Result for e2e_simple_training_00091:\n",
      "  date: 2020-06-11_12-18-29\n",
      "  done: true\n",
      "  experiment_id: 9ccbbdc32a78455290c1cd1248c97267\n",
      "  experiment_tag: 91_randomforestclassifier__bootstrap=True,randomforestclassifier__criterion=entropy,randomforestclassifier__max_features=sqrt,randomforestclassifier__min_samples_leaf=3,randomforestclassifier__min_samples_split=3,randomforestclassifier__n_estimators=120\n",
      "  hostname: cosmos-ml\n",
      "  iterations_since_restore: 1\n",
      "  mean_f1_score: 0.9735969368373715\n",
      "  node_ip: 192.168.1.39\n",
      "  pid: 57615\n",
      "  std_f1_score: 0.0160032139949415\n",
      "  time_since_restore: 1.4459326267242432\n",
      "  time_this_iter_s: 1.4459326267242432\n",
      "  time_total_s: 1.4459326267242432\n",
      "  timestamp: 1591874309\n",
      "  timesteps_since_restore: 0\n",
      "  training_iteration: 0\n",
      "  trial_id: 00091\n",
      "  \n",
      "\u001b[2m\u001b[36m(pid=57658)\u001b[0m 2020-06-11 12:18:29,328\tINFO trainable.py:217 -- Getting current IP.\n",
      "\u001b[2m\u001b[36m(pid=57658)\u001b[0m Done...\n",
      "Result for e2e_simple_training_00094:\n",
      "  date: 2020-06-11_12-18-29\n",
      "  done: true\n",
      "  experiment_id: f47e30a3c7b04fd6b59a29901015fbbb\n",
      "  experiment_tag: 94_randomforestclassifier__bootstrap=True,randomforestclassifier__criterion=gini,randomforestclassifier__max_features=sqrt,randomforestclassifier__min_samples_leaf=1,randomforestclassifier__min_samples_split=4,randomforestclassifier__n_estimators=30\n",
      "  hostname: cosmos-ml\n",
      "  iterations_since_restore: 1\n",
      "  mean_f1_score: 0.9708359881719186\n",
      "  node_ip: 192.168.1.39\n",
      "  pid: 57659\n",
      "  std_f1_score: 0.020296086077722177\n",
      "  time_since_restore: 0.40695858001708984\n",
      "  time_this_iter_s: 0.40695858001708984\n",
      "  time_total_s: 0.40695858001708984\n",
      "  timestamp: 1591874309\n",
      "  timesteps_since_restore: 0\n",
      "  training_iteration: 0\n",
      "  trial_id: 00094\n",
      "  \n"
     ]
    },
    {
     "name": "stderr",
     "output_type": "stream",
     "text": [
      "2020-06-11 12:18:29,535\tINFO logger.py:269 -- Removed the following hyperparameter values when logging to tensorboard: {'randomforestclassifier__bootstrap': True}\n",
      "2020-06-11 12:18:29,727\tINFO logger.py:269 -- Removed the following hyperparameter values when logging to tensorboard: {'randomforestclassifier__bootstrap': False}\n"
     ]
    },
    {
     "name": "stdout",
     "output_type": "stream",
     "text": [
      "Result for e2e_simple_training_00095:\n",
      "  date: 2020-06-11_12-18-29\n",
      "  done: true\n",
      "  experiment_id: eef8f1be708644bca2fa5d31502211c3\n",
      "  experiment_tag: 95_randomforestclassifier__bootstrap=True,randomforestclassifier__criterion=gini,randomforestclassifier__max_features=auto,randomforestclassifier__min_samples_leaf=3,randomforestclassifier__min_samples_split=3,randomforestclassifier__n_estimators=34\n",
      "  hostname: cosmos-ml\n",
      "  iterations_since_restore: 1\n",
      "  mean_f1_score: 0.9721987605455782\n",
      "  node_ip: 192.168.1.39\n",
      "  pid: 57661\n",
      "  std_f1_score: 0.015167005838379682\n",
      "  time_since_restore: 0.45009851455688477\n",
      "  time_this_iter_s: 0.45009851455688477\n",
      "  time_total_s: 0.45009851455688477\n",
      "  timestamp: 1591874309\n",
      "  timesteps_since_restore: 0\n",
      "  training_iteration: 0\n",
      "  trial_id: 00095\n",
      "  \n",
      "Result for e2e_simple_training_00093:\n",
      "  date: 2020-06-11_12-18-29\n",
      "  done: true\n",
      "  experiment_id: 285c9abade394f75ba924bfee0cd8ad8\n",
      "  experiment_tag: 93_randomforestclassifier__bootstrap=False,randomforestclassifier__criterion=entropy,randomforestclassifier__max_features=auto,randomforestclassifier__min_samples_leaf=1,randomforestclassifier__min_samples_split=3,randomforestclassifier__n_estimators=58\n",
      "  hostname: cosmos-ml\n",
      "  iterations_since_restore: 1\n",
      "  mean_f1_score: 0.9777340922583619\n",
      "  node_ip: 192.168.1.39\n",
      "  pid: 57656\n",
      "  std_f1_score: 0.00918465633478364\n",
      "  time_since_restore: 0.7063581943511963\n",
      "  time_this_iter_s: 0.7063581943511963\n",
      "  time_total_s: 0.7063581943511963\n",
      "  timestamp: 1591874309\n",
      "  timesteps_since_restore: 0\n",
      "  training_iteration: 0\n",
      "  trial_id: 00093\n",
      "  \n",
      "\u001b[2m\u001b[36m(pid=57676)\u001b[0m Loading dependencies we have already seen...\n",
      "\u001b[2m\u001b[36m(pid=57663)\u001b[0m Loading dependencies we have already seen...\n"
     ]
    },
    {
     "name": "stderr",
     "output_type": "stream",
     "text": [
      "2020-06-11 12:18:30,013\tINFO logger.py:269 -- Removed the following hyperparameter values when logging to tensorboard: {'randomforestclassifier__bootstrap': True}\n"
     ]
    },
    {
     "name": "stdout",
     "output_type": "stream",
     "text": [
      "Result for e2e_simple_training_00096:\n",
      "  date: 2020-06-11_12-18-30\n",
      "  done: true\n",
      "  experiment_id: bf9bff5012bc4a98968ba48032ec2287\n",
      "  experiment_tag: 96_randomforestclassifier__bootstrap=True,randomforestclassifier__criterion=entropy,randomforestclassifier__max_features=log2,randomforestclassifier__min_samples_leaf=1,randomforestclassifier__min_samples_split=4,randomforestclassifier__n_estimators=53\n",
      "  hostname: cosmos-ml\n",
      "  iterations_since_restore: 1\n",
      "  mean_f1_score: 0.9692826902764464\n",
      "  node_ip: 192.168.1.39\n",
      "  pid: 57658\n",
      "  std_f1_score: 0.018105892277487594\n",
      "  time_since_restore: 0.6259458065032959\n",
      "  time_this_iter_s: 0.6259458065032959\n",
      "  time_total_s: 0.6259458065032959\n",
      "  timestamp: 1591874310\n",
      "  timesteps_since_restore: 0\n",
      "  training_iteration: 0\n",
      "  trial_id: 00096\n",
      "  \n",
      "\u001b[2m\u001b[36m(pid=57689)\u001b[0m 2020-06-11 12:18:30,054\tINFO trainable.py:217 -- Getting current IP.\n",
      "\u001b[2m\u001b[36m(pid=57689)\u001b[0m Done...\n",
      "\u001b[2m\u001b[36m(pid=57676)\u001b[0m Done...\n",
      "\u001b[2m\u001b[36m(pid=57676)\u001b[0m 2020-06-11 12:18:30,391\tINFO trainable.py:217 -- Getting current IP.\n",
      "\u001b[2m\u001b[36m(pid=57663)\u001b[0m Done...\n",
      "\u001b[2m\u001b[36m(pid=57663)\u001b[0m 2020-06-11 12:18:30,471\tINFO trainable.py:217 -- Getting current IP.\n"
     ]
    },
    {
     "name": "stderr",
     "output_type": "stream",
     "text": [
      "2020-06-11 12:18:30,976\tINFO logger.py:269 -- Removed the following hyperparameter values when logging to tensorboard: {'randomforestclassifier__bootstrap': False}\n"
     ]
    },
    {
     "name": "stdout",
     "output_type": "stream",
     "text": [
      "Result for e2e_simple_training_00098:\n",
      "  date: 2020-06-11_12-18-30\n",
      "  done: true\n",
      "  experiment_id: e725636b32084afbbd52c383a67c501c\n",
      "  experiment_tag: 98_randomforestclassifier__bootstrap=False,randomforestclassifier__criterion=gini,randomforestclassifier__max_features=log2,randomforestclassifier__min_samples_leaf=3,randomforestclassifier__min_samples_split=5,randomforestclassifier__n_estimators=63\n",
      "  hostname: cosmos-ml\n",
      "  iterations_since_restore: 1\n",
      "  mean_f1_score: 0.9666132630601764\n",
      "  node_ip: 192.168.1.39\n",
      "  pid: 57676\n",
      "  std_f1_score: 0.012804287747651058\n",
      "  time_since_restore: 0.5411720275878906\n",
      "  time_this_iter_s: 0.5411720275878906\n",
      "  time_total_s: 0.5411720275878906\n",
      "  timestamp: 1591874310\n",
      "  timesteps_since_restore: 0\n",
      "  training_iteration: 0\n",
      "  trial_id: 00098\n",
      "  \n"
     ]
    },
    {
     "name": "stderr",
     "output_type": "stream",
     "text": [
      "2020-06-11 12:18:31,269\tINFO logger.py:269 -- Removed the following hyperparameter values when logging to tensorboard: {'randomforestclassifier__bootstrap': True}\n",
      "2020-06-11 12:18:31,334\tINFO logger.py:269 -- Removed the following hyperparameter values when logging to tensorboard: {'randomforestclassifier__bootstrap': False}\n"
     ]
    },
    {
     "name": "stdout",
     "output_type": "stream",
     "text": [
      "Result for e2e_simple_training_00099:\n",
      "  date: 2020-06-11_12-18-31\n",
      "  done: true\n",
      "  experiment_id: c231548928954b91910746f06ba1798f\n",
      "  experiment_tag: 99_randomforestclassifier__bootstrap=True,randomforestclassifier__criterion=entropy,randomforestclassifier__max_features=sqrt,randomforestclassifier__min_samples_leaf=1,randomforestclassifier__min_samples_split=4,randomforestclassifier__n_estimators=82\n",
      "  hostname: cosmos-ml\n",
      "  iterations_since_restore: 1\n",
      "  mean_f1_score: 0.9678256345587564\n",
      "  node_ip: 192.168.1.39\n",
      "  pid: 57663\n",
      "  std_f1_score: 0.018332260059903033\n",
      "  time_since_restore: 0.769789457321167\n",
      "  time_this_iter_s: 0.769789457321167\n",
      "  time_total_s: 0.769789457321167\n",
      "  timestamp: 1591874311\n",
      "  timesteps_since_restore: 0\n",
      "  training_iteration: 0\n",
      "  trial_id: 00099\n",
      "  \n",
      "Result for e2e_simple_training_00097:\n",
      "  date: 2020-06-11_12-18-31\n",
      "  done: true\n",
      "  experiment_id: c318ac5fb98a424d89fefff941d9689f\n",
      "  experiment_tag: 97_randomforestclassifier__bootstrap=False,randomforestclassifier__criterion=entropy,randomforestclassifier__max_features=log2,randomforestclassifier__min_samples_leaf=1,randomforestclassifier__min_samples_split=3,randomforestclassifier__n_estimators=139\n",
      "  hostname: cosmos-ml\n",
      "  iterations_since_restore: 1\n",
      "  mean_f1_score: 0.9749195919107174\n",
      "  node_ip: 192.168.1.39\n",
      "  pid: 57689\n",
      "  std_f1_score: 0.015029169150640091\n",
      "  time_since_restore: 1.242722511291504\n",
      "  time_this_iter_s: 1.242722511291504\n",
      "  time_total_s: 1.242722511291504\n",
      "  timestamp: 1591874311\n",
      "  timesteps_since_restore: 0\n",
      "  training_iteration: 0\n",
      "  trial_id: 00097\n",
      "  \n"
     ]
    },
    {
     "data": {
      "text/html": [
       "== Status ==<br>Memory usage on this node: 6.7/62.8 GiB<br>Using FIFO scheduling algorithm.<br>Resources requested: 0/6 CPUs, 0/0 GPUs, 0.0/34.57 GiB heap, 0.0/11.91 GiB objects<br>Result logdir: /home/steve/ray_results/e2e_simple_training<br>Number of trials: 100 (100 TERMINATED)<br><table>\n",
       "<thead>\n",
       "<tr><th>Trial name               </th><th>status    </th><th>loc  </th><th style=\"text-align: right;\">  randomforestclassifier__bootstrap</th><th>randomforestclassifier__criterion  </th><th>randomforestclassifier__max_features  </th><th style=\"text-align: right;\">  randomforestclassifier__min_samples_leaf</th><th style=\"text-align: right;\">  randomforestclassifier__min_samples_split</th><th style=\"text-align: right;\">  randomforestclassifier__n_estimators</th><th style=\"text-align: right;\">  iter</th><th style=\"text-align: right;\">  total time (s)</th></tr>\n",
       "</thead>\n",
       "<tbody>\n",
       "<tr><td>e2e_simple_training_00000</td><td>TERMINATED</td><td>     </td><td style=\"text-align: right;\">                                  1</td><td>entropy                            </td><td>sqrt                                  </td><td style=\"text-align: right;\">                                         2</td><td style=\"text-align: right;\">                                          3</td><td style=\"text-align: right;\">                                    99</td><td style=\"text-align: right;\">     0</td><td style=\"text-align: right;\">       1.07312  </td></tr>\n",
       "<tr><td>e2e_simple_training_00001</td><td>TERMINATED</td><td>     </td><td style=\"text-align: right;\">                                  0</td><td>gini                               </td><td>log2                                  </td><td style=\"text-align: right;\">                                         3</td><td style=\"text-align: right;\">                                          3</td><td style=\"text-align: right;\">                                   134</td><td style=\"text-align: right;\">     0</td><td style=\"text-align: right;\">       1.4125   </td></tr>\n",
       "<tr><td>e2e_simple_training_00002</td><td>TERMINATED</td><td>     </td><td style=\"text-align: right;\">                                  0</td><td>gini                               </td><td>auto                                  </td><td style=\"text-align: right;\">                                         1</td><td style=\"text-align: right;\">                                          3</td><td style=\"text-align: right;\">                                    20</td><td style=\"text-align: right;\">     0</td><td style=\"text-align: right;\">       0.232855 </td></tr>\n",
       "<tr><td>e2e_simple_training_00003</td><td>TERMINATED</td><td>     </td><td style=\"text-align: right;\">                                  1</td><td>gini                               </td><td>log2                                  </td><td style=\"text-align: right;\">                                         1</td><td style=\"text-align: right;\">                                          5</td><td style=\"text-align: right;\">                                    65</td><td style=\"text-align: right;\">     0</td><td style=\"text-align: right;\">       0.746565 </td></tr>\n",
       "<tr><td>e2e_simple_training_00004</td><td>TERMINATED</td><td>     </td><td style=\"text-align: right;\">                                  1</td><td>entropy                            </td><td>sqrt                                  </td><td style=\"text-align: right;\">                                         2</td><td style=\"text-align: right;\">                                          4</td><td style=\"text-align: right;\">                                    80</td><td style=\"text-align: right;\">     0</td><td style=\"text-align: right;\">       0.899574 </td></tr>\n",
       "<tr><td>e2e_simple_training_00005</td><td>TERMINATED</td><td>     </td><td style=\"text-align: right;\">                                  0</td><td>entropy                            </td><td>log2                                  </td><td style=\"text-align: right;\">                                         2</td><td style=\"text-align: right;\">                                          5</td><td style=\"text-align: right;\">                                    41</td><td style=\"text-align: right;\">     0</td><td style=\"text-align: right;\">       0.395278 </td></tr>\n",
       "<tr><td>e2e_simple_training_00006</td><td>TERMINATED</td><td>     </td><td style=\"text-align: right;\">                                  1</td><td>gini                               </td><td>sqrt                                  </td><td style=\"text-align: right;\">                                         3</td><td style=\"text-align: right;\">                                          3</td><td style=\"text-align: right;\">                                    43</td><td style=\"text-align: right;\">     0</td><td style=\"text-align: right;\">       0.398493 </td></tr>\n",
       "<tr><td>e2e_simple_training_00007</td><td>TERMINATED</td><td>     </td><td style=\"text-align: right;\">                                  1</td><td>gini                               </td><td>sqrt                                  </td><td style=\"text-align: right;\">                                         1</td><td style=\"text-align: right;\">                                          5</td><td style=\"text-align: right;\">                                    37</td><td style=\"text-align: right;\">     0</td><td style=\"text-align: right;\">       0.422944 </td></tr>\n",
       "<tr><td>e2e_simple_training_00008</td><td>TERMINATED</td><td>     </td><td style=\"text-align: right;\">                                  1</td><td>entropy                            </td><td>auto                                  </td><td style=\"text-align: right;\">                                         2</td><td style=\"text-align: right;\">                                          3</td><td style=\"text-align: right;\">                                    23</td><td style=\"text-align: right;\">     0</td><td style=\"text-align: right;\">       0.273911 </td></tr>\n",
       "<tr><td>e2e_simple_training_00009</td><td>TERMINATED</td><td>     </td><td style=\"text-align: right;\">                                  0</td><td>gini                               </td><td>sqrt                                  </td><td style=\"text-align: right;\">                                         1</td><td style=\"text-align: right;\">                                          3</td><td style=\"text-align: right;\">                                    18</td><td style=\"text-align: right;\">     0</td><td style=\"text-align: right;\">       0.219231 </td></tr>\n",
       "<tr><td>e2e_simple_training_00010</td><td>TERMINATED</td><td>     </td><td style=\"text-align: right;\">                                  0</td><td>gini                               </td><td>auto                                  </td><td style=\"text-align: right;\">                                         1</td><td style=\"text-align: right;\">                                          3</td><td style=\"text-align: right;\">                                   148</td><td style=\"text-align: right;\">     0</td><td style=\"text-align: right;\">       1.6314   </td></tr>\n",
       "<tr><td>e2e_simple_training_00011</td><td>TERMINATED</td><td>     </td><td style=\"text-align: right;\">                                  0</td><td>entropy                            </td><td>log2                                  </td><td style=\"text-align: right;\">                                         1</td><td style=\"text-align: right;\">                                          3</td><td style=\"text-align: right;\">                                    84</td><td style=\"text-align: right;\">     0</td><td style=\"text-align: right;\">       0.860872 </td></tr>\n",
       "<tr><td>e2e_simple_training_00012</td><td>TERMINATED</td><td>     </td><td style=\"text-align: right;\">                                  0</td><td>gini                               </td><td>log2                                  </td><td style=\"text-align: right;\">                                         1</td><td style=\"text-align: right;\">                                          4</td><td style=\"text-align: right;\">                                     2</td><td style=\"text-align: right;\">     0</td><td style=\"text-align: right;\">       0.0597792</td></tr>\n",
       "<tr><td>e2e_simple_training_00013</td><td>TERMINATED</td><td>     </td><td style=\"text-align: right;\">                                  1</td><td>gini                               </td><td>auto                                  </td><td style=\"text-align: right;\">                                         2</td><td style=\"text-align: right;\">                                          4</td><td style=\"text-align: right;\">                                    90</td><td style=\"text-align: right;\">     0</td><td style=\"text-align: right;\">       1.06534  </td></tr>\n",
       "<tr><td>e2e_simple_training_00014</td><td>TERMINATED</td><td>     </td><td style=\"text-align: right;\">                                  1</td><td>entropy                            </td><td>auto                                  </td><td style=\"text-align: right;\">                                         3</td><td style=\"text-align: right;\">                                          3</td><td style=\"text-align: right;\">                                    82</td><td style=\"text-align: right;\">     0</td><td style=\"text-align: right;\">       1.00582  </td></tr>\n",
       "<tr><td>e2e_simple_training_00015</td><td>TERMINATED</td><td>     </td><td style=\"text-align: right;\">                                  0</td><td>gini                               </td><td>log2                                  </td><td style=\"text-align: right;\">                                         3</td><td style=\"text-align: right;\">                                          5</td><td style=\"text-align: right;\">                                   102</td><td style=\"text-align: right;\">     0</td><td style=\"text-align: right;\">       1.01098  </td></tr>\n",
       "<tr><td>e2e_simple_training_00016</td><td>TERMINATED</td><td>     </td><td style=\"text-align: right;\">                                  1</td><td>gini                               </td><td>log2                                  </td><td style=\"text-align: right;\">                                         1</td><td style=\"text-align: right;\">                                          5</td><td style=\"text-align: right;\">                                    49</td><td style=\"text-align: right;\">     0</td><td style=\"text-align: right;\">       0.531254 </td></tr>\n",
       "<tr><td>e2e_simple_training_00017</td><td>TERMINATED</td><td>     </td><td style=\"text-align: right;\">                                  0</td><td>gini                               </td><td>sqrt                                  </td><td style=\"text-align: right;\">                                         3</td><td style=\"text-align: right;\">                                          4</td><td style=\"text-align: right;\">                                    32</td><td style=\"text-align: right;\">     0</td><td style=\"text-align: right;\">       0.335337 </td></tr>\n",
       "<tr><td>e2e_simple_training_00018</td><td>TERMINATED</td><td>     </td><td style=\"text-align: right;\">                                  0</td><td>entropy                            </td><td>auto                                  </td><td style=\"text-align: right;\">                                         1</td><td style=\"text-align: right;\">                                          4</td><td style=\"text-align: right;\">                                    52</td><td style=\"text-align: right;\">     0</td><td style=\"text-align: right;\">       0.680773 </td></tr>\n",
       "<tr><td>e2e_simple_training_00019</td><td>TERMINATED</td><td>     </td><td style=\"text-align: right;\">                                  0</td><td>entropy                            </td><td>sqrt                                  </td><td style=\"text-align: right;\">                                         1</td><td style=\"text-align: right;\">                                          3</td><td style=\"text-align: right;\">                                    90</td><td style=\"text-align: right;\">     0</td><td style=\"text-align: right;\">       1.00366  </td></tr>\n",
       "<tr><td>e2e_simple_training_00020</td><td>TERMINATED</td><td>     </td><td style=\"text-align: right;\">                                  0</td><td>entropy                            </td><td>log2                                  </td><td style=\"text-align: right;\">                                         2</td><td style=\"text-align: right;\">                                          3</td><td style=\"text-align: right;\">                                    99</td><td style=\"text-align: right;\">     0</td><td style=\"text-align: right;\">       1.01031  </td></tr>\n",
       "<tr><td>e2e_simple_training_00021</td><td>TERMINATED</td><td>     </td><td style=\"text-align: right;\">                                  0</td><td>entropy                            </td><td>sqrt                                  </td><td style=\"text-align: right;\">                                         3</td><td style=\"text-align: right;\">                                          4</td><td style=\"text-align: right;\">                                   142</td><td style=\"text-align: right;\">     0</td><td style=\"text-align: right;\">       1.56179  </td></tr>\n",
       "<tr><td>e2e_simple_training_00022</td><td>TERMINATED</td><td>     </td><td style=\"text-align: right;\">                                  0</td><td>entropy                            </td><td>auto                                  </td><td style=\"text-align: right;\">                                         1</td><td style=\"text-align: right;\">                                          5</td><td style=\"text-align: right;\">                                    71</td><td style=\"text-align: right;\">     0</td><td style=\"text-align: right;\">       0.745864 </td></tr>\n",
       "<tr><td>e2e_simple_training_00023</td><td>TERMINATED</td><td>     </td><td style=\"text-align: right;\">                                  1</td><td>gini                               </td><td>auto                                  </td><td style=\"text-align: right;\">                                         2</td><td style=\"text-align: right;\">                                          3</td><td style=\"text-align: right;\">                                    52</td><td style=\"text-align: right;\">     0</td><td style=\"text-align: right;\">       0.582301 </td></tr>\n",
       "<tr><td>e2e_simple_training_00024</td><td>TERMINATED</td><td>     </td><td style=\"text-align: right;\">                                  0</td><td>entropy                            </td><td>auto                                  </td><td style=\"text-align: right;\">                                         1</td><td style=\"text-align: right;\">                                          3</td><td style=\"text-align: right;\">                                   117</td><td style=\"text-align: right;\">     0</td><td style=\"text-align: right;\">       1.36559  </td></tr>\n",
       "<tr><td>e2e_simple_training_00025</td><td>TERMINATED</td><td>     </td><td style=\"text-align: right;\">                                  0</td><td>gini                               </td><td>auto                                  </td><td style=\"text-align: right;\">                                         1</td><td style=\"text-align: right;\">                                          4</td><td style=\"text-align: right;\">                                    11</td><td style=\"text-align: right;\">     0</td><td style=\"text-align: right;\">       0.160371 </td></tr>\n",
       "<tr><td>e2e_simple_training_00026</td><td>TERMINATED</td><td>     </td><td style=\"text-align: right;\">                                  0</td><td>gini                               </td><td>sqrt                                  </td><td style=\"text-align: right;\">                                         3</td><td style=\"text-align: right;\">                                          3</td><td style=\"text-align: right;\">                                    29</td><td style=\"text-align: right;\">     0</td><td style=\"text-align: right;\">       0.37797  </td></tr>\n",
       "<tr><td>e2e_simple_training_00027</td><td>TERMINATED</td><td>     </td><td style=\"text-align: right;\">                                  1</td><td>gini                               </td><td>log2                                  </td><td style=\"text-align: right;\">                                         2</td><td style=\"text-align: right;\">                                          5</td><td style=\"text-align: right;\">                                   133</td><td style=\"text-align: right;\">     0</td><td style=\"text-align: right;\">       1.23314  </td></tr>\n",
       "<tr><td>e2e_simple_training_00028</td><td>TERMINATED</td><td>     </td><td style=\"text-align: right;\">                                  1</td><td>entropy                            </td><td>sqrt                                  </td><td style=\"text-align: right;\">                                         1</td><td style=\"text-align: right;\">                                          5</td><td style=\"text-align: right;\">                                    16</td><td style=\"text-align: right;\">     0</td><td style=\"text-align: right;\">       0.207921 </td></tr>\n",
       "<tr><td>e2e_simple_training_00029</td><td>TERMINATED</td><td>     </td><td style=\"text-align: right;\">                                  0</td><td>entropy                            </td><td>log2                                  </td><td style=\"text-align: right;\">                                         2</td><td style=\"text-align: right;\">                                          4</td><td style=\"text-align: right;\">                                    29</td><td style=\"text-align: right;\">     0</td><td style=\"text-align: right;\">       0.366005 </td></tr>\n",
       "<tr><td>e2e_simple_training_00030</td><td>TERMINATED</td><td>     </td><td style=\"text-align: right;\">                                  0</td><td>entropy                            </td><td>log2                                  </td><td style=\"text-align: right;\">                                         2</td><td style=\"text-align: right;\">                                          3</td><td style=\"text-align: right;\">                                    55</td><td style=\"text-align: right;\">     0</td><td style=\"text-align: right;\">       0.548953 </td></tr>\n",
       "<tr><td>e2e_simple_training_00031</td><td>TERMINATED</td><td>     </td><td style=\"text-align: right;\">                                  0</td><td>entropy                            </td><td>sqrt                                  </td><td style=\"text-align: right;\">                                         1</td><td style=\"text-align: right;\">                                          5</td><td style=\"text-align: right;\">                                    27</td><td style=\"text-align: right;\">     0</td><td style=\"text-align: right;\">       0.341144 </td></tr>\n",
       "<tr><td>e2e_simple_training_00032</td><td>TERMINATED</td><td>     </td><td style=\"text-align: right;\">                                  1</td><td>gini                               </td><td>log2                                  </td><td style=\"text-align: right;\">                                         3</td><td style=\"text-align: right;\">                                          3</td><td style=\"text-align: right;\">                                    79</td><td style=\"text-align: right;\">     0</td><td style=\"text-align: right;\">       0.843451 </td></tr>\n",
       "<tr><td>e2e_simple_training_00033</td><td>TERMINATED</td><td>     </td><td style=\"text-align: right;\">                                  1</td><td>entropy                            </td><td>auto                                  </td><td style=\"text-align: right;\">                                         3</td><td style=\"text-align: right;\">                                          3</td><td style=\"text-align: right;\">                                    20</td><td style=\"text-align: right;\">     0</td><td style=\"text-align: right;\">       0.291193 </td></tr>\n",
       "<tr><td>e2e_simple_training_00034</td><td>TERMINATED</td><td>     </td><td style=\"text-align: right;\">                                  1</td><td>gini                               </td><td>sqrt                                  </td><td style=\"text-align: right;\">                                         2</td><td style=\"text-align: right;\">                                          5</td><td style=\"text-align: right;\">                                   119</td><td style=\"text-align: right;\">     0</td><td style=\"text-align: right;\">       1.09624  </td></tr>\n",
       "<tr><td>e2e_simple_training_00035</td><td>TERMINATED</td><td>     </td><td style=\"text-align: right;\">                                  0</td><td>entropy                            </td><td>sqrt                                  </td><td style=\"text-align: right;\">                                         1</td><td style=\"text-align: right;\">                                          3</td><td style=\"text-align: right;\">                                   117</td><td style=\"text-align: right;\">     0</td><td style=\"text-align: right;\">       1.22271  </td></tr>\n",
       "<tr><td>e2e_simple_training_00036</td><td>TERMINATED</td><td>     </td><td style=\"text-align: right;\">                                  1</td><td>gini                               </td><td>log2                                  </td><td style=\"text-align: right;\">                                         1</td><td style=\"text-align: right;\">                                          3</td><td style=\"text-align: right;\">                                    13</td><td style=\"text-align: right;\">     0</td><td style=\"text-align: right;\">       0.15148  </td></tr>\n",
       "<tr><td>e2e_simple_training_00037</td><td>TERMINATED</td><td>     </td><td style=\"text-align: right;\">                                  1</td><td>entropy                            </td><td>auto                                  </td><td style=\"text-align: right;\">                                         2</td><td style=\"text-align: right;\">                                          5</td><td style=\"text-align: right;\">                                   129</td><td style=\"text-align: right;\">     0</td><td style=\"text-align: right;\">       1.47879  </td></tr>\n",
       "<tr><td>e2e_simple_training_00038</td><td>TERMINATED</td><td>     </td><td style=\"text-align: right;\">                                  1</td><td>entropy                            </td><td>log2                                  </td><td style=\"text-align: right;\">                                         2</td><td style=\"text-align: right;\">                                          5</td><td style=\"text-align: right;\">                                   115</td><td style=\"text-align: right;\">     0</td><td style=\"text-align: right;\">       1.30605  </td></tr>\n",
       "<tr><td>e2e_simple_training_00039</td><td>TERMINATED</td><td>     </td><td style=\"text-align: right;\">                                  0</td><td>gini                               </td><td>log2                                  </td><td style=\"text-align: right;\">                                         3</td><td style=\"text-align: right;\">                                          3</td><td style=\"text-align: right;\">                                    91</td><td style=\"text-align: right;\">     0</td><td style=\"text-align: right;\">       0.832299 </td></tr>\n",
       "<tr><td>e2e_simple_training_00040</td><td>TERMINATED</td><td>     </td><td style=\"text-align: right;\">                                  0</td><td>gini                               </td><td>sqrt                                  </td><td style=\"text-align: right;\">                                         3</td><td style=\"text-align: right;\">                                          5</td><td style=\"text-align: right;\">                                    27</td><td style=\"text-align: right;\">     0</td><td style=\"text-align: right;\">       0.43175  </td></tr>\n",
       "<tr><td>e2e_simple_training_00041</td><td>TERMINATED</td><td>     </td><td style=\"text-align: right;\">                                  0</td><td>entropy                            </td><td>sqrt                                  </td><td style=\"text-align: right;\">                                         3</td><td style=\"text-align: right;\">                                          4</td><td style=\"text-align: right;\">                                   146</td><td style=\"text-align: right;\">     0</td><td style=\"text-align: right;\">       1.62724  </td></tr>\n",
       "<tr><td>e2e_simple_training_00042</td><td>TERMINATED</td><td>     </td><td style=\"text-align: right;\">                                  1</td><td>entropy                            </td><td>log2                                  </td><td style=\"text-align: right;\">                                         2</td><td style=\"text-align: right;\">                                          4</td><td style=\"text-align: right;\">                                    62</td><td style=\"text-align: right;\">     0</td><td style=\"text-align: right;\">       0.543992 </td></tr>\n",
       "<tr><td>e2e_simple_training_00043</td><td>TERMINATED</td><td>     </td><td style=\"text-align: right;\">                                  1</td><td>gini                               </td><td>log2                                  </td><td style=\"text-align: right;\">                                         1</td><td style=\"text-align: right;\">                                          3</td><td style=\"text-align: right;\">                                    98</td><td style=\"text-align: right;\">     0</td><td style=\"text-align: right;\">       0.967493 </td></tr>\n",
       "<tr><td>e2e_simple_training_00044</td><td>TERMINATED</td><td>     </td><td style=\"text-align: right;\">                                  0</td><td>entropy                            </td><td>auto                                  </td><td style=\"text-align: right;\">                                         2</td><td style=\"text-align: right;\">                                          3</td><td style=\"text-align: right;\">                                    99</td><td style=\"text-align: right;\">     0</td><td style=\"text-align: right;\">       1.33835  </td></tr>\n",
       "<tr><td>e2e_simple_training_00045</td><td>TERMINATED</td><td>     </td><td style=\"text-align: right;\">                                  1</td><td>entropy                            </td><td>sqrt                                  </td><td style=\"text-align: right;\">                                         3</td><td style=\"text-align: right;\">                                          4</td><td style=\"text-align: right;\">                                    87</td><td style=\"text-align: right;\">     0</td><td style=\"text-align: right;\">       0.869897 </td></tr>\n",
       "<tr><td>e2e_simple_training_00046</td><td>TERMINATED</td><td>     </td><td style=\"text-align: right;\">                                  1</td><td>gini                               </td><td>auto                                  </td><td style=\"text-align: right;\">                                         1</td><td style=\"text-align: right;\">                                          4</td><td style=\"text-align: right;\">                                    57</td><td style=\"text-align: right;\">     0</td><td style=\"text-align: right;\">       0.523139 </td></tr>\n",
       "<tr><td>e2e_simple_training_00047</td><td>TERMINATED</td><td>     </td><td style=\"text-align: right;\">                                  1</td><td>entropy                            </td><td>auto                                  </td><td style=\"text-align: right;\">                                         1</td><td style=\"text-align: right;\">                                          3</td><td style=\"text-align: right;\">                                    96</td><td style=\"text-align: right;\">     0</td><td style=\"text-align: right;\">       1.00303  </td></tr>\n",
       "<tr><td>e2e_simple_training_00048</td><td>TERMINATED</td><td>     </td><td style=\"text-align: right;\">                                  0</td><td>entropy                            </td><td>auto                                  </td><td style=\"text-align: right;\">                                         2</td><td style=\"text-align: right;\">                                          5</td><td style=\"text-align: right;\">                                    19</td><td style=\"text-align: right;\">     0</td><td style=\"text-align: right;\">       0.237859 </td></tr>\n",
       "<tr><td>e2e_simple_training_00049</td><td>TERMINATED</td><td>     </td><td style=\"text-align: right;\">                                  1</td><td>entropy                            </td><td>sqrt                                  </td><td style=\"text-align: right;\">                                         3</td><td style=\"text-align: right;\">                                          3</td><td style=\"text-align: right;\">                                   128</td><td style=\"text-align: right;\">     0</td><td style=\"text-align: right;\">       1.24081  </td></tr>\n",
       "<tr><td>e2e_simple_training_00050</td><td>TERMINATED</td><td>     </td><td style=\"text-align: right;\">                                  0</td><td>gini                               </td><td>sqrt                                  </td><td style=\"text-align: right;\">                                         2</td><td style=\"text-align: right;\">                                          4</td><td style=\"text-align: right;\">                                    79</td><td style=\"text-align: right;\">     0</td><td style=\"text-align: right;\">       0.772496 </td></tr>\n",
       "<tr><td>e2e_simple_training_00051</td><td>TERMINATED</td><td>     </td><td style=\"text-align: right;\">                                  0</td><td>gini                               </td><td>log2                                  </td><td style=\"text-align: right;\">                                         2</td><td style=\"text-align: right;\">                                          3</td><td style=\"text-align: right;\">                                   115</td><td style=\"text-align: right;\">     0</td><td style=\"text-align: right;\">       1.05986  </td></tr>\n",
       "<tr><td>e2e_simple_training_00052</td><td>TERMINATED</td><td>     </td><td style=\"text-align: right;\">                                  0</td><td>gini                               </td><td>auto                                  </td><td style=\"text-align: right;\">                                         3</td><td style=\"text-align: right;\">                                          4</td><td style=\"text-align: right;\">                                    94</td><td style=\"text-align: right;\">     0</td><td style=\"text-align: right;\">       0.949893 </td></tr>\n",
       "<tr><td>e2e_simple_training_00053</td><td>TERMINATED</td><td>     </td><td style=\"text-align: right;\">                                  1</td><td>gini                               </td><td>auto                                  </td><td style=\"text-align: right;\">                                         3</td><td style=\"text-align: right;\">                                          5</td><td style=\"text-align: right;\">                                   138</td><td style=\"text-align: right;\">     0</td><td style=\"text-align: right;\">       1.54932  </td></tr>\n",
       "<tr><td>e2e_simple_training_00054</td><td>TERMINATED</td><td>     </td><td style=\"text-align: right;\">                                  1</td><td>entropy                            </td><td>sqrt                                  </td><td style=\"text-align: right;\">                                         3</td><td style=\"text-align: right;\">                                          5</td><td style=\"text-align: right;\">                                    19</td><td style=\"text-align: right;\">     0</td><td style=\"text-align: right;\">       0.241292 </td></tr>\n",
       "<tr><td>e2e_simple_training_00055</td><td>TERMINATED</td><td>     </td><td style=\"text-align: right;\">                                  0</td><td>gini                               </td><td>sqrt                                  </td><td style=\"text-align: right;\">                                         2</td><td style=\"text-align: right;\">                                          4</td><td style=\"text-align: right;\">                                   131</td><td style=\"text-align: right;\">     0</td><td style=\"text-align: right;\">       1.49152  </td></tr>\n",
       "<tr><td>e2e_simple_training_00056</td><td>TERMINATED</td><td>     </td><td style=\"text-align: right;\">                                  1</td><td>entropy                            </td><td>auto                                  </td><td style=\"text-align: right;\">                                         2</td><td style=\"text-align: right;\">                                          4</td><td style=\"text-align: right;\">                                    15</td><td style=\"text-align: right;\">     0</td><td style=\"text-align: right;\">       0.192968 </td></tr>\n",
       "<tr><td>e2e_simple_training_00057</td><td>TERMINATED</td><td>     </td><td style=\"text-align: right;\">                                  0</td><td>entropy                            </td><td>log2                                  </td><td style=\"text-align: right;\">                                         3</td><td style=\"text-align: right;\">                                          5</td><td style=\"text-align: right;\">                                    10</td><td style=\"text-align: right;\">     0</td><td style=\"text-align: right;\">       0.151732 </td></tr>\n",
       "<tr><td>e2e_simple_training_00058</td><td>TERMINATED</td><td>     </td><td style=\"text-align: right;\">                                  0</td><td>gini                               </td><td>auto                                  </td><td style=\"text-align: right;\">                                         2</td><td style=\"text-align: right;\">                                          3</td><td style=\"text-align: right;\">                                   142</td><td style=\"text-align: right;\">     0</td><td style=\"text-align: right;\">       1.49923  </td></tr>\n",
       "<tr><td>e2e_simple_training_00059</td><td>TERMINATED</td><td>     </td><td style=\"text-align: right;\">                                  0</td><td>gini                               </td><td>sqrt                                  </td><td style=\"text-align: right;\">                                         1</td><td style=\"text-align: right;\">                                          4</td><td style=\"text-align: right;\">                                   140</td><td style=\"text-align: right;\">     0</td><td style=\"text-align: right;\">       1.4818   </td></tr>\n",
       "<tr><td>e2e_simple_training_00060</td><td>TERMINATED</td><td>     </td><td style=\"text-align: right;\">                                  1</td><td>entropy                            </td><td>sqrt                                  </td><td style=\"text-align: right;\">                                         1</td><td style=\"text-align: right;\">                                          4</td><td style=\"text-align: right;\">                                    60</td><td style=\"text-align: right;\">     0</td><td style=\"text-align: right;\">       0.616892 </td></tr>\n",
       "<tr><td>e2e_simple_training_00061</td><td>TERMINATED</td><td>     </td><td style=\"text-align: right;\">                                  0</td><td>entropy                            </td><td>sqrt                                  </td><td style=\"text-align: right;\">                                         2</td><td style=\"text-align: right;\">                                          3</td><td style=\"text-align: right;\">                                   145</td><td style=\"text-align: right;\">     0</td><td style=\"text-align: right;\">       1.81279  </td></tr>\n",
       "<tr><td>e2e_simple_training_00062</td><td>TERMINATED</td><td>     </td><td style=\"text-align: right;\">                                  0</td><td>gini                               </td><td>auto                                  </td><td style=\"text-align: right;\">                                         3</td><td style=\"text-align: right;\">                                          4</td><td style=\"text-align: right;\">                                   139</td><td style=\"text-align: right;\">     0</td><td style=\"text-align: right;\">       1.37929  </td></tr>\n",
       "<tr><td>e2e_simple_training_00063</td><td>TERMINATED</td><td>     </td><td style=\"text-align: right;\">                                  1</td><td>entropy                            </td><td>auto                                  </td><td style=\"text-align: right;\">                                         1</td><td style=\"text-align: right;\">                                          3</td><td style=\"text-align: right;\">                                   123</td><td style=\"text-align: right;\">     0</td><td style=\"text-align: right;\">       1.23145  </td></tr>\n",
       "<tr><td>e2e_simple_training_00064</td><td>TERMINATED</td><td>     </td><td style=\"text-align: right;\">                                  0</td><td>gini                               </td><td>log2                                  </td><td style=\"text-align: right;\">                                         3</td><td style=\"text-align: right;\">                                          3</td><td style=\"text-align: right;\">                                   124</td><td style=\"text-align: right;\">     0</td><td style=\"text-align: right;\">       1.10605  </td></tr>\n",
       "<tr><td>e2e_simple_training_00065</td><td>TERMINATED</td><td>     </td><td style=\"text-align: right;\">                                  0</td><td>entropy                            </td><td>auto                                  </td><td style=\"text-align: right;\">                                         3</td><td style=\"text-align: right;\">                                          3</td><td style=\"text-align: right;\">                                    31</td><td style=\"text-align: right;\">     0</td><td style=\"text-align: right;\">       0.358984 </td></tr>\n",
       "<tr><td>e2e_simple_training_00066</td><td>TERMINATED</td><td>     </td><td style=\"text-align: right;\">                                  0</td><td>gini                               </td><td>log2                                  </td><td style=\"text-align: right;\">                                         3</td><td style=\"text-align: right;\">                                          3</td><td style=\"text-align: right;\">                                   128</td><td style=\"text-align: right;\">     0</td><td style=\"text-align: right;\">       1.45684  </td></tr>\n",
       "<tr><td>e2e_simple_training_00067</td><td>TERMINATED</td><td>     </td><td style=\"text-align: right;\">                                  1</td><td>entropy                            </td><td>auto                                  </td><td style=\"text-align: right;\">                                         3</td><td style=\"text-align: right;\">                                          3</td><td style=\"text-align: right;\">                                    12</td><td style=\"text-align: right;\">     0</td><td style=\"text-align: right;\">       0.165721 </td></tr>\n",
       "<tr><td>e2e_simple_training_00068</td><td>TERMINATED</td><td>     </td><td style=\"text-align: right;\">                                  0</td><td>entropy                            </td><td>log2                                  </td><td style=\"text-align: right;\">                                         3</td><td style=\"text-align: right;\">                                          3</td><td style=\"text-align: right;\">                                     5</td><td style=\"text-align: right;\">     0</td><td style=\"text-align: right;\">       0.116472 </td></tr>\n",
       "<tr><td>e2e_simple_training_00069</td><td>TERMINATED</td><td>     </td><td style=\"text-align: right;\">                                  0</td><td>gini                               </td><td>log2                                  </td><td style=\"text-align: right;\">                                         2</td><td style=\"text-align: right;\">                                          3</td><td style=\"text-align: right;\">                                   124</td><td style=\"text-align: right;\">     0</td><td style=\"text-align: right;\">       1.23529  </td></tr>\n",
       "<tr><td>e2e_simple_training_00070</td><td>TERMINATED</td><td>     </td><td style=\"text-align: right;\">                                  0</td><td>entropy                            </td><td>auto                                  </td><td style=\"text-align: right;\">                                         2</td><td style=\"text-align: right;\">                                          5</td><td style=\"text-align: right;\">                                    39</td><td style=\"text-align: right;\">     0</td><td style=\"text-align: right;\">       0.528782 </td></tr>\n",
       "<tr><td>e2e_simple_training_00071</td><td>TERMINATED</td><td>     </td><td style=\"text-align: right;\">                                  1</td><td>entropy                            </td><td>auto                                  </td><td style=\"text-align: right;\">                                         2</td><td style=\"text-align: right;\">                                          4</td><td style=\"text-align: right;\">                                    41</td><td style=\"text-align: right;\">     0</td><td style=\"text-align: right;\">       0.472329 </td></tr>\n",
       "<tr><td>e2e_simple_training_00072</td><td>TERMINATED</td><td>     </td><td style=\"text-align: right;\">                                  1</td><td>gini                               </td><td>auto                                  </td><td style=\"text-align: right;\">                                         1</td><td style=\"text-align: right;\">                                          4</td><td style=\"text-align: right;\">                                     8</td><td style=\"text-align: right;\">     0</td><td style=\"text-align: right;\">       0.121264 </td></tr>\n",
       "<tr><td>e2e_simple_training_00073</td><td>TERMINATED</td><td>     </td><td style=\"text-align: right;\">                                  0</td><td>entropy                            </td><td>log2                                  </td><td style=\"text-align: right;\">                                         1</td><td style=\"text-align: right;\">                                          5</td><td style=\"text-align: right;\">                                    46</td><td style=\"text-align: right;\">     0</td><td style=\"text-align: right;\">       0.484659 </td></tr>\n",
       "<tr><td>e2e_simple_training_00074</td><td>TERMINATED</td><td>     </td><td style=\"text-align: right;\">                                  1</td><td>gini                               </td><td>sqrt                                  </td><td style=\"text-align: right;\">                                         1</td><td style=\"text-align: right;\">                                          4</td><td style=\"text-align: right;\">                                    63</td><td style=\"text-align: right;\">     0</td><td style=\"text-align: right;\">       0.672164 </td></tr>\n",
       "<tr><td>e2e_simple_training_00075</td><td>TERMINATED</td><td>     </td><td style=\"text-align: right;\">                                  1</td><td>gini                               </td><td>log2                                  </td><td style=\"text-align: right;\">                                         3</td><td style=\"text-align: right;\">                                          5</td><td style=\"text-align: right;\">                                    96</td><td style=\"text-align: right;\">     0</td><td style=\"text-align: right;\">       0.882215 </td></tr>\n",
       "<tr><td>e2e_simple_training_00076</td><td>TERMINATED</td><td>     </td><td style=\"text-align: right;\">                                  0</td><td>gini                               </td><td>sqrt                                  </td><td style=\"text-align: right;\">                                         1</td><td style=\"text-align: right;\">                                          3</td><td style=\"text-align: right;\">                                    48</td><td style=\"text-align: right;\">     0</td><td style=\"text-align: right;\">       0.541207 </td></tr>\n",
       "<tr><td>e2e_simple_training_00077</td><td>TERMINATED</td><td>     </td><td style=\"text-align: right;\">                                  0</td><td>entropy                            </td><td>sqrt                                  </td><td style=\"text-align: right;\">                                         3</td><td style=\"text-align: right;\">                                          3</td><td style=\"text-align: right;\">                                    42</td><td style=\"text-align: right;\">     0</td><td style=\"text-align: right;\">       0.49444  </td></tr>\n",
       "<tr><td>e2e_simple_training_00078</td><td>TERMINATED</td><td>     </td><td style=\"text-align: right;\">                                  0</td><td>gini                               </td><td>auto                                  </td><td style=\"text-align: right;\">                                         2</td><td style=\"text-align: right;\">                                          4</td><td style=\"text-align: right;\">                                    17</td><td style=\"text-align: right;\">     0</td><td style=\"text-align: right;\">       0.222628 </td></tr>\n",
       "<tr><td>e2e_simple_training_00079</td><td>TERMINATED</td><td>     </td><td style=\"text-align: right;\">                                  1</td><td>gini                               </td><td>sqrt                                  </td><td style=\"text-align: right;\">                                         1</td><td style=\"text-align: right;\">                                          5</td><td style=\"text-align: right;\">                                    86</td><td style=\"text-align: right;\">     0</td><td style=\"text-align: right;\">       0.913576 </td></tr>\n",
       "<tr><td>e2e_simple_training_00080</td><td>TERMINATED</td><td>     </td><td style=\"text-align: right;\">                                  0</td><td>entropy                            </td><td>log2                                  </td><td style=\"text-align: right;\">                                         1</td><td style=\"text-align: right;\">                                          5</td><td style=\"text-align: right;\">                                    30</td><td style=\"text-align: right;\">     0</td><td style=\"text-align: right;\">       0.413815 </td></tr>\n",
       "<tr><td>e2e_simple_training_00081</td><td>TERMINATED</td><td>     </td><td style=\"text-align: right;\">                                  1</td><td>entropy                            </td><td>log2                                  </td><td style=\"text-align: right;\">                                         1</td><td style=\"text-align: right;\">                                          4</td><td style=\"text-align: right;\">                                   136</td><td style=\"text-align: right;\">     0</td><td style=\"text-align: right;\">       1.64504  </td></tr>\n",
       "<tr><td>e2e_simple_training_00082</td><td>TERMINATED</td><td>     </td><td style=\"text-align: right;\">                                  1</td><td>gini                               </td><td>auto                                  </td><td style=\"text-align: right;\">                                         2</td><td style=\"text-align: right;\">                                          5</td><td style=\"text-align: right;\">                                     4</td><td style=\"text-align: right;\">     0</td><td style=\"text-align: right;\">       0.083369 </td></tr>\n",
       "<tr><td>e2e_simple_training_00083</td><td>TERMINATED</td><td>     </td><td style=\"text-align: right;\">                                  1</td><td>entropy                            </td><td>log2                                  </td><td style=\"text-align: right;\">                                         1</td><td style=\"text-align: right;\">                                          5</td><td style=\"text-align: right;\">                                     1</td><td style=\"text-align: right;\">     0</td><td style=\"text-align: right;\">       0.0643842</td></tr>\n",
       "<tr><td>e2e_simple_training_00084</td><td>TERMINATED</td><td>     </td><td style=\"text-align: right;\">                                  0</td><td>gini                               </td><td>sqrt                                  </td><td style=\"text-align: right;\">                                         1</td><td style=\"text-align: right;\">                                          3</td><td style=\"text-align: right;\">                                    22</td><td style=\"text-align: right;\">     0</td><td style=\"text-align: right;\">       0.294384 </td></tr>\n",
       "<tr><td>e2e_simple_training_00085</td><td>TERMINATED</td><td>     </td><td style=\"text-align: right;\">                                  1</td><td>gini                               </td><td>sqrt                                  </td><td style=\"text-align: right;\">                                         3</td><td style=\"text-align: right;\">                                          3</td><td style=\"text-align: right;\">                                     9</td><td style=\"text-align: right;\">     0</td><td style=\"text-align: right;\">       0.134937 </td></tr>\n",
       "<tr><td>e2e_simple_training_00086</td><td>TERMINATED</td><td>     </td><td style=\"text-align: right;\">                                  0</td><td>entropy                            </td><td>auto                                  </td><td style=\"text-align: right;\">                                         3</td><td style=\"text-align: right;\">                                          3</td><td style=\"text-align: right;\">                                   110</td><td style=\"text-align: right;\">     0</td><td style=\"text-align: right;\">       1.25803  </td></tr>\n",
       "<tr><td>e2e_simple_training_00087</td><td>TERMINATED</td><td>     </td><td style=\"text-align: right;\">                                  0</td><td>gini                               </td><td>auto                                  </td><td style=\"text-align: right;\">                                         2</td><td style=\"text-align: right;\">                                          3</td><td style=\"text-align: right;\">                                   115</td><td style=\"text-align: right;\">     0</td><td style=\"text-align: right;\">       1.1733   </td></tr>\n",
       "<tr><td>e2e_simple_training_00088</td><td>TERMINATED</td><td>     </td><td style=\"text-align: right;\">                                  1</td><td>entropy                            </td><td>log2                                  </td><td style=\"text-align: right;\">                                         2</td><td style=\"text-align: right;\">                                          3</td><td style=\"text-align: right;\">                                    60</td><td style=\"text-align: right;\">     0</td><td style=\"text-align: right;\">       0.599426 </td></tr>\n",
       "<tr><td>e2e_simple_training_00089</td><td>TERMINATED</td><td>     </td><td style=\"text-align: right;\">                                  1</td><td>gini                               </td><td>auto                                  </td><td style=\"text-align: right;\">                                         3</td><td style=\"text-align: right;\">                                          5</td><td style=\"text-align: right;\">                                    58</td><td style=\"text-align: right;\">     0</td><td style=\"text-align: right;\">       0.596902 </td></tr>\n",
       "<tr><td>e2e_simple_training_00090</td><td>TERMINATED</td><td>     </td><td style=\"text-align: right;\">                                  1</td><td>gini                               </td><td>log2                                  </td><td style=\"text-align: right;\">                                         2</td><td style=\"text-align: right;\">                                          3</td><td style=\"text-align: right;\">                                    58</td><td style=\"text-align: right;\">     0</td><td style=\"text-align: right;\">       0.683315 </td></tr>\n",
       "<tr><td>e2e_simple_training_00091</td><td>TERMINATED</td><td>     </td><td style=\"text-align: right;\">                                  1</td><td>entropy                            </td><td>sqrt                                  </td><td style=\"text-align: right;\">                                         3</td><td style=\"text-align: right;\">                                          3</td><td style=\"text-align: right;\">                                   120</td><td style=\"text-align: right;\">     0</td><td style=\"text-align: right;\">       1.44593  </td></tr>\n",
       "<tr><td>e2e_simple_training_00092</td><td>TERMINATED</td><td>     </td><td style=\"text-align: right;\">                                  1</td><td>entropy                            </td><td>sqrt                                  </td><td style=\"text-align: right;\">                                         1</td><td style=\"text-align: right;\">                                          4</td><td style=\"text-align: right;\">                                    58</td><td style=\"text-align: right;\">     0</td><td style=\"text-align: right;\">       0.57609  </td></tr>\n",
       "<tr><td>e2e_simple_training_00093</td><td>TERMINATED</td><td>     </td><td style=\"text-align: right;\">                                  0</td><td>entropy                            </td><td>auto                                  </td><td style=\"text-align: right;\">                                         1</td><td style=\"text-align: right;\">                                          3</td><td style=\"text-align: right;\">                                    58</td><td style=\"text-align: right;\">     0</td><td style=\"text-align: right;\">       0.706358 </td></tr>\n",
       "<tr><td>e2e_simple_training_00094</td><td>TERMINATED</td><td>     </td><td style=\"text-align: right;\">                                  1</td><td>gini                               </td><td>sqrt                                  </td><td style=\"text-align: right;\">                                         1</td><td style=\"text-align: right;\">                                          4</td><td style=\"text-align: right;\">                                    30</td><td style=\"text-align: right;\">     0</td><td style=\"text-align: right;\">       0.406959 </td></tr>\n",
       "<tr><td>e2e_simple_training_00095</td><td>TERMINATED</td><td>     </td><td style=\"text-align: right;\">                                  1</td><td>gini                               </td><td>auto                                  </td><td style=\"text-align: right;\">                                         3</td><td style=\"text-align: right;\">                                          3</td><td style=\"text-align: right;\">                                    34</td><td style=\"text-align: right;\">     0</td><td style=\"text-align: right;\">       0.450099 </td></tr>\n",
       "<tr><td>e2e_simple_training_00096</td><td>TERMINATED</td><td>     </td><td style=\"text-align: right;\">                                  1</td><td>entropy                            </td><td>log2                                  </td><td style=\"text-align: right;\">                                         1</td><td style=\"text-align: right;\">                                          4</td><td style=\"text-align: right;\">                                    53</td><td style=\"text-align: right;\">     0</td><td style=\"text-align: right;\">       0.625946 </td></tr>\n",
       "<tr><td>e2e_simple_training_00097</td><td>TERMINATED</td><td>     </td><td style=\"text-align: right;\">                                  0</td><td>entropy                            </td><td>log2                                  </td><td style=\"text-align: right;\">                                         1</td><td style=\"text-align: right;\">                                          3</td><td style=\"text-align: right;\">                                   139</td><td style=\"text-align: right;\">     0</td><td style=\"text-align: right;\">       1.24272  </td></tr>\n",
       "<tr><td>e2e_simple_training_00098</td><td>TERMINATED</td><td>     </td><td style=\"text-align: right;\">                                  0</td><td>gini                               </td><td>log2                                  </td><td style=\"text-align: right;\">                                         3</td><td style=\"text-align: right;\">                                          5</td><td style=\"text-align: right;\">                                    63</td><td style=\"text-align: right;\">     0</td><td style=\"text-align: right;\">       0.541172 </td></tr>\n",
       "<tr><td>e2e_simple_training_00099</td><td>TERMINATED</td><td>     </td><td style=\"text-align: right;\">                                  1</td><td>entropy                            </td><td>sqrt                                  </td><td style=\"text-align: right;\">                                         1</td><td style=\"text-align: right;\">                                          4</td><td style=\"text-align: right;\">                                    82</td><td style=\"text-align: right;\">     0</td><td style=\"text-align: right;\">       0.769789 </td></tr>\n",
       "</tbody>\n",
       "</table><br><br>"
      ],
      "text/plain": [
       "<IPython.core.display.HTML object>"
      ]
     },
     "metadata": {},
     "output_type": "display_data"
    }
   ],
   "source": [
    "analysis = tune.run(\n",
    "                e2e_simple_training,\n",
    "                config=ray_tuning_config,\n",
    "    \n",
    "                num_samples=100, # Specify the number of samples to make from (non grid) distributions\n",
    "    \n",
    "                resources_per_trial=dict(cpu=1, gpu=0))"
   ]
  },
  {
   "cell_type": "code",
   "execution_count": 7,
   "metadata": {},
   "outputs": [
    {
     "name": "stdout",
     "output_type": "stream",
     "text": [
      "Best config: \n",
      "{'randomforestclassifier__bootstrap': False,\n",
      " 'randomforestclassifier__criterion': 'entropy',\n",
      " 'randomforestclassifier__max_features': 'sqrt',\n",
      " 'randomforestclassifier__min_samples_leaf': 1,\n",
      " 'randomforestclassifier__min_samples_split': 3,\n",
      " 'randomforestclassifier__n_estimators': 90}\n"
     ]
    }
   ],
   "source": [
    "from pprint import pprint\n",
    "print(\"Best config: \")\n",
    "pprint(analysis.get_best_config(metric=\"mean_f1_score\"))"
   ]
  },
  {
   "cell_type": "code",
   "execution_count": 8,
   "metadata": {},
   "outputs": [],
   "source": [
    "df = analysis.dataframe()\n",
    "top_n_df = df.nlargest(10, \"mean_f1_score\")"
   ]
  },
  {
   "cell_type": "code",
   "execution_count": 9,
   "metadata": {},
   "outputs": [
    {
     "data": {
      "image/png": "[encoded data removed]",
      "text/plain": [
       "<Figure size 1152x432 with 1 Axes>"
      ]
     },
     "metadata": {},
     "output_type": "display_data"
    }
   ],
   "source": [
    "plot_some_tune_results(top_n_df)"
   ]
  },
  {
   "cell_type": "code",
   "execution_count": 10,
   "metadata": {},
   "outputs": [
    {
     "data": {
      "text/plain": [
       "Reusing TensorBoard on port 6006 (pid 56090), started 0:05:37 ago. (Use '!kill 56090' to kill it.)"
      ]
     },
     "metadata": {},
     "output_type": "display_data"
    },
    {
     "data": {
      "text/html": [
       "\n",
       "      <iframe id=\"tensorboard-frame-afb59e6d57aa2cd2\" width=\"100%\" height=\"800\" frameborder=\"0\">\n",
       "      </iframe>\n",
       "      <script>\n",
       "        (function() {\n",
       "          const frame = document.getElementById(\"tensorboard-frame-afb59e6d57aa2cd2\");\n",
       "          const url = new URL(\"/\", window.location);\n",
       "          url.port = 6006;\n",
       "          frame.src = url;\n",
       "        })();\n",
       "      </script>\n",
       "  "
      ],
      "text/plain": [
       "<IPython.core.display.HTML object>"
      ]
     },
     "metadata": {},
     "output_type": "display_data"
    }
   ],
   "source": [
    "%load_ext tensorboard\n",
    "from tensorboard import notebook \n",
    "%tensorboard --logdir \"~/ray_results/grid_search\""
   ]
  },
  {
   "cell_type": "code",
   "execution_count": 11,
   "metadata": {},
   "outputs": [],
   "source": [
    "ray.shutdown()"
   ]
  },
  {
   "cell_type": "code",
   "execution_count": null,
   "metadata": {},
   "outputs": [],
   "source": []
  }
 ],
 "metadata": {
  "kernelspec": {
   "display_name": "Python 3",
   "language": "python",
   "name": "python3"
  },
  "language_info": {
   "codemirror_mode": {
    "name": "ipython",
    "version": 3
   },
   "file_extension": ".py",
   "mimetype": "text/x-python",
   "name": "python",
   "nbconvert_exporter": "python",
   "pygments_lexer": "ipython3",
   "version": "3.8.3"
  }
 },
 "nbformat": 4,
 "nbformat_minor": 4
}
