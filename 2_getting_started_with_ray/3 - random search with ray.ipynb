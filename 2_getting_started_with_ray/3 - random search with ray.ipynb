{
 "cells": [
  {
   "cell_type": "markdown",
   "metadata": {},
   "source": [
    "# Unleash the Ray - Random Search\n",
    "\n",
    "Let's revisit our random search example but now with Ray\n",
    "\n",
    "A lot of this code is going to be familiar as we already had our pipeline wraped in a function"
   ]
  },
  {
   "cell_type": "code",
   "execution_count": 1,
   "metadata": {},
   "outputs": [
    {
     "name": "stdout",
     "output_type": "stream",
     "text": [
      "Loading dependencies we have already seen...\n",
      "Done...\n"
     ]
    }
   ],
   "source": [
    "%load_ext autoreload\n",
    "%autoreload 2\n",
    "\n",
    "from dependencies import *\n",
    "from tuning import *"
   ]
  },
  {
   "cell_type": "markdown",
   "metadata": {},
   "source": [
    "### Let's start Ray"
   ]
  },
  {
   "cell_type": "code",
   "execution_count": 3,
   "metadata": {
    "scrolled": true
   },
   "outputs": [
    {
     "name": "stderr",
     "output_type": "stream",
     "text": [
      "2020-06-12 10:11:45,766\tINFO resource_spec.py:204 -- Starting Ray with 33.54 GiB memory available for workers and up to 16.79 GiB for objects. You can adjust these settings with ray.init(memory=<bytes>, object_store_memory=<bytes>).\n",
      "2020-06-12 10:11:46,037\tINFO services.py:1168 -- View the Ray dashboard at \u001b[1m\u001b[32mlocalhost:8266\u001b[39m\u001b[22m\n"
     ]
    },
    {
     "data": {
      "text/plain": [
       "{'node_ip_address': '192.168.1.39',\n",
       " 'raylet_ip_address': '192.168.1.39',\n",
       " 'redis_address': '192.168.1.39:44993',\n",
       " 'object_store_address': '/tmp/ray/session_2020-06-12_10-11-45_763624_130054/sockets/plasma_store',\n",
       " 'raylet_socket_name': '/tmp/ray/session_2020-06-12_10-11-45_763624_130054/sockets/raylet',\n",
       " 'webui_url': 'localhost:8266',\n",
       " 'session_dir': '/tmp/ray/session_2020-06-12_10-11-45_763624_130054'}"
      ]
     },
     "execution_count": 3,
     "metadata": {},
     "output_type": "execute_result"
    }
   ],
   "source": [
    "ray.shutdown()\n",
    "ray.init(num_cpus=10,num_gpus=0, include_webui=True)"
   ]
  },
  {
   "cell_type": "markdown",
   "metadata": {},
   "source": [
    "After initialisation the [Ray Dashboard](https://docs.ray.io/en/master/ray-dashboard.html) is available on the **webui_url** port"
   ]
  },
  {
   "cell_type": "markdown",
   "metadata": {},
   "source": [
    "## Go Random Go!"
   ]
  },
  {
   "cell_type": "markdown",
   "metadata": {},
   "source": [
    "So to move into a random search configuration we just need to change our search parameters to use `distributions`\n",
    "\n",
    "In our last example:\n",
    "\n",
    "```\n",
    "ray_tuning_config = {\n",
    "    'randomforestclassifier__n_estimators': tune.grid_search([1,5,15,50,100]),\n",
    "    'randomforestclassifier__criterion': tune.grid_search(['gini', 'entropy']),\n",
    "    'randomforestclassifier__max_features': tune.grid_search(['auto', 'sqrt', 'log2']),\n",
    "    'randomforestclassifier__bootstrap': tune.grid_search([True, False]),\n",
    "    'randomforestclassifier__min_samples_leaf': tune.grid_search([1,2,3,4]),\n",
    "    'randomforestclassifier__min_samples_split': tune.grid_search([3,4,5,6])\n",
    "}\n",
    "```\n",
    "\n",
    "Replace grid search with other tune distribution that we can sample from >> [read the docs](https://docs.ray.io/en/latest/tune/api_docs/grid_random.html?highlight=tune.grid#random-distributions-api)\n",
    "\n",
    "Choose appropriate distriutions for the different parameter types"
   ]
  },
  {
   "cell_type": "code",
   "execution_count": 4,
   "metadata": {},
   "outputs": [],
   "source": [
    "ray_tuning_config = {\n",
    "    'randomforestclassifier__n_estimators': tune.randint(1, 150),\n",
    "    'randomforestclassifier__criterion': tune.choice(['gini', 'entropy']),\n",
    "    'randomforestclassifier__max_features': tune.choice(['auto', 'sqrt', 'log2']),\n",
    "    'randomforestclassifier__bootstrap': tune.choice([True, False]),\n",
    "    'randomforestclassifier__min_samples_leaf': tune.randint(1,4),\n",
    "    'randomforestclassifier__min_samples_split': tune.randint(3,6)\n",
    "}"
   ]
  },
  {
   "cell_type": "markdown",
   "metadata": {},
   "source": [
    "There is a slight change to the run function too"
   ]
  },
  {
   "cell_type": "code",
   "execution_count": 5,
   "metadata": {
    "scrolled": true
   },
   "outputs": [
    {
     "data": {
      "text/html": [
       "== Status ==<br>Memory usage on this node: 8.6/62.8 GiB<br>Using FIFO scheduling algorithm.<br>Resources requested: 1/10 CPUs, 0/0 GPUs, 0.0/33.54 GiB heap, 0.0/11.57 GiB objects<br>Result logdir: /home/steve/ray_results/e2e_simple_training<br>Number of trials: 50 (49 PENDING, 1 RUNNING)<br><table>\n",
       "<thead>\n",
       "<tr><th>Trial name               </th><th>status  </th><th>loc  </th><th style=\"text-align: right;\">  randomforestclassifier__bootstrap</th><th>randomforestclassifier__criterion  </th><th>randomforestclassifier__max_features  </th><th style=\"text-align: right;\">  randomforestclassifier__min_samples_leaf</th><th style=\"text-align: right;\">  randomforestclassifier__min_samples_split</th><th style=\"text-align: right;\">  randomforestclassifier__n_estimators</th></tr>\n",
       "</thead>\n",
       "<tbody>\n",
       "<tr><td>e2e_simple_training_00001</td><td>PENDING </td><td>     </td><td style=\"text-align: right;\">                                  1</td><td>gini                               </td><td>log2                                  </td><td style=\"text-align: right;\">                                         1</td><td style=\"text-align: right;\">                                          5</td><td style=\"text-align: right;\">                                    16</td></tr>\n",
       "<tr><td>e2e_simple_training_00002</td><td>PENDING </td><td>     </td><td style=\"text-align: right;\">                                  0</td><td>entropy                            </td><td>auto                                  </td><td style=\"text-align: right;\">                                         3</td><td style=\"text-align: right;\">                                          4</td><td style=\"text-align: right;\">                                    52</td></tr>\n",
       "<tr><td>e2e_simple_training_00003</td><td>PENDING </td><td>     </td><td style=\"text-align: right;\">                                  1</td><td>entropy                            </td><td>auto                                  </td><td style=\"text-align: right;\">                                         2</td><td style=\"text-align: right;\">                                          5</td><td style=\"text-align: right;\">                                     8</td></tr>\n",
       "<tr><td>e2e_simple_training_00004</td><td>PENDING </td><td>     </td><td style=\"text-align: right;\">                                  1</td><td>gini                               </td><td>log2                                  </td><td style=\"text-align: right;\">                                         3</td><td style=\"text-align: right;\">                                          4</td><td style=\"text-align: right;\">                                   137</td></tr>\n",
       "<tr><td>e2e_simple_training_00005</td><td>PENDING </td><td>     </td><td style=\"text-align: right;\">                                  0</td><td>gini                               </td><td>log2                                  </td><td style=\"text-align: right;\">                                         1</td><td style=\"text-align: right;\">                                          5</td><td style=\"text-align: right;\">                                    79</td></tr>\n",
       "<tr><td>e2e_simple_training_00006</td><td>PENDING </td><td>     </td><td style=\"text-align: right;\">                                  1</td><td>entropy                            </td><td>log2                                  </td><td style=\"text-align: right;\">                                         3</td><td style=\"text-align: right;\">                                          3</td><td style=\"text-align: right;\">                                   128</td></tr>\n",
       "<tr><td>e2e_simple_training_00007</td><td>PENDING </td><td>     </td><td style=\"text-align: right;\">                                  0</td><td>gini                               </td><td>auto                                  </td><td style=\"text-align: right;\">                                         3</td><td style=\"text-align: right;\">                                          3</td><td style=\"text-align: right;\">                                    73</td></tr>\n",
       "<tr><td>e2e_simple_training_00008</td><td>PENDING </td><td>     </td><td style=\"text-align: right;\">                                  1</td><td>gini                               </td><td>log2                                  </td><td style=\"text-align: right;\">                                         1</td><td style=\"text-align: right;\">                                          3</td><td style=\"text-align: right;\">                                    92</td></tr>\n",
       "<tr><td>e2e_simple_training_00009</td><td>PENDING </td><td>     </td><td style=\"text-align: right;\">                                  0</td><td>gini                               </td><td>auto                                  </td><td style=\"text-align: right;\">                                         1</td><td style=\"text-align: right;\">                                          3</td><td style=\"text-align: right;\">                                    68</td></tr>\n",
       "<tr><td>e2e_simple_training_00010</td><td>PENDING </td><td>     </td><td style=\"text-align: right;\">                                  0</td><td>entropy                            </td><td>log2                                  </td><td style=\"text-align: right;\">                                         2</td><td style=\"text-align: right;\">                                          4</td><td style=\"text-align: right;\">                                    70</td></tr>\n",
       "<tr><td>e2e_simple_training_00011</td><td>PENDING </td><td>     </td><td style=\"text-align: right;\">                                  1</td><td>entropy                            </td><td>sqrt                                  </td><td style=\"text-align: right;\">                                         3</td><td style=\"text-align: right;\">                                          4</td><td style=\"text-align: right;\">                                    27</td></tr>\n",
       "<tr><td>e2e_simple_training_00012</td><td>PENDING </td><td>     </td><td style=\"text-align: right;\">                                  0</td><td>gini                               </td><td>auto                                  </td><td style=\"text-align: right;\">                                         1</td><td style=\"text-align: right;\">                                          3</td><td style=\"text-align: right;\">                                   113</td></tr>\n",
       "<tr><td>e2e_simple_training_00013</td><td>PENDING </td><td>     </td><td style=\"text-align: right;\">                                  1</td><td>entropy                            </td><td>sqrt                                  </td><td style=\"text-align: right;\">                                         2</td><td style=\"text-align: right;\">                                          5</td><td style=\"text-align: right;\">                                    61</td></tr>\n",
       "<tr><td>e2e_simple_training_00014</td><td>PENDING </td><td>     </td><td style=\"text-align: right;\">                                  1</td><td>entropy                            </td><td>auto                                  </td><td style=\"text-align: right;\">                                         3</td><td style=\"text-align: right;\">                                          5</td><td style=\"text-align: right;\">                                   130</td></tr>\n",
       "<tr><td>e2e_simple_training_00015</td><td>PENDING </td><td>     </td><td style=\"text-align: right;\">                                  1</td><td>gini                               </td><td>sqrt                                  </td><td style=\"text-align: right;\">                                         2</td><td style=\"text-align: right;\">                                          3</td><td style=\"text-align: right;\">                                    37</td></tr>\n",
       "<tr><td>e2e_simple_training_00016</td><td>PENDING </td><td>     </td><td style=\"text-align: right;\">                                  0</td><td>entropy                            </td><td>log2                                  </td><td style=\"text-align: right;\">                                         1</td><td style=\"text-align: right;\">                                          3</td><td style=\"text-align: right;\">                                    82</td></tr>\n",
       "<tr><td>e2e_simple_training_00017</td><td>PENDING </td><td>     </td><td style=\"text-align: right;\">                                  1</td><td>entropy                            </td><td>sqrt                                  </td><td style=\"text-align: right;\">                                         3</td><td style=\"text-align: right;\">                                          5</td><td style=\"text-align: right;\">                                   115</td></tr>\n",
       "<tr><td>e2e_simple_training_00018</td><td>PENDING </td><td>     </td><td style=\"text-align: right;\">                                  0</td><td>entropy                            </td><td>sqrt                                  </td><td style=\"text-align: right;\">                                         3</td><td style=\"text-align: right;\">                                          3</td><td style=\"text-align: right;\">                                    50</td></tr>\n",
       "<tr><td>e2e_simple_training_00019</td><td>PENDING </td><td>     </td><td style=\"text-align: right;\">                                  0</td><td>entropy                            </td><td>sqrt                                  </td><td style=\"text-align: right;\">                                         1</td><td style=\"text-align: right;\">                                          4</td><td style=\"text-align: right;\">                                     4</td></tr>\n",
       "<tr><td>e2e_simple_training_00000</td><td>RUNNING </td><td>     </td><td style=\"text-align: right;\">                                  1</td><td>entropy                            </td><td>auto                                  </td><td style=\"text-align: right;\">                                         1</td><td style=\"text-align: right;\">                                          5</td><td style=\"text-align: right;\">                                    70</td></tr>\n",
       "</tbody>\n",
       "</table><br>... 30 more trials not shown (30 PENDING)<br><br>"
      ],
      "text/plain": [
       "<IPython.core.display.HTML object>"
      ]
     },
     "metadata": {},
     "output_type": "display_data"
    },
    {
     "name": "stdout",
     "output_type": "stream",
     "text": [
      "\u001b[2m\u001b[36m(pid=130237)\u001b[0m Loading dependencies we have already seen...\n",
      "\u001b[2m\u001b[36m(pid=130241)\u001b[0m Loading dependencies we have already seen...\n",
      "\u001b[2m\u001b[36m(pid=130234)\u001b[0m Loading dependencies we have already seen...\n",
      "\u001b[2m\u001b[36m(pid=130236)\u001b[0m Loading dependencies we have already seen...\n",
      "\u001b[2m\u001b[36m(pid=130240)\u001b[0m Loading dependencies we have already seen...\n",
      "\u001b[2m\u001b[36m(pid=130238)\u001b[0m Loading dependencies we have already seen...\n",
      "\u001b[2m\u001b[36m(pid=130235)\u001b[0m Loading dependencies we have already seen...\n",
      "\u001b[2m\u001b[36m(pid=130239)\u001b[0m Loading dependencies we have already seen...\n",
      "\u001b[2m\u001b[36m(pid=130232)\u001b[0m Loading dependencies we have already seen...\n",
      "\u001b[2m\u001b[36m(pid=130233)\u001b[0m Loading dependencies we have already seen...\n",
      "\u001b[2m\u001b[36m(pid=130236)\u001b[0m Done...\n",
      "\u001b[2m\u001b[36m(pid=130236)\u001b[0m 2020-06-12 10:13:24,233\tINFO trainable.py:217 -- Getting current IP.\n",
      "\u001b[2m\u001b[36m(pid=130237)\u001b[0m Done...\n",
      "\u001b[2m\u001b[36m(pid=130237)\u001b[0m 2020-06-12 10:13:24,280\tINFO trainable.py:217 -- Getting current IP.\n",
      "\u001b[2m\u001b[36m(pid=130235)\u001b[0m 2020-06-12 10:13:24,330\tINFO trainable.py:217 -- Getting current IP.\n",
      "\u001b[2m\u001b[36m(pid=130235)\u001b[0m Done...\n",
      "\u001b[2m\u001b[36m(pid=130234)\u001b[0m 2020-06-12 10:13:24,345\tINFO trainable.py:217 -- Getting current IP.\n",
      "\u001b[2m\u001b[36m(pid=130241)\u001b[0m 2020-06-12 10:13:24,363\tINFO trainable.py:217 -- Getting current IP.\n",
      "\u001b[2m\u001b[36m(pid=130241)\u001b[0m Done...\n",
      "\u001b[2m\u001b[36m(pid=130234)\u001b[0m Done...\n"
     ]
    },
    {
     "name": "stderr",
     "output_type": "stream",
     "text": [
      "2020-06-12 10:13:24,625\tINFO logger.py:269 -- Removed the following hyperparameter values when logging to tensorboard: {'randomforestclassifier__bootstrap': True}\n"
     ]
    },
    {
     "name": "stdout",
     "output_type": "stream",
     "text": [
      "\u001b[2m\u001b[36m(pid=130240)\u001b[0m 2020-06-12 10:13:24,443\tINFO trainable.py:217 -- Getting current IP.\n",
      "\u001b[2m\u001b[36m(pid=130240)\u001b[0m Done...\n",
      "\u001b[2m\u001b[36m(pid=130238)\u001b[0m Done...\n",
      "\u001b[2m\u001b[36m(pid=130238)\u001b[0m 2020-06-12 10:13:24,523\tINFO trainable.py:217 -- Getting current IP.\n",
      "\u001b[2m\u001b[36m(pid=130239)\u001b[0m 2020-06-12 10:13:24,558\tINFO trainable.py:217 -- Getting current IP.\n",
      "\u001b[2m\u001b[36m(pid=130239)\u001b[0m Done...\n",
      "Result for e2e_simple_training_00001:\n",
      "  date: 2020-06-12_10-13-24\n",
      "  done: true\n",
      "  experiment_id: dd2a96ff68e0434fb756113d4ca3156f\n",
      "  experiment_tag: 1_randomforestclassifier__bootstrap=True,randomforestclassifier__criterion=gini,randomforestclassifier__max_features=log2,randomforestclassifier__min_samples_leaf=1,randomforestclassifier__min_samples_split=5,randomforestclassifier__n_estimators=16\n",
      "  hostname: cosmos-ml\n",
      "  iterations_since_restore: 1\n",
      "  mean_f1_score: 0.9654090345738779\n",
      "  node_ip: 192.168.1.39\n",
      "  pid: 130241\n",
      "  std_f1_score: 0.017374374024209487\n",
      "  time_since_restore: 0.25420713424682617\n",
      "  time_this_iter_s: 0.25420713424682617\n",
      "  time_total_s: 0.25420713424682617\n",
      "  timestamp: 1591953204\n",
      "  timesteps_since_restore: 0\n",
      "  training_iteration: 0\n",
      "  trial_id: '00001'\n",
      "  \n",
      "\u001b[2m\u001b[36m(pid=130233)\u001b[0m 2020-06-12 10:13:24,599\tINFO trainable.py:217 -- Getting current IP.\n",
      "\u001b[2m\u001b[36m(pid=130232)\u001b[0m Done...\n",
      "\u001b[2m\u001b[36m(pid=130232)\u001b[0m 2020-06-12 10:13:24,613\tINFO trainable.py:217 -- Getting current IP.\n",
      "\u001b[2m\u001b[36m(pid=130233)\u001b[0m Done...\n"
     ]
    },
    {
     "name": "stderr",
     "output_type": "stream",
     "text": [
      "2020-06-12 10:13:24,711\tINFO logger.py:269 -- Removed the following hyperparameter values when logging to tensorboard: {'randomforestclassifier__bootstrap': True}\n"
     ]
    },
    {
     "name": "stdout",
     "output_type": "stream",
     "text": [
      "Result for e2e_simple_training_00003:\n",
      "  date: 2020-06-12_10-13-24\n",
      "  done: true\n",
      "  experiment_id: 014386b8b7c74053b3761c33fe6d8c89\n",
      "  experiment_tag: 3_randomforestclassifier__bootstrap=True,randomforestclassifier__criterion=entropy,randomforestclassifier__max_features=auto,randomforestclassifier__min_samples_leaf=2,randomforestclassifier__min_samples_split=5,randomforestclassifier__n_estimators=8\n",
      "  hostname: cosmos-ml\n",
      "  iterations_since_restore: 1\n",
      "  mean_f1_score: 0.964076919249333\n",
      "  node_ip: 192.168.1.39\n",
      "  pid: 130238\n",
      "  std_f1_score: 0.016505582420138706\n",
      "  time_since_restore: 0.17743706703186035\n",
      "  time_this_iter_s: 0.17743706703186035\n",
      "  time_total_s: 0.17743706703186035\n",
      "  timestamp: 1591953204\n",
      "  timesteps_since_restore: 0\n",
      "  training_iteration: 0\n",
      "  trial_id: '00003'\n",
      "  \n"
     ]
    },
    {
     "name": "stderr",
     "output_type": "stream",
     "text": [
      "2020-06-12 10:13:25,241\tINFO logger.py:269 -- Removed the following hyperparameter values when logging to tensorboard: {'randomforestclassifier__bootstrap': False}\n",
      "2020-06-12 10:13:25,268\tINFO logger.py:269 -- Removed the following hyperparameter values when logging to tensorboard: {'randomforestclassifier__bootstrap': False}\n",
      "2020-06-12 10:13:25,386\tINFO logger.py:269 -- Removed the following hyperparameter values when logging to tensorboard: {'randomforestclassifier__bootstrap': True}\n"
     ]
    },
    {
     "name": "stdout",
     "output_type": "stream",
     "text": [
      "Result for e2e_simple_training_00005:\n",
      "  date: 2020-06-12_10-13-25\n",
      "  done: true\n",
      "  experiment_id: 83249d13356a417c8a5eaf2f6f56c7de\n",
      "  experiment_tag: 5_randomforestclassifier__bootstrap=False,randomforestclassifier__criterion=gini,randomforestclassifier__max_features=log2,randomforestclassifier__min_samples_leaf=1,randomforestclassifier__min_samples_split=5,randomforestclassifier__n_estimators=79\n",
      "  hostname: cosmos-ml\n",
      "  iterations_since_restore: 1\n",
      "  mean_f1_score: 0.9722533560079384\n",
      "  node_ip: 192.168.1.39\n",
      "  pid: 130236\n",
      "  std_f1_score: 0.01570732598866534\n",
      "  time_since_restore: 0.9994995594024658\n",
      "  time_this_iter_s: 0.9994995594024658\n",
      "  time_total_s: 0.9994995594024658\n",
      "  timestamp: 1591953205\n",
      "  timesteps_since_restore: 0\n",
      "  training_iteration: 0\n",
      "  trial_id: '00005'\n",
      "  \n",
      "Result for e2e_simple_training_00002:\n",
      "  date: 2020-06-12_10-13-25\n",
      "  done: true\n",
      "  experiment_id: 239ffba7fa4849b48f5cc72cadc0bc1d\n",
      "  experiment_tag: 2_randomforestclassifier__bootstrap=False,randomforestclassifier__criterion=entropy,randomforestclassifier__max_features=auto,randomforestclassifier__min_samples_leaf=3,randomforestclassifier__min_samples_split=4,randomforestclassifier__n_estimators=52\n",
      "  hostname: cosmos-ml\n",
      "  iterations_since_restore: 1\n",
      "  mean_f1_score: 0.9763941683498665\n",
      "  node_ip: 192.168.1.39\n",
      "  pid: 130234\n",
      "  std_f1_score: 0.012763209472700673\n",
      "  time_since_restore: 0.890486478805542\n",
      "  time_this_iter_s: 0.890486478805542\n",
      "  time_total_s: 0.890486478805542\n",
      "  timestamp: 1591953205\n",
      "  timesteps_since_restore: 0\n",
      "  training_iteration: 0\n",
      "  trial_id: '00002'\n",
      "  \n",
      "Result for e2e_simple_training_00000:\n",
      "  date: 2020-06-12_10-13-25\n",
      "  done: true\n",
      "  experiment_id: e8155a9048764640962e781fa67e3efd\n",
      "  experiment_tag: 0_randomforestclassifier__bootstrap=True,randomforestclassifier__criterion=entropy,randomforestclassifier__max_features=auto,randomforestclassifier__min_samples_leaf=1,randomforestclassifier__min_samples_split=5,randomforestclassifier__n_estimators=70\n",
      "  hostname: cosmos-ml\n",
      "  iterations_since_restore: 1\n",
      "  mean_f1_score: 0.9720598923216036\n",
      "  node_ip: 192.168.1.39\n",
      "  pid: 130237\n",
      "  std_f1_score: 0.015361942474842143\n",
      "  time_since_restore: 1.0839853286743164\n",
      "  time_this_iter_s: 1.0839853286743164\n",
      "  time_total_s: 1.0839853286743164\n",
      "  timestamp: 1591953205\n",
      "  timesteps_since_restore: 0\n",
      "  training_iteration: 0\n",
      "  trial_id: '00000'\n",
      "  \n"
     ]
    },
    {
     "name": "stderr",
     "output_type": "stream",
     "text": [
      "2020-06-12 10:13:25,451\tINFO logger.py:269 -- Removed the following hyperparameter values when logging to tensorboard: {'randomforestclassifier__bootstrap': False}\n"
     ]
    },
    {
     "name": "stdout",
     "output_type": "stream",
     "text": [
      "Result for e2e_simple_training_00007:\n",
      "  date: 2020-06-12_10-13-25\n",
      "  done: true\n",
      "  experiment_id: 638afa7c35874861a5e3ed449f6ef870\n",
      "  experiment_tag: 7_randomforestclassifier__bootstrap=False,randomforestclassifier__criterion=gini,randomforestclassifier__max_features=auto,randomforestclassifier__min_samples_leaf=3,randomforestclassifier__min_samples_split=3,randomforestclassifier__n_estimators=73\n",
      "  hostname: cosmos-ml\n",
      "  iterations_since_restore: 1\n",
      "  mean_f1_score: 0.9692375209094617\n",
      "  node_ip: 192.168.1.39\n",
      "  pid: 130240\n",
      "  std_f1_score: 0.01602882167255805\n",
      "  time_since_restore: 0.9709656238555908\n",
      "  time_this_iter_s: 0.9709656238555908\n",
      "  time_total_s: 0.9709656238555908\n",
      "  timestamp: 1591953205\n",
      "  timesteps_since_restore: 0\n",
      "  training_iteration: 0\n",
      "  trial_id: '00007'\n",
      "  \n"
     ]
    },
    {
     "name": "stderr",
     "output_type": "stream",
     "text": [
      "2020-06-12 10:13:25,808\tINFO logger.py:269 -- Removed the following hyperparameter values when logging to tensorboard: {'randomforestclassifier__bootstrap': False}\n"
     ]
    },
    {
     "name": "stdout",
     "output_type": "stream",
     "text": [
      "\u001b[2m\u001b[36m(pid=130503)\u001b[0m Loading dependencies we have already seen...\n",
      "Result for e2e_simple_training_00009:\n",
      "  date: 2020-06-12_10-13-25\n",
      "  done: true\n",
      "  experiment_id: e53d37a5d63042ef8f48e408df4d945e\n",
      "  experiment_tag: 9_randomforestclassifier__bootstrap=False,randomforestclassifier__criterion=gini,randomforestclassifier__max_features=auto,randomforestclassifier__min_samples_leaf=1,randomforestclassifier__min_samples_split=3,randomforestclassifier__n_estimators=68\n",
      "  hostname: cosmos-ml\n",
      "  iterations_since_restore: 1\n",
      "  mean_f1_score: 0.974637859254884\n",
      "  node_ip: 192.168.1.39\n",
      "  pid: 130232\n",
      "  std_f1_score: 0.01548042947107295\n",
      "  time_since_restore: 1.186776876449585\n",
      "  time_this_iter_s: 1.186776876449585\n",
      "  time_total_s: 1.186776876449585\n",
      "  timestamp: 1591953205\n",
      "  timesteps_since_restore: 0\n",
      "  training_iteration: 0\n",
      "  trial_id: 00009\n",
      "  \n",
      "\u001b[2m\u001b[36m(pid=130506)\u001b[0m Loading dependencies we have already seen...\n",
      "\u001b[2m\u001b[36m(pid=130508)\u001b[0m Loading dependencies we have already seen...\n",
      "\u001b[2m\u001b[36m(pid=130505)\u001b[0m Loading dependencies we have already seen...\n"
     ]
    },
    {
     "name": "stderr",
     "output_type": "stream",
     "text": [
      "2020-06-12 10:13:26,379\tINFO logger.py:269 -- Removed the following hyperparameter values when logging to tensorboard: {'randomforestclassifier__bootstrap': True}\n",
      "2020-06-12 10:13:26,449\tINFO logger.py:269 -- Removed the following hyperparameter values when logging to tensorboard: {'randomforestclassifier__bootstrap': True}\n"
     ]
    },
    {
     "name": "stdout",
     "output_type": "stream",
     "text": [
      "Result for e2e_simple_training_00004:\n",
      "  date: 2020-06-12_10-13-26\n",
      "  done: true\n",
      "  experiment_id: 4dc9f098b1b949368baf08dbc8c5d2d2\n",
      "  experiment_tag: 4_randomforestclassifier__bootstrap=True,randomforestclassifier__criterion=gini,randomforestclassifier__max_features=log2,randomforestclassifier__min_samples_leaf=3,randomforestclassifier__min_samples_split=4,randomforestclassifier__n_estimators=137\n",
      "  hostname: cosmos-ml\n",
      "  iterations_since_restore: 1\n",
      "  mean_f1_score: 0.9637023256355611\n",
      "  node_ip: 192.168.1.39\n",
      "  pid: 130235\n",
      "  std_f1_score: 0.018070167109811092\n",
      "  time_since_restore: 2.037821054458618\n",
      "  time_this_iter_s: 2.037821054458618\n",
      "  time_total_s: 2.037821054458618\n",
      "  timestamp: 1591953206\n",
      "  timesteps_since_restore: 0\n",
      "  training_iteration: 0\n",
      "  trial_id: '00004'\n",
      "  \n",
      "Result for e2e_simple_training_00008:\n",
      "  date: 2020-06-12_10-13-26\n",
      "  done: true\n",
      "  experiment_id: d056ca7df121478f9c079bf0dc01ae8c\n",
      "  experiment_tag: 8_randomforestclassifier__bootstrap=True,randomforestclassifier__criterion=gini,randomforestclassifier__max_features=log2,randomforestclassifier__min_samples_leaf=1,randomforestclassifier__min_samples_split=3,randomforestclassifier__n_estimators=92\n",
      "  hostname: cosmos-ml\n",
      "  iterations_since_restore: 1\n",
      "  mean_f1_score: 0.9707403933298941\n",
      "  node_ip: 192.168.1.39\n",
      "  pid: 130233\n",
      "  std_f1_score: 0.01682539712979218\n",
      "  time_since_restore: 1.8401398658752441\n",
      "  time_this_iter_s: 1.8401398658752441\n",
      "  time_total_s: 1.8401398658752441\n",
      "  timestamp: 1591953206\n",
      "  timesteps_since_restore: 0\n",
      "  training_iteration: 0\n",
      "  trial_id: 00008\n",
      "  \n",
      "\u001b[2m\u001b[36m(pid=130534)\u001b[0m Loading dependencies we have already seen...\n",
      "\u001b[2m\u001b[36m(pid=130532)\u001b[0m Loading dependencies we have already seen...\n",
      "\u001b[2m\u001b[36m(pid=130535)\u001b[0m Loading dependencies we have already seen...\n"
     ]
    },
    {
     "name": "stderr",
     "output_type": "stream",
     "text": [
      "2020-06-12 10:13:26,909\tINFO logger.py:269 -- Removed the following hyperparameter values when logging to tensorboard: {'randomforestclassifier__bootstrap': True}\n"
     ]
    },
    {
     "name": "stdout",
     "output_type": "stream",
     "text": [
      "Result for e2e_simple_training_00006:\n",
      "  date: 2020-06-12_10-13-26\n",
      "  done: true\n",
      "  experiment_id: cbc7dbb07317436c9d2d340c6bd893a7\n",
      "  experiment_tag: 6_randomforestclassifier__bootstrap=True,randomforestclassifier__criterion=entropy,randomforestclassifier__max_features=log2,randomforestclassifier__min_samples_leaf=3,randomforestclassifier__min_samples_split=3,randomforestclassifier__n_estimators=128\n",
      "  hostname: cosmos-ml\n",
      "  iterations_since_restore: 1\n",
      "  mean_f1_score: 0.9706053166345002\n",
      "  node_ip: 192.168.1.39\n",
      "  pid: 130239\n",
      "  std_f1_score: 0.017531877490541577\n",
      "  time_since_restore: 2.3396384716033936\n",
      "  time_this_iter_s: 2.3396384716033936\n",
      "  time_total_s: 2.3396384716033936\n",
      "  timestamp: 1591953206\n",
      "  timesteps_since_restore: 0\n",
      "  training_iteration: 0\n",
      "  trial_id: '00006'\n",
      "  \n",
      "\u001b[2m\u001b[36m(pid=130519)\u001b[0m Loading dependencies we have already seen...\n",
      "\u001b[2m\u001b[36m(pid=130564)\u001b[0m Loading dependencies we have already seen...\n",
      "\u001b[2m\u001b[36m(pid=130503)\u001b[0m 2020-06-12 10:13:27,139\tINFO trainable.py:217 -- Getting current IP.\n",
      "\u001b[2m\u001b[36m(pid=130503)\u001b[0m Done...\n",
      "\u001b[2m\u001b[36m(pid=130508)\u001b[0m Done...\n",
      "\u001b[2m\u001b[36m(pid=130508)\u001b[0m 2020-06-12 10:13:27,320\tINFO trainable.py:217 -- Getting current IP.\n",
      "\u001b[2m\u001b[36m(pid=130505)\u001b[0m Done...\n",
      "\u001b[2m\u001b[36m(pid=130505)\u001b[0m 2020-06-12 10:13:27,420\tINFO trainable.py:217 -- Getting current IP.\n",
      "\u001b[2m\u001b[36m(pid=130585)\u001b[0m Loading dependencies we have already seen...\n",
      "\u001b[2m\u001b[36m(pid=130506)\u001b[0m 2020-06-12 10:13:27,468\tINFO trainable.py:217 -- Getting current IP.\n",
      "\u001b[2m\u001b[36m(pid=130506)\u001b[0m Done...\n"
     ]
    },
    {
     "name": "stderr",
     "output_type": "stream",
     "text": [
      "2020-06-12 10:13:27,947\tINFO logger.py:269 -- Removed the following hyperparameter values when logging to tensorboard: {'randomforestclassifier__bootstrap': True}\n"
     ]
    },
    {
     "name": "stdout",
     "output_type": "stream",
     "text": [
      "\u001b[2m\u001b[36m(pid=130534)\u001b[0m 2020-06-12 10:13:27,856\tINFO trainable.py:217 -- Getting current IP.\n",
      "\u001b[2m\u001b[36m(pid=130534)\u001b[0m Done...\n",
      "Result for e2e_simple_training_00011:\n",
      "  date: 2020-06-12_10-13-27\n",
      "  done: true\n",
      "  experiment_id: 553c3b0cafc14a579ce3ba5b39afc950\n",
      "  experiment_tag: 11_randomforestclassifier__bootstrap=True,randomforestclassifier__criterion=entropy,randomforestclassifier__max_features=sqrt,randomforestclassifier__min_samples_leaf=3,randomforestclassifier__min_samples_split=4,randomforestclassifier__n_estimators=27\n",
      "  hostname: cosmos-ml\n",
      "  iterations_since_restore: 1\n",
      "  mean_f1_score: 0.9692623981366355\n",
      "  node_ip: 192.168.1.39\n",
      "  pid: 130505\n",
      "  std_f1_score: 0.01692415607147674\n",
      "  time_since_restore: 0.5188477039337158\n",
      "  time_this_iter_s: 0.5188477039337158\n",
      "  time_total_s: 0.5188477039337158\n",
      "  timestamp: 1591953207\n",
      "  timesteps_since_restore: 0\n",
      "  training_iteration: 0\n",
      "  trial_id: '00011'\n",
      "  \n",
      "\u001b[2m\u001b[36m(pid=130535)\u001b[0m Done...\n",
      "\u001b[2m\u001b[36m(pid=130535)\u001b[0m 2020-06-12 10:13:27,918\tINFO trainable.py:217 -- Getting current IP.\n",
      "\u001b[2m\u001b[36m(pid=130532)\u001b[0m Done...\n",
      "\u001b[2m\u001b[36m(pid=130532)\u001b[0m 2020-06-12 10:13:27,939\tINFO trainable.py:217 -- Getting current IP.\n"
     ]
    },
    {
     "data": {
      "text/html": [
       "== Status ==<br>Memory usage on this node: 9.5/62.8 GiB<br>Using FIFO scheduling algorithm.<br>Resources requested: 9/10 CPUs, 0/0 GPUs, 0.0/33.54 GiB heap, 0.0/11.57 GiB objects<br>Result logdir: /home/steve/ray_results/e2e_simple_training<br>Number of trials: 50 (30 PENDING, 9 RUNNING, 11 TERMINATED)<br><table>\n",
       "<thead>\n",
       "<tr><th>Trial name               </th><th>status    </th><th>loc  </th><th style=\"text-align: right;\">  randomforestclassifier__bootstrap</th><th>randomforestclassifier__criterion  </th><th>randomforestclassifier__max_features  </th><th style=\"text-align: right;\">  randomforestclassifier__min_samples_leaf</th><th style=\"text-align: right;\">  randomforestclassifier__min_samples_split</th><th style=\"text-align: right;\">  randomforestclassifier__n_estimators</th><th style=\"text-align: right;\">  iter</th><th style=\"text-align: right;\">  total time (s)</th></tr>\n",
       "</thead>\n",
       "<tbody>\n",
       "<tr><td>e2e_simple_training_00020</td><td>PENDING   </td><td>     </td><td style=\"text-align: right;\">                                  0</td><td>entropy                            </td><td>sqrt                                  </td><td style=\"text-align: right;\">                                         1</td><td style=\"text-align: right;\">                                          4</td><td style=\"text-align: right;\">                                    13</td><td style=\"text-align: right;\">      </td><td style=\"text-align: right;\">                </td></tr>\n",
       "<tr><td>e2e_simple_training_00021</td><td>PENDING   </td><td>     </td><td style=\"text-align: right;\">                                  0</td><td>entropy                            </td><td>log2                                  </td><td style=\"text-align: right;\">                                         3</td><td style=\"text-align: right;\">                                          3</td><td style=\"text-align: right;\">                                     2</td><td style=\"text-align: right;\">      </td><td style=\"text-align: right;\">                </td></tr>\n",
       "<tr><td>e2e_simple_training_00022</td><td>PENDING   </td><td>     </td><td style=\"text-align: right;\">                                  0</td><td>gini                               </td><td>auto                                  </td><td style=\"text-align: right;\">                                         3</td><td style=\"text-align: right;\">                                          4</td><td style=\"text-align: right;\">                                    42</td><td style=\"text-align: right;\">      </td><td style=\"text-align: right;\">                </td></tr>\n",
       "<tr><td>e2e_simple_training_00023</td><td>PENDING   </td><td>     </td><td style=\"text-align: right;\">                                  0</td><td>entropy                            </td><td>log2                                  </td><td style=\"text-align: right;\">                                         1</td><td style=\"text-align: right;\">                                          3</td><td style=\"text-align: right;\">                                    99</td><td style=\"text-align: right;\">      </td><td style=\"text-align: right;\">                </td></tr>\n",
       "<tr><td>e2e_simple_training_00024</td><td>PENDING   </td><td>     </td><td style=\"text-align: right;\">                                  1</td><td>entropy                            </td><td>sqrt                                  </td><td style=\"text-align: right;\">                                         1</td><td style=\"text-align: right;\">                                          5</td><td style=\"text-align: right;\">                                    60</td><td style=\"text-align: right;\">      </td><td style=\"text-align: right;\">                </td></tr>\n",
       "<tr><td>e2e_simple_training_00025</td><td>PENDING   </td><td>     </td><td style=\"text-align: right;\">                                  1</td><td>entropy                            </td><td>auto                                  </td><td style=\"text-align: right;\">                                         1</td><td style=\"text-align: right;\">                                          4</td><td style=\"text-align: right;\">                                   102</td><td style=\"text-align: right;\">      </td><td style=\"text-align: right;\">                </td></tr>\n",
       "<tr><td>e2e_simple_training_00026</td><td>PENDING   </td><td>     </td><td style=\"text-align: right;\">                                  1</td><td>entropy                            </td><td>log2                                  </td><td style=\"text-align: right;\">                                         3</td><td style=\"text-align: right;\">                                          4</td><td style=\"text-align: right;\">                                    38</td><td style=\"text-align: right;\">      </td><td style=\"text-align: right;\">                </td></tr>\n",
       "<tr><td>e2e_simple_training_00010</td><td>RUNNING   </td><td>     </td><td style=\"text-align: right;\">                                  0</td><td>entropy                            </td><td>log2                                  </td><td style=\"text-align: right;\">                                         2</td><td style=\"text-align: right;\">                                          4</td><td style=\"text-align: right;\">                                    70</td><td style=\"text-align: right;\">      </td><td style=\"text-align: right;\">                </td></tr>\n",
       "<tr><td>e2e_simple_training_00012</td><td>RUNNING   </td><td>     </td><td style=\"text-align: right;\">                                  0</td><td>gini                               </td><td>auto                                  </td><td style=\"text-align: right;\">                                         1</td><td style=\"text-align: right;\">                                          3</td><td style=\"text-align: right;\">                                   113</td><td style=\"text-align: right;\">      </td><td style=\"text-align: right;\">                </td></tr>\n",
       "<tr><td>e2e_simple_training_00013</td><td>RUNNING   </td><td>     </td><td style=\"text-align: right;\">                                  1</td><td>entropy                            </td><td>sqrt                                  </td><td style=\"text-align: right;\">                                         2</td><td style=\"text-align: right;\">                                          5</td><td style=\"text-align: right;\">                                    61</td><td style=\"text-align: right;\">      </td><td style=\"text-align: right;\">                </td></tr>\n",
       "<tr><td>e2e_simple_training_00014</td><td>RUNNING   </td><td>     </td><td style=\"text-align: right;\">                                  1</td><td>entropy                            </td><td>auto                                  </td><td style=\"text-align: right;\">                                         3</td><td style=\"text-align: right;\">                                          5</td><td style=\"text-align: right;\">                                   130</td><td style=\"text-align: right;\">      </td><td style=\"text-align: right;\">                </td></tr>\n",
       "<tr><td>e2e_simple_training_00015</td><td>RUNNING   </td><td>     </td><td style=\"text-align: right;\">                                  1</td><td>gini                               </td><td>sqrt                                  </td><td style=\"text-align: right;\">                                         2</td><td style=\"text-align: right;\">                                          3</td><td style=\"text-align: right;\">                                    37</td><td style=\"text-align: right;\">      </td><td style=\"text-align: right;\">                </td></tr>\n",
       "<tr><td>e2e_simple_training_00016</td><td>RUNNING   </td><td>     </td><td style=\"text-align: right;\">                                  0</td><td>entropy                            </td><td>log2                                  </td><td style=\"text-align: right;\">                                         1</td><td style=\"text-align: right;\">                                          3</td><td style=\"text-align: right;\">                                    82</td><td style=\"text-align: right;\">      </td><td style=\"text-align: right;\">                </td></tr>\n",
       "<tr><td>e2e_simple_training_00017</td><td>RUNNING   </td><td>     </td><td style=\"text-align: right;\">                                  1</td><td>entropy                            </td><td>sqrt                                  </td><td style=\"text-align: right;\">                                         3</td><td style=\"text-align: right;\">                                          5</td><td style=\"text-align: right;\">                                   115</td><td style=\"text-align: right;\">      </td><td style=\"text-align: right;\">                </td></tr>\n",
       "<tr><td>e2e_simple_training_00000</td><td>TERMINATED</td><td>     </td><td style=\"text-align: right;\">                                  1</td><td>entropy                            </td><td>auto                                  </td><td style=\"text-align: right;\">                                         1</td><td style=\"text-align: right;\">                                          5</td><td style=\"text-align: right;\">                                    70</td><td style=\"text-align: right;\">     0</td><td style=\"text-align: right;\">        1.08399 </td></tr>\n",
       "<tr><td>e2e_simple_training_00001</td><td>TERMINATED</td><td>     </td><td style=\"text-align: right;\">                                  1</td><td>gini                               </td><td>log2                                  </td><td style=\"text-align: right;\">                                         1</td><td style=\"text-align: right;\">                                          5</td><td style=\"text-align: right;\">                                    16</td><td style=\"text-align: right;\">     0</td><td style=\"text-align: right;\">        0.254207</td></tr>\n",
       "<tr><td>e2e_simple_training_00002</td><td>TERMINATED</td><td>     </td><td style=\"text-align: right;\">                                  0</td><td>entropy                            </td><td>auto                                  </td><td style=\"text-align: right;\">                                         3</td><td style=\"text-align: right;\">                                          4</td><td style=\"text-align: right;\">                                    52</td><td style=\"text-align: right;\">     0</td><td style=\"text-align: right;\">        0.890486</td></tr>\n",
       "<tr><td>e2e_simple_training_00003</td><td>TERMINATED</td><td>     </td><td style=\"text-align: right;\">                                  1</td><td>entropy                            </td><td>auto                                  </td><td style=\"text-align: right;\">                                         2</td><td style=\"text-align: right;\">                                          5</td><td style=\"text-align: right;\">                                     8</td><td style=\"text-align: right;\">     0</td><td style=\"text-align: right;\">        0.177437</td></tr>\n",
       "<tr><td>e2e_simple_training_00004</td><td>TERMINATED</td><td>     </td><td style=\"text-align: right;\">                                  1</td><td>gini                               </td><td>log2                                  </td><td style=\"text-align: right;\">                                         3</td><td style=\"text-align: right;\">                                          4</td><td style=\"text-align: right;\">                                   137</td><td style=\"text-align: right;\">     0</td><td style=\"text-align: right;\">        2.03782 </td></tr>\n",
       "<tr><td>e2e_simple_training_00005</td><td>TERMINATED</td><td>     </td><td style=\"text-align: right;\">                                  0</td><td>gini                               </td><td>log2                                  </td><td style=\"text-align: right;\">                                         1</td><td style=\"text-align: right;\">                                          5</td><td style=\"text-align: right;\">                                    79</td><td style=\"text-align: right;\">     0</td><td style=\"text-align: right;\">        0.9995  </td></tr>\n",
       "<tr><td>e2e_simple_training_00006</td><td>TERMINATED</td><td>     </td><td style=\"text-align: right;\">                                  1</td><td>entropy                            </td><td>log2                                  </td><td style=\"text-align: right;\">                                         3</td><td style=\"text-align: right;\">                                          3</td><td style=\"text-align: right;\">                                   128</td><td style=\"text-align: right;\">     0</td><td style=\"text-align: right;\">        2.33964 </td></tr>\n",
       "</tbody>\n",
       "</table><br>... 30 more trials not shown (23 PENDING, 2 RUNNING, 4 TERMINATED)<br><br>"
      ],
      "text/plain": [
       "<IPython.core.display.HTML object>"
      ]
     },
     "metadata": {},
     "output_type": "display_data"
    },
    {
     "name": "stderr",
     "output_type": "stream",
     "text": [
      "2020-06-12 10:13:28,201\tINFO logger.py:269 -- Removed the following hyperparameter values when logging to tensorboard: {'randomforestclassifier__bootstrap': False}\n"
     ]
    },
    {
     "name": "stdout",
     "output_type": "stream",
     "text": [
      "\u001b[2m\u001b[36m(pid=130519)\u001b[0m 2020-06-12 10:13:28,164\tINFO trainable.py:217 -- Getting current IP.\n",
      "\u001b[2m\u001b[36m(pid=130519)\u001b[0m Done...\n",
      "\u001b[2m\u001b[36m(pid=130564)\u001b[0m 2020-06-12 10:13:28,163\tINFO trainable.py:217 -- Getting current IP.\n",
      "\u001b[2m\u001b[36m(pid=130564)\u001b[0m Done...\n",
      "Result for e2e_simple_training_00010:\n",
      "  date: 2020-06-12_10-13-28\n",
      "  done: true\n",
      "  experiment_id: 072fdaf349f84234bfc0b8028ec092f0\n",
      "  experiment_tag: 10_randomforestclassifier__bootstrap=False,randomforestclassifier__criterion=entropy,randomforestclassifier__max_features=log2,randomforestclassifier__min_samples_leaf=2,randomforestclassifier__min_samples_split=4,randomforestclassifier__n_estimators=70\n",
      "  hostname: cosmos-ml\n",
      "  iterations_since_restore: 1\n",
      "  mean_f1_score: 0.9707776630834066\n",
      "  node_ip: 192.168.1.39\n",
      "  pid: 130503\n",
      "  std_f1_score: 0.017385106001735463\n",
      "  time_since_restore: 1.0327427387237549\n",
      "  time_this_iter_s: 1.0327427387237549\n",
      "  time_total_s: 1.0327427387237549\n",
      "  timestamp: 1591953208\n",
      "  timesteps_since_restore: 0\n",
      "  training_iteration: 0\n",
      "  trial_id: '00010'\n",
      "  \n"
     ]
    },
    {
     "name": "stderr",
     "output_type": "stream",
     "text": [
      "2020-06-12 10:13:28,534\tINFO logger.py:269 -- Removed the following hyperparameter values when logging to tensorboard: {'randomforestclassifier__bootstrap': True}\n"
     ]
    },
    {
     "name": "stdout",
     "output_type": "stream",
     "text": [
      "\u001b[2m\u001b[36m(pid=130571)\u001b[0m Loading dependencies we have already seen...\n",
      "Result for e2e_simple_training_00015:\n",
      "  date: 2020-06-12_10-13-28\n",
      "  done: true\n",
      "  experiment_id: 079f299e4bf349a3be458b9e019bd735\n",
      "  experiment_tag: 15_randomforestclassifier__bootstrap=True,randomforestclassifier__criterion=gini,randomforestclassifier__max_features=sqrt,randomforestclassifier__min_samples_leaf=2,randomforestclassifier__min_samples_split=3,randomforestclassifier__n_estimators=37\n",
      "  hostname: cosmos-ml\n",
      "  iterations_since_restore: 1\n",
      "  mean_f1_score: 0.9639185258538217\n",
      "  node_ip: 192.168.1.39\n",
      "  pid: 130534\n",
      "  std_f1_score: 0.018848224000225868\n",
      "  time_since_restore: 0.6580455303192139\n",
      "  time_this_iter_s: 0.6580455303192139\n",
      "  time_total_s: 0.6580455303192139\n",
      "  timestamp: 1591953208\n",
      "  timesteps_since_restore: 0\n",
      "  training_iteration: 0\n",
      "  trial_id: '00015'\n",
      "  \n"
     ]
    },
    {
     "name": "stderr",
     "output_type": "stream",
     "text": [
      "2020-06-12 10:13:28,780\tINFO logger.py:269 -- Removed the following hyperparameter values when logging to tensorboard: {'randomforestclassifier__bootstrap': False}\n",
      "2020-06-12 10:13:28,821\tINFO logger.py:269 -- Removed the following hyperparameter values when logging to tensorboard: {'randomforestclassifier__bootstrap': True}\n"
     ]
    },
    {
     "name": "stdout",
     "output_type": "stream",
     "text": [
      "\u001b[2m\u001b[36m(pid=130585)\u001b[0m 2020-06-12 10:13:28,596\tINFO trainable.py:217 -- Getting current IP.\n",
      "\u001b[2m\u001b[36m(pid=130585)\u001b[0m Done...\n",
      "\u001b[2m\u001b[36m(pid=130594)\u001b[0m Loading dependencies we have already seen...\n",
      "Result for e2e_simple_training_00019:\n",
      "  date: 2020-06-12_10-13-28\n",
      "  done: true\n",
      "  experiment_id: 09c92ce3237744209fce9f6d3209498c\n",
      "  experiment_tag: 19_randomforestclassifier__bootstrap=False,randomforestclassifier__criterion=entropy,randomforestclassifier__max_features=sqrt,randomforestclassifier__min_samples_leaf=1,randomforestclassifier__min_samples_split=4,randomforestclassifier__n_estimators=4\n",
      "  hostname: cosmos-ml\n",
      "  iterations_since_restore: 1\n",
      "  mean_f1_score: 0.9538328657132574\n",
      "  node_ip: 192.168.1.39\n",
      "  pid: 130585\n",
      "  std_f1_score: 0.017708334318356694\n",
      "  time_since_restore: 0.15791940689086914\n",
      "  time_this_iter_s: 0.15791940689086914\n",
      "  time_total_s: 0.15791940689086914\n",
      "  timestamp: 1591953208\n",
      "  timesteps_since_restore: 0\n",
      "  training_iteration: 0\n",
      "  trial_id: 00019\n",
      "  \n",
      "Result for e2e_simple_training_00013:\n",
      "  date: 2020-06-12_10-13-28\n",
      "  done: true\n",
      "  experiment_id: 1afc7ba24c244f19a4f483e7e514170c\n",
      "  experiment_tag: 13_randomforestclassifier__bootstrap=True,randomforestclassifier__criterion=entropy,randomforestclassifier__max_features=sqrt,randomforestclassifier__min_samples_leaf=2,randomforestclassifier__min_samples_split=5,randomforestclassifier__n_estimators=61\n",
      "  hostname: cosmos-ml\n",
      "  iterations_since_restore: 1\n",
      "  mean_f1_score: 0.9720598923216036\n",
      "  node_ip: 192.168.1.39\n",
      "  pid: 130506\n",
      "  std_f1_score: 0.015361942474842143\n",
      "  time_since_restore: 1.3118841648101807\n",
      "  time_this_iter_s: 1.3118841648101807\n",
      "  time_total_s: 1.3118841648101807\n",
      "  timestamp: 1591953208\n",
      "  timesteps_since_restore: 0\n",
      "  training_iteration: 0\n",
      "  trial_id: '00013'\n",
      "  \n",
      "\u001b[2m\u001b[36m(pid=130566)\u001b[0m Loading dependencies we have already seen...\n"
     ]
    },
    {
     "name": "stderr",
     "output_type": "stream",
     "text": [
      "2020-06-12 10:13:29,290\tINFO logger.py:269 -- Removed the following hyperparameter values when logging to tensorboard: {'randomforestclassifier__bootstrap': False}\n",
      "2020-06-12 10:13:29,325\tINFO logger.py:269 -- Removed the following hyperparameter values when logging to tensorboard: {'randomforestclassifier__bootstrap': False}\n"
     ]
    },
    {
     "name": "stdout",
     "output_type": "stream",
     "text": [
      "\u001b[2m\u001b[36m(pid=130546)\u001b[0m Loading dependencies we have already seen...\n",
      "Result for e2e_simple_training_00012:\n",
      "  date: 2020-06-12_10-13-29\n",
      "  done: true\n",
      "  experiment_id: 63098a23b76b468b8dcfe1a5a8e6b72e\n",
      "  experiment_tag: 12_randomforestclassifier__bootstrap=False,randomforestclassifier__criterion=gini,randomforestclassifier__max_features=auto,randomforestclassifier__min_samples_leaf=1,randomforestclassifier__min_samples_split=3,randomforestclassifier__n_estimators=113\n",
      "  hostname: cosmos-ml\n",
      "  iterations_since_restore: 1\n",
      "  mean_f1_score: 0.9732586828757077\n",
      "  node_ip: 192.168.1.39\n",
      "  pid: 130508\n",
      "  std_f1_score: 0.014020829354738468\n",
      "  time_since_restore: 1.9510838985443115\n",
      "  time_this_iter_s: 1.9510838985443115\n",
      "  time_total_s: 1.9510838985443115\n",
      "  timestamp: 1591953209\n",
      "  timesteps_since_restore: 0\n",
      "  training_iteration: 0\n",
      "  trial_id: '00012'\n",
      "  \n",
      "Result for e2e_simple_training_00016:\n",
      "  date: 2020-06-12_10-13-29\n",
      "  done: true\n",
      "  experiment_id: fbee399d9f6e452a9fccf73941e8e4e4\n",
      "  experiment_tag: 16_randomforestclassifier__bootstrap=False,randomforestclassifier__criterion=entropy,randomforestclassifier__max_features=log2,randomforestclassifier__min_samples_leaf=1,randomforestclassifier__min_samples_split=3,randomforestclassifier__n_estimators=82\n",
      "  hostname: cosmos-ml\n",
      "  iterations_since_restore: 1\n",
      "  mean_f1_score: 0.9695712511062056\n",
      "  node_ip: 192.168.1.39\n",
      "  pid: 130532\n",
      "  std_f1_score: 0.0148075857739132\n",
      "  time_since_restore: 1.3616793155670166\n",
      "  time_this_iter_s: 1.3616793155670166\n",
      "  time_total_s: 1.3616793155670166\n",
      "  timestamp: 1591953209\n",
      "  timesteps_since_restore: 0\n",
      "  training_iteration: 0\n",
      "  trial_id: '00016'\n",
      "  \n",
      "\u001b[2m\u001b[36m(pid=130563)\u001b[0m Loading dependencies we have already seen...\n"
     ]
    },
    {
     "name": "stderr",
     "output_type": "stream",
     "text": [
      "2020-06-12 10:13:29,432\tINFO logger.py:269 -- Removed the following hyperparameter values when logging to tensorboard: {'randomforestclassifier__bootstrap': False}\n"
     ]
    },
    {
     "name": "stdout",
     "output_type": "stream",
     "text": [
      "Result for e2e_simple_training_00018:\n",
      "  date: 2020-06-12_10-13-29\n",
      "  done: true\n",
      "  experiment_id: 4f80fa21e81645a39d491097a8debb5b\n",
      "  experiment_tag: 18_randomforestclassifier__bootstrap=False,randomforestclassifier__criterion=entropy,randomforestclassifier__max_features=sqrt,randomforestclassifier__min_samples_leaf=3,randomforestclassifier__min_samples_split=3,randomforestclassifier__n_estimators=50\n",
      "  hostname: cosmos-ml\n",
      "  iterations_since_restore: 1\n",
      "  mean_f1_score: 0.9763941683498665\n",
      "  node_ip: 192.168.1.39\n",
      "  pid: 130564\n",
      "  std_f1_score: 0.012763209472700673\n",
      "  time_since_restore: 1.254049301147461\n",
      "  time_this_iter_s: 1.254049301147461\n",
      "  time_total_s: 1.254049301147461\n",
      "  timestamp: 1591953209\n",
      "  timesteps_since_restore: 0\n",
      "  training_iteration: 0\n",
      "  trial_id: 00018\n",
      "  \n",
      "\u001b[2m\u001b[36m(pid=130571)\u001b[0m Done...\n",
      "\u001b[2m\u001b[36m(pid=130571)\u001b[0m 2020-06-12 10:13:29,636\tINFO trainable.py:217 -- Getting current IP.\n",
      "\u001b[2m\u001b[36m(pid=130560)\u001b[0m Loading dependencies we have already seen...\n"
     ]
    },
    {
     "name": "stderr",
     "output_type": "stream",
     "text": [
      "2020-06-12 10:13:30,005\tINFO logger.py:269 -- Removed the following hyperparameter values when logging to tensorboard: {'randomforestclassifier__bootstrap': False}\n"
     ]
    },
    {
     "name": "stdout",
     "output_type": "stream",
     "text": [
      "\u001b[2m\u001b[36m(pid=130594)\u001b[0m 2020-06-12 10:13:29,850\tINFO trainable.py:217 -- Getting current IP.\n",
      "\u001b[2m\u001b[36m(pid=130594)\u001b[0m Done...\n",
      "Result for e2e_simple_training_00021:\n",
      "  date: 2020-06-12_10-13-29\n",
      "  done: true\n",
      "  experiment_id: bea211fc356540128b9c2d45ae481651\n",
      "  experiment_tag: 21_randomforestclassifier__bootstrap=False,randomforestclassifier__criterion=entropy,randomforestclassifier__max_features=log2,randomforestclassifier__min_samples_leaf=3,randomforestclassifier__min_samples_split=3,randomforestclassifier__n_estimators=2\n",
      "  hostname: cosmos-ml\n",
      "  iterations_since_restore: 1\n",
      "  mean_f1_score: 0.9481653794476766\n",
      "  node_ip: 192.168.1.39\n",
      "  pid: 130594\n",
      "  std_f1_score: 0.030195244074021767\n",
      "  time_since_restore: 0.14188814163208008\n",
      "  time_this_iter_s: 0.14188814163208008\n",
      "  time_total_s: 0.14188814163208008\n",
      "  timestamp: 1591953209\n",
      "  timesteps_since_restore: 0\n",
      "  training_iteration: 0\n",
      "  trial_id: '00021'\n",
      "  \n"
     ]
    },
    {
     "name": "stderr",
     "output_type": "stream",
     "text": [
      "2020-06-12 10:13:30,115\tINFO logger.py:269 -- Removed the following hyperparameter values when logging to tensorboard: {'randomforestclassifier__bootstrap': False}\n",
      "2020-06-12 10:13:30,240\tINFO logger.py:269 -- Removed the following hyperparameter values when logging to tensorboard: {'randomforestclassifier__bootstrap': True}\n"
     ]
    },
    {
     "name": "stdout",
     "output_type": "stream",
     "text": [
      "Result for e2e_simple_training_00020:\n",
      "  date: 2020-06-12_10-13-30\n",
      "  done: true\n",
      "  experiment_id: ec7310643c3349e8aa261e1cd3f1fc8b\n",
      "  experiment_tag: 20_randomforestclassifier__bootstrap=False,randomforestclassifier__criterion=entropy,randomforestclassifier__max_features=sqrt,randomforestclassifier__min_samples_leaf=1,randomforestclassifier__min_samples_split=4,randomforestclassifier__n_estimators=13\n",
      "  hostname: cosmos-ml\n",
      "  iterations_since_restore: 1\n",
      "  mean_f1_score: 0.9651500302083109\n",
      "  node_ip: 192.168.1.39\n",
      "  pid: 130571\n",
      "  std_f1_score: 0.013138571753952156\n",
      "  time_since_restore: 0.46683192253112793\n",
      "  time_this_iter_s: 0.46683192253112793\n",
      "  time_total_s: 0.46683192253112793\n",
      "  timestamp: 1591953210\n",
      "  timesteps_since_restore: 0\n",
      "  training_iteration: 0\n",
      "  trial_id: '00020'\n",
      "  \n",
      "Result for e2e_simple_training_00014:\n",
      "  date: 2020-06-12_10-13-30\n",
      "  done: true\n",
      "  experiment_id: fefaf2a4ab104ecfbafe37ab0a7a3f04\n",
      "  experiment_tag: 14_randomforestclassifier__bootstrap=True,randomforestclassifier__criterion=entropy,randomforestclassifier__max_features=auto,randomforestclassifier__min_samples_leaf=3,randomforestclassifier__min_samples_split=5,randomforestclassifier__n_estimators=130\n",
      "  hostname: cosmos-ml\n",
      "  iterations_since_restore: 1\n",
      "  mean_f1_score: 0.9735969368373715\n",
      "  node_ip: 192.168.1.39\n",
      "  pid: 130535\n",
      "  std_f1_score: 0.0160032139949415\n",
      "  time_since_restore: 2.311932325363159\n",
      "  time_this_iter_s: 2.311932325363159\n",
      "  time_total_s: 2.311932325363159\n",
      "  timestamp: 1591953210\n",
      "  timesteps_since_restore: 0\n",
      "  training_iteration: 0\n",
      "  trial_id: '00014'\n",
      "  \n",
      "\u001b[2m\u001b[36m(pid=130566)\u001b[0m 2020-06-12 10:13:30,367\tINFO trainable.py:217 -- Getting current IP.\n",
      "\u001b[2m\u001b[36m(pid=130566)\u001b[0m Done...\n"
     ]
    },
    {
     "name": "stderr",
     "output_type": "stream",
     "text": [
      "2020-06-12 10:13:30,680\tINFO logger.py:269 -- Removed the following hyperparameter values when logging to tensorboard: {'randomforestclassifier__bootstrap': True}\n"
     ]
    },
    {
     "name": "stdout",
     "output_type": "stream",
     "text": [
      "\u001b[2m\u001b[36m(pid=130734)\u001b[0m Loading dependencies we have already seen...\n",
      "Result for e2e_simple_training_00017:\n",
      "  date: 2020-06-12_10-13-30\n",
      "  done: true\n",
      "  experiment_id: 4c1e490aefe84c79833222429ed6431a\n",
      "  experiment_tag: 17_randomforestclassifier__bootstrap=True,randomforestclassifier__criterion=entropy,randomforestclassifier__max_features=sqrt,randomforestclassifier__min_samples_leaf=3,randomforestclassifier__min_samples_split=5,randomforestclassifier__n_estimators=115\n",
      "  hostname: cosmos-ml\n",
      "  iterations_since_restore: 1\n",
      "  mean_f1_score: 0.9735969368373715\n",
      "  node_ip: 192.168.1.39\n",
      "  pid: 130519\n",
      "  std_f1_score: 0.0160032139949415\n",
      "  time_since_restore: 2.497235059738159\n",
      "  time_this_iter_s: 2.497235059738159\n",
      "  time_total_s: 2.497235059738159\n",
      "  timestamp: 1591953210\n",
      "  timesteps_since_restore: 0\n",
      "  training_iteration: 0\n",
      "  trial_id: '00017'\n",
      "  \n",
      "\u001b[2m\u001b[36m(pid=130563)\u001b[0m 2020-06-12 10:13:30,962\tINFO trainable.py:217 -- Getting current IP.\n",
      "\u001b[2m\u001b[36m(pid=130563)\u001b[0m Done...\n",
      "\u001b[2m\u001b[36m(pid=130737)\u001b[0m Loading dependencies we have already seen...\n",
      "\u001b[2m\u001b[36m(pid=130740)\u001b[0m Loading dependencies we have already seen...\n",
      "\u001b[2m\u001b[36m(pid=130546)\u001b[0m 2020-06-12 10:13:31,121\tINFO trainable.py:217 -- Getting current IP.\n",
      "\u001b[2m\u001b[36m(pid=130546)\u001b[0m Done...\n",
      "\u001b[2m\u001b[36m(pid=130739)\u001b[0m Loading dependencies we have already seen...\n"
     ]
    },
    {
     "name": "stderr",
     "output_type": "stream",
     "text": [
      "2020-06-12 10:13:31,431\tINFO logger.py:269 -- Removed the following hyperparameter values when logging to tensorboard: {'randomforestclassifier__bootstrap': False}\n"
     ]
    },
    {
     "name": "stdout",
     "output_type": "stream",
     "text": [
      "\u001b[2m\u001b[36m(pid=130741)\u001b[0m Loading dependencies we have already seen...\n",
      "\u001b[2m\u001b[36m(pid=130735)\u001b[0m Loading dependencies we have already seen...\n",
      "\u001b[2m\u001b[36m(pid=130560)\u001b[0m Done...\n",
      "\u001b[2m\u001b[36m(pid=130560)\u001b[0m 2020-06-12 10:13:31,403\tINFO trainable.py:217 -- Getting current IP.\n",
      "Result for e2e_simple_training_00022:\n",
      "  date: 2020-06-12_10-13-31\n",
      "  done: true\n",
      "  experiment_id: a653a6005ad14eaeb8243e73976d5eba\n",
      "  experiment_tag: 22_randomforestclassifier__bootstrap=False,randomforestclassifier__criterion=gini,randomforestclassifier__max_features=auto,randomforestclassifier__min_samples_leaf=3,randomforestclassifier__min_samples_split=4,randomforestclassifier__n_estimators=42\n",
      "  hostname: cosmos-ml\n",
      "  iterations_since_restore: 1\n",
      "  mean_f1_score: 0.968000667302497\n",
      "  node_ip: 192.168.1.39\n",
      "  pid: 130566\n",
      "  std_f1_score: 0.015094792431729549\n",
      "  time_since_restore: 1.0524406433105469\n",
      "  time_this_iter_s: 1.0524406433105469\n",
      "  time_total_s: 1.0524406433105469\n",
      "  timestamp: 1591953211\n",
      "  timesteps_since_restore: 0\n",
      "  training_iteration: 0\n",
      "  trial_id: '00022'\n",
      "  \n",
      "\u001b[2m\u001b[36m(pid=130774)\u001b[0m Loading dependencies we have already seen...\n"
     ]
    },
    {
     "name": "stderr",
     "output_type": "stream",
     "text": [
      "2020-06-12 10:13:32,053\tINFO logger.py:269 -- Removed the following hyperparameter values when logging to tensorboard: {'randomforestclassifier__bootstrap': True}\n"
     ]
    },
    {
     "name": "stdout",
     "output_type": "stream",
     "text": [
      "Result for e2e_simple_training_00024:\n",
      "  date: 2020-06-12_10-13-32\n",
      "  done: true\n",
      "  experiment_id: 4483a348311b4e55bde930f7cca9b942\n",
      "  experiment_tag: 24_randomforestclassifier__bootstrap=True,randomforestclassifier__criterion=entropy,randomforestclassifier__max_features=sqrt,randomforestclassifier__min_samples_leaf=1,randomforestclassifier__min_samples_split=5,randomforestclassifier__n_estimators=60\n",
      "  hostname: cosmos-ml\n",
      "  iterations_since_restore: 1\n",
      "  mean_f1_score: 0.9720598923216036\n",
      "  node_ip: 192.168.1.39\n",
      "  pid: 130563\n",
      "  std_f1_score: 0.015361942474842143\n",
      "  time_since_restore: 1.080038070678711\n",
      "  time_this_iter_s: 1.080038070678711\n",
      "  time_total_s: 1.080038070678711\n",
      "  timestamp: 1591953212\n",
      "  timesteps_since_restore: 0\n",
      "  training_iteration: 0\n",
      "  trial_id: '00024'\n",
      "  \n",
      "\u001b[2m\u001b[36m(pid=130737)\u001b[0m 2020-06-12 10:13:32,040\tINFO trainable.py:217 -- Getting current IP.\n",
      "\u001b[2m\u001b[36m(pid=130737)\u001b[0m Done...\n",
      "\u001b[2m\u001b[36m(pid=130734)\u001b[0m Done...\n",
      "\u001b[2m\u001b[36m(pid=130734)\u001b[0m 2020-06-12 10:13:32,119\tINFO trainable.py:217 -- Getting current IP.\n",
      "\u001b[2m\u001b[36m(pid=130740)\u001b[0m 2020-06-12 10:13:32,166\tINFO trainable.py:217 -- Getting current IP.\n",
      "\u001b[2m\u001b[36m(pid=130740)\u001b[0m Done...\n",
      "\u001b[2m\u001b[36m(pid=130739)\u001b[0m Done...\n",
      "\u001b[2m\u001b[36m(pid=130739)\u001b[0m 2020-06-12 10:13:32,236\tINFO trainable.py:217 -- Getting current IP.\n",
      "\u001b[2m\u001b[36m(pid=130741)\u001b[0m 2020-06-12 10:13:32,219\tINFO trainable.py:217 -- Getting current IP.\n",
      "\u001b[2m\u001b[36m(pid=130741)\u001b[0m Done...\n",
      "\u001b[2m\u001b[36m(pid=130735)\u001b[0m 2020-06-12 10:13:32,314\tINFO trainable.py:217 -- Getting current IP.\n",
      "\u001b[2m\u001b[36m(pid=130735)\u001b[0m Done...\n",
      "\u001b[2m\u001b[36m(pid=130757)\u001b[0m Loading dependencies we have already seen...\n"
     ]
    },
    {
     "name": "stderr",
     "output_type": "stream",
     "text": [
      "2020-06-12 10:13:32,577\tINFO logger.py:269 -- Removed the following hyperparameter values when logging to tensorboard: {'randomforestclassifier__bootstrap': False}\n",
      "2020-06-12 10:13:32,651\tINFO logger.py:269 -- Removed the following hyperparameter values when logging to tensorboard: {'randomforestclassifier__bootstrap': False}\n",
      "2020-06-12 10:13:32,719\tINFO logger.py:269 -- Removed the following hyperparameter values when logging to tensorboard: {'randomforestclassifier__bootstrap': True}\n"
     ]
    },
    {
     "name": "stdout",
     "output_type": "stream",
     "text": [
      "Result for e2e_simple_training_00029:\n",
      "  date: 2020-06-12_10-13-32\n",
      "  done: true\n",
      "  experiment_id: 6e0a75518c1840229247c5fec82a5c60\n",
      "  experiment_tag: 29_randomforestclassifier__bootstrap=False,randomforestclassifier__criterion=gini,randomforestclassifier__max_features=sqrt,randomforestclassifier__min_samples_leaf=1,randomforestclassifier__min_samples_split=3,randomforestclassifier__n_estimators=9\n",
      "  hostname: cosmos-ml\n",
      "  iterations_since_restore: 1\n",
      "  mean_f1_score: 0.9679559561657876\n",
      "  node_ip: 192.168.1.39\n",
      "  pid: 130735\n",
      "  std_f1_score: 0.011158538969646139\n",
      "  time_since_restore: 0.25303149223327637\n",
      "  time_this_iter_s: 0.25303149223327637\n",
      "  time_total_s: 0.25303149223327637\n",
      "  timestamp: 1591953212\n",
      "  timesteps_since_restore: 0\n",
      "  training_iteration: 0\n",
      "  trial_id: 00029\n",
      "  \n",
      "Result for e2e_simple_training_00023:\n",
      "  date: 2020-06-12_10-13-32\n",
      "  done: true\n",
      "  experiment_id: 7a14c4f300b847f084e132c3501e53ac\n",
      "  experiment_tag: 23_randomforestclassifier__bootstrap=False,randomforestclassifier__criterion=entropy,randomforestclassifier__max_features=log2,randomforestclassifier__min_samples_leaf=1,randomforestclassifier__min_samples_split=3,randomforestclassifier__n_estimators=99\n",
      "  hostname: cosmos-ml\n",
      "  iterations_since_restore: 1\n",
      "  mean_f1_score: 0.9707776630834066\n",
      "  node_ip: 192.168.1.39\n",
      "  pid: 130546\n",
      "  std_f1_score: 0.017385106001735463\n",
      "  time_since_restore: 1.5182123184204102\n",
      "  time_this_iter_s: 1.5182123184204102\n",
      "  time_total_s: 1.5182123184204102\n",
      "  timestamp: 1591953212\n",
      "  timesteps_since_restore: 0\n",
      "  training_iteration: 0\n",
      "  trial_id: '00023'\n",
      "  \n",
      "Result for e2e_simple_training_00026:\n",
      "  date: 2020-06-12_10-13-32\n",
      "  done: true\n",
      "  experiment_id: 003bac8cf65649eeb2aa0bf5e78974b3\n",
      "  experiment_tag: 26_randomforestclassifier__bootstrap=True,randomforestclassifier__criterion=entropy,randomforestclassifier__max_features=log2,randomforestclassifier__min_samples_leaf=3,randomforestclassifier__min_samples_split=4,randomforestclassifier__n_estimators=38\n",
      "  hostname: cosmos-ml\n",
      "  iterations_since_restore: 1\n",
      "  mean_f1_score: 0.9677650581958306\n",
      "  node_ip: 192.168.1.39\n",
      "  pid: 130734\n",
      "  std_f1_score: 0.018924705057251183\n",
      "  time_since_restore: 0.570697546005249\n",
      "  time_this_iter_s: 0.570697546005249\n",
      "  time_total_s: 0.570697546005249\n",
      "  timestamp: 1591953212\n",
      "  timesteps_since_restore: 0\n",
      "  training_iteration: 0\n",
      "  trial_id: '00026'\n",
      "  \n"
     ]
    },
    {
     "name": "stderr",
     "output_type": "stream",
     "text": [
      "2020-06-12 10:13:32,852\tINFO logger.py:269 -- Removed the following hyperparameter values when logging to tensorboard: {'randomforestclassifier__bootstrap': True}\n",
      "2020-06-12 10:13:32,969\tINFO logger.py:269 -- Removed the following hyperparameter values when logging to tensorboard: {'randomforestclassifier__bootstrap': False}\n"
     ]
    },
    {
     "name": "stdout",
     "output_type": "stream",
     "text": [
      "Result for e2e_simple_training_00025:\n",
      "  date: 2020-06-12_10-13-32\n",
      "  done: true\n",
      "  experiment_id: f810fde0fe6342f583a1b6a4ec5e0578\n",
      "  experiment_tag: 25_randomforestclassifier__bootstrap=True,randomforestclassifier__criterion=entropy,randomforestclassifier__max_features=auto,randomforestclassifier__min_samples_leaf=1,randomforestclassifier__min_samples_split=4,randomforestclassifier__n_estimators=102\n",
      "  hostname: cosmos-ml\n",
      "  iterations_since_restore: 1\n",
      "  mean_f1_score: 0.970801382215355\n",
      "  node_ip: 192.168.1.39\n",
      "  pid: 130560\n",
      "  std_f1_score: 0.013531258660220686\n",
      "  time_since_restore: 1.4399769306182861\n",
      "  time_this_iter_s: 1.4399769306182861\n",
      "  time_total_s: 1.4399769306182861\n",
      "  timestamp: 1591953212\n",
      "  timesteps_since_restore: 0\n",
      "  training_iteration: 0\n",
      "  trial_id: '00025'\n",
      "  \n",
      "Result for e2e_simple_training_00028:\n",
      "  date: 2020-06-12_10-13-32\n",
      "  done: true\n",
      "  experiment_id: 7d85b4373cf445ffb75a50e7b2e30b2e\n",
      "  experiment_tag: 28_randomforestclassifier__bootstrap=False,randomforestclassifier__criterion=entropy,randomforestclassifier__max_features=auto,randomforestclassifier__min_samples_leaf=1,randomforestclassifier__min_samples_split=3,randomforestclassifier__n_estimators=56\n",
      "  hostname: cosmos-ml\n",
      "  iterations_since_restore: 1\n",
      "  mean_f1_score: 0.9777340922583619\n",
      "  node_ip: 192.168.1.39\n",
      "  pid: 130737\n",
      "  std_f1_score: 0.00918465633478364\n",
      "  time_since_restore: 0.9196925163269043\n",
      "  time_this_iter_s: 0.9196925163269043\n",
      "  time_total_s: 0.9196925163269043\n",
      "  timestamp: 1591953212\n",
      "  timesteps_since_restore: 0\n",
      "  training_iteration: 0\n",
      "  trial_id: 00028\n",
      "  \n"
     ]
    },
    {
     "data": {
      "text/html": [
       "== Status ==<br>Memory usage on this node: 9.6/62.8 GiB<br>Using FIFO scheduling algorithm.<br>Resources requested: 9/10 CPUs, 0/0 GPUs, 0.0/33.54 GiB heap, 0.0/11.57 GiB objects<br>Result logdir: /home/steve/ray_results/e2e_simple_training<br>Number of trials: 50 (12 PENDING, 9 RUNNING, 29 TERMINATED)<br><table>\n",
       "<thead>\n",
       "<tr><th>Trial name               </th><th>status    </th><th>loc  </th><th style=\"text-align: right;\">  randomforestclassifier__bootstrap</th><th>randomforestclassifier__criterion  </th><th>randomforestclassifier__max_features  </th><th style=\"text-align: right;\">  randomforestclassifier__min_samples_leaf</th><th style=\"text-align: right;\">  randomforestclassifier__min_samples_split</th><th style=\"text-align: right;\">  randomforestclassifier__n_estimators</th><th style=\"text-align: right;\">  iter</th><th style=\"text-align: right;\">  total time (s)</th></tr>\n",
       "</thead>\n",
       "<tbody>\n",
       "<tr><td>e2e_simple_training_00038</td><td>PENDING   </td><td>     </td><td style=\"text-align: right;\">                                  0</td><td>gini                               </td><td>log2                                  </td><td style=\"text-align: right;\">                                         3</td><td style=\"text-align: right;\">                                          3</td><td style=\"text-align: right;\">                                    55</td><td style=\"text-align: right;\">      </td><td style=\"text-align: right;\">                </td></tr>\n",
       "<tr><td>e2e_simple_training_00039</td><td>PENDING   </td><td>     </td><td style=\"text-align: right;\">                                  0</td><td>gini                               </td><td>sqrt                                  </td><td style=\"text-align: right;\">                                         2</td><td style=\"text-align: right;\">                                          4</td><td style=\"text-align: right;\">                                    76</td><td style=\"text-align: right;\">      </td><td style=\"text-align: right;\">                </td></tr>\n",
       "<tr><td>e2e_simple_training_00040</td><td>PENDING   </td><td>     </td><td style=\"text-align: right;\">                                  1</td><td>gini                               </td><td>auto                                  </td><td style=\"text-align: right;\">                                         3</td><td style=\"text-align: right;\">                                          5</td><td style=\"text-align: right;\">                                   143</td><td style=\"text-align: right;\">      </td><td style=\"text-align: right;\">                </td></tr>\n",
       "<tr><td>e2e_simple_training_00041</td><td>PENDING   </td><td>     </td><td style=\"text-align: right;\">                                  1</td><td>entropy                            </td><td>log2                                  </td><td style=\"text-align: right;\">                                         2</td><td style=\"text-align: right;\">                                          5</td><td style=\"text-align: right;\">                                    79</td><td style=\"text-align: right;\">      </td><td style=\"text-align: right;\">                </td></tr>\n",
       "<tr><td>e2e_simple_training_00042</td><td>PENDING   </td><td>     </td><td style=\"text-align: right;\">                                  0</td><td>gini                               </td><td>log2                                  </td><td style=\"text-align: right;\">                                         2</td><td style=\"text-align: right;\">                                          4</td><td style=\"text-align: right;\">                                    27</td><td style=\"text-align: right;\">      </td><td style=\"text-align: right;\">                </td></tr>\n",
       "<tr><td>e2e_simple_training_00043</td><td>PENDING   </td><td>     </td><td style=\"text-align: right;\">                                  1</td><td>gini                               </td><td>log2                                  </td><td style=\"text-align: right;\">                                         1</td><td style=\"text-align: right;\">                                          5</td><td style=\"text-align: right;\">                                    70</td><td style=\"text-align: right;\">      </td><td style=\"text-align: right;\">                </td></tr>\n",
       "<tr><td>e2e_simple_training_00044</td><td>PENDING   </td><td>     </td><td style=\"text-align: right;\">                                  0</td><td>entropy                            </td><td>log2                                  </td><td style=\"text-align: right;\">                                         3</td><td style=\"text-align: right;\">                                          5</td><td style=\"text-align: right;\">                                    66</td><td style=\"text-align: right;\">      </td><td style=\"text-align: right;\">                </td></tr>\n",
       "<tr><td>e2e_simple_training_00027</td><td>RUNNING   </td><td>     </td><td style=\"text-align: right;\">                                  0</td><td>entropy                            </td><td>sqrt                                  </td><td style=\"text-align: right;\">                                         1</td><td style=\"text-align: right;\">                                          4</td><td style=\"text-align: right;\">                                   108</td><td style=\"text-align: right;\">      </td><td style=\"text-align: right;\">                </td></tr>\n",
       "<tr><td>e2e_simple_training_00030</td><td>RUNNING   </td><td>     </td><td style=\"text-align: right;\">                                  1</td><td>entropy                            </td><td>log2                                  </td><td style=\"text-align: right;\">                                         3</td><td style=\"text-align: right;\">                                          4</td><td style=\"text-align: right;\">                                    82</td><td style=\"text-align: right;\">      </td><td style=\"text-align: right;\">                </td></tr>\n",
       "<tr><td>e2e_simple_training_00031</td><td>RUNNING   </td><td>     </td><td style=\"text-align: right;\">                                  0</td><td>entropy                            </td><td>auto                                  </td><td style=\"text-align: right;\">                                         1</td><td style=\"text-align: right;\">                                          3</td><td style=\"text-align: right;\">                                    78</td><td style=\"text-align: right;\">      </td><td style=\"text-align: right;\">                </td></tr>\n",
       "<tr><td>e2e_simple_training_00032</td><td>RUNNING   </td><td>     </td><td style=\"text-align: right;\">                                  1</td><td>entropy                            </td><td>sqrt                                  </td><td style=\"text-align: right;\">                                         3</td><td style=\"text-align: right;\">                                          4</td><td style=\"text-align: right;\">                                    69</td><td style=\"text-align: right;\">      </td><td style=\"text-align: right;\">                </td></tr>\n",
       "<tr><td>e2e_simple_training_00033</td><td>RUNNING   </td><td>     </td><td style=\"text-align: right;\">                                  1</td><td>entropy                            </td><td>log2                                  </td><td style=\"text-align: right;\">                                         2</td><td style=\"text-align: right;\">                                          4</td><td style=\"text-align: right;\">                                     8</td><td style=\"text-align: right;\">      </td><td style=\"text-align: right;\">                </td></tr>\n",
       "<tr><td>e2e_simple_training_00034</td><td>RUNNING   </td><td>     </td><td style=\"text-align: right;\">                                  1</td><td>gini                               </td><td>auto                                  </td><td style=\"text-align: right;\">                                         3</td><td style=\"text-align: right;\">                                          5</td><td style=\"text-align: right;\">                                   130</td><td style=\"text-align: right;\">      </td><td style=\"text-align: right;\">                </td></tr>\n",
       "<tr><td>e2e_simple_training_00035</td><td>RUNNING   </td><td>     </td><td style=\"text-align: right;\">                                  0</td><td>gini                               </td><td>auto                                  </td><td style=\"text-align: right;\">                                         3</td><td style=\"text-align: right;\">                                          3</td><td style=\"text-align: right;\">                                   110</td><td style=\"text-align: right;\">      </td><td style=\"text-align: right;\">                </td></tr>\n",
       "<tr><td>e2e_simple_training_00000</td><td>TERMINATED</td><td>     </td><td style=\"text-align: right;\">                                  1</td><td>entropy                            </td><td>auto                                  </td><td style=\"text-align: right;\">                                         1</td><td style=\"text-align: right;\">                                          5</td><td style=\"text-align: right;\">                                    70</td><td style=\"text-align: right;\">     0</td><td style=\"text-align: right;\">        1.08399 </td></tr>\n",
       "<tr><td>e2e_simple_training_00001</td><td>TERMINATED</td><td>     </td><td style=\"text-align: right;\">                                  1</td><td>gini                               </td><td>log2                                  </td><td style=\"text-align: right;\">                                         1</td><td style=\"text-align: right;\">                                          5</td><td style=\"text-align: right;\">                                    16</td><td style=\"text-align: right;\">     0</td><td style=\"text-align: right;\">        0.254207</td></tr>\n",
       "<tr><td>e2e_simple_training_00002</td><td>TERMINATED</td><td>     </td><td style=\"text-align: right;\">                                  0</td><td>entropy                            </td><td>auto                                  </td><td style=\"text-align: right;\">                                         3</td><td style=\"text-align: right;\">                                          4</td><td style=\"text-align: right;\">                                    52</td><td style=\"text-align: right;\">     0</td><td style=\"text-align: right;\">        0.890486</td></tr>\n",
       "<tr><td>e2e_simple_training_00003</td><td>TERMINATED</td><td>     </td><td style=\"text-align: right;\">                                  1</td><td>entropy                            </td><td>auto                                  </td><td style=\"text-align: right;\">                                         2</td><td style=\"text-align: right;\">                                          5</td><td style=\"text-align: right;\">                                     8</td><td style=\"text-align: right;\">     0</td><td style=\"text-align: right;\">        0.177437</td></tr>\n",
       "<tr><td>e2e_simple_training_00004</td><td>TERMINATED</td><td>     </td><td style=\"text-align: right;\">                                  1</td><td>gini                               </td><td>log2                                  </td><td style=\"text-align: right;\">                                         3</td><td style=\"text-align: right;\">                                          4</td><td style=\"text-align: right;\">                                   137</td><td style=\"text-align: right;\">     0</td><td style=\"text-align: right;\">        2.03782 </td></tr>\n",
       "<tr><td>e2e_simple_training_00005</td><td>TERMINATED</td><td>     </td><td style=\"text-align: right;\">                                  0</td><td>gini                               </td><td>log2                                  </td><td style=\"text-align: right;\">                                         1</td><td style=\"text-align: right;\">                                          5</td><td style=\"text-align: right;\">                                    79</td><td style=\"text-align: right;\">     0</td><td style=\"text-align: right;\">        0.9995  </td></tr>\n",
       "<tr><td>e2e_simple_training_00006</td><td>TERMINATED</td><td>     </td><td style=\"text-align: right;\">                                  1</td><td>entropy                            </td><td>log2                                  </td><td style=\"text-align: right;\">                                         3</td><td style=\"text-align: right;\">                                          3</td><td style=\"text-align: right;\">                                   128</td><td style=\"text-align: right;\">     0</td><td style=\"text-align: right;\">        2.33964 </td></tr>\n",
       "</tbody>\n",
       "</table><br>... 30 more trials not shown (5 PENDING, 2 RUNNING, 22 TERMINATED)<br><br>"
      ],
      "text/plain": [
       "<IPython.core.display.HTML object>"
      ]
     },
     "metadata": {},
     "output_type": "display_data"
    },
    {
     "name": "stdout",
     "output_type": "stream",
     "text": [
      "\u001b[2m\u001b[36m(pid=130758)\u001b[0m Loading dependencies we have already seen...\n",
      "\u001b[2m\u001b[36m(pid=130783)\u001b[0m Loading dependencies we have already seen...\n",
      "\u001b[2m\u001b[36m(pid=130774)\u001b[0m 2020-06-12 10:13:33,219\tINFO trainable.py:217 -- Getting current IP.\n",
      "\u001b[2m\u001b[36m(pid=130774)\u001b[0m Done...\n",
      "\u001b[2m\u001b[36m(pid=130746)\u001b[0m Loading dependencies we have already seen...\n",
      "\u001b[2m\u001b[36m(pid=130759)\u001b[0m Loading dependencies we have already seen...\n"
     ]
    },
    {
     "name": "stderr",
     "output_type": "stream",
     "text": [
      "2020-06-12 10:13:33,419\tINFO logger.py:269 -- Removed the following hyperparameter values when logging to tensorboard: {'randomforestclassifier__bootstrap': True}\n"
     ]
    },
    {
     "name": "stdout",
     "output_type": "stream",
     "text": [
      "Result for e2e_simple_training_00030:\n",
      "  date: 2020-06-12_10-13-33\n",
      "  done: true\n",
      "  experiment_id: d260369a2ddb4d97a471fd03e399354a\n",
      "  experiment_tag: 30_randomforestclassifier__bootstrap=True,randomforestclassifier__criterion=entropy,randomforestclassifier__max_features=log2,randomforestclassifier__min_samples_leaf=3,randomforestclassifier__min_samples_split=4,randomforestclassifier__n_estimators=82\n",
      "  hostname: cosmos-ml\n",
      "  iterations_since_restore: 1\n",
      "  mean_f1_score: 0.9692826902764464\n",
      "  node_ip: 192.168.1.39\n",
      "  pid: 130740\n",
      "  std_f1_score: 0.018105892277487594\n",
      "  time_since_restore: 1.244213581085205\n",
      "  time_this_iter_s: 1.244213581085205\n",
      "  time_total_s: 1.244213581085205\n",
      "  timestamp: 1591953213\n",
      "  timesteps_since_restore: 0\n",
      "  training_iteration: 0\n",
      "  trial_id: '00030'\n",
      "  \n"
     ]
    },
    {
     "name": "stderr",
     "output_type": "stream",
     "text": [
      "2020-06-12 10:13:33,671\tINFO logger.py:269 -- Removed the following hyperparameter values when logging to tensorboard: {'randomforestclassifier__bootstrap': False}\n"
     ]
    },
    {
     "name": "stdout",
     "output_type": "stream",
     "text": [
      "Result for e2e_simple_training_00031:\n",
      "  date: 2020-06-12_10-13-33\n",
      "  done: true\n",
      "  experiment_id: 7fa0352f64b74012ad893cfcb7692888\n",
      "  experiment_tag: 31_randomforestclassifier__bootstrap=False,randomforestclassifier__criterion=entropy,randomforestclassifier__max_features=auto,randomforestclassifier__min_samples_leaf=1,randomforestclassifier__min_samples_split=3,randomforestclassifier__n_estimators=78\n",
      "  hostname: cosmos-ml\n",
      "  iterations_since_restore: 1\n",
      "  mean_f1_score: 0.9791322685501551\n",
      "  node_ip: 192.168.1.39\n",
      "  pid: 130741\n",
      "  std_f1_score: 0.009743919381772291\n",
      "  time_since_restore: 1.4424831867218018\n",
      "  time_this_iter_s: 1.4424831867218018\n",
      "  time_total_s: 1.4424831867218018\n",
      "  timestamp: 1591953213\n",
      "  timesteps_since_restore: 0\n",
      "  training_iteration: 0\n",
      "  trial_id: '00031'\n",
      "  \n",
      "\u001b[2m\u001b[36m(pid=130798)\u001b[0m Loading dependencies we have already seen...\n",
      "\u001b[2m\u001b[36m(pid=130747)\u001b[0m Loading dependencies we have already seen...\n",
      "\u001b[2m\u001b[36m(pid=130757)\u001b[0m 2020-06-12 10:13:33,765\tINFO trainable.py:217 -- Getting current IP.\n",
      "\u001b[2m\u001b[36m(pid=130757)\u001b[0m Done...\n"
     ]
    },
    {
     "name": "stderr",
     "output_type": "stream",
     "text": [
      "2020-06-12 10:13:33,972\tINFO logger.py:269 -- Removed the following hyperparameter values when logging to tensorboard: {'randomforestclassifier__bootstrap': True}\n"
     ]
    },
    {
     "name": "stdout",
     "output_type": "stream",
     "text": [
      "Result for e2e_simple_training_00033:\n",
      "  date: 2020-06-12_10-13-33\n",
      "  done: true\n",
      "  experiment_id: 4063019513b746db865584f1461f5471\n",
      "  experiment_tag: 33_randomforestclassifier__bootstrap=True,randomforestclassifier__criterion=entropy,randomforestclassifier__max_features=log2,randomforestclassifier__min_samples_leaf=2,randomforestclassifier__min_samples_split=4,randomforestclassifier__n_estimators=8\n",
      "  hostname: cosmos-ml\n",
      "  iterations_since_restore: 1\n",
      "  mean_f1_score: 0.9539823270857755\n",
      "  node_ip: 192.168.1.39\n",
      "  pid: 130757\n",
      "  std_f1_score: 0.01721958866215919\n",
      "  time_since_restore: 0.19408631324768066\n",
      "  time_this_iter_s: 0.19408631324768066\n",
      "  time_total_s: 0.19408631324768066\n",
      "  timestamp: 1591953213\n",
      "  timesteps_since_restore: 0\n",
      "  training_iteration: 0\n",
      "  trial_id: '00033'\n",
      "  \n"
     ]
    },
    {
     "name": "stderr",
     "output_type": "stream",
     "text": [
      "2020-06-12 10:13:34,218\tINFO logger.py:269 -- Removed the following hyperparameter values when logging to tensorboard: {'randomforestclassifier__bootstrap': False}\n"
     ]
    },
    {
     "name": "stdout",
     "output_type": "stream",
     "text": [
      "Result for e2e_simple_training_00027:\n",
      "  date: 2020-06-12_10-13-34\n",
      "  done: true\n",
      "  experiment_id: 6b5da6fe23844827a26b4d3da21a8301\n",
      "  experiment_tag: 27_randomforestclassifier__bootstrap=False,randomforestclassifier__criterion=entropy,randomforestclassifier__max_features=sqrt,randomforestclassifier__min_samples_leaf=1,randomforestclassifier__min_samples_split=4,randomforestclassifier__n_estimators=108\n",
      "  hostname: cosmos-ml\n",
      "  iterations_since_restore: 1\n",
      "  mean_f1_score: 0.9763153671417044\n",
      "  node_ip: 192.168.1.39\n",
      "  pid: 130739\n",
      "  std_f1_score: 0.012954446563723122\n",
      "  time_since_restore: 1.9729692935943604\n",
      "  time_this_iter_s: 1.9729692935943604\n",
      "  time_total_s: 1.9729692935943604\n",
      "  timestamp: 1591953214\n",
      "  timesteps_since_restore: 0\n",
      "  training_iteration: 0\n",
      "  trial_id: '00027'\n",
      "  \n",
      "\u001b[2m\u001b[36m(pid=130758)\u001b[0m Done...\n",
      "\u001b[2m\u001b[36m(pid=130758)\u001b[0m 2020-06-12 10:13:34,467\tINFO trainable.py:217 -- Getting current IP.\n",
      "\u001b[2m\u001b[36m(pid=130783)\u001b[0m 2020-06-12 10:13:34,540\tINFO trainable.py:217 -- Getting current IP.\n",
      "\u001b[2m\u001b[36m(pid=130783)\u001b[0m Done...\n",
      "\u001b[2m\u001b[36m(pid=130746)\u001b[0m Done...\n",
      "\u001b[2m\u001b[36m(pid=130746)\u001b[0m 2020-06-12 10:13:34,676\tINFO trainable.py:217 -- Getting current IP.\n",
      "\u001b[2m\u001b[36m(pid=130930)\u001b[0m Loading dependencies we have already seen...\n"
     ]
    },
    {
     "name": "stderr",
     "output_type": "stream",
     "text": [
      "2020-06-12 10:13:34,990\tINFO logger.py:269 -- Removed the following hyperparameter values when logging to tensorboard: {'randomforestclassifier__bootstrap': True}\n"
     ]
    },
    {
     "name": "stdout",
     "output_type": "stream",
     "text": [
      "\u001b[2m\u001b[36m(pid=130759)\u001b[0m Done...\n",
      "\u001b[2m\u001b[36m(pid=130759)\u001b[0m 2020-06-12 10:13:34,934\tINFO trainable.py:217 -- Getting current IP.\n",
      "Result for e2e_simple_training_00032:\n",
      "  date: 2020-06-12_10-13-34\n",
      "  done: true\n",
      "  experiment_id: d160e0a9a31c4c099cfede7378dc38e1\n",
      "  experiment_tag: 32_randomforestclassifier__bootstrap=True,randomforestclassifier__criterion=entropy,randomforestclassifier__max_features=sqrt,randomforestclassifier__min_samples_leaf=3,randomforestclassifier__min_samples_split=4,randomforestclassifier__n_estimators=69\n",
      "  hostname: cosmos-ml\n",
      "  iterations_since_restore: 1\n",
      "  mean_f1_score: 0.9735969368373715\n",
      "  node_ip: 192.168.1.39\n",
      "  pid: 130774\n",
      "  std_f1_score: 0.0160032139949415\n",
      "  time_since_restore: 1.7593159675598145\n",
      "  time_this_iter_s: 1.7593159675598145\n",
      "  time_total_s: 1.7593159675598145\n",
      "  timestamp: 1591953214\n",
      "  timesteps_since_restore: 0\n",
      "  training_iteration: 0\n",
      "  trial_id: '00032'\n",
      "  \n",
      "\u001b[2m\u001b[36m(pid=130931)\u001b[0m Loading dependencies we have already seen...\n",
      "\u001b[2m\u001b[36m(pid=130935)\u001b[0m Loading dependencies we have already seen...\n",
      "\u001b[2m\u001b[36m(pid=130747)\u001b[0m 2020-06-12 10:13:35,448\tINFO trainable.py:217 -- Getting current IP.\n",
      "\u001b[2m\u001b[36m(pid=130747)\u001b[0m Done...\n",
      "\u001b[2m\u001b[36m(pid=130798)\u001b[0m Done...\n",
      "\u001b[2m\u001b[36m(pid=130798)\u001b[0m 2020-06-12 10:13:35,448\tINFO trainable.py:217 -- Getting current IP.\n",
      "\u001b[2m\u001b[36m(pid=130936)\u001b[0m Loading dependencies we have already seen...\n"
     ]
    },
    {
     "name": "stderr",
     "output_type": "stream",
     "text": [
      "2020-06-12 10:13:35,654\tINFO logger.py:269 -- Removed the following hyperparameter values when logging to tensorboard: {'randomforestclassifier__bootstrap': False}\n"
     ]
    },
    {
     "name": "stdout",
     "output_type": "stream",
     "text": [
      "Result for e2e_simple_training_00036:\n",
      "  date: 2020-06-12_10-13-35\n",
      "  done: true\n",
      "  experiment_id: 9608646f7b8049b985e673bd5c1b564c\n",
      "  experiment_tag: 36_randomforestclassifier__bootstrap=False,randomforestclassifier__criterion=entropy,randomforestclassifier__max_features=log2,randomforestclassifier__min_samples_leaf=3,randomforestclassifier__min_samples_split=3,randomforestclassifier__n_estimators=46\n",
      "  hostname: cosmos-ml\n",
      "  iterations_since_restore: 1\n",
      "  mean_f1_score: 0.9736365083027249\n",
      "  node_ip: 192.168.1.39\n",
      "  pid: 130759\n",
      "  std_f1_score: 0.011048117152756593\n",
      "  time_since_restore: 0.6999070644378662\n",
      "  time_this_iter_s: 0.6999070644378662\n",
      "  time_total_s: 0.6999070644378662\n",
      "  timestamp: 1591953215\n",
      "  timesteps_since_restore: 0\n",
      "  training_iteration: 0\n",
      "  trial_id: '00036'\n",
      "  \n"
     ]
    },
    {
     "name": "stderr",
     "output_type": "stream",
     "text": [
      "2020-06-12 10:13:35,932\tINFO logger.py:269 -- Removed the following hyperparameter values when logging to tensorboard: {'randomforestclassifier__bootstrap': True}\n"
     ]
    },
    {
     "name": "stdout",
     "output_type": "stream",
     "text": [
      "Result for e2e_simple_training_00037:\n",
      "  date: 2020-06-12_10-13-35\n",
      "  done: true\n",
      "  experiment_id: a9ce450e3b7a444d96a94512c83f9b42\n",
      "  experiment_tag: 37_randomforestclassifier__bootstrap=True,randomforestclassifier__criterion=entropy,randomforestclassifier__max_features=log2,randomforestclassifier__min_samples_leaf=3,randomforestclassifier__min_samples_split=3,randomforestclassifier__n_estimators=80\n",
      "  hostname: cosmos-ml\n",
      "  iterations_since_restore: 1\n",
      "  mean_f1_score: 0.9692826902764464\n",
      "  node_ip: 192.168.1.39\n",
      "  pid: 130746\n",
      "  std_f1_score: 0.018105892277487594\n",
      "  time_since_restore: 1.2456471920013428\n",
      "  time_this_iter_s: 1.2456471920013428\n",
      "  time_total_s: 1.2456471920013428\n",
      "  timestamp: 1591953215\n",
      "  timesteps_since_restore: 0\n",
      "  training_iteration: 0\n",
      "  trial_id: '00037'\n",
      "  \n",
      "\u001b[2m\u001b[36m(pid=130965)\u001b[0m Loading dependencies we have already seen...\n"
     ]
    },
    {
     "name": "stderr",
     "output_type": "stream",
     "text": [
      "2020-06-12 10:13:36,213\tINFO logger.py:269 -- Removed the following hyperparameter values when logging to tensorboard: {'randomforestclassifier__bootstrap': False}\n"
     ]
    },
    {
     "name": "stdout",
     "output_type": "stream",
     "text": [
      "\u001b[2m\u001b[36m(pid=130931)\u001b[0m Done...\n",
      "\u001b[2m\u001b[36m(pid=130931)\u001b[0m 2020-06-12 10:13:36,146\tINFO trainable.py:217 -- Getting current IP.\n",
      "Result for e2e_simple_training_00038:\n",
      "  date: 2020-06-12_10-13-36\n",
      "  done: true\n",
      "  experiment_id: aa599aadce6b42ba9837b052aaca1c5f\n",
      "  experiment_tag: 38_randomforestclassifier__bootstrap=False,randomforestclassifier__criterion=gini,randomforestclassifier__max_features=log2,randomforestclassifier__min_samples_leaf=3,randomforestclassifier__min_samples_split=3,randomforestclassifier__n_estimators=55\n",
      "  hostname: cosmos-ml\n",
      "  iterations_since_restore: 1\n",
      "  mean_f1_score: 0.9665755969151479\n",
      "  node_ip: 192.168.1.39\n",
      "  pid: 130798\n",
      "  std_f1_score: 0.013461964784129936\n",
      "  time_since_restore: 0.7535190582275391\n",
      "  time_this_iter_s: 0.7535190582275391\n",
      "  time_total_s: 0.7535190582275391\n",
      "  timestamp: 1591953216\n",
      "  timesteps_since_restore: 0\n",
      "  training_iteration: 0\n",
      "  trial_id: 00038\n",
      "  \n",
      "\u001b[2m\u001b[36m(pid=130930)\u001b[0m Done...\n",
      "\u001b[2m\u001b[36m(pid=130930)\u001b[0m 2020-06-12 10:13:36,171\tINFO trainable.py:217 -- Getting current IP.\n"
     ]
    },
    {
     "name": "stderr",
     "output_type": "stream",
     "text": [
      "2020-06-12 10:13:36,441\tINFO logger.py:269 -- Removed the following hyperparameter values when logging to tensorboard: {'randomforestclassifier__bootstrap': False}\n",
      "2020-06-12 10:13:36,537\tINFO logger.py:269 -- Removed the following hyperparameter values when logging to tensorboard: {'randomforestclassifier__bootstrap': True}\n"
     ]
    },
    {
     "name": "stdout",
     "output_type": "stream",
     "text": [
      "\u001b[2m\u001b[36m(pid=130953)\u001b[0m Loading dependencies we have already seen...\n",
      "Result for e2e_simple_training_00035:\n",
      "  date: 2020-06-12_10-13-36\n",
      "  done: true\n",
      "  experiment_id: a972e46a190a4a3f98ece7bb4c9c4572\n",
      "  experiment_tag: 35_randomforestclassifier__bootstrap=False,randomforestclassifier__criterion=gini,randomforestclassifier__max_features=auto,randomforestclassifier__min_samples_leaf=3,randomforestclassifier__min_samples_split=3,randomforestclassifier__n_estimators=110\n",
      "  hostname: cosmos-ml\n",
      "  iterations_since_restore: 1\n",
      "  mean_f1_score: 0.9693391949221153\n",
      "  node_ip: 192.168.1.39\n",
      "  pid: 130758\n",
      "  std_f1_score: 0.013033163510166158\n",
      "  time_since_restore: 1.9560585021972656\n",
      "  time_this_iter_s: 1.9560585021972656\n",
      "  time_total_s: 1.9560585021972656\n",
      "  timestamp: 1591953216\n",
      "  timesteps_since_restore: 0\n",
      "  training_iteration: 0\n",
      "  trial_id: '00035'\n",
      "  \n",
      "Result for e2e_simple_training_00034:\n",
      "  date: 2020-06-12_10-13-36\n",
      "  done: true\n",
      "  experiment_id: 14f7f37190ae410995f3abbd4b4f7d5e\n",
      "  experiment_tag: 34_randomforestclassifier__bootstrap=True,randomforestclassifier__criterion=gini,randomforestclassifier__max_features=auto,randomforestclassifier__min_samples_leaf=3,randomforestclassifier__min_samples_split=5,randomforestclassifier__n_estimators=130\n",
      "  hostname: cosmos-ml\n",
      "  iterations_since_restore: 1\n",
      "  mean_f1_score: 0.9693421883228087\n",
      "  node_ip: 192.168.1.39\n",
      "  pid: 130783\n",
      "  std_f1_score: 0.015728923260512128\n",
      "  time_since_restore: 1.9857149124145508\n",
      "  time_this_iter_s: 1.9857149124145508\n",
      "  time_total_s: 1.9857149124145508\n",
      "  timestamp: 1591953216\n",
      "  timesteps_since_restore: 0\n",
      "  training_iteration: 0\n",
      "  trial_id: '00034'\n",
      "  \n",
      "\u001b[2m\u001b[36m(pid=130935)\u001b[0m Done...\n",
      "\u001b[2m\u001b[36m(pid=130935)\u001b[0m 2020-06-12 10:13:36,507\tINFO trainable.py:217 -- Getting current IP.\n"
     ]
    },
    {
     "name": "stderr",
     "output_type": "stream",
     "text": [
      "2020-06-12 10:13:36,660\tINFO logger.py:269 -- Removed the following hyperparameter values when logging to tensorboard: {'randomforestclassifier__bootstrap': False}\n"
     ]
    },
    {
     "name": "stdout",
     "output_type": "stream",
     "text": [
      "\u001b[2m\u001b[36m(pid=130936)\u001b[0m 2020-06-12 10:13:36,598\tINFO trainable.py:217 -- Getting current IP.\n",
      "\u001b[2m\u001b[36m(pid=130936)\u001b[0m Done...\n",
      "Result for e2e_simple_training_00039:\n",
      "  date: 2020-06-12_10-13-36\n",
      "  done: true\n",
      "  experiment_id: fefb3d15747449e19946090b29f4bb69\n",
      "  experiment_tag: 39_randomforestclassifier__bootstrap=False,randomforestclassifier__criterion=gini,randomforestclassifier__max_features=sqrt,randomforestclassifier__min_samples_leaf=2,randomforestclassifier__min_samples_split=4,randomforestclassifier__n_estimators=76\n",
      "  hostname: cosmos-ml\n",
      "  iterations_since_restore: 1\n",
      "  mean_f1_score: 0.9706174505702141\n",
      "  node_ip: 192.168.1.39\n",
      "  pid: 130747\n",
      "  std_f1_score: 0.01707221841229671\n",
      "  time_since_restore: 1.2007334232330322\n",
      "  time_this_iter_s: 1.2007334232330322\n",
      "  time_total_s: 1.2007334232330322\n",
      "  timestamp: 1591953216\n",
      "  timesteps_since_restore: 0\n",
      "  training_iteration: 0\n",
      "  trial_id: 00039\n",
      "  \n",
      "\u001b[2m\u001b[36m(pid=130938)\u001b[0m Loading dependencies we have already seen...\n"
     ]
    },
    {
     "name": "stderr",
     "output_type": "stream",
     "text": [
      "2020-06-12 10:13:37,045\tINFO logger.py:269 -- Removed the following hyperparameter values when logging to tensorboard: {'randomforestclassifier__bootstrap': False}\n"
     ]
    },
    {
     "name": "stdout",
     "output_type": "stream",
     "text": [
      "\u001b[2m\u001b[36m(pid=130954)\u001b[0m Loading dependencies we have already seen...\n",
      "Result for e2e_simple_training_00042:\n",
      "  date: 2020-06-12_10-13-37\n",
      "  done: true\n",
      "  experiment_id: cc2dc82437534811a7cbc11f32d0acaf\n",
      "  experiment_tag: 42_randomforestclassifier__bootstrap=False,randomforestclassifier__criterion=gini,randomforestclassifier__max_features=log2,randomforestclassifier__min_samples_leaf=2,randomforestclassifier__min_samples_split=4,randomforestclassifier__n_estimators=27\n",
      "  hostname: cosmos-ml\n",
      "  iterations_since_restore: 1\n",
      "  mean_f1_score: 0.967922095252772\n",
      "  node_ip: 192.168.1.39\n",
      "  pid: 130935\n",
      "  std_f1_score: 0.012986396746177022\n",
      "  time_since_restore: 0.5288474559783936\n",
      "  time_this_iter_s: 0.5288474559783936\n",
      "  time_total_s: 0.5288474559783936\n",
      "  timestamp: 1591953217\n",
      "  timesteps_since_restore: 0\n",
      "  training_iteration: 0\n",
      "  trial_id: '00042'\n",
      "  \n",
      "\u001b[2m\u001b[36m(pid=130944)\u001b[0m Loading dependencies we have already seen...\n",
      "\u001b[2m\u001b[36m(pid=130942)\u001b[0m Loading dependencies we have already seen...\n",
      "\u001b[2m\u001b[36m(pid=130965)\u001b[0m 2020-06-12 10:13:37,410\tINFO trainable.py:217 -- Getting current IP.\n",
      "\u001b[2m\u001b[36m(pid=130965)\u001b[0m Done...\n",
      "\u001b[2m\u001b[36m(pid=130953)\u001b[0m 2020-06-12 10:13:37,553\tINFO trainable.py:217 -- Getting current IP.\n",
      "\u001b[2m\u001b[36m(pid=130953)\u001b[0m Done...\n"
     ]
    },
    {
     "name": "stderr",
     "output_type": "stream",
     "text": [
      "2020-06-12 10:13:37,686\tINFO logger.py:269 -- Removed the following hyperparameter values when logging to tensorboard: {'randomforestclassifier__bootstrap': True}\n",
      "2020-06-12 10:13:37,717\tINFO logger.py:269 -- Removed the following hyperparameter values when logging to tensorboard: {'randomforestclassifier__bootstrap': True}\n"
     ]
    },
    {
     "name": "stdout",
     "output_type": "stream",
     "text": [
      "Result for e2e_simple_training_00041:\n",
      "  date: 2020-06-12_10-13-37\n",
      "  done: true\n",
      "  experiment_id: 8a2b3bdff4eb46649f923f3f08999ac4\n",
      "  experiment_tag: 41_randomforestclassifier__bootstrap=True,randomforestclassifier__criterion=entropy,randomforestclassifier__max_features=log2,randomforestclassifier__min_samples_leaf=2,randomforestclassifier__min_samples_split=5,randomforestclassifier__n_estimators=79\n",
      "  hostname: cosmos-ml\n",
      "  iterations_since_restore: 1\n",
      "  mean_f1_score: 0.96790351389727\n",
      "  node_ip: 192.168.1.39\n",
      "  pid: 130931\n",
      "  std_f1_score: 0.0164314287031499\n",
      "  time_since_restore: 1.5303936004638672\n",
      "  time_this_iter_s: 1.5303936004638672\n",
      "  time_total_s: 1.5303936004638672\n",
      "  timestamp: 1591953217\n",
      "  timesteps_since_restore: 0\n",
      "  training_iteration: 0\n",
      "  trial_id: '00041'\n",
      "  \n",
      "Result for e2e_simple_training_00043:\n",
      "  date: 2020-06-12_10-13-37\n",
      "  done: true\n",
      "  experiment_id: 64540a789d73478e92da66cec66e1f73\n",
      "  experiment_tag: 43_randomforestclassifier__bootstrap=True,randomforestclassifier__criterion=gini,randomforestclassifier__max_features=log2,randomforestclassifier__min_samples_leaf=1,randomforestclassifier__min_samples_split=5,randomforestclassifier__n_estimators=70\n",
      "  hostname: cosmos-ml\n",
      "  iterations_since_restore: 1\n",
      "  mean_f1_score: 0.9693421883228087\n",
      "  node_ip: 192.168.1.39\n",
      "  pid: 130936\n",
      "  std_f1_score: 0.015728923260512128\n",
      "  time_since_restore: 1.1099860668182373\n",
      "  time_this_iter_s: 1.1099860668182373\n",
      "  time_total_s: 1.1099860668182373\n",
      "  timestamp: 1591953217\n",
      "  timesteps_since_restore: 0\n",
      "  training_iteration: 0\n",
      "  trial_id: '00043'\n",
      "  \n"
     ]
    },
    {
     "name": "stderr",
     "output_type": "stream",
     "text": [
      "2020-06-12 10:13:38,104\tINFO logger.py:269 -- Removed the following hyperparameter values when logging to tensorboard: {'randomforestclassifier__bootstrap': True}\n"
     ]
    },
    {
     "name": "stdout",
     "output_type": "stream",
     "text": [
      "\u001b[2m\u001b[36m(pid=130938)\u001b[0m 2020-06-12 10:13:37,957\tINFO trainable.py:217 -- Getting current IP.\n",
      "\u001b[2m\u001b[36m(pid=130938)\u001b[0m Done...\n",
      "Result for e2e_simple_training_00046:\n",
      "  date: 2020-06-12_10-13-38\n",
      "  done: true\n",
      "  experiment_id: 598488d539fd471b89e2e54aeaf226ab\n",
      "  experiment_tag: 46_randomforestclassifier__bootstrap=True,randomforestclassifier__criterion=gini,randomforestclassifier__max_features=log2,randomforestclassifier__min_samples_leaf=2,randomforestclassifier__min_samples_split=3,randomforestclassifier__n_estimators=8\n",
      "  hostname: cosmos-ml\n",
      "  iterations_since_restore: 1\n",
      "  mean_f1_score: 0.9637148307269156\n",
      "  node_ip: 192.168.1.39\n",
      "  pid: 130938\n",
      "  std_f1_score: 0.020661335460590118\n",
      "  time_since_restore: 0.1396467685699463\n",
      "  time_this_iter_s: 0.1396467685699463\n",
      "  time_total_s: 0.1396467685699463\n",
      "  timestamp: 1591953218\n",
      "  timesteps_since_restore: 0\n",
      "  training_iteration: 0\n",
      "  trial_id: '00046'\n",
      "  \n"
     ]
    },
    {
     "data": {
      "text/html": [
       "== Status ==<br>Memory usage on this node: 9.1/62.8 GiB<br>Using FIFO scheduling algorithm.<br>Resources requested: 6/10 CPUs, 0/0 GPUs, 0.0/33.54 GiB heap, 0.0/11.57 GiB objects<br>Result logdir: /home/steve/ray_results/e2e_simple_training<br>Number of trials: 50 (6 RUNNING, 44 TERMINATED)<br><table>\n",
       "<thead>\n",
       "<tr><th>Trial name               </th><th>status    </th><th>loc  </th><th style=\"text-align: right;\">  randomforestclassifier__bootstrap</th><th>randomforestclassifier__criterion  </th><th>randomforestclassifier__max_features  </th><th style=\"text-align: right;\">  randomforestclassifier__min_samples_leaf</th><th style=\"text-align: right;\">  randomforestclassifier__min_samples_split</th><th style=\"text-align: right;\">  randomforestclassifier__n_estimators</th><th style=\"text-align: right;\">  iter</th><th style=\"text-align: right;\">  total time (s)</th></tr>\n",
       "</thead>\n",
       "<tbody>\n",
       "<tr><td>e2e_simple_training_00040</td><td>RUNNING   </td><td>     </td><td style=\"text-align: right;\">                                  1</td><td>gini                               </td><td>auto                                  </td><td style=\"text-align: right;\">                                         3</td><td style=\"text-align: right;\">                                          5</td><td style=\"text-align: right;\">                                   143</td><td style=\"text-align: right;\">      </td><td style=\"text-align: right;\">                </td></tr>\n",
       "<tr><td>e2e_simple_training_00044</td><td>RUNNING   </td><td>     </td><td style=\"text-align: right;\">                                  0</td><td>entropy                            </td><td>log2                                  </td><td style=\"text-align: right;\">                                         3</td><td style=\"text-align: right;\">                                          5</td><td style=\"text-align: right;\">                                    66</td><td style=\"text-align: right;\">      </td><td style=\"text-align: right;\">                </td></tr>\n",
       "<tr><td>e2e_simple_training_00045</td><td>RUNNING   </td><td>     </td><td style=\"text-align: right;\">                                  0</td><td>gini                               </td><td>sqrt                                  </td><td style=\"text-align: right;\">                                         2</td><td style=\"text-align: right;\">                                          5</td><td style=\"text-align: right;\">                                    70</td><td style=\"text-align: right;\">      </td><td style=\"text-align: right;\">                </td></tr>\n",
       "<tr><td>e2e_simple_training_00047</td><td>RUNNING   </td><td>     </td><td style=\"text-align: right;\">                                  0</td><td>entropy                            </td><td>sqrt                                  </td><td style=\"text-align: right;\">                                         3</td><td style=\"text-align: right;\">                                          4</td><td style=\"text-align: right;\">                                    62</td><td style=\"text-align: right;\">      </td><td style=\"text-align: right;\">                </td></tr>\n",
       "<tr><td>e2e_simple_training_00048</td><td>RUNNING   </td><td>     </td><td style=\"text-align: right;\">                                  1</td><td>entropy                            </td><td>auto                                  </td><td style=\"text-align: right;\">                                         2</td><td style=\"text-align: right;\">                                          3</td><td style=\"text-align: right;\">                                   140</td><td style=\"text-align: right;\">      </td><td style=\"text-align: right;\">                </td></tr>\n",
       "<tr><td>e2e_simple_training_00049</td><td>RUNNING   </td><td>     </td><td style=\"text-align: right;\">                                  1</td><td>entropy                            </td><td>auto                                  </td><td style=\"text-align: right;\">                                         1</td><td style=\"text-align: right;\">                                          4</td><td style=\"text-align: right;\">                                    76</td><td style=\"text-align: right;\">      </td><td style=\"text-align: right;\">                </td></tr>\n",
       "<tr><td>e2e_simple_training_00000</td><td>TERMINATED</td><td>     </td><td style=\"text-align: right;\">                                  1</td><td>entropy                            </td><td>auto                                  </td><td style=\"text-align: right;\">                                         1</td><td style=\"text-align: right;\">                                          5</td><td style=\"text-align: right;\">                                    70</td><td style=\"text-align: right;\">     0</td><td style=\"text-align: right;\">        1.08399 </td></tr>\n",
       "<tr><td>e2e_simple_training_00001</td><td>TERMINATED</td><td>     </td><td style=\"text-align: right;\">                                  1</td><td>gini                               </td><td>log2                                  </td><td style=\"text-align: right;\">                                         1</td><td style=\"text-align: right;\">                                          5</td><td style=\"text-align: right;\">                                    16</td><td style=\"text-align: right;\">     0</td><td style=\"text-align: right;\">        0.254207</td></tr>\n",
       "<tr><td>e2e_simple_training_00002</td><td>TERMINATED</td><td>     </td><td style=\"text-align: right;\">                                  0</td><td>entropy                            </td><td>auto                                  </td><td style=\"text-align: right;\">                                         3</td><td style=\"text-align: right;\">                                          4</td><td style=\"text-align: right;\">                                    52</td><td style=\"text-align: right;\">     0</td><td style=\"text-align: right;\">        0.890486</td></tr>\n",
       "<tr><td>e2e_simple_training_00003</td><td>TERMINATED</td><td>     </td><td style=\"text-align: right;\">                                  1</td><td>entropy                            </td><td>auto                                  </td><td style=\"text-align: right;\">                                         2</td><td style=\"text-align: right;\">                                          5</td><td style=\"text-align: right;\">                                     8</td><td style=\"text-align: right;\">     0</td><td style=\"text-align: right;\">        0.177437</td></tr>\n",
       "<tr><td>e2e_simple_training_00004</td><td>TERMINATED</td><td>     </td><td style=\"text-align: right;\">                                  1</td><td>gini                               </td><td>log2                                  </td><td style=\"text-align: right;\">                                         3</td><td style=\"text-align: right;\">                                          4</td><td style=\"text-align: right;\">                                   137</td><td style=\"text-align: right;\">     0</td><td style=\"text-align: right;\">        2.03782 </td></tr>\n",
       "<tr><td>e2e_simple_training_00005</td><td>TERMINATED</td><td>     </td><td style=\"text-align: right;\">                                  0</td><td>gini                               </td><td>log2                                  </td><td style=\"text-align: right;\">                                         1</td><td style=\"text-align: right;\">                                          5</td><td style=\"text-align: right;\">                                    79</td><td style=\"text-align: right;\">     0</td><td style=\"text-align: right;\">        0.9995  </td></tr>\n",
       "<tr><td>e2e_simple_training_00006</td><td>TERMINATED</td><td>     </td><td style=\"text-align: right;\">                                  1</td><td>entropy                            </td><td>log2                                  </td><td style=\"text-align: right;\">                                         3</td><td style=\"text-align: right;\">                                          3</td><td style=\"text-align: right;\">                                   128</td><td style=\"text-align: right;\">     0</td><td style=\"text-align: right;\">        2.33964 </td></tr>\n",
       "<tr><td>e2e_simple_training_00007</td><td>TERMINATED</td><td>     </td><td style=\"text-align: right;\">                                  0</td><td>gini                               </td><td>auto                                  </td><td style=\"text-align: right;\">                                         3</td><td style=\"text-align: right;\">                                          3</td><td style=\"text-align: right;\">                                    73</td><td style=\"text-align: right;\">     0</td><td style=\"text-align: right;\">        0.970966</td></tr>\n",
       "<tr><td>e2e_simple_training_00008</td><td>TERMINATED</td><td>     </td><td style=\"text-align: right;\">                                  1</td><td>gini                               </td><td>log2                                  </td><td style=\"text-align: right;\">                                         1</td><td style=\"text-align: right;\">                                          3</td><td style=\"text-align: right;\">                                    92</td><td style=\"text-align: right;\">     0</td><td style=\"text-align: right;\">        1.84014 </td></tr>\n",
       "<tr><td>e2e_simple_training_00009</td><td>TERMINATED</td><td>     </td><td style=\"text-align: right;\">                                  0</td><td>gini                               </td><td>auto                                  </td><td style=\"text-align: right;\">                                         1</td><td style=\"text-align: right;\">                                          3</td><td style=\"text-align: right;\">                                    68</td><td style=\"text-align: right;\">     0</td><td style=\"text-align: right;\">        1.18678 </td></tr>\n",
       "<tr><td>e2e_simple_training_00010</td><td>TERMINATED</td><td>     </td><td style=\"text-align: right;\">                                  0</td><td>entropy                            </td><td>log2                                  </td><td style=\"text-align: right;\">                                         2</td><td style=\"text-align: right;\">                                          4</td><td style=\"text-align: right;\">                                    70</td><td style=\"text-align: right;\">     0</td><td style=\"text-align: right;\">        1.03274 </td></tr>\n",
       "<tr><td>e2e_simple_training_00011</td><td>TERMINATED</td><td>     </td><td style=\"text-align: right;\">                                  1</td><td>entropy                            </td><td>sqrt                                  </td><td style=\"text-align: right;\">                                         3</td><td style=\"text-align: right;\">                                          4</td><td style=\"text-align: right;\">                                    27</td><td style=\"text-align: right;\">     0</td><td style=\"text-align: right;\">        0.518848</td></tr>\n",
       "<tr><td>e2e_simple_training_00012</td><td>TERMINATED</td><td>     </td><td style=\"text-align: right;\">                                  0</td><td>gini                               </td><td>auto                                  </td><td style=\"text-align: right;\">                                         1</td><td style=\"text-align: right;\">                                          3</td><td style=\"text-align: right;\">                                   113</td><td style=\"text-align: right;\">     0</td><td style=\"text-align: right;\">        1.95108 </td></tr>\n",
       "<tr><td>e2e_simple_training_00013</td><td>TERMINATED</td><td>     </td><td style=\"text-align: right;\">                                  1</td><td>entropy                            </td><td>sqrt                                  </td><td style=\"text-align: right;\">                                         2</td><td style=\"text-align: right;\">                                          5</td><td style=\"text-align: right;\">                                    61</td><td style=\"text-align: right;\">     0</td><td style=\"text-align: right;\">        1.31188 </td></tr>\n",
       "</tbody>\n",
       "</table><br>... 30 more trials not shown (30 TERMINATED)<br><br>"
      ],
      "text/plain": [
       "<IPython.core.display.HTML object>"
      ]
     },
     "metadata": {},
     "output_type": "display_data"
    },
    {
     "name": "stderr",
     "output_type": "stream",
     "text": [
      "2020-06-12 10:13:38,266\tINFO logger.py:269 -- Removed the following hyperparameter values when logging to tensorboard: {'randomforestclassifier__bootstrap': False}\n",
      "2020-06-12 10:13:38,335\tINFO logger.py:269 -- Removed the following hyperparameter values when logging to tensorboard: {'randomforestclassifier__bootstrap': True}\n"
     ]
    },
    {
     "name": "stdout",
     "output_type": "stream",
     "text": [
      "\u001b[2m\u001b[36m(pid=130944)\u001b[0m Done...\n",
      "\u001b[2m\u001b[36m(pid=130954)\u001b[0m 2020-06-12 10:13:38,151\tINFO trainable.py:217 -- Getting current IP.\n",
      "\u001b[2m\u001b[36m(pid=130954)\u001b[0m Done...\n",
      "\u001b[2m\u001b[36m(pid=130944)\u001b[0m 2020-06-12 10:13:38,181\tINFO trainable.py:217 -- Getting current IP.\n",
      "Result for e2e_simple_training_00044:\n",
      "  date: 2020-06-12_10-13-38\n",
      "  done: true\n",
      "  experiment_id: 0809f0afd2774ae6b61c174e92b991d4\n",
      "  experiment_tag: 44_randomforestclassifier__bootstrap=False,randomforestclassifier__criterion=entropy,randomforestclassifier__max_features=log2,randomforestclassifier__min_samples_leaf=3,randomforestclassifier__min_samples_split=5,randomforestclassifier__n_estimators=66\n",
      "  hostname: cosmos-ml\n",
      "  iterations_since_restore: 1\n",
      "  mean_f1_score: 0.9763941683498665\n",
      "  node_ip: 192.168.1.39\n",
      "  pid: 130965\n",
      "  std_f1_score: 0.012763209472700673\n",
      "  time_since_restore: 0.8482086658477783\n",
      "  time_this_iter_s: 0.8482086658477783\n",
      "  time_total_s: 0.8482086658477783\n",
      "  timestamp: 1591953218\n",
      "  timesteps_since_restore: 0\n",
      "  training_iteration: 0\n",
      "  trial_id: '00044'\n",
      "  \n",
      "Result for e2e_simple_training_00040:\n",
      "  date: 2020-06-12_10-13-38\n",
      "  done: true\n",
      "  experiment_id: c2e15d37ea6d4159b7ea7e9b16ea1b18\n",
      "  experiment_tag: 40_randomforestclassifier__bootstrap=True,randomforestclassifier__criterion=gini,randomforestclassifier__max_features=auto,randomforestclassifier__min_samples_leaf=3,randomforestclassifier__min_samples_split=5,randomforestclassifier__n_estimators=143\n",
      "  hostname: cosmos-ml\n",
      "  iterations_since_restore: 1\n",
      "  mean_f1_score: 0.9663848699444534\n",
      "  node_ip: 192.168.1.39\n",
      "  pid: 130930\n",
      "  std_f1_score: 0.017609762633776074\n",
      "  time_since_restore: 2.1542980670928955\n",
      "  time_this_iter_s: 2.1542980670928955\n",
      "  time_total_s: 2.1542980670928955\n",
      "  timestamp: 1591953218\n",
      "  timesteps_since_restore: 0\n",
      "  training_iteration: 0\n",
      "  trial_id: '00040'\n",
      "  \n",
      "\u001b[2m\u001b[36m(pid=130942)\u001b[0m Done...\n",
      "\u001b[2m\u001b[36m(pid=130942)\u001b[0m 2020-06-12 10:13:38,310\tINFO trainable.py:217 -- Getting current IP.\n"
     ]
    },
    {
     "name": "stderr",
     "output_type": "stream",
     "text": [
      "2020-06-12 10:13:38,542\tINFO logger.py:269 -- Removed the following hyperparameter values when logging to tensorboard: {'randomforestclassifier__bootstrap': False}\n"
     ]
    },
    {
     "name": "stdout",
     "output_type": "stream",
     "text": [
      "Result for e2e_simple_training_00045:\n",
      "  date: 2020-06-12_10-13-38\n",
      "  done: true\n",
      "  experiment_id: 5ed30546a7b346ac84d37d93af3cbb35\n",
      "  experiment_tag: 45_randomforestclassifier__bootstrap=False,randomforestclassifier__criterion=gini,randomforestclassifier__max_features=sqrt,randomforestclassifier__min_samples_leaf=2,randomforestclassifier__min_samples_split=5,randomforestclassifier__n_estimators=70\n",
      "  hostname: cosmos-ml\n",
      "  iterations_since_restore: 1\n",
      "  mean_f1_score: 0.9733002301849727\n",
      "  node_ip: 192.168.1.39\n",
      "  pid: 130953\n",
      "  std_f1_score: 0.017173313940619855\n",
      "  time_since_restore: 0.9742348194122314\n",
      "  time_this_iter_s: 0.9742348194122314\n",
      "  time_total_s: 0.9742348194122314\n",
      "  timestamp: 1591953218\n",
      "  timesteps_since_restore: 0\n",
      "  training_iteration: 0\n",
      "  trial_id: '00045'\n",
      "  \n"
     ]
    },
    {
     "name": "stderr",
     "output_type": "stream",
     "text": [
      "2020-06-12 10:13:38,904\tINFO logger.py:269 -- Removed the following hyperparameter values when logging to tensorboard: {'randomforestclassifier__bootstrap': False}\n"
     ]
    },
    {
     "name": "stdout",
     "output_type": "stream",
     "text": [
      "Result for e2e_simple_training_00047:\n",
      "  date: 2020-06-12_10-13-38\n",
      "  done: true\n",
      "  experiment_id: ce94bed6fd864390aa78657f665d1c7f\n",
      "  experiment_tag: 47_randomforestclassifier__bootstrap=False,randomforestclassifier__criterion=entropy,randomforestclassifier__max_features=sqrt,randomforestclassifier__min_samples_leaf=3,randomforestclassifier__min_samples_split=4,randomforestclassifier__n_estimators=62\n",
      "  hostname: cosmos-ml\n",
      "  iterations_since_restore: 1\n",
      "  mean_f1_score: 0.9736730853450262\n",
      "  node_ip: 192.168.1.39\n",
      "  pid: 130954\n",
      "  std_f1_score: 0.010079499902655047\n",
      "  time_since_restore: 0.7444872856140137\n",
      "  time_this_iter_s: 0.7444872856140137\n",
      "  time_total_s: 0.7444872856140137\n",
      "  timestamp: 1591953218\n",
      "  timesteps_since_restore: 0\n",
      "  training_iteration: 0\n",
      "  trial_id: '00047'\n",
      "  \n"
     ]
    },
    {
     "name": "stderr",
     "output_type": "stream",
     "text": [
      "2020-06-12 10:13:39,154\tINFO logger.py:269 -- Removed the following hyperparameter values when logging to tensorboard: {'randomforestclassifier__bootstrap': True}\n"
     ]
    },
    {
     "name": "stdout",
     "output_type": "stream",
     "text": [
      "Result for e2e_simple_training_00049:\n",
      "  date: 2020-06-12_10-13-39\n",
      "  done: true\n",
      "  experiment_id: 4c7d8fd7f54c435ea55aae7c66752ca8\n",
      "  experiment_tag: 49_randomforestclassifier__bootstrap=True,randomforestclassifier__criterion=entropy,randomforestclassifier__max_features=auto,randomforestclassifier__min_samples_leaf=1,randomforestclassifier__min_samples_split=4,randomforestclassifier__n_estimators=76\n",
      "  hostname: cosmos-ml\n",
      "  iterations_since_restore: 1\n",
      "  mean_f1_score: 0.9692041182267215\n",
      "  node_ip: 192.168.1.39\n",
      "  pid: 130942\n",
      "  std_f1_score: 0.018833885702497822\n",
      "  time_since_restore: 0.835223913192749\n",
      "  time_this_iter_s: 0.835223913192749\n",
      "  time_total_s: 0.835223913192749\n",
      "  timestamp: 1591953219\n",
      "  timesteps_since_restore: 0\n",
      "  training_iteration: 0\n",
      "  trial_id: 00049\n",
      "  \n"
     ]
    },
    {
     "name": "stderr",
     "output_type": "stream",
     "text": [
      "2020-06-12 10:13:39,757\tINFO logger.py:269 -- Removed the following hyperparameter values when logging to tensorboard: {'randomforestclassifier__bootstrap': True}\n"
     ]
    },
    {
     "name": "stdout",
     "output_type": "stream",
     "text": [
      "Result for e2e_simple_training_00048:\n",
      "  date: 2020-06-12_10-13-39\n",
      "  done: true\n",
      "  experiment_id: d801b057c81f49b4a4ee615b16abed90\n",
      "  experiment_tag: 48_randomforestclassifier__bootstrap=True,randomforestclassifier__criterion=entropy,randomforestclassifier__max_features=auto,randomforestclassifier__min_samples_leaf=2,randomforestclassifier__min_samples_split=3,randomforestclassifier__n_estimators=140\n",
      "  hostname: cosmos-ml\n",
      "  iterations_since_restore: 1\n",
      "  mean_f1_score: 0.9733825186796574\n",
      "  node_ip: 192.168.1.39\n",
      "  pid: 130944\n",
      "  std_f1_score: 0.014428661356016408\n",
      "  time_since_restore: 1.569586992263794\n",
      "  time_this_iter_s: 1.569586992263794\n",
      "  time_total_s: 1.569586992263794\n",
      "  timestamp: 1591953219\n",
      "  timesteps_since_restore: 0\n",
      "  training_iteration: 0\n",
      "  trial_id: 00048\n",
      "  \n"
     ]
    },
    {
     "data": {
      "text/html": [
       "== Status ==<br>Memory usage on this node: 8.4/62.8 GiB<br>Using FIFO scheduling algorithm.<br>Resources requested: 0/10 CPUs, 0/0 GPUs, 0.0/33.54 GiB heap, 0.0/11.57 GiB objects<br>Result logdir: /home/steve/ray_results/e2e_simple_training<br>Number of trials: 50 (50 TERMINATED)<br><table>\n",
       "<thead>\n",
       "<tr><th>Trial name               </th><th>status    </th><th>loc  </th><th style=\"text-align: right;\">  randomforestclassifier__bootstrap</th><th>randomforestclassifier__criterion  </th><th>randomforestclassifier__max_features  </th><th style=\"text-align: right;\">  randomforestclassifier__min_samples_leaf</th><th style=\"text-align: right;\">  randomforestclassifier__min_samples_split</th><th style=\"text-align: right;\">  randomforestclassifier__n_estimators</th><th style=\"text-align: right;\">  iter</th><th style=\"text-align: right;\">  total time (s)</th></tr>\n",
       "</thead>\n",
       "<tbody>\n",
       "<tr><td>e2e_simple_training_00000</td><td>TERMINATED</td><td>     </td><td style=\"text-align: right;\">                                  1</td><td>entropy                            </td><td>auto                                  </td><td style=\"text-align: right;\">                                         1</td><td style=\"text-align: right;\">                                          5</td><td style=\"text-align: right;\">                                    70</td><td style=\"text-align: right;\">     0</td><td style=\"text-align: right;\">        1.08399 </td></tr>\n",
       "<tr><td>e2e_simple_training_00001</td><td>TERMINATED</td><td>     </td><td style=\"text-align: right;\">                                  1</td><td>gini                               </td><td>log2                                  </td><td style=\"text-align: right;\">                                         1</td><td style=\"text-align: right;\">                                          5</td><td style=\"text-align: right;\">                                    16</td><td style=\"text-align: right;\">     0</td><td style=\"text-align: right;\">        0.254207</td></tr>\n",
       "<tr><td>e2e_simple_training_00002</td><td>TERMINATED</td><td>     </td><td style=\"text-align: right;\">                                  0</td><td>entropy                            </td><td>auto                                  </td><td style=\"text-align: right;\">                                         3</td><td style=\"text-align: right;\">                                          4</td><td style=\"text-align: right;\">                                    52</td><td style=\"text-align: right;\">     0</td><td style=\"text-align: right;\">        0.890486</td></tr>\n",
       "<tr><td>e2e_simple_training_00003</td><td>TERMINATED</td><td>     </td><td style=\"text-align: right;\">                                  1</td><td>entropy                            </td><td>auto                                  </td><td style=\"text-align: right;\">                                         2</td><td style=\"text-align: right;\">                                          5</td><td style=\"text-align: right;\">                                     8</td><td style=\"text-align: right;\">     0</td><td style=\"text-align: right;\">        0.177437</td></tr>\n",
       "<tr><td>e2e_simple_training_00004</td><td>TERMINATED</td><td>     </td><td style=\"text-align: right;\">                                  1</td><td>gini                               </td><td>log2                                  </td><td style=\"text-align: right;\">                                         3</td><td style=\"text-align: right;\">                                          4</td><td style=\"text-align: right;\">                                   137</td><td style=\"text-align: right;\">     0</td><td style=\"text-align: right;\">        2.03782 </td></tr>\n",
       "<tr><td>e2e_simple_training_00005</td><td>TERMINATED</td><td>     </td><td style=\"text-align: right;\">                                  0</td><td>gini                               </td><td>log2                                  </td><td style=\"text-align: right;\">                                         1</td><td style=\"text-align: right;\">                                          5</td><td style=\"text-align: right;\">                                    79</td><td style=\"text-align: right;\">     0</td><td style=\"text-align: right;\">        0.9995  </td></tr>\n",
       "<tr><td>e2e_simple_training_00006</td><td>TERMINATED</td><td>     </td><td style=\"text-align: right;\">                                  1</td><td>entropy                            </td><td>log2                                  </td><td style=\"text-align: right;\">                                         3</td><td style=\"text-align: right;\">                                          3</td><td style=\"text-align: right;\">                                   128</td><td style=\"text-align: right;\">     0</td><td style=\"text-align: right;\">        2.33964 </td></tr>\n",
       "<tr><td>e2e_simple_training_00007</td><td>TERMINATED</td><td>     </td><td style=\"text-align: right;\">                                  0</td><td>gini                               </td><td>auto                                  </td><td style=\"text-align: right;\">                                         3</td><td style=\"text-align: right;\">                                          3</td><td style=\"text-align: right;\">                                    73</td><td style=\"text-align: right;\">     0</td><td style=\"text-align: right;\">        0.970966</td></tr>\n",
       "<tr><td>e2e_simple_training_00008</td><td>TERMINATED</td><td>     </td><td style=\"text-align: right;\">                                  1</td><td>gini                               </td><td>log2                                  </td><td style=\"text-align: right;\">                                         1</td><td style=\"text-align: right;\">                                          3</td><td style=\"text-align: right;\">                                    92</td><td style=\"text-align: right;\">     0</td><td style=\"text-align: right;\">        1.84014 </td></tr>\n",
       "<tr><td>e2e_simple_training_00009</td><td>TERMINATED</td><td>     </td><td style=\"text-align: right;\">                                  0</td><td>gini                               </td><td>auto                                  </td><td style=\"text-align: right;\">                                         1</td><td style=\"text-align: right;\">                                          3</td><td style=\"text-align: right;\">                                    68</td><td style=\"text-align: right;\">     0</td><td style=\"text-align: right;\">        1.18678 </td></tr>\n",
       "<tr><td>e2e_simple_training_00010</td><td>TERMINATED</td><td>     </td><td style=\"text-align: right;\">                                  0</td><td>entropy                            </td><td>log2                                  </td><td style=\"text-align: right;\">                                         2</td><td style=\"text-align: right;\">                                          4</td><td style=\"text-align: right;\">                                    70</td><td style=\"text-align: right;\">     0</td><td style=\"text-align: right;\">        1.03274 </td></tr>\n",
       "<tr><td>e2e_simple_training_00011</td><td>TERMINATED</td><td>     </td><td style=\"text-align: right;\">                                  1</td><td>entropy                            </td><td>sqrt                                  </td><td style=\"text-align: right;\">                                         3</td><td style=\"text-align: right;\">                                          4</td><td style=\"text-align: right;\">                                    27</td><td style=\"text-align: right;\">     0</td><td style=\"text-align: right;\">        0.518848</td></tr>\n",
       "<tr><td>e2e_simple_training_00012</td><td>TERMINATED</td><td>     </td><td style=\"text-align: right;\">                                  0</td><td>gini                               </td><td>auto                                  </td><td style=\"text-align: right;\">                                         1</td><td style=\"text-align: right;\">                                          3</td><td style=\"text-align: right;\">                                   113</td><td style=\"text-align: right;\">     0</td><td style=\"text-align: right;\">        1.95108 </td></tr>\n",
       "<tr><td>e2e_simple_training_00013</td><td>TERMINATED</td><td>     </td><td style=\"text-align: right;\">                                  1</td><td>entropy                            </td><td>sqrt                                  </td><td style=\"text-align: right;\">                                         2</td><td style=\"text-align: right;\">                                          5</td><td style=\"text-align: right;\">                                    61</td><td style=\"text-align: right;\">     0</td><td style=\"text-align: right;\">        1.31188 </td></tr>\n",
       "<tr><td>e2e_simple_training_00014</td><td>TERMINATED</td><td>     </td><td style=\"text-align: right;\">                                  1</td><td>entropy                            </td><td>auto                                  </td><td style=\"text-align: right;\">                                         3</td><td style=\"text-align: right;\">                                          5</td><td style=\"text-align: right;\">                                   130</td><td style=\"text-align: right;\">     0</td><td style=\"text-align: right;\">        2.31193 </td></tr>\n",
       "<tr><td>e2e_simple_training_00015</td><td>TERMINATED</td><td>     </td><td style=\"text-align: right;\">                                  1</td><td>gini                               </td><td>sqrt                                  </td><td style=\"text-align: right;\">                                         2</td><td style=\"text-align: right;\">                                          3</td><td style=\"text-align: right;\">                                    37</td><td style=\"text-align: right;\">     0</td><td style=\"text-align: right;\">        0.658046</td></tr>\n",
       "<tr><td>e2e_simple_training_00016</td><td>TERMINATED</td><td>     </td><td style=\"text-align: right;\">                                  0</td><td>entropy                            </td><td>log2                                  </td><td style=\"text-align: right;\">                                         1</td><td style=\"text-align: right;\">                                          3</td><td style=\"text-align: right;\">                                    82</td><td style=\"text-align: right;\">     0</td><td style=\"text-align: right;\">        1.36168 </td></tr>\n",
       "<tr><td>e2e_simple_training_00017</td><td>TERMINATED</td><td>     </td><td style=\"text-align: right;\">                                  1</td><td>entropy                            </td><td>sqrt                                  </td><td style=\"text-align: right;\">                                         3</td><td style=\"text-align: right;\">                                          5</td><td style=\"text-align: right;\">                                   115</td><td style=\"text-align: right;\">     0</td><td style=\"text-align: right;\">        2.49724 </td></tr>\n",
       "<tr><td>e2e_simple_training_00018</td><td>TERMINATED</td><td>     </td><td style=\"text-align: right;\">                                  0</td><td>entropy                            </td><td>sqrt                                  </td><td style=\"text-align: right;\">                                         3</td><td style=\"text-align: right;\">                                          3</td><td style=\"text-align: right;\">                                    50</td><td style=\"text-align: right;\">     0</td><td style=\"text-align: right;\">        1.25405 </td></tr>\n",
       "<tr><td>e2e_simple_training_00019</td><td>TERMINATED</td><td>     </td><td style=\"text-align: right;\">                                  0</td><td>entropy                            </td><td>sqrt                                  </td><td style=\"text-align: right;\">                                         1</td><td style=\"text-align: right;\">                                          4</td><td style=\"text-align: right;\">                                     4</td><td style=\"text-align: right;\">     0</td><td style=\"text-align: right;\">        0.157919</td></tr>\n",
       "<tr><td>e2e_simple_training_00020</td><td>TERMINATED</td><td>     </td><td style=\"text-align: right;\">                                  0</td><td>entropy                            </td><td>sqrt                                  </td><td style=\"text-align: right;\">                                         1</td><td style=\"text-align: right;\">                                          4</td><td style=\"text-align: right;\">                                    13</td><td style=\"text-align: right;\">     0</td><td style=\"text-align: right;\">        0.466832</td></tr>\n",
       "<tr><td>e2e_simple_training_00021</td><td>TERMINATED</td><td>     </td><td style=\"text-align: right;\">                                  0</td><td>entropy                            </td><td>log2                                  </td><td style=\"text-align: right;\">                                         3</td><td style=\"text-align: right;\">                                          3</td><td style=\"text-align: right;\">                                     2</td><td style=\"text-align: right;\">     0</td><td style=\"text-align: right;\">        0.141888</td></tr>\n",
       "<tr><td>e2e_simple_training_00022</td><td>TERMINATED</td><td>     </td><td style=\"text-align: right;\">                                  0</td><td>gini                               </td><td>auto                                  </td><td style=\"text-align: right;\">                                         3</td><td style=\"text-align: right;\">                                          4</td><td style=\"text-align: right;\">                                    42</td><td style=\"text-align: right;\">     0</td><td style=\"text-align: right;\">        1.05244 </td></tr>\n",
       "<tr><td>e2e_simple_training_00023</td><td>TERMINATED</td><td>     </td><td style=\"text-align: right;\">                                  0</td><td>entropy                            </td><td>log2                                  </td><td style=\"text-align: right;\">                                         1</td><td style=\"text-align: right;\">                                          3</td><td style=\"text-align: right;\">                                    99</td><td style=\"text-align: right;\">     0</td><td style=\"text-align: right;\">        1.51821 </td></tr>\n",
       "<tr><td>e2e_simple_training_00024</td><td>TERMINATED</td><td>     </td><td style=\"text-align: right;\">                                  1</td><td>entropy                            </td><td>sqrt                                  </td><td style=\"text-align: right;\">                                         1</td><td style=\"text-align: right;\">                                          5</td><td style=\"text-align: right;\">                                    60</td><td style=\"text-align: right;\">     0</td><td style=\"text-align: right;\">        1.08004 </td></tr>\n",
       "<tr><td>e2e_simple_training_00025</td><td>TERMINATED</td><td>     </td><td style=\"text-align: right;\">                                  1</td><td>entropy                            </td><td>auto                                  </td><td style=\"text-align: right;\">                                         1</td><td style=\"text-align: right;\">                                          4</td><td style=\"text-align: right;\">                                   102</td><td style=\"text-align: right;\">     0</td><td style=\"text-align: right;\">        1.43998 </td></tr>\n",
       "<tr><td>e2e_simple_training_00026</td><td>TERMINATED</td><td>     </td><td style=\"text-align: right;\">                                  1</td><td>entropy                            </td><td>log2                                  </td><td style=\"text-align: right;\">                                         3</td><td style=\"text-align: right;\">                                          4</td><td style=\"text-align: right;\">                                    38</td><td style=\"text-align: right;\">     0</td><td style=\"text-align: right;\">        0.570698</td></tr>\n",
       "<tr><td>e2e_simple_training_00027</td><td>TERMINATED</td><td>     </td><td style=\"text-align: right;\">                                  0</td><td>entropy                            </td><td>sqrt                                  </td><td style=\"text-align: right;\">                                         1</td><td style=\"text-align: right;\">                                          4</td><td style=\"text-align: right;\">                                   108</td><td style=\"text-align: right;\">     0</td><td style=\"text-align: right;\">        1.97297 </td></tr>\n",
       "<tr><td>e2e_simple_training_00028</td><td>TERMINATED</td><td>     </td><td style=\"text-align: right;\">                                  0</td><td>entropy                            </td><td>auto                                  </td><td style=\"text-align: right;\">                                         1</td><td style=\"text-align: right;\">                                          3</td><td style=\"text-align: right;\">                                    56</td><td style=\"text-align: right;\">     0</td><td style=\"text-align: right;\">        0.919693</td></tr>\n",
       "<tr><td>e2e_simple_training_00029</td><td>TERMINATED</td><td>     </td><td style=\"text-align: right;\">                                  0</td><td>gini                               </td><td>sqrt                                  </td><td style=\"text-align: right;\">                                         1</td><td style=\"text-align: right;\">                                          3</td><td style=\"text-align: right;\">                                     9</td><td style=\"text-align: right;\">     0</td><td style=\"text-align: right;\">        0.253031</td></tr>\n",
       "<tr><td>e2e_simple_training_00030</td><td>TERMINATED</td><td>     </td><td style=\"text-align: right;\">                                  1</td><td>entropy                            </td><td>log2                                  </td><td style=\"text-align: right;\">                                         3</td><td style=\"text-align: right;\">                                          4</td><td style=\"text-align: right;\">                                    82</td><td style=\"text-align: right;\">     0</td><td style=\"text-align: right;\">        1.24421 </td></tr>\n",
       "<tr><td>e2e_simple_training_00031</td><td>TERMINATED</td><td>     </td><td style=\"text-align: right;\">                                  0</td><td>entropy                            </td><td>auto                                  </td><td style=\"text-align: right;\">                                         1</td><td style=\"text-align: right;\">                                          3</td><td style=\"text-align: right;\">                                    78</td><td style=\"text-align: right;\">     0</td><td style=\"text-align: right;\">        1.44248 </td></tr>\n",
       "<tr><td>e2e_simple_training_00032</td><td>TERMINATED</td><td>     </td><td style=\"text-align: right;\">                                  1</td><td>entropy                            </td><td>sqrt                                  </td><td style=\"text-align: right;\">                                         3</td><td style=\"text-align: right;\">                                          4</td><td style=\"text-align: right;\">                                    69</td><td style=\"text-align: right;\">     0</td><td style=\"text-align: right;\">        1.75932 </td></tr>\n",
       "<tr><td>e2e_simple_training_00033</td><td>TERMINATED</td><td>     </td><td style=\"text-align: right;\">                                  1</td><td>entropy                            </td><td>log2                                  </td><td style=\"text-align: right;\">                                         2</td><td style=\"text-align: right;\">                                          4</td><td style=\"text-align: right;\">                                     8</td><td style=\"text-align: right;\">     0</td><td style=\"text-align: right;\">        0.194086</td></tr>\n",
       "<tr><td>e2e_simple_training_00034</td><td>TERMINATED</td><td>     </td><td style=\"text-align: right;\">                                  1</td><td>gini                               </td><td>auto                                  </td><td style=\"text-align: right;\">                                         3</td><td style=\"text-align: right;\">                                          5</td><td style=\"text-align: right;\">                                   130</td><td style=\"text-align: right;\">     0</td><td style=\"text-align: right;\">        1.98571 </td></tr>\n",
       "<tr><td>e2e_simple_training_00035</td><td>TERMINATED</td><td>     </td><td style=\"text-align: right;\">                                  0</td><td>gini                               </td><td>auto                                  </td><td style=\"text-align: right;\">                                         3</td><td style=\"text-align: right;\">                                          3</td><td style=\"text-align: right;\">                                   110</td><td style=\"text-align: right;\">     0</td><td style=\"text-align: right;\">        1.95606 </td></tr>\n",
       "<tr><td>e2e_simple_training_00036</td><td>TERMINATED</td><td>     </td><td style=\"text-align: right;\">                                  0</td><td>entropy                            </td><td>log2                                  </td><td style=\"text-align: right;\">                                         3</td><td style=\"text-align: right;\">                                          3</td><td style=\"text-align: right;\">                                    46</td><td style=\"text-align: right;\">     0</td><td style=\"text-align: right;\">        0.699907</td></tr>\n",
       "<tr><td>e2e_simple_training_00037</td><td>TERMINATED</td><td>     </td><td style=\"text-align: right;\">                                  1</td><td>entropy                            </td><td>log2                                  </td><td style=\"text-align: right;\">                                         3</td><td style=\"text-align: right;\">                                          3</td><td style=\"text-align: right;\">                                    80</td><td style=\"text-align: right;\">     0</td><td style=\"text-align: right;\">        1.24565 </td></tr>\n",
       "<tr><td>e2e_simple_training_00038</td><td>TERMINATED</td><td>     </td><td style=\"text-align: right;\">                                  0</td><td>gini                               </td><td>log2                                  </td><td style=\"text-align: right;\">                                         3</td><td style=\"text-align: right;\">                                          3</td><td style=\"text-align: right;\">                                    55</td><td style=\"text-align: right;\">     0</td><td style=\"text-align: right;\">        0.753519</td></tr>\n",
       "<tr><td>e2e_simple_training_00039</td><td>TERMINATED</td><td>     </td><td style=\"text-align: right;\">                                  0</td><td>gini                               </td><td>sqrt                                  </td><td style=\"text-align: right;\">                                         2</td><td style=\"text-align: right;\">                                          4</td><td style=\"text-align: right;\">                                    76</td><td style=\"text-align: right;\">     0</td><td style=\"text-align: right;\">        1.20073 </td></tr>\n",
       "<tr><td>e2e_simple_training_00040</td><td>TERMINATED</td><td>     </td><td style=\"text-align: right;\">                                  1</td><td>gini                               </td><td>auto                                  </td><td style=\"text-align: right;\">                                         3</td><td style=\"text-align: right;\">                                          5</td><td style=\"text-align: right;\">                                   143</td><td style=\"text-align: right;\">     0</td><td style=\"text-align: right;\">        2.1543  </td></tr>\n",
       "<tr><td>e2e_simple_training_00041</td><td>TERMINATED</td><td>     </td><td style=\"text-align: right;\">                                  1</td><td>entropy                            </td><td>log2                                  </td><td style=\"text-align: right;\">                                         2</td><td style=\"text-align: right;\">                                          5</td><td style=\"text-align: right;\">                                    79</td><td style=\"text-align: right;\">     0</td><td style=\"text-align: right;\">        1.53039 </td></tr>\n",
       "<tr><td>e2e_simple_training_00042</td><td>TERMINATED</td><td>     </td><td style=\"text-align: right;\">                                  0</td><td>gini                               </td><td>log2                                  </td><td style=\"text-align: right;\">                                         2</td><td style=\"text-align: right;\">                                          4</td><td style=\"text-align: right;\">                                    27</td><td style=\"text-align: right;\">     0</td><td style=\"text-align: right;\">        0.528847</td></tr>\n",
       "<tr><td>e2e_simple_training_00043</td><td>TERMINATED</td><td>     </td><td style=\"text-align: right;\">                                  1</td><td>gini                               </td><td>log2                                  </td><td style=\"text-align: right;\">                                         1</td><td style=\"text-align: right;\">                                          5</td><td style=\"text-align: right;\">                                    70</td><td style=\"text-align: right;\">     0</td><td style=\"text-align: right;\">        1.10999 </td></tr>\n",
       "<tr><td>e2e_simple_training_00044</td><td>TERMINATED</td><td>     </td><td style=\"text-align: right;\">                                  0</td><td>entropy                            </td><td>log2                                  </td><td style=\"text-align: right;\">                                         3</td><td style=\"text-align: right;\">                                          5</td><td style=\"text-align: right;\">                                    66</td><td style=\"text-align: right;\">     0</td><td style=\"text-align: right;\">        0.848209</td></tr>\n",
       "<tr><td>e2e_simple_training_00045</td><td>TERMINATED</td><td>     </td><td style=\"text-align: right;\">                                  0</td><td>gini                               </td><td>sqrt                                  </td><td style=\"text-align: right;\">                                         2</td><td style=\"text-align: right;\">                                          5</td><td style=\"text-align: right;\">                                    70</td><td style=\"text-align: right;\">     0</td><td style=\"text-align: right;\">        0.974235</td></tr>\n",
       "<tr><td>e2e_simple_training_00046</td><td>TERMINATED</td><td>     </td><td style=\"text-align: right;\">                                  1</td><td>gini                               </td><td>log2                                  </td><td style=\"text-align: right;\">                                         2</td><td style=\"text-align: right;\">                                          3</td><td style=\"text-align: right;\">                                     8</td><td style=\"text-align: right;\">     0</td><td style=\"text-align: right;\">        0.139647</td></tr>\n",
       "<tr><td>e2e_simple_training_00047</td><td>TERMINATED</td><td>     </td><td style=\"text-align: right;\">                                  0</td><td>entropy                            </td><td>sqrt                                  </td><td style=\"text-align: right;\">                                         3</td><td style=\"text-align: right;\">                                          4</td><td style=\"text-align: right;\">                                    62</td><td style=\"text-align: right;\">     0</td><td style=\"text-align: right;\">        0.744487</td></tr>\n",
       "<tr><td>e2e_simple_training_00048</td><td>TERMINATED</td><td>     </td><td style=\"text-align: right;\">                                  1</td><td>entropy                            </td><td>auto                                  </td><td style=\"text-align: right;\">                                         2</td><td style=\"text-align: right;\">                                          3</td><td style=\"text-align: right;\">                                   140</td><td style=\"text-align: right;\">     0</td><td style=\"text-align: right;\">        1.56959 </td></tr>\n",
       "<tr><td>e2e_simple_training_00049</td><td>TERMINATED</td><td>     </td><td style=\"text-align: right;\">                                  1</td><td>entropy                            </td><td>auto                                  </td><td style=\"text-align: right;\">                                         1</td><td style=\"text-align: right;\">                                          4</td><td style=\"text-align: right;\">                                    76</td><td style=\"text-align: right;\">     0</td><td style=\"text-align: right;\">        0.835224</td></tr>\n",
       "</tbody>\n",
       "</table><br><br>"
      ],
      "text/plain": [
       "<IPython.core.display.HTML object>"
      ]
     },
     "metadata": {},
     "output_type": "display_data"
    }
   ],
   "source": [
    "analysis = tune.run(\n",
    "                e2e_simple_training,\n",
    "                config=ray_tuning_config,\n",
    "    \n",
    "                num_samples=50, # Specify the number of samples to make from (non grid) distributions\n",
    "    \n",
    "                resources_per_trial=dict(cpu=1, gpu=0))"
   ]
  },
  {
   "cell_type": "code",
   "execution_count": 6,
   "metadata": {},
   "outputs": [
    {
     "name": "stdout",
     "output_type": "stream",
     "text": [
      "Best config: \n",
      "{'randomforestclassifier__bootstrap': False,\n",
      " 'randomforestclassifier__criterion': 'entropy',\n",
      " 'randomforestclassifier__max_features': 'auto',\n",
      " 'randomforestclassifier__min_samples_leaf': 1,\n",
      " 'randomforestclassifier__min_samples_split': 3,\n",
      " 'randomforestclassifier__n_estimators': 78}\n"
     ]
    }
   ],
   "source": [
    "from pprint import pprint\n",
    "print(\"Best config: \")\n",
    "pprint(analysis.get_best_config(metric=\"mean_f1_score\"))"
   ]
  },
  {
   "cell_type": "code",
   "execution_count": 7,
   "metadata": {},
   "outputs": [],
   "source": [
    "df = analysis.dataframe()\n",
    "top_n_df = df.nlargest(10, \"mean_f1_score\")"
   ]
  },
  {
   "cell_type": "code",
   "execution_count": 8,
   "metadata": {},
   "outputs": [
    {
     "data": {
      "image/png": "[encoded data removed]",
      "text/plain": [
       "<Figure size 1152x432 with 1 Axes>"
      ]
     },
     "metadata": {},
     "output_type": "display_data"
    }
   ],
   "source": [
    "plot_some_tune_results(top_n_df)"
   ]
  },
  {
   "cell_type": "code",
   "execution_count": 10,
   "metadata": {},
   "outputs": [
    {
     "data": {
      "text/plain": [
       "Reusing TensorBoard on port 6006 (pid 56090), started 0:05:37 ago. (Use '!kill 56090' to kill it.)"
      ]
     },
     "metadata": {},
     "output_type": "display_data"
    },
    {
     "data": {
      "text/html": [
       "\n",
       "      <iframe id=\"tensorboard-frame-afb59e6d57aa2cd2\" width=\"100%\" height=\"800\" frameborder=\"0\">\n",
       "      </iframe>\n",
       "      <script>\n",
       "        (function() {\n",
       "          const frame = document.getElementById(\"tensorboard-frame-afb59e6d57aa2cd2\");\n",
       "          const url = new URL(\"/\", window.location);\n",
       "          url.port = 6006;\n",
       "          frame.src = url;\n",
       "        })();\n",
       "      </script>\n",
       "  "
      ],
      "text/plain": [
       "<IPython.core.display.HTML object>"
      ]
     },
     "metadata": {},
     "output_type": "display_data"
    }
   ],
   "source": [
    "%load_ext tensorboard\n",
    "from tensorboard import notebook \n",
    "%tensorboard --logdir \"~/ray_results/grid_search\""
   ]
  },
  {
   "cell_type": "code",
   "execution_count": 11,
   "metadata": {},
   "outputs": [],
   "source": [
    "ray.shutdown()"
   ]
  },
  {
   "cell_type": "code",
   "execution_count": null,
   "metadata": {},
   "outputs": [],
   "source": []
  }
 ],
 "metadata": {
  "kernelspec": {
   "display_name": "Python 3",
   "language": "python",
   "name": "python3"
  },
  "language_info": {
   "codemirror_mode": {
    "name": "ipython",
    "version": 3
   },
   "file_extension": ".py",
   "mimetype": "text/x-python",
   "name": "python",
   "nbconvert_exporter": "python",
   "pygments_lexer": "ipython3",
   "version": "3.8.3"
  }
 },
 "nbformat": 4,
 "nbformat_minor": 4
}
