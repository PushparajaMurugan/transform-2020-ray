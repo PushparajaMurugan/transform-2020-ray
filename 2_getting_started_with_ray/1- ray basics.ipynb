{
 "cells": [
  {
   "cell_type": "markdown",
   "metadata": {},
   "source": [
    "# Ray Basics\n",
    "\n",
    "\n",
    "![](ray_header_logo.png)\n",
    "\n",
    "\n",
    "\n",
    "Ray is a growing project not yet at v1.0, its growing fast, is supported by a commerical outfit AnyScale\n",
    "\n",
    "[The documentation is great but big](https://docs.ray.io/en/latest/index.html)\n",
    "\n",
    "[There are great tutorials](https://docs.ray.io/en/latest/auto_examples/overview.html#ray-tutorials-and-examples)\n",
    "\n",
    "For tune there are a set of [colab notebooks with cool examples](https://docs.ray.io/en/latest/tune/tutorials/overview.html)\n",
    "\n",
    "Here we are just going to look at one way of using Ray for some in domain examples\n"
   ]
  },
  {
   "cell_type": "code",
   "execution_count": null,
   "metadata": {},
   "outputs": [],
   "source": [
    "%load_ext autoreload\n",
    "%autoreload 2\n",
    "\n",
    "from dependencies import *"
   ]
  },
  {
   "cell_type": "code",
   "execution_count": null,
   "metadata": {},
   "outputs": [],
   "source": [
    "import ray"
   ]
  },
  {
   "cell_type": "markdown",
   "metadata": {},
   "source": [
    "Start the ray \"cluster\" and go and check the dashboard\n",
    "\n",
    " - cpus\n",
    " - gpus\n",
    " - local_mode"
   ]
  },
  {
   "cell_type": "code",
   "execution_count": null,
   "metadata": {},
   "outputs": [],
   "source": [
    "ray.init()"
   ]
  },
  {
   "cell_type": "code",
   "execution_count": null,
   "metadata": {},
   "outputs": [],
   "source": [
    "ray.shutdown()"
   ]
  },
  {
   "cell_type": "markdown",
   "metadata": {},
   "source": [
    "Ray allows you to define remote functions that will be executed on the cluster"
   ]
  },
  {
   "cell_type": "code",
   "execution_count": null,
   "metadata": {},
   "outputs": [],
   "source": [
    "@ray.remote\n",
    "def f(x):\n",
    "    x = 0\n",
    "    for burn_cycles in range(2): # burn more cysles to see the cluster blip\n",
    "        x += burn_cycles\n",
    "    return x**0.5"
   ]
  },
  {
   "cell_type": "code",
   "execution_count": null,
   "metadata": {},
   "outputs": [],
   "source": [
    "futures = [f.remote(i) for i in range(400)]\n",
    "print(ray.get(futures))"
   ]
  },
  {
   "cell_type": "markdown",
   "metadata": {},
   "source": [
    "Ray allows you to write obect based code which they call `Actors` which can maintian state, and also be executed on the cluster"
   ]
  },
  {
   "cell_type": "code",
   "execution_count": null,
   "metadata": {},
   "outputs": [],
   "source": [
    "ray.shutdown()\n",
    "ray.init()"
   ]
  },
  {
   "cell_type": "code",
   "execution_count": null,
   "metadata": {},
   "outputs": [],
   "source": [
    "@ray.remote\n",
    "class Counter(object):\n",
    "    def __init__(self):\n",
    "        self.n = 0\n",
    "\n",
    "    def increment(self):\n",
    "        self.n += 1\n",
    "\n",
    "    def read(self):\n",
    "        return self.n"
   ]
  },
  {
   "cell_type": "code",
   "execution_count": null,
   "metadata": {},
   "outputs": [],
   "source": [
    "# setup N actors\n",
    "counters = [Counter.remote() for i in range(20)]\n",
    "\n",
    "# call actions on the Actors\n",
    "[c.increment.remote() for c in counters]\n",
    "\n",
    "# retrieve data from the actors\n",
    "futures = [c.read.remote() for c in counters]\n",
    "print(ray.get(futures))"
   ]
  },
  {
   "cell_type": "code",
   "execution_count": null,
   "metadata": {},
   "outputs": [],
   "source": []
  }
 ],
 "metadata": {
  "kernelspec": {
   "display_name": "Python 3",
   "language": "python",
   "name": "python3"
  },
  "language_info": {
   "codemirror_mode": {
    "name": "ipython",
    "version": 3
   },
   "file_extension": ".py",
   "mimetype": "text/x-python",
   "name": "python",
   "nbconvert_exporter": "python",
   "pygments_lexer": "ipython3",
   "version": "3.8.3"
  }
 },
 "nbformat": 4,
 "nbformat_minor": 4
}
