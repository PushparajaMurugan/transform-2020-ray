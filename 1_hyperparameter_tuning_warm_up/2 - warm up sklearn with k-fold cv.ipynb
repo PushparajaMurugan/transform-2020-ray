{
 "cells": [
  {
   "cell_type": "markdown",
   "metadata": {},
   "source": [
    "# Warm Up - KFold CV\n",
    "\n",
    "Next we get more formal and a bit more efficient about who we estimate out test scores.\n",
    "\n",
    "Now we use K-Fold cross validation to split our dataset into k folds, meaning k model runs"
   ]
  },
  {
   "cell_type": "markdown",
   "metadata": {},
   "source": [
    "## Dependencies\n",
    "\n",
    "Same as before except for `KFold`, `StratifiedKFold`"
   ]
  },
  {
   "cell_type": "code",
   "execution_count": 1,
   "metadata": {},
   "outputs": [],
   "source": [
    "import numpy as np\n",
    "import sklearn.datasets\n",
    "import sklearn.metrics\n",
    "from sklearn.model_selection import train_test_split\n",
    "\n",
    "import matplotlib.pyplot as plt\n",
    "import seaborn as sns\n",
    "sns.set()\n",
    "sns.set_context('talk')\n",
    "sns.set_style('whitegrid')"
   ]
  },
  {
   "cell_type": "code",
   "execution_count": 2,
   "metadata": {},
   "outputs": [],
   "source": [
    "from sklearn.preprocessing import RobustScaler\n",
    "from sklearn.ensemble import RandomForestClassifier\n",
    "from sklearn.pipeline import make_pipeline\n",
    "from sklearn.metrics import f1_score\n",
    "\n",
    "\n",
    "from sklearn.model_selection import KFold, StratifiedKFold"
   ]
  },
  {
   "cell_type": "markdown",
   "metadata": {},
   "source": [
    "Load the dataset"
   ]
  },
  {
   "cell_type": "code",
   "execution_count": 3,
   "metadata": {},
   "outputs": [],
   "source": [
    "features, labels = sklearn.datasets.load_breast_cancer(return_X_y=True)"
   ]
  },
  {
   "cell_type": "markdown",
   "metadata": {},
   "source": [
    "Setup our train function.\n",
    "\n",
    "This is amlost the same as before except now note the loop"
   ]
  },
  {
   "cell_type": "code",
   "execution_count": 4,
   "metadata": {},
   "outputs": [],
   "source": [
    "#\n",
    "# Our tran function nowe takes a \"splitter\"\n",
    "#\n",
    "def train(X, y, splitter):\n",
    "    \n",
    "    # we accumulate scores over each fold returned byt he splitter until complete\n",
    "    scores = []\n",
    "    for train_ind, test_ind in splitter.split(X, y):\n",
    "        \n",
    "        # no change here\n",
    "        pipeline = make_pipeline(RobustScaler(),\n",
    "                                  RandomForestClassifier(\n",
    "                                      n_estimators=15,\n",
    "                                      criterion=\"entropy\",\n",
    "                                      max_features=\"auto\",\n",
    "                                      bootstrap=True,\n",
    "                                      random_state=42))\n",
    "\n",
    "        pipeline.fit(X[train_ind], y[train_ind])\n",
    "        \n",
    "        y_pred = pipeline.predict(X[test_ind])\n",
    "        \n",
    "        \n",
    "        # append scores to the list\n",
    "        scores.append(f1_score(y_pred, y[test_ind]))\n",
    "        \n",
    "    # and just return the list\n",
    "    return np.array(scores)"
   ]
  },
  {
   "cell_type": "markdown",
   "metadata": {},
   "source": [
    "Next let's train, assume normal distributions again and compute stats from our scores"
   ]
  },
  {
   "cell_type": "code",
   "execution_count": 19,
   "metadata": {},
   "outputs": [
    {
     "name": "stdout",
     "output_type": "stream",
     "text": [
      "F1 Score 0.9650 +/- 0.018505796469726776\n"
     ]
    }
   ],
   "source": [
    "# this is now a kfold training run\n",
    "scores = train(features, labels, KFold(\n",
    "                                    n_splits=10, # try adjusting the splits\n",
    "                                    shuffle=True    \n",
    "                                ))\n",
    "\n",
    "cv_mu_1, cv_sigma_1 = scores.mean(), scores.std()\n",
    "\n",
    "print(f\"F1 Score {scores.mean():.4f} +/- {scores.std()}\")"
   ]
  },
  {
   "cell_type": "markdown",
   "metadata": {},
   "source": [
    "Run it again"
   ]
  },
  {
   "cell_type": "code",
   "execution_count": 20,
   "metadata": {},
   "outputs": [
    {
     "name": "stdout",
     "output_type": "stream",
     "text": [
      "F1 Score 0.9751 +/- 0.016681214531355366\n"
     ]
    }
   ],
   "source": [
    "# this is now a kfold training run\n",
    "scores = train(features, labels, KFold(\n",
    "                                    n_splits=10, # try adjusting the splits\n",
    "                                    shuffle=True\n",
    "                                ))\n",
    "\n",
    "cv_mu_2, cv_sigma_2 = scores.mean(), scores.std()\n",
    "\n",
    "print(f\"F1 Score {scores.mean():.4f} +/- {scores.std()}\")"
   ]
  },
  {
   "cell_type": "code",
   "execution_count": 21,
   "metadata": {},
   "outputs": [
    {
     "data": {
      "text/plain": [
       "Text(0.5, 1.0, 'Average F1 Score 0.975')"
      ]
     },
     "execution_count": 21,
     "metadata": {},
     "output_type": "execute_result"
    },
    {
     "data": {
      "image/png": "[encoded data removed]",
      "text/plain": [
       "<Figure size 1152x432 with 1 Axes>"
      ]
     },
     "metadata": {},
     "output_type": "display_data"
    }
   ],
   "source": [
    "from scipy.stats import norm\n",
    "import matplotlib.pyplot as plt\n",
    "fig, ax = plt.subplots(1, 1, figsize=(16,6))\n",
    "\n",
    "mu, sigma = norm.fit(scores)\n",
    "x = np.linspace(0.5, 1.0, 100)\n",
    "\n",
    "ax.plot(x, norm.pdf(x, cv_mu_1, cv_sigma_1), 'r-', alpha=0.6)\n",
    "ax.axvline(cv_mu_1, color=\"r\")\n",
    "\n",
    "ax.plot(x, norm.pdf(x, cv_mu_2, cv_sigma_2), 'g-', alpha=0.6)\n",
    "ax.axvline(cv_mu_2, color=\"g\")\n",
    "\n",
    "ax.set_title(f\"Average F1 Score {mu:.3f}\")"
   ]
  },
  {
   "cell_type": "markdown",
   "metadata": {},
   "source": [
    "exit\n",
    "\n",
    "So what have we just done?\n",
    " - shown how the performance of a model with a single set of hyperparameters affects our score\n",
    " - shown that kfold cv can give us a picture of that distribution which is easier to compute that out-of-bootstrap scores and has less leakage\n",
    " - so which model to choose? == in this case which data split, which is not what we want, we want to chose a robust estimator so we want to find a model with the best score distribution for a given set of hyperparameters"
   ]
  },
  {
   "cell_type": "code",
   "execution_count": null,
   "metadata": {},
   "outputs": [],
   "source": []
  }
 ],
 "metadata": {
  "kernelspec": {
   "display_name": "Python 3",
   "language": "python",
   "name": "python3"
  },
  "language_info": {
   "codemirror_mode": {
    "name": "ipython",
    "version": 3
   },
   "file_extension": ".py",
   "mimetype": "text/x-python",
   "name": "python",
   "nbconvert_exporter": "python",
   "pygments_lexer": "ipython3",
   "version": "3.7.6"
  }
 },
 "nbformat": 4,
 "nbformat_minor": 4
}
