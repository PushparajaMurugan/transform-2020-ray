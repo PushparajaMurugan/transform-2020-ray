{
 "cells": [
  {
   "cell_type": "markdown",
   "metadata": {},
   "source": [
    "# Let's Get Warmed Up\n",
    "\n",
    "we will start out with some simple sklearn models and a standard dataset. \n",
    "\n",
    "Whilst we are using this to get the brain pumping and looks at some patterns we'll see repeating throughout the tutorial, we also want to ask and explore some questions.\n",
    "\n",
    " - Why do we tune hyperparameters?\n",
    " - What's a hyperparameter?\n",
    " - Why do I need so much compute anyway? I can train my model in 3 mins, job done.\n",
    " - What do you mean my f1 validation score is a random variable?"
   ]
  },
  {
   "cell_type": "markdown",
   "metadata": {},
   "source": [
    "### Dependencies"
   ]
  },
  {
   "cell_type": "code",
   "execution_count": 2,
   "metadata": {},
   "outputs": [
    {
     "name": "stdout",
     "output_type": "stream",
     "text": [
      "\n"
     ]
    }
   ],
   "source": [
    "import numpy as np\n",
    "\n",
    "import matplotlib.pyplot as plt\n",
    "import seaborn as sns\n",
    "sns.set()\n",
    "sns.set_context('talk')\n",
    "sns.set_style('whitegrid')"
   ]
  },
  {
   "cell_type": "code",
   "execution_count": 3,
   "metadata": {},
   "outputs": [],
   "source": [
    "import sklearn.datasets\n",
    "import sklearn.metrics\n",
    "from sklearn.model_selection import train_test_split\n",
    "from sklearn.preprocessing import RobustScaler\n",
    "from sklearn.ensemble import RandomForestClassifier\n",
    "from sklearn.pipeline import make_pipeline\n",
    "from sklearn.metrics import f1_score"
   ]
  },
  {
   "cell_type": "markdown",
   "metadata": {},
   "source": [
    "## Dataset\n",
    "\n",
    "We are usig the Breast Cancer Dataset availale from sklearn.\n",
    "\n",
    "Originally from the UCI Machine Learning Data Repository\n",
    "\n",
    "![UCI](dataset.png)\n",
    "\n",
    "\n",
    "\n",
    "The dataset is a binary classification problem.\n"
   ]
  },
  {
   "cell_type": "code",
   "execution_count": 4,
   "metadata": {},
   "outputs": [],
   "source": [
    "features, labels = sklearn.datasets.load_breast_cancer(return_X_y=True)"
   ]
  },
  {
   "cell_type": "code",
   "execution_count": 5,
   "metadata": {},
   "outputs": [
    {
     "name": "stdout",
     "output_type": "stream",
     "text": [
      "30 features\n"
     ]
    },
    {
     "data": {
      "text/plain": [
       "[Text(0, 0, 'Benign'), Text(0, 0, 'Malignant')]"
      ]
     },
     "execution_count": 5,
     "metadata": {},
     "output_type": "execute_result"
    },
    {
     "data": {
      "image/png": "[encoded data removed]",
      "text/plain": [
       "<Figure size 432x288 with 1 Axes>"
      ]
     },
     "metadata": {},
     "output_type": "display_data"
    }
   ],
   "source": [
    "print(f\"{features.shape[-1]} features\")\n",
    "\n",
    "_=plt.hist(labels)\n",
    "plt.gca().set_xticks([0,1])\n",
    "plt.gca().set_xticklabels(['Benign','Malignant'])"
   ]
  },
  {
   "cell_type": "markdown",
   "metadata": {},
   "source": [
    "## Define a training function"
   ]
  },
  {
   "cell_type": "code",
   "execution_count": 6,
   "metadata": {},
   "outputs": [],
   "source": [
    "def train(features, labels):\n",
    "    \n",
    "    # randomly split the dataset, no seed, it's different each time\n",
    "    train_x, test_x, train_y, test_y = train_test_split(features,\n",
    "                                                        labels,\n",
    "                                                        test_size=0.25)\n",
    "    \n",
    "    # setup a pipeline\n",
    "    pipeline = make_pipeline(RobustScaler(),\n",
    "                              RandomForestClassifier(\n",
    "                                  n_estimators=15,\n",
    "                                  criterion=\"entropy\",\n",
    "                                  max_features=\"auto\",\n",
    "                                  bootstrap=True,\n",
    "                                  random_state=42   # freeze the seed of the estimator\n",
    "                              ))\n",
    "\n",
    "    pipeline.fit(train_x, train_y)\n",
    "    y_pred = pipeline.predict(test_x)\n",
    "    return f1_score(y_pred, test_y)"
   ]
  },
  {
   "cell_type": "code",
   "execution_count": 7,
   "metadata": {},
   "outputs": [
    {
     "name": "stdout",
     "output_type": "stream",
     "text": [
      "F1 Score 0.96517412935323376732555\n"
     ]
    }
   ],
   "source": [
    "score = train(features, labels)\n",
    "print(f\"F1 Score {score:.23f}\")"
   ]
  },
  {
   "cell_type": "markdown",
   "metadata": {},
   "source": [
    " - But is this the best score?\n",
    " - the only score?\n",
    " - or the 'right' score?"
   ]
  },
  {
   "cell_type": "code",
   "execution_count": 8,
   "metadata": {},
   "outputs": [
    {
     "name": "stdout",
     "output_type": "stream",
     "text": [
      "F1 Score 0.96629213483146081387076\n"
     ]
    }
   ],
   "source": [
    "score = train(features, labels)\n",
    "print(f\"F1 Score {score:.23f}\")"
   ]
  },
  {
   "cell_type": "code",
   "execution_count": 9,
   "metadata": {},
   "outputs": [
    {
     "name": "stdout",
     "output_type": "stream",
     "text": [
      "F1 Score 0.98342541436464081527902\n"
     ]
    }
   ],
   "source": [
    "score = train(features, labels)\n",
    "print(f\"F1 Score {score:.23f}\")"
   ]
  },
  {
   "cell_type": "code",
   "execution_count": 10,
   "metadata": {},
   "outputs": [
    {
     "name": "stdout",
     "output_type": "stream",
     "text": [
      "F1 Score 0.97267759562841538123479\n"
     ]
    }
   ],
   "source": [
    "score = train(features, labels)\n",
    "print(f\"F1 Score {score:.23f}\")"
   ]
  },
  {
   "cell_type": "markdown",
   "metadata": {},
   "source": [
    "They are all different, why?"
   ]
  },
  {
   "cell_type": "markdown",
   "metadata": {},
   "source": [
    "## Let's look many runs\n",
    "\n",
    "...and plot the histogram"
   ]
  },
  {
   "cell_type": "code",
   "execution_count": 12,
   "metadata": {},
   "outputs": [
    {
     "data": {
      "application/vnd.jupyter.widget-view+json": {
       "model_id": "c906bc1c21da47bc9c46531be0799201",
       "version_major": 2,
       "version_minor": 0
      },
      "text/plain": [
       "HBox(children=(FloatProgress(value=0.0, max=1000.0), HTML(value='')))"
      ]
     },
     "metadata": {},
     "output_type": "display_data"
    },
    {
     "name": "stdout",
     "output_type": "stream",
     "text": [
      "\n"
     ]
    },
    {
     "data": {
      "text/plain": [
       "<matplotlib.axes._subplots.AxesSubplot at 0x7f369d4fd290>"
      ]
     },
     "execution_count": 12,
     "metadata": {},
     "output_type": "execute_result"
    },
    {
     "data": {
      "image/png": "[encoded data removed]",
      "text/plain": [
       "<Figure size 432x288 with 1 Axes>"
      ]
     },
     "metadata": {},
     "output_type": "display_data"
    }
   ],
   "source": [
    "import matplotlib.pyplot as plt\n",
    "from tqdm.notebook import tqdm\n",
    "scores = []\n",
    "for n in tqdm(range(1000)):\n",
    "    scores.append(train(features, labels))\n",
    "# _=plt.hist(scores, 100)\n",
    "sns.distplot(scores)"
   ]
  },
  {
   "cell_type": "markdown",
   "metadata": {},
   "source": [
    "So the actual distribution is a bit skewed but is centered around a central peak and if we squint, might fit a normal distribution, to a rough approximation in any case.\n",
    "\n",
    "So let's model is with a normal distribution"
   ]
  },
  {
   "cell_type": "code",
   "execution_count": 16,
   "metadata": {},
   "outputs": [
    {
     "data": {
      "text/plain": [
       "Text(0.5, 1.0, 'Out of Bootstrap F1 Score Average: 0.966, Stddev 0.014 | Single Sample F1 Score 0.984')"
      ]
     },
     "execution_count": 16,
     "metadata": {},
     "output_type": "execute_result"
    },
    {
     "data": {
      "image/png": "[encoded data removed]",
      "text/plain": [
       "<Figure size 1152x432 with 1 Axes>"
      ]
     },
     "metadata": {},
     "output_type": "display_data"
    }
   ],
   "source": [
    "import matplotlib.pyplot as plt\n",
    "fig, ax = plt.subplots(1, 1, figsize=(16,6))\n",
    "\n",
    "from scipy.stats import norm\n",
    "\n",
    "# so let's fit a normal dist ot our scores\n",
    "mu, sigma = norm.fit(scores)\n",
    "x = np.linspace(0.5, 1.0, 100)\n",
    "\n",
    "# plot that and mark it's eman for clarity\n",
    "ax.plot(x, norm.pdf(x, mu, sigma), 'r-', alpha=0.6)\n",
    "ax.axvline(mu, color=\"r\")\n",
    "\n",
    "\n",
    "# and then let's generate another sample at random (trainnig again) and see where that lies\n",
    "score = train(features, labels)\n",
    "ax.axvline(score, color=\"b\")\n",
    "ax.set_title(f\"Out of Bootstrap F1 Score Average: {mu:.3f}, Stddev {sigma:.3f} | Single Sample F1 Score {score:.3f}\")"
   ]
  },
  {
   "cell_type": "markdown",
   "metadata": {},
   "source": [
    "## Takeaways\n",
    "\n",
    " - working with single validation & test scores aren't enough\n",
    " - scores from individual samples are biased towards thoses splits\n",
    " - if you have large datasets with well aligned probability distributions between train / var / test then maybe you'll be ok\n",
    " - Often we don't especially in subsurface\n",
    " - this is why we need mutliple models runs, and why we need compute"
   ]
  }
 ],
 "metadata": {
  "kernelspec": {
   "display_name": "Python 3",
   "language": "python",
   "name": "python3"
  },
  "language_info": {
   "codemirror_mode": {
    "name": "ipython",
    "version": 3
   },
   "file_extension": ".py",
   "mimetype": "text/x-python",
   "name": "python",
   "nbconvert_exporter": "python",
   "pygments_lexer": "ipython3",
   "version": "3.7.6"
  }
 },
 "nbformat": 4,
 "nbformat_minor": 4
}
